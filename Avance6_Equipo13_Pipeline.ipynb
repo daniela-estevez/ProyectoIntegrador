{
  "cells": [
    {
      "cell_type": "markdown",
      "metadata": {
        "id": "view-in-github",
        "colab_type": "text"
      },
      "source": [
        "<a href=\"https://colab.research.google.com/github/daniela-estevez/ProyectoIntegrador/blob/main/Avance6_Equipo13_Pipeline.ipynb\" target=\"_parent\"><img src=\"https://colab.research.google.com/assets/colab-badge.svg\" alt=\"Open In Colab\"/></a>"
      ]
    },
    {
      "cell_type": "markdown",
      "id": "bnHtyrAJCo3s",
      "metadata": {
        "id": "bnHtyrAJCo3s"
      },
      "source": [
        "# Avance 6. Conclusiones clave\n",
        "\n",
        "## Equipo 13\n",
        "\n",
        "## Alejandro García Hernández A01793812\n",
        "## Daniela Estevez Rodriguez A01793723\n",
        "## Carlos Alberto López Álvarez A01168193"
      ]
    },
    {
      "cell_type": "markdown",
      "id": "HOPH-TEIDF6Z",
      "metadata": {
        "id": "HOPH-TEIDF6Z"
      },
      "source": [
        "## Objetivos\n",
        "\n",
        "En este avance, se busca fundamentar si es viable implementar el modelo, evaluando su adecuación a los criterios de éxito previamente establecidos y considerando los resultados obtenidos durante la etapa de modelado."
      ]
    },
    {
      "cell_type": "markdown",
      "id": "yrLd5hs1LZMY",
      "metadata": {
        "id": "yrLd5hs1LZMY"
      },
      "source": [
        "## 0. Librerías"
      ]
    },
    {
      "cell_type": "code",
      "execution_count": 1,
      "id": "FxqiPB_ImQ5b",
      "metadata": {
        "id": "FxqiPB_ImQ5b"
      },
      "outputs": [],
      "source": [
        "import warnings\n",
        "warnings.filterwarnings(\"ignore\")\n",
        "import time"
      ]
    },
    {
      "cell_type": "code",
      "execution_count": 2,
      "id": "584809fc-6ced-4e75-ab2d-42baca19672d",
      "metadata": {
        "id": "584809fc-6ced-4e75-ab2d-42baca19672d"
      },
      "outputs": [],
      "source": [
        "# Librerías a utilizar para el pre procesamiento.\n",
        "\n",
        "import pandas as pd\n",
        "import numpy as np\n",
        "import seaborn as sns\n",
        "import matplotlib.pyplot as plt\n",
        "from sklearn.preprocessing import OneHotEncoder\n",
        "from sklearn.preprocessing import OrdinalEncoder\n",
        "from scipy.stats.mstats import winsorize\n",
        "from sklearn.preprocessing import LabelEncoder\n"
      ]
    },
    {
      "cell_type": "code",
      "execution_count": 3,
      "id": "e0IQnXOlrYOD",
      "metadata": {
        "id": "e0IQnXOlrYOD"
      },
      "outputs": [],
      "source": [
        "# Librerías para la sección de modelos supervisados y ensambles\n",
        "from sklearn.linear_model import LogisticRegression\n",
        "from sklearn.tree import DecisionTreeClassifier\n",
        "from sklearn.model_selection import train_test_split, cross_val_score, RepeatedStratifiedKFold, GridSearchCV, cross_val_predict\n",
        "from sklearn.metrics import confusion_matrix,f1_score, accuracy_score, classification_report, recall_score, make_scorer\n",
        "from sklearn.ensemble import RandomForestClassifier\n",
        "from sklearn.neural_network import MLPClassifier\n",
        "from sklearn.neighbors import KNeighborsClassifier\n",
        "from sklearn.svm import SVC\n",
        "from xgboost import XGBClassifier\n",
        "from sklearn.tree import export_graphviz\n",
        "import graphviz\n",
        "from IPython.display import display\n",
        "from xgboost import plot_importance\n",
        "from sklearn.preprocessing import LabelEncoder\n",
        "from sklearn.dummy import DummyClassifier\n",
        "\n",
        "from sklearn.ensemble import BaggingClassifier\n",
        "\n",
        "from imblearn.under_sampling import RandomUnderSampler, TomekLinks, EditedNearestNeighbours\n",
        "from imblearn.over_sampling import RandomOverSampler, SMOTE\n",
        "from imblearn.combine import SMOTEENN, SMOTETomek\n",
        "from sklearn.ensemble import ExtraTreesClassifier, GradientBoostingClassifier, AdaBoostClassifier\n",
        "\n",
        "from IPython.display import display_html"
      ]
    },
    {
      "cell_type": "code",
      "execution_count": 4,
      "id": "HtYYTTYS5nvS",
      "metadata": {
        "id": "HtYYTTYS5nvS",
        "colab": {
          "base_uri": "https://localhost:8080/"
        },
        "outputId": "ca39325f-0eff-4fff-86d3-2f7624a4b240"
      },
      "outputs": [
        {
          "output_type": "stream",
          "name": "stdout",
          "text": [
            "Mounted at /content/drive\n",
            "/content/drive/MyDrive/Colab Notebooks/Proyecto Integrador\n"
          ]
        }
      ],
      "source": [
        "# El siguiente bloque se agregó para poder leer los archivos drive\n",
        "from google.colab import drive\n",
        "drive.mount('/content/drive')\n",
        "%cd /content/drive/MyDrive/Colab Notebooks/Proyecto Integrador"
      ]
    },
    {
      "cell_type": "code",
      "execution_count": 5,
      "id": "fb3aeaaa",
      "metadata": {
        "id": "fb3aeaaa"
      },
      "outputs": [],
      "source": [
        "# Función para mostrar los DataFrames uno junto al otro con estilos\n",
        "def display_side_by_side(dfs, captions, color='lightgreen', axis=0):\n",
        "    html_str = ''\n",
        "    for caption, df in zip(captions, dfs):\n",
        "        html_str += '<div style=\"display: inline-block; padding: 10px;\">'\n",
        "        html_str += f'<h3>{caption}</h3>'\n",
        "        html_str += df.style.highlight_max(color=color, axis=axis).to_html()\n",
        "        html_str += '</div>'\n",
        "    display_html(html_str, raw=True)"
      ]
    },
    {
      "cell_type": "markdown",
      "id": "4oIRZ5ycHAh0",
      "metadata": {
        "id": "4oIRZ5ycHAh0"
      },
      "source": [
        "## 1. Preparación de datos"
      ]
    },
    {
      "cell_type": "markdown",
      "id": "rYyJMawgi4wt",
      "metadata": {
        "id": "rYyJMawgi4wt"
      },
      "source": [
        "Se aplica el pre procesamiento de los datos que se ha trabajado en semanas anteriores. Así, obtenemos dos conjuntos de datos para poder trabajar los datos con diferentes modelos. En el primer conjunto las variables ordinales son codificadas con LabelEncoder y en el segundo conjunto se les aplica OHE."
      ]
    },
    {
      "cell_type": "code",
      "execution_count": 10,
      "id": "5bef599b-eb4f-4d50-964f-451b7065f29a",
      "metadata": {
        "id": "5bef599b-eb4f-4d50-964f-451b7065f29a"
      },
      "outputs": [],
      "source": [
        "data = pd.read_csv(\"base.csv\",sep=\",\", encoding=\"latin1\")\n",
        "df= data.copy()"
      ]
    },
    {
      "cell_type": "code",
      "execution_count": 11,
      "id": "esYdsyF6PVJs",
      "metadata": {
        "id": "esYdsyF6PVJs"
      },
      "outputs": [],
      "source": [
        "# Eliminamos entonces estas características\n",
        "df = df.drop([\"Nombre\",\"residencia\",\"fecha_nacimiento\",\"fecha_1er_visita\",\"FECHA_INICIO_ACTUAL_EPISODIO\"], axis=1)\n",
        "df = df.dropna(axis=1, how='all')"
      ]
    },
    {
      "cell_type": "code",
      "execution_count": 12,
      "id": "aDLQ8X1Tozmn",
      "metadata": {
        "id": "aDLQ8X1Tozmn"
      },
      "outputs": [],
      "source": [
        "# Calculamos el porcentaje de valores nulos en cada columna\n",
        "null_percentage = (df.isnull().sum() / len(df)) * 100\n",
        "\n",
        "# Con el sguiente código, se crea un DataFrame con los porcentajes de valores nulos\n",
        "null_df = pd.DataFrame({'Columna': null_percentage.index, 'Porcentaje_Null': null_percentage.values})\n",
        "\n",
        "# Filtramos el DataFrame para mantener solo las columnas donde el porcentaje de valores nulos sea menor al 40%\n",
        "columnas_a_mantener = null_df[null_df['Porcentaje_Null'] < 40]['Columna']\n",
        "\n",
        "# Filtramos el DataFrame original para mantener solo las columnas que queremos conservar\n",
        "df = df[columnas_a_mantener]"
      ]
    },
    {
      "cell_type": "code",
      "execution_count": 13,
      "id": "MJTeBL1fmCEs",
      "metadata": {
        "id": "MJTeBL1fmCEs"
      },
      "outputs": [],
      "source": [
        "#Primero obtenemos las variables que reportan un solo valor y mostramos sus nombres\n",
        "unique_counts = df.nunique()\n",
        "columnas_a_eliminar = unique_counts[unique_counts == 1].index\n",
        "columnas_a_eliminar\n",
        "df = df.drop(columns=columnas_a_eliminar)"
      ]
    },
    {
      "cell_type": "code",
      "execution_count": 14,
      "id": "thcVkgNcRmfE",
      "metadata": {
        "colab": {
          "base_uri": "https://localhost:8080/"
        },
        "id": "thcVkgNcRmfE",
        "outputId": "33e341e7-d1ef-477c-fba3-3b2d2d3df23c"
      },
      "outputs": [
        {
          "output_type": "stream",
          "name": "stdout",
          "text": [
            "Numero de columnas binarias encontradas: 28\n"
          ]
        }
      ],
      "source": [
        "binary_columns = []\n",
        "for column in df.columns:\n",
        "    unique_values = df[column].unique()\n",
        "    if len(unique_values) == 2 and all(value in [0, 1] for value in unique_values):\n",
        "        binary_columns.append(column)\n",
        "\n",
        "# Número de columnas con solamente 0's o 1's\n",
        "print(\"Numero de columnas binarias encontradas:\", len(binary_columns))"
      ]
    },
    {
      "cell_type": "code",
      "execution_count": 15,
      "id": "cXeYMB32SnjY",
      "metadata": {
        "id": "cXeYMB32SnjY"
      },
      "outputs": [],
      "source": [
        "# Actualizamos el tipo de las columnas binarias a booleano usando astype()\n",
        "for column in binary_columns:\n",
        "    df[column] = df[column].astype(bool)"
      ]
    },
    {
      "cell_type": "code",
      "execution_count": 16,
      "id": "Sh7ne_k76UWz",
      "metadata": {
        "id": "Sh7ne_k76UWz"
      },
      "outputs": [],
      "source": [
        "# Lista de variables que son en realidad categóricas\n",
        "cat_cols=[\"SEXO\",\"CONDICION_ACTUAL\",\"ESTADO_civil\",\"RELIGION\",\"PROVEEDOR_FAMILIAR\",\"OCUPACIoN_JEFE_FAMILIA\",\"ESCOLARIDAD__JEFE_FAMILIA\",\n",
        "         \"ESCOLARIDAD_MAXIMA_PX\",\"DX_PRIMARIO\",\"CODIGO_DX.1\",\"TRASTORNO_MAYOR_DIAGNOSTICO\",\n",
        "         \"Riesgo_suicidio\",\"Sintomas_ansiosos\"]\n",
        "\n",
        "# Actualizamos el tipo de las columnas categoricas usando astype()\n",
        "for column in cat_cols:\n",
        "    df[column] = df[column].astype(\"category\")"
      ]
    },
    {
      "cell_type": "code",
      "execution_count": 17,
      "id": "LwFz8w-Q89Cj",
      "metadata": {
        "id": "LwFz8w-Q89Cj"
      },
      "outputs": [],
      "source": [
        "# Actualizamos el tipo de la columna MENARCA a uno numérico usando astype()\n",
        "df[\"MENARCA\"] = df[\"MENARCA\"].astype(\"float64\")"
      ]
    },
    {
      "cell_type": "code",
      "execution_count": 18,
      "id": "NTUrQhJ0yUqB",
      "metadata": {
        "id": "NTUrQhJ0yUqB"
      },
      "outputs": [],
      "source": [
        "# Sustituir los valores de MENARCA donde SEXO es \"M\"\n",
        "df.loc[df['SEXO'] == 'M', 'MENARCA'] = -1\n",
        "\n",
        "# Imputar la moda a las variables numéricas\n",
        "for columna in df.select_dtypes(include='number').columns:\n",
        "    df[columna] = df[columna].fillna(df[columna].median())\n",
        "\n",
        "# Imputar la moda a las variables booleanas\n",
        "for columna in df.select_dtypes(include='bool').columns:\n",
        "    moda = df[columna].mode()[0]  # Calcular la moda\n",
        "    df[columna] = df[columna].fillna(moda)\n",
        "\n",
        "# Imputar la moda a las variables alfanuméricas\n",
        "for columna in df.select_dtypes(include='category').columns:\n",
        "    moda = df[columna].mode()[0]  # Calcular la moda\n",
        "    df[columna] = df[columna].fillna(moda)"
      ]
    },
    {
      "cell_type": "code",
      "execution_count": 19,
      "id": "i-Z1k2A5_HMW",
      "metadata": {
        "id": "i-Z1k2A5_HMW"
      },
      "outputs": [],
      "source": [
        "# Lista de variables que son en realidad enteros\n",
        "enteros_cols=[\"EDAD_1era_visita\",\"EDAD_INICIO_1er_EPISODIO\",\"AnioS_ESTUDIO_PACIENTE\",\"MENARCA\",\"INICIO_VIDA_SEXUAL_ACTIVA\",\"MADRS_TOTAL\",\"CGI-S.1\"]\n",
        "\n",
        "# Actualizamos el tipo de las columnas de enteros usando astype()\n",
        "for column in enteros_cols:\n",
        "    df[column] = df[column].astype(\"int64\")"
      ]
    },
    {
      "cell_type": "code",
      "execution_count": 20,
      "id": "8hhEnd6h2pzf",
      "metadata": {
        "id": "8hhEnd6h2pzf"
      },
      "outputs": [],
      "source": [
        "# Eliminamos estas características\n",
        "df = df.drop([\"EPISODIO_MAYOR_total_vida\",\"SUICIDALIDAD_ACTUAL\",\"SUICIDALIDAD_INTENTO_total_vida\",\n",
        "              \"B1b_INTENCION_DE_MORIR_EN_ACCIDENTE\",\"B5_PENSO_METODO_SUICIDARSE\",\"B8_PENSO_FECHA_SUICIDIO\",\n",
        "              \"B10_INTENCION_SUICIDIO\",\"B18_INTENTO_SUICIDARSE\",\"B2_NECESIDAD_DE_ESTAR_MUERTO\",\"TRASTORNO_MAYOR_PASADO\"],\n",
        "             axis=1)"
      ]
    },
    {
      "cell_type": "code",
      "execution_count": 21,
      "id": "6ivNtjiUPnqV",
      "metadata": {
        "id": "6ivNtjiUPnqV"
      },
      "outputs": [],
      "source": [
        "# Eliminamos estas características\n",
        "df = df.drop([\"CODIGO_DX.1\",\"Puntaje_experto\"],\n",
        "             axis=1)"
      ]
    },
    {
      "cell_type": "code",
      "execution_count": 22,
      "id": "XNERi1gd5zCE",
      "metadata": {
        "id": "XNERi1gd5zCE"
      },
      "outputs": [],
      "source": [
        "# Reemplazar el valor 1955 por la mediana\n",
        "df['EDAD_INICIO_1er_EPISODIO'] = df['EDAD_INICIO_1er_EPISODIO'].replace(1955, df['EDAD_INICIO_1er_EPISODIO'].median())\n",
        "\n",
        "# Reemplazar el valor 1 por la mediana\n",
        "df['INICIO_VIDA_SEXUAL_ACTIVA'] = df['INICIO_VIDA_SEXUAL_ACTIVA'].replace(1, df['INICIO_VIDA_SEXUAL_ACTIVA'].median())"
      ]
    },
    {
      "cell_type": "code",
      "execution_count": 23,
      "id": "E0shO5sixh2O",
      "metadata": {
        "id": "E0shO5sixh2O"
      },
      "outputs": [],
      "source": [
        "# Realizamos una copia del df para realizar una trasnformación\n",
        "df_T=df.copy()"
      ]
    },
    {
      "cell_type": "markdown",
      "id": "ollbfoh41Bd3",
      "metadata": {
        "id": "ollbfoh41Bd3"
      },
      "source": [
        "**Winsonorización:** Reemplaza los valores atípicos con valores en el percentil p-ésimo o (1 - p)-ésimo para reducir su impacto sin eliminarlos."
      ]
    },
    {
      "cell_type": "code",
      "execution_count": 24,
      "id": "qQUCHi2g0zJm",
      "metadata": {
        "id": "qQUCHi2g0zJm"
      },
      "outputs": [],
      "source": [
        "# Transformamos las variables usando Winsonorización\n",
        "df_T['INICIO_VIDA_SEXUAL_ACTIVA_W'] = winsorize(df_T['INICIO_VIDA_SEXUAL_ACTIVA'], limits=(0.05, 0.05))\n",
        "df_T['DURACION_EPISODIO_MAYOR_ACTUAL_W'] = winsorize(df_T['DURACION_EPISODIO_MAYOR_ACTUAL'], limits=(0.05, 0.05))"
      ]
    },
    {
      "cell_type": "code",
      "execution_count": 25,
      "id": "3B5IIskH2EJ8",
      "metadata": {
        "id": "3B5IIskH2EJ8"
      },
      "outputs": [],
      "source": [
        "# Eliminamos estas características originales\n",
        "df_T = df_T.drop([\"INICIO_VIDA_SEXUAL_ACTIVA\",\"DURACION_EPISODIO_MAYOR_ACTUAL\"],\n",
        "             axis=1)"
      ]
    },
    {
      "cell_type": "code",
      "execution_count": 26,
      "id": "U7psvMyVncZ8",
      "metadata": {
        "id": "U7psvMyVncZ8"
      },
      "outputs": [],
      "source": [
        "# Hacemos listas de las variables ordinales\n",
        "cat_orginales= ['ESCOLARIDAD__JEFE_FAMILIA', 'ESCOLARIDAD_MAXIMA_PX', 'DX_PRIMARIO','TRASTORNO_MAYOR_DIAGNOSTICO',\n",
        "                'Riesgo_suicidio','Sintomas_ansiosos']"
      ]
    },
    {
      "cell_type": "code",
      "execution_count": 27,
      "id": "n4PyV3p9FmBR",
      "metadata": {
        "id": "n4PyV3p9FmBR"
      },
      "outputs": [],
      "source": [
        "# Creamos una copia del dataframe\n",
        "df_TC=df_T.copy()"
      ]
    },
    {
      "cell_type": "code",
      "execution_count": 28,
      "id": "fF7ve2zfCYHG",
      "metadata": {
        "id": "fF7ve2zfCYHG"
      },
      "outputs": [],
      "source": [
        "# Crear el encoder ordinal\n",
        "encoder_1 = OrdinalEncoder(categories=[[\"Menos de 6 años\", \"Primaria\", \"Secundaria\", \"Preparatoria\",\n",
        "                                     \"Estudios universitarios no terminados\", \"Licenciatura\", \"Posgrado\"]], dtype=int)\n",
        "encoder_2 = OrdinalEncoder(categories=[[\"Distimia\",\"Trastorno depresivo episodio único \",\n",
        "                                        \"Trastorno depresivo mayor recidivante\"]], dtype=int)\n",
        "encoder_3 = OrdinalEncoder(categories=[[\"0\",\"TRASTORNO DEPRESIVO MAYOR\",\"TRASTORNO DEPRESIVO MAYOR EPISODIO UNICO O PRIMER EPISODIO\",\n",
        "                                        \"TRASTORNO DEPRESIVO MAYOR RECURRENTE O RECIDIVANTE\",\n",
        "                                        \"TRASTORNO DEPRESIVO MAYOR RECURRENTE RESISTENTE O SEVERO\"]], dtype=int)\n",
        "encoder_4 = OrdinalEncoder(categories=[[\"Leve\",\"Moderado\",\"Alto\"]], dtype=int)\n",
        "encoder_5 = OrdinalEncoder(categories=[[\"Leve\",\"Moderado-Grave\"]], dtype=int)\n",
        "encoder_6 = OrdinalEncoder(categories=[[\"Primera aparición sin antecedente\",\"Indistinguible del pasado\",\n",
        "                                        \"Recurrencia condición previa\",\n",
        "                                        \"Significativamente diferente de condición previa\",\n",
        "                                        \"Exageración de trastorno crónico\"]], dtype=int)\n",
        "\n",
        "# Ajustar y transformar los datos\n",
        "df_TC['ESCOLARIDAD__JEFE_FAMILIA_encoded'] = encoder_1.fit_transform(df_TC[['ESCOLARIDAD__JEFE_FAMILIA']])\n",
        "df_TC['ESCOLARIDAD_MAXIMA_PX_encoded'] = encoder_1.fit_transform(df_TC[['ESCOLARIDAD_MAXIMA_PX']])\n",
        "df_TC['DX_PRIMARIO_encoded'] = encoder_2.fit_transform(df_TC[['DX_PRIMARIO']])\n",
        "df_TC['TRASTORNO_MAYOR_DIAGNOSTICO_encoded'] = encoder_3.fit_transform(df_TC[['TRASTORNO_MAYOR_DIAGNOSTICO']])\n",
        "df_TC['Riesgo_suicidio_encoded'] = encoder_4.fit_transform(df_TC[['Riesgo_suicidio']])\n",
        "df_TC['Sintomas_ansiosos_encoded'] = encoder_5.fit_transform(df_TC[['Sintomas_ansiosos']])\n",
        "df_TC['CONDICION_ACTUAL_encoded'] = encoder_6.fit_transform(df_TC[['CONDICION_ACTUAL']])"
      ]
    },
    {
      "cell_type": "code",
      "execution_count": 29,
      "id": "D2-XKzz-DKuI",
      "metadata": {
        "id": "D2-XKzz-DKuI"
      },
      "outputs": [],
      "source": [
        "# Eliminamos estas características originales\n",
        "df_TC = df_TC.drop([\"ESCOLARIDAD__JEFE_FAMILIA\",\"ESCOLARIDAD_MAXIMA_PX\",\"DX_PRIMARIO\",\"TRASTORNO_MAYOR_DIAGNOSTICO\",\n",
        "                \"Riesgo_suicidio\",\"Sintomas_ansiosos\",\"CONDICION_ACTUAL\"],\n",
        "             axis=1)"
      ]
    },
    {
      "cell_type": "code",
      "execution_count": 30,
      "id": "73NCIXxVJ17m",
      "metadata": {
        "id": "73NCIXxVJ17m"
      },
      "outputs": [],
      "source": [
        "# Hacemos listas de las variables no ordinales\n",
        "cat_no_orginales= ['SEXO', 'ESTADO_civil', 'RELIGION','PROVEEDOR_FAMILIAR', 'OCUPACIoN_JEFE_FAMILIA']"
      ]
    },
    {
      "cell_type": "code",
      "execution_count": 31,
      "id": "oH_Ynl1uKwNm",
      "metadata": {
        "id": "oH_Ynl1uKwNm"
      },
      "outputs": [],
      "source": [
        "# Creamos una copia del ultimo dataframe\n",
        "df_TCL=df_TC.copy()"
      ]
    },
    {
      "cell_type": "code",
      "execution_count": 32,
      "id": "wq4GGnTPJ-2O",
      "metadata": {
        "id": "wq4GGnTPJ-2O"
      },
      "outputs": [],
      "source": [
        "# Inicializar el LabelEncoder   #Eliminar seccion\n",
        "encoder = LabelEncoder()\n",
        "\n",
        "# Iterar sobre las columnas y aplicar el LabelEncoder\n",
        "for col in cat_no_orginales:\n",
        "    df_TCL[col] = encoder.fit_transform(df_TCL[col])"
      ]
    },
    {
      "cell_type": "code",
      "execution_count": 33,
      "id": "yAoibeaaLwUV",
      "metadata": {
        "id": "yAoibeaaLwUV"
      },
      "outputs": [],
      "source": [
        "# Creamos una copia del ultimo dataframe\n",
        "df_TC_encoded=df_TC.copy()"
      ]
    },
    {
      "cell_type": "code",
      "execution_count": 35,
      "id": "VDqQrNrSLI67",
      "metadata": {
        "id": "VDqQrNrSLI67"
      },
      "outputs": [],
      "source": [
        "# Aplicar Get_dummies asegurando de eliminar la primera categoría\n",
        "df_TC_encoded = pd.get_dummies(df_TC_encoded, columns=cat_no_orginales, drop_first=True)"
      ]
    },
    {
      "cell_type": "code",
      "execution_count": 38,
      "id": "4xtOtn82DHMf",
      "metadata": {
        "id": "4xtOtn82DHMf"
      },
      "outputs": [],
      "source": [
        "# Generamos la base con las características y la variable de salida\n",
        "X1 = df_TC_encoded.drop(columns=['Sintomas_ansiosos_encoded'])\n",
        "Y1 = df_TC_encoded['Sintomas_ansiosos_encoded']\n",
        "Xtv1, Xtest1, ytv1, ytest1 = train_test_split(X1, Y1, train_size = 0.9, random_state = 0)"
      ]
    },
    {
      "cell_type": "markdown",
      "id": "nDfq3k1O-bp6",
      "metadata": {
        "id": "nDfq3k1O-bp6"
      },
      "source": [
        "## **2 Modelos**"
      ]
    },
    {
      "cell_type": "markdown",
      "source": [
        "Antes de comenzar formalmente con la entrega de esta semana, haremos un último esfuerzo por obtener el mejor modelo posible de la siguiente manera:\n",
        "\n",
        "1.- Obtendremos nuevamente los resultados de los 3 modelos con mejor rendimiento de la semana pasada como referencia.\n",
        "\n",
        "2.- Haremos el refinamiento de algunos de sus hiperparámetros con el objetivo de mejorar su desempeño.\n",
        "\n",
        "3.- Reduciremos un poco el desbalance de los datos y con este conjunto de datos entrenaremos nuevamente los 3 modelos buscando los mejores hiperparámetros.\n",
        "\n",
        "**NOTA 1. En la semana 4, realizamos la busqueda en malla de los mejores hiperparámetros para algunos modelos. Los modelos de regresión logística, SVM y red neuronal que se usaron en la semana 5 y que seguiremos usando en esta semana, serán entrenados utilizando los mejores hiperparámetros que fueron hallados en la semana 4.**\n",
        "\n",
        "**NOTA 2. Cabe recordar que, en la semana 4 estudiamos a fondo diversas técnicas para lidiar con el balanceo,  en particular, probamos sobremuestreo, submuestreo y una combinación de ambos. Los mejores resultados fueron obtenidos con submuestreo. Además, los mejores resultados se obtenian al dejar un desbalance de 40-60 (los datos originales muestran un desbalance aproximado de 35-65), lo anterior hace sentido dado que, al tener una base de datos tan pequeña, eliminar elementos de la clase mayoritaria puede resultar muy costoso.**"
      ],
      "metadata": {
        "id": "eRELVXWDe7WQ"
      },
      "id": "eRELVXWDe7WQ"
    },
    {
      "cell_type": "markdown",
      "id": "Lj0MLJO1sCdU",
      "metadata": {
        "id": "Lj0MLJO1sCdU"
      },
      "source": [
        "### **2.1 Baseline**"
      ]
    },
    {
      "cell_type": "markdown",
      "id": "EYm6VgwALg5V",
      "metadata": {
        "id": "EYm6VgwALg5V"
      },
      "source": [
        "Generamos un modelo Dummy que predice siempre la clase positiva. Esto para tener una referencia con la cual comparar el resto de modelos."
      ]
    },
    {
      "cell_type": "code",
      "execution_count": 39,
      "id": "c912e281",
      "metadata": {
        "id": "c912e281"
      },
      "outputs": [],
      "source": [
        "# Creamos un modelo\n",
        "start_time = time.time()\n",
        "dummy_clf = DummyClassifier(strategy='most_frequent', random_state= 0)\n",
        "\n",
        "# Se ajusta el modelo a los datos de entrenamiento\n",
        "dummy_clf.fit(Xtv1, ytv1)\n",
        "tiempo_fit_dummy = time.time() - start_time\n",
        "\n",
        "preds_dum_tv = dummy_clf.predict_proba(Xtv1)"
      ]
    },
    {
      "cell_type": "markdown",
      "id": "MeIg4jQCNwuj",
      "metadata": {
        "id": "MeIg4jQCNwuj"
      },
      "source": [
        "### **2.2 Mejores modelos semana 5**"
      ]
    },
    {
      "cell_type": "markdown",
      "id": "UKP_AyyFWBOs",
      "metadata": {
        "id": "UKP_AyyFWBOs"
      },
      "source": [
        "#### 2.2.1 Stacking con Regresión logística y SVM"
      ]
    },
    {
      "cell_type": "code",
      "execution_count": null,
      "id": "7zBae98jKJMh",
      "metadata": {
        "id": "7zBae98jKJMh"
      },
      "outputs": [],
      "source": [
        "# Definimos el modelo\n",
        "start_time_fit = time.time()\n",
        "reg = LogisticRegression(solver='liblinear', class_weight= \"balanced\",\n",
        "                         max_iter= 100, penalty = 'l2', tol = 0.0001, random_state=0)\n",
        "\n",
        "# Se ajusta el modelo\n",
        "reg.fit(Xtv1, ytv1)\n",
        "end_time_fit = time.time()\n",
        "tiempo_fit_reg = end_time_fit - start_time_fit\n",
        "\n",
        "preds_reg_tv = reg.predict_proba(Xtv1)[:, 1]\n",
        "preds_reg_test = reg.predict_proba(Xtest1)[:, 1]"
      ]
    },
    {
      "cell_type": "code",
      "execution_count": null,
      "id": "XpQiqZn8JlYy",
      "metadata": {
        "id": "XpQiqZn8JlYy"
      },
      "outputs": [],
      "source": [
        "# Definimos el modelo\n",
        "start_time_fit = time.time()\n",
        "svm = SVC(class_weight='balanced', probability=True, C = 0.01, gamma = 0.001, kernel = 'linear', random_state=0)\n",
        "\n",
        "# Se ajusta el modelo\n",
        "svm.fit(Xtv1, ytv1)\n",
        "end_time_fit = time.time()\n",
        "tiempo_fit_svm = end_time_fit - start_time_fit\n",
        "\n",
        "preds_svm_tv = svm.predict_proba(Xtv1)[:, 1]\n",
        "preds_svm_test = svm.predict_proba(Xtest1)[:, 1]\n"
      ]
    },
    {
      "cell_type": "code",
      "execution_count": null,
      "id": "Q9sFcp1BJlbh",
      "metadata": {
        "id": "Q9sFcp1BJlbh"
      },
      "outputs": [],
      "source": [
        "# Creamos el conjunto de datos para el ensamble\n",
        "stacked_tv = np.column_stack((preds_reg_tv, preds_svm_tv))\n",
        "stacked_test = np.column_stack((preds_reg_test, preds_svm_test))"
      ]
    },
    {
      "cell_type": "code",
      "source": [
        "# Definir los modelos\n",
        "start_time = time.time()\n",
        "ensamble1 = LogisticRegression()\n",
        "\n",
        "# Medir el tiempo de ajuste del ensamble\n",
        "ensamble1.fit(stacked_tv, ytv1)\n",
        "tiempo_fit_ensamble1 = time.time() - start_time\n",
        "\n",
        "# Evaluamos el rendimiento de los modelos con el conjunto de entrenamiento\n",
        "\n",
        "ytv1_pred_dum = cross_val_predict(dummy_clf, Xtv1, ytv1, cv=5)\n",
        "recall_tv_dum = 0 # No se calcula ya que recall evalua la tasa de verdaderos positivos y\n",
        "                    #nuestro Dummy genera un 100% de positivos.\n",
        "recall_tv_macro_dum = 0\n",
        "f1_tv_dum = f1_score(ytv1, ytv1_pred_dum, average='binary')\n",
        "\n",
        "\n",
        "ytv1_pred_reg = cross_val_predict(reg, Xtv1, ytv1, cv=5)\n",
        "recall_tv_reg = recall_score(ytv1, ytv1_pred_reg, average='binary')\n",
        "recall_tv_macro_reg = recall_score(ytv1, ytv1_pred_reg, average='macro')\n",
        "f1_tv_reg = f1_score(ytv1, ytv1_pred_reg, average='binary')\n",
        "\n",
        "\n",
        "ytv1_pred_svm = cross_val_predict(svm, Xtv1, ytv1, cv=5)\n",
        "recall_tv_svm = recall_score(ytv1, ytv1_pred_svm, average='binary')\n",
        "recall_tv_macro_svm = recall_score(ytv1, ytv1_pred_svm, average='macro')\n",
        "f1_tv_svm = f1_score(ytv1, ytv1_pred_svm, average='binary')\n",
        "\n",
        "\n",
        "ytv1_pred_ensamble1 = ensamble1.predict(stacked_tv)\n",
        "recall_tv_ensamble1 = recall_score(ytv1, ytv1_pred_ensamble1, average='binary')\n",
        "recall_tv_macro_ensamble1 = recall_score(ytv1, ytv1_pred_ensamble1, average='macro')\n",
        "f1_tv_ensamble1 = f1_score(ytv1, ytv1_pred_ensamble1, average='binary')\n",
        "\n",
        "cuadro1 = {\n",
        "    'Modelo': ['Dummy', 'Regression Logística', 'SVM', 'Ensemble'],\n",
        "    'Recall': [recall_tv_dum, recall_tv_reg, recall_tv_svm, recall_tv_ensamble1],\n",
        "    'Recall Macro': [recall_tv_macro_dum, recall_tv_macro_reg, recall_tv_macro_svm, recall_tv_macro_ensamble1],\n",
        "    'F1 Score': [f1_tv_dum, f1_tv_reg, f1_tv_svm, f1_tv_ensamble1],\n",
        "    'Fit_Time': [tiempo_fit_dummy, tiempo_fit_reg, tiempo_fit_svm, tiempo_fit_ensamble1]\n",
        "}\n",
        "\n",
        "# Crear un DataFrame para almacenar los resultados\n",
        "cuadro1_df = pd.DataFrame(cuadro1,index=cuadro1[\"Modelo\"])\n",
        "cuadro1_df.drop(columns=['Modelo'], inplace=True)\n",
        "\n",
        "# Ordenar el DataFrame por la columna F1_Tst de mayor a menor\n",
        "cuadro1_df = cuadro1_df.sort_values(by='F1 Score', ascending=False)\n",
        "\n",
        "\n",
        "# Evaluamos el rendimiento de los modelos con el conjunto de pruebas\n",
        "ytest1_pred_dum = cross_val_predict(dummy_clf, Xtest1, ytest1, cv=5)\n",
        "recall_test_dum = 0\n",
        "recall_test_macro_dum = 0\n",
        "f1_test_dum = f1_score(ytest1, ytest1_pred_dum, average='binary')\n",
        "\n",
        "\n",
        "ytest1_pred_reg = cross_val_predict(reg, Xtest1, ytest1, cv=5)\n",
        "recall_test_reg = recall_score(ytest1, ytest1_pred_reg, average='binary')\n",
        "recall_test_macro_reg = recall_score(ytest1, ytest1_pred_reg, average='macro')\n",
        "f1_test_reg = f1_score(ytest1, ytest1_pred_reg, average='binary')\n",
        "\n",
        "\n",
        "ytest1_pred_svm = cross_val_predict(svm, Xtest1, ytest1, cv=5)\n",
        "recall_test_svm = recall_score(ytest1, ytest1_pred_svm, average='binary')\n",
        "recall_test_macro_svm = recall_score(ytest1, ytest1_pred_svm, average='macro')\n",
        "f1_test_svm = f1_score(ytest1, ytest1_pred_svm, average='binary')\n",
        "\n",
        "\n",
        "ytest1_pred_ensamble1 = ensamble1.predict(stacked_test)\n",
        "recall_test_ensamble1 = recall_score(ytest1, ytest1_pred_ensamble1, average='binary')\n",
        "recall_test_macro_ensamble1 = recall_score(ytest1, ytest1_pred_ensamble1, average='macro')\n",
        "f1_test_ensamble1 = f1_score(ytest1, ytest1_pred_ensamble1, average='binary')\n",
        "\n",
        "cuadro2 = {\n",
        "    'Modelo': ['Dummy', 'Regression Logística', 'SVM', 'Ensemble'],\n",
        "    'Recall': [recall_test_dum, recall_test_reg, recall_test_svm, recall_test_ensamble1],\n",
        "    'Recall Macro': [recall_test_macro_dum, recall_test_macro_reg, recall_test_macro_svm, recall_test_macro_ensamble1],\n",
        "    'F1 Score': [f1_test_dum, f1_test_reg, f1_test_svm, f1_test_ensamble1],\n",
        "    'Fit_Time': [tiempo_fit_dummy, tiempo_fit_reg, tiempo_fit_svm, tiempo_fit_ensamble1]\n",
        "}\n",
        "\n",
        "cuadro2_df = pd.DataFrame(cuadro2)\n",
        "\n",
        "# Crear un DataFrame para almacenar los resultados\n",
        "cuadro2_df = pd.DataFrame(cuadro2,index=cuadro2[\"Modelo\"])\n",
        "cuadro2_df.drop(columns=['Modelo'], inplace=True)\n",
        "\n",
        "# Ordenar el DataFrame por la columna F1_Tst de mayor a menor\n",
        "cuadro2_df = cuadro2_df.sort_values(by='F1 Score', ascending=False)\n",
        "\n",
        "# Aquí puedes especificar el axis=0 para columnas o axis=1 para filas\n",
        "display_side_by_side([cuadro1_df, cuadro2_df], ['Conjunto de Entrenamiento', 'Conjunto de Pruebas'],\n",
        "                     color='lightblue', axis=0)"
      ],
      "metadata": {
        "colab": {
          "base_uri": "https://localhost:8080/",
          "height": 186
        },
        "id": "C1Hw_RaZqYcW",
        "outputId": "ef6ddd14-4d5a-42ef-dd92-cc1fd53f7beb"
      },
      "id": "C1Hw_RaZqYcW",
      "execution_count": null,
      "outputs": [
        {
          "output_type": "display_data",
          "data": {
            "text/html": [
              "<div style=\"display: inline-block; padding: 10px;\"><h3>Conjunto de Entrenamiento</h3><style type=\"text/css\">\n",
              "#T_fa2a3_row0_col0, #T_fa2a3_row0_col1, #T_fa2a3_row0_col2, #T_fa2a3_row2_col3 {\n",
              "  background-color: lightblue;\n",
              "}\n",
              "</style>\n",
              "<table id=\"T_fa2a3\">\n",
              "  <thead>\n",
              "    <tr>\n",
              "      <th class=\"blank level0\" >&nbsp;</th>\n",
              "      <th id=\"T_fa2a3_level0_col0\" class=\"col_heading level0 col0\" >Recall</th>\n",
              "      <th id=\"T_fa2a3_level0_col1\" class=\"col_heading level0 col1\" >Recall Macro</th>\n",
              "      <th id=\"T_fa2a3_level0_col2\" class=\"col_heading level0 col2\" >F1 Score</th>\n",
              "      <th id=\"T_fa2a3_level0_col3\" class=\"col_heading level0 col3\" >Fit_Time</th>\n",
              "    </tr>\n",
              "  </thead>\n",
              "  <tbody>\n",
              "    <tr>\n",
              "      <th id=\"T_fa2a3_level0_row0\" class=\"row_heading level0 row0\" >Ensemble</th>\n",
              "      <td id=\"T_fa2a3_row0_col0\" class=\"data row0 col0\" >0.877828</td>\n",
              "      <td id=\"T_fa2a3_row0_col1\" class=\"data row0 col1\" >0.641393</td>\n",
              "      <td id=\"T_fa2a3_row0_col2\" class=\"data row0 col2\" >0.796715</td>\n",
              "      <td id=\"T_fa2a3_row0_col3\" class=\"data row0 col3\" >0.008602</td>\n",
              "    </tr>\n",
              "    <tr>\n",
              "      <th id=\"T_fa2a3_level0_row1\" class=\"row_heading level0 row1\" >Dummy</th>\n",
              "      <td id=\"T_fa2a3_row1_col0\" class=\"data row1 col0\" >0.000000</td>\n",
              "      <td id=\"T_fa2a3_row1_col1\" class=\"data row1 col1\" >0.000000</td>\n",
              "      <td id=\"T_fa2a3_row1_col2\" class=\"data row1 col2\" >0.785080</td>\n",
              "      <td id=\"T_fa2a3_row1_col3\" class=\"data row1 col3\" >0.007118</td>\n",
              "    </tr>\n",
              "    <tr>\n",
              "      <th id=\"T_fa2a3_level0_row2\" class=\"row_heading level0 row2\" >SVM</th>\n",
              "      <td id=\"T_fa2a3_row2_col0\" class=\"data row2 col0\" >0.610860</td>\n",
              "      <td id=\"T_fa2a3_row2_col1\" class=\"data row2 col1\" >0.623612</td>\n",
              "      <td id=\"T_fa2a3_row2_col2\" class=\"data row2 col2\" >0.675000</td>\n",
              "      <td id=\"T_fa2a3_row2_col3\" class=\"data row2 col3\" >0.062996</td>\n",
              "    </tr>\n",
              "    <tr>\n",
              "      <th id=\"T_fa2a3_level0_row3\" class=\"row_heading level0 row3\" >Regression Logística</th>\n",
              "      <td id=\"T_fa2a3_row3_col0\" class=\"data row3 col0\" >0.588235</td>\n",
              "      <td id=\"T_fa2a3_row3_col1\" class=\"data row3 col1\" >0.554448</td>\n",
              "      <td id=\"T_fa2a3_row3_col2\" class=\"data row3 col2\" >0.635697</td>\n",
              "      <td id=\"T_fa2a3_row3_col3\" class=\"data row3 col3\" >0.016155</td>\n",
              "    </tr>\n",
              "  </tbody>\n",
              "</table>\n",
              "</div><div style=\"display: inline-block; padding: 10px;\"><h3>Conjunto de Pruebas</h3><style type=\"text/css\">\n",
              "#T_e17b7_row0_col2, #T_e17b7_row1_col0, #T_e17b7_row2_col1, #T_e17b7_row3_col3 {\n",
              "  background-color: lightblue;\n",
              "}\n",
              "</style>\n",
              "<table id=\"T_e17b7\">\n",
              "  <thead>\n",
              "    <tr>\n",
              "      <th class=\"blank level0\" >&nbsp;</th>\n",
              "      <th id=\"T_e17b7_level0_col0\" class=\"col_heading level0 col0\" >Recall</th>\n",
              "      <th id=\"T_e17b7_level0_col1\" class=\"col_heading level0 col1\" >Recall Macro</th>\n",
              "      <th id=\"T_e17b7_level0_col2\" class=\"col_heading level0 col2\" >F1 Score</th>\n",
              "      <th id=\"T_e17b7_level0_col3\" class=\"col_heading level0 col3\" >Fit_Time</th>\n",
              "    </tr>\n",
              "  </thead>\n",
              "  <tbody>\n",
              "    <tr>\n",
              "      <th id=\"T_e17b7_level0_row0\" class=\"row_heading level0 row0\" >Dummy</th>\n",
              "      <td id=\"T_e17b7_row0_col0\" class=\"data row0 col0\" >0.000000</td>\n",
              "      <td id=\"T_e17b7_row0_col1\" class=\"data row0 col1\" >0.000000</td>\n",
              "      <td id=\"T_e17b7_row0_col2\" class=\"data row0 col2\" >0.774194</td>\n",
              "      <td id=\"T_e17b7_row0_col3\" class=\"data row0 col3\" >0.007118</td>\n",
              "    </tr>\n",
              "    <tr>\n",
              "      <th id=\"T_e17b7_level0_row1\" class=\"row_heading level0 row1\" >Ensemble</th>\n",
              "      <td id=\"T_e17b7_row1_col0\" class=\"data row1 col0\" >0.791667</td>\n",
              "      <td id=\"T_e17b7_row1_col1\" class=\"data row1 col1\" >0.538690</td>\n",
              "      <td id=\"T_e17b7_row1_col2\" class=\"data row1 col2\" >0.716981</td>\n",
              "      <td id=\"T_e17b7_row1_col3\" class=\"data row1 col3\" >0.008602</td>\n",
              "    </tr>\n",
              "    <tr>\n",
              "      <th id=\"T_e17b7_level0_row2\" class=\"row_heading level0 row2\" >Regression Logística</th>\n",
              "      <td id=\"T_e17b7_row2_col0\" class=\"data row2 col0\" >0.666667</td>\n",
              "      <td id=\"T_e17b7_row2_col1\" class=\"data row2 col1\" >0.547619</td>\n",
              "      <td id=\"T_e17b7_row2_col2\" class=\"data row2 col2\" >0.666667</td>\n",
              "      <td id=\"T_e17b7_row2_col3\" class=\"data row2 col3\" >0.016155</td>\n",
              "    </tr>\n",
              "    <tr>\n",
              "      <th id=\"T_e17b7_level0_row3\" class=\"row_heading level0 row3\" >SVM</th>\n",
              "      <td id=\"T_e17b7_row3_col0\" class=\"data row3 col0\" >0.666667</td>\n",
              "      <td id=\"T_e17b7_row3_col1\" class=\"data row3 col1\" >0.511905</td>\n",
              "      <td id=\"T_e17b7_row3_col2\" class=\"data row3 col2\" >0.653061</td>\n",
              "      <td id=\"T_e17b7_row3_col3\" class=\"data row3 col3\" >0.062996</td>\n",
              "    </tr>\n",
              "  </tbody>\n",
              "</table>\n",
              "</div>"
            ]
          },
          "metadata": {}
        }
      ]
    },
    {
      "cell_type": "code",
      "execution_count": null,
      "id": "5056f49c",
      "metadata": {
        "colab": {
          "base_uri": "https://localhost:8080/",
          "height": 607
        },
        "id": "5056f49c",
        "outputId": "37cc931a-9125-4c01-b99c-6c2c29111ed7",
        "scrolled": true
      },
      "outputs": [
        {
          "output_type": "display_data",
          "data": {
            "text/plain": [
              "<Figure size 1400x600 with 2 Axes>"
            ],
            "image/png": "[encoded data removed]"
          },
          "metadata": {}
        }
      ],
      "source": [
        "# Generar las matrices de confusión\n",
        "cm_tv = confusion_matrix(ytv1, ytv1_pred_ensamble1)\n",
        "cm_test = confusion_matrix(ytest1, ytest1_pred_ensamble1)\n",
        "\n",
        "# Crear DataFrames de las matrices de confusión\n",
        "cm_tv_df = pd.DataFrame(cm_tv, index=[0, 1], columns=[0, 1])\n",
        "cm_test_df = pd.DataFrame(cm_test, index=[0, 1], columns=[0, 1])\n",
        "\n",
        "# Crear el heatmap usando seaborn\n",
        "plt.figure(figsize=(14, 6))\n",
        "\n",
        "# Heatmap de la matriz de confusión de entrenamiento\n",
        "plt.subplot(1, 2, 1)\n",
        "sns.heatmap(cm_tv_df, annot=True, fmt='d', cmap='Blues', cbar=False)\n",
        "plt.title('Matriz de Confusión - Entrenamiento')\n",
        "plt.xlabel('Predicted')\n",
        "plt.ylabel('Actual')\n",
        "\n",
        "# Heatmap de la matriz de confusión de prueba\n",
        "plt.subplot(1, 2, 2)\n",
        "sns.heatmap(cm_test_df, annot=True, fmt='d', cmap='Blues', cbar=False)\n",
        "plt.title('Matriz de Confusión - Prueba')\n",
        "plt.xlabel('Predicted')\n",
        "plt.ylabel('Actual')\n",
        "\n",
        "# Mostrar las gráficas\n",
        "plt.tight_layout()\n",
        "plt.show()"
      ]
    },
    {
      "cell_type": "markdown",
      "id": "CKuG3Msfk3jV",
      "metadata": {
        "id": "CKuG3Msfk3jV"
      },
      "source": [
        "#### 2.2.2 Bagging con Regresión Logística"
      ]
    },
    {
      "cell_type": "code",
      "execution_count": null,
      "id": "Lw7W3ixhg0QO",
      "metadata": {
        "colab": {
          "base_uri": "https://localhost:8080/",
          "height": 164
        },
        "id": "Lw7W3ixhg0QO",
        "outputId": "ff61d28b-78ff-4bba-cc54-314b1227c040"
      },
      "outputs": [
        {
          "output_type": "display_data",
          "data": {
            "text/html": [
              "<div style=\"display: inline-block; padding: 10px;\"><h3>Conjunto de Entrenamiento</h3><style type=\"text/css\">\n",
              "#T_93f8e_row0_col2, #T_93f8e_row1_col0, #T_93f8e_row1_col1, #T_93f8e_row1_col3 {\n",
              "  background-color: lightblue;\n",
              "}\n",
              "</style>\n",
              "<table id=\"T_93f8e\">\n",
              "  <thead>\n",
              "    <tr>\n",
              "      <th class=\"blank level0\" >&nbsp;</th>\n",
              "      <th id=\"T_93f8e_level0_col0\" class=\"col_heading level0 col0\" >Recall</th>\n",
              "      <th id=\"T_93f8e_level0_col1\" class=\"col_heading level0 col1\" >Recall Macro</th>\n",
              "      <th id=\"T_93f8e_level0_col2\" class=\"col_heading level0 col2\" >F1 Score</th>\n",
              "      <th id=\"T_93f8e_level0_col3\" class=\"col_heading level0 col3\" >Fit_Time</th>\n",
              "    </tr>\n",
              "  </thead>\n",
              "  <tbody>\n",
              "    <tr>\n",
              "      <th id=\"T_93f8e_level0_row0\" class=\"row_heading level0 row0\" >Dummy</th>\n",
              "      <td id=\"T_93f8e_row0_col0\" class=\"data row0 col0\" >0.000000</td>\n",
              "      <td id=\"T_93f8e_row0_col1\" class=\"data row0 col1\" >0.000000</td>\n",
              "      <td id=\"T_93f8e_row0_col2\" class=\"data row0 col2\" >0.774194</td>\n",
              "      <td id=\"T_93f8e_row0_col3\" class=\"data row0 col3\" >0.007118</td>\n",
              "    </tr>\n",
              "    <tr>\n",
              "      <th id=\"T_93f8e_level0_row1\" class=\"row_heading level0 row1\" >Ensemble</th>\n",
              "      <td id=\"T_93f8e_row1_col0\" class=\"data row1 col0\" >0.733032</td>\n",
              "      <td id=\"T_93f8e_row1_col1\" class=\"data row1 col1\" >0.688830</td>\n",
              "      <td id=\"T_93f8e_row1_col2\" class=\"data row1 col2\" >0.760563</td>\n",
              "      <td id=\"T_93f8e_row1_col3\" class=\"data row1 col3\" >1.401333</td>\n",
              "    </tr>\n",
              "    <tr>\n",
              "      <th id=\"T_93f8e_level0_row2\" class=\"row_heading level0 row2\" >Regresión logística</th>\n",
              "      <td id=\"T_93f8e_row2_col0\" class=\"data row2 col0\" >0.588235</td>\n",
              "      <td id=\"T_93f8e_row2_col1\" class=\"data row2 col1\" >0.554448</td>\n",
              "      <td id=\"T_93f8e_row2_col2\" class=\"data row2 col2\" >0.635697</td>\n",
              "      <td id=\"T_93f8e_row2_col3\" class=\"data row2 col3\" >0.016155</td>\n",
              "    </tr>\n",
              "  </tbody>\n",
              "</table>\n",
              "</div><div style=\"display: inline-block; padding: 10px;\"><h3>Conjunto de Pruebas</h3><style type=\"text/css\">\n",
              "#T_48e31_row0_col2, #T_48e31_row1_col0, #T_48e31_row1_col1, #T_48e31_row2_col0, #T_48e31_row2_col1, #T_48e31_row2_col3 {\n",
              "  background-color: lightblue;\n",
              "}\n",
              "</style>\n",
              "<table id=\"T_48e31\">\n",
              "  <thead>\n",
              "    <tr>\n",
              "      <th class=\"blank level0\" >&nbsp;</th>\n",
              "      <th id=\"T_48e31_level0_col0\" class=\"col_heading level0 col0\" >Recall</th>\n",
              "      <th id=\"T_48e31_level0_col1\" class=\"col_heading level0 col1\" >Recall Macro</th>\n",
              "      <th id=\"T_48e31_level0_col2\" class=\"col_heading level0 col2\" >F1 Score</th>\n",
              "      <th id=\"T_48e31_level0_col3\" class=\"col_heading level0 col3\" >Fit_Time</th>\n",
              "    </tr>\n",
              "  </thead>\n",
              "  <tbody>\n",
              "    <tr>\n",
              "      <th id=\"T_48e31_level0_row0\" class=\"row_heading level0 row0\" >Dummy</th>\n",
              "      <td id=\"T_48e31_row0_col0\" class=\"data row0 col0\" >0.000000</td>\n",
              "      <td id=\"T_48e31_row0_col1\" class=\"data row0 col1\" >0.000000</td>\n",
              "      <td id=\"T_48e31_row0_col2\" class=\"data row0 col2\" >0.774194</td>\n",
              "      <td id=\"T_48e31_row0_col3\" class=\"data row0 col3\" >0.007118</td>\n",
              "    </tr>\n",
              "    <tr>\n",
              "      <th id=\"T_48e31_level0_row1\" class=\"row_heading level0 row1\" >Regresión logística</th>\n",
              "      <td id=\"T_48e31_row1_col0\" class=\"data row1 col0\" >0.666667</td>\n",
              "      <td id=\"T_48e31_row1_col1\" class=\"data row1 col1\" >0.547619</td>\n",
              "      <td id=\"T_48e31_row1_col2\" class=\"data row1 col2\" >0.666667</td>\n",
              "      <td id=\"T_48e31_row1_col3\" class=\"data row1 col3\" >0.016155</td>\n",
              "    </tr>\n",
              "    <tr>\n",
              "      <th id=\"T_48e31_level0_row2\" class=\"row_heading level0 row2\" >Ensemble</th>\n",
              "      <td id=\"T_48e31_row2_col0\" class=\"data row2 col0\" >0.666667</td>\n",
              "      <td id=\"T_48e31_row2_col1\" class=\"data row2 col1\" >0.547619</td>\n",
              "      <td id=\"T_48e31_row2_col2\" class=\"data row2 col2\" >0.666667</td>\n",
              "      <td id=\"T_48e31_row2_col3\" class=\"data row2 col3\" >1.401333</td>\n",
              "    </tr>\n",
              "  </tbody>\n",
              "</table>\n",
              "</div>"
            ]
          },
          "metadata": {}
        }
      ],
      "source": [
        "# Definimos el modelo\n",
        "start_time = time.time()\n",
        "reg = LogisticRegression(solver='liblinear', class_weight= \"balanced\",\n",
        "                         max_iter= 100, penalty = 'l2', tol = 0.0001, random_state=0)\n",
        "\n",
        "# se ajusta el modelo\n",
        "reg.fit(Xtv1, ytv1)\n",
        "tiempo_fit_reg = time.time() - start_time\n",
        "\n",
        "# generamos el ensamble usando bagging\n",
        "start_time = time.time()\n",
        "ensamble4 = BaggingClassifier(base_estimator=reg, n_estimators=200, random_state=42)\n",
        "\n",
        "# Entrenamos el ensamble\n",
        "ensamble4.fit(Xtv1, ytv1)\n",
        "tiempo_fit_ensamble4 = time.time() - start_time\n",
        "\n",
        "# Evaluamos el rendimiento de los modelos con el conjunto de entrenamiento\n",
        "\n",
        "ytv_pred = cross_val_predict(reg, Xtv1, ytv1, cv=5)\n",
        "recall_tv = recall_score(ytv1, ytv_pred, average='binary')\n",
        "recall_tv_macro = recall_score(ytv1, ytv_pred, average='macro')\n",
        "f1_tv = f1_score(ytv1, ytv_pred, average='binary')\n",
        "\n",
        "ytv_pred_ensamble4 = ensamble4.predict(Xtv1)\n",
        "recall_tv_ensamble4 = recall_score(ytv1, ytv_pred_ensamble4, average='binary')\n",
        "recall_tv_macro_ensamble4 = recall_score(ytv1, ytv_pred_ensamble4, average='macro')\n",
        "f1_tv_ensamble4 = f1_score(ytv1, ytv_pred_ensamble4, average='binary')\n",
        "\n",
        "cuadro1 = {\n",
        "    'Modelo': ['Dummy', 'Regresión logística', 'Ensemble'],\n",
        "    'Recall': [recall_test_dum, recall_tv,  recall_tv_ensamble4],\n",
        "    'Recall Macro': [recall_test_macro_dum, recall_tv_macro, recall_tv_macro_ensamble4],\n",
        "    'F1 Score': [f1_test_dum, f1_tv, f1_tv_ensamble4],\n",
        "    'Fit_Time': [tiempo_fit_dummy, tiempo_fit_reg, tiempo_fit_ensamble4]\n",
        "}\n",
        "\n",
        "# Crear un DataFrame para almacenar los resultados\n",
        "cuadro1_df = pd.DataFrame(cuadro1,index=cuadro1[\"Modelo\"])\n",
        "cuadro1_df.drop(columns=['Modelo'], inplace=True)\n",
        "\n",
        "# Ordenar el DataFrame por la columna F1_Tst de mayor a menor\n",
        "cuadro1_df = cuadro1_df.sort_values(by='F1 Score', ascending=False)\n",
        "\n",
        "\n",
        "# Evaluamos el rendimiento de los modelos con el conjunto de pruebas\n",
        "\n",
        "ytest_pred = cross_val_predict(reg, Xtest1, ytest1, cv=5)\n",
        "recall_test = recall_score(ytest1, ytest_pred, average='binary')\n",
        "recall_test_macro = recall_score(ytest1, ytest_pred, average='macro')\n",
        "f1_test = f1_score(ytest1, ytest_pred, average='binary')\n",
        "\n",
        "ytest_pred_ensamble4 = ensamble4.predict(Xtest1)\n",
        "recall_test_ensamble4 = recall_score(ytest1, ytest_pred_ensamble4, average='binary')\n",
        "recall_test_macro_ensamble4 = recall_score(ytest1, ytest_pred_ensamble4, average='macro')\n",
        "f1_test_ensamble4 = f1_score(ytest1, ytest_pred_ensamble4, average='binary')\n",
        "\n",
        "cuadro2 = {\n",
        "    'Modelo': ['Dummy', 'Regresión logística', 'Ensemble'],\n",
        "    'Recall': [recall_test_dum, recall_test, recall_test_ensamble4],\n",
        "    'Recall Macro': [recall_test_macro_dum, recall_test_macro, recall_test_macro_ensamble4],\n",
        "    'F1 Score': [f1_test_dum, f1_test, f1_test_ensamble4],\n",
        "    'Fit_Time': [tiempo_fit_dummy, tiempo_fit_reg, tiempo_fit_ensamble4]\n",
        "}\n",
        "\n",
        "# Crear un DataFrame para almacenar los resultados\n",
        "cuadro2_df = pd.DataFrame(cuadro2,index=cuadro2[\"Modelo\"])\n",
        "cuadro2_df.drop(columns=['Modelo'], inplace=True)\n",
        "\n",
        "# Ordenar el DataFrame por la columna F1_Tst de mayor a menor\n",
        "cuadro2_df = cuadro2_df.sort_values(by='F1 Score', ascending=False)\n",
        "\n",
        "# Aquí puedes especificar el axis=0 para columnas o axis=1 para filas\n",
        "display_side_by_side([cuadro1_df, cuadro2_df], ['Conjunto de Entrenamiento', 'Conjunto de Pruebas'],\n",
        "                     color='lightblue', axis=0)"
      ]
    },
    {
      "cell_type": "code",
      "execution_count": null,
      "id": "51caaf14",
      "metadata": {
        "colab": {
          "base_uri": "https://localhost:8080/",
          "height": 607
        },
        "id": "51caaf14",
        "outputId": "04f19659-d813-481d-f019-df26b26f1aea"
      },
      "outputs": [
        {
          "output_type": "display_data",
          "data": {
            "text/plain": [
              "<Figure size 1400x600 with 2 Axes>"
            ],
            "image/png": "[encoded data removed]"
          },
          "metadata": {}
        }
      ],
      "source": [
        "# Generar las matrices de confusión\n",
        "cm_tv = confusion_matrix(ytv1, ytv_pred_ensamble4)\n",
        "cm_test = confusion_matrix(ytest1, ytest_pred_ensamble4)\n",
        "\n",
        "# Crear DataFrames de las matrices de confusión\n",
        "cm_tv_df = pd.DataFrame(cm_tv, index=[0, 1], columns=[0, 1])\n",
        "cm_test_df = pd.DataFrame(cm_test, index=[0, 1], columns=[0, 1])\n",
        "\n",
        "# Crear el heatmap usando seaborn\n",
        "plt.figure(figsize=(14, 6))\n",
        "\n",
        "# Heatmap de la matriz de confusión de entrenamiento\n",
        "plt.subplot(1, 2, 1)\n",
        "sns.heatmap(cm_tv_df, annot=True, fmt='d', cmap='Blues', cbar=False)\n",
        "plt.title('Matriz de Confusión - Entrenamiento')\n",
        "plt.xlabel('Predicted')\n",
        "plt.ylabel('Actual')\n",
        "\n",
        "# Heatmap de la matriz de confusión de prueba\n",
        "plt.subplot(1, 2, 2)\n",
        "sns.heatmap(cm_test_df, annot=True, fmt='d', cmap='Blues', cbar=False)\n",
        "plt.title('Matriz de Confusión - Prueba')\n",
        "plt.xlabel('Predicted')\n",
        "plt.ylabel('Actual')\n",
        "\n",
        "# Mostrar las gráficas\n",
        "plt.tight_layout()\n",
        "plt.show()"
      ]
    },
    {
      "cell_type": "markdown",
      "id": "bMVRgOsywk-N",
      "metadata": {
        "id": "bMVRgOsywk-N"
      },
      "source": [
        "#### 2.2.3 Bagging con red Neuronal"
      ]
    },
    {
      "cell_type": "code",
      "source": [
        "#Generamos la base con las características y la variable de salida\n",
        "X2 = df_TCL.drop(columns=['Sintomas_ansiosos_encoded'])\n",
        "Y2 = df_TCL['Sintomas_ansiosos_encoded']\n",
        "Xtv2, Xtest2, ytv2, ytest2 = train_test_split(X2, Y2, train_size = 0.9, random_state = 0)"
      ],
      "metadata": {
        "id": "I59XFcpvpUQg"
      },
      "id": "I59XFcpvpUQg",
      "execution_count": null,
      "outputs": []
    },
    {
      "cell_type": "code",
      "execution_count": null,
      "id": "Haz1IKpyg0VG",
      "metadata": {
        "colab": {
          "base_uri": "https://localhost:8080/",
          "height": 164
        },
        "id": "Haz1IKpyg0VG",
        "outputId": "281f4453-d55d-4e8c-f860-6317b6ecbe21"
      },
      "outputs": [
        {
          "output_type": "display_data",
          "data": {
            "text/html": [
              "<div style=\"display: inline-block; padding: 10px;\"><h3>Conjunto de Entrenamiento</h3><style type=\"text/css\">\n",
              "#T_939cb_row0_col0, #T_939cb_row0_col1, #T_939cb_row0_col2, #T_939cb_row0_col3 {\n",
              "  background-color: lightblue;\n",
              "}\n",
              "</style>\n",
              "<table id=\"T_939cb\">\n",
              "  <thead>\n",
              "    <tr>\n",
              "      <th class=\"blank level0\" >&nbsp;</th>\n",
              "      <th id=\"T_939cb_level0_col0\" class=\"col_heading level0 col0\" >Recall</th>\n",
              "      <th id=\"T_939cb_level0_col1\" class=\"col_heading level0 col1\" >Recall Macro</th>\n",
              "      <th id=\"T_939cb_level0_col2\" class=\"col_heading level0 col2\" >F1 Score</th>\n",
              "      <th id=\"T_939cb_level0_col3\" class=\"col_heading level0 col3\" >Fit_Time</th>\n",
              "    </tr>\n",
              "  </thead>\n",
              "  <tbody>\n",
              "    <tr>\n",
              "      <th id=\"T_939cb_level0_row0\" class=\"row_heading level0 row0\" >Ensemble</th>\n",
              "      <td id=\"T_939cb_row0_col0\" class=\"data row0 col0\" >1.000000</td>\n",
              "      <td id=\"T_939cb_row0_col1\" class=\"data row0 col1\" >0.995868</td>\n",
              "      <td id=\"T_939cb_row0_col2\" class=\"data row0 col2\" >0.997743</td>\n",
              "      <td id=\"T_939cb_row0_col3\" class=\"data row0 col3\" >188.410704</td>\n",
              "    </tr>\n",
              "    <tr>\n",
              "      <th id=\"T_939cb_level0_row1\" class=\"row_heading level0 row1\" >Dummy</th>\n",
              "      <td id=\"T_939cb_row1_col0\" class=\"data row1 col0\" >0.000000</td>\n",
              "      <td id=\"T_939cb_row1_col1\" class=\"data row1 col1\" >0.000000</td>\n",
              "      <td id=\"T_939cb_row1_col2\" class=\"data row1 col2\" >0.774194</td>\n",
              "      <td id=\"T_939cb_row1_col3\" class=\"data row1 col3\" >0.007118</td>\n",
              "    </tr>\n",
              "    <tr>\n",
              "      <th id=\"T_939cb_level0_row2\" class=\"row_heading level0 row2\" >red neuronal</th>\n",
              "      <td id=\"T_939cb_row2_col0\" class=\"data row2 col0\" >0.692308</td>\n",
              "      <td id=\"T_939cb_row2_col1\" class=\"data row2 col1\" >0.523840</td>\n",
              "      <td id=\"T_939cb_row2_col2\" class=\"data row2 col2\" >0.676991</td>\n",
              "      <td id=\"T_939cb_row2_col3\" class=\"data row2 col3\" >1.447207</td>\n",
              "    </tr>\n",
              "  </tbody>\n",
              "</table>\n",
              "</div><div style=\"display: inline-block; padding: 10px;\"><h3>Conjunto de Pruebas</h3><style type=\"text/css\">\n",
              "#T_3b6ec_row0_col2, #T_3b6ec_row1_col0, #T_3b6ec_row1_col1, #T_3b6ec_row1_col3 {\n",
              "  background-color: lightblue;\n",
              "}\n",
              "</style>\n",
              "<table id=\"T_3b6ec\">\n",
              "  <thead>\n",
              "    <tr>\n",
              "      <th class=\"blank level0\" >&nbsp;</th>\n",
              "      <th id=\"T_3b6ec_level0_col0\" class=\"col_heading level0 col0\" >Recall</th>\n",
              "      <th id=\"T_3b6ec_level0_col1\" class=\"col_heading level0 col1\" >Recall Macro</th>\n",
              "      <th id=\"T_3b6ec_level0_col2\" class=\"col_heading level0 col2\" >F1 Score</th>\n",
              "      <th id=\"T_3b6ec_level0_col3\" class=\"col_heading level0 col3\" >Fit_Time</th>\n",
              "    </tr>\n",
              "  </thead>\n",
              "  <tbody>\n",
              "    <tr>\n",
              "      <th id=\"T_3b6ec_level0_row0\" class=\"row_heading level0 row0\" >Dummy</th>\n",
              "      <td id=\"T_3b6ec_row0_col0\" class=\"data row0 col0\" >0.000000</td>\n",
              "      <td id=\"T_3b6ec_row0_col1\" class=\"data row0 col1\" >0.000000</td>\n",
              "      <td id=\"T_3b6ec_row0_col2\" class=\"data row0 col2\" >0.774194</td>\n",
              "      <td id=\"T_3b6ec_row0_col3\" class=\"data row0 col3\" >0.007118</td>\n",
              "    </tr>\n",
              "    <tr>\n",
              "      <th id=\"T_3b6ec_level0_row1\" class=\"row_heading level0 row1\" >Ensemble</th>\n",
              "      <td id=\"T_3b6ec_row1_col0\" class=\"data row1 col0\" >0.791667</td>\n",
              "      <td id=\"T_3b6ec_row1_col1\" class=\"data row1 col1\" >0.610119</td>\n",
              "      <td id=\"T_3b6ec_row1_col2\" class=\"data row1 col2\" >0.745098</td>\n",
              "      <td id=\"T_3b6ec_row1_col3\" class=\"data row1 col3\" >188.410704</td>\n",
              "    </tr>\n",
              "    <tr>\n",
              "      <th id=\"T_3b6ec_level0_row2\" class=\"row_heading level0 row2\" >red neuronal</th>\n",
              "      <td id=\"T_3b6ec_row2_col0\" class=\"data row2 col0\" >0.625000</td>\n",
              "      <td id=\"T_3b6ec_row2_col1\" class=\"data row2 col1\" >0.455357</td>\n",
              "      <td id=\"T_3b6ec_row2_col2\" class=\"data row2 col2\" >0.612245</td>\n",
              "      <td id=\"T_3b6ec_row2_col3\" class=\"data row2 col3\" >1.447207</td>\n",
              "    </tr>\n",
              "  </tbody>\n",
              "</table>\n",
              "</div>"
            ]
          },
          "metadata": {}
        }
      ],
      "source": [
        "# Definimos el modelo\n",
        "start_time = time.time()\n",
        "red = MLPClassifier(solver=\"adam\",  activation = 'logistic', alpha = 0.1, hidden_layer_sizes = (50,),\n",
        "                    learning_rate_init = 0.01, max_iter = 500, random_state=42)\n",
        "\n",
        "# se ajusta el modelo\n",
        "red.fit(Xtv2, ytv2)\n",
        "tiempo_fit_red = time.time() - start_time\n",
        "\n",
        "# generamos el ensamble usando bagging\n",
        "start_time = time.time()\n",
        "ensamble6 = BaggingClassifier(base_estimator=red, n_estimators=200, random_state=42)\n",
        "\n",
        "# Entrenamos el ensamble\n",
        "ensamble6.fit(Xtv2, ytv2)\n",
        "tiempo_fit_ensamble6 = time.time() - start_time\n",
        "\n",
        "# Evaluamos el rendimiento de los modelos con el conjunto de entrenamiento\n",
        "\n",
        "ytv_pred = cross_val_predict(red, Xtv2, ytv2, cv=5)\n",
        "recall_tv = recall_score(ytv2, ytv_pred, average='binary')\n",
        "recall_tv_macro = recall_score(ytv2, ytv_pred, average='macro')\n",
        "f1_tv = f1_score(ytv2, ytv_pred, average='binary')\n",
        "\n",
        "ytv_pred_ensamble6 = ensamble6.predict(Xtv2)\n",
        "recall_tv_ensamble6 = recall_score(ytv2, ytv_pred_ensamble6, average='binary')\n",
        "recall_tv_macro_ensamble6 = recall_score(ytv2, ytv_pred_ensamble6, average='macro')\n",
        "f1_tv_ensamble6 = f1_score(ytv2, ytv_pred_ensamble6, average='binary')\n",
        "\n",
        "cuadro1 = {\n",
        "    'Modelo': ['Dummy', 'red neuronal', 'Ensemble'],\n",
        "    'Recall': [recall_test_dum, recall_tv,  recall_tv_ensamble6],\n",
        "    'Recall Macro': [recall_test_macro_dum, recall_tv_macro, recall_tv_macro_ensamble6],\n",
        "    'F1 Score': [f1_test_dum, f1_tv, f1_tv_ensamble6],\n",
        "    'Fit_Time': [tiempo_fit_dummy, tiempo_fit_red,tiempo_fit_ensamble6]\n",
        "}\n",
        "\n",
        "# Crear un DataFrame para almacenar los resultados\n",
        "cuadro1_df = pd.DataFrame(cuadro1,index=cuadro1[\"Modelo\"])\n",
        "cuadro1_df.drop(columns=['Modelo'], inplace=True)\n",
        "\n",
        "# Ordenar el DataFrame por la columna F1_Tst de mayor a menor\n",
        "cuadro1_df = cuadro1_df.sort_values(by='F1 Score', ascending=False)\n",
        "\n",
        "\n",
        "# Evaluamos el rendimiento de los modelos con el conjunto de pruebas\n",
        "\n",
        "ytest_pred = cross_val_predict(red, Xtest2, ytest2, cv=5)\n",
        "recall_test = recall_score(ytest2, ytest_pred, average='binary')\n",
        "recall_test_macro = recall_score(ytest2, ytest_pred, average='macro')\n",
        "f1_test = f1_score(ytest2, ytest_pred, average='binary')\n",
        "\n",
        "ytest_pred_ensamble6 = ensamble6.predict(Xtest2)\n",
        "recall_test_ensamble6 = recall_score(ytest2, ytest_pred_ensamble6, average='binary')\n",
        "recall_test_macro_ensamble6 = recall_score(ytest2, ytest_pred_ensamble6, average='macro')\n",
        "f1_test_ensamble6 = f1_score(ytest2, ytest_pred_ensamble6, average='binary')\n",
        "\n",
        "cuadro2 = {\n",
        "    'Modelo': ['Dummy', 'red neuronal', 'Ensemble'],\n",
        "    'Recall': [recall_test_dum, recall_test, recall_test_ensamble6],\n",
        "    'Recall Macro': [recall_test_macro_dum, recall_test_macro, recall_test_macro_ensamble6],\n",
        "    'F1 Score': [f1_test_dum, f1_test, f1_test_ensamble6],\n",
        "    'Fit_Time': [tiempo_fit_dummy, tiempo_fit_red,tiempo_fit_ensamble6]\n",
        "}\n",
        "\n",
        "# Crear un DataFrame para almacenar los resultados\n",
        "cuadro2_df = pd.DataFrame(cuadro2,index=cuadro2[\"Modelo\"])\n",
        "cuadro2_df.drop(columns=['Modelo'], inplace=True)\n",
        "\n",
        "# Ordenar el DataFrame por la columna F1_Tst de mayor a menor\n",
        "cuadro2_df = cuadro2_df.sort_values(by='F1 Score', ascending=False)\n",
        "\n",
        "# Aquí puedes especificar el axis=0 para columnas o axis=1 para filas\n",
        "display_side_by_side([cuadro1_df, cuadro2_df], ['Conjunto de Entrenamiento', 'Conjunto de Pruebas'],\n",
        "                     color='lightblue', axis=0)"
      ]
    },
    {
      "cell_type": "code",
      "execution_count": null,
      "id": "76556e76",
      "metadata": {
        "colab": {
          "base_uri": "https://localhost:8080/",
          "height": 607
        },
        "id": "76556e76",
        "outputId": "ecebe2de-d17b-4268-d134-b3437c57da5e"
      },
      "outputs": [
        {
          "output_type": "display_data",
          "data": {
            "text/plain": [
              "<Figure size 1400x600 with 2 Axes>"
            ],
            "image/png": "[encoded data removed]"
          },
          "metadata": {}
        }
      ],
      "source": [
        "# Generar las matrices de confusión\n",
        "cm_tv = confusion_matrix(ytv2, ytv_pred_ensamble6)\n",
        "cm_test = confusion_matrix(ytest2, ytest_pred_ensamble6)\n",
        "\n",
        "# Crear DataFrames de las matrices de confusión\n",
        "cm_tv_df = pd.DataFrame(cm_tv, index=[0, 1], columns=[0, 1])\n",
        "cm_test_df = pd.DataFrame(cm_test, index=[0, 1], columns=[0, 1])\n",
        "\n",
        "# Crear el heatmap usando seaborn\n",
        "plt.figure(figsize=(14, 6))\n",
        "\n",
        "# Heatmap de la matriz de confusión de entrenamiento\n",
        "plt.subplot(1, 2, 1)\n",
        "sns.heatmap(cm_tv_df, annot=True, fmt='d', cmap='Blues', cbar=False)\n",
        "plt.title('Matriz de Confusión - Entrenamiento')\n",
        "plt.xlabel('Predicted')\n",
        "plt.ylabel('Actual')\n",
        "\n",
        "# Heatmap de la matriz de confusión de prueba\n",
        "plt.subplot(1, 2, 2)\n",
        "sns.heatmap(cm_test_df, annot=True, fmt='d', cmap='Blues', cbar=False)\n",
        "plt.title('Matriz de Confusión - Prueba')\n",
        "plt.xlabel('Predicted')\n",
        "plt.ylabel('Actual')\n",
        "\n",
        "# Mostrar las gráficas\n",
        "plt.tight_layout()\n",
        "plt.show()"
      ]
    },
    {
      "cell_type": "markdown",
      "source": [
        "### **2.3 Refinamiento de hiperparámetros de los mejores modelos semana 5**"
      ],
      "metadata": {
        "id": "6Rh04lSkp6Ev"
      },
      "id": "6Rh04lSkp6Ev"
    },
    {
      "cell_type": "markdown",
      "source": [
        "#### 2.3.1 Stacking con Regresión logística y SVM"
      ],
      "metadata": {
        "id": "EwrQRdy8qEMS"
      },
      "id": "EwrQRdy8qEMS"
    },
    {
      "cell_type": "code",
      "execution_count": null,
      "id": "-5wjTp3kJleS",
      "metadata": {
        "colab": {
          "base_uri": "https://localhost:8080/",
          "height": 238
        },
        "id": "-5wjTp3kJleS",
        "outputId": "e642c7f4-7120-473e-e62f-3268f205ee1b"
      },
      "outputs": [
        {
          "output_type": "stream",
          "name": "stdout",
          "text": [
            "Fitting 5 folds for each of 160 candidates, totalling 800 fits\n",
            "Mejores hiperparámetros: {'class_weight': None, 'max_iter': 30, 'penalty': 'l2', 'tol': 0.0001}\n",
            "Mejor F1 Score: 0.914040404040404\n"
          ]
        },
        {
          "output_type": "display_data",
          "data": {
            "text/html": [
              "<div style=\"display: inline-block; padding: 10px;\"><h3>Conjunto de Entrenamiento</h3><style type=\"text/css\">\n",
              "#T_47bf7_row0_col0, #T_47bf7_row0_col1, #T_47bf7_row0_col2, #T_47bf7_row0_col3 {\n",
              "  background-color: lightblue;\n",
              "}\n",
              "</style>\n",
              "<table id=\"T_47bf7\">\n",
              "  <thead>\n",
              "    <tr>\n",
              "      <th class=\"blank level0\" >&nbsp;</th>\n",
              "      <th id=\"T_47bf7_level0_col0\" class=\"col_heading level0 col0\" >Recall</th>\n",
              "      <th id=\"T_47bf7_level0_col1\" class=\"col_heading level0 col1\" >Recall Macro</th>\n",
              "      <th id=\"T_47bf7_level0_col2\" class=\"col_heading level0 col2\" >F1 Score</th>\n",
              "      <th id=\"T_47bf7_level0_col3\" class=\"col_heading level0 col3\" >Fit_Time</th>\n",
              "    </tr>\n",
              "  </thead>\n",
              "  <tbody>\n",
              "    <tr>\n",
              "      <th id=\"T_47bf7_level0_row0\" class=\"row_heading level0 row0\" >Ensemble</th>\n",
              "      <td id=\"T_47bf7_row0_col0\" class=\"data row0 col0\" >0.877828</td>\n",
              "      <td id=\"T_47bf7_row0_col1\" class=\"data row0 col1\" >0.641393</td>\n",
              "      <td id=\"T_47bf7_row0_col2\" class=\"data row0 col2\" >0.796715</td>\n",
              "      <td id=\"T_47bf7_row0_col3\" class=\"data row0 col3\" >4.552528</td>\n",
              "    </tr>\n",
              "    <tr>\n",
              "      <th id=\"T_47bf7_level0_row1\" class=\"row_heading level0 row1\" >Dummy</th>\n",
              "      <td id=\"T_47bf7_row1_col0\" class=\"data row1 col0\" >0.000000</td>\n",
              "      <td id=\"T_47bf7_row1_col1\" class=\"data row1 col1\" >0.000000</td>\n",
              "      <td id=\"T_47bf7_row1_col2\" class=\"data row1 col2\" >0.785080</td>\n",
              "      <td id=\"T_47bf7_row1_col3\" class=\"data row1 col3\" >0.007118</td>\n",
              "    </tr>\n",
              "    <tr>\n",
              "      <th id=\"T_47bf7_level0_row2\" class=\"row_heading level0 row2\" >SVM</th>\n",
              "      <td id=\"T_47bf7_row2_col0\" class=\"data row2 col0\" >0.610860</td>\n",
              "      <td id=\"T_47bf7_row2_col1\" class=\"data row2 col1\" >0.623612</td>\n",
              "      <td id=\"T_47bf7_row2_col2\" class=\"data row2 col2\" >0.675000</td>\n",
              "      <td id=\"T_47bf7_row2_col3\" class=\"data row2 col3\" >0.062996</td>\n",
              "    </tr>\n",
              "    <tr>\n",
              "      <th id=\"T_47bf7_level0_row3\" class=\"row_heading level0 row3\" >Regression Logística</th>\n",
              "      <td id=\"T_47bf7_row3_col0\" class=\"data row3 col0\" >0.588235</td>\n",
              "      <td id=\"T_47bf7_row3_col1\" class=\"data row3 col1\" >0.554448</td>\n",
              "      <td id=\"T_47bf7_row3_col2\" class=\"data row3 col2\" >0.635697</td>\n",
              "      <td id=\"T_47bf7_row3_col3\" class=\"data row3 col3\" >0.016155</td>\n",
              "    </tr>\n",
              "  </tbody>\n",
              "</table>\n",
              "</div><div style=\"display: inline-block; padding: 10px;\"><h3>Conjunto de Pruebas</h3><style type=\"text/css\">\n",
              "#T_22278_row0_col2, #T_22278_row1_col0, #T_22278_row1_col3, #T_22278_row2_col1 {\n",
              "  background-color: lightblue;\n",
              "}\n",
              "</style>\n",
              "<table id=\"T_22278\">\n",
              "  <thead>\n",
              "    <tr>\n",
              "      <th class=\"blank level0\" >&nbsp;</th>\n",
              "      <th id=\"T_22278_level0_col0\" class=\"col_heading level0 col0\" >Recall</th>\n",
              "      <th id=\"T_22278_level0_col1\" class=\"col_heading level0 col1\" >Recall Macro</th>\n",
              "      <th id=\"T_22278_level0_col2\" class=\"col_heading level0 col2\" >F1 Score</th>\n",
              "      <th id=\"T_22278_level0_col3\" class=\"col_heading level0 col3\" >Fit_Time</th>\n",
              "    </tr>\n",
              "  </thead>\n",
              "  <tbody>\n",
              "    <tr>\n",
              "      <th id=\"T_22278_level0_row0\" class=\"row_heading level0 row0\" >Dummy</th>\n",
              "      <td id=\"T_22278_row0_col0\" class=\"data row0 col0\" >0.000000</td>\n",
              "      <td id=\"T_22278_row0_col1\" class=\"data row0 col1\" >0.000000</td>\n",
              "      <td id=\"T_22278_row0_col2\" class=\"data row0 col2\" >0.774194</td>\n",
              "      <td id=\"T_22278_row0_col3\" class=\"data row0 col3\" >0.007118</td>\n",
              "    </tr>\n",
              "    <tr>\n",
              "      <th id=\"T_22278_level0_row1\" class=\"row_heading level0 row1\" >Ensemble</th>\n",
              "      <td id=\"T_22278_row1_col0\" class=\"data row1 col0\" >0.791667</td>\n",
              "      <td id=\"T_22278_row1_col1\" class=\"data row1 col1\" >0.538690</td>\n",
              "      <td id=\"T_22278_row1_col2\" class=\"data row1 col2\" >0.716981</td>\n",
              "      <td id=\"T_22278_row1_col3\" class=\"data row1 col3\" >4.552528</td>\n",
              "    </tr>\n",
              "    <tr>\n",
              "      <th id=\"T_22278_level0_row2\" class=\"row_heading level0 row2\" >Regression Logística</th>\n",
              "      <td id=\"T_22278_row2_col0\" class=\"data row2 col0\" >0.666667</td>\n",
              "      <td id=\"T_22278_row2_col1\" class=\"data row2 col1\" >0.547619</td>\n",
              "      <td id=\"T_22278_row2_col2\" class=\"data row2 col2\" >0.666667</td>\n",
              "      <td id=\"T_22278_row2_col3\" class=\"data row2 col3\" >0.016155</td>\n",
              "    </tr>\n",
              "    <tr>\n",
              "      <th id=\"T_22278_level0_row3\" class=\"row_heading level0 row3\" >SVM</th>\n",
              "      <td id=\"T_22278_row3_col0\" class=\"data row3 col0\" >0.666667</td>\n",
              "      <td id=\"T_22278_row3_col1\" class=\"data row3 col1\" >0.511905</td>\n",
              "      <td id=\"T_22278_row3_col2\" class=\"data row3 col2\" >0.653061</td>\n",
              "      <td id=\"T_22278_row3_col3\" class=\"data row3 col3\" >0.062996</td>\n",
              "    </tr>\n",
              "  </tbody>\n",
              "</table>\n",
              "</div>"
            ]
          },
          "metadata": {}
        }
      ],
      "source": [
        "# Definir los modelos\n",
        "start_time = time.time()\n",
        "ensamble1 = LogisticRegression( random_state=0, solver=\"liblinear\")\n",
        "\n",
        "param_grid = {\n",
        "    'class_weight': [None, 'balanced'],\n",
        "    'penalty': ['l1', 'l2', 'elasticnet', 'none'],\n",
        "    'tol': [1e-4, 1e-3, 1e-2, 1e-1],\n",
        "    'max_iter': [30, 50, 100, 200, 300]\n",
        "}\n",
        "\n",
        "grid_search = GridSearchCV(estimator=ensamble1, param_grid=param_grid,\n",
        "                           cv=5, scoring='recall', n_jobs=-1, verbose=1)\n",
        "\n",
        "grid_search.fit(stacked_tv, ytv1)\n",
        "\n",
        "best_params = grid_search.best_params_\n",
        "best_score = grid_search.best_score_\n",
        "\n",
        "print(f\"Mejores hiperparámetros: {best_params}\")\n",
        "print(f\"Mejor F1 Score: {best_score}\")\n",
        "\n",
        "\n",
        "# Medir el tiempo de ajuste del ensamble con los mejores hiperparametros\n",
        "ensamble1_best = LogisticRegression(**best_params)\n",
        "ensamble1_best.fit(stacked_tv, ytv1)\n",
        "tiempo_fit_ensamble1_best = time.time() - start_time\n",
        "\n",
        "# Evaluamos el rendimiento de los modelos con el conjunto de entrenamiento\n",
        "\n",
        "ytv1_pred_dum = cross_val_predict(dummy_clf, Xtv1, ytv1, cv=5)\n",
        "recall_tv_dum = 0 # No se calcula ya que recall evalua la tasa de verdaderos positivos y\n",
        "                    #nuestro Dummy genera un 100% de positivos.\n",
        "recall_tv_macro_dum = 0\n",
        "f1_tv_dum = f1_score(ytv1, ytv1_pred_dum, average='binary')\n",
        "\n",
        "\n",
        "ytv1_pred_reg = cross_val_predict(reg, Xtv1, ytv1, cv=5)\n",
        "recall_tv_reg = recall_score(ytv1, ytv1_pred_reg, average='binary')\n",
        "recall_tv_macro_reg = recall_score(ytv1, ytv1_pred_reg, average='macro')\n",
        "f1_tv_reg = f1_score(ytv1, ytv1_pred_reg, average='binary')\n",
        "\n",
        "\n",
        "ytv1_pred_svm = cross_val_predict(svm, Xtv1, ytv1, cv=5)\n",
        "recall_tv_svm = recall_score(ytv1, ytv1_pred_svm, average='binary')\n",
        "recall_tv_macro_svm = recall_score(ytv1, ytv1_pred_svm, average='macro')\n",
        "f1_tv_svm = f1_score(ytv1, ytv1_pred_svm, average='binary')\n",
        "\n",
        "\n",
        "ytv1_pred_ensamble1_best = ensamble1_best.predict(stacked_tv)\n",
        "recall_tv_ensamble1_best = recall_score(ytv1, ytv1_pred_ensamble1_best, average='binary')\n",
        "recall_tv_macro_ensamble1_best = recall_score(ytv1, ytv1_pred_ensamble1_best, average='macro')\n",
        "f1_tv_ensamble1_best = f1_score(ytv1, ytv1_pred_ensamble1_best, average='binary')\n",
        "\n",
        "cuadro1 = {\n",
        "    'Modelo': ['Dummy', 'Regression Logística', 'SVM', 'Ensemble'],\n",
        "    'Recall': [recall_tv_dum, recall_tv_reg, recall_tv_svm, recall_tv_ensamble1_best],\n",
        "    'Recall Macro': [recall_tv_macro_dum, recall_tv_macro_reg, recall_tv_macro_svm, recall_tv_macro_ensamble1_best],\n",
        "    'F1 Score': [f1_tv_dum, f1_tv_reg, f1_tv_svm, f1_tv_ensamble1_best],\n",
        "    'Fit_Time': [tiempo_fit_dummy, tiempo_fit_reg, tiempo_fit_svm, tiempo_fit_ensamble1_best]\n",
        "}\n",
        "\n",
        "# Crear un DataFrame para almacenar los resultados\n",
        "cuadro1_df = pd.DataFrame(cuadro1,index=cuadro1[\"Modelo\"])\n",
        "cuadro1_df.drop(columns=['Modelo'], inplace=True)\n",
        "\n",
        "# Ordenar el DataFrame por la columna F1_Tst de mayor a menor\n",
        "cuadro1_df = cuadro1_df.sort_values(by='F1 Score', ascending=False)\n",
        "\n",
        "\n",
        "# Evaluamos el rendimiento de los modelos con el conjunto de pruebas\n",
        "ytest1_pred_dum = cross_val_predict(dummy_clf, Xtest1, ytest1, cv=5)\n",
        "recall_test_dum = 0\n",
        "recall_test_macro_dum = 0\n",
        "f1_test_dum = f1_score(ytest1, ytest1_pred_dum, average='binary')\n",
        "\n",
        "\n",
        "ytest1_pred_reg = cross_val_predict(reg, Xtest1, ytest1, cv=5)\n",
        "recall_test_reg = recall_score(ytest1, ytest1_pred_reg, average='binary')\n",
        "recall_test_macro_reg = recall_score(ytest1, ytest1_pred_reg, average='macro')\n",
        "f1_test_reg = f1_score(ytest1, ytest1_pred_reg, average='binary')\n",
        "\n",
        "\n",
        "ytest1_pred_svm = cross_val_predict(svm, Xtest1, ytest1, cv=5)\n",
        "recall_test_svm = recall_score(ytest1, ytest1_pred_svm, average='binary')\n",
        "recall_test_macro_svm = recall_score(ytest1, ytest1_pred_svm, average='macro')\n",
        "f1_test_svm = f1_score(ytest1, ytest1_pred_svm, average='binary')\n",
        "\n",
        "\n",
        "ytest1_pred_ensamble1_best = ensamble1_best.predict(stacked_test)\n",
        "recall_test_ensamble1_best = recall_score(ytest1, ytest1_pred_ensamble1_best, average='binary')\n",
        "recall_test_macro_ensamble1_best = recall_score(ytest1, ytest1_pred_ensamble1_best, average='macro')\n",
        "f1_test_ensamble1_best = f1_score(ytest1, ytest1_pred_ensamble1_best, average='binary')\n",
        "\n",
        "cuadro2 = {\n",
        "    'Modelo': ['Dummy', 'Regression Logística', 'SVM', 'Ensemble'],\n",
        "    'Recall': [recall_test_dum, recall_test_reg, recall_test_svm, recall_test_ensamble1_best],\n",
        "    'Recall Macro': [recall_test_macro_dum, recall_test_macro_reg, recall_test_macro_svm, recall_test_macro_ensamble1_best],\n",
        "    'F1 Score': [f1_test_dum, f1_test_reg, f1_test_svm, f1_test_ensamble1_best],\n",
        "    'Fit_Time': [tiempo_fit_dummy, tiempo_fit_reg, tiempo_fit_svm, tiempo_fit_ensamble1_best]\n",
        "}\n",
        "\n",
        "cuadro2_df = pd.DataFrame(cuadro2)\n",
        "\n",
        "# Crear un DataFrame para almacenar los resultados\n",
        "cuadro2_df = pd.DataFrame(cuadro2,index=cuadro2[\"Modelo\"])\n",
        "cuadro2_df.drop(columns=['Modelo'], inplace=True)\n",
        "\n",
        "# Ordenar el DataFrame por la columna F1_Tst de mayor a menor\n",
        "cuadro2_df = cuadro2_df.sort_values(by='F1 Score', ascending=False)\n",
        "\n",
        "# Aquí puedes especificar el axis=0 para columnas o axis=1 para filas\n",
        "display_side_by_side([cuadro1_df, cuadro2_df], ['Conjunto de Entrenamiento', 'Conjunto de Pruebas'],\n",
        "                     color='lightblue', axis=0)"
      ]
    },
    {
      "cell_type": "code",
      "source": [
        "# Generar las matrices de confusión\n",
        "cm_tv = confusion_matrix(ytv1, ytv1_pred_ensamble1_best)\n",
        "cm_test = confusion_matrix(ytest1, ytest1_pred_ensamble1_best)\n",
        "\n",
        "# Crear DataFrames de las matrices de confusión\n",
        "cm_tv_df = pd.DataFrame(cm_tv, index=[0, 1], columns=[0, 1])\n",
        "cm_test_df = pd.DataFrame(cm_test, index=[0, 1], columns=[0, 1])\n",
        "\n",
        "# Crear el heatmap usando seaborn\n",
        "plt.figure(figsize=(14, 6))\n",
        "\n",
        "# Heatmap de la matriz de confusión de entrenamiento\n",
        "plt.subplot(1, 2, 1)\n",
        "sns.heatmap(cm_tv_df, annot=True, fmt='d', cmap='Blues', cbar=False)\n",
        "plt.title('Matriz de Confusión - Entrenamiento')\n",
        "plt.xlabel('Predicted')\n",
        "plt.ylabel('Actual')\n",
        "\n",
        "# Heatmap de la matriz de confusión de prueba\n",
        "plt.subplot(1, 2, 2)\n",
        "sns.heatmap(cm_test_df, annot=True, fmt='d', cmap='Blues', cbar=False)\n",
        "plt.title('Matriz de Confusión - Prueba')\n",
        "plt.xlabel('Predicted')\n",
        "plt.ylabel('Actual')\n",
        "\n",
        "# Mostrar las gráficas\n",
        "plt.tight_layout()\n",
        "plt.show()"
      ],
      "metadata": {
        "colab": {
          "base_uri": "https://localhost:8080/",
          "height": 607
        },
        "id": "kHdRIzsjwCUf",
        "outputId": "b9ed279d-2758-4210-b09a-0514f468d5b2"
      },
      "id": "kHdRIzsjwCUf",
      "execution_count": null,
      "outputs": [
        {
          "output_type": "display_data",
          "data": {
            "text/plain": [
              "<Figure size 1400x600 with 2 Axes>"
            ],
            "image/png": "[encoded data removed]"
          },
          "metadata": {}
        }
      ]
    },
    {
      "cell_type": "markdown",
      "source": [
        "#### 2.3.2 Bagging con Regresión Logística"
      ],
      "metadata": {
        "id": "7v_azwrfxibt"
      },
      "id": "7v_azwrfxibt"
    },
    {
      "cell_type": "code",
      "source": [
        "# Definimos el modelo\n",
        "start_time = time.time()\n",
        "reg = LogisticRegression(solver='liblinear', class_weight= \"balanced\",\n",
        "                         max_iter= 100, penalty = 'l2', tol = 0.0001, random_state=0)\n",
        "\n",
        "# se ajusta el modelo\n",
        "reg.fit(Xtv1, ytv1)\n",
        "tiempo_fit_reg = time.time() - start_time\n",
        "\n",
        "# generamos el ensamble usando bagging\n",
        "start_time = time.time()\n",
        "ensamble4 = BaggingClassifier(base_estimator=reg, n_estimators=200, random_state=42)\n",
        "\n",
        "param_grid = {\n",
        "    'n_estimators': [50, 100, 200],\n",
        "    'max_samples': [0.5, 0.7, 1.0],\n",
        "    'max_features': [0.5, 0.7, 1.0],\n",
        "    'bootstrap': [True, False],\n",
        "    'bootstrap_features': [True, False]\n",
        "}\n",
        "\n",
        "grid_search = GridSearchCV(estimator=ensamble4, param_grid=param_grid, cv=5, scoring='recall', n_jobs=-1, verbose=1)\n",
        "\n",
        "grid_search.fit(Xtv1, ytv1)\n",
        "\n",
        "best_params = grid_search.best_params_\n",
        "best_score = grid_search.best_score_\n",
        "\n",
        "print(f\"Mejores hiperparámetros: {best_params}\")\n",
        "print(f\"Mejor Recall Score: {best_score}\")\n",
        "\n",
        "# Entrenamos el ensamble\n",
        "\n",
        "best_bagging_params = {key: value for key, value in best_params.items() if 'base_estimator__' not in key}\n",
        "\n",
        "ensamble4_best = BaggingClassifier(base_estimator=reg, **best_bagging_params, random_state=0)\n",
        "\n",
        "ensamble4_best.fit(Xtv1, ytv1)\n",
        "\n",
        "tiempo_fit_ensamble4_best = time.time() - start_time\n",
        "\n",
        "# Evaluamos el rendimiento de los modelos con el conjunto de entrenamiento\n",
        "\n",
        "ytv_pred = cross_val_predict(reg, Xtv1, ytv1, cv=5)\n",
        "recall_tv = recall_score(ytv1, ytv_pred, average='binary')\n",
        "recall_tv_macro = recall_score(ytv1, ytv_pred, average='macro')\n",
        "f1_tv = f1_score(ytv1, ytv_pred, average='binary')\n",
        "\n",
        "ytv_pred_ensamble4_best = ensamble4_best.predict(Xtv1)\n",
        "recall_tv_ensamble4_best = recall_score(ytv1, ytv_pred_ensamble4_best, average='binary')\n",
        "recall_tv_macro_ensamble4_best = recall_score(ytv1, ytv_pred_ensamble4_best, average='macro')\n",
        "f1_tv_ensamble4_best = f1_score(ytv1, ytv_pred_ensamble4_best, average='binary')\n",
        "\n",
        "cuadro1 = {\n",
        "    'Modelo': ['Dummy', 'Regresión logística', 'Ensemble'],\n",
        "    'Recall': [recall_test_dum, recall_tv,  recall_tv_ensamble4_best],\n",
        "    'Recall Macro': [recall_test_macro_dum, recall_tv_macro, recall_tv_macro_ensamble4_best],\n",
        "    'F1 Score': [f1_test_dum, f1_tv, f1_tv_ensamble4_best],\n",
        "    'Fit_Time': [tiempo_fit_dummy, tiempo_fit_reg, tiempo_fit_ensamble4_best]\n",
        "}\n",
        "\n",
        "# Crear un DataFrame para almacenar los resultados\n",
        "cuadro1_df = pd.DataFrame(cuadro1,index=cuadro1[\"Modelo\"])\n",
        "cuadro1_df.drop(columns=['Modelo'], inplace=True)\n",
        "\n",
        "# Ordenar el DataFrame por la columna F1_Tst de mayor a menor\n",
        "cuadro1_df = cuadro1_df.sort_values(by='F1 Score', ascending=False)\n",
        "\n",
        "\n",
        "# Evaluamos el rendimiento de los modelos con el conjunto de pruebas\n",
        "\n",
        "ytest_pred = cross_val_predict(reg, Xtest1, ytest1, cv=5)\n",
        "recall_test = recall_score(ytest1, ytest_pred, average='binary')\n",
        "recall_test_macro = recall_score(ytest1, ytest_pred, average='macro')\n",
        "f1_test = f1_score(ytest1, ytest_pred, average='binary')\n",
        "\n",
        "ytest_pred_ensamble4_best = ensamble4_best.predict(Xtest1)\n",
        "recall_test_ensamble4_best = recall_score(ytest1, ytest_pred_ensamble4_best, average='binary')\n",
        "recall_test_macro_ensamble4_best = recall_score(ytest1, ytest_pred_ensamble4_best, average='macro')\n",
        "f1_test_ensamble4_best = f1_score(ytest1, ytest_pred_ensamble4_best, average='binary')\n",
        "\n",
        "cuadro2 = {\n",
        "    'Modelo': ['Dummy', 'Regresión logística', 'Ensemble'],\n",
        "    'Recall': [recall_test_dum, recall_test, recall_test_ensamble4_best],\n",
        "    'Recall Macro': [recall_test_macro_dum, recall_test_macro, recall_test_macro_ensamble4_best],\n",
        "    'F1 Score': [f1_test_dum, f1_test, f1_test_ensamble4_best],\n",
        "    'Fit_Time': [tiempo_fit_dummy, tiempo_fit_reg, tiempo_fit_ensamble4_best]\n",
        "}\n",
        "\n",
        "# Crear un DataFrame para almacenar los resultados\n",
        "cuadro2_df = pd.DataFrame(cuadro2,index=cuadro2[\"Modelo\"])\n",
        "cuadro2_df.drop(columns=['Modelo'], inplace=True)\n",
        "\n",
        "# Ordenar el DataFrame por la columna F1_Tst de mayor a menor\n",
        "cuadro2_df = cuadro2_df.sort_values(by='F1 Score', ascending=False)\n",
        "\n",
        "# Aquí puedes especificar el axis=0 para columnas o axis=1 para filas\n",
        "display_side_by_side([cuadro1_df, cuadro2_df], ['Conjunto de Entrenamiento', 'Conjunto de Pruebas'],\n",
        "                     color='lightblue', axis=0)"
      ],
      "metadata": {
        "colab": {
          "base_uri": "https://localhost:8080/",
          "height": 217
        },
        "id": "0N3swl6WxlM7",
        "outputId": "7482b719-2db9-46b9-f228-a0b093ec015a"
      },
      "id": "0N3swl6WxlM7",
      "execution_count": null,
      "outputs": [
        {
          "output_type": "stream",
          "name": "stdout",
          "text": [
            "Fitting 5 folds for each of 108 candidates, totalling 540 fits\n",
            "Mejores hiperparámetros: {'bootstrap': True, 'bootstrap_features': False, 'max_features': 0.5, 'max_samples': 0.5, 'n_estimators': 100}\n",
            "Mejor Recall Score: 0.6790909090909091\n"
          ]
        },
        {
          "output_type": "display_data",
          "data": {
            "text/html": [
              "<div style=\"display: inline-block; padding: 10px;\"><h3>Conjunto de Entrenamiento</h3><style type=\"text/css\">\n",
              "#T_f9105_row0_col2, #T_f9105_row1_col0, #T_f9105_row1_col1, #T_f9105_row1_col3 {\n",
              "  background-color: lightblue;\n",
              "}\n",
              "</style>\n",
              "<table id=\"T_f9105\">\n",
              "  <thead>\n",
              "    <tr>\n",
              "      <th class=\"blank level0\" >&nbsp;</th>\n",
              "      <th id=\"T_f9105_level0_col0\" class=\"col_heading level0 col0\" >Recall</th>\n",
              "      <th id=\"T_f9105_level0_col1\" class=\"col_heading level0 col1\" >Recall Macro</th>\n",
              "      <th id=\"T_f9105_level0_col2\" class=\"col_heading level0 col2\" >F1 Score</th>\n",
              "      <th id=\"T_f9105_level0_col3\" class=\"col_heading level0 col3\" >Fit_Time</th>\n",
              "    </tr>\n",
              "  </thead>\n",
              "  <tbody>\n",
              "    <tr>\n",
              "      <th id=\"T_f9105_level0_row0\" class=\"row_heading level0 row0\" >Dummy</th>\n",
              "      <td id=\"T_f9105_row0_col0\" class=\"data row0 col0\" >0.000000</td>\n",
              "      <td id=\"T_f9105_row0_col1\" class=\"data row0 col1\" >0.000000</td>\n",
              "      <td id=\"T_f9105_row0_col2\" class=\"data row0 col2\" >0.774194</td>\n",
              "      <td id=\"T_f9105_row0_col3\" class=\"data row0 col3\" >0.007118</td>\n",
              "    </tr>\n",
              "    <tr>\n",
              "      <th id=\"T_f9105_level0_row1\" class=\"row_heading level0 row1\" >Ensemble</th>\n",
              "      <td id=\"T_f9105_row1_col0\" class=\"data row1 col0\" >0.687783</td>\n",
              "      <td id=\"T_f9105_row1_col1\" class=\"data row1 col1\" >0.662073</td>\n",
              "      <td id=\"T_f9105_row1_col2\" class=\"data row1 col2\" >0.729017</td>\n",
              "      <td id=\"T_f9105_row1_col3\" class=\"data row1 col3\" >290.325441</td>\n",
              "    </tr>\n",
              "    <tr>\n",
              "      <th id=\"T_f9105_level0_row2\" class=\"row_heading level0 row2\" >Regresión logística</th>\n",
              "      <td id=\"T_f9105_row2_col0\" class=\"data row2 col0\" >0.588235</td>\n",
              "      <td id=\"T_f9105_row2_col1\" class=\"data row2 col1\" >0.554448</td>\n",
              "      <td id=\"T_f9105_row2_col2\" class=\"data row2 col2\" >0.635697</td>\n",
              "      <td id=\"T_f9105_row2_col3\" class=\"data row2 col3\" >0.011099</td>\n",
              "    </tr>\n",
              "  </tbody>\n",
              "</table>\n",
              "</div><div style=\"display: inline-block; padding: 10px;\"><h3>Conjunto de Pruebas</h3><style type=\"text/css\">\n",
              "#T_19f24_row0_col2, #T_19f24_row1_col0, #T_19f24_row1_col1, #T_19f24_row2_col3 {\n",
              "  background-color: lightblue;\n",
              "}\n",
              "</style>\n",
              "<table id=\"T_19f24\">\n",
              "  <thead>\n",
              "    <tr>\n",
              "      <th class=\"blank level0\" >&nbsp;</th>\n",
              "      <th id=\"T_19f24_level0_col0\" class=\"col_heading level0 col0\" >Recall</th>\n",
              "      <th id=\"T_19f24_level0_col1\" class=\"col_heading level0 col1\" >Recall Macro</th>\n",
              "      <th id=\"T_19f24_level0_col2\" class=\"col_heading level0 col2\" >F1 Score</th>\n",
              "      <th id=\"T_19f24_level0_col3\" class=\"col_heading level0 col3\" >Fit_Time</th>\n",
              "    </tr>\n",
              "  </thead>\n",
              "  <tbody>\n",
              "    <tr>\n",
              "      <th id=\"T_19f24_level0_row0\" class=\"row_heading level0 row0\" >Dummy</th>\n",
              "      <td id=\"T_19f24_row0_col0\" class=\"data row0 col0\" >0.000000</td>\n",
              "      <td id=\"T_19f24_row0_col1\" class=\"data row0 col1\" >0.000000</td>\n",
              "      <td id=\"T_19f24_row0_col2\" class=\"data row0 col2\" >0.774194</td>\n",
              "      <td id=\"T_19f24_row0_col3\" class=\"data row0 col3\" >0.007118</td>\n",
              "    </tr>\n",
              "    <tr>\n",
              "      <th id=\"T_19f24_level0_row1\" class=\"row_heading level0 row1\" >Regresión logística</th>\n",
              "      <td id=\"T_19f24_row1_col0\" class=\"data row1 col0\" >0.666667</td>\n",
              "      <td id=\"T_19f24_row1_col1\" class=\"data row1 col1\" >0.547619</td>\n",
              "      <td id=\"T_19f24_row1_col2\" class=\"data row1 col2\" >0.666667</td>\n",
              "      <td id=\"T_19f24_row1_col3\" class=\"data row1 col3\" >0.011099</td>\n",
              "    </tr>\n",
              "    <tr>\n",
              "      <th id=\"T_19f24_level0_row2\" class=\"row_heading level0 row2\" >Ensemble</th>\n",
              "      <td id=\"T_19f24_row2_col0\" class=\"data row2 col0\" >0.458333</td>\n",
              "      <td id=\"T_19f24_row2_col1\" class=\"data row2 col1\" >0.407738</td>\n",
              "      <td id=\"T_19f24_row2_col2\" class=\"data row2 col2\" >0.500000</td>\n",
              "      <td id=\"T_19f24_row2_col3\" class=\"data row2 col3\" >290.325441</td>\n",
              "    </tr>\n",
              "  </tbody>\n",
              "</table>\n",
              "</div>"
            ]
          },
          "metadata": {}
        }
      ]
    },
    {
      "cell_type": "code",
      "source": [
        "# Generar las matrices de confusión\n",
        "cm_tv = confusion_matrix(ytv1, ytv_pred_ensamble4_best)\n",
        "cm_test = confusion_matrix(ytest1, ytest_pred_ensamble4_best)\n",
        "\n",
        "# Crear DataFrames de las matrices de confusión\n",
        "cm_tv_df = pd.DataFrame(cm_tv, index=[0, 1], columns=[0, 1])\n",
        "cm_test_df = pd.DataFrame(cm_test, index=[0, 1], columns=[0, 1])\n",
        "\n",
        "# Crear el heatmap usando seaborn\n",
        "plt.figure(figsize=(14, 6))\n",
        "\n",
        "# Heatmap de la matriz de confusión de entrenamiento\n",
        "plt.subplot(1, 2, 1)\n",
        "sns.heatmap(cm_tv_df, annot=True, fmt='d', cmap='Blues', cbar=False)\n",
        "plt.title('Matriz de Confusión - Entrenamiento')\n",
        "plt.xlabel('Predicted')\n",
        "plt.ylabel('Actual')\n",
        "\n",
        "# Heatmap de la matriz de confusión de prueba\n",
        "plt.subplot(1, 2, 2)\n",
        "sns.heatmap(cm_test_df, annot=True, fmt='d', cmap='Blues', cbar=False)\n",
        "plt.title('Matriz de Confusión - Prueba')\n",
        "plt.xlabel('Predicted')\n",
        "plt.ylabel('Actual')\n",
        "\n",
        "# Mostrar las gráficas\n",
        "plt.tight_layout()\n",
        "plt.show()"
      ],
      "metadata": {
        "colab": {
          "base_uri": "https://localhost:8080/",
          "height": 607
        },
        "id": "uFpltUuCz8A6",
        "outputId": "baa723bc-b87a-46de-9e48-e3dd7783b85d"
      },
      "id": "uFpltUuCz8A6",
      "execution_count": null,
      "outputs": [
        {
          "output_type": "display_data",
          "data": {
            "text/plain": [
              "<Figure size 1400x600 with 2 Axes>"
            ],
            "image/png": "[encoded data removed]"
          },
          "metadata": {}
        }
      ]
    },
    {
      "cell_type": "markdown",
      "source": [
        "#### 2.3.3 Bagging con red Neuronal"
      ],
      "metadata": {
        "id": "y51V-6xp1UY4"
      },
      "id": "y51V-6xp1UY4"
    },
    {
      "cell_type": "code",
      "source": [
        "# Definimos el modelo\n",
        "start_time = time.time()\n",
        "red = MLPClassifier(solver=\"adam\",  activation = 'logistic', alpha = 0.1, hidden_layer_sizes = (50,),\n",
        "                    learning_rate_init = 0.01, max_iter = 500, random_state=42)\n",
        "\n",
        "# se ajusta el modelo\n",
        "red.fit(Xtv2, ytv2)\n",
        "tiempo_fit_red = time.time() - start_time\n",
        "\n",
        "# generamos el ensamble usando bagging\n",
        "start_time = time.time()\n",
        "ensamble6 = BaggingClassifier(base_estimator=red, n_estimators=200, random_state=42)\n",
        "\n",
        "param_grid = {\n",
        "    'n_estimators': [50, 100, 200],\n",
        "    'max_samples': [0.5, 0.7, 1.0],\n",
        "    'max_features': [0.5, 0.7, 1.0],\n",
        "    'bootstrap': [True, False],\n",
        "    'bootstrap_features': [True, False]\n",
        "}\n",
        "\n",
        "\n",
        "grid_search = GridSearchCV(estimator=ensamble6, param_grid=param_grid, cv=5, scoring='recall', n_jobs=-1, verbose=1)\n",
        "\n",
        "grid_search.fit(Xtv2, ytv2)\n",
        "\n",
        "best_params = grid_search.best_params_\n",
        "best_score = grid_search.best_score_\n",
        "\n",
        "print(f\"Mejores hiperparámetros: {best_params}\")\n",
        "print(f\"Mejor Recall Score: {best_score}\")\n",
        "\n",
        "# Entrenamos el ensamble\n",
        "\n",
        "best_bagging_params = {key: value for key, value in best_params.items() if 'base_estimator__' not in key}\n",
        "\n",
        "ensamble6_best = BaggingClassifier(base_estimator=red, **best_bagging_params, random_state=0)\n",
        "\n",
        "ensamble6_best.fit(Xtv2, ytv2)\n",
        "\n",
        "tiempo_fit_ensamble6_best = time.time() - start_time\n",
        "\n",
        "\n",
        "# Evaluamos el rendimiento de los modelos con el conjunto de entrenamiento\n",
        "\n",
        "ytv_pred = cross_val_predict(red, Xtv2, ytv2, cv=5)\n",
        "recall_tv = recall_score(ytv2, ytv_pred, average='binary')\n",
        "recall_tv_macro = recall_score(ytv2, ytv_pred, average='macro')\n",
        "f1_tv = f1_score(ytv2, ytv_pred, average='binary')\n",
        "\n",
        "ytv_pred_ensamble6_best = ensamble6_best.predict(Xtv2)\n",
        "recall_tv_ensamble6_best = recall_score(ytv2, ytv_pred_ensamble6_best, average='binary')\n",
        "recall_tv_macro_ensamble6_best = recall_score(ytv2, ytv_pred_ensamble6_best, average='macro')\n",
        "f1_tv_ensamble6_best = f1_score(ytv2, ytv_pred_ensamble6_best, average='binary')\n",
        "\n",
        "cuadro1 = {\n",
        "    'Modelo': ['Dummy', 'red neuronal', 'Ensemble'],\n",
        "    'Recall': [recall_test_dum, recall_tv,  recall_tv_ensamble6_best],\n",
        "    'Recall Macro': [recall_test_macro_dum, recall_tv_macro, recall_tv_macro_ensamble6_best],\n",
        "    'F1 Score': [f1_test_dum, f1_tv, f1_tv_ensamble6_best],\n",
        "    'Fit_Time': [tiempo_fit_dummy, tiempo_fit_red,tiempo_fit_ensamble6_best]\n",
        "}\n",
        "\n",
        "# Crear un DataFrame para almacenar los resultados\n",
        "cuadro1_df = pd.DataFrame(cuadro1,index=cuadro1[\"Modelo\"])\n",
        "cuadro1_df.drop(columns=['Modelo'], inplace=True)\n",
        "\n",
        "# Ordenar el DataFrame por la columna F1_Tst de mayor a menor\n",
        "cuadro1_df = cuadro1_df.sort_values(by='F1 Score', ascending=False)\n",
        "\n",
        "\n",
        "# Evaluamos el rendimiento de los modelos con el conjunto de pruebas\n",
        "\n",
        "ytest_pred = cross_val_predict(red, Xtest2, ytest2, cv=5)\n",
        "recall_test = recall_score(ytest2, ytest_pred, average='binary')\n",
        "recall_test_macro = recall_score(ytest2, ytest_pred, average='macro')\n",
        "f1_test = f1_score(ytest2, ytest_pred, average='binary')\n",
        "\n",
        "ytest_pred_ensamble6_best = ensamble6_best.predict(Xtest2)\n",
        "recall_test_ensamble6_best = recall_score(ytest2, ytest_pred_ensamble6_best, average='binary')\n",
        "recall_test_macro_ensamble6_best = recall_score(ytest2, ytest_pred_ensamble6_best, average='macro')\n",
        "f1_test_ensamble6_best = f1_score(ytest2, ytest_pred_ensamble6_best, average='binary')\n",
        "\n",
        "cuadro2 = {\n",
        "    'Modelo': ['Dummy', 'red neuronal', 'Ensemble'],\n",
        "    'Recall': [recall_test_dum, recall_test, recall_test_ensamble6_best],\n",
        "    'Recall Macro': [recall_test_macro_dum, recall_test_macro, recall_test_macro_ensamble6_best],\n",
        "    'F1 Score': [f1_test_dum, f1_test, f1_test_ensamble6_best],\n",
        "    'Fit_Time': [tiempo_fit_dummy, tiempo_fit_red,tiempo_fit_ensamble6_best]\n",
        "}\n",
        "\n",
        "# Crear un DataFrame para almacenar los resultados\n",
        "cuadro2_df = pd.DataFrame(cuadro2,index=cuadro2[\"Modelo\"])\n",
        "cuadro2_df.drop(columns=['Modelo'], inplace=True)\n",
        "\n",
        "# Ordenar el DataFrame por la columna F1_Tst de mayor a menor\n",
        "cuadro2_df = cuadro2_df.sort_values(by='F1 Score', ascending=False)\n",
        "\n",
        "# Aquí puedes especificar el axis=0 para columnas o axis=1 para filas\n",
        "display_side_by_side([cuadro1_df, cuadro2_df], ['Conjunto de Entrenamiento', 'Conjunto de Pruebas'],\n",
        "                     color='lightblue', axis=0)"
      ],
      "metadata": {
        "colab": {
          "base_uri": "https://localhost:8080/",
          "height": 217
        },
        "id": "HQOfCXBq1Z6Z",
        "outputId": "fca5892d-2652-44d6-dd0c-b0ff9514fe0d"
      },
      "id": "HQOfCXBq1Z6Z",
      "execution_count": null,
      "outputs": [
        {
          "output_type": "stream",
          "name": "stdout",
          "text": [
            "Fitting 5 folds for each of 108 candidates, totalling 540 fits\n",
            "Mejores hiperparámetros: {'bootstrap': True, 'bootstrap_features': True, 'max_features': 0.5, 'max_samples': 0.5, 'n_estimators': 200}\n",
            "Mejor Recall Score: 0.9008080808080807\n"
          ]
        },
        {
          "output_type": "display_data",
          "data": {
            "text/html": [
              "<div style=\"display: inline-block; padding: 10px;\"><h3>Conjunto de Entrenamiento</h3><style type=\"text/css\">\n",
              "#T_f79ab_row0_col0, #T_f79ab_row0_col1, #T_f79ab_row0_col2, #T_f79ab_row0_col3 {\n",
              "  background-color: lightblue;\n",
              "}\n",
              "</style>\n",
              "<table id=\"T_f79ab\">\n",
              "  <thead>\n",
              "    <tr>\n",
              "      <th class=\"blank level0\" >&nbsp;</th>\n",
              "      <th id=\"T_f79ab_level0_col0\" class=\"col_heading level0 col0\" >Recall</th>\n",
              "      <th id=\"T_f79ab_level0_col1\" class=\"col_heading level0 col1\" >Recall Macro</th>\n",
              "      <th id=\"T_f79ab_level0_col2\" class=\"col_heading level0 col2\" >F1 Score</th>\n",
              "      <th id=\"T_f79ab_level0_col3\" class=\"col_heading level0 col3\" >Fit_Time</th>\n",
              "    </tr>\n",
              "  </thead>\n",
              "  <tbody>\n",
              "    <tr>\n",
              "      <th id=\"T_f79ab_level0_row0\" class=\"row_heading level0 row0\" >Ensemble</th>\n",
              "      <td id=\"T_f79ab_row0_col0\" class=\"data row0 col0\" >1.000000</td>\n",
              "      <td id=\"T_f79ab_row0_col1\" class=\"data row0 col1\" >0.884298</td>\n",
              "      <td id=\"T_f79ab_row0_col2\" class=\"data row0 col2\" >0.940426</td>\n",
              "      <td id=\"T_f79ab_row0_col3\" class=\"data row0 col3\" >18566.358218</td>\n",
              "    </tr>\n",
              "    <tr>\n",
              "      <th id=\"T_f79ab_level0_row1\" class=\"row_heading level0 row1\" >Dummy</th>\n",
              "      <td id=\"T_f79ab_row1_col0\" class=\"data row1 col0\" >0.000000</td>\n",
              "      <td id=\"T_f79ab_row1_col1\" class=\"data row1 col1\" >0.000000</td>\n",
              "      <td id=\"T_f79ab_row1_col2\" class=\"data row1 col2\" >0.774194</td>\n",
              "      <td id=\"T_f79ab_row1_col3\" class=\"data row1 col3\" >0.007118</td>\n",
              "    </tr>\n",
              "    <tr>\n",
              "      <th id=\"T_f79ab_level0_row2\" class=\"row_heading level0 row2\" >red neuronal</th>\n",
              "      <td id=\"T_f79ab_row2_col0\" class=\"data row2 col0\" >0.692308</td>\n",
              "      <td id=\"T_f79ab_row2_col1\" class=\"data row2 col1\" >0.523840</td>\n",
              "      <td id=\"T_f79ab_row2_col2\" class=\"data row2 col2\" >0.676991</td>\n",
              "      <td id=\"T_f79ab_row2_col3\" class=\"data row2 col3\" >2.991469</td>\n",
              "    </tr>\n",
              "  </tbody>\n",
              "</table>\n",
              "</div><div style=\"display: inline-block; padding: 10px;\"><h3>Conjunto de Pruebas</h3><style type=\"text/css\">\n",
              "#T_1d6ef_row0_col2, #T_1d6ef_row1_col0, #T_1d6ef_row1_col1, #T_1d6ef_row1_col3 {\n",
              "  background-color: lightblue;\n",
              "}\n",
              "</style>\n",
              "<table id=\"T_1d6ef\">\n",
              "  <thead>\n",
              "    <tr>\n",
              "      <th class=\"blank level0\" >&nbsp;</th>\n",
              "      <th id=\"T_1d6ef_level0_col0\" class=\"col_heading level0 col0\" >Recall</th>\n",
              "      <th id=\"T_1d6ef_level0_col1\" class=\"col_heading level0 col1\" >Recall Macro</th>\n",
              "      <th id=\"T_1d6ef_level0_col2\" class=\"col_heading level0 col2\" >F1 Score</th>\n",
              "      <th id=\"T_1d6ef_level0_col3\" class=\"col_heading level0 col3\" >Fit_Time</th>\n",
              "    </tr>\n",
              "  </thead>\n",
              "  <tbody>\n",
              "    <tr>\n",
              "      <th id=\"T_1d6ef_level0_row0\" class=\"row_heading level0 row0\" >Dummy</th>\n",
              "      <td id=\"T_1d6ef_row0_col0\" class=\"data row0 col0\" >0.000000</td>\n",
              "      <td id=\"T_1d6ef_row0_col1\" class=\"data row0 col1\" >0.000000</td>\n",
              "      <td id=\"T_1d6ef_row0_col2\" class=\"data row0 col2\" >0.774194</td>\n",
              "      <td id=\"T_1d6ef_row0_col3\" class=\"data row0 col3\" >0.007118</td>\n",
              "    </tr>\n",
              "    <tr>\n",
              "      <th id=\"T_1d6ef_level0_row1\" class=\"row_heading level0 row1\" >Ensemble</th>\n",
              "      <td id=\"T_1d6ef_row1_col0\" class=\"data row1 col0\" >0.875000</td>\n",
              "      <td id=\"T_1d6ef_row1_col1\" class=\"data row1 col1\" >0.508929</td>\n",
              "      <td id=\"T_1d6ef_row1_col2\" class=\"data row1 col2\" >0.736842</td>\n",
              "      <td id=\"T_1d6ef_row1_col3\" class=\"data row1 col3\" >18566.358218</td>\n",
              "    </tr>\n",
              "    <tr>\n",
              "      <th id=\"T_1d6ef_level0_row2\" class=\"row_heading level0 row2\" >red neuronal</th>\n",
              "      <td id=\"T_1d6ef_row2_col0\" class=\"data row2 col0\" >0.625000</td>\n",
              "      <td id=\"T_1d6ef_row2_col1\" class=\"data row2 col1\" >0.455357</td>\n",
              "      <td id=\"T_1d6ef_row2_col2\" class=\"data row2 col2\" >0.612245</td>\n",
              "      <td id=\"T_1d6ef_row2_col3\" class=\"data row2 col3\" >2.991469</td>\n",
              "    </tr>\n",
              "  </tbody>\n",
              "</table>\n",
              "</div>"
            ]
          },
          "metadata": {}
        }
      ]
    },
    {
      "cell_type": "code",
      "source": [
        "# Generar las matrices de confusión\n",
        "cm_tv = confusion_matrix(ytv2, ytv_pred_ensamble6_best)\n",
        "cm_test = confusion_matrix(ytest2, ytest_pred_ensamble6_best)\n",
        "\n",
        "# Crear DataFrames de las matrices de confusión\n",
        "cm_tv_df = pd.DataFrame(cm_tv, index=[0, 1], columns=[0, 1])\n",
        "cm_test_df = pd.DataFrame(cm_test, index=[0, 1], columns=[0, 1])\n",
        "\n",
        "# Crear el heatmap usando seaborn\n",
        "plt.figure(figsize=(14, 6))\n",
        "\n",
        "# Heatmap de la matriz de confusión de entrenamiento\n",
        "plt.subplot(1, 2, 1)\n",
        "sns.heatmap(cm_tv_df, annot=True, fmt='d', cmap='Blues', cbar=False)\n",
        "plt.title('Matriz de Confusión - Entrenamiento')\n",
        "plt.xlabel('Predicted')\n",
        "plt.ylabel('Actual')\n",
        "\n",
        "# Heatmap de la matriz de confusión de prueba\n",
        "plt.subplot(1, 2, 2)\n",
        "sns.heatmap(cm_test_df, annot=True, fmt='d', cmap='Blues', cbar=False)\n",
        "plt.title('Matriz de Confusión - Prueba')\n",
        "plt.xlabel('Predicted')\n",
        "plt.ylabel('Actual')\n",
        "\n",
        "# Mostrar las gráficas\n",
        "plt.tight_layout()\n",
        "plt.show()"
      ],
      "metadata": {
        "colab": {
          "base_uri": "https://localhost:8080/",
          "height": 607
        },
        "id": "jIypt5Nc2NUf",
        "outputId": "0f6f328b-cd78-4789-dbfe-8d5a9d2da351"
      },
      "id": "jIypt5Nc2NUf",
      "execution_count": null,
      "outputs": [
        {
          "output_type": "display_data",
          "data": {
            "text/plain": [
              "<Figure size 1400x600 with 2 Axes>"
            ],
            "image/png": "[encoded data removed]"
          },
          "metadata": {}
        }
      ]
    },
    {
      "cell_type": "markdown",
      "source": [
        "### **2.4 Refinamiento de hiperparámetros de los mejores modelos semana 5 con datos menos desbalanceados**"
      ],
      "metadata": {
        "id": "QkQBeX4hXPbN"
      },
      "id": "QkQBeX4hXPbN"
    },
    {
      "cell_type": "markdown",
      "source": [
        "Como ya explicamos, usaremos solo el submuestreo que fue la técnica que arrojó Los mejores resultados en la semana 4. También, al tener una base de datos tan pequeña, eliminar elementos de la clase mayoritaria puede resultar muy costoso, por lo que utilizaremos un desbalance del 60-40 (que además corroboramos que era la combinación que daba mejores resultados). Así, para el parámetro sampling_strategy utilizaremos la fórmula 40/60 que es apróximadamente 0.6667.\n"
      ],
      "metadata": {
        "id": "oD_f3CYhYkBs"
      },
      "id": "oD_f3CYhYkBs"
    },
    {
      "cell_type": "code",
      "source": [
        "from imblearn.under_sampling import RandomUnderSampler\n",
        "\n",
        "undersampler = RandomUnderSampler(sampling_strategy=0.6667, random_state=0) #balanceando al 40-60\n",
        "\n",
        "Xtv1_res, Ytv1_res = undersampler.fit_resample(Xtv1, ytv1)"
      ],
      "metadata": {
        "id": "0-qjlhk_XUus"
      },
      "id": "0-qjlhk_XUus",
      "execution_count": null,
      "outputs": []
    },
    {
      "cell_type": "code",
      "source": [
        "# Creamos un modelo\n",
        "start_time = time.time()\n",
        "dummy_clf = DummyClassifier(strategy='most_frequent', random_state= 0)\n",
        "\n",
        "# Se ajusta el modelo a los datos de entrenamiento\n",
        "dummy_clf.fit(Xtv1_res, Ytv1_res)\n",
        "tiempo_fit_dummy_res = time.time() - start_time\n",
        "\n",
        "preds_dum_res_tv = dummy_clf.predict_proba(Xtv1_res)"
      ],
      "metadata": {
        "id": "aXHXLIhCsjZD"
      },
      "id": "aXHXLIhCsjZD",
      "execution_count": null,
      "outputs": []
    },
    {
      "cell_type": "markdown",
      "source": [
        "#### 2.4.1 Stacking con Regresión logística y SVM"
      ],
      "metadata": {
        "id": "VRrWOIbM9JDW"
      },
      "id": "VRrWOIbM9JDW"
    },
    {
      "cell_type": "code",
      "source": [
        "# Definimos el modelo\n",
        "start_time_fit = time.time()\n",
        "reg_res = LogisticRegression(solver='liblinear', class_weight= \"balanced\",\n",
        "                         max_iter= 100, penalty = 'l2', tol = 0.0001, random_state=0)\n",
        "\n",
        "# Se ajusta el modelo\n",
        "reg_res.fit(Xtv1_res, Ytv1_res)\n",
        "end_time_fit = time.time()\n",
        "tiempo_fit_reg_res = end_time_fit - start_time_fit\n",
        "\n",
        "preds_reg_res_tv = reg_res.predict_proba(Xtv1_res)[:, 1]\n",
        "preds_reg_res_test = reg_res.predict_proba(Xtest1)[:, 1]"
      ],
      "metadata": {
        "id": "GLiv42j0jq7x"
      },
      "id": "GLiv42j0jq7x",
      "execution_count": null,
      "outputs": []
    },
    {
      "cell_type": "code",
      "source": [
        "# Definimos el modelo\n",
        "start_time_fit = time.time()\n",
        "svm_res = SVC(class_weight='balanced', probability=True, C = 0.01, gamma = 0.001, kernel = 'linear', random_state=0)\n",
        "\n",
        "# Se ajusta el modelo\n",
        "svm_res.fit(Xtv1_res, Ytv1_res)\n",
        "end_time_fit = time.time()\n",
        "tiempo_fit_svm_res = end_time_fit - start_time_fit\n",
        "\n",
        "preds_svm_res_tv = svm_res.predict_proba(Xtv1_res)[:, 1]\n",
        "preds_svm_res_test = svm_res.predict_proba(Xtest1)[:, 1]\n"
      ],
      "metadata": {
        "id": "pGd4urwNjq-f"
      },
      "id": "pGd4urwNjq-f",
      "execution_count": null,
      "outputs": []
    },
    {
      "cell_type": "code",
      "source": [
        "# Creamos el conjunto de datos para el ensamble\n",
        "stacked_res_tv = np.column_stack((preds_reg_res_tv, preds_svm_res_tv))"
      ],
      "metadata": {
        "id": "WSxFTJD3jrBQ"
      },
      "id": "WSxFTJD3jrBQ",
      "execution_count": null,
      "outputs": []
    },
    {
      "cell_type": "code",
      "source": [
        "# Definir los modelos\n",
        "start_time = time.time()\n",
        "ensamble1 = LogisticRegression( random_state=0, solver=\"liblinear\")\n",
        "\n",
        "param_grid = {\n",
        "    'class_weight': [None, 'balanced'],\n",
        "    'penalty': ['l1', 'l2', 'elasticnet', 'none'],\n",
        "    'tol': [1e-4, 1e-3, 1e-2, 1e-1],\n",
        "    'max_iter': [30, 50, 100, 200, 300]\n",
        "}\n",
        "\n",
        "grid_search = GridSearchCV(estimator=ensamble1, param_grid=param_grid,\n",
        "                           cv=5, scoring='recall', n_jobs=-1, verbose=1)\n",
        "\n",
        "grid_search.fit(stacked_res_tv, Ytv1_res)\n",
        "\n",
        "best_params = grid_search.best_params_\n",
        "best_score = grid_search.best_score_\n",
        "\n",
        "print(f\"Mejores hiperparámetros: {best_params}\")\n",
        "print(f\"Mejor F1 Score: {best_score}\")\n",
        "\n",
        "\n",
        "# Medir el tiempo de ajuste del ensamble con los mejores hiperparametros\n",
        "ensamble1_res_best = LogisticRegression(**best_params)\n",
        "ensamble1_res_best.fit(stacked_res_tv, Ytv1_res)\n",
        "tiempo_fit_ensamble1_res_best = time.time() - start_time\n",
        "\n",
        "# Evaluamos el rendimiento de los modelos con el conjunto de entrenamiento\n",
        "\n",
        "ytv1_pred_dum = cross_val_predict(dummy_clf, Xtv1_res, Ytv1_res, cv=5)\n",
        "recall_tv_dum_res = 0 # No se calcula ya que recall evalua la tasa de verdaderos positivos y\n",
        "                    #nuestro Dummy genera un 100% de positivos.\n",
        "recall_tv_macro_dum_res = 0\n",
        "f1_tv_dum_res = f1_score(Ytv1_res, ytv1_pred_dum, average='binary')\n",
        "\n",
        "\n",
        "ytv1_pred_reg = cross_val_predict(reg_res, Xtv1_res, Ytv1_res, cv=5)\n",
        "recall_tv_reg_res = recall_score(Ytv1_res, ytv1_pred_reg, average='binary')\n",
        "recall_tv_macro_reg_res = recall_score(Ytv1_res, ytv1_pred_reg, average='macro')\n",
        "f1_tv_reg_res = f1_score(Ytv1_res, ytv1_pred_reg, average='binary')\n",
        "\n",
        "\n",
        "ytv1_pred_svm = cross_val_predict(svm_res, Xtv1_res, Ytv1_res, cv=5)\n",
        "recall_tv_svm_res = recall_score(Ytv1_res, ytv1_pred_svm, average='binary')\n",
        "recall_tv_macro_svm_res = recall_score(Ytv1_res, ytv1_pred_svm, average='macro')\n",
        "f1_tv_svm_res = f1_score(Ytv1_res, ytv1_pred_svm, average='binary')\n",
        "\n",
        "\n",
        "ytv1_pred_ensamble1_best = ensamble1_res_best.predict(stacked_res_tv)\n",
        "recall_tv_ensamble1_res_best = recall_score(Ytv1_res, ytv1_pred_ensamble1_best, average='binary')\n",
        "recall_tv_macro_ensamble1_res_best = recall_score(Ytv1_res, ytv1_pred_ensamble1_best, average='macro')\n",
        "f1_tv_ensamble1_res_best = f1_score(Ytv1_res, ytv1_pred_ensamble1_best, average='binary')\n",
        "\n",
        "cuadro1 = {\n",
        "    'Modelo': ['Dummy', 'Regression Logística', 'SVM', 'Ensemble'],\n",
        "    'Recall': [recall_tv_dum_res, recall_tv_reg_res, recall_tv_svm_res, recall_tv_ensamble1_res_best],\n",
        "    'Recall Macro': [recall_tv_macro_dum_res, recall_tv_macro_reg_res, recall_tv_macro_svm_res, recall_tv_macro_ensamble1_res_best],\n",
        "    'F1 Score': [f1_tv_dum_res, f1_tv_reg_res, f1_tv_svm_res, f1_tv_ensamble1_res_best],\n",
        "    'Fit_Time': [tiempo_fit_dummy_res, tiempo_fit_reg_res, tiempo_fit_svm_res, tiempo_fit_ensamble1_res_best]\n",
        "}\n",
        "\n",
        "# Crear un DataFrame para almacenar los resultados\n",
        "cuadro1_df = pd.DataFrame(cuadro1,index=cuadro1[\"Modelo\"])\n",
        "cuadro1_df.drop(columns=['Modelo'], inplace=True)\n",
        "\n",
        "# Ordenar el DataFrame por la columna F1_Tst de mayor a menor\n",
        "cuadro1_df = cuadro1_df.sort_values(by='F1 Score', ascending=False)\n",
        "\n",
        "\n",
        "# Evaluamos el rendimiento de los modelos con el conjunto de pruebas\n",
        "ytest1_pred_dum = cross_val_predict(dummy_clf, Xtest1, ytest1, cv=5)\n",
        "recall_test_dum = 0\n",
        "recall_test_macro_dum = 0\n",
        "f1_test_dum = f1_score(ytest1, ytest1_pred_dum, average='binary')\n",
        "\n",
        "\n",
        "ytest1_pred_reg = cross_val_predict(reg_res, Xtest1, ytest1, cv=5)\n",
        "recall_test_reg = recall_score(ytest1, ytest1_pred_reg, average='binary')\n",
        "recall_test_macro_reg = recall_score(ytest1, ytest1_pred_reg, average='macro')\n",
        "f1_test_reg = f1_score(ytest1, ytest1_pred_reg, average='binary')\n",
        "\n",
        "\n",
        "ytest1_pred_svm = cross_val_predict(svm_res, Xtest1, ytest1, cv=5)\n",
        "recall_test_svm = recall_score(ytest1, ytest1_pred_svm, average='binary')\n",
        "recall_test_macro_svm = recall_score(ytest1, ytest1_pred_svm, average='macro')\n",
        "f1_test_svm = f1_score(ytest1, ytest1_pred_svm, average='binary')\n",
        "\n",
        "\n",
        "ytest1_pred_ensamble1_best = ensamble1_res_best.predict(stacked_test)\n",
        "recall_test_ensamble1_best = recall_score(ytest1, ytest1_pred_ensamble1_best, average='binary')\n",
        "recall_test_macro_ensamble1_best = recall_score(ytest1, ytest1_pred_ensamble1_best, average='macro')\n",
        "f1_test_ensamble1_best = f1_score(ytest1, ytest1_pred_ensamble1_best, average='binary')\n",
        "\n",
        "cuadro2 = {\n",
        "    'Modelo': ['Dummy', 'Regression Logística', 'SVM', 'Ensemble'],\n",
        "    'Recall': [recall_test_dum, recall_test_reg, recall_test_svm, recall_test_ensamble1_best],\n",
        "    'Recall Macro': [recall_test_macro_dum, recall_test_macro_reg, recall_test_macro_svm, recall_test_macro_ensamble1_best],\n",
        "    'F1 Score': [f1_test_dum, f1_test_reg, f1_test_svm, f1_test_ensamble1_best],\n",
        "    'Fit_Time': [tiempo_fit_dummy_res, tiempo_fit_reg_res, tiempo_fit_svm_res, tiempo_fit_ensamble1_res_best]\n",
        "}\n",
        "\n",
        "cuadro2_df = pd.DataFrame(cuadro2)\n",
        "\n",
        "# Crear un DataFrame para almacenar los resultados\n",
        "cuadro2_df = pd.DataFrame(cuadro2,index=cuadro2[\"Modelo\"])\n",
        "cuadro2_df.drop(columns=['Modelo'], inplace=True)\n",
        "\n",
        "# Ordenar el DataFrame por la columna F1_Tst de mayor a menor\n",
        "cuadro2_df = cuadro2_df.sort_values(by='F1 Score', ascending=False)\n",
        "\n",
        "# Aquí puedes especificar el axis=0 para columnas o axis=1 para filas\n",
        "display_side_by_side([cuadro1_df, cuadro2_df], ['Conjunto de Entrenamiento', 'Conjunto de Pruebas'],\n",
        "                     color='lightblue', axis=0)"
      ],
      "metadata": {
        "colab": {
          "base_uri": "https://localhost:8080/",
          "height": 239
        },
        "id": "yWv95C8GcSAW",
        "outputId": "1160c3ec-61c9-49c3-fa39-ffae73aa88b9"
      },
      "id": "yWv95C8GcSAW",
      "execution_count": null,
      "outputs": [
        {
          "output_type": "stream",
          "name": "stdout",
          "text": [
            "Fitting 5 folds for each of 160 candidates, totalling 800 fits\n",
            "Mejores hiperparámetros: {'class_weight': None, 'max_iter': 30, 'penalty': 'l2', 'tol': 0.0001}\n",
            "Mejor F1 Score: 0.8394894894894895\n"
          ]
        },
        {
          "output_type": "display_data",
          "data": {
            "text/html": [
              "<div style=\"display: inline-block; padding: 10px;\"><h3>Conjunto de Entrenamiento</h3><style type=\"text/css\">\n",
              "#T_55596_row0_col0, #T_55596_row0_col1, #T_55596_row0_col2, #T_55596_row0_col3 {\n",
              "  background-color: lightblue;\n",
              "}\n",
              "</style>\n",
              "<table id=\"T_55596\">\n",
              "  <thead>\n",
              "    <tr>\n",
              "      <th class=\"blank level0\" >&nbsp;</th>\n",
              "      <th id=\"T_55596_level0_col0\" class=\"col_heading level0 col0\" >Recall</th>\n",
              "      <th id=\"T_55596_level0_col1\" class=\"col_heading level0 col1\" >Recall Macro</th>\n",
              "      <th id=\"T_55596_level0_col2\" class=\"col_heading level0 col2\" >F1 Score</th>\n",
              "      <th id=\"T_55596_level0_col3\" class=\"col_heading level0 col3\" >Fit_Time</th>\n",
              "    </tr>\n",
              "  </thead>\n",
              "  <tbody>\n",
              "    <tr>\n",
              "      <th id=\"T_55596_level0_row0\" class=\"row_heading level0 row0\" >Ensemble</th>\n",
              "      <td id=\"T_55596_row0_col0\" class=\"data row0 col0\" >0.828729</td>\n",
              "      <td id=\"T_55596_row0_col1\" class=\"data row0 col1\" >0.654034</td>\n",
              "      <td id=\"T_55596_row0_col2\" class=\"data row0 col2\" >0.761421</td>\n",
              "      <td id=\"T_55596_row0_col3\" class=\"data row0 col3\" >2.738679</td>\n",
              "    </tr>\n",
              "    <tr>\n",
              "      <th id=\"T_55596_level0_row1\" class=\"row_heading level0 row1\" >Dummy</th>\n",
              "      <td id=\"T_55596_row1_col0\" class=\"data row1 col0\" >0.000000</td>\n",
              "      <td id=\"T_55596_row1_col1\" class=\"data row1 col1\" >0.000000</td>\n",
              "      <td id=\"T_55596_row1_col2\" class=\"data row1 col2\" >0.749482</td>\n",
              "      <td id=\"T_55596_row1_col3\" class=\"data row1 col3\" >0.001999</td>\n",
              "    </tr>\n",
              "    <tr>\n",
              "      <th id=\"T_55596_level0_row2\" class=\"row_heading level0 row2\" >SVM</th>\n",
              "      <td id=\"T_55596_row2_col0\" class=\"data row2 col0\" >0.574586</td>\n",
              "      <td id=\"T_55596_row2_col1\" class=\"data row2 col1\" >0.601342</td>\n",
              "      <td id=\"T_55596_row2_col2\" class=\"data row2 col2\" >0.630303</td>\n",
              "      <td id=\"T_55596_row2_col3\" class=\"data row2 col3\" >0.049339</td>\n",
              "    </tr>\n",
              "    <tr>\n",
              "      <th id=\"T_55596_level0_row3\" class=\"row_heading level0 row3\" >Regression Logística</th>\n",
              "      <td id=\"T_55596_row3_col0\" class=\"data row3 col0\" >0.530387</td>\n",
              "      <td id=\"T_55596_row3_col1\" class=\"data row3 col1\" >0.546185</td>\n",
              "      <td id=\"T_55596_row3_col2\" class=\"data row3 col2\" >0.581818</td>\n",
              "      <td id=\"T_55596_row3_col3\" class=\"data row3 col3\" >0.036760</td>\n",
              "    </tr>\n",
              "  </tbody>\n",
              "</table>\n",
              "</div><div style=\"display: inline-block; padding: 10px;\"><h3>Conjunto de Pruebas</h3><style type=\"text/css\">\n",
              "#T_57e51_row0_col2, #T_57e51_row1_col0, #T_57e51_row1_col3, #T_57e51_row2_col1 {\n",
              "  background-color: lightblue;\n",
              "}\n",
              "</style>\n",
              "<table id=\"T_57e51\">\n",
              "  <thead>\n",
              "    <tr>\n",
              "      <th class=\"blank level0\" >&nbsp;</th>\n",
              "      <th id=\"T_57e51_level0_col0\" class=\"col_heading level0 col0\" >Recall</th>\n",
              "      <th id=\"T_57e51_level0_col1\" class=\"col_heading level0 col1\" >Recall Macro</th>\n",
              "      <th id=\"T_57e51_level0_col2\" class=\"col_heading level0 col2\" >F1 Score</th>\n",
              "      <th id=\"T_57e51_level0_col3\" class=\"col_heading level0 col3\" >Fit_Time</th>\n",
              "    </tr>\n",
              "  </thead>\n",
              "  <tbody>\n",
              "    <tr>\n",
              "      <th id=\"T_57e51_level0_row0\" class=\"row_heading level0 row0\" >Dummy</th>\n",
              "      <td id=\"T_57e51_row0_col0\" class=\"data row0 col0\" >0.000000</td>\n",
              "      <td id=\"T_57e51_row0_col1\" class=\"data row0 col1\" >0.000000</td>\n",
              "      <td id=\"T_57e51_row0_col2\" class=\"data row0 col2\" >0.774194</td>\n",
              "      <td id=\"T_57e51_row0_col3\" class=\"data row0 col3\" >0.001999</td>\n",
              "    </tr>\n",
              "    <tr>\n",
              "      <th id=\"T_57e51_level0_row1\" class=\"row_heading level0 row1\" >Ensemble</th>\n",
              "      <td id=\"T_57e51_row1_col0\" class=\"data row1 col0\" >0.708333</td>\n",
              "      <td id=\"T_57e51_row1_col1\" class=\"data row1 col1\" >0.532738</td>\n",
              "      <td id=\"T_57e51_row1_col2\" class=\"data row1 col2\" >0.680000</td>\n",
              "      <td id=\"T_57e51_row1_col3\" class=\"data row1 col3\" >2.738679</td>\n",
              "    </tr>\n",
              "    <tr>\n",
              "      <th id=\"T_57e51_level0_row2\" class=\"row_heading level0 row2\" >Regression Logística</th>\n",
              "      <td id=\"T_57e51_row2_col0\" class=\"data row2 col0\" >0.666667</td>\n",
              "      <td id=\"T_57e51_row2_col1\" class=\"data row2 col1\" >0.547619</td>\n",
              "      <td id=\"T_57e51_row2_col2\" class=\"data row2 col2\" >0.666667</td>\n",
              "      <td id=\"T_57e51_row2_col3\" class=\"data row2 col3\" >0.036760</td>\n",
              "    </tr>\n",
              "    <tr>\n",
              "      <th id=\"T_57e51_level0_row3\" class=\"row_heading level0 row3\" >SVM</th>\n",
              "      <td id=\"T_57e51_row3_col0\" class=\"data row3 col0\" >0.666667</td>\n",
              "      <td id=\"T_57e51_row3_col1\" class=\"data row3 col1\" >0.511905</td>\n",
              "      <td id=\"T_57e51_row3_col2\" class=\"data row3 col2\" >0.653061</td>\n",
              "      <td id=\"T_57e51_row3_col3\" class=\"data row3 col3\" >0.049339</td>\n",
              "    </tr>\n",
              "  </tbody>\n",
              "</table>\n",
              "</div>"
            ]
          },
          "metadata": {}
        }
      ]
    },
    {
      "cell_type": "code",
      "source": [
        "# Generar las matrices de confusión\n",
        "cm_tv = confusion_matrix(Ytv1_res, ytv1_pred_ensamble1_best)\n",
        "cm_test = confusion_matrix(ytest1, ytest1_pred_ensamble1_best)\n",
        "\n",
        "# Crear DataFrames de las matrices de confusión\n",
        "cm_tv_df = pd.DataFrame(cm_tv, index=[0, 1], columns=[0, 1])\n",
        "cm_test_df = pd.DataFrame(cm_test, index=[0, 1], columns=[0, 1])\n",
        "\n",
        "# Crear el heatmap usando seaborn\n",
        "plt.figure(figsize=(14, 6))\n",
        "\n",
        "# Heatmap de la matriz de confusión de entrenamiento\n",
        "plt.subplot(1, 2, 1)\n",
        "sns.heatmap(cm_tv_df, annot=True, fmt='d', cmap='Blues', cbar=False)\n",
        "plt.title('Matriz de Confusión - Entrenamiento')\n",
        "plt.xlabel('Predicted')\n",
        "plt.ylabel('Actual')\n",
        "\n",
        "# Heatmap de la matriz de confusión de prueba\n",
        "plt.subplot(1, 2, 2)\n",
        "sns.heatmap(cm_test_df, annot=True, fmt='d', cmap='Blues', cbar=False)\n",
        "plt.title('Matriz de Confusión - Prueba')\n",
        "plt.xlabel('Predicted')\n",
        "plt.ylabel('Actual')\n",
        "\n",
        "# Mostrar las gráficas\n",
        "plt.tight_layout()\n",
        "plt.show()"
      ],
      "metadata": {
        "colab": {
          "base_uri": "https://localhost:8080/",
          "height": 607
        },
        "id": "eCynFR9K8WYA",
        "outputId": "ee8eba5d-18da-47a6-e935-86aebf1d19b9"
      },
      "id": "eCynFR9K8WYA",
      "execution_count": null,
      "outputs": [
        {
          "output_type": "display_data",
          "data": {
            "text/plain": [
              "<Figure size 1400x600 with 2 Axes>"
            ],
            "image/png": "[encoded data removed]"
          },
          "metadata": {}
        }
      ]
    },
    {
      "cell_type": "markdown",
      "source": [
        "#### 2.4.2 Bagging con Regresión Logística"
      ],
      "metadata": {
        "id": "Gnm-UbrL8V_v"
      },
      "id": "Gnm-UbrL8V_v"
    },
    {
      "cell_type": "code",
      "source": [
        "# Definimos el modelo\n",
        "start_time = time.time()\n",
        "reg_res = LogisticRegression(solver='liblinear', class_weight= \"balanced\",\n",
        "                         max_iter= 100, penalty = 'l2', tol = 0.0001, random_state=0)\n",
        "\n",
        "# se ajusta el modelo\n",
        "reg_res.fit(Xtv1_res, Ytv1_res)\n",
        "tiempo_fit_reg_res = time.time() - start_time\n",
        "\n",
        "# generamos el ensamble usando bagging\n",
        "start_time = time.time()\n",
        "ensamble4_res = BaggingClassifier(base_estimator=reg_res, n_estimators=200, random_state=42)\n",
        "\n",
        "param_grid = {\n",
        "    'n_estimators': [50, 100, 200],\n",
        "    'max_samples': [0.5, 0.7, 1.0],\n",
        "    'max_features': [0.5, 0.7, 1.0],\n",
        "    'bootstrap': [True, False],\n",
        "    'bootstrap_features': [True, False]\n",
        "}\n",
        "\n",
        "grid_search = GridSearchCV(estimator=ensamble4_res, param_grid=param_grid, cv=5, scoring='recall', n_jobs=-1, verbose=1)\n",
        "\n",
        "grid_search.fit(Xtv1_res, Ytv1_res)\n",
        "\n",
        "best_params = grid_search.best_params_\n",
        "best_score = grid_search.best_score_\n",
        "\n",
        "print(f\"Mejores hiperparámetros: {best_params}\")\n",
        "print(f\"Mejor Recall Score: {best_score}\")\n",
        "\n",
        "# Entrenamos el ensamble\n",
        "\n",
        "best_bagging_params = {key: value for key, value in best_params.items() if 'base_estimator__' not in key}\n",
        "\n",
        "ensamble4_res_best = BaggingClassifier(base_estimator=reg_res, **best_bagging_params, random_state=0)\n",
        "\n",
        "ensamble4_res_best.fit(Xtv1_res, Ytv1_res)\n",
        "\n",
        "tiempo_fit_ensamble4_res_best = time.time() - start_time\n",
        "\n",
        "# Evaluamos el rendimiento de los modelos con el conjunto de entrenamiento\n",
        "\n",
        "ytv_pred = cross_val_predict(reg_res, Xtv1_res, Ytv1_res, cv=5)\n",
        "recall_tv_reg_res = recall_score(Ytv1_res, ytv_pred, average='binary')\n",
        "recall_tv_macro_reg_res = recall_score(Ytv1_res, ytv_pred, average='macro')\n",
        "f1_tv_reg_res = f1_score(Ytv1_res, ytv_pred, average='binary')\n",
        "\n",
        "ytv_pred_ensamble4_best = ensamble4_res_best.predict(Xtv1_res)\n",
        "recall_tv_ensamble4_res_best = recall_score(Ytv1_res, ytv_pred_ensamble4_best, average='binary')\n",
        "recall_tv_macro_ensamble4_res_best = recall_score(Ytv1_res, ytv_pred_ensamble4_best, average='macro')\n",
        "f1_tv_ensamble4_res_best = f1_score(Ytv1_res, ytv_pred_ensamble4_best, average='binary')\n",
        "\n",
        "cuadro1 = {\n",
        "    'Modelo': ['Dummy', 'Regresión logística', 'Ensemble'],\n",
        "    'Recall': [recall_tv_dum_res, recall_tv_reg_res,  recall_tv_ensamble4_res_best],\n",
        "    'Recall Macro': [recall_tv_macro_dum_res, recall_tv_macro_reg_res, recall_tv_macro_ensamble4_res_best],\n",
        "    'F1 Score': [f1_tv_dum_res, f1_tv_reg_res, f1_tv_ensamble4_res_best],\n",
        "    'Fit_Time': [tiempo_fit_dummy_res, tiempo_fit_reg_res, tiempo_fit_ensamble4_res_best]\n",
        "}\n",
        "\n",
        "# Crear un DataFrame para almacenar los resultados\n",
        "cuadro1_df = pd.DataFrame(cuadro1,index=cuadro1[\"Modelo\"])\n",
        "cuadro1_df.drop(columns=['Modelo'], inplace=True)\n",
        "\n",
        "# Ordenar el DataFrame por la columna F1_Tst de mayor a menor\n",
        "cuadro1_df = cuadro1_df.sort_values(by='F1 Score', ascending=False)\n",
        "\n",
        "\n",
        "# Evaluamos el rendimiento de los modelos con el conjunto de pruebas\n",
        "\n",
        "ytest_pred = cross_val_predict(reg, Xtest1, ytest1, cv=5)\n",
        "recall_test_reg_res = recall_score(ytest1, ytest_pred, average='binary')\n",
        "recall_test_macro_reg_res = recall_score(ytest1, ytest_pred, average='macro')\n",
        "f1_test_reg_res = f1_score(ytest1, ytest_pred, average='binary')\n",
        "\n",
        "ytest_pred_ensamble4_best = ensamble4_res_best.predict(Xtest1)\n",
        "recall_test_ensamble4_res_best = recall_score(ytest1, ytest_pred_ensamble4_best, average='binary')\n",
        "recall_test_macro_ensamble4_res_best = recall_score(ytest1, ytest_pred_ensamble4_best, average='macro')\n",
        "f1_test_ensamble4_res_best = f1_score(ytest1, ytest_pred_ensamble4_best, average='binary')\n",
        "\n",
        "cuadro2 = {\n",
        "    'Modelo': ['Dummy', 'Regresión logística', 'Ensemble'],\n",
        "    'Recall': [recall_test_dum, recall_test_reg_res, recall_test_ensamble4_res_best],\n",
        "    'Recall Macro': [recall_test_macro_dum, recall_test_macro_reg_res, recall_test_macro_ensamble4_res_best],\n",
        "    'F1 Score': [f1_test_dum, f1_test_reg_res, f1_test_ensamble4_res_best],\n",
        "    'Fit_Time': [tiempo_fit_dummy_res, tiempo_fit_reg_res, tiempo_fit_ensamble4_res_best]\n",
        "}\n",
        "\n",
        "# Crear un DataFrame para almacenar los resultados\n",
        "cuadro2_df = pd.DataFrame(cuadro2,index=cuadro2[\"Modelo\"])\n",
        "cuadro2_df.drop(columns=['Modelo'], inplace=True)\n",
        "\n",
        "# Ordenar el DataFrame por la columna F1_Tst de mayor a menor\n",
        "cuadro2_df = cuadro2_df.sort_values(by='F1 Score', ascending=False)\n",
        "\n",
        "# Aquí puedes especificar el axis=0 para columnas o axis=1 para filas\n",
        "display_side_by_side([cuadro1_df, cuadro2_df], ['Conjunto de Entrenamiento', 'Conjunto de Pruebas'],\n",
        "                     color='lightblue', axis=0)"
      ],
      "metadata": {
        "colab": {
          "base_uri": "https://localhost:8080/",
          "height": 217
        },
        "id": "MtX0sQtB9W-e",
        "outputId": "4392e9a0-5417-486f-e72a-270628a906d6"
      },
      "id": "MtX0sQtB9W-e",
      "execution_count": null,
      "outputs": [
        {
          "output_type": "stream",
          "name": "stdout",
          "text": [
            "Fitting 5 folds for each of 108 candidates, totalling 540 fits\n",
            "Mejores hiperparámetros: {'bootstrap': True, 'bootstrap_features': True, 'max_features': 0.7, 'max_samples': 0.5, 'n_estimators': 100}\n",
            "Mejor Recall Score: 0.651951951951952\n"
          ]
        },
        {
          "output_type": "display_data",
          "data": {
            "text/html": [
              "<div style=\"display: inline-block; padding: 10px;\"><h3>Conjunto de Entrenamiento</h3><style type=\"text/css\">\n",
              "#T_3f63e_row0_col2, #T_3f63e_row1_col0, #T_3f63e_row1_col1, #T_3f63e_row1_col3 {\n",
              "  background-color: lightblue;\n",
              "}\n",
              "</style>\n",
              "<table id=\"T_3f63e\">\n",
              "  <thead>\n",
              "    <tr>\n",
              "      <th class=\"blank level0\" >&nbsp;</th>\n",
              "      <th id=\"T_3f63e_level0_col0\" class=\"col_heading level0 col0\" >Recall</th>\n",
              "      <th id=\"T_3f63e_level0_col1\" class=\"col_heading level0 col1\" >Recall Macro</th>\n",
              "      <th id=\"T_3f63e_level0_col2\" class=\"col_heading level0 col2\" >F1 Score</th>\n",
              "      <th id=\"T_3f63e_level0_col3\" class=\"col_heading level0 col3\" >Fit_Time</th>\n",
              "    </tr>\n",
              "  </thead>\n",
              "  <tbody>\n",
              "    <tr>\n",
              "      <th id=\"T_3f63e_level0_row0\" class=\"row_heading level0 row0\" >Dummy</th>\n",
              "      <td id=\"T_3f63e_row0_col0\" class=\"data row0 col0\" >0.000000</td>\n",
              "      <td id=\"T_3f63e_row0_col1\" class=\"data row0 col1\" >0.000000</td>\n",
              "      <td id=\"T_3f63e_row0_col2\" class=\"data row0 col2\" >0.749482</td>\n",
              "      <td id=\"T_3f63e_row0_col3\" class=\"data row0 col3\" >0.001999</td>\n",
              "    </tr>\n",
              "    <tr>\n",
              "      <th id=\"T_3f63e_level0_row1\" class=\"row_heading level0 row1\" >Ensemble</th>\n",
              "      <td id=\"T_3f63e_row1_col0\" class=\"data row1 col0\" >0.685083</td>\n",
              "      <td id=\"T_3f63e_row1_col1\" class=\"data row1 col1\" >0.677252</td>\n",
              "      <td id=\"T_3f63e_row1_col2\" class=\"data row1 col2\" >0.718841</td>\n",
              "      <td id=\"T_3f63e_row1_col3\" class=\"data row1 col3\" >255.724498</td>\n",
              "    </tr>\n",
              "    <tr>\n",
              "      <th id=\"T_3f63e_level0_row2\" class=\"row_heading level0 row2\" >Regresión logística</th>\n",
              "      <td id=\"T_3f63e_row2_col0\" class=\"data row2 col0\" >0.530387</td>\n",
              "      <td id=\"T_3f63e_row2_col1\" class=\"data row2 col1\" >0.546185</td>\n",
              "      <td id=\"T_3f63e_row2_col2\" class=\"data row2 col2\" >0.581818</td>\n",
              "      <td id=\"T_3f63e_row2_col3\" class=\"data row2 col3\" >0.022418</td>\n",
              "    </tr>\n",
              "  </tbody>\n",
              "</table>\n",
              "</div><div style=\"display: inline-block; padding: 10px;\"><h3>Conjunto de Pruebas</h3><style type=\"text/css\">\n",
              "#T_fe6d7_row0_col2, #T_fe6d7_row1_col0, #T_fe6d7_row1_col1, #T_fe6d7_row2_col3 {\n",
              "  background-color: lightblue;\n",
              "}\n",
              "</style>\n",
              "<table id=\"T_fe6d7\">\n",
              "  <thead>\n",
              "    <tr>\n",
              "      <th class=\"blank level0\" >&nbsp;</th>\n",
              "      <th id=\"T_fe6d7_level0_col0\" class=\"col_heading level0 col0\" >Recall</th>\n",
              "      <th id=\"T_fe6d7_level0_col1\" class=\"col_heading level0 col1\" >Recall Macro</th>\n",
              "      <th id=\"T_fe6d7_level0_col2\" class=\"col_heading level0 col2\" >F1 Score</th>\n",
              "      <th id=\"T_fe6d7_level0_col3\" class=\"col_heading level0 col3\" >Fit_Time</th>\n",
              "    </tr>\n",
              "  </thead>\n",
              "  <tbody>\n",
              "    <tr>\n",
              "      <th id=\"T_fe6d7_level0_row0\" class=\"row_heading level0 row0\" >Dummy</th>\n",
              "      <td id=\"T_fe6d7_row0_col0\" class=\"data row0 col0\" >0.000000</td>\n",
              "      <td id=\"T_fe6d7_row0_col1\" class=\"data row0 col1\" >0.000000</td>\n",
              "      <td id=\"T_fe6d7_row0_col2\" class=\"data row0 col2\" >0.774194</td>\n",
              "      <td id=\"T_fe6d7_row0_col3\" class=\"data row0 col3\" >0.001999</td>\n",
              "    </tr>\n",
              "    <tr>\n",
              "      <th id=\"T_fe6d7_level0_row1\" class=\"row_heading level0 row1\" >Regresión logística</th>\n",
              "      <td id=\"T_fe6d7_row1_col0\" class=\"data row1 col0\" >0.666667</td>\n",
              "      <td id=\"T_fe6d7_row1_col1\" class=\"data row1 col1\" >0.547619</td>\n",
              "      <td id=\"T_fe6d7_row1_col2\" class=\"data row1 col2\" >0.666667</td>\n",
              "      <td id=\"T_fe6d7_row1_col3\" class=\"data row1 col3\" >0.022418</td>\n",
              "    </tr>\n",
              "    <tr>\n",
              "      <th id=\"T_fe6d7_level0_row2\" class=\"row_heading level0 row2\" >Ensemble</th>\n",
              "      <td id=\"T_fe6d7_row2_col0\" class=\"data row2 col0\" >0.500000</td>\n",
              "      <td id=\"T_fe6d7_row2_col1\" class=\"data row2 col1\" >0.464286</td>\n",
              "      <td id=\"T_fe6d7_row2_col2\" class=\"data row2 col2\" >0.545455</td>\n",
              "      <td id=\"T_fe6d7_row2_col3\" class=\"data row2 col3\" >255.724498</td>\n",
              "    </tr>\n",
              "  </tbody>\n",
              "</table>\n",
              "</div>"
            ]
          },
          "metadata": {}
        }
      ]
    },
    {
      "cell_type": "code",
      "source": [
        "# Generar las matrices de confusión\n",
        "cm_tv = confusion_matrix(Ytv1_res, ytv_pred_ensamble4_best)\n",
        "cm_test = confusion_matrix(ytest1, ytest_pred_ensamble4_best)\n",
        "\n",
        "# Crear DataFrames de las matrices de confusión\n",
        "cm_tv_df = pd.DataFrame(cm_tv, index=[0, 1], columns=[0, 1])\n",
        "cm_test_df = pd.DataFrame(cm_test, index=[0, 1], columns=[0, 1])\n",
        "\n",
        "# Crear el heatmap usando seaborn\n",
        "plt.figure(figsize=(14, 6))\n",
        "\n",
        "# Heatmap de la matriz de confusión de entrenamiento\n",
        "plt.subplot(1, 2, 1)\n",
        "sns.heatmap(cm_tv_df, annot=True, fmt='d', cmap='Blues', cbar=False)\n",
        "plt.title('Matriz de Confusión - Entrenamiento')\n",
        "plt.xlabel('Predicted')\n",
        "plt.ylabel('Actual')\n",
        "\n",
        "# Heatmap de la matriz de confusión de prueba\n",
        "plt.subplot(1, 2, 2)\n",
        "sns.heatmap(cm_test_df, annot=True, fmt='d', cmap='Blues', cbar=False)\n",
        "plt.title('Matriz de Confusión - Prueba')\n",
        "plt.xlabel('Predicted')\n",
        "plt.ylabel('Actual')\n",
        "\n",
        "# Mostrar las gráficas\n",
        "plt.tight_layout()\n",
        "plt.show()"
      ],
      "metadata": {
        "colab": {
          "base_uri": "https://localhost:8080/",
          "height": 607
        },
        "id": "cUORTq7i9zLg",
        "outputId": "d1de0b51-b1bb-46c2-e061-68be99dd7f28"
      },
      "id": "cUORTq7i9zLg",
      "execution_count": null,
      "outputs": [
        {
          "output_type": "display_data",
          "data": {
            "text/plain": [
              "<Figure size 1400x600 with 2 Axes>"
            ],
            "image/png": "[encoded data removed]"
          },
          "metadata": {}
        }
      ]
    },
    {
      "cell_type": "markdown",
      "source": [
        "#### 2.4.3 Bagging con Red Neuronal"
      ],
      "metadata": {
        "id": "Nc-QD9A39NP2"
      },
      "id": "Nc-QD9A39NP2"
    },
    {
      "cell_type": "code",
      "source": [
        "Xtv2_res, Ytv2_res = undersampler.fit_resample(Xtv2, ytv2)\n",
        "\n",
        "# Definimos el modelo\n",
        "start_time = time.time()\n",
        "red_res = MLPClassifier(solver=\"adam\",  activation = 'logistic', alpha = 0.1, hidden_layer_sizes = (50,),\n",
        "                    learning_rate_init = 0.01, max_iter = 500, random_state=42)\n",
        "\n",
        "# se ajusta el modelo\n",
        "red_res.fit(Xtv2_res, Ytv2_res)\n",
        "tiempo_fit_red_res = time.time() - start_time\n",
        "\n",
        "# generamos el ensamble usando bagging\n",
        "start_time = time.time()\n",
        "ensamble6_res = BaggingClassifier(base_estimator=red_res, n_estimators=200, random_state=42)\n",
        "\n",
        "param_grid = {\n",
        "    'n_estimators': [50, 100, 200],\n",
        "    'max_samples': [0.5, 0.7, 1.0],\n",
        "    'max_features': [0.5, 0.7, 1.0],\n",
        "    'bootstrap': [True, False],\n",
        "    'bootstrap_features': [True, False]\n",
        "}\n",
        "\n",
        "\n",
        "grid_search = GridSearchCV(estimator=ensamble6_res, param_grid=param_grid, cv=5, scoring='recall', n_jobs=-1, verbose=1)\n",
        "\n",
        "grid_search.fit(Xtv2_res, Ytv2_res)\n",
        "\n",
        "best_params = grid_search.best_params_\n",
        "best_score = grid_search.best_score_\n",
        "\n",
        "print(f\"Mejores hiperparámetros: {best_params}\")\n",
        "print(f\"Mejor Recall Score: {best_score}\")\n",
        "\n",
        "# Entrenamos el ensamble\n",
        "\n",
        "best_bagging_params = {key: value for key, value in best_params.items() if 'base_estimator__' not in key}\n",
        "\n",
        "ensamble6_res_best = BaggingClassifier(base_estimator=red_res, **best_bagging_params, random_state=0)\n",
        "\n",
        "ensamble6_res_best.fit(Xtv2_res, Ytv2_res)\n",
        "\n",
        "tiempo_fit_ensamble6_res_best = time.time() - start_time\n",
        "\n",
        "\n",
        "# Evaluamos el rendimiento de los modelos con el conjunto de entrenamiento\n",
        "\n",
        "ytv_pred = cross_val_predict(red_res, Xtv2_res, Ytv2_res, cv=5)\n",
        "recall_tv_red_res = recall_score(Ytv2_res, ytv_pred, average='binary')\n",
        "recall_tv_macro_red_res = recall_score(Ytv2_res, ytv_pred, average='macro')\n",
        "f1_tv_red_res = f1_score(Ytv2_res, ytv_pred, average='binary')\n",
        "\n",
        "ytv_pred_ensamble6_best = ensamble6_res_best.predict(Xtv2_res)\n",
        "recall_tv_ensamble6_res_best = recall_score(Ytv2_res, ytv_pred_ensamble6_best, average='binary')\n",
        "recall_tv_macro_ensamble6_res_best = recall_score(Ytv2_res, ytv_pred_ensamble6_best, average='macro')\n",
        "f1_tv_ensamble6_res_best = f1_score(Ytv2_res, ytv_pred_ensamble6_best, average='binary')\n"
      ],
      "metadata": {
        "id": "yfG0luv5FEa0"
      },
      "id": "yfG0luv5FEa0",
      "execution_count": null,
      "outputs": []
    },
    {
      "cell_type": "code",
      "source": [
        "cuadro1 = {\n",
        "    'Modelo': ['Dummy', 'red neuronal', 'Ensemble'],\n",
        "    'Recall': [recall_tv_dum_res, recall_tv_red_res,  recall_tv_ensamble6_res_best],\n",
        "    'Recall Macro': [recall_tv_macro_dum_res, recall_tv_macro_red_res, recall_tv_macro_ensamble6_res_best],\n",
        "    'F1 Score': [f1_tv_dum_res, f1_tv_red_res, f1_tv_ensamble6_res_best],\n",
        "    'Fit_Time': [tiempo_fit_dummy_res, tiempo_fit_red_res,tiempo_fit_ensamble6_res_best]\n",
        "}\n",
        "\n",
        "# Crear un DataFrame para almacenar los resultados\n",
        "cuadro1_df = pd.DataFrame(cuadro1,index=cuadro1[\"Modelo\"])\n",
        "cuadro1_df.drop(columns=['Modelo'], inplace=True)\n",
        "\n",
        "# Ordenar el DataFrame por la columna F1_Tst de mayor a menor\n",
        "cuadro1_df = cuadro1_df.sort_values(by='F1 Score', ascending=False)\n",
        "\n",
        "\n",
        "# Evaluamos el rendimiento de los modelos con el conjunto de pruebas\n",
        "\n",
        "ytest_pred = cross_val_predict(red_res, Xtest2, ytest2, cv=5)\n",
        "recall_test = recall_score(ytest2, ytest_pred, average='binary')\n",
        "recall_test_macro = recall_score(ytest2, ytest_pred, average='macro')\n",
        "f1_test = f1_score(ytest2, ytest_pred, average='binary')\n",
        "\n",
        "ytest_pred_ensamble6_best = ensamble6_res_best.predict(Xtest2)\n",
        "recall_test_ensamble6_res_best = recall_score(ytest2, ytest_pred_ensamble6_best, average='binary')\n",
        "recall_test_macro_ensamble6_res_best = recall_score(ytest2, ytest_pred_ensamble6_best, average='macro')\n",
        "f1_test_ensamble6_res_best = f1_score(ytest2, ytest_pred_ensamble6_best, average='binary')\n",
        "\n",
        "cuadro2 = {\n",
        "    'Modelo': ['Dummy', 'red neuronal', 'Ensemble'],\n",
        "    'Recall': [recall_test_dum, recall_test, recall_test_ensamble6_res_best],\n",
        "    'Recall Macro': [recall_test_macro_dum, recall_test_macro, recall_test_macro_ensamble6_res_best],\n",
        "    'F1 Score': [f1_test_dum, f1_test, f1_test_ensamble6_res_best],\n",
        "    'Fit_Time': [tiempo_fit_dummy, tiempo_fit_red_res,tiempo_fit_ensamble6_res_best]\n",
        "}\n",
        "\n",
        "# Crear un DataFrame para almacenar los resultados\n",
        "cuadro2_df = pd.DataFrame(cuadro2,index=cuadro2[\"Modelo\"])\n",
        "cuadro2_df.drop(columns=['Modelo'], inplace=True)\n",
        "\n",
        "# Ordenar el DataFrame por la columna F1_Tst de mayor a menor\n",
        "cuadro2_df = cuadro2_df.sort_values(by='F1 Score', ascending=False)\n",
        "\n",
        "# Aquí puedes especificar el axis=0 para columnas o axis=1 para filas\n",
        "display_side_by_side([cuadro1_df, cuadro2_df], ['Conjunto de Entrenamiento', 'Conjunto de Pruebas'],\n",
        "                     color='lightblue', axis=0)"
      ],
      "metadata": {
        "colab": {
          "base_uri": "https://localhost:8080/",
          "height": 164
        },
        "id": "WQ1FOC4cymk-",
        "outputId": "40cb5ab2-124f-45a8-b625-ac7a94302f51"
      },
      "id": "WQ1FOC4cymk-",
      "execution_count": null,
      "outputs": [
        {
          "output_type": "display_data",
          "data": {
            "text/html": [
              "<div style=\"display: inline-block; padding: 10px;\"><h3>Conjunto de Entrenamiento</h3><style type=\"text/css\">\n",
              "#T_a0ce5_row0_col0, #T_a0ce5_row0_col1, #T_a0ce5_row0_col2, #T_a0ce5_row0_col3 {\n",
              "  background-color: lightblue;\n",
              "}\n",
              "</style>\n",
              "<table id=\"T_a0ce5\">\n",
              "  <thead>\n",
              "    <tr>\n",
              "      <th class=\"blank level0\" >&nbsp;</th>\n",
              "      <th id=\"T_a0ce5_level0_col0\" class=\"col_heading level0 col0\" >Recall</th>\n",
              "      <th id=\"T_a0ce5_level0_col1\" class=\"col_heading level0 col1\" >Recall Macro</th>\n",
              "      <th id=\"T_a0ce5_level0_col2\" class=\"col_heading level0 col2\" >F1 Score</th>\n",
              "      <th id=\"T_a0ce5_level0_col3\" class=\"col_heading level0 col3\" >Fit_Time</th>\n",
              "    </tr>\n",
              "  </thead>\n",
              "  <tbody>\n",
              "    <tr>\n",
              "      <th id=\"T_a0ce5_level0_row0\" class=\"row_heading level0 row0\" >Ensemble</th>\n",
              "      <td id=\"T_a0ce5_row0_col0\" class=\"data row0 col0\" >0.988950</td>\n",
              "      <td id=\"T_a0ce5_row0_col1\" class=\"data row0 col1\" >0.907698</td>\n",
              "      <td id=\"T_a0ce5_row0_col2\" class=\"data row0 col2\" >0.939633</td>\n",
              "      <td id=\"T_a0ce5_row0_col3\" class=\"data row0 col3\" >15089.686809</td>\n",
              "    </tr>\n",
              "    <tr>\n",
              "      <th id=\"T_a0ce5_level0_row1\" class=\"row_heading level0 row1\" >Dummy</th>\n",
              "      <td id=\"T_a0ce5_row1_col0\" class=\"data row1 col0\" >0.000000</td>\n",
              "      <td id=\"T_a0ce5_row1_col1\" class=\"data row1 col1\" >0.000000</td>\n",
              "      <td id=\"T_a0ce5_row1_col2\" class=\"data row1 col2\" >0.749482</td>\n",
              "      <td id=\"T_a0ce5_row1_col3\" class=\"data row1 col3\" >0.000976</td>\n",
              "    </tr>\n",
              "    <tr>\n",
              "      <th id=\"T_a0ce5_level0_row2\" class=\"row_heading level0 row2\" >red neuronal</th>\n",
              "      <td id=\"T_a0ce5_row2_col0\" class=\"data row2 col0\" >0.745856</td>\n",
              "      <td id=\"T_a0ce5_row2_col1\" class=\"data row2 col1\" >0.546482</td>\n",
              "      <td id=\"T_a0ce5_row2_col2\" class=\"data row2 col2\" >0.683544</td>\n",
              "      <td id=\"T_a0ce5_row2_col3\" class=\"data row2 col3\" >2.144533</td>\n",
              "    </tr>\n",
              "  </tbody>\n",
              "</table>\n",
              "</div><div style=\"display: inline-block; padding: 10px;\"><h3>Conjunto de Pruebas</h3><style type=\"text/css\">\n",
              "#T_a70c1_row0_col2, #T_a70c1_row1_col0, #T_a70c1_row1_col1, #T_a70c1_row1_col3 {\n",
              "  background-color: lightblue;\n",
              "}\n",
              "</style>\n",
              "<table id=\"T_a70c1\">\n",
              "  <thead>\n",
              "    <tr>\n",
              "      <th class=\"blank level0\" >&nbsp;</th>\n",
              "      <th id=\"T_a70c1_level0_col0\" class=\"col_heading level0 col0\" >Recall</th>\n",
              "      <th id=\"T_a70c1_level0_col1\" class=\"col_heading level0 col1\" >Recall Macro</th>\n",
              "      <th id=\"T_a70c1_level0_col2\" class=\"col_heading level0 col2\" >F1 Score</th>\n",
              "      <th id=\"T_a70c1_level0_col3\" class=\"col_heading level0 col3\" >Fit_Time</th>\n",
              "    </tr>\n",
              "  </thead>\n",
              "  <tbody>\n",
              "    <tr>\n",
              "      <th id=\"T_a70c1_level0_row0\" class=\"row_heading level0 row0\" >Dummy</th>\n",
              "      <td id=\"T_a70c1_row0_col0\" class=\"data row0 col0\" >0.000000</td>\n",
              "      <td id=\"T_a70c1_row0_col1\" class=\"data row0 col1\" >0.000000</td>\n",
              "      <td id=\"T_a70c1_row0_col2\" class=\"data row0 col2\" >0.774194</td>\n",
              "      <td id=\"T_a70c1_row0_col3\" class=\"data row0 col3\" >0.000978</td>\n",
              "    </tr>\n",
              "    <tr>\n",
              "      <th id=\"T_a70c1_level0_row1\" class=\"row_heading level0 row1\" >Ensemble</th>\n",
              "      <td id=\"T_a70c1_row1_col0\" class=\"data row1 col0\" >0.750000</td>\n",
              "      <td id=\"T_a70c1_row1_col1\" class=\"data row1 col1\" >0.482143</td>\n",
              "      <td id=\"T_a70c1_row1_col2\" class=\"data row1 col2\" >0.679245</td>\n",
              "      <td id=\"T_a70c1_row1_col3\" class=\"data row1 col3\" >15089.686809</td>\n",
              "    </tr>\n",
              "    <tr>\n",
              "      <th id=\"T_a70c1_level0_row2\" class=\"row_heading level0 row2\" >red neuronal</th>\n",
              "      <td id=\"T_a70c1_row2_col0\" class=\"data row2 col0\" >0.625000</td>\n",
              "      <td id=\"T_a70c1_row2_col1\" class=\"data row2 col1\" >0.455357</td>\n",
              "      <td id=\"T_a70c1_row2_col2\" class=\"data row2 col2\" >0.612245</td>\n",
              "      <td id=\"T_a70c1_row2_col3\" class=\"data row2 col3\" >2.144533</td>\n",
              "    </tr>\n",
              "  </tbody>\n",
              "</table>\n",
              "</div>"
            ]
          },
          "metadata": {}
        }
      ]
    },
    {
      "cell_type": "code",
      "source": [
        "# Generar las matrices de confusión\n",
        "cm_tv = confusion_matrix(Ytv2_res, ytv_pred_ensamble6_best)\n",
        "cm_test = confusion_matrix(ytest2, ytest_pred_ensamble6_best)\n",
        "\n",
        "# Crear DataFrames de las matrices de confusión\n",
        "cm_tv_df = pd.DataFrame(cm_tv, index=[0, 1], columns=[0, 1])\n",
        "cm_test_df = pd.DataFrame(cm_test, index=[0, 1], columns=[0, 1])\n",
        "\n",
        "# Crear el heatmap usando seaborn\n",
        "plt.figure(figsize=(14, 6))\n",
        "\n",
        "# Heatmap de la matriz de confusión de entrenamiento\n",
        "plt.subplot(1, 2, 1)\n",
        "sns.heatmap(cm_tv_df, annot=True, fmt='d', cmap='Blues', cbar=False)\n",
        "plt.title('Matriz de Confusión - Entrenamiento')\n",
        "plt.xlabel('Predicted')\n",
        "plt.ylabel('Actual')\n",
        "\n",
        "# Heatmap de la matriz de confusión de prueba\n",
        "plt.subplot(1, 2, 2)\n",
        "sns.heatmap(cm_test_df, annot=True, fmt='d', cmap='Blues', cbar=False)\n",
        "plt.title('Matriz de Confusión - Prueba')\n",
        "plt.xlabel('Predicted')\n",
        "plt.ylabel('Actual')\n",
        "\n",
        "# Mostrar las gráficas\n",
        "plt.tight_layout()\n",
        "plt.show()"
      ],
      "metadata": {
        "id": "8kd18I1YFFCz",
        "colab": {
          "base_uri": "https://localhost:8080/",
          "height": 607
        },
        "outputId": "ca293fd4-cdf2-470b-e7bb-e5573e5aa288"
      },
      "id": "8kd18I1YFFCz",
      "execution_count": null,
      "outputs": [
        {
          "output_type": "display_data",
          "data": {
            "text/plain": [
              "<Figure size 1400x600 with 2 Axes>"
            ],
            "image/png": "[encoded data removed]"
          },
          "metadata": {}
        }
      ]
    },
    {
      "cell_type": "markdown",
      "source": [
        "Pipeline"
      ],
      "metadata": {
        "id": "4KMYx_YE4Yvv"
      },
      "id": "4KMYx_YE4Yvv"
    },
    {
      "cell_type": "code",
      "source": [
        "# Transformamos las variables usando Winsonorización\n",
        "df_T['INICIO_VIDA_SEXUAL_ACTIVA_W'] = winsorize(df_T['INICIO_VIDA_SEXUAL_ACTIVA'], limits=(0.05, 0.05))\n",
        "df_T['DURACION_EPISODIO_MAYOR_ACTUAL_W'] = winsorize(df_T['DURACION_EPISODIO_MAYOR_ACTUAL'], limits=(0.05, 0.05))\n",
        "# Eliminamos estas características originales\n",
        "df_T = df_T.drop([\"INICIO_VIDA_SEXUAL_ACTIVA\",\"DURACION_EPISODIO_MAYOR_ACTUAL\"],\n",
        "             axis=1)"
      ],
      "metadata": {
        "id": "ktgps5ro5fsm"
      },
      "id": "ktgps5ro5fsm",
      "execution_count": 39,
      "outputs": []
    },
    {
      "cell_type": "code",
      "execution_count": 40,
      "metadata": {
        "id": "ngukA-Hs4a0c"
      },
      "outputs": [],
      "source": [
        "# Hacemos listas de las variables ordinales\n",
        "cat_orginales= ['ESCOLARIDAD__JEFE_FAMILIA', 'ESCOLARIDAD_MAXIMA_PX', 'DX_PRIMARIO','TRASTORNO_MAYOR_DIAGNOSTICO',\n",
        "                'Riesgo_suicidio','Sintomas_ansiosos']\n",
        "# Creamos una copia del dataframe\n",
        "df_TC=df_T.copy()\n",
        "# Crear el encoder ordinal\n",
        "encoder_1 = OrdinalEncoder(categories=[[\"Menos de 6 años\", \"Primaria\", \"Secundaria\", \"Preparatoria\",\n",
        "                                     \"Estudios universitarios no terminados\", \"Licenciatura\", \"Posgrado\"]], dtype=int)\n",
        "encoder_2 = OrdinalEncoder(categories=[[\"Distimia\",\"Trastorno depresivo episodio único \",\n",
        "                                        \"Trastorno depresivo mayor recidivante\"]], dtype=int)\n",
        "encoder_3 = OrdinalEncoder(categories=[[\"0\",\"TRASTORNO DEPRESIVO MAYOR\",\"TRASTORNO DEPRESIVO MAYOR EPISODIO UNICO O PRIMER EPISODIO\",\n",
        "                                        \"TRASTORNO DEPRESIVO MAYOR RECURRENTE O RECIDIVANTE\",\n",
        "                                        \"TRASTORNO DEPRESIVO MAYOR RECURRENTE RESISTENTE O SEVERO\"]], dtype=int)\n",
        "encoder_4 = OrdinalEncoder(categories=[[\"Leve\",\"Moderado\",\"Alto\"]], dtype=int)\n",
        "encoder_5 = OrdinalEncoder(categories=[[\"Leve\",\"Moderado-Grave\"]], dtype=int)\n",
        "encoder_6 = OrdinalEncoder(categories=[[\"Primera aparición sin antecedente\",\"Indistinguible del pasado\",\n",
        "                                        \"Recurrencia condición previa\",\n",
        "                                        \"Significativamente diferente de condición previa\",\n",
        "                                        \"Exageración de trastorno crónico\"]], dtype=int)\n",
        "\n",
        "# Ajustar y transformar los datos\n",
        "df_TC['ESCOLARIDAD__JEFE_FAMILIA_encoded'] = encoder_1.fit_transform(df_TC[['ESCOLARIDAD__JEFE_FAMILIA']])\n",
        "df_TC['ESCOLARIDAD_MAXIMA_PX_encoded'] = encoder_1.fit_transform(df_TC[['ESCOLARIDAD_MAXIMA_PX']])\n",
        "df_TC['DX_PRIMARIO_encoded'] = encoder_2.fit_transform(df_TC[['DX_PRIMARIO']])\n",
        "df_TC['TRASTORNO_MAYOR_DIAGNOSTICO_encoded'] = encoder_3.fit_transform(df_TC[['TRASTORNO_MAYOR_DIAGNOSTICO']])\n",
        "df_TC['Riesgo_suicidio_encoded'] = encoder_4.fit_transform(df_TC[['Riesgo_suicidio']])\n",
        "df_TC['Sintomas_ansiosos_encoded'] = encoder_5.fit_transform(df_TC[['Sintomas_ansiosos']])\n",
        "df_TC['CONDICION_ACTUAL_encoded'] = encoder_6.fit_transform(df_TC[['CONDICION_ACTUAL']])\n",
        "# Eliminamos estas características originales\n",
        "df_TC = df_TC.drop([\"ESCOLARIDAD__JEFE_FAMILIA\",\"ESCOLARIDAD_MAXIMA_PX\",\"DX_PRIMARIO\",\"TRASTORNO_MAYOR_DIAGNOSTICO\",\n",
        "                \"Riesgo_suicidio\",\"Sintomas_ansiosos\",\"CONDICION_ACTUAL\"],\n",
        "             axis=1)\n",
        "# Hacemos listas de las variables no ordinales\n",
        "cat_no_orginales= ['SEXO', 'ESTADO_civil', 'RELIGION','PROVEEDOR_FAMILIAR', 'OCUPACIoN_JEFE_FAMILIA']\n",
        "# Creamos una copia del ultimo dataframe\n",
        "df_TC_encoded=df_TC.copy()\n",
        "# Aplicar Get_dummies asegurando de eliminar la primera categoría\n",
        "df_TC_encoded = pd.get_dummies(df_TC_encoded, columns=cat_no_orginales, drop_first=True)\n",
        "# Generamos la base con las características y la variable de salida\n",
        "X1 = df_TC_encoded.drop(columns=['Sintomas_ansiosos_encoded'])\n",
        "Y1 = df_TC_encoded['Sintomas_ansiosos_encoded']\n",
        "Xtv1, Xtest1, ytv1, ytest1 = train_test_split(X1, Y1, train_size = 0.9, random_state = 0)\n",
        "\n",
        "# Creamos un modelo\n",
        "start_time = time.time()\n",
        "dummy_clf = DummyClassifier(strategy='most_frequent', random_state= 0)\n",
        "\n",
        "# Se ajusta el modelo a los datos de entrenamiento\n",
        "dummy_clf.fit(Xtv1, ytv1)\n",
        "tiempo_fit_dummy = time.time() - start_time\n",
        "\n",
        "preds_dum_tv = dummy_clf.predict_proba(Xtv1)"
      ],
      "id": "ngukA-Hs4a0c"
    },
    {
      "cell_type": "code",
      "source": [
        "from sklearn.pipeline import Pipeline\n",
        "from sklearn.compose import ColumnTransformer\n",
        "from sklearn.preprocessing import OrdinalEncoder, OneHotEncoder\n",
        "from sklearn.model_selection import train_test_split\n",
        "from sklearn.dummy import DummyClassifier\n",
        "import pandas as pd\n",
        "import numpy as np\n",
        "import time\n",
        "\n",
        "# Hacemos listas de las variables ordinales\n",
        "cat_ordinales = ['ESCOLARIDAD__JEFE_FAMILIA', 'ESCOLARIDAD_MAXIMA_PX', 'DX_PRIMARIO', 'TRASTORNO_MAYOR_DIAGNOSTICO',\n",
        "                 'Riesgo_suicidio', 'Sintomas_ansiosos']\n",
        "\n",
        "# Creamos una copia del dataframe\n",
        "df_TC = df_T.copy()\n",
        "\n",
        "# Creamos un pipeline para las variables ordinales\n",
        "ordinal_pipeline = Pipeline([\n",
        "    ('encoder_1', OrdinalEncoder(categories=[[\"Menos de 6 años\", \"Primaria\", \"Secundaria\", \"Preparatoria\",\n",
        "                                               \"Estudios universitarios no terminados\", \"Licenciatura\", \"Posgrado\"]],\n",
        "                                  dtype=int)),\n",
        "    ('encoder_2', OrdinalEncoder(categories=[[\"Distimia\", \"Trastorno depresivo episodio único \",\n",
        "                                              \"Trastorno depresivo mayor recidivante\"]], dtype=int)),\n",
        "    ('encoder_3', OrdinalEncoder(categories=[[\"0\", \"TRASTORNO DEPRESIVO MAYOR\",\n",
        "                                               \"TRASTORNO DEPRESIVO MAYOR EPISODIO UNICO O PRIMER EPISODIO\",\n",
        "                                               \"TRASTORNO DEPRESIVO MAYOR RECURRENTE O RECIDIVANTE\",\n",
        "                                               \"TRASTORNO DEPRESIVO MAYOR RECURRENTE RESISTENTE O SEVERO\"]],\n",
        "                                  dtype=int)),\n",
        "    ('encoder_4', OrdinalEncoder(categories=[[\"Leve\", \"Moderado\", \"Alto\"]], dtype=int)),\n",
        "    ('encoder_5', OrdinalEncoder(categories=[[\"Leve\", \"Moderado-Grave\"]], dtype=int)),\n",
        "    ('encoder_6', OrdinalEncoder(categories=[[\"Primera aparición sin antecedente\", \"Indistinguible del pasado\",\n",
        "                                               \"Recurrencia condición previa\",\n",
        "                                               \"Significativamente diferente de condición previa\",\n",
        "                                               \"Exageración de trastorno crónico\"]], dtype=int))\n",
        "])\n",
        "\n",
        "# Creamos listas de las variables no ordinales\n",
        "cat_no_ordinales = ['SEXO', 'ESTADO_civil', 'RELIGION', 'PROVEEDOR_FAMILIAR', 'OCUPACIoN_JEFE_FAMILIA']\n",
        "\n",
        "# Creamos un pipeline para las variables no ordinales\n",
        "no_ordinal_pipeline = Pipeline([\n",
        "    ('onehot', OneHotEncoder(drop='first'))\n",
        "])\n",
        "\n",
        "# Combinamos los pipelines para aplicar a todas las columnas\n",
        "preprocessor = ColumnTransformer(\n",
        "    transformers=[\n",
        "        ('ordinal', ordinal_pipeline, cat_ordinales),\n",
        "        ('no_ordinal', no_ordinal_pipeline, cat_no_ordinales)\n",
        "    ],\n",
        "    remainder='passthrough'\n",
        ")\n",
        "\n",
        "# Aplicamos las transformaciones a todo el conjunto de datos\n",
        "df_encoded = preprocessor.fit_transform(df_TC)\n",
        "\n",
        "# Generamos la base con las características y la variable de salida\n",
        "X1 = df_encoded[:, :-1]\n",
        "Y1 = df_encoded[:, -1]\n",
        "\n",
        "# Dividimos los datos en conjunto de entrenamiento y prueba\n",
        "Xtv1, Xtest1, ytv1, ytest1 = train_test_split(X1, Y1, train_size=0.9, random_state=0)\n",
        "\n",
        "# Creamos un modelo\n",
        "start_time = time.time()\n",
        "dummy_clf = DummyClassifier(strategy='most_frequent', random_state=0)\n",
        "\n",
        "# Se ajusta el modelo a los datos de entrenamiento\n",
        "dummy_clf.fit(Xtv1, ytv1)\n",
        "tiempo_fit_dummy = time.time() - start_time\n",
        "\n",
        "preds_dum_tv = dummy_clf.predict_proba(Xtv1)\n"
      ],
      "metadata": {
        "id": "qLuseLh37tCB"
      },
      "id": "qLuseLh37tCB",
      "execution_count": null,
      "outputs": []
    },
    {
      "cell_type": "code",
      "source": [
        "from sklearn.pipeline import Pipeline\n",
        "from sklearn.preprocessing import OrdinalEncoder, OneHotEncoder\n",
        "from sklearn.model_selection import train_test_split\n",
        "from sklearn.dummy import DummyClassifier\n",
        "import pandas as pd\n",
        "import numpy as np\n",
        "import time\n",
        "\n",
        "# Hacemos listas de las variables ordinales\n",
        "cat_ordinales = ['ESCOLARIDAD__JEFE_FAMILIA', 'ESCOLARIDAD_MAXIMA_PX', 'DX_PRIMARIO', 'TRASTORNO_MAYOR_DIAGNOSTICO',\n",
        "                 'Riesgo_suicidio', 'Sintomas_ansiosos']\n",
        "\n",
        "# Hacemos listas de las variables no ordinales\n",
        "cat_no_ordinales = ['SEXO', 'ESTADO_civil', 'RELIGION', 'PROVEEDOR_FAMILIAR', 'OCUPACIoN_JEFE_FAMILIA']\n",
        "\n",
        "# Creamos una copia del dataframe\n",
        "df_TC = df_T.copy()\n",
        "\n",
        "# Creamos un pipeline para las variables ordinales\n",
        "ordinal_pipeline = Pipeline([\n",
        "    ('encoder', OrdinalEncoder(categories=[[\"Menos de 6 años\", \"Primaria\", \"Secundaria\", \"Preparatoria\",\n",
        "                                             \"Estudios universitarios no terminados\", \"Licenciatura\", \"Posgrado\"],\n",
        "                                            [\"Distimia\", \"Trastorno depresivo episodio único \",\n",
        "                                             \"Trastorno depresivo mayor recidivante\"],\n",
        "                                            [\"0\", \"TRASTORNO DEPRESIVO MAYOR\",\n",
        "                                             \"TRASTORNO DEPRESIVO MAYOR EPISODIO UNICO O PRIMER EPISODIO\",\n",
        "                                             \"TRASTORNO DEPRESIVO MAYOR RECURRENTE O RECIDIVANTE\",\n",
        "                                             \"TRASTORNO DEPRESIVO MAYOR RECURRENTE RESISTENTE O SEVERO\"],\n",
        "                                            [\"Leve\", \"Moderado\", \"Alto\"],\n",
        "                                            [\"Leve\", \"Moderado-Grave\"],\n",
        "                                            [\"Primera aparición sin antecedente\", \"Indistinguible del pasado\",\n",
        "                                             \"Recurrencia condición previa\",\n",
        "                                             \"Significativamente diferente de condición previa\",\n",
        "                                             \"Exageración de trastorno crónico\"]], dtype=int))\n",
        "])\n",
        "\n",
        "# Creamos un pipeline para las variables no ordinales\n",
        "no_ordinal_pipeline = Pipeline([\n",
        "    ('onehot', OneHotEncoder(drop='first'))\n",
        "])\n",
        "\n",
        "# Aplicamos el pipeline ordinal a las variables ordinales\n",
        "df_ordinales_encoded = ordinal_pipeline.fit_transform(df_TC[cat_ordinales])\n",
        "\n",
        "# Aplicamos el pipeline onehot a las variables no ordinales\n",
        "df_no_ordinales_encoded = no_ordinal_pipeline.fit_transform(df_TC[cat_no_ordinales])\n",
        "\n",
        "# Unimos los resultados en un solo dataframe\n",
        "df_encoded = np.concatenate([df_ordinales_encoded, df_no_ordinales_encoded.toarray()], axis=1)\n",
        "\n",
        "# Generamos la base con las características y la variable de salida\n",
        "X1 = df_encoded[:, :-1]\n",
        "Y1 = df_encoded[:, -1]\n",
        "\n",
        "# Dividimos los datos en conjunto de entrenamiento y prueba\n",
        "Xtv1, Xtest1, ytv1, ytest1 = train_test_split(X1, Y1, train_size=0.9, random_state=0)\n",
        "\n",
        "# Creamos un modelo\n",
        "start_time = time.time()\n",
        "dummy_clf = DummyClassifier(strategy='most_frequent', random_state=0)\n",
        "\n",
        "# Se ajusta el modelo a los datos de entrenamiento\n",
        "dummy_clf.fit(Xtv1, ytv1)\n",
        "tiempo_fit_dummy = time.time() - start_time\n",
        "\n",
        "preds_dum_tv = dummy_clf.predict_proba(Xtv1)\n"
      ],
      "metadata": {
        "id": "eRBECrhM8WNK"
      },
      "id": "eRBECrhM8WNK",
      "execution_count": null,
      "outputs": []
    }
  ],
  "metadata": {
    "colab": {
      "collapsed_sections": [
        "yrLd5hs1LZMY",
        "4oIRZ5ycHAh0",
        "Lj0MLJO1sCdU",
        "UKP_AyyFWBOs",
        "CKuG3Msfk3jV",
        "bMVRgOsywk-N",
        "EwrQRdy8qEMS",
        "7v_azwrfxibt",
        "y51V-6xp1UY4",
        "VRrWOIbM9JDW",
        "Gnm-UbrL8V_v",
        "Nc-QD9A39NP2"
      ],
      "provenance": [],
      "include_colab_link": true
    },
    "kernelspec": {
      "display_name": "Python 3 (ipykernel)",
      "language": "python",
      "name": "python3"
    },
    "language_info": {
      "codemirror_mode": {
        "name": "ipython",
        "version": 3
      },
      "file_extension": ".py",
      "mimetype": "text/x-python",
      "name": "python",
      "nbconvert_exporter": "python",
      "pygments_lexer": "ipython3",
      "version": "3.9.19"
    }
  },
  "nbformat": 4,
  "nbformat_minor": 5
}