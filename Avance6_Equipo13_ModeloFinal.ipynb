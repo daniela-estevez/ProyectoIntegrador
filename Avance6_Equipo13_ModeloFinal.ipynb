{
  "cells": [
    {
      "cell_type": "markdown",
      "metadata": {
        "id": "view-in-github",
        "colab_type": "text"
      },
      "source": [
        "<a href=\"https://colab.research.google.com/github/daniela-estevez/ProyectoIntegrador/blob/main/Avance6_Equipo13_ModeloFinal.ipynb\" target=\"_parent\"><img src=\"https://colab.research.google.com/assets/colab-badge.svg\" alt=\"Open In Colab\"/></a>"
      ]
    },
    {
      "cell_type": "markdown",
      "id": "a9bea28c",
      "metadata": {
        "id": "a9bea28c"
      },
      "source": [
        "<a href=\"https://colab.research.google.com/github/daniela-estevez/ProyectoIntegrador/blob/main/Avance6_Equipo13.ipynb\" target=\"_parent\"><img src=\"https://colab.research.google.com/assets/colab-badge.svg\" alt=\"Open In Colab\"/></a>"
      ]
    },
    {
      "cell_type": "markdown",
      "id": "bnHtyrAJCo3s",
      "metadata": {
        "id": "bnHtyrAJCo3s"
      },
      "source": [
        "# Avance 6. Conclusiones clave\n",
        "\n",
        "## Equipo 13\n",
        "\n",
        "## Alejandro García Hernández A01793812\n",
        "## Daniela Estevez Rodriguez A01793723\n",
        "## Carlos Alberto López Álvarez A01168193"
      ]
    },
    {
      "cell_type": "markdown",
      "id": "HOPH-TEIDF6Z",
      "metadata": {
        "id": "HOPH-TEIDF6Z"
      },
      "source": [
        "## Objetivos\n",
        "\n",
        "En este avance, se busca fundamentar si es viable implementar el modelo, evaluando su adecuación a los criterios de éxito previamente establecidos y considerando los resultados obtenidos durante la etapa de modelado.\n",
        "\n",
        "A través de las últimas 6 semanas hemos ido trabajando en diferentes etapas de la creación de un modelo, desde el EDA, preprocesamiento de datos, hasta probar decenas de modelos y combinaciones de los mismos.\n",
        "\n",
        "De esta manera en nuestro el el notebook de Avance6_Equipo13_Anexo que adjuntamos a esta entrega llegamos a un modelo final que es un modelo de ensamble de regresión logística y SVM.\n",
        "\n",
        "En este código se encontrara la versión final de modelo entrenado usando pipelines.\n",
        "\n",
        "*Nota: Todo el razonamiento de porque llegamos a ese modelo se encuentra en el Avance6_Anexo_Equipo13*\n",
        "\n",
        "*Nota2: Si hemos trabajado en la parte del pipeline, sin embargo, estamos teniendo problemas para que nos quede listo, por lo que decidimos concentrar nuestros esfuerzos en la entrega del modelo final que presentamos aqui y en el pdf."
      ]
    },
    {
      "cell_type": "markdown",
      "id": "yrLd5hs1LZMY",
      "metadata": {
        "id": "yrLd5hs1LZMY"
      },
      "source": [
        "## 0. Librerías"
      ]
    },
    {
      "cell_type": "code",
      "execution_count": null,
      "id": "FxqiPB_ImQ5b",
      "metadata": {
        "id": "FxqiPB_ImQ5b",
        "outputId": "2bdae0c2-a3ff-47cf-efd2-7e69ec7d1519"
      },
      "outputs": [
        {
          "data": {
            "application/javascript": [
              "\n",
              "            setTimeout(function() {\n",
              "                var nbb_cell_id = 1;\n",
              "                var nbb_unformatted_code = \"import warnings\\n\\nwarnings.filterwarnings(\\\"ignore\\\")\\nimport time\\n\\n# this will help in making the Python code more structured automatically (good coding practice)\\n%load_ext nb_black\";\n",
              "                var nbb_formatted_code = \"import warnings\\n\\nwarnings.filterwarnings(\\\"ignore\\\")\\nimport time\\n\\n# this will help in making the Python code more structured automatically (good coding practice)\\n%load_ext nb_black\";\n",
              "                var nbb_cells = Jupyter.notebook.get_cells();\n",
              "                for (var i = 0; i < nbb_cells.length; ++i) {\n",
              "                    if (nbb_cells[i].input_prompt_number == nbb_cell_id) {\n",
              "                        if (nbb_cells[i].get_text() == nbb_unformatted_code) {\n",
              "                             nbb_cells[i].set_text(nbb_formatted_code);\n",
              "                        }\n",
              "                        break;\n",
              "                    }\n",
              "                }\n",
              "            }, 500);\n",
              "            "
            ],
            "text/plain": [
              "<IPython.core.display.Javascript object>"
            ]
          },
          "metadata": {},
          "output_type": "display_data"
        }
      ],
      "source": [
        "import warnings\n",
        "\n",
        "warnings.filterwarnings(\"ignore\")\n",
        "import time\n",
        "\n",
        "# this will help in making the Python code more structured automatically (good coding practice)\n",
        "%load_ext nb_black"
      ]
    },
    {
      "cell_type": "code",
      "execution_count": null,
      "id": "584809fc-6ced-4e75-ab2d-42baca19672d",
      "metadata": {
        "id": "584809fc-6ced-4e75-ab2d-42baca19672d",
        "outputId": "a037ab7c-6933-4887-be2e-97622fa13be6"
      },
      "outputs": [
        {
          "data": {
            "application/javascript": [
              "\n",
              "            setTimeout(function() {\n",
              "                var nbb_cell_id = 2;\n",
              "                var nbb_unformatted_code = \"# Librer\\u00edas a utilizar para el pre procesamiento.\\n\\nimport pandas as pd\\nimport numpy as np\\nimport seaborn as sns\\nimport matplotlib.pyplot as plt\\nfrom sklearn.preprocessing import OneHotEncoder\\nfrom sklearn.preprocessing import OrdinalEncoder\\nfrom scipy.stats.mstats import winsorize\\nfrom sklearn.preprocessing import LabelEncoder\";\n",
              "                var nbb_formatted_code = \"# Librer\\u00edas a utilizar para el pre procesamiento.\\n\\nimport pandas as pd\\nimport numpy as np\\nimport seaborn as sns\\nimport matplotlib.pyplot as plt\\nfrom sklearn.preprocessing import OneHotEncoder\\nfrom sklearn.preprocessing import OrdinalEncoder\\nfrom scipy.stats.mstats import winsorize\\nfrom sklearn.preprocessing import LabelEncoder\";\n",
              "                var nbb_cells = Jupyter.notebook.get_cells();\n",
              "                for (var i = 0; i < nbb_cells.length; ++i) {\n",
              "                    if (nbb_cells[i].input_prompt_number == nbb_cell_id) {\n",
              "                        if (nbb_cells[i].get_text() == nbb_unformatted_code) {\n",
              "                             nbb_cells[i].set_text(nbb_formatted_code);\n",
              "                        }\n",
              "                        break;\n",
              "                    }\n",
              "                }\n",
              "            }, 500);\n",
              "            "
            ],
            "text/plain": [
              "<IPython.core.display.Javascript object>"
            ]
          },
          "metadata": {},
          "output_type": "display_data"
        }
      ],
      "source": [
        "# Librerías a utilizar para el pre procesamiento.\n",
        "\n",
        "import pandas as pd\n",
        "import numpy as np\n",
        "import seaborn as sns\n",
        "import matplotlib.pyplot as plt\n",
        "from sklearn.preprocessing import OneHotEncoder\n",
        "from sklearn.preprocessing import OrdinalEncoder\n",
        "from scipy.stats.mstats import winsorize\n",
        "from sklearn.preprocessing import LabelEncoder\n"
      ]
    },
    {
      "cell_type": "code",
      "execution_count": null,
      "id": "e0IQnXOlrYOD",
      "metadata": {
        "id": "e0IQnXOlrYOD",
        "outputId": "947ba8b7-d9d8-46f8-c962-09a08b93f0b8"
      },
      "outputs": [
        {
          "data": {
            "application/javascript": [
              "\n",
              "            setTimeout(function() {\n",
              "                var nbb_cell_id = 3;\n",
              "                var nbb_unformatted_code = \"# Librer\\u00edas para la secci\\u00f3n de modelos supervisados y ensambles\\nfrom sklearn.linear_model import LogisticRegression\\nfrom sklearn.tree import DecisionTreeClassifier\\nfrom sklearn.model_selection import (\\n    train_test_split,\\n    cross_val_score,\\n    RepeatedStratifiedKFold,\\n    GridSearchCV,\\n    cross_val_predict,\\n)\\nfrom sklearn.metrics import (\\n    confusion_matrix,\\n    f1_score,\\n    accuracy_score,\\n    classification_report,\\n    recall_score,\\n    make_scorer,\\n)\\nfrom sklearn.ensemble import RandomForestClassifier\\nfrom sklearn.neural_network import MLPClassifier\\nfrom sklearn.neighbors import KNeighborsClassifier\\nfrom sklearn.svm import SVC\\nfrom xgboost import XGBClassifier\\nfrom sklearn.tree import export_graphviz\\nimport graphviz\\nfrom IPython.display import display\\nfrom xgboost import plot_importance\\nfrom sklearn.preprocessing import LabelEncoder\\nfrom sklearn.dummy import DummyClassifier\\n\\nfrom sklearn.ensemble import BaggingClassifier\\n\\nfrom imblearn.under_sampling import (\\n    RandomUnderSampler,\\n    TomekLinks,\\n    EditedNearestNeighbours,\\n)\\nfrom imblearn.over_sampling import RandomOverSampler, SMOTE\\nfrom imblearn.combine import SMOTEENN, SMOTETomek\\nfrom sklearn.ensemble import (\\n    ExtraTreesClassifier,\\n    GradientBoostingClassifier,\\n    AdaBoostClassifier,\\n)\\n\\nfrom IPython.display import display_html\";\n",
              "                var nbb_formatted_code = \"# Librer\\u00edas para la secci\\u00f3n de modelos supervisados y ensambles\\nfrom sklearn.linear_model import LogisticRegression\\nfrom sklearn.tree import DecisionTreeClassifier\\nfrom sklearn.model_selection import (\\n    train_test_split,\\n    cross_val_score,\\n    RepeatedStratifiedKFold,\\n    GridSearchCV,\\n    cross_val_predict,\\n)\\nfrom sklearn.metrics import (\\n    confusion_matrix,\\n    f1_score,\\n    accuracy_score,\\n    classification_report,\\n    recall_score,\\n    make_scorer,\\n)\\nfrom sklearn.ensemble import RandomForestClassifier\\nfrom sklearn.neural_network import MLPClassifier\\nfrom sklearn.neighbors import KNeighborsClassifier\\nfrom sklearn.svm import SVC\\nfrom xgboost import XGBClassifier\\nfrom sklearn.tree import export_graphviz\\nimport graphviz\\nfrom IPython.display import display\\nfrom xgboost import plot_importance\\nfrom sklearn.preprocessing import LabelEncoder\\nfrom sklearn.dummy import DummyClassifier\\n\\nfrom sklearn.ensemble import BaggingClassifier\\n\\nfrom imblearn.under_sampling import (\\n    RandomUnderSampler,\\n    TomekLinks,\\n    EditedNearestNeighbours,\\n)\\nfrom imblearn.over_sampling import RandomOverSampler, SMOTE\\nfrom imblearn.combine import SMOTEENN, SMOTETomek\\nfrom sklearn.ensemble import (\\n    ExtraTreesClassifier,\\n    GradientBoostingClassifier,\\n    AdaBoostClassifier,\\n)\\n\\nfrom IPython.display import display_html\";\n",
              "                var nbb_cells = Jupyter.notebook.get_cells();\n",
              "                for (var i = 0; i < nbb_cells.length; ++i) {\n",
              "                    if (nbb_cells[i].input_prompt_number == nbb_cell_id) {\n",
              "                        if (nbb_cells[i].get_text() == nbb_unformatted_code) {\n",
              "                             nbb_cells[i].set_text(nbb_formatted_code);\n",
              "                        }\n",
              "                        break;\n",
              "                    }\n",
              "                }\n",
              "            }, 500);\n",
              "            "
            ],
            "text/plain": [
              "<IPython.core.display.Javascript object>"
            ]
          },
          "metadata": {},
          "output_type": "display_data"
        }
      ],
      "source": [
        "# Librerías para la sección de modelos supervisados y ensambles\n",
        "from sklearn.linear_model import LogisticRegression\n",
        "from sklearn.tree import DecisionTreeClassifier\n",
        "from sklearn.model_selection import (\n",
        "    train_test_split,\n",
        "    cross_val_score,\n",
        "    RepeatedStratifiedKFold,\n",
        "    GridSearchCV,\n",
        "    cross_val_predict,\n",
        ")\n",
        "from sklearn.metrics import (\n",
        "    confusion_matrix,\n",
        "    f1_score,\n",
        "    accuracy_score,\n",
        "    classification_report,\n",
        "    recall_score,\n",
        "    make_scorer,\n",
        ")\n",
        "from sklearn.ensemble import RandomForestClassifier\n",
        "from sklearn.neural_network import MLPClassifier\n",
        "from sklearn.neighbors import KNeighborsClassifier\n",
        "from sklearn.svm import SVC\n",
        "from xgboost import XGBClassifier\n",
        "from sklearn.tree import export_graphviz\n",
        "import graphviz\n",
        "from IPython.display import display\n",
        "from xgboost import plot_importance\n",
        "from sklearn.preprocessing import LabelEncoder\n",
        "from sklearn.dummy import DummyClassifier\n",
        "\n",
        "from sklearn.ensemble import BaggingClassifier\n",
        "\n",
        "from imblearn.under_sampling import (\n",
        "    RandomUnderSampler,\n",
        "    TomekLinks,\n",
        "    EditedNearestNeighbours,\n",
        ")\n",
        "from imblearn.over_sampling import RandomOverSampler, SMOTE\n",
        "from imblearn.combine import SMOTEENN, SMOTETomek\n",
        "from sklearn.ensemble import (\n",
        "    ExtraTreesClassifier,\n",
        "    GradientBoostingClassifier,\n",
        "    AdaBoostClassifier,\n",
        ")\n",
        "\n",
        "from IPython.display import display_html"
      ]
    },
    {
      "cell_type": "code",
      "execution_count": null,
      "id": "HtYYTTYS5nvS",
      "metadata": {
        "id": "HtYYTTYS5nvS",
        "outputId": "dff09496-1f33-4b29-81cc-45f2da06e257"
      },
      "outputs": [
        {
          "data": {
            "application/javascript": [
              "\n",
              "            setTimeout(function() {\n",
              "                var nbb_cell_id = 4;\n",
              "                var nbb_unformatted_code = \"# El siguiente bloque se agreg\\u00f3 para poder leer los archivos drive\\n# from google.colab import drive\\n# drive.mount('/content/drive')\\n#%cd /content/drive/MyDrive/Colab Notebooks/Proyecto Integrador\";\n",
              "                var nbb_formatted_code = \"# El siguiente bloque se agreg\\u00f3 para poder leer los archivos drive\\n# from google.colab import drive\\n# drive.mount('/content/drive')\\n#%cd /content/drive/MyDrive/Colab Notebooks/Proyecto Integrador\";\n",
              "                var nbb_cells = Jupyter.notebook.get_cells();\n",
              "                for (var i = 0; i < nbb_cells.length; ++i) {\n",
              "                    if (nbb_cells[i].input_prompt_number == nbb_cell_id) {\n",
              "                        if (nbb_cells[i].get_text() == nbb_unformatted_code) {\n",
              "                             nbb_cells[i].set_text(nbb_formatted_code);\n",
              "                        }\n",
              "                        break;\n",
              "                    }\n",
              "                }\n",
              "            }, 500);\n",
              "            "
            ],
            "text/plain": [
              "<IPython.core.display.Javascript object>"
            ]
          },
          "metadata": {},
          "output_type": "display_data"
        }
      ],
      "source": [
        "# El siguiente bloque se agregó para poder leer los archivos drive\n",
        "# from google.colab import drive\n",
        "# drive.mount('/content/drive')\n",
        "#%cd /content/drive/MyDrive/Colab Notebooks/Proyecto Integrador"
      ]
    },
    {
      "cell_type": "code",
      "execution_count": null,
      "id": "fb3aeaaa",
      "metadata": {
        "id": "fb3aeaaa",
        "outputId": "c2342ac7-4520-4394-dd4e-7840d1e9cc2d"
      },
      "outputs": [
        {
          "data": {
            "application/javascript": [
              "\n",
              "            setTimeout(function() {\n",
              "                var nbb_cell_id = 5;\n",
              "                var nbb_unformatted_code = \"# Funci\\u00f3n para mostrar los DataFrames uno junto al otro con estilos\\ndef display_side_by_side(dfs, captions, color=\\\"lightgreen\\\", axis=0):\\n    html_str = \\\"\\\"\\n    for caption, df in zip(captions, dfs):\\n        html_str += '<div style=\\\"display: inline-block; padding: 10px;\\\">'\\n        html_str += f\\\"<h3>{caption}</h3>\\\"\\n        html_str += df.style.highlight_max(color=color, axis=axis).to_html()\\n        html_str += \\\"</div>\\\"\\n    display_html(html_str, raw=True)\";\n",
              "                var nbb_formatted_code = \"# Funci\\u00f3n para mostrar los DataFrames uno junto al otro con estilos\\ndef display_side_by_side(dfs, captions, color=\\\"lightgreen\\\", axis=0):\\n    html_str = \\\"\\\"\\n    for caption, df in zip(captions, dfs):\\n        html_str += '<div style=\\\"display: inline-block; padding: 10px;\\\">'\\n        html_str += f\\\"<h3>{caption}</h3>\\\"\\n        html_str += df.style.highlight_max(color=color, axis=axis).to_html()\\n        html_str += \\\"</div>\\\"\\n    display_html(html_str, raw=True)\";\n",
              "                var nbb_cells = Jupyter.notebook.get_cells();\n",
              "                for (var i = 0; i < nbb_cells.length; ++i) {\n",
              "                    if (nbb_cells[i].input_prompt_number == nbb_cell_id) {\n",
              "                        if (nbb_cells[i].get_text() == nbb_unformatted_code) {\n",
              "                             nbb_cells[i].set_text(nbb_formatted_code);\n",
              "                        }\n",
              "                        break;\n",
              "                    }\n",
              "                }\n",
              "            }, 500);\n",
              "            "
            ],
            "text/plain": [
              "<IPython.core.display.Javascript object>"
            ]
          },
          "metadata": {},
          "output_type": "display_data"
        }
      ],
      "source": [
        "# Función para mostrar los DataFrames uno junto al otro con estilos\n",
        "def display_side_by_side(dfs, captions, color=\"lightgreen\", axis=0):\n",
        "    html_str = \"\"\n",
        "    for caption, df in zip(captions, dfs):\n",
        "        html_str += '<div style=\"display: inline-block; padding: 10px;\">'\n",
        "        html_str += f\"<h3>{caption}</h3>\"\n",
        "        html_str += df.style.highlight_max(color=color, axis=axis).to_html()\n",
        "        html_str += \"</div>\"\n",
        "    display_html(html_str, raw=True)"
      ]
    },
    {
      "cell_type": "markdown",
      "id": "4oIRZ5ycHAh0",
      "metadata": {
        "id": "4oIRZ5ycHAh0"
      },
      "source": [
        "## 1. Preparación de datos"
      ]
    },
    {
      "cell_type": "markdown",
      "id": "rYyJMawgi4wt",
      "metadata": {
        "id": "rYyJMawgi4wt"
      },
      "source": [
        "Se aplica el pre procesamiento de los datos que se ha trabajado en semanas anteriores. Así, obtenemos dos conjuntos de datos para poder trabajar los datos con diferentes modelos. En el primer conjunto las variables ordinales son codificadas con LabelEncoder y en el segundo conjunto se les aplica OHE."
      ]
    },
    {
      "cell_type": "code",
      "execution_count": null,
      "id": "5bef599b-eb4f-4d50-964f-451b7065f29a",
      "metadata": {
        "id": "5bef599b-eb4f-4d50-964f-451b7065f29a",
        "outputId": "b0159cf2-3483-4c22-d1e4-e497bde9b4ab"
      },
      "outputs": [
        {
          "data": {
            "application/javascript": [
              "\n",
              "            setTimeout(function() {\n",
              "                var nbb_cell_id = 6;\n",
              "                var nbb_unformatted_code = \"data = pd.read_csv(\\\"base.csv\\\", sep=\\\",\\\", encoding=\\\"latin1\\\")\\ndf = data.copy()\";\n",
              "                var nbb_formatted_code = \"data = pd.read_csv(\\\"base.csv\\\", sep=\\\",\\\", encoding=\\\"latin1\\\")\\ndf = data.copy()\";\n",
              "                var nbb_cells = Jupyter.notebook.get_cells();\n",
              "                for (var i = 0; i < nbb_cells.length; ++i) {\n",
              "                    if (nbb_cells[i].input_prompt_number == nbb_cell_id) {\n",
              "                        if (nbb_cells[i].get_text() == nbb_unformatted_code) {\n",
              "                             nbb_cells[i].set_text(nbb_formatted_code);\n",
              "                        }\n",
              "                        break;\n",
              "                    }\n",
              "                }\n",
              "            }, 500);\n",
              "            "
            ],
            "text/plain": [
              "<IPython.core.display.Javascript object>"
            ]
          },
          "metadata": {},
          "output_type": "display_data"
        }
      ],
      "source": [
        "data = pd.read_csv(\"base.csv\", sep=\",\", encoding=\"latin1\")\n",
        "df = data.copy()"
      ]
    },
    {
      "cell_type": "code",
      "execution_count": null,
      "id": "esYdsyF6PVJs",
      "metadata": {
        "id": "esYdsyF6PVJs",
        "outputId": "7646c61a-e7d9-4f45-c164-d0e138ec5afe"
      },
      "outputs": [
        {
          "data": {
            "application/javascript": [
              "\n",
              "            setTimeout(function() {\n",
              "                var nbb_cell_id = 7;\n",
              "                var nbb_unformatted_code = \"eliminar = [\\n    \\\"Nombre\\\",\\n    \\\"residencia\\\",\\n    \\\"fecha_nacimiento\\\",\\n    \\\"fecha_1er_visita\\\",\\n    \\\"FECHA_INICIO_ACTUAL_EPISODIO\\\",\\n    \\\"GESTA\\\",\\n    \\\"CAFe_TAZAS_DIA\\\",\\n    \\\"LACTANCIA\\\",\\n    \\\"DEPENDENCIA_SUSTANCIAS_ACTUAL\\\",\\n    \\\"EMBARAZO_ACTUAL_SEMANAS\\\",\\n    \\\"TENSION_PREMENSTRUAL\\\",\\n    \\\"ABUSO_SUSTANCIAS_ANTERIOR\\\",\\n    \\\"CGI-S.3\\\",\\n    \\\"HISTORIA_PSIQUIATRICA_FAMILIAR\\\",\\n    \\\"DEPENDENCIA_SUSTANCIAS_ANTERIOR\\\",\\n    \\\"RITMO\\\",\\n    \\\"DX_TERCIARIO\\\",\\n    \\\"ABUSO_SUSTANCIAS_ACTUAL\\\",\\n    \\\"OCUPACIoN_PACIENTE\\\",\\n    \\\"DX_SECUNDARIO\\\",\\n    \\\"EDAD_SUSPENSION\\\",\\n    \\\"CODIGO_DX.3\\\",\\n    \\\"AniOS_TABAQUSMO\\\",\\n    \\\"POSIBILIDAD_EMBARAZO\\\",\\n    \\\"CANTIDAD\\\",\\n    \\\"FRECUENCIA_alcohol\\\",\\n    \\\"CIGARROS_DIA\\\",\\n    \\\"CODIGO_DX.2\\\",\\n    \\\"CESAREA\\\",\\n    \\\"INICIO_TABACO\\\",\\n    \\\"METODO_ANTICONCEPTIVO\\\",\\n    \\\"num_EPISODIOS_PREVIOS\\\",\\n    \\\"PARA\\\",\\n    \\\"ABORTO\\\",\\n    \\\"GRADO_FAMILIAR\\\",\\n    \\\"CGI-S.2\\\",\\n    \\\"A4_MALESTAR_PROBLEMAS_RELACIONES_INTERPERSONALES\\\",\\n    \\\"CONDUCTA_SUICIDA_REMISION_TEMPRANA\\\",\\n    \\\"B4_VOCES_SUEniOS_INTENCION_SUICIDA\\\",\\n    \\\"B6_PENSO_MEDIO_SUICIDARSE\\\",\\n    \\\"B7_PENSO_LUGAR_SUICIDIO\\\",\\n    \\\"B9_PENSO_FINALIZAR_ALGO_ANTES_SUICIDIO\\\",\\n    \\\"B11_INTENSION_MORIR_EN_SUICIDIO\\\",\\n    \\\"B12_NECESIDAD_MORIR_ANTES_PLAN_SUICIDIO\\\",\\n    \\\"B13_DIFICULTAD_RESISTIR_IMPULSO_SUICIDIO\\\",\\n    \\\"B14_INTENTO_MORIR\\\",\\n    \\\"B14a_INICIO_ACCIONES_INTENTO_SUICIDIO\\\",\\n    \\\"B14b_INICIO_ACCIONES_INTENTO_SUICIDIO_SIN_LASTIMARSE\\\",\\n    \\\"B14c_INICIO_ACCIONES_INTENTO_SUICIDIO_LO_DETUVIERON\\\",\\n    \\\"B15_SE_LESIONO_SIN_SUICIDIO\\\",\\n    \\\"B16_INTENTO_SUICIDARSE\\\",\\n    \\\"B16a_COMENZO_INTENTO_SUICIDIO_SIN_FINANALIZAR\\\",\\n    \\\"B16b_COMENZO_INTENTO_SUICIDIO_LO_INTERRUMPIERON\\\",\\n    \\\"B16c_TERMINO_INTENTO_SUICIDIO\\\",\\n    \\\"B17_TIEMPO_DEDICADO_A_PENSAMIENTO_SUICIDA\\\",\\n    \\\"B19_POSIBILIDAD_SUICIDARSE_TRES_MESES_SIGUIENTES\\\",\\n    \\\"B_tot_SI_ALGUNA_PREGUNTA_B\\\",\\n    \\\"EPISODIO_MAYOR_total_vida\\\",\\n    \\\"SUICIDALIDAD_ACTUAL\\\",\\n    \\\"SUICIDALIDAD_INTENTO_total_vida\\\",\\n    \\\"B1b_INTENCION_DE_MORIR_EN_ACCIDENTE\\\",\\n    \\\"B5_PENSO_METODO_SUICIDARSE\\\",\\n    \\\"B8_PENSO_FECHA_SUICIDIO\\\",\\n    \\\"B10_INTENCION_SUICIDIO\\\",\\n    \\\"B18_INTENTO_SUICIDARSE\\\",\\n    \\\"B2_NECESIDAD_DE_ESTAR_MUERTO\\\",\\n    \\\"TRASTORNO_MAYOR_PASADO\\\",\\n    \\\"CODIGO_DX.1\\\",\\n    \\\"Puntaje_experto\\\",\\n    \\\"tiempo_alcohol\\\",\\n    \\\"A4_MALESTAR_PROBLEMAS_RELACIONES_INTERPERSONALES\\\",\\n    \\\"Tipo_droga\\\",\\n    \\\"Consumo_alcohol\\\",\\n    \\\"cafe_te_negro\\\",\\n    \\\"Consumo_drogas\\\",\\n    \\\"CGI-S.2\\\",\\n    \\\"TABAQUISMO\\\",\\n    \\\"Frecuencia_Fumar\\\",\\n    \\\"tiempo_droga\\\",\\n]\\n\\n# Eliminamos caracter\\u00edsticas que no necesitamos\\ndf = df.drop(eliminar, axis=1)\";\n",
              "                var nbb_formatted_code = \"eliminar = [\\n    \\\"Nombre\\\",\\n    \\\"residencia\\\",\\n    \\\"fecha_nacimiento\\\",\\n    \\\"fecha_1er_visita\\\",\\n    \\\"FECHA_INICIO_ACTUAL_EPISODIO\\\",\\n    \\\"GESTA\\\",\\n    \\\"CAFe_TAZAS_DIA\\\",\\n    \\\"LACTANCIA\\\",\\n    \\\"DEPENDENCIA_SUSTANCIAS_ACTUAL\\\",\\n    \\\"EMBARAZO_ACTUAL_SEMANAS\\\",\\n    \\\"TENSION_PREMENSTRUAL\\\",\\n    \\\"ABUSO_SUSTANCIAS_ANTERIOR\\\",\\n    \\\"CGI-S.3\\\",\\n    \\\"HISTORIA_PSIQUIATRICA_FAMILIAR\\\",\\n    \\\"DEPENDENCIA_SUSTANCIAS_ANTERIOR\\\",\\n    \\\"RITMO\\\",\\n    \\\"DX_TERCIARIO\\\",\\n    \\\"ABUSO_SUSTANCIAS_ACTUAL\\\",\\n    \\\"OCUPACIoN_PACIENTE\\\",\\n    \\\"DX_SECUNDARIO\\\",\\n    \\\"EDAD_SUSPENSION\\\",\\n    \\\"CODIGO_DX.3\\\",\\n    \\\"AniOS_TABAQUSMO\\\",\\n    \\\"POSIBILIDAD_EMBARAZO\\\",\\n    \\\"CANTIDAD\\\",\\n    \\\"FRECUENCIA_alcohol\\\",\\n    \\\"CIGARROS_DIA\\\",\\n    \\\"CODIGO_DX.2\\\",\\n    \\\"CESAREA\\\",\\n    \\\"INICIO_TABACO\\\",\\n    \\\"METODO_ANTICONCEPTIVO\\\",\\n    \\\"num_EPISODIOS_PREVIOS\\\",\\n    \\\"PARA\\\",\\n    \\\"ABORTO\\\",\\n    \\\"GRADO_FAMILIAR\\\",\\n    \\\"CGI-S.2\\\",\\n    \\\"A4_MALESTAR_PROBLEMAS_RELACIONES_INTERPERSONALES\\\",\\n    \\\"CONDUCTA_SUICIDA_REMISION_TEMPRANA\\\",\\n    \\\"B4_VOCES_SUEniOS_INTENCION_SUICIDA\\\",\\n    \\\"B6_PENSO_MEDIO_SUICIDARSE\\\",\\n    \\\"B7_PENSO_LUGAR_SUICIDIO\\\",\\n    \\\"B9_PENSO_FINALIZAR_ALGO_ANTES_SUICIDIO\\\",\\n    \\\"B11_INTENSION_MORIR_EN_SUICIDIO\\\",\\n    \\\"B12_NECESIDAD_MORIR_ANTES_PLAN_SUICIDIO\\\",\\n    \\\"B13_DIFICULTAD_RESISTIR_IMPULSO_SUICIDIO\\\",\\n    \\\"B14_INTENTO_MORIR\\\",\\n    \\\"B14a_INICIO_ACCIONES_INTENTO_SUICIDIO\\\",\\n    \\\"B14b_INICIO_ACCIONES_INTENTO_SUICIDIO_SIN_LASTIMARSE\\\",\\n    \\\"B14c_INICIO_ACCIONES_INTENTO_SUICIDIO_LO_DETUVIERON\\\",\\n    \\\"B15_SE_LESIONO_SIN_SUICIDIO\\\",\\n    \\\"B16_INTENTO_SUICIDARSE\\\",\\n    \\\"B16a_COMENZO_INTENTO_SUICIDIO_SIN_FINANALIZAR\\\",\\n    \\\"B16b_COMENZO_INTENTO_SUICIDIO_LO_INTERRUMPIERON\\\",\\n    \\\"B16c_TERMINO_INTENTO_SUICIDIO\\\",\\n    \\\"B17_TIEMPO_DEDICADO_A_PENSAMIENTO_SUICIDA\\\",\\n    \\\"B19_POSIBILIDAD_SUICIDARSE_TRES_MESES_SIGUIENTES\\\",\\n    \\\"B_tot_SI_ALGUNA_PREGUNTA_B\\\",\\n    \\\"EPISODIO_MAYOR_total_vida\\\",\\n    \\\"SUICIDALIDAD_ACTUAL\\\",\\n    \\\"SUICIDALIDAD_INTENTO_total_vida\\\",\\n    \\\"B1b_INTENCION_DE_MORIR_EN_ACCIDENTE\\\",\\n    \\\"B5_PENSO_METODO_SUICIDARSE\\\",\\n    \\\"B8_PENSO_FECHA_SUICIDIO\\\",\\n    \\\"B10_INTENCION_SUICIDIO\\\",\\n    \\\"B18_INTENTO_SUICIDARSE\\\",\\n    \\\"B2_NECESIDAD_DE_ESTAR_MUERTO\\\",\\n    \\\"TRASTORNO_MAYOR_PASADO\\\",\\n    \\\"CODIGO_DX.1\\\",\\n    \\\"Puntaje_experto\\\",\\n    \\\"tiempo_alcohol\\\",\\n    \\\"A4_MALESTAR_PROBLEMAS_RELACIONES_INTERPERSONALES\\\",\\n    \\\"Tipo_droga\\\",\\n    \\\"Consumo_alcohol\\\",\\n    \\\"cafe_te_negro\\\",\\n    \\\"Consumo_drogas\\\",\\n    \\\"CGI-S.2\\\",\\n    \\\"TABAQUISMO\\\",\\n    \\\"Frecuencia_Fumar\\\",\\n    \\\"tiempo_droga\\\",\\n]\\n\\n# Eliminamos caracter\\u00edsticas que no necesitamos\\ndf = df.drop(eliminar, axis=1)\";\n",
              "                var nbb_cells = Jupyter.notebook.get_cells();\n",
              "                for (var i = 0; i < nbb_cells.length; ++i) {\n",
              "                    if (nbb_cells[i].input_prompt_number == nbb_cell_id) {\n",
              "                        if (nbb_cells[i].get_text() == nbb_unformatted_code) {\n",
              "                             nbb_cells[i].set_text(nbb_formatted_code);\n",
              "                        }\n",
              "                        break;\n",
              "                    }\n",
              "                }\n",
              "            }, 500);\n",
              "            "
            ],
            "text/plain": [
              "<IPython.core.display.Javascript object>"
            ]
          },
          "metadata": {},
          "output_type": "display_data"
        }
      ],
      "source": [
        "eliminar = [\n",
        "    \"Nombre\",\n",
        "    \"residencia\",\n",
        "    \"fecha_nacimiento\",\n",
        "    \"fecha_1er_visita\",\n",
        "    \"FECHA_INICIO_ACTUAL_EPISODIO\",\n",
        "    \"GESTA\",\n",
        "    \"CAFe_TAZAS_DIA\",\n",
        "    \"LACTANCIA\",\n",
        "    \"DEPENDENCIA_SUSTANCIAS_ACTUAL\",\n",
        "    \"EMBARAZO_ACTUAL_SEMANAS\",\n",
        "    \"TENSION_PREMENSTRUAL\",\n",
        "    \"ABUSO_SUSTANCIAS_ANTERIOR\",\n",
        "    \"CGI-S.3\",\n",
        "    \"HISTORIA_PSIQUIATRICA_FAMILIAR\",\n",
        "    \"DEPENDENCIA_SUSTANCIAS_ANTERIOR\",\n",
        "    \"RITMO\",\n",
        "    \"DX_TERCIARIO\",\n",
        "    \"ABUSO_SUSTANCIAS_ACTUAL\",\n",
        "    \"OCUPACIoN_PACIENTE\",\n",
        "    \"DX_SECUNDARIO\",\n",
        "    \"EDAD_SUSPENSION\",\n",
        "    \"CODIGO_DX.3\",\n",
        "    \"AniOS_TABAQUSMO\",\n",
        "    \"POSIBILIDAD_EMBARAZO\",\n",
        "    \"CANTIDAD\",\n",
        "    \"FRECUENCIA_alcohol\",\n",
        "    \"CIGARROS_DIA\",\n",
        "    \"CODIGO_DX.2\",\n",
        "    \"CESAREA\",\n",
        "    \"INICIO_TABACO\",\n",
        "    \"METODO_ANTICONCEPTIVO\",\n",
        "    \"num_EPISODIOS_PREVIOS\",\n",
        "    \"PARA\",\n",
        "    \"ABORTO\",\n",
        "    \"GRADO_FAMILIAR\",\n",
        "    \"CGI-S.2\",\n",
        "    \"A4_MALESTAR_PROBLEMAS_RELACIONES_INTERPERSONALES\",\n",
        "    \"CONDUCTA_SUICIDA_REMISION_TEMPRANA\",\n",
        "    \"B4_VOCES_SUEniOS_INTENCION_SUICIDA\",\n",
        "    \"B6_PENSO_MEDIO_SUICIDARSE\",\n",
        "    \"B7_PENSO_LUGAR_SUICIDIO\",\n",
        "    \"B9_PENSO_FINALIZAR_ALGO_ANTES_SUICIDIO\",\n",
        "    \"B11_INTENSION_MORIR_EN_SUICIDIO\",\n",
        "    \"B12_NECESIDAD_MORIR_ANTES_PLAN_SUICIDIO\",\n",
        "    \"B13_DIFICULTAD_RESISTIR_IMPULSO_SUICIDIO\",\n",
        "    \"B14_INTENTO_MORIR\",\n",
        "    \"B14a_INICIO_ACCIONES_INTENTO_SUICIDIO\",\n",
        "    \"B14b_INICIO_ACCIONES_INTENTO_SUICIDIO_SIN_LASTIMARSE\",\n",
        "    \"B14c_INICIO_ACCIONES_INTENTO_SUICIDIO_LO_DETUVIERON\",\n",
        "    \"B15_SE_LESIONO_SIN_SUICIDIO\",\n",
        "    \"B16_INTENTO_SUICIDARSE\",\n",
        "    \"B16a_COMENZO_INTENTO_SUICIDIO_SIN_FINANALIZAR\",\n",
        "    \"B16b_COMENZO_INTENTO_SUICIDIO_LO_INTERRUMPIERON\",\n",
        "    \"B16c_TERMINO_INTENTO_SUICIDIO\",\n",
        "    \"B17_TIEMPO_DEDICADO_A_PENSAMIENTO_SUICIDA\",\n",
        "    \"B19_POSIBILIDAD_SUICIDARSE_TRES_MESES_SIGUIENTES\",\n",
        "    \"B_tot_SI_ALGUNA_PREGUNTA_B\",\n",
        "    \"EPISODIO_MAYOR_total_vida\",\n",
        "    \"SUICIDALIDAD_ACTUAL\",\n",
        "    \"SUICIDALIDAD_INTENTO_total_vida\",\n",
        "    \"B1b_INTENCION_DE_MORIR_EN_ACCIDENTE\",\n",
        "    \"B5_PENSO_METODO_SUICIDARSE\",\n",
        "    \"B8_PENSO_FECHA_SUICIDIO\",\n",
        "    \"B10_INTENCION_SUICIDIO\",\n",
        "    \"B18_INTENTO_SUICIDARSE\",\n",
        "    \"B2_NECESIDAD_DE_ESTAR_MUERTO\",\n",
        "    \"TRASTORNO_MAYOR_PASADO\",\n",
        "    \"CODIGO_DX.1\",\n",
        "    \"Puntaje_experto\",\n",
        "    \"tiempo_alcohol\",\n",
        "    \"A4_MALESTAR_PROBLEMAS_RELACIONES_INTERPERSONALES\",\n",
        "    \"Tipo_droga\",\n",
        "    \"Consumo_alcohol\",\n",
        "    \"cafe_te_negro\",\n",
        "    \"Consumo_drogas\",\n",
        "    \"CGI-S.2\",\n",
        "    \"TABAQUISMO\",\n",
        "    \"Frecuencia_Fumar\",\n",
        "    \"tiempo_droga\",\n",
        "]\n",
        "\n",
        "# Eliminamos características que no necesitamos\n",
        "df = df.drop(eliminar, axis=1)"
      ]
    },
    {
      "cell_type": "code",
      "execution_count": null,
      "id": "04a64821",
      "metadata": {
        "id": "04a64821",
        "outputId": "d24a8d48-64db-4b09-c59a-764f32eca831"
      },
      "outputs": [
        {
          "data": {
            "application/javascript": [
              "\n",
              "            setTimeout(function() {\n",
              "                var nbb_cell_id = 8;\n",
              "                var nbb_unformatted_code = \"# Listas de columnas\\nbooleanas = [\\n    \\\"A1_DEPRIMIDO_DOS_SEMANAS\\\",\\n    \\\"A2_MENOS_INTERES_DOS_SEMANAS\\\",\\n    \\\"A3a_CAMBIO_PESO_UN_MES\\\",\\n    \\\"A3b_DIFICULTADES_DORMIR\\\",\\n    \\\"A3c_HABLA_MAS_LENTA\\\",\\n    \\\"A3d_MAS_CANSANCIO\\\",\\n    \\\"A3e_SINTO_INUTIL_CULPABLE\\\",\\n    \\\"A3f_DIFICULTAD_CONCENTRACION\\\",\\n    \\\"A3g_PENSAMIENTO_INTENCION_SUICIDIO\\\",\\n    \\\"A5_INTERVALO_DE_MIN_DOS_MESES_SIN_DEPRESION\\\",\\n    \\\"EPISODIO_DEPRESIVO_MAYOR_ACTUAL\\\",\\n    \\\"EPISODIO_DEPRESIVO_MAYOR_PASADO\\\",\\n    \\\"EPISODIO_DEPRESIVO_MAYOR_RECURRENTE\\\",\\n    \\\"TRASTORNO_MAYOR_ACTUAL\\\",\\n    \\\"TRASTORNO_MAYOR_RECURRENTE\\\",\\n    \\\"CONDUCTA_SUICIDA_ACTUAL\\\",\\n    \\\"B1_ACCIDENTE\\\",\\n    \\\"B1a_INTENCION_DE_LASTIMARSE_EN_ACCIDENTE\\\",\\n    \\\"B3_PENSO_EN_SUICIDIO\\\",\\n]\\n\\ncategoricas = [\\n    \\\"SEXO\\\",\\n    \\\"CONDICION_ACTUAL\\\",\\n    \\\"ESTADO_civil\\\",\\n    \\\"RELIGION\\\",\\n    \\\"PROVEEDOR_FAMILIAR\\\",\\n    \\\"OCUPACIoN_JEFE_FAMILIA\\\",\\n    \\\"ESCOLARIDAD__JEFE_FAMILIA\\\",\\n    \\\"ESCOLARIDAD_MAXIMA_PX\\\",\\n    \\\"DX_PRIMARIO\\\",\\n    \\\"TRASTORNO_MAYOR_DIAGNOSTICO\\\",\\n    \\\"Riesgo_suicidio\\\",\\n]\\n\\n# Actualizamos el tipo de las columnas categoricas usando astype()\\nfor column in booleanas:\\n    df[column] = df[column].astype(bool)\\n\\nfor column in categoricas:\\n    df[column] = df[column].astype(\\\"category\\\")\\n\\n# Actualizamos el tipo de la columna MENARCA a uno num\\u00e9rico usando astype()\\ndf[\\\"MENARCA\\\"] = df[\\\"MENARCA\\\"].astype(\\\"float64\\\")\";\n",
              "                var nbb_formatted_code = \"# Listas de columnas\\nbooleanas = [\\n    \\\"A1_DEPRIMIDO_DOS_SEMANAS\\\",\\n    \\\"A2_MENOS_INTERES_DOS_SEMANAS\\\",\\n    \\\"A3a_CAMBIO_PESO_UN_MES\\\",\\n    \\\"A3b_DIFICULTADES_DORMIR\\\",\\n    \\\"A3c_HABLA_MAS_LENTA\\\",\\n    \\\"A3d_MAS_CANSANCIO\\\",\\n    \\\"A3e_SINTO_INUTIL_CULPABLE\\\",\\n    \\\"A3f_DIFICULTAD_CONCENTRACION\\\",\\n    \\\"A3g_PENSAMIENTO_INTENCION_SUICIDIO\\\",\\n    \\\"A5_INTERVALO_DE_MIN_DOS_MESES_SIN_DEPRESION\\\",\\n    \\\"EPISODIO_DEPRESIVO_MAYOR_ACTUAL\\\",\\n    \\\"EPISODIO_DEPRESIVO_MAYOR_PASADO\\\",\\n    \\\"EPISODIO_DEPRESIVO_MAYOR_RECURRENTE\\\",\\n    \\\"TRASTORNO_MAYOR_ACTUAL\\\",\\n    \\\"TRASTORNO_MAYOR_RECURRENTE\\\",\\n    \\\"CONDUCTA_SUICIDA_ACTUAL\\\",\\n    \\\"B1_ACCIDENTE\\\",\\n    \\\"B1a_INTENCION_DE_LASTIMARSE_EN_ACCIDENTE\\\",\\n    \\\"B3_PENSO_EN_SUICIDIO\\\",\\n]\\n\\ncategoricas = [\\n    \\\"SEXO\\\",\\n    \\\"CONDICION_ACTUAL\\\",\\n    \\\"ESTADO_civil\\\",\\n    \\\"RELIGION\\\",\\n    \\\"PROVEEDOR_FAMILIAR\\\",\\n    \\\"OCUPACIoN_JEFE_FAMILIA\\\",\\n    \\\"ESCOLARIDAD__JEFE_FAMILIA\\\",\\n    \\\"ESCOLARIDAD_MAXIMA_PX\\\",\\n    \\\"DX_PRIMARIO\\\",\\n    \\\"TRASTORNO_MAYOR_DIAGNOSTICO\\\",\\n    \\\"Riesgo_suicidio\\\",\\n]\\n\\n# Actualizamos el tipo de las columnas categoricas usando astype()\\nfor column in booleanas:\\n    df[column] = df[column].astype(bool)\\n\\nfor column in categoricas:\\n    df[column] = df[column].astype(\\\"category\\\")\\n\\n# Actualizamos el tipo de la columna MENARCA a uno num\\u00e9rico usando astype()\\ndf[\\\"MENARCA\\\"] = df[\\\"MENARCA\\\"].astype(\\\"float64\\\")\";\n",
              "                var nbb_cells = Jupyter.notebook.get_cells();\n",
              "                for (var i = 0; i < nbb_cells.length; ++i) {\n",
              "                    if (nbb_cells[i].input_prompt_number == nbb_cell_id) {\n",
              "                        if (nbb_cells[i].get_text() == nbb_unformatted_code) {\n",
              "                             nbb_cells[i].set_text(nbb_formatted_code);\n",
              "                        }\n",
              "                        break;\n",
              "                    }\n",
              "                }\n",
              "            }, 500);\n",
              "            "
            ],
            "text/plain": [
              "<IPython.core.display.Javascript object>"
            ]
          },
          "metadata": {},
          "output_type": "display_data"
        }
      ],
      "source": [
        "# Listas de columnas\n",
        "booleanas = [\n",
        "    \"A1_DEPRIMIDO_DOS_SEMANAS\",\n",
        "    \"A2_MENOS_INTERES_DOS_SEMANAS\",\n",
        "    \"A3a_CAMBIO_PESO_UN_MES\",\n",
        "    \"A3b_DIFICULTADES_DORMIR\",\n",
        "    \"A3c_HABLA_MAS_LENTA\",\n",
        "    \"A3d_MAS_CANSANCIO\",\n",
        "    \"A3e_SINTO_INUTIL_CULPABLE\",\n",
        "    \"A3f_DIFICULTAD_CONCENTRACION\",\n",
        "    \"A3g_PENSAMIENTO_INTENCION_SUICIDIO\",\n",
        "    \"A5_INTERVALO_DE_MIN_DOS_MESES_SIN_DEPRESION\",\n",
        "    \"EPISODIO_DEPRESIVO_MAYOR_ACTUAL\",\n",
        "    \"EPISODIO_DEPRESIVO_MAYOR_PASADO\",\n",
        "    \"EPISODIO_DEPRESIVO_MAYOR_RECURRENTE\",\n",
        "    \"TRASTORNO_MAYOR_ACTUAL\",\n",
        "    \"TRASTORNO_MAYOR_RECURRENTE\",\n",
        "    \"CONDUCTA_SUICIDA_ACTUAL\",\n",
        "    \"B1_ACCIDENTE\",\n",
        "    \"B1a_INTENCION_DE_LASTIMARSE_EN_ACCIDENTE\",\n",
        "    \"B3_PENSO_EN_SUICIDIO\",\n",
        "]\n",
        "\n",
        "categoricas = [\n",
        "    \"SEXO\",\n",
        "    \"CONDICION_ACTUAL\",\n",
        "    \"ESTADO_civil\",\n",
        "    \"RELIGION\",\n",
        "    \"PROVEEDOR_FAMILIAR\",\n",
        "    \"OCUPACIoN_JEFE_FAMILIA\",\n",
        "    \"ESCOLARIDAD__JEFE_FAMILIA\",\n",
        "    \"ESCOLARIDAD_MAXIMA_PX\",\n",
        "    \"DX_PRIMARIO\",\n",
        "    \"TRASTORNO_MAYOR_DIAGNOSTICO\",\n",
        "    \"Riesgo_suicidio\",\n",
        "]\n",
        "\n",
        "# Actualizamos el tipo de las columnas categoricas usando astype()\n",
        "for column in booleanas:\n",
        "    df[column] = df[column].astype(bool)\n",
        "\n",
        "for column in categoricas:\n",
        "    df[column] = df[column].astype(\"category\")\n",
        "\n",
        "# Actualizamos el tipo de la columna MENARCA a uno numérico usando astype()\n",
        "df[\"MENARCA\"] = df[\"MENARCA\"].astype(\"float64\")"
      ]
    },
    {
      "cell_type": "code",
      "execution_count": null,
      "id": "NTUrQhJ0yUqB",
      "metadata": {
        "id": "NTUrQhJ0yUqB",
        "outputId": "a62b8abd-48a2-4df1-fcc3-bbfd1be3c8d4"
      },
      "outputs": [
        {
          "data": {
            "application/javascript": [
              "\n",
              "            setTimeout(function() {\n",
              "                var nbb_cell_id = 9;\n",
              "                var nbb_unformatted_code = \"# Sustituir los valores de MENARCA donde SEXO es \\\"M\\\"\\ndf.loc[df[\\\"SEXO\\\"] == \\\"M\\\", \\\"MENARCA\\\"] = -1\\n\\n# Imputar la moda a las variables num\\u00e9ricas\\nfor columna in df.select_dtypes(include=\\\"number\\\").columns:\\n    df[columna] = df[columna].fillna(df[columna].median())\\n\\n# Imputar la moda a las variables booleanas\\nfor columna in df.select_dtypes(include=\\\"bool\\\").columns:\\n    moda = df[columna].mode()[0]  # Calcular la moda\\n    df[columna] = df[columna].fillna(moda)\\n\\n# Imputar la moda a las variables alfanum\\u00e9ricas\\nfor columna in df.select_dtypes(include=\\\"category\\\").columns:\\n    moda = df[columna].mode()[0]  # Calcular la moda\\n    df[columna] = df[columna].fillna(moda)\";\n",
              "                var nbb_formatted_code = \"# Sustituir los valores de MENARCA donde SEXO es \\\"M\\\"\\ndf.loc[df[\\\"SEXO\\\"] == \\\"M\\\", \\\"MENARCA\\\"] = -1\\n\\n# Imputar la moda a las variables num\\u00e9ricas\\nfor columna in df.select_dtypes(include=\\\"number\\\").columns:\\n    df[columna] = df[columna].fillna(df[columna].median())\\n\\n# Imputar la moda a las variables booleanas\\nfor columna in df.select_dtypes(include=\\\"bool\\\").columns:\\n    moda = df[columna].mode()[0]  # Calcular la moda\\n    df[columna] = df[columna].fillna(moda)\\n\\n# Imputar la moda a las variables alfanum\\u00e9ricas\\nfor columna in df.select_dtypes(include=\\\"category\\\").columns:\\n    moda = df[columna].mode()[0]  # Calcular la moda\\n    df[columna] = df[columna].fillna(moda)\";\n",
              "                var nbb_cells = Jupyter.notebook.get_cells();\n",
              "                for (var i = 0; i < nbb_cells.length; ++i) {\n",
              "                    if (nbb_cells[i].input_prompt_number == nbb_cell_id) {\n",
              "                        if (nbb_cells[i].get_text() == nbb_unformatted_code) {\n",
              "                             nbb_cells[i].set_text(nbb_formatted_code);\n",
              "                        }\n",
              "                        break;\n",
              "                    }\n",
              "                }\n",
              "            }, 500);\n",
              "            "
            ],
            "text/plain": [
              "<IPython.core.display.Javascript object>"
            ]
          },
          "metadata": {},
          "output_type": "display_data"
        }
      ],
      "source": [
        "# Sustituir los valores de MENARCA donde SEXO es \"M\"\n",
        "df.loc[df[\"SEXO\"] == \"M\", \"MENARCA\"] = -1\n",
        "\n",
        "# Imputar la moda a las variables numéricas\n",
        "for columna in df.select_dtypes(include=\"number\").columns:\n",
        "    df[columna] = df[columna].fillna(df[columna].median())\n",
        "\n",
        "# Imputar la moda a las variables booleanas\n",
        "for columna in df.select_dtypes(include=\"bool\").columns:\n",
        "    moda = df[columna].mode()[0]  # Calcular la moda\n",
        "    df[columna] = df[columna].fillna(moda)\n",
        "\n",
        "# Imputar la moda a las variables alfanuméricas\n",
        "for columna in df.select_dtypes(include=\"category\").columns:\n",
        "    moda = df[columna].mode()[0]  # Calcular la moda\n",
        "    df[columna] = df[columna].fillna(moda)"
      ]
    },
    {
      "cell_type": "code",
      "execution_count": null,
      "id": "i-Z1k2A5_HMW",
      "metadata": {
        "id": "i-Z1k2A5_HMW",
        "outputId": "137a75db-5a71-4a70-c19d-7789bd9596fa"
      },
      "outputs": [
        {
          "data": {
            "application/javascript": [
              "\n",
              "            setTimeout(function() {\n",
              "                var nbb_cell_id = 10;\n",
              "                var nbb_unformatted_code = \"# Lista de variables que son en realidad enteros\\nenteros_cols = [\\n    \\\"EDAD_1era_visita\\\",\\n    \\\"EDAD_INICIO_1er_EPISODIO\\\",\\n    \\\"AnioS_ESTUDIO_PACIENTE\\\",\\n    \\\"MENARCA\\\",\\n    \\\"INICIO_VIDA_SEXUAL_ACTIVA\\\",\\n    \\\"MADRS_TOTAL\\\",\\n    \\\"CGI-S.1\\\",\\n]\\n\\n# Actualizamos el tipo de las columnas de enteros usando astype()\\nfor column in enteros_cols:\\n    df[column] = df[column].astype(\\\"int64\\\")\";\n",
              "                var nbb_formatted_code = \"# Lista de variables que son en realidad enteros\\nenteros_cols = [\\n    \\\"EDAD_1era_visita\\\",\\n    \\\"EDAD_INICIO_1er_EPISODIO\\\",\\n    \\\"AnioS_ESTUDIO_PACIENTE\\\",\\n    \\\"MENARCA\\\",\\n    \\\"INICIO_VIDA_SEXUAL_ACTIVA\\\",\\n    \\\"MADRS_TOTAL\\\",\\n    \\\"CGI-S.1\\\",\\n]\\n\\n# Actualizamos el tipo de las columnas de enteros usando astype()\\nfor column in enteros_cols:\\n    df[column] = df[column].astype(\\\"int64\\\")\";\n",
              "                var nbb_cells = Jupyter.notebook.get_cells();\n",
              "                for (var i = 0; i < nbb_cells.length; ++i) {\n",
              "                    if (nbb_cells[i].input_prompt_number == nbb_cell_id) {\n",
              "                        if (nbb_cells[i].get_text() == nbb_unformatted_code) {\n",
              "                             nbb_cells[i].set_text(nbb_formatted_code);\n",
              "                        }\n",
              "                        break;\n",
              "                    }\n",
              "                }\n",
              "            }, 500);\n",
              "            "
            ],
            "text/plain": [
              "<IPython.core.display.Javascript object>"
            ]
          },
          "metadata": {},
          "output_type": "display_data"
        }
      ],
      "source": [
        "# Lista de variables que son en realidad enteros\n",
        "enteros_cols = [\n",
        "    \"EDAD_1era_visita\",\n",
        "    \"EDAD_INICIO_1er_EPISODIO\",\n",
        "    \"AnioS_ESTUDIO_PACIENTE\",\n",
        "    \"MENARCA\",\n",
        "    \"INICIO_VIDA_SEXUAL_ACTIVA\",\n",
        "    \"MADRS_TOTAL\",\n",
        "    \"CGI-S.1\",\n",
        "]\n",
        "\n",
        "# Actualizamos el tipo de las columnas de enteros usando astype()\n",
        "for column in enteros_cols:\n",
        "    df[column] = df[column].astype(\"int64\")"
      ]
    },
    {
      "cell_type": "code",
      "execution_count": null,
      "id": "XNERi1gd5zCE",
      "metadata": {
        "id": "XNERi1gd5zCE",
        "outputId": "3ebcdb3d-1e85-4231-f111-b049009631f6"
      },
      "outputs": [
        {
          "data": {
            "application/javascript": [
              "\n",
              "            setTimeout(function() {\n",
              "                var nbb_cell_id = 11;\n",
              "                var nbb_unformatted_code = \"# Reemplazar el valor 1955 por la mediana\\ndf[\\\"EDAD_INICIO_1er_EPISODIO\\\"] = df[\\\"EDAD_INICIO_1er_EPISODIO\\\"].replace(\\n    1955, df[\\\"EDAD_INICIO_1er_EPISODIO\\\"].median()\\n)\\n\\n# Reemplazar el valor 1 por la mediana\\ndf[\\\"INICIO_VIDA_SEXUAL_ACTIVA\\\"] = df[\\\"INICIO_VIDA_SEXUAL_ACTIVA\\\"].replace(\\n    1, df[\\\"INICIO_VIDA_SEXUAL_ACTIVA\\\"].median()\\n)\";\n",
              "                var nbb_formatted_code = \"# Reemplazar el valor 1955 por la mediana\\ndf[\\\"EDAD_INICIO_1er_EPISODIO\\\"] = df[\\\"EDAD_INICIO_1er_EPISODIO\\\"].replace(\\n    1955, df[\\\"EDAD_INICIO_1er_EPISODIO\\\"].median()\\n)\\n\\n# Reemplazar el valor 1 por la mediana\\ndf[\\\"INICIO_VIDA_SEXUAL_ACTIVA\\\"] = df[\\\"INICIO_VIDA_SEXUAL_ACTIVA\\\"].replace(\\n    1, df[\\\"INICIO_VIDA_SEXUAL_ACTIVA\\\"].median()\\n)\";\n",
              "                var nbb_cells = Jupyter.notebook.get_cells();\n",
              "                for (var i = 0; i < nbb_cells.length; ++i) {\n",
              "                    if (nbb_cells[i].input_prompt_number == nbb_cell_id) {\n",
              "                        if (nbb_cells[i].get_text() == nbb_unformatted_code) {\n",
              "                             nbb_cells[i].set_text(nbb_formatted_code);\n",
              "                        }\n",
              "                        break;\n",
              "                    }\n",
              "                }\n",
              "            }, 500);\n",
              "            "
            ],
            "text/plain": [
              "<IPython.core.display.Javascript object>"
            ]
          },
          "metadata": {},
          "output_type": "display_data"
        }
      ],
      "source": [
        "# Reemplazar el valor 1955 por la mediana\n",
        "df[\"EDAD_INICIO_1er_EPISODIO\"] = df[\"EDAD_INICIO_1er_EPISODIO\"].replace(\n",
        "    1955, df[\"EDAD_INICIO_1er_EPISODIO\"].median()\n",
        ")\n",
        "\n",
        "# Reemplazar el valor 1 por la mediana\n",
        "df[\"INICIO_VIDA_SEXUAL_ACTIVA\"] = df[\"INICIO_VIDA_SEXUAL_ACTIVA\"].replace(\n",
        "    1, df[\"INICIO_VIDA_SEXUAL_ACTIVA\"].median()\n",
        ")"
      ]
    },
    {
      "cell_type": "code",
      "execution_count": null,
      "id": "qQUCHi2g0zJm",
      "metadata": {
        "id": "qQUCHi2g0zJm",
        "outputId": "ea256dea-8183-4c17-85e4-ddd0613c8574"
      },
      "outputs": [
        {
          "data": {
            "application/javascript": [
              "\n",
              "            setTimeout(function() {\n",
              "                var nbb_cell_id = 12;\n",
              "                var nbb_unformatted_code = \"# Transformamos las variables usando Winsonorizaci\\u00f3n\\ndf[\\\"INICIO_VIDA_SEXUAL_ACTIVA_W\\\"] = winsorize(\\n    df[\\\"INICIO_VIDA_SEXUAL_ACTIVA\\\"], limits=(0.05, 0.05)\\n)\\ndf[\\\"DURACION_EPISODIO_MAYOR_ACTUAL_W\\\"] = winsorize(\\n    df[\\\"DURACION_EPISODIO_MAYOR_ACTUAL\\\"], limits=(0.05, 0.05)\\n)\\n\\n# Eliminamos estas caracter\\u00edsticas originales\\ndf = df.drop([\\\"INICIO_VIDA_SEXUAL_ACTIVA\\\", \\\"DURACION_EPISODIO_MAYOR_ACTUAL\\\"], axis=1)\";\n",
              "                var nbb_formatted_code = \"# Transformamos las variables usando Winsonorizaci\\u00f3n\\ndf[\\\"INICIO_VIDA_SEXUAL_ACTIVA_W\\\"] = winsorize(\\n    df[\\\"INICIO_VIDA_SEXUAL_ACTIVA\\\"], limits=(0.05, 0.05)\\n)\\ndf[\\\"DURACION_EPISODIO_MAYOR_ACTUAL_W\\\"] = winsorize(\\n    df[\\\"DURACION_EPISODIO_MAYOR_ACTUAL\\\"], limits=(0.05, 0.05)\\n)\\n\\n# Eliminamos estas caracter\\u00edsticas originales\\ndf = df.drop([\\\"INICIO_VIDA_SEXUAL_ACTIVA\\\", \\\"DURACION_EPISODIO_MAYOR_ACTUAL\\\"], axis=1)\";\n",
              "                var nbb_cells = Jupyter.notebook.get_cells();\n",
              "                for (var i = 0; i < nbb_cells.length; ++i) {\n",
              "                    if (nbb_cells[i].input_prompt_number == nbb_cell_id) {\n",
              "                        if (nbb_cells[i].get_text() == nbb_unformatted_code) {\n",
              "                             nbb_cells[i].set_text(nbb_formatted_code);\n",
              "                        }\n",
              "                        break;\n",
              "                    }\n",
              "                }\n",
              "            }, 500);\n",
              "            "
            ],
            "text/plain": [
              "<IPython.core.display.Javascript object>"
            ]
          },
          "metadata": {},
          "output_type": "display_data"
        }
      ],
      "source": [
        "# Transformamos las variables usando Winsonorización\n",
        "df[\"INICIO_VIDA_SEXUAL_ACTIVA_W\"] = winsorize(\n",
        "    df[\"INICIO_VIDA_SEXUAL_ACTIVA\"], limits=(0.05, 0.05)\n",
        ")\n",
        "df[\"DURACION_EPISODIO_MAYOR_ACTUAL_W\"] = winsorize(\n",
        "    df[\"DURACION_EPISODIO_MAYOR_ACTUAL\"], limits=(0.05, 0.05)\n",
        ")\n",
        "\n",
        "# Eliminamos estas características originales\n",
        "df = df.drop([\"INICIO_VIDA_SEXUAL_ACTIVA\", \"DURACION_EPISODIO_MAYOR_ACTUAL\"], axis=1)"
      ]
    },
    {
      "cell_type": "code",
      "execution_count": null,
      "id": "U7psvMyVncZ8",
      "metadata": {
        "id": "U7psvMyVncZ8",
        "outputId": "8bdb7be8-1309-401c-9559-46d9a5d71e57"
      },
      "outputs": [
        {
          "data": {
            "application/javascript": [
              "\n",
              "            setTimeout(function() {\n",
              "                var nbb_cell_id = 13;\n",
              "                var nbb_unformatted_code = \"# Hacemos listas de las variables ordinales\\ncat_orginales = [\\n    \\\"ESCOLARIDAD__JEFE_FAMILIA\\\",\\n    \\\"ESCOLARIDAD_MAXIMA_PX\\\",\\n    \\\"DX_PRIMARIO\\\",\\n    \\\"TRASTORNO_MAYOR_DIAGNOSTICO\\\",\\n    \\\"Riesgo_suicidio\\\",\\n    \\\"Sintomas_ansiosos\\\",\\n]\";\n",
              "                var nbb_formatted_code = \"# Hacemos listas de las variables ordinales\\ncat_orginales = [\\n    \\\"ESCOLARIDAD__JEFE_FAMILIA\\\",\\n    \\\"ESCOLARIDAD_MAXIMA_PX\\\",\\n    \\\"DX_PRIMARIO\\\",\\n    \\\"TRASTORNO_MAYOR_DIAGNOSTICO\\\",\\n    \\\"Riesgo_suicidio\\\",\\n    \\\"Sintomas_ansiosos\\\",\\n]\";\n",
              "                var nbb_cells = Jupyter.notebook.get_cells();\n",
              "                for (var i = 0; i < nbb_cells.length; ++i) {\n",
              "                    if (nbb_cells[i].input_prompt_number == nbb_cell_id) {\n",
              "                        if (nbb_cells[i].get_text() == nbb_unformatted_code) {\n",
              "                             nbb_cells[i].set_text(nbb_formatted_code);\n",
              "                        }\n",
              "                        break;\n",
              "                    }\n",
              "                }\n",
              "            }, 500);\n",
              "            "
            ],
            "text/plain": [
              "<IPython.core.display.Javascript object>"
            ]
          },
          "metadata": {},
          "output_type": "display_data"
        }
      ],
      "source": [
        "# Hacemos listas de las variables ordinales\n",
        "cat_orginales = [\n",
        "    \"ESCOLARIDAD__JEFE_FAMILIA\",\n",
        "    \"ESCOLARIDAD_MAXIMA_PX\",\n",
        "    \"DX_PRIMARIO\",\n",
        "    \"TRASTORNO_MAYOR_DIAGNOSTICO\",\n",
        "    \"Riesgo_suicidio\",\n",
        "    \"Sintomas_ansiosos\",\n",
        "]"
      ]
    },
    {
      "cell_type": "code",
      "execution_count": null,
      "id": "fF7ve2zfCYHG",
      "metadata": {
        "id": "fF7ve2zfCYHG",
        "outputId": "724b1d5a-9815-4e82-9e24-4f7670dd28e1"
      },
      "outputs": [
        {
          "data": {
            "application/javascript": [
              "\n",
              "            setTimeout(function() {\n",
              "                var nbb_cell_id = 14;\n",
              "                var nbb_unformatted_code = \"# Crear el encoder ordinal\\nencoder_1 = OrdinalEncoder(\\n    categories=[\\n        [\\n            \\\"Menos de 6 a\\u00f1os\\\",\\n            \\\"Primaria\\\",\\n            \\\"Secundaria\\\",\\n            \\\"Preparatoria\\\",\\n            \\\"Estudios universitarios no terminados\\\",\\n            \\\"Licenciatura\\\",\\n            \\\"Posgrado\\\",\\n        ]\\n    ],\\n    dtype=int,\\n)\\nencoder_2 = OrdinalEncoder(\\n    categories=[\\n        [\\n            \\\"Distimia\\\",\\n            \\\"Trastorno depresivo episodio \\u00fanico \\\",\\n            \\\"Trastorno depresivo mayor recidivante\\\",\\n        ]\\n    ],\\n    dtype=int,\\n)\\nencoder_3 = OrdinalEncoder(\\n    categories=[\\n        [\\n            \\\"0\\\",\\n            \\\"TRASTORNO DEPRESIVO MAYOR\\\",\\n            \\\"TRASTORNO DEPRESIVO MAYOR EPISODIO UNICO O PRIMER EPISODIO\\\",\\n            \\\"TRASTORNO DEPRESIVO MAYOR RECURRENTE O RECIDIVANTE\\\",\\n            \\\"TRASTORNO DEPRESIVO MAYOR RECURRENTE RESISTENTE O SEVERO\\\",\\n        ]\\n    ],\\n    dtype=int,\\n)\\nencoder_4 = OrdinalEncoder(categories=[[\\\"Leve\\\", \\\"Moderado\\\", \\\"Alto\\\"]], dtype=int)\\nencoder_5 = OrdinalEncoder(categories=[[\\\"Leve\\\", \\\"Moderado-Grave\\\"]], dtype=int)\\nencoder_6 = OrdinalEncoder(\\n    categories=[\\n        [\\n            \\\"Primera aparici\\u00f3n sin antecedente\\\",\\n            \\\"Indistinguible del pasado\\\",\\n            \\\"Recurrencia condici\\u00f3n previa\\\",\\n            \\\"Significativamente diferente de condici\\u00f3n previa\\\",\\n            \\\"Exageraci\\u00f3n de trastorno cr\\u00f3nico\\\",\\n        ]\\n    ],\\n    dtype=int,\\n)\\n\\n# Ajustar y transformar los datos\\ndf[\\\"ESCOLARIDAD__JEFE_FAMILIA_encoded\\\"] = encoder_1.fit_transform(\\n    df[[\\\"ESCOLARIDAD__JEFE_FAMILIA\\\"]]\\n)\\ndf[\\\"ESCOLARIDAD_MAXIMA_PX_encoded\\\"] = encoder_1.fit_transform(\\n    df[[\\\"ESCOLARIDAD_MAXIMA_PX\\\"]]\\n)\\ndf[\\\"DX_PRIMARIO_encoded\\\"] = encoder_2.fit_transform(df[[\\\"DX_PRIMARIO\\\"]])\\ndf[\\\"TRASTORNO_MAYOR_DIAGNOSTICO_encoded\\\"] = encoder_3.fit_transform(\\n    df[[\\\"TRASTORNO_MAYOR_DIAGNOSTICO\\\"]]\\n)\\ndf[\\\"Riesgo_suicidio_encoded\\\"] = encoder_4.fit_transform(df[[\\\"Riesgo_suicidio\\\"]])\\ndf[\\\"Sintomas_ansiosos_encoded\\\"] = encoder_5.fit_transform(df[[\\\"Sintomas_ansiosos\\\"]])\\ndf[\\\"CONDICION_ACTUAL_encoded\\\"] = encoder_6.fit_transform(df[[\\\"CONDICION_ACTUAL\\\"]])\";\n",
              "                var nbb_formatted_code = \"# Crear el encoder ordinal\\nencoder_1 = OrdinalEncoder(\\n    categories=[\\n        [\\n            \\\"Menos de 6 a\\u00f1os\\\",\\n            \\\"Primaria\\\",\\n            \\\"Secundaria\\\",\\n            \\\"Preparatoria\\\",\\n            \\\"Estudios universitarios no terminados\\\",\\n            \\\"Licenciatura\\\",\\n            \\\"Posgrado\\\",\\n        ]\\n    ],\\n    dtype=int,\\n)\\nencoder_2 = OrdinalEncoder(\\n    categories=[\\n        [\\n            \\\"Distimia\\\",\\n            \\\"Trastorno depresivo episodio \\u00fanico \\\",\\n            \\\"Trastorno depresivo mayor recidivante\\\",\\n        ]\\n    ],\\n    dtype=int,\\n)\\nencoder_3 = OrdinalEncoder(\\n    categories=[\\n        [\\n            \\\"0\\\",\\n            \\\"TRASTORNO DEPRESIVO MAYOR\\\",\\n            \\\"TRASTORNO DEPRESIVO MAYOR EPISODIO UNICO O PRIMER EPISODIO\\\",\\n            \\\"TRASTORNO DEPRESIVO MAYOR RECURRENTE O RECIDIVANTE\\\",\\n            \\\"TRASTORNO DEPRESIVO MAYOR RECURRENTE RESISTENTE O SEVERO\\\",\\n        ]\\n    ],\\n    dtype=int,\\n)\\nencoder_4 = OrdinalEncoder(categories=[[\\\"Leve\\\", \\\"Moderado\\\", \\\"Alto\\\"]], dtype=int)\\nencoder_5 = OrdinalEncoder(categories=[[\\\"Leve\\\", \\\"Moderado-Grave\\\"]], dtype=int)\\nencoder_6 = OrdinalEncoder(\\n    categories=[\\n        [\\n            \\\"Primera aparici\\u00f3n sin antecedente\\\",\\n            \\\"Indistinguible del pasado\\\",\\n            \\\"Recurrencia condici\\u00f3n previa\\\",\\n            \\\"Significativamente diferente de condici\\u00f3n previa\\\",\\n            \\\"Exageraci\\u00f3n de trastorno cr\\u00f3nico\\\",\\n        ]\\n    ],\\n    dtype=int,\\n)\\n\\n# Ajustar y transformar los datos\\ndf[\\\"ESCOLARIDAD__JEFE_FAMILIA_encoded\\\"] = encoder_1.fit_transform(\\n    df[[\\\"ESCOLARIDAD__JEFE_FAMILIA\\\"]]\\n)\\ndf[\\\"ESCOLARIDAD_MAXIMA_PX_encoded\\\"] = encoder_1.fit_transform(\\n    df[[\\\"ESCOLARIDAD_MAXIMA_PX\\\"]]\\n)\\ndf[\\\"DX_PRIMARIO_encoded\\\"] = encoder_2.fit_transform(df[[\\\"DX_PRIMARIO\\\"]])\\ndf[\\\"TRASTORNO_MAYOR_DIAGNOSTICO_encoded\\\"] = encoder_3.fit_transform(\\n    df[[\\\"TRASTORNO_MAYOR_DIAGNOSTICO\\\"]]\\n)\\ndf[\\\"Riesgo_suicidio_encoded\\\"] = encoder_4.fit_transform(df[[\\\"Riesgo_suicidio\\\"]])\\ndf[\\\"Sintomas_ansiosos_encoded\\\"] = encoder_5.fit_transform(df[[\\\"Sintomas_ansiosos\\\"]])\\ndf[\\\"CONDICION_ACTUAL_encoded\\\"] = encoder_6.fit_transform(df[[\\\"CONDICION_ACTUAL\\\"]])\";\n",
              "                var nbb_cells = Jupyter.notebook.get_cells();\n",
              "                for (var i = 0; i < nbb_cells.length; ++i) {\n",
              "                    if (nbb_cells[i].input_prompt_number == nbb_cell_id) {\n",
              "                        if (nbb_cells[i].get_text() == nbb_unformatted_code) {\n",
              "                             nbb_cells[i].set_text(nbb_formatted_code);\n",
              "                        }\n",
              "                        break;\n",
              "                    }\n",
              "                }\n",
              "            }, 500);\n",
              "            "
            ],
            "text/plain": [
              "<IPython.core.display.Javascript object>"
            ]
          },
          "metadata": {},
          "output_type": "display_data"
        }
      ],
      "source": [
        "# Crear el encoder ordinal\n",
        "encoder_1 = OrdinalEncoder(\n",
        "    categories=[\n",
        "        [\n",
        "            \"Menos de 6 años\",\n",
        "            \"Primaria\",\n",
        "            \"Secundaria\",\n",
        "            \"Preparatoria\",\n",
        "            \"Estudios universitarios no terminados\",\n",
        "            \"Licenciatura\",\n",
        "            \"Posgrado\",\n",
        "        ]\n",
        "    ],\n",
        "    dtype=int,\n",
        ")\n",
        "encoder_2 = OrdinalEncoder(\n",
        "    categories=[\n",
        "        [\n",
        "            \"Distimia\",\n",
        "            \"Trastorno depresivo episodio único \",\n",
        "            \"Trastorno depresivo mayor recidivante\",\n",
        "        ]\n",
        "    ],\n",
        "    dtype=int,\n",
        ")\n",
        "encoder_3 = OrdinalEncoder(\n",
        "    categories=[\n",
        "        [\n",
        "            \"0\",\n",
        "            \"TRASTORNO DEPRESIVO MAYOR\",\n",
        "            \"TRASTORNO DEPRESIVO MAYOR EPISODIO UNICO O PRIMER EPISODIO\",\n",
        "            \"TRASTORNO DEPRESIVO MAYOR RECURRENTE O RECIDIVANTE\",\n",
        "            \"TRASTORNO DEPRESIVO MAYOR RECURRENTE RESISTENTE O SEVERO\",\n",
        "        ]\n",
        "    ],\n",
        "    dtype=int,\n",
        ")\n",
        "encoder_4 = OrdinalEncoder(categories=[[\"Leve\", \"Moderado\", \"Alto\"]], dtype=int)\n",
        "encoder_5 = OrdinalEncoder(categories=[[\"Leve\", \"Moderado-Grave\"]], dtype=int)\n",
        "encoder_6 = OrdinalEncoder(\n",
        "    categories=[\n",
        "        [\n",
        "            \"Primera aparición sin antecedente\",\n",
        "            \"Indistinguible del pasado\",\n",
        "            \"Recurrencia condición previa\",\n",
        "            \"Significativamente diferente de condición previa\",\n",
        "            \"Exageración de trastorno crónico\",\n",
        "        ]\n",
        "    ],\n",
        "    dtype=int,\n",
        ")\n",
        "\n",
        "# Ajustar y transformar los datos\n",
        "df[\"ESCOLARIDAD__JEFE_FAMILIA_encoded\"] = encoder_1.fit_transform(\n",
        "    df[[\"ESCOLARIDAD__JEFE_FAMILIA\"]]\n",
        ")\n",
        "df[\"ESCOLARIDAD_MAXIMA_PX_encoded\"] = encoder_1.fit_transform(\n",
        "    df[[\"ESCOLARIDAD_MAXIMA_PX\"]]\n",
        ")\n",
        "df[\"DX_PRIMARIO_encoded\"] = encoder_2.fit_transform(df[[\"DX_PRIMARIO\"]])\n",
        "df[\"TRASTORNO_MAYOR_DIAGNOSTICO_encoded\"] = encoder_3.fit_transform(\n",
        "    df[[\"TRASTORNO_MAYOR_DIAGNOSTICO\"]]\n",
        ")\n",
        "df[\"Riesgo_suicidio_encoded\"] = encoder_4.fit_transform(df[[\"Riesgo_suicidio\"]])\n",
        "df[\"Sintomas_ansiosos_encoded\"] = encoder_5.fit_transform(df[[\"Sintomas_ansiosos\"]])\n",
        "df[\"CONDICION_ACTUAL_encoded\"] = encoder_6.fit_transform(df[[\"CONDICION_ACTUAL\"]])"
      ]
    },
    {
      "cell_type": "code",
      "execution_count": null,
      "id": "D2-XKzz-DKuI",
      "metadata": {
        "id": "D2-XKzz-DKuI",
        "outputId": "33c7d751-5c03-4a75-d64c-1dc160a09eab"
      },
      "outputs": [
        {
          "data": {
            "application/javascript": [
              "\n",
              "            setTimeout(function() {\n",
              "                var nbb_cell_id = 15;\n",
              "                var nbb_unformatted_code = \"# Eliminamos estas caracter\\u00edsticas originales\\ndf = df.drop(\\n    [\\n        \\\"ESCOLARIDAD__JEFE_FAMILIA\\\",\\n        \\\"ESCOLARIDAD_MAXIMA_PX\\\",\\n        \\\"DX_PRIMARIO\\\",\\n        \\\"TRASTORNO_MAYOR_DIAGNOSTICO\\\",\\n        \\\"Riesgo_suicidio\\\",\\n        \\\"Sintomas_ansiosos\\\",\\n        \\\"CONDICION_ACTUAL\\\",\\n    ],\\n    axis=1,\\n)\";\n",
              "                var nbb_formatted_code = \"# Eliminamos estas caracter\\u00edsticas originales\\ndf = df.drop(\\n    [\\n        \\\"ESCOLARIDAD__JEFE_FAMILIA\\\",\\n        \\\"ESCOLARIDAD_MAXIMA_PX\\\",\\n        \\\"DX_PRIMARIO\\\",\\n        \\\"TRASTORNO_MAYOR_DIAGNOSTICO\\\",\\n        \\\"Riesgo_suicidio\\\",\\n        \\\"Sintomas_ansiosos\\\",\\n        \\\"CONDICION_ACTUAL\\\",\\n    ],\\n    axis=1,\\n)\";\n",
              "                var nbb_cells = Jupyter.notebook.get_cells();\n",
              "                for (var i = 0; i < nbb_cells.length; ++i) {\n",
              "                    if (nbb_cells[i].input_prompt_number == nbb_cell_id) {\n",
              "                        if (nbb_cells[i].get_text() == nbb_unformatted_code) {\n",
              "                             nbb_cells[i].set_text(nbb_formatted_code);\n",
              "                        }\n",
              "                        break;\n",
              "                    }\n",
              "                }\n",
              "            }, 500);\n",
              "            "
            ],
            "text/plain": [
              "<IPython.core.display.Javascript object>"
            ]
          },
          "metadata": {},
          "output_type": "display_data"
        }
      ],
      "source": [
        "# Eliminamos estas características originales\n",
        "df = df.drop(\n",
        "    [\n",
        "        \"ESCOLARIDAD__JEFE_FAMILIA\",\n",
        "        \"ESCOLARIDAD_MAXIMA_PX\",\n",
        "        \"DX_PRIMARIO\",\n",
        "        \"TRASTORNO_MAYOR_DIAGNOSTICO\",\n",
        "        \"Riesgo_suicidio\",\n",
        "        \"Sintomas_ansiosos\",\n",
        "        \"CONDICION_ACTUAL\",\n",
        "    ],\n",
        "    axis=1,\n",
        ")"
      ]
    },
    {
      "cell_type": "code",
      "execution_count": null,
      "id": "73NCIXxVJ17m",
      "metadata": {
        "id": "73NCIXxVJ17m",
        "outputId": "613b2249-ae0e-4439-b98c-3e57b9881bf6"
      },
      "outputs": [
        {
          "data": {
            "application/javascript": [
              "\n",
              "            setTimeout(function() {\n",
              "                var nbb_cell_id = 16;\n",
              "                var nbb_unformatted_code = \"# Hacemos listas de las variables no ordinales\\ncat_no_ordinales = [\\n    \\\"SEXO\\\",\\n    \\\"ESTADO_civil\\\",\\n    \\\"RELIGION\\\",\\n    \\\"PROVEEDOR_FAMILIAR\\\",\\n    \\\"OCUPACIoN_JEFE_FAMILIA\\\",\\n]\";\n",
              "                var nbb_formatted_code = \"# Hacemos listas de las variables no ordinales\\ncat_no_ordinales = [\\n    \\\"SEXO\\\",\\n    \\\"ESTADO_civil\\\",\\n    \\\"RELIGION\\\",\\n    \\\"PROVEEDOR_FAMILIAR\\\",\\n    \\\"OCUPACIoN_JEFE_FAMILIA\\\",\\n]\";\n",
              "                var nbb_cells = Jupyter.notebook.get_cells();\n",
              "                for (var i = 0; i < nbb_cells.length; ++i) {\n",
              "                    if (nbb_cells[i].input_prompt_number == nbb_cell_id) {\n",
              "                        if (nbb_cells[i].get_text() == nbb_unformatted_code) {\n",
              "                             nbb_cells[i].set_text(nbb_formatted_code);\n",
              "                        }\n",
              "                        break;\n",
              "                    }\n",
              "                }\n",
              "            }, 500);\n",
              "            "
            ],
            "text/plain": [
              "<IPython.core.display.Javascript object>"
            ]
          },
          "metadata": {},
          "output_type": "display_data"
        }
      ],
      "source": [
        "# Hacemos listas de las variables no ordinales\n",
        "cat_no_ordinales = [\n",
        "    \"SEXO\",\n",
        "    \"ESTADO_civil\",\n",
        "    \"RELIGION\",\n",
        "    \"PROVEEDOR_FAMILIAR\",\n",
        "    \"OCUPACIoN_JEFE_FAMILIA\",\n",
        "]"
      ]
    },
    {
      "cell_type": "code",
      "execution_count": null,
      "id": "VDqQrNrSLI67",
      "metadata": {
        "id": "VDqQrNrSLI67",
        "outputId": "2a0349c1-c4d8-4d3d-81a4-75872acacc7f"
      },
      "outputs": [
        {
          "data": {
            "application/javascript": [
              "\n",
              "            setTimeout(function() {\n",
              "                var nbb_cell_id = 17;\n",
              "                var nbb_unformatted_code = \"# Aplicar Get_dummies asegurando de eliminar la primera categor\\u00eda\\ndf = pd.get_dummies(df, columns=cat_no_ordinales, drop_first=True)\";\n",
              "                var nbb_formatted_code = \"# Aplicar Get_dummies asegurando de eliminar la primera categor\\u00eda\\ndf = pd.get_dummies(df, columns=cat_no_ordinales, drop_first=True)\";\n",
              "                var nbb_cells = Jupyter.notebook.get_cells();\n",
              "                for (var i = 0; i < nbb_cells.length; ++i) {\n",
              "                    if (nbb_cells[i].input_prompt_number == nbb_cell_id) {\n",
              "                        if (nbb_cells[i].get_text() == nbb_unformatted_code) {\n",
              "                             nbb_cells[i].set_text(nbb_formatted_code);\n",
              "                        }\n",
              "                        break;\n",
              "                    }\n",
              "                }\n",
              "            }, 500);\n",
              "            "
            ],
            "text/plain": [
              "<IPython.core.display.Javascript object>"
            ]
          },
          "metadata": {},
          "output_type": "display_data"
        }
      ],
      "source": [
        "# Aplicar Get_dummies asegurando de eliminar la primera categoría\n",
        "df = pd.get_dummies(df, columns=cat_no_ordinales, drop_first=True)"
      ]
    },
    {
      "cell_type": "code",
      "execution_count": null,
      "id": "4xtOtn82DHMf",
      "metadata": {
        "id": "4xtOtn82DHMf",
        "outputId": "0b83e6dd-385c-47b1-a638-0c517fe1ee49"
      },
      "outputs": [
        {
          "data": {
            "application/javascript": [
              "\n",
              "            setTimeout(function() {\n",
              "                var nbb_cell_id = 18;\n",
              "                var nbb_unformatted_code = \"# Generamos la base con las caracter\\u00edsticas y la variable de salida\\nX = df.drop(columns=[\\\"Sintomas_ansiosos_encoded\\\"])\\ny = df[\\\"Sintomas_ansiosos_encoded\\\"]\\nXtv, Xtest, ytv, ytest = train_test_split(X, y, train_size=0.9, random_state=0)\";\n",
              "                var nbb_formatted_code = \"# Generamos la base con las caracter\\u00edsticas y la variable de salida\\nX = df.drop(columns=[\\\"Sintomas_ansiosos_encoded\\\"])\\ny = df[\\\"Sintomas_ansiosos_encoded\\\"]\\nXtv, Xtest, ytv, ytest = train_test_split(X, y, train_size=0.9, random_state=0)\";\n",
              "                var nbb_cells = Jupyter.notebook.get_cells();\n",
              "                for (var i = 0; i < nbb_cells.length; ++i) {\n",
              "                    if (nbb_cells[i].input_prompt_number == nbb_cell_id) {\n",
              "                        if (nbb_cells[i].get_text() == nbb_unformatted_code) {\n",
              "                             nbb_cells[i].set_text(nbb_formatted_code);\n",
              "                        }\n",
              "                        break;\n",
              "                    }\n",
              "                }\n",
              "            }, 500);\n",
              "            "
            ],
            "text/plain": [
              "<IPython.core.display.Javascript object>"
            ]
          },
          "metadata": {},
          "output_type": "display_data"
        }
      ],
      "source": [
        "# Generamos la base con las características y la variable de salida\n",
        "X = df.drop(columns=[\"Sintomas_ansiosos_encoded\"])\n",
        "y = df[\"Sintomas_ansiosos_encoded\"]\n",
        "Xtv, Xtest, ytv, ytest = train_test_split(X, y, train_size=0.9, random_state=0)"
      ]
    },
    {
      "cell_type": "markdown",
      "id": "nDfq3k1O-bp6",
      "metadata": {
        "id": "nDfq3k1O-bp6"
      },
      "source": [
        "## **2 Mejor Modelo - Stacking con Regresión logística y SVM**"
      ]
    },
    {
      "cell_type": "code",
      "execution_count": null,
      "id": "7zBae98jKJMh",
      "metadata": {
        "id": "7zBae98jKJMh",
        "outputId": "0b7b2619-a66d-4b53-80a3-2b3d03d3d40b"
      },
      "outputs": [
        {
          "data": {
            "application/javascript": [
              "\n",
              "            setTimeout(function() {\n",
              "                var nbb_cell_id = 19;\n",
              "                var nbb_unformatted_code = \"# Definimos el modelo\\nstart_time_fit = time.time()\\nreg = LogisticRegression(\\n    solver=\\\"liblinear\\\",\\n    class_weight=\\\"balanced\\\",\\n    max_iter=100,\\n    penalty=\\\"l2\\\",\\n    tol=0.0001,\\n    random_state=0,\\n)\\n\\n# Se ajusta el modelo\\nreg.fit(Xtv, ytv)\\nend_time_fit = time.time()\\ntiempo_fit_reg = end_time_fit - start_time_fit\\n\\npreds_reg_tv = reg.predict_proba(Xtv)[:, 1]\\npreds_reg_test = reg.predict_proba(Xtest)[:, 1]\";\n",
              "                var nbb_formatted_code = \"# Definimos el modelo\\nstart_time_fit = time.time()\\nreg = LogisticRegression(\\n    solver=\\\"liblinear\\\",\\n    class_weight=\\\"balanced\\\",\\n    max_iter=100,\\n    penalty=\\\"l2\\\",\\n    tol=0.0001,\\n    random_state=0,\\n)\\n\\n# Se ajusta el modelo\\nreg.fit(Xtv, ytv)\\nend_time_fit = time.time()\\ntiempo_fit_reg = end_time_fit - start_time_fit\\n\\npreds_reg_tv = reg.predict_proba(Xtv)[:, 1]\\npreds_reg_test = reg.predict_proba(Xtest)[:, 1]\";\n",
              "                var nbb_cells = Jupyter.notebook.get_cells();\n",
              "                for (var i = 0; i < nbb_cells.length; ++i) {\n",
              "                    if (nbb_cells[i].input_prompt_number == nbb_cell_id) {\n",
              "                        if (nbb_cells[i].get_text() == nbb_unformatted_code) {\n",
              "                             nbb_cells[i].set_text(nbb_formatted_code);\n",
              "                        }\n",
              "                        break;\n",
              "                    }\n",
              "                }\n",
              "            }, 500);\n",
              "            "
            ],
            "text/plain": [
              "<IPython.core.display.Javascript object>"
            ]
          },
          "metadata": {},
          "output_type": "display_data"
        }
      ],
      "source": [
        "# Definimos el modelo\n",
        "start_time_fit = time.time()\n",
        "reg = LogisticRegression(\n",
        "    solver=\"liblinear\",\n",
        "    class_weight=\"balanced\",\n",
        "    max_iter=100,\n",
        "    penalty=\"l2\",\n",
        "    tol=0.0001,\n",
        "    random_state=0,\n",
        ")\n",
        "\n",
        "# Se ajusta el modelo\n",
        "reg.fit(Xtv, ytv)\n",
        "end_time_fit = time.time()\n",
        "tiempo_fit_reg = end_time_fit - start_time_fit\n",
        "\n",
        "preds_reg_tv = reg.predict_proba(Xtv)[:, 1]\n",
        "preds_reg_test = reg.predict_proba(Xtest)[:, 1]"
      ]
    },
    {
      "cell_type": "code",
      "execution_count": null,
      "id": "ead4529a",
      "metadata": {
        "id": "ead4529a",
        "outputId": "dc8131ff-56bc-46bf-863f-68b833b37086"
      },
      "outputs": [
        {
          "data": {
            "application/javascript": [
              "\n",
              "            setTimeout(function() {\n",
              "                var nbb_cell_id = 20;\n",
              "                var nbb_unformatted_code = \"# Definimos el modelo\\nstart_time_fit = time.time()\\nsvm = SVC(\\n    class_weight=\\\"balanced\\\",\\n    probability=True,\\n    C=0.01,\\n    gamma=0.001,\\n    kernel=\\\"linear\\\",\\n    random_state=0,\\n)\\n\\n# Se ajusta el modelo\\nsvm.fit(Xtv, ytv)\\nend_time_fit = time.time()\\ntiempo_fit_svm = end_time_fit - start_time_fit\\n\\npreds_svm_tv = svm.predict_proba(Xtv)[:, 1]\\npreds_svm_test = svm.predict_proba(Xtest)[:, 1]\";\n",
              "                var nbb_formatted_code = \"# Definimos el modelo\\nstart_time_fit = time.time()\\nsvm = SVC(\\n    class_weight=\\\"balanced\\\",\\n    probability=True,\\n    C=0.01,\\n    gamma=0.001,\\n    kernel=\\\"linear\\\",\\n    random_state=0,\\n)\\n\\n# Se ajusta el modelo\\nsvm.fit(Xtv, ytv)\\nend_time_fit = time.time()\\ntiempo_fit_svm = end_time_fit - start_time_fit\\n\\npreds_svm_tv = svm.predict_proba(Xtv)[:, 1]\\npreds_svm_test = svm.predict_proba(Xtest)[:, 1]\";\n",
              "                var nbb_cells = Jupyter.notebook.get_cells();\n",
              "                for (var i = 0; i < nbb_cells.length; ++i) {\n",
              "                    if (nbb_cells[i].input_prompt_number == nbb_cell_id) {\n",
              "                        if (nbb_cells[i].get_text() == nbb_unformatted_code) {\n",
              "                             nbb_cells[i].set_text(nbb_formatted_code);\n",
              "                        }\n",
              "                        break;\n",
              "                    }\n",
              "                }\n",
              "            }, 500);\n",
              "            "
            ],
            "text/plain": [
              "<IPython.core.display.Javascript object>"
            ]
          },
          "metadata": {},
          "output_type": "display_data"
        }
      ],
      "source": [
        "# Definimos el modelo\n",
        "start_time_fit = time.time()\n",
        "svm = SVC(\n",
        "    class_weight=\"balanced\",\n",
        "    probability=True,\n",
        "    C=0.01,\n",
        "    gamma=0.001,\n",
        "    kernel=\"linear\",\n",
        "    random_state=0,\n",
        ")\n",
        "\n",
        "# Se ajusta el modelo\n",
        "svm.fit(Xtv, ytv)\n",
        "end_time_fit = time.time()\n",
        "tiempo_fit_svm = end_time_fit - start_time_fit\n",
        "\n",
        "preds_svm_tv = svm.predict_proba(Xtv)[:, 1]\n",
        "preds_svm_test = svm.predict_proba(Xtest)[:, 1]"
      ]
    },
    {
      "cell_type": "code",
      "execution_count": null,
      "id": "Q9sFcp1BJlbh",
      "metadata": {
        "id": "Q9sFcp1BJlbh",
        "outputId": "0202dab4-f6a1-41b5-c303-f0abcfef449e"
      },
      "outputs": [
        {
          "data": {
            "application/javascript": [
              "\n",
              "            setTimeout(function() {\n",
              "                var nbb_cell_id = 21;\n",
              "                var nbb_unformatted_code = \"# Creamos el conjunto de datos para el ensamble\\nstacked_tv = np.column_stack((preds_reg_tv, preds_svm_tv))\\nstacked_test = np.column_stack((preds_reg_test, preds_svm_test))\";\n",
              "                var nbb_formatted_code = \"# Creamos el conjunto de datos para el ensamble\\nstacked_tv = np.column_stack((preds_reg_tv, preds_svm_tv))\\nstacked_test = np.column_stack((preds_reg_test, preds_svm_test))\";\n",
              "                var nbb_cells = Jupyter.notebook.get_cells();\n",
              "                for (var i = 0; i < nbb_cells.length; ++i) {\n",
              "                    if (nbb_cells[i].input_prompt_number == nbb_cell_id) {\n",
              "                        if (nbb_cells[i].get_text() == nbb_unformatted_code) {\n",
              "                             nbb_cells[i].set_text(nbb_formatted_code);\n",
              "                        }\n",
              "                        break;\n",
              "                    }\n",
              "                }\n",
              "            }, 500);\n",
              "            "
            ],
            "text/plain": [
              "<IPython.core.display.Javascript object>"
            ]
          },
          "metadata": {},
          "output_type": "display_data"
        }
      ],
      "source": [
        "# Creamos el conjunto de datos para el ensamble\n",
        "stacked_tv = np.column_stack((preds_reg_tv, preds_svm_tv))\n",
        "stacked_test = np.column_stack((preds_reg_test, preds_svm_test))"
      ]
    },
    {
      "cell_type": "code",
      "execution_count": null,
      "id": "C1Hw_RaZqYcW",
      "metadata": {
        "colab": {
          "base_uri": "https://localhost:8080/",
          "height": 186
        },
        "id": "C1Hw_RaZqYcW",
        "outputId": "ef6ddd14-4d5a-42ef-dd92-cc1fd53f7beb"
      },
      "outputs": [
        {
          "data": {
            "text/html": [
              "<div>\n",
              "<style scoped>\n",
              "    .dataframe tbody tr th:only-of-type {\n",
              "        vertical-align: middle;\n",
              "    }\n",
              "\n",
              "    .dataframe tbody tr th {\n",
              "        vertical-align: top;\n",
              "    }\n",
              "\n",
              "    .dataframe thead th {\n",
              "        text-align: right;\n",
              "    }\n",
              "</style>\n",
              "<table border=\"1\" class=\"dataframe\">\n",
              "  <thead>\n",
              "    <tr style=\"text-align: right;\">\n",
              "      <th></th>\n",
              "      <th>Entrenamiento</th>\n",
              "      <th>Prueba</th>\n",
              "    </tr>\n",
              "  </thead>\n",
              "  <tbody>\n",
              "    <tr>\n",
              "      <th>Recall</th>\n",
              "      <td>0.877828</td>\n",
              "      <td>0.791667</td>\n",
              "    </tr>\n",
              "    <tr>\n",
              "      <th>Recall Macro</th>\n",
              "      <td>0.641393</td>\n",
              "      <td>0.538690</td>\n",
              "    </tr>\n",
              "    <tr>\n",
              "      <th>F1 Score</th>\n",
              "      <td>0.796715</td>\n",
              "      <td>0.716981</td>\n",
              "    </tr>\n",
              "  </tbody>\n",
              "</table>\n",
              "</div>"
            ],
            "text/plain": [
              "              Entrenamiento    Prueba\n",
              "Recall             0.877828  0.791667\n",
              "Recall Macro       0.641393  0.538690\n",
              "F1 Score           0.796715  0.716981"
            ]
          },
          "execution_count": 22,
          "metadata": {},
          "output_type": "execute_result"
        },
        {
          "data": {
            "application/javascript": [
              "\n",
              "            setTimeout(function() {\n",
              "                var nbb_cell_id = 22;\n",
              "                var nbb_unformatted_code = \"# Definir los modelos\\nstart_time = time.time()\\nensamble1 = LogisticRegression()\\n\\n# Medir el tiempo de ajuste del ensamble\\nensamble1.fit(stacked_tv, ytv)\\ntiempo_fit_ensamble1 = time.time() - start_time\\n\\n# Evaluamos el rendimiento de los modelos con el conjunto de entrenamiento\\nytv1_pred_ensamble1 = ensamble1.predict(stacked_tv)\\nrecall_tv_ensamble1 = recall_score(ytv, ytv1_pred_ensamble1, average=\\\"binary\\\")\\nrecall_tv_macro_ensamble1 = recall_score(ytv, ytv1_pred_ensamble1, average=\\\"macro\\\")\\nf1_tv_ensamble1 = f1_score(ytv, ytv1_pred_ensamble1, average=\\\"binary\\\")\\n\\n\\n# Evaluamos el rendimiento de los modelos con el conjunto de pruebas\\nytest1_pred_ensamble1 = ensamble1.predict(stacked_test)\\nrecall_test_ensamble1 = recall_score(ytest, ytest1_pred_ensamble1, average=\\\"binary\\\")\\nrecall_test_macro_ensamble1 = recall_score(\\n    ytest, ytest1_pred_ensamble1, average=\\\"macro\\\"\\n)\\nf1_test_ensamble1 = f1_score(ytest, ytest1_pred_ensamble1, average=\\\"binary\\\")\\n\\ncuadro = {\\n    \\\"Metrica\\\": [\\\"Recall\\\", \\\"Recall Macro\\\", \\\"F1 Score\\\"],\\n    \\\"Entrenamiento\\\": [recall_tv_ensamble1, recall_tv_macro_ensamble1, f1_tv_ensamble1],\\n    \\\"Prueba\\\": [recall_test_ensamble1, recall_test_macro_ensamble1, f1_test_ensamble1],\\n}\\n\\n# Crear un DataFrame para almacenar los resultados\\ncuadro_df = pd.DataFrame(cuadro, index=cuadro[\\\"Metrica\\\"])\\ncuadro_df.drop(columns=[\\\"Metrica\\\"], inplace=True)\\n\\ncuadro_df\";\n",
              "                var nbb_formatted_code = \"# Definir los modelos\\nstart_time = time.time()\\nensamble1 = LogisticRegression()\\n\\n# Medir el tiempo de ajuste del ensamble\\nensamble1.fit(stacked_tv, ytv)\\ntiempo_fit_ensamble1 = time.time() - start_time\\n\\n# Evaluamos el rendimiento de los modelos con el conjunto de entrenamiento\\nytv1_pred_ensamble1 = ensamble1.predict(stacked_tv)\\nrecall_tv_ensamble1 = recall_score(ytv, ytv1_pred_ensamble1, average=\\\"binary\\\")\\nrecall_tv_macro_ensamble1 = recall_score(ytv, ytv1_pred_ensamble1, average=\\\"macro\\\")\\nf1_tv_ensamble1 = f1_score(ytv, ytv1_pred_ensamble1, average=\\\"binary\\\")\\n\\n\\n# Evaluamos el rendimiento de los modelos con el conjunto de pruebas\\nytest1_pred_ensamble1 = ensamble1.predict(stacked_test)\\nrecall_test_ensamble1 = recall_score(ytest, ytest1_pred_ensamble1, average=\\\"binary\\\")\\nrecall_test_macro_ensamble1 = recall_score(\\n    ytest, ytest1_pred_ensamble1, average=\\\"macro\\\"\\n)\\nf1_test_ensamble1 = f1_score(ytest, ytest1_pred_ensamble1, average=\\\"binary\\\")\\n\\ncuadro = {\\n    \\\"Metrica\\\": [\\\"Recall\\\", \\\"Recall Macro\\\", \\\"F1 Score\\\"],\\n    \\\"Entrenamiento\\\": [recall_tv_ensamble1, recall_tv_macro_ensamble1, f1_tv_ensamble1],\\n    \\\"Prueba\\\": [recall_test_ensamble1, recall_test_macro_ensamble1, f1_test_ensamble1],\\n}\\n\\n# Crear un DataFrame para almacenar los resultados\\ncuadro_df = pd.DataFrame(cuadro, index=cuadro[\\\"Metrica\\\"])\\ncuadro_df.drop(columns=[\\\"Metrica\\\"], inplace=True)\\n\\ncuadro_df\";\n",
              "                var nbb_cells = Jupyter.notebook.get_cells();\n",
              "                for (var i = 0; i < nbb_cells.length; ++i) {\n",
              "                    if (nbb_cells[i].input_prompt_number == nbb_cell_id) {\n",
              "                        if (nbb_cells[i].get_text() == nbb_unformatted_code) {\n",
              "                             nbb_cells[i].set_text(nbb_formatted_code);\n",
              "                        }\n",
              "                        break;\n",
              "                    }\n",
              "                }\n",
              "            }, 500);\n",
              "            "
            ],
            "text/plain": [
              "<IPython.core.display.Javascript object>"
            ]
          },
          "metadata": {},
          "output_type": "display_data"
        }
      ],
      "source": [
        "# Definir los modelos\n",
        "start_time = time.time()\n",
        "ensamble1 = LogisticRegression()\n",
        "\n",
        "# Medir el tiempo de ajuste del ensamble\n",
        "ensamble1.fit(stacked_tv, ytv)\n",
        "tiempo_fit_ensamble1 = time.time() - start_time\n",
        "\n",
        "# Evaluamos el rendimiento de los modelos con el conjunto de entrenamiento\n",
        "ytv1_pred_ensamble1 = ensamble1.predict(stacked_tv)\n",
        "recall_tv_ensamble1 = recall_score(ytv, ytv1_pred_ensamble1, average=\"binary\")\n",
        "recall_tv_macro_ensamble1 = recall_score(ytv, ytv1_pred_ensamble1, average=\"macro\")\n",
        "f1_tv_ensamble1 = f1_score(ytv, ytv1_pred_ensamble1, average=\"binary\")\n",
        "\n",
        "\n",
        "# Evaluamos el rendimiento de los modelos con el conjunto de pruebas\n",
        "ytest1_pred_ensamble1 = ensamble1.predict(stacked_test)\n",
        "recall_test_ensamble1 = recall_score(ytest, ytest1_pred_ensamble1, average=\"binary\")\n",
        "recall_test_macro_ensamble1 = recall_score(\n",
        "    ytest, ytest1_pred_ensamble1, average=\"macro\"\n",
        ")\n",
        "f1_test_ensamble1 = f1_score(ytest, ytest1_pred_ensamble1, average=\"binary\")\n",
        "\n",
        "cuadro = {\n",
        "    \"Metrica\": [\"Recall\", \"Recall Macro\", \"F1 Score\"],\n",
        "    \"Entrenamiento\": [recall_tv_ensamble1, recall_tv_macro_ensamble1, f1_tv_ensamble1],\n",
        "    \"Prueba\": [recall_test_ensamble1, recall_test_macro_ensamble1, f1_test_ensamble1],\n",
        "}\n",
        "\n",
        "# Crear un DataFrame para almacenar los resultados\n",
        "cuadro_df = pd.DataFrame(cuadro, index=cuadro[\"Metrica\"])\n",
        "cuadro_df.drop(columns=[\"Metrica\"], inplace=True)\n",
        "\n",
        "cuadro_df"
      ]
    },
    {
      "cell_type": "code",
      "execution_count": null,
      "id": "5056f49c",
      "metadata": {
        "colab": {
          "base_uri": "https://localhost:8080/",
          "height": 607
        },
        "id": "5056f49c",
        "outputId": "37cc931a-9125-4c01-b99c-6c2c29111ed7",
        "scrolled": true
      },
      "outputs": [
        {
          "data": {
            "image/png": "[encoded data removed]",
            "text/plain": [
              "<Figure size 1008x432 with 2 Axes>"
            ]
          },
          "metadata": {
            "needs_background": "light"
          },
          "output_type": "display_data"
        },
        {
          "data": {
            "application/javascript": [
              "\n",
              "            setTimeout(function() {\n",
              "                var nbb_cell_id = 23;\n",
              "                var nbb_unformatted_code = \"# Generar las matrices de confusi\\u00f3n\\ncm_tv = confusion_matrix(ytv, ytv1_pred_ensamble1)\\ncm_test = confusion_matrix(ytest, ytest1_pred_ensamble1)\\n\\n# Crear DataFrames de las matrices de confusi\\u00f3n\\ncm_tv_df = pd.DataFrame(cm_tv, index=[0, 1], columns=[0, 1])\\ncm_test_df = pd.DataFrame(cm_test, index=[0, 1], columns=[0, 1])\\n\\n# Crear el heatmap usando seaborn\\nplt.figure(figsize=(14, 6))\\n\\n# Heatmap de la matriz de confusi\\u00f3n de entrenamiento\\nplt.subplot(1, 2, 1)\\nsns.heatmap(cm_tv_df, annot=True, fmt=\\\"d\\\", cmap=\\\"Blues\\\", cbar=False)\\nplt.title(\\\"Matriz de Confusi\\u00f3n - Entrenamiento\\\")\\nplt.xlabel(\\\"Predicted\\\")\\nplt.ylabel(\\\"Actual\\\")\\n\\n# Heatmap de la matriz de confusi\\u00f3n de prueba\\nplt.subplot(1, 2, 2)\\nsns.heatmap(cm_test_df, annot=True, fmt=\\\"d\\\", cmap=\\\"Blues\\\", cbar=False)\\nplt.title(\\\"Matriz de Confusi\\u00f3n - Prueba\\\")\\nplt.xlabel(\\\"Predicted\\\")\\nplt.ylabel(\\\"Actual\\\")\\n\\n# Mostrar las gr\\u00e1ficas\\nplt.tight_layout()\\nplt.show()\";\n",
              "                var nbb_formatted_code = \"# Generar las matrices de confusi\\u00f3n\\ncm_tv = confusion_matrix(ytv, ytv1_pred_ensamble1)\\ncm_test = confusion_matrix(ytest, ytest1_pred_ensamble1)\\n\\n# Crear DataFrames de las matrices de confusi\\u00f3n\\ncm_tv_df = pd.DataFrame(cm_tv, index=[0, 1], columns=[0, 1])\\ncm_test_df = pd.DataFrame(cm_test, index=[0, 1], columns=[0, 1])\\n\\n# Crear el heatmap usando seaborn\\nplt.figure(figsize=(14, 6))\\n\\n# Heatmap de la matriz de confusi\\u00f3n de entrenamiento\\nplt.subplot(1, 2, 1)\\nsns.heatmap(cm_tv_df, annot=True, fmt=\\\"d\\\", cmap=\\\"Blues\\\", cbar=False)\\nplt.title(\\\"Matriz de Confusi\\u00f3n - Entrenamiento\\\")\\nplt.xlabel(\\\"Predicted\\\")\\nplt.ylabel(\\\"Actual\\\")\\n\\n# Heatmap de la matriz de confusi\\u00f3n de prueba\\nplt.subplot(1, 2, 2)\\nsns.heatmap(cm_test_df, annot=True, fmt=\\\"d\\\", cmap=\\\"Blues\\\", cbar=False)\\nplt.title(\\\"Matriz de Confusi\\u00f3n - Prueba\\\")\\nplt.xlabel(\\\"Predicted\\\")\\nplt.ylabel(\\\"Actual\\\")\\n\\n# Mostrar las gr\\u00e1ficas\\nplt.tight_layout()\\nplt.show()\";\n",
              "                var nbb_cells = Jupyter.notebook.get_cells();\n",
              "                for (var i = 0; i < nbb_cells.length; ++i) {\n",
              "                    if (nbb_cells[i].input_prompt_number == nbb_cell_id) {\n",
              "                        if (nbb_cells[i].get_text() == nbb_unformatted_code) {\n",
              "                             nbb_cells[i].set_text(nbb_formatted_code);\n",
              "                        }\n",
              "                        break;\n",
              "                    }\n",
              "                }\n",
              "            }, 500);\n",
              "            "
            ],
            "text/plain": [
              "<IPython.core.display.Javascript object>"
            ]
          },
          "metadata": {},
          "output_type": "display_data"
        }
      ],
      "source": [
        "# Generar las matrices de confusión\n",
        "cm_tv = confusion_matrix(ytv, ytv1_pred_ensamble1)\n",
        "cm_test = confusion_matrix(ytest, ytest1_pred_ensamble1)\n",
        "\n",
        "# Crear DataFrames de las matrices de confusión\n",
        "cm_tv_df = pd.DataFrame(cm_tv, index=[0, 1], columns=[0, 1])\n",
        "cm_test_df = pd.DataFrame(cm_test, index=[0, 1], columns=[0, 1])\n",
        "\n",
        "# Crear el heatmap usando seaborn\n",
        "plt.figure(figsize=(14, 6))\n",
        "\n",
        "# Heatmap de la matriz de confusión de entrenamiento\n",
        "plt.subplot(1, 2, 1)\n",
        "sns.heatmap(cm_tv_df, annot=True, fmt=\"d\", cmap=\"Blues\", cbar=False)\n",
        "plt.title(\"Matriz de Confusión - Entrenamiento\")\n",
        "plt.xlabel(\"Predicted\")\n",
        "plt.ylabel(\"Actual\")\n",
        "\n",
        "# Heatmap de la matriz de confusión de prueba\n",
        "plt.subplot(1, 2, 2)\n",
        "sns.heatmap(cm_test_df, annot=True, fmt=\"d\", cmap=\"Blues\", cbar=False)\n",
        "plt.title(\"Matriz de Confusión - Prueba\")\n",
        "plt.xlabel(\"Predicted\")\n",
        "plt.ylabel(\"Actual\")\n",
        "\n",
        "# Mostrar las gráficas\n",
        "plt.tight_layout()\n",
        "plt.show()"
      ]
    }
  ],
  "metadata": {
    "colab": {
      "collapsed_sections": [
        "yrLd5hs1LZMY",
        "4oIRZ5ycHAh0"
      ],
      "provenance": [],
      "include_colab_link": true
    },
    "kernelspec": {
      "display_name": "Python 3 (ipykernel)",
      "language": "python",
      "name": "python3"
    },
    "language_info": {
      "codemirror_mode": {
        "name": "ipython",
        "version": 3
      },
      "file_extension": ".py",
      "mimetype": "text/x-python",
      "name": "python",
      "nbconvert_exporter": "python",
      "pygments_lexer": "ipython3",
      "version": "3.9.19"
    }
  },
  "nbformat": 4,
  "nbformat_minor": 5
}