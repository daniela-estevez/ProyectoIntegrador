{
  "cells": [
    {
      "cell_type": "markdown",
      "metadata": {
        "id": "view-in-github",
        "colab_type": "text"
      },
      "source": [
        "<a href=\"https://colab.research.google.com/github/daniela-estevez/ProyectoIntegrador/blob/main/Avance7_Equipo13_Script_Final.ipynb\" target=\"_parent\"><img src=\"https://colab.research.google.com/assets/colab-badge.svg\" alt=\"Open In Colab\"/></a>"
      ]
    },
    {
      "cell_type": "markdown",
      "id": "bnHtyrAJCo3s",
      "metadata": {
        "id": "bnHtyrAJCo3s"
      },
      "source": [
        "# Avance 7. Script Final\n",
        "\n",
        "## Equipo 13\n",
        "\n",
        "## Alejandro García Hernández A01793812\n",
        "## Daniela Estevez Rodriguez A01793723\n",
        "## Carlos Alberto López Álvarez A01168193"
      ]
    },
    {
      "cell_type": "markdown",
      "id": "HOPH-TEIDF6Z",
      "metadata": {
        "id": "HOPH-TEIDF6Z"
      },
      "source": [
        "## Objetivos\n",
        "\n",
        "En este avance, se busca fundamentar si es viable implementar el modelo, evaluando su adecuación a los criterios de éxito previamente establecidos y considerando los resultados obtenidos durante la etapa de modelado."
      ]
    },
    {
      "cell_type": "markdown",
      "id": "yrLd5hs1LZMY",
      "metadata": {
        "id": "yrLd5hs1LZMY"
      },
      "source": [
        "## 0. Librerías"
      ]
    },
    {
      "cell_type": "code",
      "execution_count": 1,
      "id": "FxqiPB_ImQ5b",
      "metadata": {
        "id": "FxqiPB_ImQ5b"
      },
      "outputs": [],
      "source": [
        "import warnings\n",
        "warnings.filterwarnings(\"ignore\")\n",
        "import time"
      ]
    },
    {
      "cell_type": "code",
      "execution_count": 2,
      "id": "584809fc-6ced-4e75-ab2d-42baca19672d",
      "metadata": {
        "id": "584809fc-6ced-4e75-ab2d-42baca19672d"
      },
      "outputs": [],
      "source": [
        "# Librerías a utilizar para el pre procesamiento.\n",
        "\n",
        "import pandas as pd\n",
        "import numpy as np\n",
        "import seaborn as sns\n",
        "import matplotlib.pyplot as plt\n",
        "from sklearn.preprocessing import OneHotEncoder\n",
        "from sklearn.preprocessing import OrdinalEncoder\n",
        "from scipy.stats.mstats import winsorize\n",
        "from sklearn.preprocessing import LabelEncoder\n",
        "from sklearn.pipeline import Pipeline\n"
      ]
    },
    {
      "cell_type": "code",
      "execution_count": 3,
      "id": "e0IQnXOlrYOD",
      "metadata": {
        "id": "e0IQnXOlrYOD"
      },
      "outputs": [],
      "source": [
        "# Librerías para la sección de modelos supervisados y ensambles\n",
        "from sklearn.linear_model import LogisticRegression\n",
        "from sklearn.tree import DecisionTreeClassifier\n",
        "from sklearn.model_selection import train_test_split, cross_val_score, RepeatedStratifiedKFold, GridSearchCV, cross_val_predict\n",
        "from sklearn.metrics import confusion_matrix,f1_score, accuracy_score, classification_report, recall_score, make_scorer\n",
        "from sklearn.ensemble import RandomForestClassifier\n",
        "from sklearn.neural_network import MLPClassifier\n",
        "from sklearn.neighbors import KNeighborsClassifier\n",
        "from sklearn.svm import SVC\n",
        "from xgboost import XGBClassifier\n",
        "from sklearn.tree import export_graphviz\n",
        "import graphviz\n",
        "from IPython.display import display\n",
        "from xgboost import plot_importance\n",
        "from sklearn.preprocessing import LabelEncoder\n",
        "from sklearn.dummy import DummyClassifier\n",
        "\n",
        "from sklearn.ensemble import BaggingClassifier\n",
        "\n",
        "from imblearn.under_sampling import RandomUnderSampler, TomekLinks, EditedNearestNeighbours\n",
        "from imblearn.over_sampling import RandomOverSampler, SMOTE\n",
        "from imblearn.combine import SMOTEENN, SMOTETomek\n",
        "from sklearn.ensemble import ExtraTreesClassifier, GradientBoostingClassifier, AdaBoostClassifier\n",
        "\n",
        "from IPython.display import display_html"
      ]
    },
    {
      "cell_type": "code",
      "execution_count": 5,
      "id": "HtYYTTYS5nvS",
      "metadata": {
        "id": "HtYYTTYS5nvS"
      },
      "outputs": [],
      "source": [
        "# El siguiente bloque se agregó para poder leer los archivos drive\n",
        "#from google.colab import drive\n",
        "#drive.mount('/content/drive')\n",
        "#%cd /content/drive/MyDrive/Colab Notebooks/Proyecto Integrador"
      ]
    },
    {
      "cell_type": "code",
      "execution_count": 6,
      "id": "fb3aeaaa",
      "metadata": {
        "id": "fb3aeaaa"
      },
      "outputs": [],
      "source": [
        "# Función para mostrar los DataFrames uno junto al otro con estilos\n",
        "def display_side_by_side(dfs, captions, color='lightgreen', axis=0):\n",
        "    html_str = ''\n",
        "    for caption, df in zip(captions, dfs):\n",
        "        html_str += '<div style=\"display: inline-block; padding: 10px;\">'\n",
        "        html_str += f'<h3>{caption}</h3>'\n",
        "        html_str += df.style.highlight_max(color=color, axis=axis).to_html()\n",
        "        html_str += '</div>'\n",
        "    display_html(html_str, raw=True)"
      ]
    },
    {
      "cell_type": "markdown",
      "id": "4oIRZ5ycHAh0",
      "metadata": {
        "id": "4oIRZ5ycHAh0"
      },
      "source": [
        "## 1. Preparación de datos"
      ]
    },
    {
      "cell_type": "markdown",
      "id": "rYyJMawgi4wt",
      "metadata": {
        "id": "rYyJMawgi4wt"
      },
      "source": [
        "Se aplica el pre procesamiento de los datos que se ha trabajado en semanas anteriores. Así, obtenemos dos conjuntos de datos para poder trabajar los datos con diferentes modelos. En el primer conjunto las variables ordinales son codificadas con LabelEncoder y en el segundo conjunto se les aplica OHE."
      ]
    },
    {
      "cell_type": "code",
      "execution_count": 7,
      "id": "5bef599b-eb4f-4d50-964f-451b7065f29a",
      "metadata": {
        "id": "5bef599b-eb4f-4d50-964f-451b7065f29a"
      },
      "outputs": [],
      "source": [
        "data = pd.read_csv(\"base.csv\",sep=\",\", encoding=\"latin1\")\n",
        "df= data.copy()"
      ]
    },
    {
      "cell_type": "code",
      "execution_count": 8,
      "id": "esYdsyF6PVJs",
      "metadata": {
        "id": "esYdsyF6PVJs"
      },
      "outputs": [],
      "source": [
        "# Eliminamos entonces estas características\n",
        "df = df.drop([\"Nombre\",\"residencia\",\"fecha_nacimiento\",\"fecha_1er_visita\",\"FECHA_INICIO_ACTUAL_EPISODIO\"], axis=1)\n",
        "df = df.dropna(axis=1, how='all')"
      ]
    },
    {
      "cell_type": "code",
      "execution_count": 9,
      "id": "aDLQ8X1Tozmn",
      "metadata": {
        "id": "aDLQ8X1Tozmn"
      },
      "outputs": [],
      "source": [
        "# Calculamos el porcentaje de valores nulos en cada columna\n",
        "null_percentage = (df.isnull().sum() / len(df)) * 100\n",
        "\n",
        "# Con el sguiente código, se crea un DataFrame con los porcentajes de valores nulos\n",
        "null_df = pd.DataFrame({'Columna': null_percentage.index, 'Porcentaje_Null': null_percentage.values})\n",
        "\n",
        "# Filtramos el DataFrame para mantener solo las columnas donde el porcentaje de valores nulos sea menor al 40%\n",
        "columnas_a_mantener = null_df[null_df['Porcentaje_Null'] < 40]['Columna']\n",
        "\n",
        "# Filtramos el DataFrame original para mantener solo las columnas que queremos conservar\n",
        "df = df[columnas_a_mantener]"
      ]
    },
    {
      "cell_type": "code",
      "execution_count": 10,
      "id": "MJTeBL1fmCEs",
      "metadata": {
        "id": "MJTeBL1fmCEs"
      },
      "outputs": [],
      "source": [
        "#Primero obtenemos las variables que reportan un solo valor y mostramos sus nombres\n",
        "unique_counts = df.nunique()\n",
        "columnas_a_eliminar = unique_counts[unique_counts == 1].index\n",
        "columnas_a_eliminar\n",
        "df = df.drop(columns=columnas_a_eliminar)"
      ]
    },
    {
      "cell_type": "code",
      "execution_count": 11,
      "id": "thcVkgNcRmfE",
      "metadata": {
        "colab": {
          "base_uri": "https://localhost:8080/"
        },
        "id": "thcVkgNcRmfE",
        "outputId": "f7ba96e3-ad65-4f55-9e53-38cd9fff9cb9"
      },
      "outputs": [
        {
          "output_type": "stream",
          "name": "stdout",
          "text": [
            "Numero de columnas binarias encontradas: 28\n"
          ]
        }
      ],
      "source": [
        "binary_columns = []\n",
        "for column in df.columns:\n",
        "    unique_values = df[column].unique()\n",
        "    if len(unique_values) == 2 and all(value in [0, 1] for value in unique_values):\n",
        "        binary_columns.append(column)\n",
        "\n",
        "# Número de columnas con solamente 0's o 1's\n",
        "print(\"Numero de columnas binarias encontradas:\", len(binary_columns))"
      ]
    },
    {
      "cell_type": "code",
      "execution_count": 12,
      "id": "cXeYMB32SnjY",
      "metadata": {
        "id": "cXeYMB32SnjY"
      },
      "outputs": [],
      "source": [
        "# Actualizamos el tipo de las columnas binarias a booleano usando astype()\n",
        "for column in binary_columns:\n",
        "    df[column] = df[column].astype(bool)"
      ]
    },
    {
      "cell_type": "code",
      "execution_count": 13,
      "id": "Sh7ne_k76UWz",
      "metadata": {
        "id": "Sh7ne_k76UWz"
      },
      "outputs": [],
      "source": [
        "# Lista de variables que son en realidad categóricas\n",
        "cat_cols=[\"SEXO\",\"CONDICION_ACTUAL\",\"ESTADO_civil\",\"RELIGION\",\"PROVEEDOR_FAMILIAR\",\"OCUPACIoN_JEFE_FAMILIA\",\"ESCOLARIDAD__JEFE_FAMILIA\",\n",
        "         \"ESCOLARIDAD_MAXIMA_PX\",\"DX_PRIMARIO\",\"CODIGO_DX.1\",\"TRASTORNO_MAYOR_DIAGNOSTICO\",\n",
        "         \"Riesgo_suicidio\",\"Sintomas_ansiosos\"]\n",
        "\n",
        "# Actualizamos el tipo de las columnas categoricas usando astype()\n",
        "for column in cat_cols:\n",
        "    df[column] = df[column].astype(\"category\")"
      ]
    },
    {
      "cell_type": "code",
      "execution_count": 14,
      "id": "LwFz8w-Q89Cj",
      "metadata": {
        "id": "LwFz8w-Q89Cj"
      },
      "outputs": [],
      "source": [
        "# Actualizamos el tipo de la columna MENARCA a uno numérico usando astype()\n",
        "df[\"MENARCA\"] = df[\"MENARCA\"].astype(\"float64\")"
      ]
    },
    {
      "cell_type": "code",
      "execution_count": 15,
      "id": "NTUrQhJ0yUqB",
      "metadata": {
        "id": "NTUrQhJ0yUqB"
      },
      "outputs": [],
      "source": [
        "# Sustituir los valores de MENARCA donde SEXO es \"M\"\n",
        "df.loc[df['SEXO'] == 'M', 'MENARCA'] = -1\n",
        "\n",
        "# Imputar la moda a las variables numéricas\n",
        "for columna in df.select_dtypes(include='number').columns:\n",
        "    df[columna] = df[columna].fillna(df[columna].median())\n",
        "\n",
        "# Imputar la moda a las variables booleanas\n",
        "for columna in df.select_dtypes(include='bool').columns:\n",
        "    moda = df[columna].mode()[0]  # Calcular la moda\n",
        "    df[columna] = df[columna].fillna(moda)\n",
        "\n",
        "# Imputar la moda a las variables alfanuméricas\n",
        "for columna in df.select_dtypes(include='category').columns:\n",
        "    moda = df[columna].mode()[0]  # Calcular la moda\n",
        "    df[columna] = df[columna].fillna(moda)"
      ]
    },
    {
      "cell_type": "code",
      "execution_count": 16,
      "id": "i-Z1k2A5_HMW",
      "metadata": {
        "id": "i-Z1k2A5_HMW"
      },
      "outputs": [],
      "source": [
        "# Lista de variables que son en realidad enteros\n",
        "enteros_cols=[\"EDAD_1era_visita\",\"EDAD_INICIO_1er_EPISODIO\",\"AnioS_ESTUDIO_PACIENTE\",\"MENARCA\",\"INICIO_VIDA_SEXUAL_ACTIVA\",\"MADRS_TOTAL\",\"CGI-S.1\"]\n",
        "\n",
        "# Actualizamos el tipo de las columnas de enteros usando astype()\n",
        "for column in enteros_cols:\n",
        "    df[column] = df[column].astype(\"int64\")"
      ]
    },
    {
      "cell_type": "code",
      "execution_count": 17,
      "id": "8hhEnd6h2pzf",
      "metadata": {
        "id": "8hhEnd6h2pzf"
      },
      "outputs": [],
      "source": [
        "# Eliminamos estas características\n",
        "df = df.drop([\"EPISODIO_MAYOR_total_vida\",\"SUICIDALIDAD_ACTUAL\",\"SUICIDALIDAD_INTENTO_total_vida\",\n",
        "              \"B1b_INTENCION_DE_MORIR_EN_ACCIDENTE\",\"B5_PENSO_METODO_SUICIDARSE\",\"B8_PENSO_FECHA_SUICIDIO\",\n",
        "              \"B10_INTENCION_SUICIDIO\",\"B18_INTENTO_SUICIDARSE\",\"B2_NECESIDAD_DE_ESTAR_MUERTO\",\"TRASTORNO_MAYOR_PASADO\"],\n",
        "             axis=1)"
      ]
    },
    {
      "cell_type": "code",
      "execution_count": 18,
      "id": "6ivNtjiUPnqV",
      "metadata": {
        "id": "6ivNtjiUPnqV"
      },
      "outputs": [],
      "source": [
        "# Eliminamos estas características\n",
        "df = df.drop([\"CODIGO_DX.1\",\"Puntaje_experto\"],\n",
        "             axis=1)"
      ]
    },
    {
      "cell_type": "code",
      "execution_count": 19,
      "id": "XNERi1gd5zCE",
      "metadata": {
        "id": "XNERi1gd5zCE"
      },
      "outputs": [],
      "source": [
        "# Reemplazar el valor 1955 por la mediana\n",
        "df['EDAD_INICIO_1er_EPISODIO'] = df['EDAD_INICIO_1er_EPISODIO'].replace(1955, df['EDAD_INICIO_1er_EPISODIO'].median())\n",
        "\n",
        "# Reemplazar el valor 1 por la mediana\n",
        "df['INICIO_VIDA_SEXUAL_ACTIVA'] = df['INICIO_VIDA_SEXUAL_ACTIVA'].replace(1, df['INICIO_VIDA_SEXUAL_ACTIVA'].median())"
      ]
    },
    {
      "cell_type": "code",
      "execution_count": 20,
      "id": "E0shO5sixh2O",
      "metadata": {
        "id": "E0shO5sixh2O"
      },
      "outputs": [],
      "source": [
        "# Realizamos una copia del df para realizar una trasnformación\n",
        "df_T=df.copy()"
      ]
    },
    {
      "cell_type": "markdown",
      "id": "ollbfoh41Bd3",
      "metadata": {
        "id": "ollbfoh41Bd3"
      },
      "source": [
        "**Winsorización:** Reemplaza los valores atípicos con valores en el percentil p-ésimo o (1 - p)-ésimo para reducir su impacto sin eliminarlos."
      ]
    },
    {
      "cell_type": "code",
      "execution_count": 21,
      "id": "qQUCHi2g0zJm",
      "metadata": {
        "id": "qQUCHi2g0zJm"
      },
      "outputs": [],
      "source": [
        "# Transformamos las variables usando Winsonorización\n",
        "df_T['INICIO_VIDA_SEXUAL_ACTIVA_W'] = winsorize(df_T['INICIO_VIDA_SEXUAL_ACTIVA'], limits=(0.05, 0.05))\n",
        "df_T['DURACION_EPISODIO_MAYOR_ACTUAL_W'] = winsorize(df_T['DURACION_EPISODIO_MAYOR_ACTUAL'], limits=(0.05, 0.05))"
      ]
    },
    {
      "cell_type": "code",
      "execution_count": 22,
      "id": "3B5IIskH2EJ8",
      "metadata": {
        "id": "3B5IIskH2EJ8"
      },
      "outputs": [],
      "source": [
        "# Eliminamos estas características originales\n",
        "df_T = df_T.drop([\"INICIO_VIDA_SEXUAL_ACTIVA\",\"DURACION_EPISODIO_MAYOR_ACTUAL\"],\n",
        "             axis=1)"
      ]
    },
    {
      "cell_type": "markdown",
      "source": [
        "### Codificar variables usando Pipelines"
      ],
      "metadata": {
        "id": "fC3zE9pl_BvY"
      },
      "id": "fC3zE9pl_BvY"
    },
    {
      "cell_type": "code",
      "source": [
        "# Hacemos listas de las variables ordinales\n",
        "cat_ordinales = ['ESCOLARIDAD__JEFE_FAMILIA', 'ESCOLARIDAD_MAXIMA_PX', 'DX_PRIMARIO', 'TRASTORNO_MAYOR_DIAGNOSTICO',\n",
        "                 'Riesgo_suicidio', 'Sintomas_ansiosos', 'CONDICION_ACTUAL']\n",
        "\n",
        "# Hacemos listas de las variables no ordinales\n",
        "cat_no_ordinales = ['SEXO', 'ESTADO_civil', 'RELIGION', 'PROVEEDOR_FAMILIAR', 'OCUPACIoN_JEFE_FAMILIA']\n",
        "\n",
        "# Creamos una copia del dataframe\n",
        "df_TC = df_T.copy()\n",
        "\n",
        "# Creamos un pipeline para las variables ordinales\n",
        "ordinal_pipeline = Pipeline([\n",
        "    ('encoder', OrdinalEncoder(categories=[[\"Menos de 6 años\", \"Primaria\", \"Secundaria\", \"Preparatoria\",\n",
        "                                             \"Estudios universitarios no terminados\", \"Licenciatura\", \"Posgrado\"],\n",
        "                                           [\"Menos de 6 años\", \"Primaria\", \"Secundaria\", \"Preparatoria\",\n",
        "                                             \"Estudios universitarios no terminados\", \"Licenciatura\", \"Posgrado\"],\n",
        "                                            [\"Distimia\", \"Trastorno depresivo episodio único \",\n",
        "                                             \"Trastorno depresivo mayor recidivante\"],\n",
        "                                            [\"0\", \"TRASTORNO DEPRESIVO MAYOR\",\n",
        "                                             \"TRASTORNO DEPRESIVO MAYOR EPISODIO UNICO O PRIMER EPISODIO\",\n",
        "                                             \"TRASTORNO DEPRESIVO MAYOR RECURRENTE O RECIDIVANTE\",\n",
        "                                             \"TRASTORNO DEPRESIVO MAYOR RECURRENTE RESISTENTE O SEVERO\"],\n",
        "                                            [\"Leve\", \"Moderado\", \"Alto\"],\n",
        "                                            [\"Leve\", \"Moderado-Grave\"],\n",
        "                                            [\"Primera aparición sin antecedente\", \"Indistinguible del pasado\",\n",
        "                                             \"Recurrencia condición previa\",\n",
        "                                             \"Significativamente diferente de condición previa\",\n",
        "                                             \"Exageración de trastorno crónico\"]], dtype=int))\n",
        "])\n",
        "\n",
        "# Creamos un pipeline para las variables no ordinales que codificaremos con OneHotEncoder\n",
        "no_ordinal_pipeline = Pipeline([\n",
        "    ('onehot', OneHotEncoder(drop='first'))\n",
        "])\n",
        "\n",
        "# Aplicamos el pipeline ordinal a las variables ordinales\n",
        "df_ordinales_encoded = ordinal_pipeline.fit_transform(df_TC[cat_ordinales])\n",
        "ordinal_columns = ordinal_pipeline.named_steps['encoder'].get_feature_names_out(cat_ordinales)\n",
        "ordinal_columns = [col + \"_encoded\" for col in ordinal_columns]\n",
        "\n",
        "# Aplicamos el pipeline onehot a las variables no ordinales\n",
        "df_no_ordinales_encoded = no_ordinal_pipeline.fit_transform(df_TC[cat_no_ordinales])\n",
        "no_ordinal_columns = no_ordinal_pipeline.named_steps['onehot'].get_feature_names_out(cat_no_ordinales)\n",
        "\n",
        "# Creamos un DataFrame final con datos ya codificados usando OneHot y OrdinalEncoder\n",
        "original_columns = df_TC.columns.tolist()\n",
        "\n",
        "for col in cat_ordinales + cat_no_ordinales:\n",
        "    original_columns.remove(col)\n",
        "\n",
        "all_columns = np.concatenate([ordinal_columns, no_ordinal_columns, original_columns])\n",
        "\n",
        "df_TC_encoded = pd.DataFrame(np.concatenate([df_ordinales_encoded, df_no_ordinales_encoded.toarray(), df_TC[original_columns]], axis=1),\n",
        "                             columns=all_columns).astype('int64')"
      ],
      "metadata": {
        "id": "ohKqPadzm5er"
      },
      "id": "ohKqPadzm5er",
      "execution_count": 23,
      "outputs": []
    },
    {
      "cell_type": "code",
      "execution_count": 24,
      "id": "4xtOtn82DHMf",
      "metadata": {
        "id": "4xtOtn82DHMf"
      },
      "outputs": [],
      "source": [
        "# Generamos la base con las características y la variable de salida\n",
        "X1 = df_TC_encoded.drop(columns=['Sintomas_ansiosos_encoded'])\n",
        "Y1 = df_TC_encoded['Sintomas_ansiosos_encoded']\n",
        "Xtv1, Xtest1, ytv1, ytest1 = train_test_split(X1, Y1, train_size = 0.9, random_state = 0)"
      ]
    },
    {
      "cell_type": "markdown",
      "id": "nDfq3k1O-bp6",
      "metadata": {
        "id": "nDfq3k1O-bp6"
      },
      "source": [
        "## 2. Modelo"
      ]
    },
    {
      "cell_type": "markdown",
      "source": [
        "El mejor rendimiento lo obtuvimos realizando un ensamble entre una regresión logística y un SVM utilizando la técnica de Stacking. Los hiperparámetros de cada uno de los modelos se obtuvieron mediante el refinamiento de los mismos."
      ],
      "metadata": {
        "id": "eRELVXWDe7WQ"
      },
      "id": "eRELVXWDe7WQ"
    },
    {
      "cell_type": "code",
      "execution_count": 25,
      "id": "7zBae98jKJMh",
      "metadata": {
        "id": "7zBae98jKJMh"
      },
      "outputs": [],
      "source": [
        "# Definimos la regresión logística\n",
        "start_time_fit = time.time()\n",
        "reg = LogisticRegression(solver='liblinear', class_weight= \"balanced\",\n",
        "                         max_iter= 100, penalty = 'l2', tol = 0.0001, random_state=0)\n",
        "\n",
        "# Se ajusta el modelo\n",
        "reg.fit(Xtv1, ytv1)\n",
        "end_time_fit = time.time()\n",
        "tiempo_fit_reg = end_time_fit - start_time_fit\n",
        "\n",
        "preds_reg_tv = reg.predict_proba(Xtv1)[:, 1]\n",
        "preds_reg_test = reg.predict_proba(Xtest1)[:, 1]"
      ]
    },
    {
      "cell_type": "code",
      "execution_count": 26,
      "id": "XpQiqZn8JlYy",
      "metadata": {
        "id": "XpQiqZn8JlYy"
      },
      "outputs": [],
      "source": [
        "# Definimos el SVM\n",
        "start_time_fit = time.time()\n",
        "svm = SVC(class_weight='balanced', probability=True, C = 0.01, gamma = 0.001, kernel = 'linear', random_state=0)\n",
        "\n",
        "# Se ajusta el modelo\n",
        "svm.fit(Xtv1, ytv1)\n",
        "end_time_fit = time.time()\n",
        "tiempo_fit_svm = end_time_fit - start_time_fit\n",
        "\n",
        "preds_svm_tv = svm.predict_proba(Xtv1)[:, 1]\n",
        "preds_svm_test = svm.predict_proba(Xtest1)[:, 1]\n"
      ]
    },
    {
      "cell_type": "code",
      "execution_count": 27,
      "id": "Q9sFcp1BJlbh",
      "metadata": {
        "id": "Q9sFcp1BJlbh"
      },
      "outputs": [],
      "source": [
        "# Creamos el conjunto de datos para el ensamble\n",
        "stacked_tv = np.column_stack((preds_reg_tv, preds_svm_tv))\n",
        "stacked_test = np.column_stack((preds_reg_test, preds_svm_test))"
      ]
    },
    {
      "cell_type": "code",
      "source": [
        "# Definimos el ensamble\n",
        "start_time = time.time()\n",
        "ensamble1 = LogisticRegression()\n",
        "\n",
        "# Medimos el tiempo de ajuste del ensamble\n",
        "ensamble1.fit(stacked_tv, ytv1)\n",
        "tiempo_fit_ensamble1 = time.time() - start_time\n",
        "\n",
        "# Evaluamos el rendimiento de los modelos con el conjunto de entrenamiento\n",
        "ytv1_pred_reg = cross_val_predict(reg, Xtv1, ytv1, cv=5)\n",
        "recall_tv_reg = recall_score(ytv1, ytv1_pred_reg, average='binary')\n",
        "recall_tv_macro_reg = recall_score(ytv1, ytv1_pred_reg, average='macro')\n",
        "f1_tv_reg = f1_score(ytv1, ytv1_pred_reg, average='binary')\n",
        "\n",
        "\n",
        "ytv1_pred_svm = cross_val_predict(svm, Xtv1, ytv1, cv=5)\n",
        "recall_tv_svm = recall_score(ytv1, ytv1_pred_svm, average='binary')\n",
        "recall_tv_macro_svm = recall_score(ytv1, ytv1_pred_svm, average='macro')\n",
        "f1_tv_svm = f1_score(ytv1, ytv1_pred_svm, average='binary')\n",
        "\n",
        "\n",
        "ytv1_pred_ensamble1 = ensamble1.predict(stacked_tv)\n",
        "recall_tv_ensamble1 = recall_score(ytv1, ytv1_pred_ensamble1, average='binary')\n",
        "recall_tv_macro_ensamble1 = recall_score(ytv1, ytv1_pred_ensamble1, average='macro')\n",
        "f1_tv_ensamble1 = f1_score(ytv1, ytv1_pred_ensamble1, average='binary')\n",
        "\n",
        "cuadro1 = {\n",
        "    'Modelo': ['Regression Logística', 'SVM', 'Ensemble'],\n",
        "    'Recall': [recall_tv_reg, recall_tv_svm, recall_tv_ensamble1],\n",
        "    'Recall Macro': [recall_tv_macro_reg, recall_tv_macro_svm, recall_tv_macro_ensamble1],\n",
        "    'F1 Score': [f1_tv_reg, f1_tv_svm, f1_tv_ensamble1],\n",
        "    'Fit_Time': [tiempo_fit_reg, tiempo_fit_svm, tiempo_fit_ensamble1]\n",
        "}\n",
        "\n",
        "# Creamos un DataFrame para almacenar los resultados\n",
        "cuadro1_df = pd.DataFrame(cuadro1,index=cuadro1[\"Modelo\"])\n",
        "cuadro1_df.drop(columns=['Modelo'], inplace=True)\n",
        "\n",
        "# Ordenamos el DataFrame por la columna F1_Tst de mayor a menor\n",
        "cuadro1_df = cuadro1_df.sort_values(by='F1 Score', ascending=False)\n",
        "\n",
        "# Evaluamos el rendimiento de los modelos con el conjunto de pruebas\n",
        "ytest1_pred_reg = cross_val_predict(reg, Xtest1, ytest1, cv=5)\n",
        "recall_test_reg = recall_score(ytest1, ytest1_pred_reg, average='binary')\n",
        "recall_test_macro_reg = recall_score(ytest1, ytest1_pred_reg, average='macro')\n",
        "f1_test_reg = f1_score(ytest1, ytest1_pred_reg, average='binary')\n",
        "\n",
        "\n",
        "ytest1_pred_svm = cross_val_predict(svm, Xtest1, ytest1, cv=5)\n",
        "recall_test_svm = recall_score(ytest1, ytest1_pred_svm, average='binary')\n",
        "recall_test_macro_svm = recall_score(ytest1, ytest1_pred_svm, average='macro')\n",
        "f1_test_svm = f1_score(ytest1, ytest1_pred_svm, average='binary')\n",
        "\n",
        "\n",
        "ytest1_pred_ensamble1 = ensamble1.predict(stacked_test)\n",
        "recall_test_ensamble1 = recall_score(ytest1, ytest1_pred_ensamble1, average='binary')\n",
        "recall_test_macro_ensamble1 = recall_score(ytest1, ytest1_pred_ensamble1, average='macro')\n",
        "f1_test_ensamble1 = f1_score(ytest1, ytest1_pred_ensamble1, average='binary')\n",
        "\n",
        "cuadro2 = {\n",
        "    'Modelo': ['Regression Logística', 'SVM', 'Ensemble'],\n",
        "    'Recall': [ recall_test_reg, recall_test_svm, recall_test_ensamble1],\n",
        "    'Recall Macro': [ recall_test_macro_reg, recall_test_macro_svm, recall_test_macro_ensamble1],\n",
        "    'F1 Score': [ f1_test_reg, f1_test_svm, f1_test_ensamble1],\n",
        "    'Fit_Time': [tiempo_fit_reg, tiempo_fit_svm, tiempo_fit_ensamble1]\n",
        "}\n",
        "\n",
        "cuadro2_df = pd.DataFrame(cuadro2)\n",
        "\n",
        "# Creamos un DataFrame para almacenar los resultados\n",
        "cuadro2_df = pd.DataFrame(cuadro2,index=cuadro2[\"Modelo\"])\n",
        "cuadro2_df.drop(columns=['Modelo'], inplace=True)\n",
        "\n",
        "# Ordenamos el DataFrame por la columna F1_Tst de mayor a menor\n",
        "cuadro2_df = cuadro2_df.sort_values(by='F1 Score', ascending=False)\n",
        "\n",
        "display_side_by_side([cuadro1_df, cuadro2_df], ['Conjunto de Entrenamiento', 'Conjunto de Pruebas'],\n",
        "                     color='lightblue', axis=0)"
      ],
      "metadata": {
        "colab": {
          "base_uri": "https://localhost:8080/",
          "height": 165
        },
        "id": "C1Hw_RaZqYcW",
        "outputId": "e6ac3f37-093d-40f3-de0a-1460669f4bcd"
      },
      "id": "C1Hw_RaZqYcW",
      "execution_count": 28,
      "outputs": [
        {
          "output_type": "display_data",
          "data": {
            "text/html": [
              "<div style=\"display: inline-block; padding: 10px;\"><h3>Conjunto de Entrenamiento</h3><style type=\"text/css\">\n",
              "#T_ea025_row0_col0, #T_ea025_row0_col1, #T_ea025_row0_col2, #T_ea025_row1_col3 {\n",
              "  background-color: lightblue;\n",
              "}\n",
              "</style>\n",
              "<table id=\"T_ea025\">\n",
              "  <thead>\n",
              "    <tr>\n",
              "      <th class=\"blank level0\" >&nbsp;</th>\n",
              "      <th id=\"T_ea025_level0_col0\" class=\"col_heading level0 col0\" >Recall</th>\n",
              "      <th id=\"T_ea025_level0_col1\" class=\"col_heading level0 col1\" >Recall Macro</th>\n",
              "      <th id=\"T_ea025_level0_col2\" class=\"col_heading level0 col2\" >F1 Score</th>\n",
              "      <th id=\"T_ea025_level0_col3\" class=\"col_heading level0 col3\" >Fit_Time</th>\n",
              "    </tr>\n",
              "  </thead>\n",
              "  <tbody>\n",
              "    <tr>\n",
              "      <th id=\"T_ea025_level0_row0\" class=\"row_heading level0 row0\" >Ensemble</th>\n",
              "      <td id=\"T_ea025_row0_col0\" class=\"data row0 col0\" >0.877828</td>\n",
              "      <td id=\"T_ea025_row0_col1\" class=\"data row0 col1\" >0.641393</td>\n",
              "      <td id=\"T_ea025_row0_col2\" class=\"data row0 col2\" >0.796715</td>\n",
              "      <td id=\"T_ea025_row0_col3\" class=\"data row0 col3\" >0.019802</td>\n",
              "    </tr>\n",
              "    <tr>\n",
              "      <th id=\"T_ea025_level0_row1\" class=\"row_heading level0 row1\" >SVM</th>\n",
              "      <td id=\"T_ea025_row1_col0\" class=\"data row1 col0\" >0.610860</td>\n",
              "      <td id=\"T_ea025_row1_col1\" class=\"data row1 col1\" >0.623612</td>\n",
              "      <td id=\"T_ea025_row1_col2\" class=\"data row1 col2\" >0.675000</td>\n",
              "      <td id=\"T_ea025_row1_col3\" class=\"data row1 col3\" >0.046057</td>\n",
              "    </tr>\n",
              "    <tr>\n",
              "      <th id=\"T_ea025_level0_row2\" class=\"row_heading level0 row2\" >Regression Logística</th>\n",
              "      <td id=\"T_ea025_row2_col0\" class=\"data row2 col0\" >0.588235</td>\n",
              "      <td id=\"T_ea025_row2_col1\" class=\"data row2 col1\" >0.554448</td>\n",
              "      <td id=\"T_ea025_row2_col2\" class=\"data row2 col2\" >0.635697</td>\n",
              "      <td id=\"T_ea025_row2_col3\" class=\"data row2 col3\" >0.014661</td>\n",
              "    </tr>\n",
              "  </tbody>\n",
              "</table>\n",
              "</div><div style=\"display: inline-block; padding: 10px;\"><h3>Conjunto de Pruebas</h3><style type=\"text/css\">\n",
              "#T_03412_row0_col0, #T_03412_row0_col2, #T_03412_row1_col1, #T_03412_row2_col3 {\n",
              "  background-color: lightblue;\n",
              "}\n",
              "</style>\n",
              "<table id=\"T_03412\">\n",
              "  <thead>\n",
              "    <tr>\n",
              "      <th class=\"blank level0\" >&nbsp;</th>\n",
              "      <th id=\"T_03412_level0_col0\" class=\"col_heading level0 col0\" >Recall</th>\n",
              "      <th id=\"T_03412_level0_col1\" class=\"col_heading level0 col1\" >Recall Macro</th>\n",
              "      <th id=\"T_03412_level0_col2\" class=\"col_heading level0 col2\" >F1 Score</th>\n",
              "      <th id=\"T_03412_level0_col3\" class=\"col_heading level0 col3\" >Fit_Time</th>\n",
              "    </tr>\n",
              "  </thead>\n",
              "  <tbody>\n",
              "    <tr>\n",
              "      <th id=\"T_03412_level0_row0\" class=\"row_heading level0 row0\" >Ensemble</th>\n",
              "      <td id=\"T_03412_row0_col0\" class=\"data row0 col0\" >0.791667</td>\n",
              "      <td id=\"T_03412_row0_col1\" class=\"data row0 col1\" >0.538690</td>\n",
              "      <td id=\"T_03412_row0_col2\" class=\"data row0 col2\" >0.716981</td>\n",
              "      <td id=\"T_03412_row0_col3\" class=\"data row0 col3\" >0.019802</td>\n",
              "    </tr>\n",
              "    <tr>\n",
              "      <th id=\"T_03412_level0_row1\" class=\"row_heading level0 row1\" >Regression Logística</th>\n",
              "      <td id=\"T_03412_row1_col0\" class=\"data row1 col0\" >0.666667</td>\n",
              "      <td id=\"T_03412_row1_col1\" class=\"data row1 col1\" >0.547619</td>\n",
              "      <td id=\"T_03412_row1_col2\" class=\"data row1 col2\" >0.666667</td>\n",
              "      <td id=\"T_03412_row1_col3\" class=\"data row1 col3\" >0.014661</td>\n",
              "    </tr>\n",
              "    <tr>\n",
              "      <th id=\"T_03412_level0_row2\" class=\"row_heading level0 row2\" >SVM</th>\n",
              "      <td id=\"T_03412_row2_col0\" class=\"data row2 col0\" >0.666667</td>\n",
              "      <td id=\"T_03412_row2_col1\" class=\"data row2 col1\" >0.511905</td>\n",
              "      <td id=\"T_03412_row2_col2\" class=\"data row2 col2\" >0.653061</td>\n",
              "      <td id=\"T_03412_row2_col3\" class=\"data row2 col3\" >0.046057</td>\n",
              "    </tr>\n",
              "  </tbody>\n",
              "</table>\n",
              "</div>"
            ]
          },
          "metadata": {}
        }
      ]
    },
    {
      "cell_type": "code",
      "execution_count": 30,
      "id": "5056f49c",
      "metadata": {
        "colab": {
          "base_uri": "https://localhost:8080/",
          "height": 607
        },
        "id": "5056f49c",
        "outputId": "81ce1014-5c33-4e67-9646-c3e7f11ec6ff",
        "scrolled": true
      },
      "outputs": [
        {
          "output_type": "display_data",
          "data": {
            "text/plain": [
              "<Figure size 1400x600 with 2 Axes>"
            ],
            "image/png": "[encoded data removed]"
          },
          "metadata": {}
        }
      ],
      "source": [
        "# Generamos las matrices de confusión\n",
        "cm_tv = confusion_matrix(ytv1, ytv1_pred_ensamble1)\n",
        "cm_test = confusion_matrix(ytest1, ytest1_pred_ensamble1)\n",
        "\n",
        "# Creamos DataFrames de las matrices de confusión\n",
        "cm_tv_df = pd.DataFrame(cm_tv, index=[0, 1], columns=[0, 1])\n",
        "cm_test_df = pd.DataFrame(cm_test, index=[0, 1], columns=[0, 1])\n",
        "\n",
        "# Creamos el heatmap usando seaborn\n",
        "plt.figure(figsize=(14, 6))\n",
        "\n",
        "# Heatmap de la matriz de confusión de entrenamiento\n",
        "plt.subplot(1, 2, 1)\n",
        "sns.heatmap(cm_tv_df, annot=True, fmt='d', cmap='Blues', cbar=False)\n",
        "plt.title('Matriz de Confusión - Entrenamiento')\n",
        "plt.xlabel('Predicted')\n",
        "plt.ylabel('Actual')\n",
        "\n",
        "# Heatmap de la matriz de confusión de prueba\n",
        "plt.subplot(1, 2, 2)\n",
        "sns.heatmap(cm_test_df, annot=True, fmt='d', cmap='Blues', cbar=False)\n",
        "plt.title('Matriz de Confusión - Pruebas')\n",
        "plt.xlabel('Predicted')\n",
        "plt.ylabel('Actual')\n",
        "\n",
        "# Finalmente mostramos las gráficas\n",
        "plt.tight_layout()\n",
        "plt.show()"
      ]
    },
    {
      "cell_type": "markdown",
      "source": [
        "## 3. Características relevantes"
      ],
      "metadata": {
        "id": "B3tpZ3rqAF81"
      },
      "id": "B3tpZ3rqAF81"
    },
    {
      "cell_type": "markdown",
      "source": [
        "Ahora, para atender el objetivo principal del proyecto y encontrar las características que guarden una mayor relación con la ansiedad, primero observamos cuál de los dos modelos está aportando una mayor cantidad de información al ensamble.\n"
      ],
      "metadata": {
        "id": "bnIEb3peAKNj"
      },
      "id": "bnIEb3peAKNj"
    },
    {
      "cell_type": "code",
      "source": [
        "# Obtenemos los coeficientes del modelo de ensamble (regresión logística)\n",
        "coef_ensamble = ensamble1.coef_[0]\n",
        "\n",
        "# Normalizamos los coeficientes para que sumen 1\n",
        "importancia_modelos = np.abs(coef_ensamble) / np.sum(np.abs(coef_ensamble))\n",
        "\n",
        "# Creamos un diccionario con la importancia de cada modelo\n",
        "importancia_diccionario = {\n",
        "    'Modelo': ['Regression Logística', 'SVM'],\n",
        "    'Importancia': importancia_modelos\n",
        "}\n",
        "\n",
        "# Convertimos el diccionario en un DataFrame para facilitar la visualización\n",
        "importancia_df = pd.DataFrame(importancia_diccionario)\n",
        "importancia_df.set_index('Modelo', inplace=True)\n",
        "\n",
        "print(importancia_df)"
      ],
      "metadata": {
        "colab": {
          "base_uri": "https://localhost:8080/"
        },
        "id": "WMj9XkgvA0t2",
        "outputId": "ad6beeec-e7d1-4ff1-cb84-bb8385703396"
      },
      "id": "WMj9XkgvA0t2",
      "execution_count": 31,
      "outputs": [
        {
          "output_type": "stream",
          "name": "stdout",
          "text": [
            "                      Importancia\n",
            "Modelo                           \n",
            "Regression Logística     0.853934\n",
            "SVM                      0.146066\n"
          ]
        }
      ]
    },
    {
      "cell_type": "markdown",
      "source": [
        "Observamos que la regresión logística es la que tiene una mayor relevancia dentro del ensamble, por lo que proponemos fijarnos ahora en los coeficientes obtenidos en dicha regresión, ya que, el signo y magnitud del coeficiente de una característica (y manteniendo fijas el resto de variables), indica el cambio en la sintomatología ansiosa con respecto al cambio en dicha característica. Ahora, recordando que al codificar la variable de síntomas ansiosos tenemos 0 y 1 para leve y moderado-grave respectivamente, podríamos interpretar que un coeficiente positivo y mayor de 0.5 indicaría que está ligado a una sintomatología ansiosa mayor. En cambio, un coeficiente negativo y menor a -0.5, indicaría que esa característica está ligada a una sintomatología ansiosa menor."
      ],
      "metadata": {
        "id": "5B8DYA54Bbcd"
      },
      "id": "5B8DYA54Bbcd"
    },
    {
      "cell_type": "code",
      "source": [
        "#ahora vamos a imprimir las 10 características ordenados por el valor de su coeficiente (en valor absoluto)\n",
        "nombres = Xtv1.columns.tolist()\n",
        "\n",
        "coeficientes_reg = reg.coef_[0]\n",
        "coeficientes_caracteristicas_reg = dict(zip(nombres, coeficientes_reg))\n",
        "importantes_reg = sorted(coeficientes_caracteristicas_reg.items(), key=lambda x: abs(x[1]), reverse=True)\n",
        "\n",
        "print(f'Características más importantes de la regresión:\\n')\n",
        "for caracteristica, promedio in importantes_reg[:10]:\n",
        "    print(f'{caracteristica}: {promedio}')"
      ],
      "metadata": {
        "colab": {
          "base_uri": "https://localhost:8080/"
        },
        "id": "MPEA0v6JCUHE",
        "outputId": "7e771b8b-5583-49ac-a23d-a127dcf1ab7c"
      },
      "id": "MPEA0v6JCUHE",
      "execution_count": 32,
      "outputs": [
        {
          "output_type": "stream",
          "name": "stdout",
          "text": [
            "Características más importantes de la regresión:\n",
            "\n",
            "OCUPACIoN_JEFE_FAMILIA_Empleado con calificación manual: -0.8870511555886651\n",
            "OCUPACIoN_JEFE_FAMILIA_Gerente/Propietario empresa mediana: 0.8215260311902899\n",
            "OCUPACIoN_JEFE_FAMILIA_No determinado: 0.7453422349176607\n",
            "RELIGION_Ateo: -0.6532604525212027\n",
            "A3f_DIFICULTAD_CONCENTRACION: -0.5607270015261333\n",
            "OCUPACIoN_JEFE_FAMILIA_Operador de maquinaria: -0.5201028141983737\n",
            "PROVEEDOR_FAMILIAR_Paciente: -0.5178782714670465\n",
            "A3e_SINTO_INUTIL_CULPABLE: 0.49720046844495086\n",
            "ESTADO_civil_Divorciado(a): 0.475007535448503\n",
            "RELIGION_Ninguna: 0.4726924524748304\n"
          ]
        }
      ]
    },
    {
      "cell_type": "markdown",
      "source": [
        "De las 10 características más relevantes para el modelo, observamos que solamente 7 son mayores a 0.5 en términos absolutos. Así, algunas conclusiones son:\n",
        "\n",
        "* Observamos que cuando la ocupación del jefe de familia se refiere a puestos de menor jerarquía (empleado u operador de maquinaria), esto se traduce en una menor ansiedad para los pacientes. Esto podría estar asociado a que, en algunos casos, los trabajadores de bajo salario, al tener menos responsabilidades, pueden tener horarios más flexibles o menos demandantes, permitiéndoles tener más tiempo libre para pasar con la familia, además que, las personas en estratos económicos más bajos. con frecuencia forman parte de comunidades más estrechamente unidas, donde el apoyo social es fuerte, lo que proporciona una amplia red de apoyo emocional. En este contexto, y por el contrario, cuando la ocupación del jefe de familia sugiere mayores responsabilidades, esto impacta de manera negativa en el nivel de ansiedad de los pacientes. Finalmente, cuando la ocupación del jefe de familia fue reportada como \"no determinada\", y dado que el coeficiente es positivo y alto, podría deberse a que, en realidad, no hay un ingreso estable en la familia. La falta de recursos suficientes para cubrir necesidades básicas como vivienda, alimentación, salud y educación puede generar un alto nivel de estrés y ansiedad tanto en el jefe de familia como en sus familiares.\n",
        "\n",
        "* Cuando el proveedor familiar es el propio paciente, esto parece tener un efecto positivo en los niveles de ansiedad. Esto podría deberse a que, al tener una rutina fija en el trabajo, el paciente cuenta con menos tiempo libre para invertir en pensamientos negativos que le generen ansiedad, además de que probablemente, tenga un mayor cansancio por el trabajo y traslados diarios que si no tuviera una actividad fija.\n",
        "\n",
        "* En cuanto a la religión, si el paciente es ateo el coeficiente nos indica una mayor propensión a síntomas ansiosos más altos. Una posible causa puede radicar en el hecho que las personas religiosas pueden utilizar la oración como mecanismos de afrontamiento para cualquier causa que genere estrés y ansiedad. La falta de estas prácticas puede dejar a los ateos sin esta herramienta para encontrar fuerza y consuelo. Además, los ateos pueden enfrentar una mayor incertidumbre existencial ya que las creencias religiosas a menudo proporcionan respuestas a preguntas existenciales sobre el propósito de la vida.\n",
        "\n",
        "* Finalmente, la dificultad de concentración parece tener un efecto positivo en los niveles de ansiedad. La dificultad para concentrarse puede ocasionar una desconexión de todos los factores externos, incluidos aquellos que generan estrés o ansiedad. Además, en algunos trastornos psiquiátricos, las dificultades de concentración pueden estar acompañadas de un estado en que las emociones, incluida la ansiedad, sean menos intensas"
      ],
      "metadata": {
        "id": "hBBzazXOC0jv"
      },
      "id": "hBBzazXOC0jv"
    }
  ],
  "metadata": {
    "colab": {
      "collapsed_sections": [
        "yrLd5hs1LZMY",
        "4oIRZ5ycHAh0",
        "nDfq3k1O-bp6",
        "B3tpZ3rqAF81"
      ],
      "provenance": [],
      "include_colab_link": true
    },
    "kernelspec": {
      "display_name": "Python 3 (ipykernel)",
      "language": "python",
      "name": "python3"
    },
    "language_info": {
      "codemirror_mode": {
        "name": "ipython",
        "version": 3
      },
      "file_extension": ".py",
      "mimetype": "text/x-python",
      "name": "python",
      "nbconvert_exporter": "python",
      "pygments_lexer": "ipython3",
      "version": "3.9.19"
    }
  },
  "nbformat": 4,
  "nbformat_minor": 5
}