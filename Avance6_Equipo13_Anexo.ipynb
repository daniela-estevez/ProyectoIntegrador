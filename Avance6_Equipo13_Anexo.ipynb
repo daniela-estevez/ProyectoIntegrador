{
  "cells": [
    {
      "cell_type": "markdown",
      "metadata": {
        "id": "view-in-github",
        "colab_type": "text"
      },
      "source": [
        "<a href=\"https://colab.research.google.com/github/daniela-estevez/ProyectoIntegrador/blob/main/Avance6_Equipo13_Anexo.ipynb\" target=\"_parent\"><img src=\"https://colab.research.google.com/assets/colab-badge.svg\" alt=\"Open In Colab\"/></a>"
      ]
    },
    {
      "cell_type": "markdown",
      "id": "a9bea28c",
      "metadata": {
        "id": "a9bea28c"
      },
      "source": [
        "<a href=\"https://colab.research.google.com/github/daniela-estevez/ProyectoIntegrador/blob/main/Avance6_Equipo13.ipynb\" target=\"_parent\"><img src=\"https://colab.research.google.com/assets/colab-badge.svg\" alt=\"Open In Colab\"/></a>"
      ]
    },
    {
      "cell_type": "markdown",
      "id": "bnHtyrAJCo3s",
      "metadata": {
        "id": "bnHtyrAJCo3s"
      },
      "source": [
        "# Avance 6. Conclusiones clave\n",
        "\n",
        "## Equipo 13\n",
        "\n",
        "## Alejandro García Hernández A01793812\n",
        "## Daniela Estevez Rodriguez A01793723\n",
        "## Carlos Alberto López Álvarez A01168193"
      ]
    },
    {
      "cell_type": "markdown",
      "id": "HOPH-TEIDF6Z",
      "metadata": {
        "id": "HOPH-TEIDF6Z"
      },
      "source": [
        "## Objetivos\n",
        "\n",
        "En este avance, se busca fundamentar si es viable implementar el modelo, evaluando su adecuación a los criterios de éxito previamente establecidos y considerando los resultados obtenidos durante la etapa de modelado."
      ]
    },
    {
      "cell_type": "markdown",
      "id": "yrLd5hs1LZMY",
      "metadata": {
        "id": "yrLd5hs1LZMY"
      },
      "source": [
        "## 0. Librerías"
      ]
    },
    {
      "cell_type": "code",
      "execution_count": null,
      "id": "FxqiPB_ImQ5b",
      "metadata": {
        "id": "FxqiPB_ImQ5b",
        "outputId": "3ed0d37f-465d-4aa3-f126-ebd56626c5a5"
      },
      "outputs": [
        {
          "data": {
            "application/javascript": [
              "\n",
              "            setTimeout(function() {\n",
              "                var nbb_cell_id = 1;\n",
              "                var nbb_unformatted_code = \"import warnings\\nwarnings.filterwarnings(\\\"ignore\\\")\\nimport time\\n# this will help in making the Python code more structured automatically (good coding practice)\\n%load_ext nb_black\";\n",
              "                var nbb_formatted_code = \"import warnings\\n\\nwarnings.filterwarnings(\\\"ignore\\\")\\nimport time\\n\\n# this will help in making the Python code more structured automatically (good coding practice)\\n%load_ext nb_black\";\n",
              "                var nbb_cells = Jupyter.notebook.get_cells();\n",
              "                for (var i = 0; i < nbb_cells.length; ++i) {\n",
              "                    if (nbb_cells[i].input_prompt_number == nbb_cell_id) {\n",
              "                        if (nbb_cells[i].get_text() == nbb_unformatted_code) {\n",
              "                             nbb_cells[i].set_text(nbb_formatted_code);\n",
              "                        }\n",
              "                        break;\n",
              "                    }\n",
              "                }\n",
              "            }, 500);\n",
              "            "
            ],
            "text/plain": [
              "<IPython.core.display.Javascript object>"
            ]
          },
          "metadata": {},
          "output_type": "display_data"
        }
      ],
      "source": [
        "import warnings\n",
        "\n",
        "warnings.filterwarnings(\"ignore\")\n",
        "import time\n",
        "\n",
        "# this will help in making the Python code more structured automatically (good coding practice)\n",
        "%load_ext nb_black"
      ]
    },
    {
      "cell_type": "code",
      "execution_count": null,
      "id": "584809fc-6ced-4e75-ab2d-42baca19672d",
      "metadata": {
        "id": "584809fc-6ced-4e75-ab2d-42baca19672d",
        "outputId": "e43e03ff-9243-4721-cbc5-705549395b18"
      },
      "outputs": [
        {
          "data": {
            "application/javascript": [
              "\n",
              "            setTimeout(function() {\n",
              "                var nbb_cell_id = 2;\n",
              "                var nbb_unformatted_code = \"# Librer\\u00edas a utilizar para el pre procesamiento.\\n\\nimport pandas as pd\\nimport numpy as np\\nimport seaborn as sns\\nimport matplotlib.pyplot as plt\\nfrom sklearn.preprocessing import OneHotEncoder\\nfrom sklearn.preprocessing import OrdinalEncoder\\nfrom scipy.stats.mstats import winsorize\\nfrom sklearn.preprocessing import LabelEncoder\";\n",
              "                var nbb_formatted_code = \"# Librer\\u00edas a utilizar para el pre procesamiento.\\n\\nimport pandas as pd\\nimport numpy as np\\nimport seaborn as sns\\nimport matplotlib.pyplot as plt\\nfrom sklearn.preprocessing import OneHotEncoder\\nfrom sklearn.preprocessing import OrdinalEncoder\\nfrom scipy.stats.mstats import winsorize\\nfrom sklearn.preprocessing import LabelEncoder\";\n",
              "                var nbb_cells = Jupyter.notebook.get_cells();\n",
              "                for (var i = 0; i < nbb_cells.length; ++i) {\n",
              "                    if (nbb_cells[i].input_prompt_number == nbb_cell_id) {\n",
              "                        if (nbb_cells[i].get_text() == nbb_unformatted_code) {\n",
              "                             nbb_cells[i].set_text(nbb_formatted_code);\n",
              "                        }\n",
              "                        break;\n",
              "                    }\n",
              "                }\n",
              "            }, 500);\n",
              "            "
            ],
            "text/plain": [
              "<IPython.core.display.Javascript object>"
            ]
          },
          "metadata": {},
          "output_type": "display_data"
        }
      ],
      "source": [
        "# Librerías a utilizar para el pre procesamiento.\n",
        "\n",
        "import pandas as pd\n",
        "import numpy as np\n",
        "import seaborn as sns\n",
        "import matplotlib.pyplot as plt\n",
        "from sklearn.preprocessing import OneHotEncoder\n",
        "from sklearn.preprocessing import OrdinalEncoder\n",
        "from scipy.stats.mstats import winsorize\n",
        "from sklearn.preprocessing import LabelEncoder\n"
      ]
    },
    {
      "cell_type": "code",
      "execution_count": null,
      "id": "e0IQnXOlrYOD",
      "metadata": {
        "id": "e0IQnXOlrYOD",
        "outputId": "e1e4e4ee-a92b-4ef7-f785-e78ad9e460b3"
      },
      "outputs": [
        {
          "data": {
            "application/javascript": [
              "\n",
              "            setTimeout(function() {\n",
              "                var nbb_cell_id = 3;\n",
              "                var nbb_unformatted_code = \"# Librer\\u00edas para la secci\\u00f3n de modelos supervisados y ensambles\\nfrom sklearn.linear_model import LogisticRegression\\nfrom sklearn.tree import DecisionTreeClassifier\\nfrom sklearn.model_selection import train_test_split, cross_val_score, RepeatedStratifiedKFold, GridSearchCV, cross_val_predict\\nfrom sklearn.metrics import confusion_matrix,f1_score, accuracy_score, classification_report, recall_score, make_scorer\\nfrom sklearn.ensemble import RandomForestClassifier\\nfrom sklearn.neural_network import MLPClassifier\\nfrom sklearn.neighbors import KNeighborsClassifier\\nfrom sklearn.svm import SVC\\nfrom xgboost import XGBClassifier\\nfrom sklearn.tree import export_graphviz\\nimport graphviz\\nfrom IPython.display import display\\nfrom xgboost import plot_importance\\nfrom sklearn.preprocessing import LabelEncoder\\nfrom sklearn.dummy import DummyClassifier\\n\\nfrom sklearn.ensemble import BaggingClassifier\\n\\nfrom imblearn.under_sampling import RandomUnderSampler, TomekLinks, EditedNearestNeighbours\\nfrom imblearn.over_sampling import RandomOverSampler, SMOTE\\nfrom imblearn.combine import SMOTEENN, SMOTETomek\\nfrom sklearn.ensemble import ExtraTreesClassifier, GradientBoostingClassifier, AdaBoostClassifier\\n\\nfrom IPython.display import display_html\";\n",
              "                var nbb_formatted_code = \"# Librer\\u00edas para la secci\\u00f3n de modelos supervisados y ensambles\\nfrom sklearn.linear_model import LogisticRegression\\nfrom sklearn.tree import DecisionTreeClassifier\\nfrom sklearn.model_selection import (\\n    train_test_split,\\n    cross_val_score,\\n    RepeatedStratifiedKFold,\\n    GridSearchCV,\\n    cross_val_predict,\\n)\\nfrom sklearn.metrics import (\\n    confusion_matrix,\\n    f1_score,\\n    accuracy_score,\\n    classification_report,\\n    recall_score,\\n    make_scorer,\\n)\\nfrom sklearn.ensemble import RandomForestClassifier\\nfrom sklearn.neural_network import MLPClassifier\\nfrom sklearn.neighbors import KNeighborsClassifier\\nfrom sklearn.svm import SVC\\nfrom xgboost import XGBClassifier\\nfrom sklearn.tree import export_graphviz\\nimport graphviz\\nfrom IPython.display import display\\nfrom xgboost import plot_importance\\nfrom sklearn.preprocessing import LabelEncoder\\nfrom sklearn.dummy import DummyClassifier\\n\\nfrom sklearn.ensemble import BaggingClassifier\\n\\nfrom imblearn.under_sampling import (\\n    RandomUnderSampler,\\n    TomekLinks,\\n    EditedNearestNeighbours,\\n)\\nfrom imblearn.over_sampling import RandomOverSampler, SMOTE\\nfrom imblearn.combine import SMOTEENN, SMOTETomek\\nfrom sklearn.ensemble import (\\n    ExtraTreesClassifier,\\n    GradientBoostingClassifier,\\n    AdaBoostClassifier,\\n)\\n\\nfrom IPython.display import display_html\";\n",
              "                var nbb_cells = Jupyter.notebook.get_cells();\n",
              "                for (var i = 0; i < nbb_cells.length; ++i) {\n",
              "                    if (nbb_cells[i].input_prompt_number == nbb_cell_id) {\n",
              "                        if (nbb_cells[i].get_text() == nbb_unformatted_code) {\n",
              "                             nbb_cells[i].set_text(nbb_formatted_code);\n",
              "                        }\n",
              "                        break;\n",
              "                    }\n",
              "                }\n",
              "            }, 500);\n",
              "            "
            ],
            "text/plain": [
              "<IPython.core.display.Javascript object>"
            ]
          },
          "metadata": {},
          "output_type": "display_data"
        }
      ],
      "source": [
        "# Librerías para la sección de modelos supervisados y ensambles\n",
        "from sklearn.linear_model import LogisticRegression\n",
        "from sklearn.tree import DecisionTreeClassifier\n",
        "from sklearn.model_selection import (\n",
        "    train_test_split,\n",
        "    cross_val_score,\n",
        "    RepeatedStratifiedKFold,\n",
        "    GridSearchCV,\n",
        "    cross_val_predict,\n",
        ")\n",
        "from sklearn.metrics import (\n",
        "    confusion_matrix,\n",
        "    f1_score,\n",
        "    accuracy_score,\n",
        "    classification_report,\n",
        "    recall_score,\n",
        "    make_scorer,\n",
        ")\n",
        "from sklearn.ensemble import RandomForestClassifier\n",
        "from sklearn.neural_network import MLPClassifier\n",
        "from sklearn.neighbors import KNeighborsClassifier\n",
        "from sklearn.svm import SVC\n",
        "from xgboost import XGBClassifier\n",
        "from sklearn.tree import export_graphviz\n",
        "import graphviz\n",
        "from IPython.display import display\n",
        "from xgboost import plot_importance\n",
        "from sklearn.preprocessing import LabelEncoder\n",
        "from sklearn.dummy import DummyClassifier\n",
        "\n",
        "from sklearn.ensemble import BaggingClassifier\n",
        "\n",
        "from imblearn.under_sampling import (\n",
        "    RandomUnderSampler,\n",
        "    TomekLinks,\n",
        "    EditedNearestNeighbours,\n",
        ")\n",
        "from imblearn.over_sampling import RandomOverSampler, SMOTE\n",
        "from imblearn.combine import SMOTEENN, SMOTETomek\n",
        "from sklearn.ensemble import (\n",
        "    ExtraTreesClassifier,\n",
        "    GradientBoostingClassifier,\n",
        "    AdaBoostClassifier,\n",
        ")\n",
        "\n",
        "from IPython.display import display_html"
      ]
    },
    {
      "cell_type": "code",
      "execution_count": null,
      "id": "HtYYTTYS5nvS",
      "metadata": {
        "id": "HtYYTTYS5nvS",
        "outputId": "4f69af19-2703-46d0-8099-d6cb88d377f9"
      },
      "outputs": [
        {
          "data": {
            "application/javascript": [
              "\n",
              "            setTimeout(function() {\n",
              "                var nbb_cell_id = 4;\n",
              "                var nbb_unformatted_code = \"# El siguiente bloque se agreg\\u00f3 para poder leer los archivos drive\\n#from google.colab import drive\\n#drive.mount('/content/drive')\\n#%cd /content/drive/MyDrive/Colab Notebooks/Proyecto Integrador\";\n",
              "                var nbb_formatted_code = \"# El siguiente bloque se agreg\\u00f3 para poder leer los archivos drive\\n# from google.colab import drive\\n# drive.mount('/content/drive')\\n#%cd /content/drive/MyDrive/Colab Notebooks/Proyecto Integrador\";\n",
              "                var nbb_cells = Jupyter.notebook.get_cells();\n",
              "                for (var i = 0; i < nbb_cells.length; ++i) {\n",
              "                    if (nbb_cells[i].input_prompt_number == nbb_cell_id) {\n",
              "                        if (nbb_cells[i].get_text() == nbb_unformatted_code) {\n",
              "                             nbb_cells[i].set_text(nbb_formatted_code);\n",
              "                        }\n",
              "                        break;\n",
              "                    }\n",
              "                }\n",
              "            }, 500);\n",
              "            "
            ],
            "text/plain": [
              "<IPython.core.display.Javascript object>"
            ]
          },
          "metadata": {},
          "output_type": "display_data"
        }
      ],
      "source": [
        "# El siguiente bloque se agregó para poder leer los archivos drive\n",
        "# from google.colab import drive\n",
        "# drive.mount('/content/drive')\n",
        "#%cd /content/drive/MyDrive/Colab Notebooks/Proyecto Integrador"
      ]
    },
    {
      "cell_type": "code",
      "execution_count": null,
      "id": "fb3aeaaa",
      "metadata": {
        "id": "fb3aeaaa",
        "outputId": "f1c78d89-d3f0-4bde-ef1f-84abc10f7230"
      },
      "outputs": [
        {
          "data": {
            "application/javascript": [
              "\n",
              "            setTimeout(function() {\n",
              "                var nbb_cell_id = 5;\n",
              "                var nbb_unformatted_code = \"# Funci\\u00f3n para mostrar los DataFrames uno junto al otro con estilos\\ndef display_side_by_side(dfs, captions, color='lightgreen', axis=0):\\n    html_str = ''\\n    for caption, df in zip(captions, dfs):\\n        html_str += '<div style=\\\"display: inline-block; padding: 10px;\\\">'\\n        html_str += f'<h3>{caption}</h3>'\\n        html_str += df.style.highlight_max(color=color, axis=axis).to_html()\\n        html_str += '</div>'\\n    display_html(html_str, raw=True)\";\n",
              "                var nbb_formatted_code = \"# Funci\\u00f3n para mostrar los DataFrames uno junto al otro con estilos\\ndef display_side_by_side(dfs, captions, color=\\\"lightgreen\\\", axis=0):\\n    html_str = \\\"\\\"\\n    for caption, df in zip(captions, dfs):\\n        html_str += '<div style=\\\"display: inline-block; padding: 10px;\\\">'\\n        html_str += f\\\"<h3>{caption}</h3>\\\"\\n        html_str += df.style.highlight_max(color=color, axis=axis).to_html()\\n        html_str += \\\"</div>\\\"\\n    display_html(html_str, raw=True)\";\n",
              "                var nbb_cells = Jupyter.notebook.get_cells();\n",
              "                for (var i = 0; i < nbb_cells.length; ++i) {\n",
              "                    if (nbb_cells[i].input_prompt_number == nbb_cell_id) {\n",
              "                        if (nbb_cells[i].get_text() == nbb_unformatted_code) {\n",
              "                             nbb_cells[i].set_text(nbb_formatted_code);\n",
              "                        }\n",
              "                        break;\n",
              "                    }\n",
              "                }\n",
              "            }, 500);\n",
              "            "
            ],
            "text/plain": [
              "<IPython.core.display.Javascript object>"
            ]
          },
          "metadata": {},
          "output_type": "display_data"
        }
      ],
      "source": [
        "# Función para mostrar los DataFrames uno junto al otro con estilos\n",
        "def display_side_by_side(dfs, captions, color=\"lightgreen\", axis=0):\n",
        "    html_str = \"\"\n",
        "    for caption, df in zip(captions, dfs):\n",
        "        html_str += '<div style=\"display: inline-block; padding: 10px;\">'\n",
        "        html_str += f\"<h3>{caption}</h3>\"\n",
        "        html_str += df.style.highlight_max(color=color, axis=axis).to_html()\n",
        "        html_str += \"</div>\"\n",
        "    display_html(html_str, raw=True)"
      ]
    },
    {
      "cell_type": "markdown",
      "id": "4oIRZ5ycHAh0",
      "metadata": {
        "id": "4oIRZ5ycHAh0"
      },
      "source": [
        "## 1. Preparación de datos"
      ]
    },
    {
      "cell_type": "markdown",
      "id": "rYyJMawgi4wt",
      "metadata": {
        "id": "rYyJMawgi4wt"
      },
      "source": [
        "Se aplica el pre procesamiento de los datos que se ha trabajado en semanas anteriores. Así, obtenemos dos conjuntos de datos para poder trabajar los datos con diferentes modelos. En el primer conjunto las variables ordinales son codificadas con LabelEncoder y en el segundo conjunto se les aplica OHE."
      ]
    },
    {
      "cell_type": "code",
      "execution_count": null,
      "id": "5bef599b-eb4f-4d50-964f-451b7065f29a",
      "metadata": {
        "id": "5bef599b-eb4f-4d50-964f-451b7065f29a",
        "outputId": "03afa5d2-5cdf-4572-f495-0cc717a7d9e4"
      },
      "outputs": [
        {
          "data": {
            "application/javascript": [
              "\n",
              "            setTimeout(function() {\n",
              "                var nbb_cell_id = 6;\n",
              "                var nbb_unformatted_code = \"data = pd.read_csv(\\\"base.csv\\\",sep=\\\",\\\", encoding=\\\"latin1\\\")\\ndf= data.copy()\";\n",
              "                var nbb_formatted_code = \"data = pd.read_csv(\\\"base.csv\\\", sep=\\\",\\\", encoding=\\\"latin1\\\")\\ndf = data.copy()\";\n",
              "                var nbb_cells = Jupyter.notebook.get_cells();\n",
              "                for (var i = 0; i < nbb_cells.length; ++i) {\n",
              "                    if (nbb_cells[i].input_prompt_number == nbb_cell_id) {\n",
              "                        if (nbb_cells[i].get_text() == nbb_unformatted_code) {\n",
              "                             nbb_cells[i].set_text(nbb_formatted_code);\n",
              "                        }\n",
              "                        break;\n",
              "                    }\n",
              "                }\n",
              "            }, 500);\n",
              "            "
            ],
            "text/plain": [
              "<IPython.core.display.Javascript object>"
            ]
          },
          "metadata": {},
          "output_type": "display_data"
        }
      ],
      "source": [
        "data = pd.read_csv(\"base.csv\", sep=\",\", encoding=\"latin1\")\n",
        "df = data.copy()"
      ]
    },
    {
      "cell_type": "code",
      "execution_count": null,
      "id": "esYdsyF6PVJs",
      "metadata": {
        "id": "esYdsyF6PVJs",
        "outputId": "068b6142-e24b-4f4a-a57e-76784d2f4d44"
      },
      "outputs": [
        {
          "data": {
            "application/javascript": [
              "\n",
              "            setTimeout(function() {\n",
              "                var nbb_cell_id = 7;\n",
              "                var nbb_unformatted_code = \"# Eliminamos entonces estas caracter\\u00edsticas\\ndf = df.drop([\\\"Nombre\\\",\\\"residencia\\\",\\\"fecha_nacimiento\\\",\\\"fecha_1er_visita\\\",\\\"FECHA_INICIO_ACTUAL_EPISODIO\\\"], axis=1)\\ndf = df.dropna(axis=1, how='all')\";\n",
              "                var nbb_formatted_code = \"# Eliminamos entonces estas caracter\\u00edsticas\\ndf = df.drop(\\n    [\\n        \\\"Nombre\\\",\\n        \\\"residencia\\\",\\n        \\\"fecha_nacimiento\\\",\\n        \\\"fecha_1er_visita\\\",\\n        \\\"FECHA_INICIO_ACTUAL_EPISODIO\\\",\\n    ],\\n    axis=1,\\n)\\ndf = df.dropna(axis=1, how=\\\"all\\\")\";\n",
              "                var nbb_cells = Jupyter.notebook.get_cells();\n",
              "                for (var i = 0; i < nbb_cells.length; ++i) {\n",
              "                    if (nbb_cells[i].input_prompt_number == nbb_cell_id) {\n",
              "                        if (nbb_cells[i].get_text() == nbb_unformatted_code) {\n",
              "                             nbb_cells[i].set_text(nbb_formatted_code);\n",
              "                        }\n",
              "                        break;\n",
              "                    }\n",
              "                }\n",
              "            }, 500);\n",
              "            "
            ],
            "text/plain": [
              "<IPython.core.display.Javascript object>"
            ]
          },
          "metadata": {},
          "output_type": "display_data"
        }
      ],
      "source": [
        "# Eliminamos entonces estas características\n",
        "df = df.drop(\n",
        "    [\n",
        "        \"Nombre\",\n",
        "        \"residencia\",\n",
        "        \"fecha_nacimiento\",\n",
        "        \"fecha_1er_visita\",\n",
        "        \"FECHA_INICIO_ACTUAL_EPISODIO\",\n",
        "    ],\n",
        "    axis=1,\n",
        ")\n",
        "df = df.dropna(axis=1, how=\"all\")"
      ]
    },
    {
      "cell_type": "code",
      "execution_count": null,
      "id": "aDLQ8X1Tozmn",
      "metadata": {
        "id": "aDLQ8X1Tozmn",
        "outputId": "6fd2ebd2-e9ad-44b1-f165-140f085b18e9"
      },
      "outputs": [
        {
          "data": {
            "application/javascript": [
              "\n",
              "            setTimeout(function() {\n",
              "                var nbb_cell_id = 8;\n",
              "                var nbb_unformatted_code = \"# Calculamos el porcentaje de valores nulos en cada columna\\nnull_percentage = (df.isnull().sum() / len(df)) * 100\\n\\n# Con el sguiente c\\u00f3digo, se crea un DataFrame con los porcentajes de valores nulos\\nnull_df = pd.DataFrame({'Columna': null_percentage.index, 'Porcentaje_Null': null_percentage.values})\\n\\n# Filtramos el DataFrame para mantener solo las columnas donde el porcentaje de valores nulos sea menor al 40%\\ncolumnas_a_mantener = null_df[null_df['Porcentaje_Null'] < 40]['Columna']\\n\\n# Filtramos el DataFrame original para mantener solo las columnas que queremos conservar\\ndf = df[columnas_a_mantener]\";\n",
              "                var nbb_formatted_code = \"# Calculamos el porcentaje de valores nulos en cada columna\\nnull_percentage = (df.isnull().sum() / len(df)) * 100\\n\\n# Con el sguiente c\\u00f3digo, se crea un DataFrame con los porcentajes de valores nulos\\nnull_df = pd.DataFrame(\\n    {\\\"Columna\\\": null_percentage.index, \\\"Porcentaje_Null\\\": null_percentage.values}\\n)\\n\\n# Filtramos el DataFrame para mantener solo las columnas donde el porcentaje de valores nulos sea menor al 40%\\ncolumnas_a_mantener = null_df[null_df[\\\"Porcentaje_Null\\\"] < 40][\\\"Columna\\\"]\\n\\n# Filtramos el DataFrame original para mantener solo las columnas que queremos conservar\\ndf = df[columnas_a_mantener]\";\n",
              "                var nbb_cells = Jupyter.notebook.get_cells();\n",
              "                for (var i = 0; i < nbb_cells.length; ++i) {\n",
              "                    if (nbb_cells[i].input_prompt_number == nbb_cell_id) {\n",
              "                        if (nbb_cells[i].get_text() == nbb_unformatted_code) {\n",
              "                             nbb_cells[i].set_text(nbb_formatted_code);\n",
              "                        }\n",
              "                        break;\n",
              "                    }\n",
              "                }\n",
              "            }, 500);\n",
              "            "
            ],
            "text/plain": [
              "<IPython.core.display.Javascript object>"
            ]
          },
          "metadata": {},
          "output_type": "display_data"
        }
      ],
      "source": [
        "# Calculamos el porcentaje de valores nulos en cada columna\n",
        "null_percentage = (df.isnull().sum() / len(df)) * 100\n",
        "\n",
        "# Con el sguiente código, se crea un DataFrame con los porcentajes de valores nulos\n",
        "null_df = pd.DataFrame(\n",
        "    {\"Columna\": null_percentage.index, \"Porcentaje_Null\": null_percentage.values}\n",
        ")\n",
        "\n",
        "# Filtramos el DataFrame para mantener solo las columnas donde el porcentaje de valores nulos sea menor al 40%\n",
        "columnas_a_mantener = null_df[null_df[\"Porcentaje_Null\"] < 40][\"Columna\"]\n",
        "\n",
        "# Filtramos el DataFrame original para mantener solo las columnas que queremos conservar\n",
        "df = df[columnas_a_mantener]"
      ]
    },
    {
      "cell_type": "code",
      "execution_count": null,
      "id": "MJTeBL1fmCEs",
      "metadata": {
        "id": "MJTeBL1fmCEs",
        "outputId": "ca7198db-ed15-4ef4-b313-4db511e5ae8c"
      },
      "outputs": [
        {
          "data": {
            "application/javascript": [
              "\n",
              "            setTimeout(function() {\n",
              "                var nbb_cell_id = 9;\n",
              "                var nbb_unformatted_code = \"#Primero obtenemos las variables que reportan un solo valor y mostramos sus nombres\\nunique_counts = df.nunique()\\ncolumnas_a_eliminar = unique_counts[unique_counts == 1].index\\ncolumnas_a_eliminar\\ndf = df.drop(columns=columnas_a_eliminar)\";\n",
              "                var nbb_formatted_code = \"# Primero obtenemos las variables que reportan un solo valor y mostramos sus nombres\\nunique_counts = df.nunique()\\ncolumnas_a_eliminar = unique_counts[unique_counts == 1].index\\ncolumnas_a_eliminar\\ndf = df.drop(columns=columnas_a_eliminar)\";\n",
              "                var nbb_cells = Jupyter.notebook.get_cells();\n",
              "                for (var i = 0; i < nbb_cells.length; ++i) {\n",
              "                    if (nbb_cells[i].input_prompt_number == nbb_cell_id) {\n",
              "                        if (nbb_cells[i].get_text() == nbb_unformatted_code) {\n",
              "                             nbb_cells[i].set_text(nbb_formatted_code);\n",
              "                        }\n",
              "                        break;\n",
              "                    }\n",
              "                }\n",
              "            }, 500);\n",
              "            "
            ],
            "text/plain": [
              "<IPython.core.display.Javascript object>"
            ]
          },
          "metadata": {},
          "output_type": "display_data"
        }
      ],
      "source": [
        "# Primero obtenemos las variables que reportan un solo valor y mostramos sus nombres\n",
        "unique_counts = df.nunique()\n",
        "columnas_a_eliminar = unique_counts[unique_counts == 1].index\n",
        "columnas_a_eliminar\n",
        "df = df.drop(columns=columnas_a_eliminar)"
      ]
    },
    {
      "cell_type": "code",
      "execution_count": null,
      "id": "thcVkgNcRmfE",
      "metadata": {
        "colab": {
          "base_uri": "https://localhost:8080/"
        },
        "id": "thcVkgNcRmfE",
        "outputId": "08252242-a3bc-40dc-e115-3d627d4084d4"
      },
      "outputs": [
        {
          "name": "stdout",
          "output_type": "stream",
          "text": [
            "Numero de columnas binarias encontradas: 28\n"
          ]
        },
        {
          "data": {
            "application/javascript": [
              "\n",
              "            setTimeout(function() {\n",
              "                var nbb_cell_id = 10;\n",
              "                var nbb_unformatted_code = \"binary_columns = []\\nfor column in df.columns:\\n    unique_values = df[column].unique()\\n    if len(unique_values) == 2 and all(value in [0, 1] for value in unique_values):\\n        binary_columns.append(column)\\n\\n# N\\u00famero de columnas con solamente 0's o 1's\\nprint(\\\"Numero de columnas binarias encontradas:\\\", len(binary_columns))\";\n",
              "                var nbb_formatted_code = \"binary_columns = []\\nfor column in df.columns:\\n    unique_values = df[column].unique()\\n    if len(unique_values) == 2 and all(value in [0, 1] for value in unique_values):\\n        binary_columns.append(column)\\n\\n# N\\u00famero de columnas con solamente 0's o 1's\\nprint(\\\"Numero de columnas binarias encontradas:\\\", len(binary_columns))\";\n",
              "                var nbb_cells = Jupyter.notebook.get_cells();\n",
              "                for (var i = 0; i < nbb_cells.length; ++i) {\n",
              "                    if (nbb_cells[i].input_prompt_number == nbb_cell_id) {\n",
              "                        if (nbb_cells[i].get_text() == nbb_unformatted_code) {\n",
              "                             nbb_cells[i].set_text(nbb_formatted_code);\n",
              "                        }\n",
              "                        break;\n",
              "                    }\n",
              "                }\n",
              "            }, 500);\n",
              "            "
            ],
            "text/plain": [
              "<IPython.core.display.Javascript object>"
            ]
          },
          "metadata": {},
          "output_type": "display_data"
        }
      ],
      "source": [
        "binary_columns = []\n",
        "for column in df.columns:\n",
        "    unique_values = df[column].unique()\n",
        "    if len(unique_values) == 2 and all(value in [0, 1] for value in unique_values):\n",
        "        binary_columns.append(column)\n",
        "\n",
        "# Número de columnas con solamente 0's o 1's\n",
        "print(\"Numero de columnas binarias encontradas:\", len(binary_columns))"
      ]
    },
    {
      "cell_type": "code",
      "execution_count": null,
      "id": "cXeYMB32SnjY",
      "metadata": {
        "id": "cXeYMB32SnjY",
        "outputId": "cec38295-72c2-4ba5-f6ee-9aa566ecf845"
      },
      "outputs": [
        {
          "data": {
            "application/javascript": [
              "\n",
              "            setTimeout(function() {\n",
              "                var nbb_cell_id = 11;\n",
              "                var nbb_unformatted_code = \"# Actualizamos el tipo de las columnas binarias a booleano usando astype()\\nfor column in binary_columns:\\n    df[column] = df[column].astype(bool)\";\n",
              "                var nbb_formatted_code = \"# Actualizamos el tipo de las columnas binarias a booleano usando astype()\\nfor column in binary_columns:\\n    df[column] = df[column].astype(bool)\";\n",
              "                var nbb_cells = Jupyter.notebook.get_cells();\n",
              "                for (var i = 0; i < nbb_cells.length; ++i) {\n",
              "                    if (nbb_cells[i].input_prompt_number == nbb_cell_id) {\n",
              "                        if (nbb_cells[i].get_text() == nbb_unformatted_code) {\n",
              "                             nbb_cells[i].set_text(nbb_formatted_code);\n",
              "                        }\n",
              "                        break;\n",
              "                    }\n",
              "                }\n",
              "            }, 500);\n",
              "            "
            ],
            "text/plain": [
              "<IPython.core.display.Javascript object>"
            ]
          },
          "metadata": {},
          "output_type": "display_data"
        }
      ],
      "source": [
        "# Actualizamos el tipo de las columnas binarias a booleano usando astype()\n",
        "for column in binary_columns:\n",
        "    df[column] = df[column].astype(bool)"
      ]
    },
    {
      "cell_type": "code",
      "execution_count": null,
      "id": "Sh7ne_k76UWz",
      "metadata": {
        "id": "Sh7ne_k76UWz",
        "outputId": "bef71fa8-b3b0-4fc7-c4c6-bfd64ff3e15b"
      },
      "outputs": [
        {
          "data": {
            "application/javascript": [
              "\n",
              "            setTimeout(function() {\n",
              "                var nbb_cell_id = 12;\n",
              "                var nbb_unformatted_code = \"# Lista de variables que son en realidad categ\\u00f3ricas\\ncat_cols = [\\n    \\\"SEXO\\\",\\n    \\\"CONDICION_ACTUAL\\\",\\n    \\\"ESTADO_civil\\\",\\n    \\\"RELIGION\\\",\\n    \\\"PROVEEDOR_FAMILIAR\\\",\\n    \\\"OCUPACIoN_JEFE_FAMILIA\\\",\\n    \\\"ESCOLARIDAD__JEFE_FAMILIA\\\",\\n    \\\"ESCOLARIDAD_MAXIMA_PX\\\",\\n    \\\"DX_PRIMARIO\\\",\\n    \\\"CODIGO_DX.1\\\",\\n    \\\"TRASTORNO_MAYOR_DIAGNOSTICO\\\",\\n    \\\"Riesgo_suicidio\\\",\\n    \\\"Sintomas_ansiosos\\\",\\n]\\n\\n# Actualizamos el tipo de las columnas categoricas usando astype()\\nfor column in cat_cols:\\n    df[column] = df[column].astype(\\\"category\\\")\";\n",
              "                var nbb_formatted_code = \"# Lista de variables que son en realidad categ\\u00f3ricas\\ncat_cols = [\\n    \\\"SEXO\\\",\\n    \\\"CONDICION_ACTUAL\\\",\\n    \\\"ESTADO_civil\\\",\\n    \\\"RELIGION\\\",\\n    \\\"PROVEEDOR_FAMILIAR\\\",\\n    \\\"OCUPACIoN_JEFE_FAMILIA\\\",\\n    \\\"ESCOLARIDAD__JEFE_FAMILIA\\\",\\n    \\\"ESCOLARIDAD_MAXIMA_PX\\\",\\n    \\\"DX_PRIMARIO\\\",\\n    \\\"CODIGO_DX.1\\\",\\n    \\\"TRASTORNO_MAYOR_DIAGNOSTICO\\\",\\n    \\\"Riesgo_suicidio\\\",\\n    \\\"Sintomas_ansiosos\\\",\\n]\\n\\n# Actualizamos el tipo de las columnas categoricas usando astype()\\nfor column in cat_cols:\\n    df[column] = df[column].astype(\\\"category\\\")\";\n",
              "                var nbb_cells = Jupyter.notebook.get_cells();\n",
              "                for (var i = 0; i < nbb_cells.length; ++i) {\n",
              "                    if (nbb_cells[i].input_prompt_number == nbb_cell_id) {\n",
              "                        if (nbb_cells[i].get_text() == nbb_unformatted_code) {\n",
              "                             nbb_cells[i].set_text(nbb_formatted_code);\n",
              "                        }\n",
              "                        break;\n",
              "                    }\n",
              "                }\n",
              "            }, 500);\n",
              "            "
            ],
            "text/plain": [
              "<IPython.core.display.Javascript object>"
            ]
          },
          "metadata": {},
          "output_type": "display_data"
        }
      ],
      "source": [
        "# Lista de variables que son en realidad categóricas\n",
        "cat_cols = [\n",
        "    \"SEXO\",\n",
        "    \"CONDICION_ACTUAL\",\n",
        "    \"ESTADO_civil\",\n",
        "    \"RELIGION\",\n",
        "    \"PROVEEDOR_FAMILIAR\",\n",
        "    \"OCUPACIoN_JEFE_FAMILIA\",\n",
        "    \"ESCOLARIDAD__JEFE_FAMILIA\",\n",
        "    \"ESCOLARIDAD_MAXIMA_PX\",\n",
        "    \"DX_PRIMARIO\",\n",
        "    \"CODIGO_DX.1\",\n",
        "    \"TRASTORNO_MAYOR_DIAGNOSTICO\",\n",
        "    \"Riesgo_suicidio\",\n",
        "    \"Sintomas_ansiosos\",\n",
        "]\n",
        "\n",
        "# Actualizamos el tipo de las columnas categoricas usando astype()\n",
        "for column in cat_cols:\n",
        "    df[column] = df[column].astype(\"category\")"
      ]
    },
    {
      "cell_type": "code",
      "execution_count": null,
      "id": "LwFz8w-Q89Cj",
      "metadata": {
        "id": "LwFz8w-Q89Cj",
        "outputId": "d5290f27-20d2-42e4-924d-be3de44d3ce6"
      },
      "outputs": [
        {
          "data": {
            "application/javascript": [
              "\n",
              "            setTimeout(function() {\n",
              "                var nbb_cell_id = 13;\n",
              "                var nbb_unformatted_code = \"# Actualizamos el tipo de la columna MENARCA a uno num\\u00e9rico usando astype()\\ndf[\\\"MENARCA\\\"] = df[\\\"MENARCA\\\"].astype(\\\"float64\\\")\";\n",
              "                var nbb_formatted_code = \"# Actualizamos el tipo de la columna MENARCA a uno num\\u00e9rico usando astype()\\ndf[\\\"MENARCA\\\"] = df[\\\"MENARCA\\\"].astype(\\\"float64\\\")\";\n",
              "                var nbb_cells = Jupyter.notebook.get_cells();\n",
              "                for (var i = 0; i < nbb_cells.length; ++i) {\n",
              "                    if (nbb_cells[i].input_prompt_number == nbb_cell_id) {\n",
              "                        if (nbb_cells[i].get_text() == nbb_unformatted_code) {\n",
              "                             nbb_cells[i].set_text(nbb_formatted_code);\n",
              "                        }\n",
              "                        break;\n",
              "                    }\n",
              "                }\n",
              "            }, 500);\n",
              "            "
            ],
            "text/plain": [
              "<IPython.core.display.Javascript object>"
            ]
          },
          "metadata": {},
          "output_type": "display_data"
        }
      ],
      "source": [
        "# Actualizamos el tipo de la columna MENARCA a uno numérico usando astype()\n",
        "df[\"MENARCA\"] = df[\"MENARCA\"].astype(\"float64\")"
      ]
    },
    {
      "cell_type": "code",
      "execution_count": null,
      "id": "NTUrQhJ0yUqB",
      "metadata": {
        "id": "NTUrQhJ0yUqB",
        "outputId": "2e07c5b6-0414-4433-d173-24e795947200"
      },
      "outputs": [
        {
          "data": {
            "application/javascript": [
              "\n",
              "            setTimeout(function() {\n",
              "                var nbb_cell_id = 14;\n",
              "                var nbb_unformatted_code = \"# Sustituir los valores de MENARCA donde SEXO es \\\"M\\\"\\ndf.loc[df['SEXO'] == 'M', 'MENARCA'] = -1\\n\\n# Imputar la moda a las variables num\\u00e9ricas\\nfor columna in df.select_dtypes(include='number').columns:\\n    df[columna] = df[columna].fillna(df[columna].median())\\n\\n# Imputar la moda a las variables booleanas\\nfor columna in df.select_dtypes(include='bool').columns:\\n    moda = df[columna].mode()[0]  # Calcular la moda\\n    df[columna] = df[columna].fillna(moda)\\n\\n# Imputar la moda a las variables alfanum\\u00e9ricas\\nfor columna in df.select_dtypes(include='category').columns:\\n    moda = df[columna].mode()[0]  # Calcular la moda\\n    df[columna] = df[columna].fillna(moda)\";\n",
              "                var nbb_formatted_code = \"# Sustituir los valores de MENARCA donde SEXO es \\\"M\\\"\\ndf.loc[df[\\\"SEXO\\\"] == \\\"M\\\", \\\"MENARCA\\\"] = -1\\n\\n# Imputar la moda a las variables num\\u00e9ricas\\nfor columna in df.select_dtypes(include=\\\"number\\\").columns:\\n    df[columna] = df[columna].fillna(df[columna].median())\\n\\n# Imputar la moda a las variables booleanas\\nfor columna in df.select_dtypes(include=\\\"bool\\\").columns:\\n    moda = df[columna].mode()[0]  # Calcular la moda\\n    df[columna] = df[columna].fillna(moda)\\n\\n# Imputar la moda a las variables alfanum\\u00e9ricas\\nfor columna in df.select_dtypes(include=\\\"category\\\").columns:\\n    moda = df[columna].mode()[0]  # Calcular la moda\\n    df[columna] = df[columna].fillna(moda)\";\n",
              "                var nbb_cells = Jupyter.notebook.get_cells();\n",
              "                for (var i = 0; i < nbb_cells.length; ++i) {\n",
              "                    if (nbb_cells[i].input_prompt_number == nbb_cell_id) {\n",
              "                        if (nbb_cells[i].get_text() == nbb_unformatted_code) {\n",
              "                             nbb_cells[i].set_text(nbb_formatted_code);\n",
              "                        }\n",
              "                        break;\n",
              "                    }\n",
              "                }\n",
              "            }, 500);\n",
              "            "
            ],
            "text/plain": [
              "<IPython.core.display.Javascript object>"
            ]
          },
          "metadata": {},
          "output_type": "display_data"
        }
      ],
      "source": [
        "# Sustituir los valores de MENARCA donde SEXO es \"M\"\n",
        "df.loc[df[\"SEXO\"] == \"M\", \"MENARCA\"] = -1\n",
        "\n",
        "# Imputar la moda a las variables numéricas\n",
        "for columna in df.select_dtypes(include=\"number\").columns:\n",
        "    df[columna] = df[columna].fillna(df[columna].median())\n",
        "\n",
        "# Imputar la moda a las variables booleanas\n",
        "for columna in df.select_dtypes(include=\"bool\").columns:\n",
        "    moda = df[columna].mode()[0]  # Calcular la moda\n",
        "    df[columna] = df[columna].fillna(moda)\n",
        "\n",
        "# Imputar la moda a las variables alfanuméricas\n",
        "for columna in df.select_dtypes(include=\"category\").columns:\n",
        "    moda = df[columna].mode()[0]  # Calcular la moda\n",
        "    df[columna] = df[columna].fillna(moda)"
      ]
    },
    {
      "cell_type": "code",
      "execution_count": null,
      "id": "i-Z1k2A5_HMW",
      "metadata": {
        "id": "i-Z1k2A5_HMW",
        "outputId": "d3d8b41c-414b-4546-a067-b69cfc285ce7"
      },
      "outputs": [
        {
          "data": {
            "application/javascript": [
              "\n",
              "            setTimeout(function() {\n",
              "                var nbb_cell_id = 15;\n",
              "                var nbb_unformatted_code = \"# Lista de variables que son en realidad enteros\\nenteros_cols=[\\\"EDAD_1era_visita\\\",\\\"EDAD_INICIO_1er_EPISODIO\\\",\\\"AnioS_ESTUDIO_PACIENTE\\\",\\\"MENARCA\\\",\\\"INICIO_VIDA_SEXUAL_ACTIVA\\\",\\\"MADRS_TOTAL\\\",\\\"CGI-S.1\\\"]\\n\\n# Actualizamos el tipo de las columnas de enteros usando astype()\\nfor column in enteros_cols:\\n    df[column] = df[column].astype(\\\"int64\\\")\";\n",
              "                var nbb_formatted_code = \"# Lista de variables que son en realidad enteros\\nenteros_cols = [\\n    \\\"EDAD_1era_visita\\\",\\n    \\\"EDAD_INICIO_1er_EPISODIO\\\",\\n    \\\"AnioS_ESTUDIO_PACIENTE\\\",\\n    \\\"MENARCA\\\",\\n    \\\"INICIO_VIDA_SEXUAL_ACTIVA\\\",\\n    \\\"MADRS_TOTAL\\\",\\n    \\\"CGI-S.1\\\",\\n]\\n\\n# Actualizamos el tipo de las columnas de enteros usando astype()\\nfor column in enteros_cols:\\n    df[column] = df[column].astype(\\\"int64\\\")\";\n",
              "                var nbb_cells = Jupyter.notebook.get_cells();\n",
              "                for (var i = 0; i < nbb_cells.length; ++i) {\n",
              "                    if (nbb_cells[i].input_prompt_number == nbb_cell_id) {\n",
              "                        if (nbb_cells[i].get_text() == nbb_unformatted_code) {\n",
              "                             nbb_cells[i].set_text(nbb_formatted_code);\n",
              "                        }\n",
              "                        break;\n",
              "                    }\n",
              "                }\n",
              "            }, 500);\n",
              "            "
            ],
            "text/plain": [
              "<IPython.core.display.Javascript object>"
            ]
          },
          "metadata": {},
          "output_type": "display_data"
        }
      ],
      "source": [
        "# Lista de variables que son en realidad enteros\n",
        "enteros_cols = [\n",
        "    \"EDAD_1era_visita\",\n",
        "    \"EDAD_INICIO_1er_EPISODIO\",\n",
        "    \"AnioS_ESTUDIO_PACIENTE\",\n",
        "    \"MENARCA\",\n",
        "    \"INICIO_VIDA_SEXUAL_ACTIVA\",\n",
        "    \"MADRS_TOTAL\",\n",
        "    \"CGI-S.1\",\n",
        "]\n",
        "\n",
        "# Actualizamos el tipo de las columnas de enteros usando astype()\n",
        "for column in enteros_cols:\n",
        "    df[column] = df[column].astype(\"int64\")"
      ]
    },
    {
      "cell_type": "code",
      "execution_count": null,
      "id": "8hhEnd6h2pzf",
      "metadata": {
        "id": "8hhEnd6h2pzf",
        "outputId": "99006d47-facd-41df-c0ba-7a41a8b55a86"
      },
      "outputs": [
        {
          "data": {
            "application/javascript": [
              "\n",
              "            setTimeout(function() {\n",
              "                var nbb_cell_id = 16;\n",
              "                var nbb_unformatted_code = \"# Eliminamos estas caracter\\u00edsticas\\ndf = df.drop([\\\"EPISODIO_MAYOR_total_vida\\\",\\\"SUICIDALIDAD_ACTUAL\\\",\\\"SUICIDALIDAD_INTENTO_total_vida\\\",\\n              \\\"B1b_INTENCION_DE_MORIR_EN_ACCIDENTE\\\",\\\"B5_PENSO_METODO_SUICIDARSE\\\",\\\"B8_PENSO_FECHA_SUICIDIO\\\",\\n              \\\"B10_INTENCION_SUICIDIO\\\",\\\"B18_INTENTO_SUICIDARSE\\\",\\\"B2_NECESIDAD_DE_ESTAR_MUERTO\\\",\\\"TRASTORNO_MAYOR_PASADO\\\"],\\n             axis=1)\";\n",
              "                var nbb_formatted_code = \"# Eliminamos estas caracter\\u00edsticas\\ndf = df.drop(\\n    [\\n        \\\"EPISODIO_MAYOR_total_vida\\\",\\n        \\\"SUICIDALIDAD_ACTUAL\\\",\\n        \\\"SUICIDALIDAD_INTENTO_total_vida\\\",\\n        \\\"B1b_INTENCION_DE_MORIR_EN_ACCIDENTE\\\",\\n        \\\"B5_PENSO_METODO_SUICIDARSE\\\",\\n        \\\"B8_PENSO_FECHA_SUICIDIO\\\",\\n        \\\"B10_INTENCION_SUICIDIO\\\",\\n        \\\"B18_INTENTO_SUICIDARSE\\\",\\n        \\\"B2_NECESIDAD_DE_ESTAR_MUERTO\\\",\\n        \\\"TRASTORNO_MAYOR_PASADO\\\",\\n    ],\\n    axis=1,\\n)\";\n",
              "                var nbb_cells = Jupyter.notebook.get_cells();\n",
              "                for (var i = 0; i < nbb_cells.length; ++i) {\n",
              "                    if (nbb_cells[i].input_prompt_number == nbb_cell_id) {\n",
              "                        if (nbb_cells[i].get_text() == nbb_unformatted_code) {\n",
              "                             nbb_cells[i].set_text(nbb_formatted_code);\n",
              "                        }\n",
              "                        break;\n",
              "                    }\n",
              "                }\n",
              "            }, 500);\n",
              "            "
            ],
            "text/plain": [
              "<IPython.core.display.Javascript object>"
            ]
          },
          "metadata": {},
          "output_type": "display_data"
        }
      ],
      "source": [
        "# Eliminamos estas características\n",
        "df = df.drop(\n",
        "    [\n",
        "        \"EPISODIO_MAYOR_total_vida\",\n",
        "        \"SUICIDALIDAD_ACTUAL\",\n",
        "        \"SUICIDALIDAD_INTENTO_total_vida\",\n",
        "        \"B1b_INTENCION_DE_MORIR_EN_ACCIDENTE\",\n",
        "        \"B5_PENSO_METODO_SUICIDARSE\",\n",
        "        \"B8_PENSO_FECHA_SUICIDIO\",\n",
        "        \"B10_INTENCION_SUICIDIO\",\n",
        "        \"B18_INTENTO_SUICIDARSE\",\n",
        "        \"B2_NECESIDAD_DE_ESTAR_MUERTO\",\n",
        "        \"TRASTORNO_MAYOR_PASADO\",\n",
        "    ],\n",
        "    axis=1,\n",
        ")"
      ]
    },
    {
      "cell_type": "code",
      "execution_count": null,
      "id": "6ivNtjiUPnqV",
      "metadata": {
        "id": "6ivNtjiUPnqV",
        "outputId": "c20ad6a4-a92c-4bf3-acd7-bb560a6b1424"
      },
      "outputs": [
        {
          "data": {
            "application/javascript": [
              "\n",
              "            setTimeout(function() {\n",
              "                var nbb_cell_id = 17;\n",
              "                var nbb_unformatted_code = \"# Eliminamos estas caracter\\u00edsticas\\ndf = df.drop([\\\"CODIGO_DX.1\\\",\\\"Puntaje_experto\\\"],\\n             axis=1)\";\n",
              "                var nbb_formatted_code = \"# Eliminamos estas caracter\\u00edsticas\\ndf = df.drop([\\\"CODIGO_DX.1\\\", \\\"Puntaje_experto\\\"], axis=1)\";\n",
              "                var nbb_cells = Jupyter.notebook.get_cells();\n",
              "                for (var i = 0; i < nbb_cells.length; ++i) {\n",
              "                    if (nbb_cells[i].input_prompt_number == nbb_cell_id) {\n",
              "                        if (nbb_cells[i].get_text() == nbb_unformatted_code) {\n",
              "                             nbb_cells[i].set_text(nbb_formatted_code);\n",
              "                        }\n",
              "                        break;\n",
              "                    }\n",
              "                }\n",
              "            }, 500);\n",
              "            "
            ],
            "text/plain": [
              "<IPython.core.display.Javascript object>"
            ]
          },
          "metadata": {},
          "output_type": "display_data"
        }
      ],
      "source": [
        "# Eliminamos estas características\n",
        "df = df.drop([\"CODIGO_DX.1\", \"Puntaje_experto\"], axis=1)"
      ]
    },
    {
      "cell_type": "code",
      "execution_count": null,
      "id": "XNERi1gd5zCE",
      "metadata": {
        "id": "XNERi1gd5zCE",
        "outputId": "1081cfb7-c611-46f9-c1b5-a766a210cb19"
      },
      "outputs": [
        {
          "data": {
            "application/javascript": [
              "\n",
              "            setTimeout(function() {\n",
              "                var nbb_cell_id = 18;\n",
              "                var nbb_unformatted_code = \"# Reemplazar el valor 1955 por la mediana\\ndf['EDAD_INICIO_1er_EPISODIO'] = df['EDAD_INICIO_1er_EPISODIO'].replace(1955, df['EDAD_INICIO_1er_EPISODIO'].median())\\n\\n# Reemplazar el valor 1 por la mediana\\ndf['INICIO_VIDA_SEXUAL_ACTIVA'] = df['INICIO_VIDA_SEXUAL_ACTIVA'].replace(1, df['INICIO_VIDA_SEXUAL_ACTIVA'].median())\";\n",
              "                var nbb_formatted_code = \"# Reemplazar el valor 1955 por la mediana\\ndf[\\\"EDAD_INICIO_1er_EPISODIO\\\"] = df[\\\"EDAD_INICIO_1er_EPISODIO\\\"].replace(\\n    1955, df[\\\"EDAD_INICIO_1er_EPISODIO\\\"].median()\\n)\\n\\n# Reemplazar el valor 1 por la mediana\\ndf[\\\"INICIO_VIDA_SEXUAL_ACTIVA\\\"] = df[\\\"INICIO_VIDA_SEXUAL_ACTIVA\\\"].replace(\\n    1, df[\\\"INICIO_VIDA_SEXUAL_ACTIVA\\\"].median()\\n)\";\n",
              "                var nbb_cells = Jupyter.notebook.get_cells();\n",
              "                for (var i = 0; i < nbb_cells.length; ++i) {\n",
              "                    if (nbb_cells[i].input_prompt_number == nbb_cell_id) {\n",
              "                        if (nbb_cells[i].get_text() == nbb_unformatted_code) {\n",
              "                             nbb_cells[i].set_text(nbb_formatted_code);\n",
              "                        }\n",
              "                        break;\n",
              "                    }\n",
              "                }\n",
              "            }, 500);\n",
              "            "
            ],
            "text/plain": [
              "<IPython.core.display.Javascript object>"
            ]
          },
          "metadata": {},
          "output_type": "display_data"
        }
      ],
      "source": [
        "# Reemplazar el valor 1955 por la mediana\n",
        "df[\"EDAD_INICIO_1er_EPISODIO\"] = df[\"EDAD_INICIO_1er_EPISODIO\"].replace(\n",
        "    1955, df[\"EDAD_INICIO_1er_EPISODIO\"].median()\n",
        ")\n",
        "\n",
        "# Reemplazar el valor 1 por la mediana\n",
        "df[\"INICIO_VIDA_SEXUAL_ACTIVA\"] = df[\"INICIO_VIDA_SEXUAL_ACTIVA\"].replace(\n",
        "    1, df[\"INICIO_VIDA_SEXUAL_ACTIVA\"].median()\n",
        ")"
      ]
    },
    {
      "cell_type": "code",
      "execution_count": null,
      "id": "E0shO5sixh2O",
      "metadata": {
        "id": "E0shO5sixh2O",
        "outputId": "878f8c0a-3155-4d75-f326-0e9b46970194"
      },
      "outputs": [
        {
          "data": {
            "application/javascript": [
              "\n",
              "            setTimeout(function() {\n",
              "                var nbb_cell_id = 19;\n",
              "                var nbb_unformatted_code = \"# Realizamos una copia del df para realizar una trasnformaci\\u00f3n\\ndf_T=df.copy()\";\n",
              "                var nbb_formatted_code = \"# Realizamos una copia del df para realizar una trasnformaci\\u00f3n\\ndf_T = df.copy()\";\n",
              "                var nbb_cells = Jupyter.notebook.get_cells();\n",
              "                for (var i = 0; i < nbb_cells.length; ++i) {\n",
              "                    if (nbb_cells[i].input_prompt_number == nbb_cell_id) {\n",
              "                        if (nbb_cells[i].get_text() == nbb_unformatted_code) {\n",
              "                             nbb_cells[i].set_text(nbb_formatted_code);\n",
              "                        }\n",
              "                        break;\n",
              "                    }\n",
              "                }\n",
              "            }, 500);\n",
              "            "
            ],
            "text/plain": [
              "<IPython.core.display.Javascript object>"
            ]
          },
          "metadata": {},
          "output_type": "display_data"
        }
      ],
      "source": [
        "# Realizamos una copia del df para realizar una trasnformación\n",
        "df_T = df.copy()"
      ]
    },
    {
      "cell_type": "markdown",
      "id": "ollbfoh41Bd3",
      "metadata": {
        "id": "ollbfoh41Bd3"
      },
      "source": [
        "**Winsonorización:** Reemplaza los valores atípicos con valores en el percentil p-ésimo o (1 - p)-ésimo para reducir su impacto sin eliminarlos."
      ]
    },
    {
      "cell_type": "code",
      "execution_count": null,
      "id": "qQUCHi2g0zJm",
      "metadata": {
        "id": "qQUCHi2g0zJm",
        "outputId": "e7498cd1-9bca-4928-a44d-3aec3f0fc4fb"
      },
      "outputs": [
        {
          "data": {
            "application/javascript": [
              "\n",
              "            setTimeout(function() {\n",
              "                var nbb_cell_id = 20;\n",
              "                var nbb_unformatted_code = \"# Transformamos las variables usando Winsonorizaci\\u00f3n\\ndf_T['INICIO_VIDA_SEXUAL_ACTIVA_W'] = winsorize(df_T['INICIO_VIDA_SEXUAL_ACTIVA'], limits=(0.05, 0.05))\\ndf_T['DURACION_EPISODIO_MAYOR_ACTUAL_W'] = winsorize(df_T['DURACION_EPISODIO_MAYOR_ACTUAL'], limits=(0.05, 0.05))\";\n",
              "                var nbb_formatted_code = \"# Transformamos las variables usando Winsonorizaci\\u00f3n\\ndf_T[\\\"INICIO_VIDA_SEXUAL_ACTIVA_W\\\"] = winsorize(\\n    df_T[\\\"INICIO_VIDA_SEXUAL_ACTIVA\\\"], limits=(0.05, 0.05)\\n)\\ndf_T[\\\"DURACION_EPISODIO_MAYOR_ACTUAL_W\\\"] = winsorize(\\n    df_T[\\\"DURACION_EPISODIO_MAYOR_ACTUAL\\\"], limits=(0.05, 0.05)\\n)\";\n",
              "                var nbb_cells = Jupyter.notebook.get_cells();\n",
              "                for (var i = 0; i < nbb_cells.length; ++i) {\n",
              "                    if (nbb_cells[i].input_prompt_number == nbb_cell_id) {\n",
              "                        if (nbb_cells[i].get_text() == nbb_unformatted_code) {\n",
              "                             nbb_cells[i].set_text(nbb_formatted_code);\n",
              "                        }\n",
              "                        break;\n",
              "                    }\n",
              "                }\n",
              "            }, 500);\n",
              "            "
            ],
            "text/plain": [
              "<IPython.core.display.Javascript object>"
            ]
          },
          "metadata": {},
          "output_type": "display_data"
        }
      ],
      "source": [
        "# Transformamos las variables usando Winsonorización\n",
        "df_T[\"INICIO_VIDA_SEXUAL_ACTIVA_W\"] = winsorize(\n",
        "    df_T[\"INICIO_VIDA_SEXUAL_ACTIVA\"], limits=(0.05, 0.05)\n",
        ")\n",
        "df_T[\"DURACION_EPISODIO_MAYOR_ACTUAL_W\"] = winsorize(\n",
        "    df_T[\"DURACION_EPISODIO_MAYOR_ACTUAL\"], limits=(0.05, 0.05)\n",
        ")"
      ]
    },
    {
      "cell_type": "code",
      "execution_count": null,
      "id": "3B5IIskH2EJ8",
      "metadata": {
        "id": "3B5IIskH2EJ8",
        "outputId": "fc405a72-aeef-40d0-fec5-dcce0e42c822"
      },
      "outputs": [
        {
          "data": {
            "application/javascript": [
              "\n",
              "            setTimeout(function() {\n",
              "                var nbb_cell_id = 21;\n",
              "                var nbb_unformatted_code = \"# Eliminamos estas caracter\\u00edsticas originales\\ndf_T = df_T.drop([\\\"INICIO_VIDA_SEXUAL_ACTIVA\\\",\\\"DURACION_EPISODIO_MAYOR_ACTUAL\\\"],\\n             axis=1)\";\n",
              "                var nbb_formatted_code = \"# Eliminamos estas caracter\\u00edsticas originales\\ndf_T = df_T.drop(\\n    [\\\"INICIO_VIDA_SEXUAL_ACTIVA\\\", \\\"DURACION_EPISODIO_MAYOR_ACTUAL\\\"], axis=1\\n)\";\n",
              "                var nbb_cells = Jupyter.notebook.get_cells();\n",
              "                for (var i = 0; i < nbb_cells.length; ++i) {\n",
              "                    if (nbb_cells[i].input_prompt_number == nbb_cell_id) {\n",
              "                        if (nbb_cells[i].get_text() == nbb_unformatted_code) {\n",
              "                             nbb_cells[i].set_text(nbb_formatted_code);\n",
              "                        }\n",
              "                        break;\n",
              "                    }\n",
              "                }\n",
              "            }, 500);\n",
              "            "
            ],
            "text/plain": [
              "<IPython.core.display.Javascript object>"
            ]
          },
          "metadata": {},
          "output_type": "display_data"
        }
      ],
      "source": [
        "# Eliminamos estas características originales\n",
        "df_T = df_T.drop(\n",
        "    [\"INICIO_VIDA_SEXUAL_ACTIVA\", \"DURACION_EPISODIO_MAYOR_ACTUAL\"], axis=1\n",
        ")"
      ]
    },
    {
      "cell_type": "code",
      "execution_count": null,
      "id": "U7psvMyVncZ8",
      "metadata": {
        "id": "U7psvMyVncZ8",
        "outputId": "2a987c8e-62b1-4c02-f639-d7588da18ff6"
      },
      "outputs": [
        {
          "data": {
            "application/javascript": [
              "\n",
              "            setTimeout(function() {\n",
              "                var nbb_cell_id = 22;\n",
              "                var nbb_unformatted_code = \"# Hacemos listas de las variables ordinales\\ncat_orginales= ['ESCOLARIDAD__JEFE_FAMILIA', 'ESCOLARIDAD_MAXIMA_PX', 'DX_PRIMARIO','TRASTORNO_MAYOR_DIAGNOSTICO',\\n                'Riesgo_suicidio','Sintomas_ansiosos']\";\n",
              "                var nbb_formatted_code = \"# Hacemos listas de las variables ordinales\\ncat_orginales = [\\n    \\\"ESCOLARIDAD__JEFE_FAMILIA\\\",\\n    \\\"ESCOLARIDAD_MAXIMA_PX\\\",\\n    \\\"DX_PRIMARIO\\\",\\n    \\\"TRASTORNO_MAYOR_DIAGNOSTICO\\\",\\n    \\\"Riesgo_suicidio\\\",\\n    \\\"Sintomas_ansiosos\\\",\\n]\";\n",
              "                var nbb_cells = Jupyter.notebook.get_cells();\n",
              "                for (var i = 0; i < nbb_cells.length; ++i) {\n",
              "                    if (nbb_cells[i].input_prompt_number == nbb_cell_id) {\n",
              "                        if (nbb_cells[i].get_text() == nbb_unformatted_code) {\n",
              "                             nbb_cells[i].set_text(nbb_formatted_code);\n",
              "                        }\n",
              "                        break;\n",
              "                    }\n",
              "                }\n",
              "            }, 500);\n",
              "            "
            ],
            "text/plain": [
              "<IPython.core.display.Javascript object>"
            ]
          },
          "metadata": {},
          "output_type": "display_data"
        }
      ],
      "source": [
        "# Hacemos listas de las variables ordinales\n",
        "cat_orginales = [\n",
        "    \"ESCOLARIDAD__JEFE_FAMILIA\",\n",
        "    \"ESCOLARIDAD_MAXIMA_PX\",\n",
        "    \"DX_PRIMARIO\",\n",
        "    \"TRASTORNO_MAYOR_DIAGNOSTICO\",\n",
        "    \"Riesgo_suicidio\",\n",
        "    \"Sintomas_ansiosos\",\n",
        "]"
      ]
    },
    {
      "cell_type": "code",
      "execution_count": null,
      "id": "n4PyV3p9FmBR",
      "metadata": {
        "id": "n4PyV3p9FmBR",
        "outputId": "e6f00b2e-14d9-43a2-e68e-c2ee01fbfebe"
      },
      "outputs": [
        {
          "data": {
            "application/javascript": [
              "\n",
              "            setTimeout(function() {\n",
              "                var nbb_cell_id = 23;\n",
              "                var nbb_unformatted_code = \"# Creamos una copia del dataframe\\ndf_TC=df_T.copy()\";\n",
              "                var nbb_formatted_code = \"# Creamos una copia del dataframe\\ndf_TC = df_T.copy()\";\n",
              "                var nbb_cells = Jupyter.notebook.get_cells();\n",
              "                for (var i = 0; i < nbb_cells.length; ++i) {\n",
              "                    if (nbb_cells[i].input_prompt_number == nbb_cell_id) {\n",
              "                        if (nbb_cells[i].get_text() == nbb_unformatted_code) {\n",
              "                             nbb_cells[i].set_text(nbb_formatted_code);\n",
              "                        }\n",
              "                        break;\n",
              "                    }\n",
              "                }\n",
              "            }, 500);\n",
              "            "
            ],
            "text/plain": [
              "<IPython.core.display.Javascript object>"
            ]
          },
          "metadata": {},
          "output_type": "display_data"
        }
      ],
      "source": [
        "# Creamos una copia del dataframe\n",
        "df_TC = df_T.copy()"
      ]
    },
    {
      "cell_type": "code",
      "execution_count": null,
      "id": "fF7ve2zfCYHG",
      "metadata": {
        "id": "fF7ve2zfCYHG",
        "outputId": "e00d7edf-cbae-4066-daa3-f76b08a4ae5b"
      },
      "outputs": [
        {
          "data": {
            "application/javascript": [
              "\n",
              "            setTimeout(function() {\n",
              "                var nbb_cell_id = 24;\n",
              "                var nbb_unformatted_code = \"# Crear el encoder ordinal\\nencoder_1 = OrdinalEncoder(categories=[[\\\"Menos de 6 a\\u00f1os\\\", \\\"Primaria\\\", \\\"Secundaria\\\", \\\"Preparatoria\\\",\\n                                     \\\"Estudios universitarios no terminados\\\", \\\"Licenciatura\\\", \\\"Posgrado\\\"]], dtype=int)\\nencoder_2 = OrdinalEncoder(categories=[[\\\"Distimia\\\",\\\"Trastorno depresivo episodio \\u00fanico \\\",\\n                                        \\\"Trastorno depresivo mayor recidivante\\\"]], dtype=int)\\nencoder_3 = OrdinalEncoder(categories=[[\\\"0\\\",\\\"TRASTORNO DEPRESIVO MAYOR\\\",\\\"TRASTORNO DEPRESIVO MAYOR EPISODIO UNICO O PRIMER EPISODIO\\\",\\n                                        \\\"TRASTORNO DEPRESIVO MAYOR RECURRENTE O RECIDIVANTE\\\",\\n                                        \\\"TRASTORNO DEPRESIVO MAYOR RECURRENTE RESISTENTE O SEVERO\\\"]], dtype=int)\\nencoder_4 = OrdinalEncoder(categories=[[\\\"Leve\\\",\\\"Moderado\\\",\\\"Alto\\\"]], dtype=int)\\nencoder_5 = OrdinalEncoder(categories=[[\\\"Leve\\\",\\\"Moderado-Grave\\\"]], dtype=int)\\nencoder_6 = OrdinalEncoder(categories=[[\\\"Primera aparici\\u00f3n sin antecedente\\\",\\\"Indistinguible del pasado\\\",\\n                                        \\\"Recurrencia condici\\u00f3n previa\\\",\\n                                        \\\"Significativamente diferente de condici\\u00f3n previa\\\",\\n                                        \\\"Exageraci\\u00f3n de trastorno cr\\u00f3nico\\\"]], dtype=int)\\n\\n# Ajustar y transformar los datos\\ndf_TC['ESCOLARIDAD__JEFE_FAMILIA_encoded'] = encoder_1.fit_transform(df_TC[['ESCOLARIDAD__JEFE_FAMILIA']])\\ndf_TC['ESCOLARIDAD_MAXIMA_PX_encoded'] = encoder_1.fit_transform(df_TC[['ESCOLARIDAD_MAXIMA_PX']])\\ndf_TC['DX_PRIMARIO_encoded'] = encoder_2.fit_transform(df_TC[['DX_PRIMARIO']])\\ndf_TC['TRASTORNO_MAYOR_DIAGNOSTICO_encoded'] = encoder_3.fit_transform(df_TC[['TRASTORNO_MAYOR_DIAGNOSTICO']])\\ndf_TC['Riesgo_suicidio_encoded'] = encoder_4.fit_transform(df_TC[['Riesgo_suicidio']])\\ndf_TC['Sintomas_ansiosos_encoded'] = encoder_5.fit_transform(df_TC[['Sintomas_ansiosos']])\\ndf_TC['CONDICION_ACTUAL_encoded'] = encoder_6.fit_transform(df_TC[['CONDICION_ACTUAL']])\";\n",
              "                var nbb_formatted_code = \"# Crear el encoder ordinal\\nencoder_1 = OrdinalEncoder(\\n    categories=[\\n        [\\n            \\\"Menos de 6 a\\u00f1os\\\",\\n            \\\"Primaria\\\",\\n            \\\"Secundaria\\\",\\n            \\\"Preparatoria\\\",\\n            \\\"Estudios universitarios no terminados\\\",\\n            \\\"Licenciatura\\\",\\n            \\\"Posgrado\\\",\\n        ]\\n    ],\\n    dtype=int,\\n)\\nencoder_2 = OrdinalEncoder(\\n    categories=[\\n        [\\n            \\\"Distimia\\\",\\n            \\\"Trastorno depresivo episodio \\u00fanico \\\",\\n            \\\"Trastorno depresivo mayor recidivante\\\",\\n        ]\\n    ],\\n    dtype=int,\\n)\\nencoder_3 = OrdinalEncoder(\\n    categories=[\\n        [\\n            \\\"0\\\",\\n            \\\"TRASTORNO DEPRESIVO MAYOR\\\",\\n            \\\"TRASTORNO DEPRESIVO MAYOR EPISODIO UNICO O PRIMER EPISODIO\\\",\\n            \\\"TRASTORNO DEPRESIVO MAYOR RECURRENTE O RECIDIVANTE\\\",\\n            \\\"TRASTORNO DEPRESIVO MAYOR RECURRENTE RESISTENTE O SEVERO\\\",\\n        ]\\n    ],\\n    dtype=int,\\n)\\nencoder_4 = OrdinalEncoder(categories=[[\\\"Leve\\\", \\\"Moderado\\\", \\\"Alto\\\"]], dtype=int)\\nencoder_5 = OrdinalEncoder(categories=[[\\\"Leve\\\", \\\"Moderado-Grave\\\"]], dtype=int)\\nencoder_6 = OrdinalEncoder(\\n    categories=[\\n        [\\n            \\\"Primera aparici\\u00f3n sin antecedente\\\",\\n            \\\"Indistinguible del pasado\\\",\\n            \\\"Recurrencia condici\\u00f3n previa\\\",\\n            \\\"Significativamente diferente de condici\\u00f3n previa\\\",\\n            \\\"Exageraci\\u00f3n de trastorno cr\\u00f3nico\\\",\\n        ]\\n    ],\\n    dtype=int,\\n)\\n\\n# Ajustar y transformar los datos\\ndf_TC[\\\"ESCOLARIDAD__JEFE_FAMILIA_encoded\\\"] = encoder_1.fit_transform(\\n    df_TC[[\\\"ESCOLARIDAD__JEFE_FAMILIA\\\"]]\\n)\\ndf_TC[\\\"ESCOLARIDAD_MAXIMA_PX_encoded\\\"] = encoder_1.fit_transform(\\n    df_TC[[\\\"ESCOLARIDAD_MAXIMA_PX\\\"]]\\n)\\ndf_TC[\\\"DX_PRIMARIO_encoded\\\"] = encoder_2.fit_transform(df_TC[[\\\"DX_PRIMARIO\\\"]])\\ndf_TC[\\\"TRASTORNO_MAYOR_DIAGNOSTICO_encoded\\\"] = encoder_3.fit_transform(\\n    df_TC[[\\\"TRASTORNO_MAYOR_DIAGNOSTICO\\\"]]\\n)\\ndf_TC[\\\"Riesgo_suicidio_encoded\\\"] = encoder_4.fit_transform(df_TC[[\\\"Riesgo_suicidio\\\"]])\\ndf_TC[\\\"Sintomas_ansiosos_encoded\\\"] = encoder_5.fit_transform(\\n    df_TC[[\\\"Sintomas_ansiosos\\\"]]\\n)\\ndf_TC[\\\"CONDICION_ACTUAL_encoded\\\"] = encoder_6.fit_transform(df_TC[[\\\"CONDICION_ACTUAL\\\"]])\";\n",
              "                var nbb_cells = Jupyter.notebook.get_cells();\n",
              "                for (var i = 0; i < nbb_cells.length; ++i) {\n",
              "                    if (nbb_cells[i].input_prompt_number == nbb_cell_id) {\n",
              "                        if (nbb_cells[i].get_text() == nbb_unformatted_code) {\n",
              "                             nbb_cells[i].set_text(nbb_formatted_code);\n",
              "                        }\n",
              "                        break;\n",
              "                    }\n",
              "                }\n",
              "            }, 500);\n",
              "            "
            ],
            "text/plain": [
              "<IPython.core.display.Javascript object>"
            ]
          },
          "metadata": {},
          "output_type": "display_data"
        }
      ],
      "source": [
        "# Crear el encoder ordinal\n",
        "encoder_1 = OrdinalEncoder(\n",
        "    categories=[\n",
        "        [\n",
        "            \"Menos de 6 años\",\n",
        "            \"Primaria\",\n",
        "            \"Secundaria\",\n",
        "            \"Preparatoria\",\n",
        "            \"Estudios universitarios no terminados\",\n",
        "            \"Licenciatura\",\n",
        "            \"Posgrado\",\n",
        "        ]\n",
        "    ],\n",
        "    dtype=int,\n",
        ")\n",
        "encoder_2 = OrdinalEncoder(\n",
        "    categories=[\n",
        "        [\n",
        "            \"Distimia\",\n",
        "            \"Trastorno depresivo episodio único \",\n",
        "            \"Trastorno depresivo mayor recidivante\",\n",
        "        ]\n",
        "    ],\n",
        "    dtype=int,\n",
        ")\n",
        "encoder_3 = OrdinalEncoder(\n",
        "    categories=[\n",
        "        [\n",
        "            \"0\",\n",
        "            \"TRASTORNO DEPRESIVO MAYOR\",\n",
        "            \"TRASTORNO DEPRESIVO MAYOR EPISODIO UNICO O PRIMER EPISODIO\",\n",
        "            \"TRASTORNO DEPRESIVO MAYOR RECURRENTE O RECIDIVANTE\",\n",
        "            \"TRASTORNO DEPRESIVO MAYOR RECURRENTE RESISTENTE O SEVERO\",\n",
        "        ]\n",
        "    ],\n",
        "    dtype=int,\n",
        ")\n",
        "encoder_4 = OrdinalEncoder(categories=[[\"Leve\", \"Moderado\", \"Alto\"]], dtype=int)\n",
        "encoder_5 = OrdinalEncoder(categories=[[\"Leve\", \"Moderado-Grave\"]], dtype=int)\n",
        "encoder_6 = OrdinalEncoder(\n",
        "    categories=[\n",
        "        [\n",
        "            \"Primera aparición sin antecedente\",\n",
        "            \"Indistinguible del pasado\",\n",
        "            \"Recurrencia condición previa\",\n",
        "            \"Significativamente diferente de condición previa\",\n",
        "            \"Exageración de trastorno crónico\",\n",
        "        ]\n",
        "    ],\n",
        "    dtype=int,\n",
        ")\n",
        "\n",
        "# Ajustar y transformar los datos\n",
        "df_TC[\"ESCOLARIDAD__JEFE_FAMILIA_encoded\"] = encoder_1.fit_transform(\n",
        "    df_TC[[\"ESCOLARIDAD__JEFE_FAMILIA\"]]\n",
        ")\n",
        "df_TC[\"ESCOLARIDAD_MAXIMA_PX_encoded\"] = encoder_1.fit_transform(\n",
        "    df_TC[[\"ESCOLARIDAD_MAXIMA_PX\"]]\n",
        ")\n",
        "df_TC[\"DX_PRIMARIO_encoded\"] = encoder_2.fit_transform(df_TC[[\"DX_PRIMARIO\"]])\n",
        "df_TC[\"TRASTORNO_MAYOR_DIAGNOSTICO_encoded\"] = encoder_3.fit_transform(\n",
        "    df_TC[[\"TRASTORNO_MAYOR_DIAGNOSTICO\"]]\n",
        ")\n",
        "df_TC[\"Riesgo_suicidio_encoded\"] = encoder_4.fit_transform(df_TC[[\"Riesgo_suicidio\"]])\n",
        "df_TC[\"Sintomas_ansiosos_encoded\"] = encoder_5.fit_transform(\n",
        "    df_TC[[\"Sintomas_ansiosos\"]]\n",
        ")\n",
        "df_TC[\"CONDICION_ACTUAL_encoded\"] = encoder_6.fit_transform(df_TC[[\"CONDICION_ACTUAL\"]])"
      ]
    },
    {
      "cell_type": "code",
      "execution_count": null,
      "id": "D2-XKzz-DKuI",
      "metadata": {
        "id": "D2-XKzz-DKuI",
        "outputId": "c0afb28c-3ad7-421e-fa6a-f8160bfc3501"
      },
      "outputs": [
        {
          "data": {
            "application/javascript": [
              "\n",
              "            setTimeout(function() {\n",
              "                var nbb_cell_id = 25;\n",
              "                var nbb_unformatted_code = \"# Eliminamos estas caracter\\u00edsticas originales\\ndf_TC = df_TC.drop([\\\"ESCOLARIDAD__JEFE_FAMILIA\\\",\\\"ESCOLARIDAD_MAXIMA_PX\\\",\\\"DX_PRIMARIO\\\",\\\"TRASTORNO_MAYOR_DIAGNOSTICO\\\",\\n                \\\"Riesgo_suicidio\\\",\\\"Sintomas_ansiosos\\\",\\\"CONDICION_ACTUAL\\\"],\\n             axis=1)\";\n",
              "                var nbb_formatted_code = \"# Eliminamos estas caracter\\u00edsticas originales\\ndf_TC = df_TC.drop(\\n    [\\n        \\\"ESCOLARIDAD__JEFE_FAMILIA\\\",\\n        \\\"ESCOLARIDAD_MAXIMA_PX\\\",\\n        \\\"DX_PRIMARIO\\\",\\n        \\\"TRASTORNO_MAYOR_DIAGNOSTICO\\\",\\n        \\\"Riesgo_suicidio\\\",\\n        \\\"Sintomas_ansiosos\\\",\\n        \\\"CONDICION_ACTUAL\\\",\\n    ],\\n    axis=1,\\n)\";\n",
              "                var nbb_cells = Jupyter.notebook.get_cells();\n",
              "                for (var i = 0; i < nbb_cells.length; ++i) {\n",
              "                    if (nbb_cells[i].input_prompt_number == nbb_cell_id) {\n",
              "                        if (nbb_cells[i].get_text() == nbb_unformatted_code) {\n",
              "                             nbb_cells[i].set_text(nbb_formatted_code);\n",
              "                        }\n",
              "                        break;\n",
              "                    }\n",
              "                }\n",
              "            }, 500);\n",
              "            "
            ],
            "text/plain": [
              "<IPython.core.display.Javascript object>"
            ]
          },
          "metadata": {},
          "output_type": "display_data"
        }
      ],
      "source": [
        "# Eliminamos estas características originales\n",
        "df_TC = df_TC.drop(\n",
        "    [\n",
        "        \"ESCOLARIDAD__JEFE_FAMILIA\",\n",
        "        \"ESCOLARIDAD_MAXIMA_PX\",\n",
        "        \"DX_PRIMARIO\",\n",
        "        \"TRASTORNO_MAYOR_DIAGNOSTICO\",\n",
        "        \"Riesgo_suicidio\",\n",
        "        \"Sintomas_ansiosos\",\n",
        "        \"CONDICION_ACTUAL\",\n",
        "    ],\n",
        "    axis=1,\n",
        ")"
      ]
    },
    {
      "cell_type": "code",
      "execution_count": null,
      "id": "73NCIXxVJ17m",
      "metadata": {
        "id": "73NCIXxVJ17m",
        "outputId": "2a1a93b3-85c7-4e6b-8e86-cb8823aac72a"
      },
      "outputs": [
        {
          "data": {
            "application/javascript": [
              "\n",
              "            setTimeout(function() {\n",
              "                var nbb_cell_id = 26;\n",
              "                var nbb_unformatted_code = \"# Hacemos listas de las variables no ordinales\\ncat_no_orginales= ['SEXO', 'ESTADO_civil', 'RELIGION','PROVEEDOR_FAMILIAR', 'OCUPACIoN_JEFE_FAMILIA']\";\n",
              "                var nbb_formatted_code = \"# Hacemos listas de las variables no ordinales\\ncat_no_orginales = [\\n    \\\"SEXO\\\",\\n    \\\"ESTADO_civil\\\",\\n    \\\"RELIGION\\\",\\n    \\\"PROVEEDOR_FAMILIAR\\\",\\n    \\\"OCUPACIoN_JEFE_FAMILIA\\\",\\n]\";\n",
              "                var nbb_cells = Jupyter.notebook.get_cells();\n",
              "                for (var i = 0; i < nbb_cells.length; ++i) {\n",
              "                    if (nbb_cells[i].input_prompt_number == nbb_cell_id) {\n",
              "                        if (nbb_cells[i].get_text() == nbb_unformatted_code) {\n",
              "                             nbb_cells[i].set_text(nbb_formatted_code);\n",
              "                        }\n",
              "                        break;\n",
              "                    }\n",
              "                }\n",
              "            }, 500);\n",
              "            "
            ],
            "text/plain": [
              "<IPython.core.display.Javascript object>"
            ]
          },
          "metadata": {},
          "output_type": "display_data"
        }
      ],
      "source": [
        "# Hacemos listas de las variables no ordinales\n",
        "cat_no_orginales = [\n",
        "    \"SEXO\",\n",
        "    \"ESTADO_civil\",\n",
        "    \"RELIGION\",\n",
        "    \"PROVEEDOR_FAMILIAR\",\n",
        "    \"OCUPACIoN_JEFE_FAMILIA\",\n",
        "]"
      ]
    },
    {
      "cell_type": "code",
      "execution_count": null,
      "id": "oH_Ynl1uKwNm",
      "metadata": {
        "id": "oH_Ynl1uKwNm",
        "outputId": "dfa67cd9-68d7-4365-faf4-278aaa6ee537"
      },
      "outputs": [
        {
          "data": {
            "application/javascript": [
              "\n",
              "            setTimeout(function() {\n",
              "                var nbb_cell_id = 27;\n",
              "                var nbb_unformatted_code = \"# Creamos una copia del ultimo dataframe\\ndf_TCL=df_TC.copy()\";\n",
              "                var nbb_formatted_code = \"# Creamos una copia del ultimo dataframe\\ndf_TCL = df_TC.copy()\";\n",
              "                var nbb_cells = Jupyter.notebook.get_cells();\n",
              "                for (var i = 0; i < nbb_cells.length; ++i) {\n",
              "                    if (nbb_cells[i].input_prompt_number == nbb_cell_id) {\n",
              "                        if (nbb_cells[i].get_text() == nbb_unformatted_code) {\n",
              "                             nbb_cells[i].set_text(nbb_formatted_code);\n",
              "                        }\n",
              "                        break;\n",
              "                    }\n",
              "                }\n",
              "            }, 500);\n",
              "            "
            ],
            "text/plain": [
              "<IPython.core.display.Javascript object>"
            ]
          },
          "metadata": {},
          "output_type": "display_data"
        }
      ],
      "source": [
        "# Creamos una copia del ultimo dataframe\n",
        "df_TCL = df_TC.copy()"
      ]
    },
    {
      "cell_type": "code",
      "execution_count": null,
      "id": "wq4GGnTPJ-2O",
      "metadata": {
        "id": "wq4GGnTPJ-2O",
        "outputId": "eb2c37e7-f863-4f63-f279-cb15b3c68789"
      },
      "outputs": [
        {
          "data": {
            "application/javascript": [
              "\n",
              "            setTimeout(function() {\n",
              "                var nbb_cell_id = 28;\n",
              "                var nbb_unformatted_code = \"# Inicializar el LabelEncoder\\nencoder = LabelEncoder()\\n\\n# Iterar sobre las columnas y aplicar el LabelEncoder\\nfor col in cat_no_orginales:\\n    df_TCL[col] = encoder.fit_transform(df_TCL[col])\";\n",
              "                var nbb_formatted_code = \"# Inicializar el LabelEncoder\\nencoder = LabelEncoder()\\n\\n# Iterar sobre las columnas y aplicar el LabelEncoder\\nfor col in cat_no_orginales:\\n    df_TCL[col] = encoder.fit_transform(df_TCL[col])\";\n",
              "                var nbb_cells = Jupyter.notebook.get_cells();\n",
              "                for (var i = 0; i < nbb_cells.length; ++i) {\n",
              "                    if (nbb_cells[i].input_prompt_number == nbb_cell_id) {\n",
              "                        if (nbb_cells[i].get_text() == nbb_unformatted_code) {\n",
              "                             nbb_cells[i].set_text(nbb_formatted_code);\n",
              "                        }\n",
              "                        break;\n",
              "                    }\n",
              "                }\n",
              "            }, 500);\n",
              "            "
            ],
            "text/plain": [
              "<IPython.core.display.Javascript object>"
            ]
          },
          "metadata": {},
          "output_type": "display_data"
        }
      ],
      "source": [
        "# Inicializar el LabelEncoder\n",
        "encoder = LabelEncoder()\n",
        "\n",
        "# Iterar sobre las columnas y aplicar el LabelEncoder\n",
        "for col in cat_no_orginales:\n",
        "    df_TCL[col] = encoder.fit_transform(df_TCL[col])"
      ]
    },
    {
      "cell_type": "code",
      "execution_count": null,
      "id": "yAoibeaaLwUV",
      "metadata": {
        "id": "yAoibeaaLwUV",
        "outputId": "7cbc6893-fedd-453c-f017-c2bb7e694ebd"
      },
      "outputs": [
        {
          "data": {
            "application/javascript": [
              "\n",
              "            setTimeout(function() {\n",
              "                var nbb_cell_id = 29;\n",
              "                var nbb_unformatted_code = \"# Creamos una copia del ultimo dataframe\\ndf_TC_encoded=df_TC.copy()\";\n",
              "                var nbb_formatted_code = \"# Creamos una copia del ultimo dataframe\\ndf_TC_encoded = df_TC.copy()\";\n",
              "                var nbb_cells = Jupyter.notebook.get_cells();\n",
              "                for (var i = 0; i < nbb_cells.length; ++i) {\n",
              "                    if (nbb_cells[i].input_prompt_number == nbb_cell_id) {\n",
              "                        if (nbb_cells[i].get_text() == nbb_unformatted_code) {\n",
              "                             nbb_cells[i].set_text(nbb_formatted_code);\n",
              "                        }\n",
              "                        break;\n",
              "                    }\n",
              "                }\n",
              "            }, 500);\n",
              "            "
            ],
            "text/plain": [
              "<IPython.core.display.Javascript object>"
            ]
          },
          "metadata": {},
          "output_type": "display_data"
        }
      ],
      "source": [
        "# Creamos una copia del ultimo dataframe\n",
        "df_TC_encoded = df_TC.copy()"
      ]
    },
    {
      "cell_type": "code",
      "execution_count": null,
      "id": "VDqQrNrSLI67",
      "metadata": {
        "id": "VDqQrNrSLI67",
        "outputId": "d670afe7-2d2e-4b6e-978c-dd21ece6f184"
      },
      "outputs": [
        {
          "data": {
            "application/javascript": [
              "\n",
              "            setTimeout(function() {\n",
              "                var nbb_cell_id = 30;\n",
              "                var nbb_unformatted_code = \"# Aplicar Get_dummies asegurando de eliminar la primera categor\\u00eda\\ndf_TC_encoded = pd.get_dummies(df_TC_encoded, columns=cat_no_orginales, drop_first=True)\";\n",
              "                var nbb_formatted_code = \"# Aplicar Get_dummies asegurando de eliminar la primera categor\\u00eda\\ndf_TC_encoded = pd.get_dummies(df_TC_encoded, columns=cat_no_orginales, drop_first=True)\";\n",
              "                var nbb_cells = Jupyter.notebook.get_cells();\n",
              "                for (var i = 0; i < nbb_cells.length; ++i) {\n",
              "                    if (nbb_cells[i].input_prompt_number == nbb_cell_id) {\n",
              "                        if (nbb_cells[i].get_text() == nbb_unformatted_code) {\n",
              "                             nbb_cells[i].set_text(nbb_formatted_code);\n",
              "                        }\n",
              "                        break;\n",
              "                    }\n",
              "                }\n",
              "            }, 500);\n",
              "            "
            ],
            "text/plain": [
              "<IPython.core.display.Javascript object>"
            ]
          },
          "metadata": {},
          "output_type": "display_data"
        }
      ],
      "source": [
        "# Aplicar Get_dummies asegurando de eliminar la primera categoría\n",
        "df_TC_encoded = pd.get_dummies(df_TC_encoded, columns=cat_no_orginales, drop_first=True)"
      ]
    },
    {
      "cell_type": "code",
      "execution_count": null,
      "id": "4xtOtn82DHMf",
      "metadata": {
        "id": "4xtOtn82DHMf",
        "outputId": "dba63bb5-8197-4cfc-ac27-35ade2df7da0"
      },
      "outputs": [
        {
          "data": {
            "application/javascript": [
              "\n",
              "            setTimeout(function() {\n",
              "                var nbb_cell_id = 31;\n",
              "                var nbb_unformatted_code = \"# Generamos la base con las caracter\\u00edsticas y la variable de salida\\nX1 = df_TC_encoded.drop(columns=['Sintomas_ansiosos_encoded'])\\nY1 = df_TC_encoded['Sintomas_ansiosos_encoded']\\nXtv1, Xtest1, ytv1, ytest1 = train_test_split(X1, Y1, train_size = 0.9, random_state = 0)\";\n",
              "                var nbb_formatted_code = \"# Generamos la base con las caracter\\u00edsticas y la variable de salida\\nX1 = df_TC_encoded.drop(columns=[\\\"Sintomas_ansiosos_encoded\\\"])\\nY1 = df_TC_encoded[\\\"Sintomas_ansiosos_encoded\\\"]\\nXtv1, Xtest1, ytv1, ytest1 = train_test_split(X1, Y1, train_size=0.9, random_state=0)\";\n",
              "                var nbb_cells = Jupyter.notebook.get_cells();\n",
              "                for (var i = 0; i < nbb_cells.length; ++i) {\n",
              "                    if (nbb_cells[i].input_prompt_number == nbb_cell_id) {\n",
              "                        if (nbb_cells[i].get_text() == nbb_unformatted_code) {\n",
              "                             nbb_cells[i].set_text(nbb_formatted_code);\n",
              "                        }\n",
              "                        break;\n",
              "                    }\n",
              "                }\n",
              "            }, 500);\n",
              "            "
            ],
            "text/plain": [
              "<IPython.core.display.Javascript object>"
            ]
          },
          "metadata": {},
          "output_type": "display_data"
        }
      ],
      "source": [
        "# Generamos la base con las características y la variable de salida\n",
        "X1 = df_TC_encoded.drop(columns=[\"Sintomas_ansiosos_encoded\"])\n",
        "Y1 = df_TC_encoded[\"Sintomas_ansiosos_encoded\"]\n",
        "Xtv1, Xtest1, ytv1, ytest1 = train_test_split(X1, Y1, train_size=0.9, random_state=0)"
      ]
    },
    {
      "cell_type": "markdown",
      "id": "nDfq3k1O-bp6",
      "metadata": {
        "id": "nDfq3k1O-bp6"
      },
      "source": [
        "## **2 Modelos**"
      ]
    },
    {
      "cell_type": "markdown",
      "id": "eRELVXWDe7WQ",
      "metadata": {
        "id": "eRELVXWDe7WQ"
      },
      "source": [
        "Antes de comenzar formalmente con la entrega de esta semana, haremos un último esfuerzo por obtener el mejor modelo posible de la siguiente manera:\n",
        "\n",
        "1.- Obtendremos nuevamente los resultados de los 3 modelos con mejor rendimiento de la semana pasada como referencia.\n",
        "\n",
        "2.- Haremos el refinamiento de algunos de sus hiperparámetros con el objetivo de mejorar su desempeño.\n",
        "\n",
        "3.- Reduciremos un poco el desbalance de los datos y con este conjunto de datos entrenaremos nuevamente los 3 modelos buscando los mejores hiperparámetros.\n",
        "\n",
        "**NOTA 1. En la semana 4, realizamos la busqueda en malla de los mejores hiperparámetros para algunos modelos. Los modelos de regresión logística, SVM y red neuronal que se usaron en la semana 5 y que seguiremos usando en esta semana, serán entrenados utilizando los mejores hiperparámetros que fueron hallados en la semana 4.**\n",
        "\n",
        "**NOTA 2. Cabe recordar que, en la semana 4 estudiamos a fondo diversas técnicas para lidiar con el balanceo,  en particular, probamos sobremuestreo, submuestreo y una combinación de ambos. Los mejores resultados fueron obtenidos con submuestreo. Además, los mejores resultados se obtenian al dejar un desbalance de 40-60 (los datos originales muestran un desbalance aproximado de 35-65), lo anterior hace sentido dado que, al tener una base de datos tan pequeña, eliminar elementos de la clase mayoritaria puede resultar muy costoso.**"
      ]
    },
    {
      "cell_type": "markdown",
      "id": "Lj0MLJO1sCdU",
      "metadata": {
        "id": "Lj0MLJO1sCdU"
      },
      "source": [
        "### **2.1 Baseline**"
      ]
    },
    {
      "cell_type": "markdown",
      "id": "EYm6VgwALg5V",
      "metadata": {
        "id": "EYm6VgwALg5V"
      },
      "source": [
        "Generamos un modelo Dummy que predice siempre la clase positiva. Esto para tener una referencia con la cual comparar el resto de modelos."
      ]
    },
    {
      "cell_type": "code",
      "execution_count": null,
      "id": "c912e281",
      "metadata": {
        "id": "c912e281",
        "outputId": "c5060745-7c5c-432e-dbb3-2589adf56db3"
      },
      "outputs": [
        {
          "data": {
            "application/javascript": [
              "\n",
              "            setTimeout(function() {\n",
              "                var nbb_cell_id = 32;\n",
              "                var nbb_unformatted_code = \"# Creamos un modelo\\nstart_time = time.time()\\ndummy_clf = DummyClassifier(strategy='most_frequent', random_state= 0)\\n\\n# Se ajusta el modelo a los datos de entrenamiento\\ndummy_clf.fit(Xtv1, ytv1)\\ntiempo_fit_dummy = time.time() - start_time\\n\\npreds_dum_tv = dummy_clf.predict_proba(Xtv1)\";\n",
              "                var nbb_formatted_code = \"# Creamos un modelo\\nstart_time = time.time()\\ndummy_clf = DummyClassifier(strategy=\\\"most_frequent\\\", random_state=0)\\n\\n# Se ajusta el modelo a los datos de entrenamiento\\ndummy_clf.fit(Xtv1, ytv1)\\ntiempo_fit_dummy = time.time() - start_time\\n\\npreds_dum_tv = dummy_clf.predict_proba(Xtv1)\";\n",
              "                var nbb_cells = Jupyter.notebook.get_cells();\n",
              "                for (var i = 0; i < nbb_cells.length; ++i) {\n",
              "                    if (nbb_cells[i].input_prompt_number == nbb_cell_id) {\n",
              "                        if (nbb_cells[i].get_text() == nbb_unformatted_code) {\n",
              "                             nbb_cells[i].set_text(nbb_formatted_code);\n",
              "                        }\n",
              "                        break;\n",
              "                    }\n",
              "                }\n",
              "            }, 500);\n",
              "            "
            ],
            "text/plain": [
              "<IPython.core.display.Javascript object>"
            ]
          },
          "metadata": {},
          "output_type": "display_data"
        }
      ],
      "source": [
        "# Creamos un modelo\n",
        "start_time = time.time()\n",
        "dummy_clf = DummyClassifier(strategy=\"most_frequent\", random_state=0)\n",
        "\n",
        "# Se ajusta el modelo a los datos de entrenamiento\n",
        "dummy_clf.fit(Xtv1, ytv1)\n",
        "tiempo_fit_dummy = time.time() - start_time\n",
        "\n",
        "preds_dum_tv = dummy_clf.predict_proba(Xtv1)"
      ]
    },
    {
      "cell_type": "markdown",
      "id": "MeIg4jQCNwuj",
      "metadata": {
        "id": "MeIg4jQCNwuj"
      },
      "source": [
        "### **2.2 Mejores modelos semana 5**"
      ]
    },
    {
      "cell_type": "markdown",
      "id": "UKP_AyyFWBOs",
      "metadata": {
        "id": "UKP_AyyFWBOs"
      },
      "source": [
        "#### 2.2.1 Stacking con Regresión logística y SVM"
      ]
    },
    {
      "cell_type": "code",
      "execution_count": null,
      "id": "7zBae98jKJMh",
      "metadata": {
        "id": "7zBae98jKJMh",
        "outputId": "80363035-3168-4872-f780-e110f760c6fc"
      },
      "outputs": [
        {
          "data": {
            "application/javascript": [
              "\n",
              "            setTimeout(function() {\n",
              "                var nbb_cell_id = 33;\n",
              "                var nbb_unformatted_code = \"# Definimos el modelo\\nstart_time_fit = time.time()\\nreg = LogisticRegression(solver='liblinear', class_weight= \\\"balanced\\\",\\n                         max_iter= 100, penalty = 'l2', tol = 0.0001, random_state=0)\\n\\n# Se ajusta el modelo\\nreg.fit(Xtv1, ytv1)\\nend_time_fit = time.time()\\ntiempo_fit_reg = end_time_fit - start_time_fit\\n\\npreds_reg_tv = reg.predict_proba(Xtv1)[:, 1]\\npreds_reg_test = reg.predict_proba(Xtest1)[:, 1]\";\n",
              "                var nbb_formatted_code = \"# Definimos el modelo\\nstart_time_fit = time.time()\\nreg = LogisticRegression(\\n    solver=\\\"liblinear\\\",\\n    class_weight=\\\"balanced\\\",\\n    max_iter=100,\\n    penalty=\\\"l2\\\",\\n    tol=0.0001,\\n    random_state=0,\\n)\\n\\n# Se ajusta el modelo\\nreg.fit(Xtv1, ytv1)\\nend_time_fit = time.time()\\ntiempo_fit_reg = end_time_fit - start_time_fit\\n\\npreds_reg_tv = reg.predict_proba(Xtv1)[:, 1]\\npreds_reg_test = reg.predict_proba(Xtest1)[:, 1]\";\n",
              "                var nbb_cells = Jupyter.notebook.get_cells();\n",
              "                for (var i = 0; i < nbb_cells.length; ++i) {\n",
              "                    if (nbb_cells[i].input_prompt_number == nbb_cell_id) {\n",
              "                        if (nbb_cells[i].get_text() == nbb_unformatted_code) {\n",
              "                             nbb_cells[i].set_text(nbb_formatted_code);\n",
              "                        }\n",
              "                        break;\n",
              "                    }\n",
              "                }\n",
              "            }, 500);\n",
              "            "
            ],
            "text/plain": [
              "<IPython.core.display.Javascript object>"
            ]
          },
          "metadata": {},
          "output_type": "display_data"
        }
      ],
      "source": [
        "# Definimos el modelo\n",
        "start_time_fit = time.time()\n",
        "reg = LogisticRegression(\n",
        "    solver=\"liblinear\",\n",
        "    class_weight=\"balanced\",\n",
        "    max_iter=100,\n",
        "    penalty=\"l2\",\n",
        "    tol=0.0001,\n",
        "    random_state=0,\n",
        ")\n",
        "\n",
        "# Se ajusta el modelo\n",
        "reg.fit(Xtv1, ytv1)\n",
        "end_time_fit = time.time()\n",
        "tiempo_fit_reg = end_time_fit - start_time_fit\n",
        "\n",
        "preds_reg_tv = reg.predict_proba(Xtv1)[:, 1]\n",
        "preds_reg_test = reg.predict_proba(Xtest1)[:, 1]"
      ]
    },
    {
      "cell_type": "code",
      "execution_count": null,
      "id": "XpQiqZn8JlYy",
      "metadata": {
        "id": "XpQiqZn8JlYy",
        "outputId": "ca16da87-d01f-4992-b9d5-c37722c774d3"
      },
      "outputs": [
        {
          "data": {
            "application/javascript": [
              "\n",
              "            setTimeout(function() {\n",
              "                var nbb_cell_id = 34;\n",
              "                var nbb_unformatted_code = \"# Definimos el modelo\\nstart_time_fit = time.time()\\nsvm = SVC(class_weight='balanced', probability=True, C = 0.01, gamma = 0.001, kernel = 'linear', random_state=0)\\n\\n# Se ajusta el modelo\\nsvm.fit(Xtv1, ytv1)\\nend_time_fit = time.time()\\ntiempo_fit_svm = end_time_fit - start_time_fit\\n\\npreds_svm_tv = svm.predict_proba(Xtv1)[:, 1]\\npreds_svm_test = svm.predict_proba(Xtest1)[:, 1]\";\n",
              "                var nbb_formatted_code = \"# Definimos el modelo\\nstart_time_fit = time.time()\\nsvm = SVC(\\n    class_weight=\\\"balanced\\\",\\n    probability=True,\\n    C=0.01,\\n    gamma=0.001,\\n    kernel=\\\"linear\\\",\\n    random_state=0,\\n)\\n\\n# Se ajusta el modelo\\nsvm.fit(Xtv1, ytv1)\\nend_time_fit = time.time()\\ntiempo_fit_svm = end_time_fit - start_time_fit\\n\\npreds_svm_tv = svm.predict_proba(Xtv1)[:, 1]\\npreds_svm_test = svm.predict_proba(Xtest1)[:, 1]\";\n",
              "                var nbb_cells = Jupyter.notebook.get_cells();\n",
              "                for (var i = 0; i < nbb_cells.length; ++i) {\n",
              "                    if (nbb_cells[i].input_prompt_number == nbb_cell_id) {\n",
              "                        if (nbb_cells[i].get_text() == nbb_unformatted_code) {\n",
              "                             nbb_cells[i].set_text(nbb_formatted_code);\n",
              "                        }\n",
              "                        break;\n",
              "                    }\n",
              "                }\n",
              "            }, 500);\n",
              "            "
            ],
            "text/plain": [
              "<IPython.core.display.Javascript object>"
            ]
          },
          "metadata": {},
          "output_type": "display_data"
        }
      ],
      "source": [
        "# Definimos el modelo\n",
        "start_time_fit = time.time()\n",
        "svm = SVC(class_weight='balanced', probability=True, C = 0.01, gamma = 0.001, kernel = 'linear', random_state=0)\n",
        "\n",
        "# Se ajusta el modelo\n",
        "svm.fit(Xtv1, ytv1)\n",
        "end_time_fit = time.time()\n",
        "tiempo_fit_svm = end_time_fit - start_time_fit\n",
        "\n",
        "preds_svm_tv = svm.predict_proba(Xtv1)[:, 1]\n",
        "preds_svm_test = svm.predict_proba(Xtest1)[:, 1]\n"
      ]
    },
    {
      "cell_type": "code",
      "execution_count": null,
      "id": "Q9sFcp1BJlbh",
      "metadata": {
        "id": "Q9sFcp1BJlbh",
        "outputId": "ad4bc97c-5734-4830-bb62-a5b3db9ae8bf"
      },
      "outputs": [
        {
          "data": {
            "application/javascript": [
              "\n",
              "            setTimeout(function() {\n",
              "                var nbb_cell_id = 35;\n",
              "                var nbb_unformatted_code = \"# Creamos el conjunto de datos para el ensamble\\nstacked_tv = np.column_stack((preds_reg_tv, preds_svm_tv))\\nstacked_test = np.column_stack((preds_reg_test, preds_svm_test))\";\n",
              "                var nbb_formatted_code = \"# Creamos el conjunto de datos para el ensamble\\nstacked_tv = np.column_stack((preds_reg_tv, preds_svm_tv))\\nstacked_test = np.column_stack((preds_reg_test, preds_svm_test))\";\n",
              "                var nbb_cells = Jupyter.notebook.get_cells();\n",
              "                for (var i = 0; i < nbb_cells.length; ++i) {\n",
              "                    if (nbb_cells[i].input_prompt_number == nbb_cell_id) {\n",
              "                        if (nbb_cells[i].get_text() == nbb_unformatted_code) {\n",
              "                             nbb_cells[i].set_text(nbb_formatted_code);\n",
              "                        }\n",
              "                        break;\n",
              "                    }\n",
              "                }\n",
              "            }, 500);\n",
              "            "
            ],
            "text/plain": [
              "<IPython.core.display.Javascript object>"
            ]
          },
          "metadata": {},
          "output_type": "display_data"
        }
      ],
      "source": [
        "# Creamos el conjunto de datos para el ensamble\n",
        "stacked_tv = np.column_stack((preds_reg_tv, preds_svm_tv))\n",
        "stacked_test = np.column_stack((preds_reg_test, preds_svm_test))"
      ]
    },
    {
      "cell_type": "code",
      "execution_count": null,
      "id": "C1Hw_RaZqYcW",
      "metadata": {
        "colab": {
          "base_uri": "https://localhost:8080/",
          "height": 186
        },
        "id": "C1Hw_RaZqYcW",
        "outputId": "ef6ddd14-4d5a-42ef-dd92-cc1fd53f7beb"
      },
      "outputs": [
        {
          "data": {
            "text/html": [
              "<div style=\"display: inline-block; padding: 10px;\"><h3>Conjunto de Entrenamiento</h3><style type=\"text/css\">\n",
              "#T_91018_row0_col0, #T_91018_row0_col1, #T_91018_row0_col2, #T_91018_row2_col3 {\n",
              "  background-color: lightblue;\n",
              "}\n",
              "</style>\n",
              "<table id=\"T_91018\">\n",
              "  <thead>\n",
              "    <tr>\n",
              "      <th class=\"blank level0\" >&nbsp;</th>\n",
              "      <th id=\"T_91018_level0_col0\" class=\"col_heading level0 col0\" >Recall</th>\n",
              "      <th id=\"T_91018_level0_col1\" class=\"col_heading level0 col1\" >Recall Macro</th>\n",
              "      <th id=\"T_91018_level0_col2\" class=\"col_heading level0 col2\" >F1 Score</th>\n",
              "      <th id=\"T_91018_level0_col3\" class=\"col_heading level0 col3\" >Fit_Time</th>\n",
              "    </tr>\n",
              "  </thead>\n",
              "  <tbody>\n",
              "    <tr>\n",
              "      <th id=\"T_91018_level0_row0\" class=\"row_heading level0 row0\" >Ensemble</th>\n",
              "      <td id=\"T_91018_row0_col0\" class=\"data row0 col0\" >0.877828</td>\n",
              "      <td id=\"T_91018_row0_col1\" class=\"data row0 col1\" >0.641393</td>\n",
              "      <td id=\"T_91018_row0_col2\" class=\"data row0 col2\" >0.796715</td>\n",
              "      <td id=\"T_91018_row0_col3\" class=\"data row0 col3\" >0.002521</td>\n",
              "    </tr>\n",
              "    <tr>\n",
              "      <th id=\"T_91018_level0_row1\" class=\"row_heading level0 row1\" >Dummy</th>\n",
              "      <td id=\"T_91018_row1_col0\" class=\"data row1 col0\" >0.000000</td>\n",
              "      <td id=\"T_91018_row1_col1\" class=\"data row1 col1\" >0.000000</td>\n",
              "      <td id=\"T_91018_row1_col2\" class=\"data row1 col2\" >0.785080</td>\n",
              "      <td id=\"T_91018_row1_col3\" class=\"data row1 col3\" >0.000509</td>\n",
              "    </tr>\n",
              "    <tr>\n",
              "      <th id=\"T_91018_level0_row2\" class=\"row_heading level0 row2\" >SVM</th>\n",
              "      <td id=\"T_91018_row2_col0\" class=\"data row2 col0\" >0.610860</td>\n",
              "      <td id=\"T_91018_row2_col1\" class=\"data row2 col1\" >0.623612</td>\n",
              "      <td id=\"T_91018_row2_col2\" class=\"data row2 col2\" >0.675000</td>\n",
              "      <td id=\"T_91018_row2_col3\" class=\"data row2 col3\" >0.030178</td>\n",
              "    </tr>\n",
              "    <tr>\n",
              "      <th id=\"T_91018_level0_row3\" class=\"row_heading level0 row3\" >Regression Logística</th>\n",
              "      <td id=\"T_91018_row3_col0\" class=\"data row3 col0\" >0.588235</td>\n",
              "      <td id=\"T_91018_row3_col1\" class=\"data row3 col1\" >0.554448</td>\n",
              "      <td id=\"T_91018_row3_col2\" class=\"data row3 col2\" >0.635697</td>\n",
              "      <td id=\"T_91018_row3_col3\" class=\"data row3 col3\" >0.007330</td>\n",
              "    </tr>\n",
              "  </tbody>\n",
              "</table>\n",
              "</div><div style=\"display: inline-block; padding: 10px;\"><h3>Conjunto de Pruebas</h3><style type=\"text/css\">\n",
              "#T_72453_row0_col2, #T_72453_row1_col0, #T_72453_row2_col1, #T_72453_row3_col3 {\n",
              "  background-color: lightblue;\n",
              "}\n",
              "</style>\n",
              "<table id=\"T_72453\">\n",
              "  <thead>\n",
              "    <tr>\n",
              "      <th class=\"blank level0\" >&nbsp;</th>\n",
              "      <th id=\"T_72453_level0_col0\" class=\"col_heading level0 col0\" >Recall</th>\n",
              "      <th id=\"T_72453_level0_col1\" class=\"col_heading level0 col1\" >Recall Macro</th>\n",
              "      <th id=\"T_72453_level0_col2\" class=\"col_heading level0 col2\" >F1 Score</th>\n",
              "      <th id=\"T_72453_level0_col3\" class=\"col_heading level0 col3\" >Fit_Time</th>\n",
              "    </tr>\n",
              "  </thead>\n",
              "  <tbody>\n",
              "    <tr>\n",
              "      <th id=\"T_72453_level0_row0\" class=\"row_heading level0 row0\" >Dummy</th>\n",
              "      <td id=\"T_72453_row0_col0\" class=\"data row0 col0\" >0.000000</td>\n",
              "      <td id=\"T_72453_row0_col1\" class=\"data row0 col1\" >0.000000</td>\n",
              "      <td id=\"T_72453_row0_col2\" class=\"data row0 col2\" >0.774194</td>\n",
              "      <td id=\"T_72453_row0_col3\" class=\"data row0 col3\" >0.000509</td>\n",
              "    </tr>\n",
              "    <tr>\n",
              "      <th id=\"T_72453_level0_row1\" class=\"row_heading level0 row1\" >Ensemble</th>\n",
              "      <td id=\"T_72453_row1_col0\" class=\"data row1 col0\" >0.791667</td>\n",
              "      <td id=\"T_72453_row1_col1\" class=\"data row1 col1\" >0.538690</td>\n",
              "      <td id=\"T_72453_row1_col2\" class=\"data row1 col2\" >0.716981</td>\n",
              "      <td id=\"T_72453_row1_col3\" class=\"data row1 col3\" >0.002521</td>\n",
              "    </tr>\n",
              "    <tr>\n",
              "      <th id=\"T_72453_level0_row2\" class=\"row_heading level0 row2\" >Regression Logística</th>\n",
              "      <td id=\"T_72453_row2_col0\" class=\"data row2 col0\" >0.666667</td>\n",
              "      <td id=\"T_72453_row2_col1\" class=\"data row2 col1\" >0.547619</td>\n",
              "      <td id=\"T_72453_row2_col2\" class=\"data row2 col2\" >0.666667</td>\n",
              "      <td id=\"T_72453_row2_col3\" class=\"data row2 col3\" >0.007330</td>\n",
              "    </tr>\n",
              "    <tr>\n",
              "      <th id=\"T_72453_level0_row3\" class=\"row_heading level0 row3\" >SVM</th>\n",
              "      <td id=\"T_72453_row3_col0\" class=\"data row3 col0\" >0.666667</td>\n",
              "      <td id=\"T_72453_row3_col1\" class=\"data row3 col1\" >0.511905</td>\n",
              "      <td id=\"T_72453_row3_col2\" class=\"data row3 col2\" >0.653061</td>\n",
              "      <td id=\"T_72453_row3_col3\" class=\"data row3 col3\" >0.030178</td>\n",
              "    </tr>\n",
              "  </tbody>\n",
              "</table>\n",
              "</div>"
            ]
          },
          "metadata": {},
          "output_type": "display_data"
        },
        {
          "data": {
            "application/javascript": [
              "\n",
              "            setTimeout(function() {\n",
              "                var nbb_cell_id = 36;\n",
              "                var nbb_unformatted_code = \"# Definir los modelos\\nstart_time = time.time()\\nensamble1 = LogisticRegression()\\n\\n# Medir el tiempo de ajuste del ensamble\\nensamble1.fit(stacked_tv, ytv1)\\ntiempo_fit_ensamble1 = time.time() - start_time\\n\\n# Evaluamos el rendimiento de los modelos con el conjunto de entrenamiento\\n\\nytv1_pred_dum = cross_val_predict(dummy_clf, Xtv1, ytv1, cv=5)\\nrecall_tv_dum = 0 # No se calcula ya que recall evalua la tasa de verdaderos positivos y\\n                    #nuestro Dummy genera un 100% de positivos.\\nrecall_tv_macro_dum = 0\\nf1_tv_dum = f1_score(ytv1, ytv1_pred_dum, average='binary')\\n\\n\\nytv1_pred_reg = cross_val_predict(reg, Xtv1, ytv1, cv=5)\\nrecall_tv_reg = recall_score(ytv1, ytv1_pred_reg, average='binary')\\nrecall_tv_macro_reg = recall_score(ytv1, ytv1_pred_reg, average='macro')\\nf1_tv_reg = f1_score(ytv1, ytv1_pred_reg, average='binary')\\n\\n\\nytv1_pred_svm = cross_val_predict(svm, Xtv1, ytv1, cv=5)\\nrecall_tv_svm = recall_score(ytv1, ytv1_pred_svm, average='binary')\\nrecall_tv_macro_svm = recall_score(ytv1, ytv1_pred_svm, average='macro')\\nf1_tv_svm = f1_score(ytv1, ytv1_pred_svm, average='binary')\\n\\n\\nytv1_pred_ensamble1 = ensamble1.predict(stacked_tv)\\nrecall_tv_ensamble1 = recall_score(ytv1, ytv1_pred_ensamble1, average='binary')\\nrecall_tv_macro_ensamble1 = recall_score(ytv1, ytv1_pred_ensamble1, average='macro')\\nf1_tv_ensamble1 = f1_score(ytv1, ytv1_pred_ensamble1, average='binary')\\n\\ncuadro1 = {\\n    'Modelo': ['Dummy', 'Regression Log\\u00edstica', 'SVM', 'Ensemble'],\\n    'Recall': [recall_tv_dum, recall_tv_reg, recall_tv_svm, recall_tv_ensamble1],\\n    'Recall Macro': [recall_tv_macro_dum, recall_tv_macro_reg, recall_tv_macro_svm, recall_tv_macro_ensamble1],\\n    'F1 Score': [f1_tv_dum, f1_tv_reg, f1_tv_svm, f1_tv_ensamble1],\\n    'Fit_Time': [tiempo_fit_dummy, tiempo_fit_reg, tiempo_fit_svm, tiempo_fit_ensamble1]\\n}\\n\\n# Crear un DataFrame para almacenar los resultados\\ncuadro1_df = pd.DataFrame(cuadro1,index=cuadro1[\\\"Modelo\\\"])\\ncuadro1_df.drop(columns=['Modelo'], inplace=True)\\n\\n# Ordenar el DataFrame por la columna F1_Tst de mayor a menor\\ncuadro1_df = cuadro1_df.sort_values(by='F1 Score', ascending=False)\\n\\n\\n# Evaluamos el rendimiento de los modelos con el conjunto de pruebas\\nytest1_pred_dum = cross_val_predict(dummy_clf, Xtest1, ytest1, cv=5)\\nrecall_test_dum = 0\\nrecall_test_macro_dum = 0\\nf1_test_dum = f1_score(ytest1, ytest1_pred_dum, average='binary')\\n\\n\\nytest1_pred_reg = cross_val_predict(reg, Xtest1, ytest1, cv=5)\\nrecall_test_reg = recall_score(ytest1, ytest1_pred_reg, average='binary')\\nrecall_test_macro_reg = recall_score(ytest1, ytest1_pred_reg, average='macro')\\nf1_test_reg = f1_score(ytest1, ytest1_pred_reg, average='binary')\\n\\n\\nytest1_pred_svm = cross_val_predict(svm, Xtest1, ytest1, cv=5)\\nrecall_test_svm = recall_score(ytest1, ytest1_pred_svm, average='binary')\\nrecall_test_macro_svm = recall_score(ytest1, ytest1_pred_svm, average='macro')\\nf1_test_svm = f1_score(ytest1, ytest1_pred_svm, average='binary')\\n\\n\\nytest1_pred_ensamble1 = ensamble1.predict(stacked_test)\\nrecall_test_ensamble1 = recall_score(ytest1, ytest1_pred_ensamble1, average='binary')\\nrecall_test_macro_ensamble1 = recall_score(ytest1, ytest1_pred_ensamble1, average='macro')\\nf1_test_ensamble1 = f1_score(ytest1, ytest1_pred_ensamble1, average='binary')\\n\\ncuadro2 = {\\n    'Modelo': ['Dummy', 'Regression Log\\u00edstica', 'SVM', 'Ensemble'],\\n    'Recall': [recall_test_dum, recall_test_reg, recall_test_svm, recall_test_ensamble1],\\n    'Recall Macro': [recall_test_macro_dum, recall_test_macro_reg, recall_test_macro_svm, recall_test_macro_ensamble1],\\n    'F1 Score': [f1_test_dum, f1_test_reg, f1_test_svm, f1_test_ensamble1],\\n    'Fit_Time': [tiempo_fit_dummy, tiempo_fit_reg, tiempo_fit_svm, tiempo_fit_ensamble1]\\n}\\n\\ncuadro2_df = pd.DataFrame(cuadro2)\\n\\n# Crear un DataFrame para almacenar los resultados\\ncuadro2_df = pd.DataFrame(cuadro2,index=cuadro2[\\\"Modelo\\\"])\\ncuadro2_df.drop(columns=['Modelo'], inplace=True)\\n\\n# Ordenar el DataFrame por la columna F1_Tst de mayor a menor\\ncuadro2_df = cuadro2_df.sort_values(by='F1 Score', ascending=False)\\n\\n# Aqu\\u00ed puedes especificar el axis=0 para columnas o axis=1 para filas\\ndisplay_side_by_side([cuadro1_df, cuadro2_df], ['Conjunto de Entrenamiento', 'Conjunto de Pruebas'],\\n                     color='lightblue', axis=0)\";\n",
              "                var nbb_formatted_code = \"# Definir los modelos\\nstart_time = time.time()\\nensamble1 = LogisticRegression()\\n\\n# Medir el tiempo de ajuste del ensamble\\nensamble1.fit(stacked_tv, ytv1)\\ntiempo_fit_ensamble1 = time.time() - start_time\\n\\n# Evaluamos el rendimiento de los modelos con el conjunto de entrenamiento\\n\\nytv1_pred_dum = cross_val_predict(dummy_clf, Xtv1, ytv1, cv=5)\\nrecall_tv_dum = (\\n    0  # No se calcula ya que recall evalua la tasa de verdaderos positivos y\\n)\\n# nuestro Dummy genera un 100% de positivos.\\nrecall_tv_macro_dum = 0\\nf1_tv_dum = f1_score(ytv1, ytv1_pred_dum, average=\\\"binary\\\")\\n\\n\\nytv1_pred_reg = cross_val_predict(reg, Xtv1, ytv1, cv=5)\\nrecall_tv_reg = recall_score(ytv1, ytv1_pred_reg, average=\\\"binary\\\")\\nrecall_tv_macro_reg = recall_score(ytv1, ytv1_pred_reg, average=\\\"macro\\\")\\nf1_tv_reg = f1_score(ytv1, ytv1_pred_reg, average=\\\"binary\\\")\\n\\n\\nytv1_pred_svm = cross_val_predict(svm, Xtv1, ytv1, cv=5)\\nrecall_tv_svm = recall_score(ytv1, ytv1_pred_svm, average=\\\"binary\\\")\\nrecall_tv_macro_svm = recall_score(ytv1, ytv1_pred_svm, average=\\\"macro\\\")\\nf1_tv_svm = f1_score(ytv1, ytv1_pred_svm, average=\\\"binary\\\")\\n\\n\\nytv1_pred_ensamble1 = ensamble1.predict(stacked_tv)\\nrecall_tv_ensamble1 = recall_score(ytv1, ytv1_pred_ensamble1, average=\\\"binary\\\")\\nrecall_tv_macro_ensamble1 = recall_score(ytv1, ytv1_pred_ensamble1, average=\\\"macro\\\")\\nf1_tv_ensamble1 = f1_score(ytv1, ytv1_pred_ensamble1, average=\\\"binary\\\")\\n\\ncuadro1 = {\\n    \\\"Modelo\\\": [\\\"Dummy\\\", \\\"Regression Log\\u00edstica\\\", \\\"SVM\\\", \\\"Ensemble\\\"],\\n    \\\"Recall\\\": [recall_tv_dum, recall_tv_reg, recall_tv_svm, recall_tv_ensamble1],\\n    \\\"Recall Macro\\\": [\\n        recall_tv_macro_dum,\\n        recall_tv_macro_reg,\\n        recall_tv_macro_svm,\\n        recall_tv_macro_ensamble1,\\n    ],\\n    \\\"F1 Score\\\": [f1_tv_dum, f1_tv_reg, f1_tv_svm, f1_tv_ensamble1],\\n    \\\"Fit_Time\\\": [\\n        tiempo_fit_dummy,\\n        tiempo_fit_reg,\\n        tiempo_fit_svm,\\n        tiempo_fit_ensamble1,\\n    ],\\n}\\n\\n# Crear un DataFrame para almacenar los resultados\\ncuadro1_df = pd.DataFrame(cuadro1, index=cuadro1[\\\"Modelo\\\"])\\ncuadro1_df.drop(columns=[\\\"Modelo\\\"], inplace=True)\\n\\n# Ordenar el DataFrame por la columna F1_Tst de mayor a menor\\ncuadro1_df = cuadro1_df.sort_values(by=\\\"F1 Score\\\", ascending=False)\\n\\n\\n# Evaluamos el rendimiento de los modelos con el conjunto de pruebas\\nytest1_pred_dum = cross_val_predict(dummy_clf, Xtest1, ytest1, cv=5)\\nrecall_test_dum = 0\\nrecall_test_macro_dum = 0\\nf1_test_dum = f1_score(ytest1, ytest1_pred_dum, average=\\\"binary\\\")\\n\\n\\nytest1_pred_reg = cross_val_predict(reg, Xtest1, ytest1, cv=5)\\nrecall_test_reg = recall_score(ytest1, ytest1_pred_reg, average=\\\"binary\\\")\\nrecall_test_macro_reg = recall_score(ytest1, ytest1_pred_reg, average=\\\"macro\\\")\\nf1_test_reg = f1_score(ytest1, ytest1_pred_reg, average=\\\"binary\\\")\\n\\n\\nytest1_pred_svm = cross_val_predict(svm, Xtest1, ytest1, cv=5)\\nrecall_test_svm = recall_score(ytest1, ytest1_pred_svm, average=\\\"binary\\\")\\nrecall_test_macro_svm = recall_score(ytest1, ytest1_pred_svm, average=\\\"macro\\\")\\nf1_test_svm = f1_score(ytest1, ytest1_pred_svm, average=\\\"binary\\\")\\n\\n\\nytest1_pred_ensamble1 = ensamble1.predict(stacked_test)\\nrecall_test_ensamble1 = recall_score(ytest1, ytest1_pred_ensamble1, average=\\\"binary\\\")\\nrecall_test_macro_ensamble1 = recall_score(\\n    ytest1, ytest1_pred_ensamble1, average=\\\"macro\\\"\\n)\\nf1_test_ensamble1 = f1_score(ytest1, ytest1_pred_ensamble1, average=\\\"binary\\\")\\n\\ncuadro2 = {\\n    \\\"Modelo\\\": [\\\"Dummy\\\", \\\"Regression Log\\u00edstica\\\", \\\"SVM\\\", \\\"Ensemble\\\"],\\n    \\\"Recall\\\": [\\n        recall_test_dum,\\n        recall_test_reg,\\n        recall_test_svm,\\n        recall_test_ensamble1,\\n    ],\\n    \\\"Recall Macro\\\": [\\n        recall_test_macro_dum,\\n        recall_test_macro_reg,\\n        recall_test_macro_svm,\\n        recall_test_macro_ensamble1,\\n    ],\\n    \\\"F1 Score\\\": [f1_test_dum, f1_test_reg, f1_test_svm, f1_test_ensamble1],\\n    \\\"Fit_Time\\\": [\\n        tiempo_fit_dummy,\\n        tiempo_fit_reg,\\n        tiempo_fit_svm,\\n        tiempo_fit_ensamble1,\\n    ],\\n}\\n\\ncuadro2_df = pd.DataFrame(cuadro2)\\n\\n# Crear un DataFrame para almacenar los resultados\\ncuadro2_df = pd.DataFrame(cuadro2, index=cuadro2[\\\"Modelo\\\"])\\ncuadro2_df.drop(columns=[\\\"Modelo\\\"], inplace=True)\\n\\n# Ordenar el DataFrame por la columna F1_Tst de mayor a menor\\ncuadro2_df = cuadro2_df.sort_values(by=\\\"F1 Score\\\", ascending=False)\\n\\n# Aqu\\u00ed puedes especificar el axis=0 para columnas o axis=1 para filas\\ndisplay_side_by_side(\\n    [cuadro1_df, cuadro2_df],\\n    [\\\"Conjunto de Entrenamiento\\\", \\\"Conjunto de Pruebas\\\"],\\n    color=\\\"lightblue\\\",\\n    axis=0,\\n)\";\n",
              "                var nbb_cells = Jupyter.notebook.get_cells();\n",
              "                for (var i = 0; i < nbb_cells.length; ++i) {\n",
              "                    if (nbb_cells[i].input_prompt_number == nbb_cell_id) {\n",
              "                        if (nbb_cells[i].get_text() == nbb_unformatted_code) {\n",
              "                             nbb_cells[i].set_text(nbb_formatted_code);\n",
              "                        }\n",
              "                        break;\n",
              "                    }\n",
              "                }\n",
              "            }, 500);\n",
              "            "
            ],
            "text/plain": [
              "<IPython.core.display.Javascript object>"
            ]
          },
          "metadata": {},
          "output_type": "display_data"
        }
      ],
      "source": [
        "# Definir los modelos\n",
        "start_time = time.time()\n",
        "ensamble1 = LogisticRegression()\n",
        "\n",
        "# Medir el tiempo de ajuste del ensamble\n",
        "ensamble1.fit(stacked_tv, ytv1)\n",
        "tiempo_fit_ensamble1 = time.time() - start_time\n",
        "\n",
        "# Evaluamos el rendimiento de los modelos con el conjunto de entrenamiento\n",
        "\n",
        "ytv1_pred_dum = cross_val_predict(dummy_clf, Xtv1, ytv1, cv=5)\n",
        "recall_tv_dum = (\n",
        "    0  # No se calcula ya que recall evalua la tasa de verdaderos positivos y\n",
        ")\n",
        "# nuestro Dummy genera un 100% de positivos.\n",
        "recall_tv_macro_dum = 0\n",
        "f1_tv_dum = f1_score(ytv1, ytv1_pred_dum, average=\"binary\")\n",
        "\n",
        "\n",
        "ytv1_pred_reg = cross_val_predict(reg, Xtv1, ytv1, cv=5)\n",
        "recall_tv_reg = recall_score(ytv1, ytv1_pred_reg, average=\"binary\")\n",
        "recall_tv_macro_reg = recall_score(ytv1, ytv1_pred_reg, average=\"macro\")\n",
        "f1_tv_reg = f1_score(ytv1, ytv1_pred_reg, average=\"binary\")\n",
        "\n",
        "\n",
        "ytv1_pred_svm = cross_val_predict(svm, Xtv1, ytv1, cv=5)\n",
        "recall_tv_svm = recall_score(ytv1, ytv1_pred_svm, average=\"binary\")\n",
        "recall_tv_macro_svm = recall_score(ytv1, ytv1_pred_svm, average=\"macro\")\n",
        "f1_tv_svm = f1_score(ytv1, ytv1_pred_svm, average=\"binary\")\n",
        "\n",
        "\n",
        "ytv1_pred_ensamble1 = ensamble1.predict(stacked_tv)\n",
        "recall_tv_ensamble1 = recall_score(ytv1, ytv1_pred_ensamble1, average=\"binary\")\n",
        "recall_tv_macro_ensamble1 = recall_score(ytv1, ytv1_pred_ensamble1, average=\"macro\")\n",
        "f1_tv_ensamble1 = f1_score(ytv1, ytv1_pred_ensamble1, average=\"binary\")\n",
        "\n",
        "cuadro1 = {\n",
        "    \"Modelo\": [\"Dummy\", \"Regression Logística\", \"SVM\", \"Ensemble\"],\n",
        "    \"Recall\": [recall_tv_dum, recall_tv_reg, recall_tv_svm, recall_tv_ensamble1],\n",
        "    \"Recall Macro\": [\n",
        "        recall_tv_macro_dum,\n",
        "        recall_tv_macro_reg,\n",
        "        recall_tv_macro_svm,\n",
        "        recall_tv_macro_ensamble1,\n",
        "    ],\n",
        "    \"F1 Score\": [f1_tv_dum, f1_tv_reg, f1_tv_svm, f1_tv_ensamble1],\n",
        "    \"Fit_Time\": [\n",
        "        tiempo_fit_dummy,\n",
        "        tiempo_fit_reg,\n",
        "        tiempo_fit_svm,\n",
        "        tiempo_fit_ensamble1,\n",
        "    ],\n",
        "}\n",
        "\n",
        "# Crear un DataFrame para almacenar los resultados\n",
        "cuadro1_df = pd.DataFrame(cuadro1, index=cuadro1[\"Modelo\"])\n",
        "cuadro1_df.drop(columns=[\"Modelo\"], inplace=True)\n",
        "\n",
        "# Ordenar el DataFrame por la columna F1_Tst de mayor a menor\n",
        "cuadro1_df = cuadro1_df.sort_values(by=\"F1 Score\", ascending=False)\n",
        "\n",
        "\n",
        "# Evaluamos el rendimiento de los modelos con el conjunto de pruebas\n",
        "ytest1_pred_dum = cross_val_predict(dummy_clf, Xtest1, ytest1, cv=5)\n",
        "recall_test_dum = 0\n",
        "recall_test_macro_dum = 0\n",
        "f1_test_dum = f1_score(ytest1, ytest1_pred_dum, average=\"binary\")\n",
        "\n",
        "\n",
        "ytest1_pred_reg = cross_val_predict(reg, Xtest1, ytest1, cv=5)\n",
        "recall_test_reg = recall_score(ytest1, ytest1_pred_reg, average=\"binary\")\n",
        "recall_test_macro_reg = recall_score(ytest1, ytest1_pred_reg, average=\"macro\")\n",
        "f1_test_reg = f1_score(ytest1, ytest1_pred_reg, average=\"binary\")\n",
        "\n",
        "\n",
        "ytest1_pred_svm = cross_val_predict(svm, Xtest1, ytest1, cv=5)\n",
        "recall_test_svm = recall_score(ytest1, ytest1_pred_svm, average=\"binary\")\n",
        "recall_test_macro_svm = recall_score(ytest1, ytest1_pred_svm, average=\"macro\")\n",
        "f1_test_svm = f1_score(ytest1, ytest1_pred_svm, average=\"binary\")\n",
        "\n",
        "\n",
        "ytest1_pred_ensamble1 = ensamble1.predict(stacked_test)\n",
        "recall_test_ensamble1 = recall_score(ytest1, ytest1_pred_ensamble1, average=\"binary\")\n",
        "recall_test_macro_ensamble1 = recall_score(\n",
        "    ytest1, ytest1_pred_ensamble1, average=\"macro\"\n",
        ")\n",
        "f1_test_ensamble1 = f1_score(ytest1, ytest1_pred_ensamble1, average=\"binary\")\n",
        "\n",
        "cuadro2 = {\n",
        "    \"Modelo\": [\"Dummy\", \"Regression Logística\", \"SVM\", \"Ensemble\"],\n",
        "    \"Recall\": [\n",
        "        recall_test_dum,\n",
        "        recall_test_reg,\n",
        "        recall_test_svm,\n",
        "        recall_test_ensamble1,\n",
        "    ],\n",
        "    \"Recall Macro\": [\n",
        "        recall_test_macro_dum,\n",
        "        recall_test_macro_reg,\n",
        "        recall_test_macro_svm,\n",
        "        recall_test_macro_ensamble1,\n",
        "    ],\n",
        "    \"F1 Score\": [f1_test_dum, f1_test_reg, f1_test_svm, f1_test_ensamble1],\n",
        "    \"Fit_Time\": [\n",
        "        tiempo_fit_dummy,\n",
        "        tiempo_fit_reg,\n",
        "        tiempo_fit_svm,\n",
        "        tiempo_fit_ensamble1,\n",
        "    ],\n",
        "}\n",
        "\n",
        "cuadro2_df = pd.DataFrame(cuadro2)\n",
        "\n",
        "# Crear un DataFrame para almacenar los resultados\n",
        "cuadro2_df = pd.DataFrame(cuadro2, index=cuadro2[\"Modelo\"])\n",
        "cuadro2_df.drop(columns=[\"Modelo\"], inplace=True)\n",
        "\n",
        "# Ordenar el DataFrame por la columna F1_Tst de mayor a menor\n",
        "cuadro2_df = cuadro2_df.sort_values(by=\"F1 Score\", ascending=False)\n",
        "\n",
        "# Aquí puedes especificar el axis=0 para columnas o axis=1 para filas\n",
        "display_side_by_side(\n",
        "    [cuadro1_df, cuadro2_df],\n",
        "    [\"Conjunto de Entrenamiento\", \"Conjunto de Pruebas\"],\n",
        "    color=\"lightblue\",\n",
        "    axis=0,\n",
        ")"
      ]
    },
    {
      "cell_type": "code",
      "execution_count": null,
      "id": "5056f49c",
      "metadata": {
        "colab": {
          "base_uri": "https://localhost:8080/",
          "height": 607
        },
        "id": "5056f49c",
        "outputId": "37cc931a-9125-4c01-b99c-6c2c29111ed7",
        "scrolled": true
      },
      "outputs": [
        {
          "data": {
            "image/png": "[encoded data removed]",
            "text/plain": [
              "<Figure size 1008x432 with 2 Axes>"
            ]
          },
          "metadata": {
            "needs_background": "light"
          },
          "output_type": "display_data"
        },
        {
          "data": {
            "application/javascript": [
              "\n",
              "            setTimeout(function() {\n",
              "                var nbb_cell_id = 37;\n",
              "                var nbb_unformatted_code = \"# Generar las matrices de confusi\\u00f3n\\ncm_tv = confusion_matrix(ytv1, ytv1_pred_ensamble1)\\ncm_test = confusion_matrix(ytest1, ytest1_pred_ensamble1)\\n\\n# Crear DataFrames de las matrices de confusi\\u00f3n\\ncm_tv_df = pd.DataFrame(cm_tv, index=[0, 1], columns=[0, 1])\\ncm_test_df = pd.DataFrame(cm_test, index=[0, 1], columns=[0, 1])\\n\\n# Crear el heatmap usando seaborn\\nplt.figure(figsize=(14, 6))\\n\\n# Heatmap de la matriz de confusi\\u00f3n de entrenamiento\\nplt.subplot(1, 2, 1)\\nsns.heatmap(cm_tv_df, annot=True, fmt='d', cmap='Blues', cbar=False)\\nplt.title('Matriz de Confusi\\u00f3n - Entrenamiento')\\nplt.xlabel('Predicted')\\nplt.ylabel('Actual')\\n\\n# Heatmap de la matriz de confusi\\u00f3n de prueba\\nplt.subplot(1, 2, 2)\\nsns.heatmap(cm_test_df, annot=True, fmt='d', cmap='Blues', cbar=False)\\nplt.title('Matriz de Confusi\\u00f3n - Prueba')\\nplt.xlabel('Predicted')\\nplt.ylabel('Actual')\\n\\n# Mostrar las gr\\u00e1ficas\\nplt.tight_layout()\\nplt.show()\";\n",
              "                var nbb_formatted_code = \"# Generar las matrices de confusi\\u00f3n\\ncm_tv = confusion_matrix(ytv1, ytv1_pred_ensamble1)\\ncm_test = confusion_matrix(ytest1, ytest1_pred_ensamble1)\\n\\n# Crear DataFrames de las matrices de confusi\\u00f3n\\ncm_tv_df = pd.DataFrame(cm_tv, index=[0, 1], columns=[0, 1])\\ncm_test_df = pd.DataFrame(cm_test, index=[0, 1], columns=[0, 1])\\n\\n# Crear el heatmap usando seaborn\\nplt.figure(figsize=(14, 6))\\n\\n# Heatmap de la matriz de confusi\\u00f3n de entrenamiento\\nplt.subplot(1, 2, 1)\\nsns.heatmap(cm_tv_df, annot=True, fmt=\\\"d\\\", cmap=\\\"Blues\\\", cbar=False)\\nplt.title(\\\"Matriz de Confusi\\u00f3n - Entrenamiento\\\")\\nplt.xlabel(\\\"Predicted\\\")\\nplt.ylabel(\\\"Actual\\\")\\n\\n# Heatmap de la matriz de confusi\\u00f3n de prueba\\nplt.subplot(1, 2, 2)\\nsns.heatmap(cm_test_df, annot=True, fmt=\\\"d\\\", cmap=\\\"Blues\\\", cbar=False)\\nplt.title(\\\"Matriz de Confusi\\u00f3n - Prueba\\\")\\nplt.xlabel(\\\"Predicted\\\")\\nplt.ylabel(\\\"Actual\\\")\\n\\n# Mostrar las gr\\u00e1ficas\\nplt.tight_layout()\\nplt.show()\";\n",
              "                var nbb_cells = Jupyter.notebook.get_cells();\n",
              "                for (var i = 0; i < nbb_cells.length; ++i) {\n",
              "                    if (nbb_cells[i].input_prompt_number == nbb_cell_id) {\n",
              "                        if (nbb_cells[i].get_text() == nbb_unformatted_code) {\n",
              "                             nbb_cells[i].set_text(nbb_formatted_code);\n",
              "                        }\n",
              "                        break;\n",
              "                    }\n",
              "                }\n",
              "            }, 500);\n",
              "            "
            ],
            "text/plain": [
              "<IPython.core.display.Javascript object>"
            ]
          },
          "metadata": {},
          "output_type": "display_data"
        }
      ],
      "source": [
        "# Generar las matrices de confusión\n",
        "cm_tv = confusion_matrix(ytv1, ytv1_pred_ensamble1)\n",
        "cm_test = confusion_matrix(ytest1, ytest1_pred_ensamble1)\n",
        "\n",
        "# Crear DataFrames de las matrices de confusión\n",
        "cm_tv_df = pd.DataFrame(cm_tv, index=[0, 1], columns=[0, 1])\n",
        "cm_test_df = pd.DataFrame(cm_test, index=[0, 1], columns=[0, 1])\n",
        "\n",
        "# Crear el heatmap usando seaborn\n",
        "plt.figure(figsize=(14, 6))\n",
        "\n",
        "# Heatmap de la matriz de confusión de entrenamiento\n",
        "plt.subplot(1, 2, 1)\n",
        "sns.heatmap(cm_tv_df, annot=True, fmt=\"d\", cmap=\"Blues\", cbar=False)\n",
        "plt.title(\"Matriz de Confusión - Entrenamiento\")\n",
        "plt.xlabel(\"Predicted\")\n",
        "plt.ylabel(\"Actual\")\n",
        "\n",
        "# Heatmap de la matriz de confusión de prueba\n",
        "plt.subplot(1, 2, 2)\n",
        "sns.heatmap(cm_test_df, annot=True, fmt=\"d\", cmap=\"Blues\", cbar=False)\n",
        "plt.title(\"Matriz de Confusión - Prueba\")\n",
        "plt.xlabel(\"Predicted\")\n",
        "plt.ylabel(\"Actual\")\n",
        "\n",
        "# Mostrar las gráficas\n",
        "plt.tight_layout()\n",
        "plt.show()"
      ]
    },
    {
      "cell_type": "markdown",
      "id": "CKuG3Msfk3jV",
      "metadata": {
        "id": "CKuG3Msfk3jV"
      },
      "source": [
        "#### 2.2.2 Bagging con Regresión Logística"
      ]
    },
    {
      "cell_type": "code",
      "execution_count": null,
      "id": "Lw7W3ixhg0QO",
      "metadata": {
        "colab": {
          "base_uri": "https://localhost:8080/",
          "height": 164
        },
        "id": "Lw7W3ixhg0QO",
        "outputId": "ff61d28b-78ff-4bba-cc54-314b1227c040"
      },
      "outputs": [
        {
          "data": {
            "text/html": [
              "<div style=\"display: inline-block; padding: 10px;\"><h3>Conjunto de Entrenamiento</h3><style type=\"text/css\">\n",
              "#T_acc74_row0_col2, #T_acc74_row1_col0, #T_acc74_row1_col1, #T_acc74_row1_col3 {\n",
              "  background-color: lightblue;\n",
              "}\n",
              "</style>\n",
              "<table id=\"T_acc74\">\n",
              "  <thead>\n",
              "    <tr>\n",
              "      <th class=\"blank level0\" >&nbsp;</th>\n",
              "      <th id=\"T_acc74_level0_col0\" class=\"col_heading level0 col0\" >Recall</th>\n",
              "      <th id=\"T_acc74_level0_col1\" class=\"col_heading level0 col1\" >Recall Macro</th>\n",
              "      <th id=\"T_acc74_level0_col2\" class=\"col_heading level0 col2\" >F1 Score</th>\n",
              "      <th id=\"T_acc74_level0_col3\" class=\"col_heading level0 col3\" >Fit_Time</th>\n",
              "    </tr>\n",
              "  </thead>\n",
              "  <tbody>\n",
              "    <tr>\n",
              "      <th id=\"T_acc74_level0_row0\" class=\"row_heading level0 row0\" >Dummy</th>\n",
              "      <td id=\"T_acc74_row0_col0\" class=\"data row0 col0\" >0.000000</td>\n",
              "      <td id=\"T_acc74_row0_col1\" class=\"data row0 col1\" >0.000000</td>\n",
              "      <td id=\"T_acc74_row0_col2\" class=\"data row0 col2\" >0.774194</td>\n",
              "      <td id=\"T_acc74_row0_col3\" class=\"data row0 col3\" >0.000509</td>\n",
              "    </tr>\n",
              "    <tr>\n",
              "      <th id=\"T_acc74_level0_row1\" class=\"row_heading level0 row1\" >Ensemble</th>\n",
              "      <td id=\"T_acc74_row1_col0\" class=\"data row1 col0\" >0.733032</td>\n",
              "      <td id=\"T_acc74_row1_col1\" class=\"data row1 col1\" >0.688830</td>\n",
              "      <td id=\"T_acc74_row1_col2\" class=\"data row1 col2\" >0.760563</td>\n",
              "      <td id=\"T_acc74_row1_col3\" class=\"data row1 col3\" >1.042058</td>\n",
              "    </tr>\n",
              "    <tr>\n",
              "      <th id=\"T_acc74_level0_row2\" class=\"row_heading level0 row2\" >Regresión logística</th>\n",
              "      <td id=\"T_acc74_row2_col0\" class=\"data row2 col0\" >0.588235</td>\n",
              "      <td id=\"T_acc74_row2_col1\" class=\"data row2 col1\" >0.554448</td>\n",
              "      <td id=\"T_acc74_row2_col2\" class=\"data row2 col2\" >0.635697</td>\n",
              "      <td id=\"T_acc74_row2_col3\" class=\"data row2 col3\" >0.007448</td>\n",
              "    </tr>\n",
              "  </tbody>\n",
              "</table>\n",
              "</div><div style=\"display: inline-block; padding: 10px;\"><h3>Conjunto de Pruebas</h3><style type=\"text/css\">\n",
              "#T_62020_row0_col2, #T_62020_row1_col0, #T_62020_row1_col1, #T_62020_row2_col0, #T_62020_row2_col1, #T_62020_row2_col3 {\n",
              "  background-color: lightblue;\n",
              "}\n",
              "</style>\n",
              "<table id=\"T_62020\">\n",
              "  <thead>\n",
              "    <tr>\n",
              "      <th class=\"blank level0\" >&nbsp;</th>\n",
              "      <th id=\"T_62020_level0_col0\" class=\"col_heading level0 col0\" >Recall</th>\n",
              "      <th id=\"T_62020_level0_col1\" class=\"col_heading level0 col1\" >Recall Macro</th>\n",
              "      <th id=\"T_62020_level0_col2\" class=\"col_heading level0 col2\" >F1 Score</th>\n",
              "      <th id=\"T_62020_level0_col3\" class=\"col_heading level0 col3\" >Fit_Time</th>\n",
              "    </tr>\n",
              "  </thead>\n",
              "  <tbody>\n",
              "    <tr>\n",
              "      <th id=\"T_62020_level0_row0\" class=\"row_heading level0 row0\" >Dummy</th>\n",
              "      <td id=\"T_62020_row0_col0\" class=\"data row0 col0\" >0.000000</td>\n",
              "      <td id=\"T_62020_row0_col1\" class=\"data row0 col1\" >0.000000</td>\n",
              "      <td id=\"T_62020_row0_col2\" class=\"data row0 col2\" >0.774194</td>\n",
              "      <td id=\"T_62020_row0_col3\" class=\"data row0 col3\" >0.000509</td>\n",
              "    </tr>\n",
              "    <tr>\n",
              "      <th id=\"T_62020_level0_row1\" class=\"row_heading level0 row1\" >Regresión logística</th>\n",
              "      <td id=\"T_62020_row1_col0\" class=\"data row1 col0\" >0.666667</td>\n",
              "      <td id=\"T_62020_row1_col1\" class=\"data row1 col1\" >0.547619</td>\n",
              "      <td id=\"T_62020_row1_col2\" class=\"data row1 col2\" >0.666667</td>\n",
              "      <td id=\"T_62020_row1_col3\" class=\"data row1 col3\" >0.007448</td>\n",
              "    </tr>\n",
              "    <tr>\n",
              "      <th id=\"T_62020_level0_row2\" class=\"row_heading level0 row2\" >Ensemble</th>\n",
              "      <td id=\"T_62020_row2_col0\" class=\"data row2 col0\" >0.666667</td>\n",
              "      <td id=\"T_62020_row2_col1\" class=\"data row2 col1\" >0.547619</td>\n",
              "      <td id=\"T_62020_row2_col2\" class=\"data row2 col2\" >0.666667</td>\n",
              "      <td id=\"T_62020_row2_col3\" class=\"data row2 col3\" >1.042058</td>\n",
              "    </tr>\n",
              "  </tbody>\n",
              "</table>\n",
              "</div>"
            ]
          },
          "metadata": {},
          "output_type": "display_data"
        },
        {
          "data": {
            "application/javascript": [
              "\n",
              "            setTimeout(function() {\n",
              "                var nbb_cell_id = 38;\n",
              "                var nbb_unformatted_code = \"# Definimos el modelo\\nstart_time = time.time()\\nreg = LogisticRegression(solver='liblinear', class_weight= \\\"balanced\\\",\\n                         max_iter= 100, penalty = 'l2', tol = 0.0001, random_state=0)\\n\\n# se ajusta el modelo\\nreg.fit(Xtv1, ytv1)\\ntiempo_fit_reg = time.time() - start_time\\n\\n# generamos el ensamble usando bagging\\nstart_time = time.time()\\nensamble4 = BaggingClassifier(base_estimator=reg, n_estimators=200, random_state=42)\\n\\n# Entrenamos el ensamble\\nensamble4.fit(Xtv1, ytv1)\\ntiempo_fit_ensamble4 = time.time() - start_time\\n\\n# Evaluamos el rendimiento de los modelos con el conjunto de entrenamiento\\n\\nytv_pred = cross_val_predict(reg, Xtv1, ytv1, cv=5)\\nrecall_tv = recall_score(ytv1, ytv_pred, average='binary')\\nrecall_tv_macro = recall_score(ytv1, ytv_pred, average='macro')\\nf1_tv = f1_score(ytv1, ytv_pred, average='binary')\\n\\nytv_pred_ensamble4 = ensamble4.predict(Xtv1)\\nrecall_tv_ensamble4 = recall_score(ytv1, ytv_pred_ensamble4, average='binary')\\nrecall_tv_macro_ensamble4 = recall_score(ytv1, ytv_pred_ensamble4, average='macro')\\nf1_tv_ensamble4 = f1_score(ytv1, ytv_pred_ensamble4, average='binary')\\n\\ncuadro1 = {\\n    'Modelo': ['Dummy', 'Regresi\\u00f3n log\\u00edstica', 'Ensemble'],\\n    'Recall': [recall_test_dum, recall_tv,  recall_tv_ensamble4],\\n    'Recall Macro': [recall_test_macro_dum, recall_tv_macro, recall_tv_macro_ensamble4],\\n    'F1 Score': [f1_test_dum, f1_tv, f1_tv_ensamble4],\\n    'Fit_Time': [tiempo_fit_dummy, tiempo_fit_reg, tiempo_fit_ensamble4]\\n}\\n\\n# Crear un DataFrame para almacenar los resultados\\ncuadro1_df = pd.DataFrame(cuadro1,index=cuadro1[\\\"Modelo\\\"])\\ncuadro1_df.drop(columns=['Modelo'], inplace=True)\\n\\n# Ordenar el DataFrame por la columna F1_Tst de mayor a menor\\ncuadro1_df = cuadro1_df.sort_values(by='F1 Score', ascending=False)\\n\\n\\n# Evaluamos el rendimiento de los modelos con el conjunto de pruebas\\n\\nytest_pred = cross_val_predict(reg, Xtest1, ytest1, cv=5)\\nrecall_test = recall_score(ytest1, ytest_pred, average='binary')\\nrecall_test_macro = recall_score(ytest1, ytest_pred, average='macro')\\nf1_test = f1_score(ytest1, ytest_pred, average='binary')\\n\\nytest_pred_ensamble4 = ensamble4.predict(Xtest1)\\nrecall_test_ensamble4 = recall_score(ytest1, ytest_pred_ensamble4, average='binary')\\nrecall_test_macro_ensamble4 = recall_score(ytest1, ytest_pred_ensamble4, average='macro')\\nf1_test_ensamble4 = f1_score(ytest1, ytest_pred_ensamble4, average='binary')\\n\\ncuadro2 = {\\n    'Modelo': ['Dummy', 'Regresi\\u00f3n log\\u00edstica', 'Ensemble'],\\n    'Recall': [recall_test_dum, recall_test, recall_test_ensamble4],\\n    'Recall Macro': [recall_test_macro_dum, recall_test_macro, recall_test_macro_ensamble4],\\n    'F1 Score': [f1_test_dum, f1_test, f1_test_ensamble4],\\n    'Fit_Time': [tiempo_fit_dummy, tiempo_fit_reg, tiempo_fit_ensamble4]\\n}\\n\\n# Crear un DataFrame para almacenar los resultados\\ncuadro2_df = pd.DataFrame(cuadro2,index=cuadro2[\\\"Modelo\\\"])\\ncuadro2_df.drop(columns=['Modelo'], inplace=True)\\n\\n# Ordenar el DataFrame por la columna F1_Tst de mayor a menor\\ncuadro2_df = cuadro2_df.sort_values(by='F1 Score', ascending=False)\\n\\n# Aqu\\u00ed puedes especificar el axis=0 para columnas o axis=1 para filas\\ndisplay_side_by_side([cuadro1_df, cuadro2_df], ['Conjunto de Entrenamiento', 'Conjunto de Pruebas'],\\n                     color='lightblue', axis=0)\";\n",
              "                var nbb_formatted_code = \"# Definimos el modelo\\nstart_time = time.time()\\nreg = LogisticRegression(\\n    solver=\\\"liblinear\\\",\\n    class_weight=\\\"balanced\\\",\\n    max_iter=100,\\n    penalty=\\\"l2\\\",\\n    tol=0.0001,\\n    random_state=0,\\n)\\n\\n# se ajusta el modelo\\nreg.fit(Xtv1, ytv1)\\ntiempo_fit_reg = time.time() - start_time\\n\\n# generamos el ensamble usando bagging\\nstart_time = time.time()\\nensamble4 = BaggingClassifier(base_estimator=reg, n_estimators=200, random_state=42)\\n\\n# Entrenamos el ensamble\\nensamble4.fit(Xtv1, ytv1)\\ntiempo_fit_ensamble4 = time.time() - start_time\\n\\n# Evaluamos el rendimiento de los modelos con el conjunto de entrenamiento\\n\\nytv_pred = cross_val_predict(reg, Xtv1, ytv1, cv=5)\\nrecall_tv = recall_score(ytv1, ytv_pred, average=\\\"binary\\\")\\nrecall_tv_macro = recall_score(ytv1, ytv_pred, average=\\\"macro\\\")\\nf1_tv = f1_score(ytv1, ytv_pred, average=\\\"binary\\\")\\n\\nytv_pred_ensamble4 = ensamble4.predict(Xtv1)\\nrecall_tv_ensamble4 = recall_score(ytv1, ytv_pred_ensamble4, average=\\\"binary\\\")\\nrecall_tv_macro_ensamble4 = recall_score(ytv1, ytv_pred_ensamble4, average=\\\"macro\\\")\\nf1_tv_ensamble4 = f1_score(ytv1, ytv_pred_ensamble4, average=\\\"binary\\\")\\n\\ncuadro1 = {\\n    \\\"Modelo\\\": [\\\"Dummy\\\", \\\"Regresi\\u00f3n log\\u00edstica\\\", \\\"Ensemble\\\"],\\n    \\\"Recall\\\": [recall_test_dum, recall_tv, recall_tv_ensamble4],\\n    \\\"Recall Macro\\\": [recall_test_macro_dum, recall_tv_macro, recall_tv_macro_ensamble4],\\n    \\\"F1 Score\\\": [f1_test_dum, f1_tv, f1_tv_ensamble4],\\n    \\\"Fit_Time\\\": [tiempo_fit_dummy, tiempo_fit_reg, tiempo_fit_ensamble4],\\n}\\n\\n# Crear un DataFrame para almacenar los resultados\\ncuadro1_df = pd.DataFrame(cuadro1, index=cuadro1[\\\"Modelo\\\"])\\ncuadro1_df.drop(columns=[\\\"Modelo\\\"], inplace=True)\\n\\n# Ordenar el DataFrame por la columna F1_Tst de mayor a menor\\ncuadro1_df = cuadro1_df.sort_values(by=\\\"F1 Score\\\", ascending=False)\\n\\n\\n# Evaluamos el rendimiento de los modelos con el conjunto de pruebas\\n\\nytest_pred = cross_val_predict(reg, Xtest1, ytest1, cv=5)\\nrecall_test = recall_score(ytest1, ytest_pred, average=\\\"binary\\\")\\nrecall_test_macro = recall_score(ytest1, ytest_pred, average=\\\"macro\\\")\\nf1_test = f1_score(ytest1, ytest_pred, average=\\\"binary\\\")\\n\\nytest_pred_ensamble4 = ensamble4.predict(Xtest1)\\nrecall_test_ensamble4 = recall_score(ytest1, ytest_pred_ensamble4, average=\\\"binary\\\")\\nrecall_test_macro_ensamble4 = recall_score(\\n    ytest1, ytest_pred_ensamble4, average=\\\"macro\\\"\\n)\\nf1_test_ensamble4 = f1_score(ytest1, ytest_pred_ensamble4, average=\\\"binary\\\")\\n\\ncuadro2 = {\\n    \\\"Modelo\\\": [\\\"Dummy\\\", \\\"Regresi\\u00f3n log\\u00edstica\\\", \\\"Ensemble\\\"],\\n    \\\"Recall\\\": [recall_test_dum, recall_test, recall_test_ensamble4],\\n    \\\"Recall Macro\\\": [\\n        recall_test_macro_dum,\\n        recall_test_macro,\\n        recall_test_macro_ensamble4,\\n    ],\\n    \\\"F1 Score\\\": [f1_test_dum, f1_test, f1_test_ensamble4],\\n    \\\"Fit_Time\\\": [tiempo_fit_dummy, tiempo_fit_reg, tiempo_fit_ensamble4],\\n}\\n\\n# Crear un DataFrame para almacenar los resultados\\ncuadro2_df = pd.DataFrame(cuadro2, index=cuadro2[\\\"Modelo\\\"])\\ncuadro2_df.drop(columns=[\\\"Modelo\\\"], inplace=True)\\n\\n# Ordenar el DataFrame por la columna F1_Tst de mayor a menor\\ncuadro2_df = cuadro2_df.sort_values(by=\\\"F1 Score\\\", ascending=False)\\n\\n# Aqu\\u00ed puedes especificar el axis=0 para columnas o axis=1 para filas\\ndisplay_side_by_side(\\n    [cuadro1_df, cuadro2_df],\\n    [\\\"Conjunto de Entrenamiento\\\", \\\"Conjunto de Pruebas\\\"],\\n    color=\\\"lightblue\\\",\\n    axis=0,\\n)\";\n",
              "                var nbb_cells = Jupyter.notebook.get_cells();\n",
              "                for (var i = 0; i < nbb_cells.length; ++i) {\n",
              "                    if (nbb_cells[i].input_prompt_number == nbb_cell_id) {\n",
              "                        if (nbb_cells[i].get_text() == nbb_unformatted_code) {\n",
              "                             nbb_cells[i].set_text(nbb_formatted_code);\n",
              "                        }\n",
              "                        break;\n",
              "                    }\n",
              "                }\n",
              "            }, 500);\n",
              "            "
            ],
            "text/plain": [
              "<IPython.core.display.Javascript object>"
            ]
          },
          "metadata": {},
          "output_type": "display_data"
        }
      ],
      "source": [
        "# Definimos el modelo\n",
        "start_time = time.time()\n",
        "reg = LogisticRegression(\n",
        "    solver=\"liblinear\",\n",
        "    class_weight=\"balanced\",\n",
        "    max_iter=100,\n",
        "    penalty=\"l2\",\n",
        "    tol=0.0001,\n",
        "    random_state=0,\n",
        ")\n",
        "\n",
        "# se ajusta el modelo\n",
        "reg.fit(Xtv1, ytv1)\n",
        "tiempo_fit_reg = time.time() - start_time\n",
        "\n",
        "# generamos el ensamble usando bagging\n",
        "start_time = time.time()\n",
        "ensamble4 = BaggingClassifier(base_estimator=reg, n_estimators=200, random_state=42)\n",
        "\n",
        "# Entrenamos el ensamble\n",
        "ensamble4.fit(Xtv1, ytv1)\n",
        "tiempo_fit_ensamble4 = time.time() - start_time\n",
        "\n",
        "# Evaluamos el rendimiento de los modelos con el conjunto de entrenamiento\n",
        "\n",
        "ytv_pred = cross_val_predict(reg, Xtv1, ytv1, cv=5)\n",
        "recall_tv = recall_score(ytv1, ytv_pred, average=\"binary\")\n",
        "recall_tv_macro = recall_score(ytv1, ytv_pred, average=\"macro\")\n",
        "f1_tv = f1_score(ytv1, ytv_pred, average=\"binary\")\n",
        "\n",
        "ytv_pred_ensamble4 = ensamble4.predict(Xtv1)\n",
        "recall_tv_ensamble4 = recall_score(ytv1, ytv_pred_ensamble4, average=\"binary\")\n",
        "recall_tv_macro_ensamble4 = recall_score(ytv1, ytv_pred_ensamble4, average=\"macro\")\n",
        "f1_tv_ensamble4 = f1_score(ytv1, ytv_pred_ensamble4, average=\"binary\")\n",
        "\n",
        "cuadro1 = {\n",
        "    \"Modelo\": [\"Dummy\", \"Regresión logística\", \"Ensemble\"],\n",
        "    \"Recall\": [recall_test_dum, recall_tv, recall_tv_ensamble4],\n",
        "    \"Recall Macro\": [recall_test_macro_dum, recall_tv_macro, recall_tv_macro_ensamble4],\n",
        "    \"F1 Score\": [f1_test_dum, f1_tv, f1_tv_ensamble4],\n",
        "    \"Fit_Time\": [tiempo_fit_dummy, tiempo_fit_reg, tiempo_fit_ensamble4],\n",
        "}\n",
        "\n",
        "# Crear un DataFrame para almacenar los resultados\n",
        "cuadro1_df = pd.DataFrame(cuadro1, index=cuadro1[\"Modelo\"])\n",
        "cuadro1_df.drop(columns=[\"Modelo\"], inplace=True)\n",
        "\n",
        "# Ordenar el DataFrame por la columna F1_Tst de mayor a menor\n",
        "cuadro1_df = cuadro1_df.sort_values(by=\"F1 Score\", ascending=False)\n",
        "\n",
        "\n",
        "# Evaluamos el rendimiento de los modelos con el conjunto de pruebas\n",
        "\n",
        "ytest_pred = cross_val_predict(reg, Xtest1, ytest1, cv=5)\n",
        "recall_test = recall_score(ytest1, ytest_pred, average=\"binary\")\n",
        "recall_test_macro = recall_score(ytest1, ytest_pred, average=\"macro\")\n",
        "f1_test = f1_score(ytest1, ytest_pred, average=\"binary\")\n",
        "\n",
        "ytest_pred_ensamble4 = ensamble4.predict(Xtest1)\n",
        "recall_test_ensamble4 = recall_score(ytest1, ytest_pred_ensamble4, average=\"binary\")\n",
        "recall_test_macro_ensamble4 = recall_score(\n",
        "    ytest1, ytest_pred_ensamble4, average=\"macro\"\n",
        ")\n",
        "f1_test_ensamble4 = f1_score(ytest1, ytest_pred_ensamble4, average=\"binary\")\n",
        "\n",
        "cuadro2 = {\n",
        "    \"Modelo\": [\"Dummy\", \"Regresión logística\", \"Ensemble\"],\n",
        "    \"Recall\": [recall_test_dum, recall_test, recall_test_ensamble4],\n",
        "    \"Recall Macro\": [\n",
        "        recall_test_macro_dum,\n",
        "        recall_test_macro,\n",
        "        recall_test_macro_ensamble4,\n",
        "    ],\n",
        "    \"F1 Score\": [f1_test_dum, f1_test, f1_test_ensamble4],\n",
        "    \"Fit_Time\": [tiempo_fit_dummy, tiempo_fit_reg, tiempo_fit_ensamble4],\n",
        "}\n",
        "\n",
        "# Crear un DataFrame para almacenar los resultados\n",
        "cuadro2_df = pd.DataFrame(cuadro2, index=cuadro2[\"Modelo\"])\n",
        "cuadro2_df.drop(columns=[\"Modelo\"], inplace=True)\n",
        "\n",
        "# Ordenar el DataFrame por la columna F1_Tst de mayor a menor\n",
        "cuadro2_df = cuadro2_df.sort_values(by=\"F1 Score\", ascending=False)\n",
        "\n",
        "# Aquí puedes especificar el axis=0 para columnas o axis=1 para filas\n",
        "display_side_by_side(\n",
        "    [cuadro1_df, cuadro2_df],\n",
        "    [\"Conjunto de Entrenamiento\", \"Conjunto de Pruebas\"],\n",
        "    color=\"lightblue\",\n",
        "    axis=0,\n",
        ")"
      ]
    },
    {
      "cell_type": "code",
      "execution_count": null,
      "id": "51caaf14",
      "metadata": {
        "colab": {
          "base_uri": "https://localhost:8080/",
          "height": 607
        },
        "id": "51caaf14",
        "outputId": "04f19659-d813-481d-f019-df26b26f1aea"
      },
      "outputs": [
        {
          "data": {
            "image/png": "[encoded data removed]",
            "text/plain": [
              "<Figure size 1008x432 with 2 Axes>"
            ]
          },
          "metadata": {
            "needs_background": "light"
          },
          "output_type": "display_data"
        },
        {
          "data": {
            "application/javascript": [
              "\n",
              "            setTimeout(function() {\n",
              "                var nbb_cell_id = 39;\n",
              "                var nbb_unformatted_code = \"# Generar las matrices de confusi\\u00f3n\\ncm_tv = confusion_matrix(ytv1, ytv_pred_ensamble4)\\ncm_test = confusion_matrix(ytest1, ytest_pred_ensamble4)\\n\\n# Crear DataFrames de las matrices de confusi\\u00f3n\\ncm_tv_df = pd.DataFrame(cm_tv, index=[0, 1], columns=[0, 1])\\ncm_test_df = pd.DataFrame(cm_test, index=[0, 1], columns=[0, 1])\\n\\n# Crear el heatmap usando seaborn\\nplt.figure(figsize=(14, 6))\\n\\n# Heatmap de la matriz de confusi\\u00f3n de entrenamiento\\nplt.subplot(1, 2, 1)\\nsns.heatmap(cm_tv_df, annot=True, fmt='d', cmap='Blues', cbar=False)\\nplt.title('Matriz de Confusi\\u00f3n - Entrenamiento')\\nplt.xlabel('Predicted')\\nplt.ylabel('Actual')\\n\\n# Heatmap de la matriz de confusi\\u00f3n de prueba\\nplt.subplot(1, 2, 2)\\nsns.heatmap(cm_test_df, annot=True, fmt='d', cmap='Blues', cbar=False)\\nplt.title('Matriz de Confusi\\u00f3n - Prueba')\\nplt.xlabel('Predicted')\\nplt.ylabel('Actual')\\n\\n# Mostrar las gr\\u00e1ficas\\nplt.tight_layout()\\nplt.show()\";\n",
              "                var nbb_formatted_code = \"# Generar las matrices de confusi\\u00f3n\\ncm_tv = confusion_matrix(ytv1, ytv_pred_ensamble4)\\ncm_test = confusion_matrix(ytest1, ytest_pred_ensamble4)\\n\\n# Crear DataFrames de las matrices de confusi\\u00f3n\\ncm_tv_df = pd.DataFrame(cm_tv, index=[0, 1], columns=[0, 1])\\ncm_test_df = pd.DataFrame(cm_test, index=[0, 1], columns=[0, 1])\\n\\n# Crear el heatmap usando seaborn\\nplt.figure(figsize=(14, 6))\\n\\n# Heatmap de la matriz de confusi\\u00f3n de entrenamiento\\nplt.subplot(1, 2, 1)\\nsns.heatmap(cm_tv_df, annot=True, fmt=\\\"d\\\", cmap=\\\"Blues\\\", cbar=False)\\nplt.title(\\\"Matriz de Confusi\\u00f3n - Entrenamiento\\\")\\nplt.xlabel(\\\"Predicted\\\")\\nplt.ylabel(\\\"Actual\\\")\\n\\n# Heatmap de la matriz de confusi\\u00f3n de prueba\\nplt.subplot(1, 2, 2)\\nsns.heatmap(cm_test_df, annot=True, fmt=\\\"d\\\", cmap=\\\"Blues\\\", cbar=False)\\nplt.title(\\\"Matriz de Confusi\\u00f3n - Prueba\\\")\\nplt.xlabel(\\\"Predicted\\\")\\nplt.ylabel(\\\"Actual\\\")\\n\\n# Mostrar las gr\\u00e1ficas\\nplt.tight_layout()\\nplt.show()\";\n",
              "                var nbb_cells = Jupyter.notebook.get_cells();\n",
              "                for (var i = 0; i < nbb_cells.length; ++i) {\n",
              "                    if (nbb_cells[i].input_prompt_number == nbb_cell_id) {\n",
              "                        if (nbb_cells[i].get_text() == nbb_unformatted_code) {\n",
              "                             nbb_cells[i].set_text(nbb_formatted_code);\n",
              "                        }\n",
              "                        break;\n",
              "                    }\n",
              "                }\n",
              "            }, 500);\n",
              "            "
            ],
            "text/plain": [
              "<IPython.core.display.Javascript object>"
            ]
          },
          "metadata": {},
          "output_type": "display_data"
        }
      ],
      "source": [
        "# Generar las matrices de confusión\n",
        "cm_tv = confusion_matrix(ytv1, ytv_pred_ensamble4)\n",
        "cm_test = confusion_matrix(ytest1, ytest_pred_ensamble4)\n",
        "\n",
        "# Crear DataFrames de las matrices de confusión\n",
        "cm_tv_df = pd.DataFrame(cm_tv, index=[0, 1], columns=[0, 1])\n",
        "cm_test_df = pd.DataFrame(cm_test, index=[0, 1], columns=[0, 1])\n",
        "\n",
        "# Crear el heatmap usando seaborn\n",
        "plt.figure(figsize=(14, 6))\n",
        "\n",
        "# Heatmap de la matriz de confusión de entrenamiento\n",
        "plt.subplot(1, 2, 1)\n",
        "sns.heatmap(cm_tv_df, annot=True, fmt=\"d\", cmap=\"Blues\", cbar=False)\n",
        "plt.title(\"Matriz de Confusión - Entrenamiento\")\n",
        "plt.xlabel(\"Predicted\")\n",
        "plt.ylabel(\"Actual\")\n",
        "\n",
        "# Heatmap de la matriz de confusión de prueba\n",
        "plt.subplot(1, 2, 2)\n",
        "sns.heatmap(cm_test_df, annot=True, fmt=\"d\", cmap=\"Blues\", cbar=False)\n",
        "plt.title(\"Matriz de Confusión - Prueba\")\n",
        "plt.xlabel(\"Predicted\")\n",
        "plt.ylabel(\"Actual\")\n",
        "\n",
        "# Mostrar las gráficas\n",
        "plt.tight_layout()\n",
        "plt.show()"
      ]
    },
    {
      "cell_type": "markdown",
      "id": "bMVRgOsywk-N",
      "metadata": {
        "id": "bMVRgOsywk-N"
      },
      "source": [
        "#### 2.2.3 Bagging con red Neuronal"
      ]
    },
    {
      "cell_type": "code",
      "execution_count": null,
      "id": "I59XFcpvpUQg",
      "metadata": {
        "id": "I59XFcpvpUQg",
        "outputId": "6a2c99b3-03e9-41af-dd99-4b371ffe086e"
      },
      "outputs": [
        {
          "data": {
            "application/javascript": [
              "\n",
              "            setTimeout(function() {\n",
              "                var nbb_cell_id = 40;\n",
              "                var nbb_unformatted_code = \"#Generamos la base con las caracter\\u00edsticas y la variable de salida\\nX2 = df_TCL.drop(columns=['Sintomas_ansiosos_encoded'])\\nY2 = df_TCL['Sintomas_ansiosos_encoded']\\nXtv2, Xtest2, ytv2, ytest2 = train_test_split(X2, Y2, train_size = 0.9, random_state = 0)\";\n",
              "                var nbb_formatted_code = \"# Generamos la base con las caracter\\u00edsticas y la variable de salida\\nX2 = df_TCL.drop(columns=[\\\"Sintomas_ansiosos_encoded\\\"])\\nY2 = df_TCL[\\\"Sintomas_ansiosos_encoded\\\"]\\nXtv2, Xtest2, ytv2, ytest2 = train_test_split(X2, Y2, train_size=0.9, random_state=0)\";\n",
              "                var nbb_cells = Jupyter.notebook.get_cells();\n",
              "                for (var i = 0; i < nbb_cells.length; ++i) {\n",
              "                    if (nbb_cells[i].input_prompt_number == nbb_cell_id) {\n",
              "                        if (nbb_cells[i].get_text() == nbb_unformatted_code) {\n",
              "                             nbb_cells[i].set_text(nbb_formatted_code);\n",
              "                        }\n",
              "                        break;\n",
              "                    }\n",
              "                }\n",
              "            }, 500);\n",
              "            "
            ],
            "text/plain": [
              "<IPython.core.display.Javascript object>"
            ]
          },
          "metadata": {},
          "output_type": "display_data"
        }
      ],
      "source": [
        "# Generamos la base con las características y la variable de salida\n",
        "X2 = df_TCL.drop(columns=[\"Sintomas_ansiosos_encoded\"])\n",
        "Y2 = df_TCL[\"Sintomas_ansiosos_encoded\"]\n",
        "Xtv2, Xtest2, ytv2, ytest2 = train_test_split(X2, Y2, train_size=0.9, random_state=0)"
      ]
    },
    {
      "cell_type": "code",
      "execution_count": null,
      "id": "Haz1IKpyg0VG",
      "metadata": {
        "colab": {
          "base_uri": "https://localhost:8080/",
          "height": 164
        },
        "id": "Haz1IKpyg0VG",
        "outputId": "281f4453-d55d-4e8c-f860-6317b6ecbe21"
      },
      "outputs": [
        {
          "data": {
            "text/html": [
              "<div style=\"display: inline-block; padding: 10px;\"><h3>Conjunto de Entrenamiento</h3><style type=\"text/css\">\n",
              "#T_57990_row0_col0, #T_57990_row0_col1, #T_57990_row0_col2, #T_57990_row0_col3 {\n",
              "  background-color: lightblue;\n",
              "}\n",
              "</style>\n",
              "<table id=\"T_57990\">\n",
              "  <thead>\n",
              "    <tr>\n",
              "      <th class=\"blank level0\" >&nbsp;</th>\n",
              "      <th id=\"T_57990_level0_col0\" class=\"col_heading level0 col0\" >Recall</th>\n",
              "      <th id=\"T_57990_level0_col1\" class=\"col_heading level0 col1\" >Recall Macro</th>\n",
              "      <th id=\"T_57990_level0_col2\" class=\"col_heading level0 col2\" >F1 Score</th>\n",
              "      <th id=\"T_57990_level0_col3\" class=\"col_heading level0 col3\" >Fit_Time</th>\n",
              "    </tr>\n",
              "  </thead>\n",
              "  <tbody>\n",
              "    <tr>\n",
              "      <th id=\"T_57990_level0_row0\" class=\"row_heading level0 row0\" >Ensemble</th>\n",
              "      <td id=\"T_57990_row0_col0\" class=\"data row0 col0\" >1.000000</td>\n",
              "      <td id=\"T_57990_row0_col1\" class=\"data row0 col1\" >0.995868</td>\n",
              "      <td id=\"T_57990_row0_col2\" class=\"data row0 col2\" >0.997743</td>\n",
              "      <td id=\"T_57990_row0_col3\" class=\"data row0 col3\" >47.840726</td>\n",
              "    </tr>\n",
              "    <tr>\n",
              "      <th id=\"T_57990_level0_row1\" class=\"row_heading level0 row1\" >Dummy</th>\n",
              "      <td id=\"T_57990_row1_col0\" class=\"data row1 col0\" >0.000000</td>\n",
              "      <td id=\"T_57990_row1_col1\" class=\"data row1 col1\" >0.000000</td>\n",
              "      <td id=\"T_57990_row1_col2\" class=\"data row1 col2\" >0.774194</td>\n",
              "      <td id=\"T_57990_row1_col3\" class=\"data row1 col3\" >0.000509</td>\n",
              "    </tr>\n",
              "    <tr>\n",
              "      <th id=\"T_57990_level0_row2\" class=\"row_heading level0 row2\" >red neuronal</th>\n",
              "      <td id=\"T_57990_row2_col0\" class=\"data row2 col0\" >0.692308</td>\n",
              "      <td id=\"T_57990_row2_col1\" class=\"data row2 col1\" >0.523840</td>\n",
              "      <td id=\"T_57990_row2_col2\" class=\"data row2 col2\" >0.676991</td>\n",
              "      <td id=\"T_57990_row2_col3\" class=\"data row2 col3\" >0.256779</td>\n",
              "    </tr>\n",
              "  </tbody>\n",
              "</table>\n",
              "</div><div style=\"display: inline-block; padding: 10px;\"><h3>Conjunto de Pruebas</h3><style type=\"text/css\">\n",
              "#T_1caa7_row0_col2, #T_1caa7_row1_col0, #T_1caa7_row1_col1, #T_1caa7_row1_col3 {\n",
              "  background-color: lightblue;\n",
              "}\n",
              "</style>\n",
              "<table id=\"T_1caa7\">\n",
              "  <thead>\n",
              "    <tr>\n",
              "      <th class=\"blank level0\" >&nbsp;</th>\n",
              "      <th id=\"T_1caa7_level0_col0\" class=\"col_heading level0 col0\" >Recall</th>\n",
              "      <th id=\"T_1caa7_level0_col1\" class=\"col_heading level0 col1\" >Recall Macro</th>\n",
              "      <th id=\"T_1caa7_level0_col2\" class=\"col_heading level0 col2\" >F1 Score</th>\n",
              "      <th id=\"T_1caa7_level0_col3\" class=\"col_heading level0 col3\" >Fit_Time</th>\n",
              "    </tr>\n",
              "  </thead>\n",
              "  <tbody>\n",
              "    <tr>\n",
              "      <th id=\"T_1caa7_level0_row0\" class=\"row_heading level0 row0\" >Dummy</th>\n",
              "      <td id=\"T_1caa7_row0_col0\" class=\"data row0 col0\" >0.000000</td>\n",
              "      <td id=\"T_1caa7_row0_col1\" class=\"data row0 col1\" >0.000000</td>\n",
              "      <td id=\"T_1caa7_row0_col2\" class=\"data row0 col2\" >0.774194</td>\n",
              "      <td id=\"T_1caa7_row0_col3\" class=\"data row0 col3\" >0.000509</td>\n",
              "    </tr>\n",
              "    <tr>\n",
              "      <th id=\"T_1caa7_level0_row1\" class=\"row_heading level0 row1\" >Ensemble</th>\n",
              "      <td id=\"T_1caa7_row1_col0\" class=\"data row1 col0\" >0.791667</td>\n",
              "      <td id=\"T_1caa7_row1_col1\" class=\"data row1 col1\" >0.610119</td>\n",
              "      <td id=\"T_1caa7_row1_col2\" class=\"data row1 col2\" >0.745098</td>\n",
              "      <td id=\"T_1caa7_row1_col3\" class=\"data row1 col3\" >47.840726</td>\n",
              "    </tr>\n",
              "    <tr>\n",
              "      <th id=\"T_1caa7_level0_row2\" class=\"row_heading level0 row2\" >red neuronal</th>\n",
              "      <td id=\"T_1caa7_row2_col0\" class=\"data row2 col0\" >0.625000</td>\n",
              "      <td id=\"T_1caa7_row2_col1\" class=\"data row2 col1\" >0.455357</td>\n",
              "      <td id=\"T_1caa7_row2_col2\" class=\"data row2 col2\" >0.612245</td>\n",
              "      <td id=\"T_1caa7_row2_col3\" class=\"data row2 col3\" >0.256779</td>\n",
              "    </tr>\n",
              "  </tbody>\n",
              "</table>\n",
              "</div>"
            ]
          },
          "metadata": {},
          "output_type": "display_data"
        },
        {
          "data": {
            "application/javascript": [
              "\n",
              "            setTimeout(function() {\n",
              "                var nbb_cell_id = 41;\n",
              "                var nbb_unformatted_code = \"# Definimos el modelo\\nstart_time = time.time()\\nred = MLPClassifier(solver=\\\"adam\\\",  activation = 'logistic', alpha = 0.1, hidden_layer_sizes = (50,),\\n                    learning_rate_init = 0.01, max_iter = 500, random_state=42)\\n\\n# se ajusta el modelo\\nred.fit(Xtv2, ytv2)\\ntiempo_fit_red = time.time() - start_time\\n\\n# generamos el ensamble usando bagging\\nstart_time = time.time()\\nensamble6 = BaggingClassifier(base_estimator=red, n_estimators=200, random_state=42)\\n\\n# Entrenamos el ensamble\\nensamble6.fit(Xtv2, ytv2)\\ntiempo_fit_ensamble6 = time.time() - start_time\\n\\n# Evaluamos el rendimiento de los modelos con el conjunto de entrenamiento\\n\\nytv_pred = cross_val_predict(red, Xtv2, ytv2, cv=5)\\nrecall_tv = recall_score(ytv2, ytv_pred, average='binary')\\nrecall_tv_macro = recall_score(ytv2, ytv_pred, average='macro')\\nf1_tv = f1_score(ytv2, ytv_pred, average='binary')\\n\\nytv_pred_ensamble6 = ensamble6.predict(Xtv2)\\nrecall_tv_ensamble6 = recall_score(ytv2, ytv_pred_ensamble6, average='binary')\\nrecall_tv_macro_ensamble6 = recall_score(ytv2, ytv_pred_ensamble6, average='macro')\\nf1_tv_ensamble6 = f1_score(ytv2, ytv_pred_ensamble6, average='binary')\\n\\ncuadro1 = {\\n    'Modelo': ['Dummy', 'red neuronal', 'Ensemble'],\\n    'Recall': [recall_test_dum, recall_tv,  recall_tv_ensamble6],\\n    'Recall Macro': [recall_test_macro_dum, recall_tv_macro, recall_tv_macro_ensamble6],\\n    'F1 Score': [f1_test_dum, f1_tv, f1_tv_ensamble6],\\n    'Fit_Time': [tiempo_fit_dummy, tiempo_fit_red,tiempo_fit_ensamble6]\\n}\\n\\n# Crear un DataFrame para almacenar los resultados\\ncuadro1_df = pd.DataFrame(cuadro1,index=cuadro1[\\\"Modelo\\\"])\\ncuadro1_df.drop(columns=['Modelo'], inplace=True)\\n\\n# Ordenar el DataFrame por la columna F1_Tst de mayor a menor\\ncuadro1_df = cuadro1_df.sort_values(by='F1 Score', ascending=False)\\n\\n\\n# Evaluamos el rendimiento de los modelos con el conjunto de pruebas\\n\\nytest_pred = cross_val_predict(red, Xtest2, ytest2, cv=5)\\nrecall_test = recall_score(ytest2, ytest_pred, average='binary')\\nrecall_test_macro = recall_score(ytest2, ytest_pred, average='macro')\\nf1_test = f1_score(ytest2, ytest_pred, average='binary')\\n\\nytest_pred_ensamble6 = ensamble6.predict(Xtest2)\\nrecall_test_ensamble6 = recall_score(ytest2, ytest_pred_ensamble6, average='binary')\\nrecall_test_macro_ensamble6 = recall_score(ytest2, ytest_pred_ensamble6, average='macro')\\nf1_test_ensamble6 = f1_score(ytest2, ytest_pred_ensamble6, average='binary')\\n\\ncuadro2 = {\\n    'Modelo': ['Dummy', 'red neuronal', 'Ensemble'],\\n    'Recall': [recall_test_dum, recall_test, recall_test_ensamble6],\\n    'Recall Macro': [recall_test_macro_dum, recall_test_macro, recall_test_macro_ensamble6],\\n    'F1 Score': [f1_test_dum, f1_test, f1_test_ensamble6],\\n    'Fit_Time': [tiempo_fit_dummy, tiempo_fit_red,tiempo_fit_ensamble6]\\n}\\n\\n# Crear un DataFrame para almacenar los resultados\\ncuadro2_df = pd.DataFrame(cuadro2,index=cuadro2[\\\"Modelo\\\"])\\ncuadro2_df.drop(columns=['Modelo'], inplace=True)\\n\\n# Ordenar el DataFrame por la columna F1_Tst de mayor a menor\\ncuadro2_df = cuadro2_df.sort_values(by='F1 Score', ascending=False)\\n\\n# Aqu\\u00ed puedes especificar el axis=0 para columnas o axis=1 para filas\\ndisplay_side_by_side([cuadro1_df, cuadro2_df], ['Conjunto de Entrenamiento', 'Conjunto de Pruebas'],\\n                     color='lightblue', axis=0)\";\n",
              "                var nbb_formatted_code = \"# Definimos el modelo\\nstart_time = time.time()\\nred = MLPClassifier(\\n    solver=\\\"adam\\\",\\n    activation=\\\"logistic\\\",\\n    alpha=0.1,\\n    hidden_layer_sizes=(50,),\\n    learning_rate_init=0.01,\\n    max_iter=500,\\n    random_state=42,\\n)\\n\\n# se ajusta el modelo\\nred.fit(Xtv2, ytv2)\\ntiempo_fit_red = time.time() - start_time\\n\\n# generamos el ensamble usando bagging\\nstart_time = time.time()\\nensamble6 = BaggingClassifier(base_estimator=red, n_estimators=200, random_state=42)\\n\\n# Entrenamos el ensamble\\nensamble6.fit(Xtv2, ytv2)\\ntiempo_fit_ensamble6 = time.time() - start_time\\n\\n# Evaluamos el rendimiento de los modelos con el conjunto de entrenamiento\\n\\nytv_pred = cross_val_predict(red, Xtv2, ytv2, cv=5)\\nrecall_tv = recall_score(ytv2, ytv_pred, average=\\\"binary\\\")\\nrecall_tv_macro = recall_score(ytv2, ytv_pred, average=\\\"macro\\\")\\nf1_tv = f1_score(ytv2, ytv_pred, average=\\\"binary\\\")\\n\\nytv_pred_ensamble6 = ensamble6.predict(Xtv2)\\nrecall_tv_ensamble6 = recall_score(ytv2, ytv_pred_ensamble6, average=\\\"binary\\\")\\nrecall_tv_macro_ensamble6 = recall_score(ytv2, ytv_pred_ensamble6, average=\\\"macro\\\")\\nf1_tv_ensamble6 = f1_score(ytv2, ytv_pred_ensamble6, average=\\\"binary\\\")\\n\\ncuadro1 = {\\n    \\\"Modelo\\\": [\\\"Dummy\\\", \\\"red neuronal\\\", \\\"Ensemble\\\"],\\n    \\\"Recall\\\": [recall_test_dum, recall_tv, recall_tv_ensamble6],\\n    \\\"Recall Macro\\\": [recall_test_macro_dum, recall_tv_macro, recall_tv_macro_ensamble6],\\n    \\\"F1 Score\\\": [f1_test_dum, f1_tv, f1_tv_ensamble6],\\n    \\\"Fit_Time\\\": [tiempo_fit_dummy, tiempo_fit_red, tiempo_fit_ensamble6],\\n}\\n\\n# Crear un DataFrame para almacenar los resultados\\ncuadro1_df = pd.DataFrame(cuadro1, index=cuadro1[\\\"Modelo\\\"])\\ncuadro1_df.drop(columns=[\\\"Modelo\\\"], inplace=True)\\n\\n# Ordenar el DataFrame por la columna F1_Tst de mayor a menor\\ncuadro1_df = cuadro1_df.sort_values(by=\\\"F1 Score\\\", ascending=False)\\n\\n\\n# Evaluamos el rendimiento de los modelos con el conjunto de pruebas\\n\\nytest_pred = cross_val_predict(red, Xtest2, ytest2, cv=5)\\nrecall_test = recall_score(ytest2, ytest_pred, average=\\\"binary\\\")\\nrecall_test_macro = recall_score(ytest2, ytest_pred, average=\\\"macro\\\")\\nf1_test = f1_score(ytest2, ytest_pred, average=\\\"binary\\\")\\n\\nytest_pred_ensamble6 = ensamble6.predict(Xtest2)\\nrecall_test_ensamble6 = recall_score(ytest2, ytest_pred_ensamble6, average=\\\"binary\\\")\\nrecall_test_macro_ensamble6 = recall_score(\\n    ytest2, ytest_pred_ensamble6, average=\\\"macro\\\"\\n)\\nf1_test_ensamble6 = f1_score(ytest2, ytest_pred_ensamble6, average=\\\"binary\\\")\\n\\ncuadro2 = {\\n    \\\"Modelo\\\": [\\\"Dummy\\\", \\\"red neuronal\\\", \\\"Ensemble\\\"],\\n    \\\"Recall\\\": [recall_test_dum, recall_test, recall_test_ensamble6],\\n    \\\"Recall Macro\\\": [\\n        recall_test_macro_dum,\\n        recall_test_macro,\\n        recall_test_macro_ensamble6,\\n    ],\\n    \\\"F1 Score\\\": [f1_test_dum, f1_test, f1_test_ensamble6],\\n    \\\"Fit_Time\\\": [tiempo_fit_dummy, tiempo_fit_red, tiempo_fit_ensamble6],\\n}\\n\\n# Crear un DataFrame para almacenar los resultados\\ncuadro2_df = pd.DataFrame(cuadro2, index=cuadro2[\\\"Modelo\\\"])\\ncuadro2_df.drop(columns=[\\\"Modelo\\\"], inplace=True)\\n\\n# Ordenar el DataFrame por la columna F1_Tst de mayor a menor\\ncuadro2_df = cuadro2_df.sort_values(by=\\\"F1 Score\\\", ascending=False)\\n\\n# Aqu\\u00ed puedes especificar el axis=0 para columnas o axis=1 para filas\\ndisplay_side_by_side(\\n    [cuadro1_df, cuadro2_df],\\n    [\\\"Conjunto de Entrenamiento\\\", \\\"Conjunto de Pruebas\\\"],\\n    color=\\\"lightblue\\\",\\n    axis=0,\\n)\";\n",
              "                var nbb_cells = Jupyter.notebook.get_cells();\n",
              "                for (var i = 0; i < nbb_cells.length; ++i) {\n",
              "                    if (nbb_cells[i].input_prompt_number == nbb_cell_id) {\n",
              "                        if (nbb_cells[i].get_text() == nbb_unformatted_code) {\n",
              "                             nbb_cells[i].set_text(nbb_formatted_code);\n",
              "                        }\n",
              "                        break;\n",
              "                    }\n",
              "                }\n",
              "            }, 500);\n",
              "            "
            ],
            "text/plain": [
              "<IPython.core.display.Javascript object>"
            ]
          },
          "metadata": {},
          "output_type": "display_data"
        }
      ],
      "source": [
        "# Definimos el modelo\n",
        "start_time = time.time()\n",
        "red = MLPClassifier(\n",
        "    solver=\"adam\",\n",
        "    activation=\"logistic\",\n",
        "    alpha=0.1,\n",
        "    hidden_layer_sizes=(50,),\n",
        "    learning_rate_init=0.01,\n",
        "    max_iter=500,\n",
        "    random_state=42,\n",
        ")\n",
        "\n",
        "# se ajusta el modelo\n",
        "red.fit(Xtv2, ytv2)\n",
        "tiempo_fit_red = time.time() - start_time\n",
        "\n",
        "# generamos el ensamble usando bagging\n",
        "start_time = time.time()\n",
        "ensamble6 = BaggingClassifier(base_estimator=red, n_estimators=200, random_state=42)\n",
        "\n",
        "# Entrenamos el ensamble\n",
        "ensamble6.fit(Xtv2, ytv2)\n",
        "tiempo_fit_ensamble6 = time.time() - start_time\n",
        "\n",
        "# Evaluamos el rendimiento de los modelos con el conjunto de entrenamiento\n",
        "\n",
        "ytv_pred = cross_val_predict(red, Xtv2, ytv2, cv=5)\n",
        "recall_tv = recall_score(ytv2, ytv_pred, average=\"binary\")\n",
        "recall_tv_macro = recall_score(ytv2, ytv_pred, average=\"macro\")\n",
        "f1_tv = f1_score(ytv2, ytv_pred, average=\"binary\")\n",
        "\n",
        "ytv_pred_ensamble6 = ensamble6.predict(Xtv2)\n",
        "recall_tv_ensamble6 = recall_score(ytv2, ytv_pred_ensamble6, average=\"binary\")\n",
        "recall_tv_macro_ensamble6 = recall_score(ytv2, ytv_pred_ensamble6, average=\"macro\")\n",
        "f1_tv_ensamble6 = f1_score(ytv2, ytv_pred_ensamble6, average=\"binary\")\n",
        "\n",
        "cuadro1 = {\n",
        "    \"Modelo\": [\"Dummy\", \"red neuronal\", \"Ensemble\"],\n",
        "    \"Recall\": [recall_test_dum, recall_tv, recall_tv_ensamble6],\n",
        "    \"Recall Macro\": [recall_test_macro_dum, recall_tv_macro, recall_tv_macro_ensamble6],\n",
        "    \"F1 Score\": [f1_test_dum, f1_tv, f1_tv_ensamble6],\n",
        "    \"Fit_Time\": [tiempo_fit_dummy, tiempo_fit_red, tiempo_fit_ensamble6],\n",
        "}\n",
        "\n",
        "# Crear un DataFrame para almacenar los resultados\n",
        "cuadro1_df = pd.DataFrame(cuadro1, index=cuadro1[\"Modelo\"])\n",
        "cuadro1_df.drop(columns=[\"Modelo\"], inplace=True)\n",
        "\n",
        "# Ordenar el DataFrame por la columna F1_Tst de mayor a menor\n",
        "cuadro1_df = cuadro1_df.sort_values(by=\"F1 Score\", ascending=False)\n",
        "\n",
        "\n",
        "# Evaluamos el rendimiento de los modelos con el conjunto de pruebas\n",
        "\n",
        "ytest_pred = cross_val_predict(red, Xtest2, ytest2, cv=5)\n",
        "recall_test = recall_score(ytest2, ytest_pred, average=\"binary\")\n",
        "recall_test_macro = recall_score(ytest2, ytest_pred, average=\"macro\")\n",
        "f1_test = f1_score(ytest2, ytest_pred, average=\"binary\")\n",
        "\n",
        "ytest_pred_ensamble6 = ensamble6.predict(Xtest2)\n",
        "recall_test_ensamble6 = recall_score(ytest2, ytest_pred_ensamble6, average=\"binary\")\n",
        "recall_test_macro_ensamble6 = recall_score(\n",
        "    ytest2, ytest_pred_ensamble6, average=\"macro\"\n",
        ")\n",
        "f1_test_ensamble6 = f1_score(ytest2, ytest_pred_ensamble6, average=\"binary\")\n",
        "\n",
        "cuadro2 = {\n",
        "    \"Modelo\": [\"Dummy\", \"red neuronal\", \"Ensemble\"],\n",
        "    \"Recall\": [recall_test_dum, recall_test, recall_test_ensamble6],\n",
        "    \"Recall Macro\": [\n",
        "        recall_test_macro_dum,\n",
        "        recall_test_macro,\n",
        "        recall_test_macro_ensamble6,\n",
        "    ],\n",
        "    \"F1 Score\": [f1_test_dum, f1_test, f1_test_ensamble6],\n",
        "    \"Fit_Time\": [tiempo_fit_dummy, tiempo_fit_red, tiempo_fit_ensamble6],\n",
        "}\n",
        "\n",
        "# Crear un DataFrame para almacenar los resultados\n",
        "cuadro2_df = pd.DataFrame(cuadro2, index=cuadro2[\"Modelo\"])\n",
        "cuadro2_df.drop(columns=[\"Modelo\"], inplace=True)\n",
        "\n",
        "# Ordenar el DataFrame por la columna F1_Tst de mayor a menor\n",
        "cuadro2_df = cuadro2_df.sort_values(by=\"F1 Score\", ascending=False)\n",
        "\n",
        "# Aquí puedes especificar el axis=0 para columnas o axis=1 para filas\n",
        "display_side_by_side(\n",
        "    [cuadro1_df, cuadro2_df],\n",
        "    [\"Conjunto de Entrenamiento\", \"Conjunto de Pruebas\"],\n",
        "    color=\"lightblue\",\n",
        "    axis=0,\n",
        ")"
      ]
    },
    {
      "cell_type": "code",
      "execution_count": null,
      "id": "76556e76",
      "metadata": {
        "colab": {
          "base_uri": "https://localhost:8080/",
          "height": 607
        },
        "id": "76556e76",
        "outputId": "ecebe2de-d17b-4268-d134-b3437c57da5e"
      },
      "outputs": [
        {
          "data": {
            "image/png": "[encoded data removed]",
            "text/plain": [
              "<Figure size 1008x432 with 2 Axes>"
            ]
          },
          "metadata": {
            "needs_background": "light"
          },
          "output_type": "display_data"
        },
        {
          "data": {
            "application/javascript": [
              "\n",
              "            setTimeout(function() {\n",
              "                var nbb_cell_id = 42;\n",
              "                var nbb_unformatted_code = \"# Generar las matrices de confusi\\u00f3n\\ncm_tv = confusion_matrix(ytv2, ytv_pred_ensamble6)\\ncm_test = confusion_matrix(ytest2, ytest_pred_ensamble6)\\n\\n# Crear DataFrames de las matrices de confusi\\u00f3n\\ncm_tv_df = pd.DataFrame(cm_tv, index=[0, 1], columns=[0, 1])\\ncm_test_df = pd.DataFrame(cm_test, index=[0, 1], columns=[0, 1])\\n\\n# Crear el heatmap usando seaborn\\nplt.figure(figsize=(14, 6))\\n\\n# Heatmap de la matriz de confusi\\u00f3n de entrenamiento\\nplt.subplot(1, 2, 1)\\nsns.heatmap(cm_tv_df, annot=True, fmt='d', cmap='Blues', cbar=False)\\nplt.title('Matriz de Confusi\\u00f3n - Entrenamiento')\\nplt.xlabel('Predicted')\\nplt.ylabel('Actual')\\n\\n# Heatmap de la matriz de confusi\\u00f3n de prueba\\nplt.subplot(1, 2, 2)\\nsns.heatmap(cm_test_df, annot=True, fmt='d', cmap='Blues', cbar=False)\\nplt.title('Matriz de Confusi\\u00f3n - Prueba')\\nplt.xlabel('Predicted')\\nplt.ylabel('Actual')\\n\\n# Mostrar las gr\\u00e1ficas\\nplt.tight_layout()\\nplt.show()\";\n",
              "                var nbb_formatted_code = \"# Generar las matrices de confusi\\u00f3n\\ncm_tv = confusion_matrix(ytv2, ytv_pred_ensamble6)\\ncm_test = confusion_matrix(ytest2, ytest_pred_ensamble6)\\n\\n# Crear DataFrames de las matrices de confusi\\u00f3n\\ncm_tv_df = pd.DataFrame(cm_tv, index=[0, 1], columns=[0, 1])\\ncm_test_df = pd.DataFrame(cm_test, index=[0, 1], columns=[0, 1])\\n\\n# Crear el heatmap usando seaborn\\nplt.figure(figsize=(14, 6))\\n\\n# Heatmap de la matriz de confusi\\u00f3n de entrenamiento\\nplt.subplot(1, 2, 1)\\nsns.heatmap(cm_tv_df, annot=True, fmt=\\\"d\\\", cmap=\\\"Blues\\\", cbar=False)\\nplt.title(\\\"Matriz de Confusi\\u00f3n - Entrenamiento\\\")\\nplt.xlabel(\\\"Predicted\\\")\\nplt.ylabel(\\\"Actual\\\")\\n\\n# Heatmap de la matriz de confusi\\u00f3n de prueba\\nplt.subplot(1, 2, 2)\\nsns.heatmap(cm_test_df, annot=True, fmt=\\\"d\\\", cmap=\\\"Blues\\\", cbar=False)\\nplt.title(\\\"Matriz de Confusi\\u00f3n - Prueba\\\")\\nplt.xlabel(\\\"Predicted\\\")\\nplt.ylabel(\\\"Actual\\\")\\n\\n# Mostrar las gr\\u00e1ficas\\nplt.tight_layout()\\nplt.show()\";\n",
              "                var nbb_cells = Jupyter.notebook.get_cells();\n",
              "                for (var i = 0; i < nbb_cells.length; ++i) {\n",
              "                    if (nbb_cells[i].input_prompt_number == nbb_cell_id) {\n",
              "                        if (nbb_cells[i].get_text() == nbb_unformatted_code) {\n",
              "                             nbb_cells[i].set_text(nbb_formatted_code);\n",
              "                        }\n",
              "                        break;\n",
              "                    }\n",
              "                }\n",
              "            }, 500);\n",
              "            "
            ],
            "text/plain": [
              "<IPython.core.display.Javascript object>"
            ]
          },
          "metadata": {},
          "output_type": "display_data"
        }
      ],
      "source": [
        "# Generar las matrices de confusión\n",
        "cm_tv = confusion_matrix(ytv2, ytv_pred_ensamble6)\n",
        "cm_test = confusion_matrix(ytest2, ytest_pred_ensamble6)\n",
        "\n",
        "# Crear DataFrames de las matrices de confusión\n",
        "cm_tv_df = pd.DataFrame(cm_tv, index=[0, 1], columns=[0, 1])\n",
        "cm_test_df = pd.DataFrame(cm_test, index=[0, 1], columns=[0, 1])\n",
        "\n",
        "# Crear el heatmap usando seaborn\n",
        "plt.figure(figsize=(14, 6))\n",
        "\n",
        "# Heatmap de la matriz de confusión de entrenamiento\n",
        "plt.subplot(1, 2, 1)\n",
        "sns.heatmap(cm_tv_df, annot=True, fmt=\"d\", cmap=\"Blues\", cbar=False)\n",
        "plt.title(\"Matriz de Confusión - Entrenamiento\")\n",
        "plt.xlabel(\"Predicted\")\n",
        "plt.ylabel(\"Actual\")\n",
        "\n",
        "# Heatmap de la matriz de confusión de prueba\n",
        "plt.subplot(1, 2, 2)\n",
        "sns.heatmap(cm_test_df, annot=True, fmt=\"d\", cmap=\"Blues\", cbar=False)\n",
        "plt.title(\"Matriz de Confusión - Prueba\")\n",
        "plt.xlabel(\"Predicted\")\n",
        "plt.ylabel(\"Actual\")\n",
        "\n",
        "# Mostrar las gráficas\n",
        "plt.tight_layout()\n",
        "plt.show()"
      ]
    },
    {
      "cell_type": "markdown",
      "id": "6Rh04lSkp6Ev",
      "metadata": {
        "id": "6Rh04lSkp6Ev"
      },
      "source": [
        "### **2.3 Refinamiento de hiperparámetros de los mejores modelos semana 5**"
      ]
    },
    {
      "cell_type": "markdown",
      "id": "EwrQRdy8qEMS",
      "metadata": {
        "id": "EwrQRdy8qEMS"
      },
      "source": [
        "#### 2.3.1 Stacking con Regresión logística y SVM"
      ]
    },
    {
      "cell_type": "code",
      "execution_count": null,
      "id": "-5wjTp3kJleS",
      "metadata": {
        "colab": {
          "base_uri": "https://localhost:8080/",
          "height": 238
        },
        "id": "-5wjTp3kJleS",
        "outputId": "e642c7f4-7120-473e-e62f-3268f205ee1b"
      },
      "outputs": [
        {
          "name": "stdout",
          "output_type": "stream",
          "text": [
            "Fitting 5 folds for each of 80 candidates, totalling 400 fits\n",
            "Mejores hiperparámetros: {'class_weight': None, 'max_iter': 30, 'penalty': 'l2', 'tol': 0.0001}\n",
            "Mejor F1 Score: 0.914040404040404\n"
          ]
        },
        {
          "data": {
            "text/html": [
              "<div style=\"display: inline-block; padding: 10px;\"><h3>Conjunto de Entrenamiento</h3><style type=\"text/css\">\n",
              "#T_f1ead_row0_col0, #T_f1ead_row0_col1, #T_f1ead_row0_col2, #T_f1ead_row0_col3 {\n",
              "  background-color: lightblue;\n",
              "}\n",
              "</style>\n",
              "<table id=\"T_f1ead\">\n",
              "  <thead>\n",
              "    <tr>\n",
              "      <th class=\"blank level0\" >&nbsp;</th>\n",
              "      <th id=\"T_f1ead_level0_col0\" class=\"col_heading level0 col0\" >Recall</th>\n",
              "      <th id=\"T_f1ead_level0_col1\" class=\"col_heading level0 col1\" >Recall Macro</th>\n",
              "      <th id=\"T_f1ead_level0_col2\" class=\"col_heading level0 col2\" >F1 Score</th>\n",
              "      <th id=\"T_f1ead_level0_col3\" class=\"col_heading level0 col3\" >Fit_Time</th>\n",
              "    </tr>\n",
              "  </thead>\n",
              "  <tbody>\n",
              "    <tr>\n",
              "      <th id=\"T_f1ead_level0_row0\" class=\"row_heading level0 row0\" >Ensemble</th>\n",
              "      <td id=\"T_f1ead_row0_col0\" class=\"data row0 col0\" >0.877828</td>\n",
              "      <td id=\"T_f1ead_row0_col1\" class=\"data row0 col1\" >0.641393</td>\n",
              "      <td id=\"T_f1ead_row0_col2\" class=\"data row0 col2\" >0.796715</td>\n",
              "      <td id=\"T_f1ead_row0_col3\" class=\"data row0 col3\" >1.519844</td>\n",
              "    </tr>\n",
              "    <tr>\n",
              "      <th id=\"T_f1ead_level0_row1\" class=\"row_heading level0 row1\" >Dummy</th>\n",
              "      <td id=\"T_f1ead_row1_col0\" class=\"data row1 col0\" >0.000000</td>\n",
              "      <td id=\"T_f1ead_row1_col1\" class=\"data row1 col1\" >0.000000</td>\n",
              "      <td id=\"T_f1ead_row1_col2\" class=\"data row1 col2\" >0.785080</td>\n",
              "      <td id=\"T_f1ead_row1_col3\" class=\"data row1 col3\" >0.000509</td>\n",
              "    </tr>\n",
              "    <tr>\n",
              "      <th id=\"T_f1ead_level0_row2\" class=\"row_heading level0 row2\" >SVM</th>\n",
              "      <td id=\"T_f1ead_row2_col0\" class=\"data row2 col0\" >0.610860</td>\n",
              "      <td id=\"T_f1ead_row2_col1\" class=\"data row2 col1\" >0.623612</td>\n",
              "      <td id=\"T_f1ead_row2_col2\" class=\"data row2 col2\" >0.675000</td>\n",
              "      <td id=\"T_f1ead_row2_col3\" class=\"data row2 col3\" >0.030178</td>\n",
              "    </tr>\n",
              "    <tr>\n",
              "      <th id=\"T_f1ead_level0_row3\" class=\"row_heading level0 row3\" >Regression Logística</th>\n",
              "      <td id=\"T_f1ead_row3_col0\" class=\"data row3 col0\" >0.588235</td>\n",
              "      <td id=\"T_f1ead_row3_col1\" class=\"data row3 col1\" >0.554448</td>\n",
              "      <td id=\"T_f1ead_row3_col2\" class=\"data row3 col2\" >0.635697</td>\n",
              "      <td id=\"T_f1ead_row3_col3\" class=\"data row3 col3\" >0.007448</td>\n",
              "    </tr>\n",
              "  </tbody>\n",
              "</table>\n",
              "</div><div style=\"display: inline-block; padding: 10px;\"><h3>Conjunto de Pruebas</h3><style type=\"text/css\">\n",
              "#T_96846_row0_col2, #T_96846_row1_col0, #T_96846_row1_col3, #T_96846_row2_col1 {\n",
              "  background-color: lightblue;\n",
              "}\n",
              "</style>\n",
              "<table id=\"T_96846\">\n",
              "  <thead>\n",
              "    <tr>\n",
              "      <th class=\"blank level0\" >&nbsp;</th>\n",
              "      <th id=\"T_96846_level0_col0\" class=\"col_heading level0 col0\" >Recall</th>\n",
              "      <th id=\"T_96846_level0_col1\" class=\"col_heading level0 col1\" >Recall Macro</th>\n",
              "      <th id=\"T_96846_level0_col2\" class=\"col_heading level0 col2\" >F1 Score</th>\n",
              "      <th id=\"T_96846_level0_col3\" class=\"col_heading level0 col3\" >Fit_Time</th>\n",
              "    </tr>\n",
              "  </thead>\n",
              "  <tbody>\n",
              "    <tr>\n",
              "      <th id=\"T_96846_level0_row0\" class=\"row_heading level0 row0\" >Dummy</th>\n",
              "      <td id=\"T_96846_row0_col0\" class=\"data row0 col0\" >0.000000</td>\n",
              "      <td id=\"T_96846_row0_col1\" class=\"data row0 col1\" >0.000000</td>\n",
              "      <td id=\"T_96846_row0_col2\" class=\"data row0 col2\" >0.774194</td>\n",
              "      <td id=\"T_96846_row0_col3\" class=\"data row0 col3\" >0.000509</td>\n",
              "    </tr>\n",
              "    <tr>\n",
              "      <th id=\"T_96846_level0_row1\" class=\"row_heading level0 row1\" >Ensemble</th>\n",
              "      <td id=\"T_96846_row1_col0\" class=\"data row1 col0\" >0.791667</td>\n",
              "      <td id=\"T_96846_row1_col1\" class=\"data row1 col1\" >0.538690</td>\n",
              "      <td id=\"T_96846_row1_col2\" class=\"data row1 col2\" >0.716981</td>\n",
              "      <td id=\"T_96846_row1_col3\" class=\"data row1 col3\" >1.519844</td>\n",
              "    </tr>\n",
              "    <tr>\n",
              "      <th id=\"T_96846_level0_row2\" class=\"row_heading level0 row2\" >Regression Logística</th>\n",
              "      <td id=\"T_96846_row2_col0\" class=\"data row2 col0\" >0.666667</td>\n",
              "      <td id=\"T_96846_row2_col1\" class=\"data row2 col1\" >0.547619</td>\n",
              "      <td id=\"T_96846_row2_col2\" class=\"data row2 col2\" >0.666667</td>\n",
              "      <td id=\"T_96846_row2_col3\" class=\"data row2 col3\" >0.007448</td>\n",
              "    </tr>\n",
              "    <tr>\n",
              "      <th id=\"T_96846_level0_row3\" class=\"row_heading level0 row3\" >SVM</th>\n",
              "      <td id=\"T_96846_row3_col0\" class=\"data row3 col0\" >0.666667</td>\n",
              "      <td id=\"T_96846_row3_col1\" class=\"data row3 col1\" >0.511905</td>\n",
              "      <td id=\"T_96846_row3_col2\" class=\"data row3 col2\" >0.653061</td>\n",
              "      <td id=\"T_96846_row3_col3\" class=\"data row3 col3\" >0.030178</td>\n",
              "    </tr>\n",
              "  </tbody>\n",
              "</table>\n",
              "</div>"
            ]
          },
          "metadata": {},
          "output_type": "display_data"
        },
        {
          "data": {
            "application/javascript": [
              "\n",
              "            setTimeout(function() {\n",
              "                var nbb_cell_id = 43;\n",
              "                var nbb_unformatted_code = \"# Definir los modelos\\nstart_time = time.time()\\nensamble1 = LogisticRegression(random_state=0, solver=\\\"liblinear\\\")\\n\\nparam_grid = {\\n    'class_weight': [None, 'balanced'],\\n    'penalty': ['l1', 'l2'],\\n    'tol': [1e-4, 1e-3, 1e-2, 1e-1],\\n    'max_iter': [30, 50, 100, 200, 300]\\n}\\n\\ngrid_search = GridSearchCV(estimator=ensamble1, param_grid=param_grid,\\n                           cv=5, scoring='recall', n_jobs=-1, verbose=1)\\n\\ngrid_search.fit(stacked_tv, ytv1)\\n\\nbest_params = grid_search.best_params_\\nbest_score = grid_search.best_score_\\n\\nprint(f\\\"Mejores hiperpar\\u00e1metros: {best_params}\\\")\\nprint(f\\\"Mejor F1 Score: {best_score}\\\")\\n\\n# Ajustar el solver para que coincida con los mejores par\\u00e1metros si es necesario\\nif best_params['penalty'] == 'l1':\\n    solver = 'liblinear'\\nelse:\\n    solver = 'lbfgs'\\n\\n# Medir el tiempo de ajuste del ensamble con los mejores hiperparametros\\nensamble1_best = LogisticRegression(**best_params)\\nensamble1_best.fit(stacked_tv, ytv1)\\ntiempo_fit_ensamble1_best = time.time() - start_time\\n\\n# Evaluamos el rendimiento de los modelos con el conjunto de entrenamiento\\n\\nytv1_pred_dum = cross_val_predict(dummy_clf, Xtv1, ytv1, cv=5)\\nrecall_tv_dum = 0 # No se calcula ya que recall evalua la tasa de verdaderos positivos y\\n                    #nuestro Dummy genera un 100% de positivos.\\nrecall_tv_macro_dum = 0\\nf1_tv_dum = f1_score(ytv1, ytv1_pred_dum, average='binary')\\n\\n\\nytv1_pred_reg = cross_val_predict(reg, Xtv1, ytv1, cv=5)\\nrecall_tv_reg = recall_score(ytv1, ytv1_pred_reg, average='binary')\\nrecall_tv_macro_reg = recall_score(ytv1, ytv1_pred_reg, average='macro')\\nf1_tv_reg = f1_score(ytv1, ytv1_pred_reg, average='binary')\\n\\n\\nytv1_pred_svm = cross_val_predict(svm, Xtv1, ytv1, cv=5)\\nrecall_tv_svm = recall_score(ytv1, ytv1_pred_svm, average='binary')\\nrecall_tv_macro_svm = recall_score(ytv1, ytv1_pred_svm, average='macro')\\nf1_tv_svm = f1_score(ytv1, ytv1_pred_svm, average='binary')\\n\\n\\nytv1_pred_ensamble1_best = ensamble1_best.predict(stacked_tv)\\nrecall_tv_ensamble1_best = recall_score(ytv1, ytv1_pred_ensamble1_best, average='binary')\\nrecall_tv_macro_ensamble1_best = recall_score(ytv1, ytv1_pred_ensamble1_best, average='macro')\\nf1_tv_ensamble1_best = f1_score(ytv1, ytv1_pred_ensamble1_best, average='binary')\\n\\ncuadro1 = {\\n    'Modelo': ['Dummy', 'Regression Log\\u00edstica', 'SVM', 'Ensemble'],\\n    'Recall': [recall_tv_dum, recall_tv_reg, recall_tv_svm, recall_tv_ensamble1_best],\\n    'Recall Macro': [recall_tv_macro_dum, recall_tv_macro_reg, recall_tv_macro_svm, recall_tv_macro_ensamble1_best],\\n    'F1 Score': [f1_tv_dum, f1_tv_reg, f1_tv_svm, f1_tv_ensamble1_best],\\n    'Fit_Time': [tiempo_fit_dummy, tiempo_fit_reg, tiempo_fit_svm, tiempo_fit_ensamble1_best]\\n}\\n\\n# Crear un DataFrame para almacenar los resultados\\ncuadro1_df = pd.DataFrame(cuadro1,index=cuadro1[\\\"Modelo\\\"])\\ncuadro1_df.drop(columns=['Modelo'], inplace=True)\\n\\n# Ordenar el DataFrame por la columna F1_Tst de mayor a menor\\ncuadro1_df = cuadro1_df.sort_values(by='F1 Score', ascending=False)\\n\\n\\n# Evaluamos el rendimiento de los modelos con el conjunto de pruebas\\nytest1_pred_dum = cross_val_predict(dummy_clf, Xtest1, ytest1, cv=5)\\nrecall_test_dum = 0\\nrecall_test_macro_dum = 0\\nf1_test_dum = f1_score(ytest1, ytest1_pred_dum, average='binary')\\n\\n\\nytest1_pred_reg = cross_val_predict(reg, Xtest1, ytest1, cv=5)\\nrecall_test_reg = recall_score(ytest1, ytest1_pred_reg, average='binary')\\nrecall_test_macro_reg = recall_score(ytest1, ytest1_pred_reg, average='macro')\\nf1_test_reg = f1_score(ytest1, ytest1_pred_reg, average='binary')\\n\\n\\nytest1_pred_svm = cross_val_predict(svm, Xtest1, ytest1, cv=5)\\nrecall_test_svm = recall_score(ytest1, ytest1_pred_svm, average='binary')\\nrecall_test_macro_svm = recall_score(ytest1, ytest1_pred_svm, average='macro')\\nf1_test_svm = f1_score(ytest1, ytest1_pred_svm, average='binary')\\n\\n\\nytest1_pred_ensamble1_best = ensamble1_best.predict(stacked_test)\\nrecall_test_ensamble1_best = recall_score(ytest1, ytest1_pred_ensamble1_best, average='binary')\\nrecall_test_macro_ensamble1_best = recall_score(ytest1, ytest1_pred_ensamble1_best, average='macro')\\nf1_test_ensamble1_best = f1_score(ytest1, ytest1_pred_ensamble1_best, average='binary')\\n\\ncuadro2 = {\\n    'Modelo': ['Dummy', 'Regression Log\\u00edstica', 'SVM', 'Ensemble'],\\n    'Recall': [recall_test_dum, recall_test_reg, recall_test_svm, recall_test_ensamble1_best],\\n    'Recall Macro': [recall_test_macro_dum, recall_test_macro_reg, recall_test_macro_svm, recall_test_macro_ensamble1_best],\\n    'F1 Score': [f1_test_dum, f1_test_reg, f1_test_svm, f1_test_ensamble1_best],\\n    'Fit_Time': [tiempo_fit_dummy, tiempo_fit_reg, tiempo_fit_svm, tiempo_fit_ensamble1_best]\\n}\\n\\ncuadro2_df = pd.DataFrame(cuadro2)\\n\\n# Crear un DataFrame para almacenar los resultados\\ncuadro2_df = pd.DataFrame(cuadro2,index=cuadro2[\\\"Modelo\\\"])\\ncuadro2_df.drop(columns=['Modelo'], inplace=True)\\n\\n# Ordenar el DataFrame por la columna F1_Tst de mayor a menor\\ncuadro2_df = cuadro2_df.sort_values(by='F1 Score', ascending=False)\\n\\n# Aqu\\u00ed puedes especificar el axis=0 para columnas o axis=1 para filas\\ndisplay_side_by_side([cuadro1_df, cuadro2_df], ['Conjunto de Entrenamiento', 'Conjunto de Pruebas'],\\n                     color='lightblue', axis=0)\";\n",
              "                var nbb_formatted_code = \"# Definir los modelos\\nstart_time = time.time()\\nensamble1 = LogisticRegression(random_state=0, solver=\\\"liblinear\\\")\\n\\nparam_grid = {\\n    \\\"class_weight\\\": [None, \\\"balanced\\\"],\\n    \\\"penalty\\\": [\\\"l1\\\", \\\"l2\\\"],\\n    \\\"tol\\\": [1e-4, 1e-3, 1e-2, 1e-1],\\n    \\\"max_iter\\\": [30, 50, 100, 200, 300],\\n}\\n\\ngrid_search = GridSearchCV(\\n    estimator=ensamble1,\\n    param_grid=param_grid,\\n    cv=5,\\n    scoring=\\\"recall\\\",\\n    n_jobs=-1,\\n    verbose=1,\\n)\\n\\ngrid_search.fit(stacked_tv, ytv1)\\n\\nbest_params = grid_search.best_params_\\nbest_score = grid_search.best_score_\\n\\nprint(f\\\"Mejores hiperpar\\u00e1metros: {best_params}\\\")\\nprint(f\\\"Mejor F1 Score: {best_score}\\\")\\n\\n# Ajustar el solver para que coincida con los mejores par\\u00e1metros si es necesario\\nif best_params[\\\"penalty\\\"] == \\\"l1\\\":\\n    solver = \\\"liblinear\\\"\\nelse:\\n    solver = \\\"lbfgs\\\"\\n\\n# Medir el tiempo de ajuste del ensamble con los mejores hiperparametros\\nensamble1_best = LogisticRegression(**best_params)\\nensamble1_best.fit(stacked_tv, ytv1)\\ntiempo_fit_ensamble1_best = time.time() - start_time\\n\\n# Evaluamos el rendimiento de los modelos con el conjunto de entrenamiento\\n\\nytv1_pred_dum = cross_val_predict(dummy_clf, Xtv1, ytv1, cv=5)\\nrecall_tv_dum = (\\n    0  # No se calcula ya que recall evalua la tasa de verdaderos positivos y\\n)\\n# nuestro Dummy genera un 100% de positivos.\\nrecall_tv_macro_dum = 0\\nf1_tv_dum = f1_score(ytv1, ytv1_pred_dum, average=\\\"binary\\\")\\n\\n\\nytv1_pred_reg = cross_val_predict(reg, Xtv1, ytv1, cv=5)\\nrecall_tv_reg = recall_score(ytv1, ytv1_pred_reg, average=\\\"binary\\\")\\nrecall_tv_macro_reg = recall_score(ytv1, ytv1_pred_reg, average=\\\"macro\\\")\\nf1_tv_reg = f1_score(ytv1, ytv1_pred_reg, average=\\\"binary\\\")\\n\\n\\nytv1_pred_svm = cross_val_predict(svm, Xtv1, ytv1, cv=5)\\nrecall_tv_svm = recall_score(ytv1, ytv1_pred_svm, average=\\\"binary\\\")\\nrecall_tv_macro_svm = recall_score(ytv1, ytv1_pred_svm, average=\\\"macro\\\")\\nf1_tv_svm = f1_score(ytv1, ytv1_pred_svm, average=\\\"binary\\\")\\n\\n\\nytv1_pred_ensamble1_best = ensamble1_best.predict(stacked_tv)\\nrecall_tv_ensamble1_best = recall_score(\\n    ytv1, ytv1_pred_ensamble1_best, average=\\\"binary\\\"\\n)\\nrecall_tv_macro_ensamble1_best = recall_score(\\n    ytv1, ytv1_pred_ensamble1_best, average=\\\"macro\\\"\\n)\\nf1_tv_ensamble1_best = f1_score(ytv1, ytv1_pred_ensamble1_best, average=\\\"binary\\\")\\n\\ncuadro1 = {\\n    \\\"Modelo\\\": [\\\"Dummy\\\", \\\"Regression Log\\u00edstica\\\", \\\"SVM\\\", \\\"Ensemble\\\"],\\n    \\\"Recall\\\": [recall_tv_dum, recall_tv_reg, recall_tv_svm, recall_tv_ensamble1_best],\\n    \\\"Recall Macro\\\": [\\n        recall_tv_macro_dum,\\n        recall_tv_macro_reg,\\n        recall_tv_macro_svm,\\n        recall_tv_macro_ensamble1_best,\\n    ],\\n    \\\"F1 Score\\\": [f1_tv_dum, f1_tv_reg, f1_tv_svm, f1_tv_ensamble1_best],\\n    \\\"Fit_Time\\\": [\\n        tiempo_fit_dummy,\\n        tiempo_fit_reg,\\n        tiempo_fit_svm,\\n        tiempo_fit_ensamble1_best,\\n    ],\\n}\\n\\n# Crear un DataFrame para almacenar los resultados\\ncuadro1_df = pd.DataFrame(cuadro1, index=cuadro1[\\\"Modelo\\\"])\\ncuadro1_df.drop(columns=[\\\"Modelo\\\"], inplace=True)\\n\\n# Ordenar el DataFrame por la columna F1_Tst de mayor a menor\\ncuadro1_df = cuadro1_df.sort_values(by=\\\"F1 Score\\\", ascending=False)\\n\\n\\n# Evaluamos el rendimiento de los modelos con el conjunto de pruebas\\nytest1_pred_dum = cross_val_predict(dummy_clf, Xtest1, ytest1, cv=5)\\nrecall_test_dum = 0\\nrecall_test_macro_dum = 0\\nf1_test_dum = f1_score(ytest1, ytest1_pred_dum, average=\\\"binary\\\")\\n\\n\\nytest1_pred_reg = cross_val_predict(reg, Xtest1, ytest1, cv=5)\\nrecall_test_reg = recall_score(ytest1, ytest1_pred_reg, average=\\\"binary\\\")\\nrecall_test_macro_reg = recall_score(ytest1, ytest1_pred_reg, average=\\\"macro\\\")\\nf1_test_reg = f1_score(ytest1, ytest1_pred_reg, average=\\\"binary\\\")\\n\\n\\nytest1_pred_svm = cross_val_predict(svm, Xtest1, ytest1, cv=5)\\nrecall_test_svm = recall_score(ytest1, ytest1_pred_svm, average=\\\"binary\\\")\\nrecall_test_macro_svm = recall_score(ytest1, ytest1_pred_svm, average=\\\"macro\\\")\\nf1_test_svm = f1_score(ytest1, ytest1_pred_svm, average=\\\"binary\\\")\\n\\n\\nytest1_pred_ensamble1_best = ensamble1_best.predict(stacked_test)\\nrecall_test_ensamble1_best = recall_score(\\n    ytest1, ytest1_pred_ensamble1_best, average=\\\"binary\\\"\\n)\\nrecall_test_macro_ensamble1_best = recall_score(\\n    ytest1, ytest1_pred_ensamble1_best, average=\\\"macro\\\"\\n)\\nf1_test_ensamble1_best = f1_score(ytest1, ytest1_pred_ensamble1_best, average=\\\"binary\\\")\\n\\ncuadro2 = {\\n    \\\"Modelo\\\": [\\\"Dummy\\\", \\\"Regression Log\\u00edstica\\\", \\\"SVM\\\", \\\"Ensemble\\\"],\\n    \\\"Recall\\\": [\\n        recall_test_dum,\\n        recall_test_reg,\\n        recall_test_svm,\\n        recall_test_ensamble1_best,\\n    ],\\n    \\\"Recall Macro\\\": [\\n        recall_test_macro_dum,\\n        recall_test_macro_reg,\\n        recall_test_macro_svm,\\n        recall_test_macro_ensamble1_best,\\n    ],\\n    \\\"F1 Score\\\": [f1_test_dum, f1_test_reg, f1_test_svm, f1_test_ensamble1_best],\\n    \\\"Fit_Time\\\": [\\n        tiempo_fit_dummy,\\n        tiempo_fit_reg,\\n        tiempo_fit_svm,\\n        tiempo_fit_ensamble1_best,\\n    ],\\n}\\n\\ncuadro2_df = pd.DataFrame(cuadro2)\\n\\n# Crear un DataFrame para almacenar los resultados\\ncuadro2_df = pd.DataFrame(cuadro2, index=cuadro2[\\\"Modelo\\\"])\\ncuadro2_df.drop(columns=[\\\"Modelo\\\"], inplace=True)\\n\\n# Ordenar el DataFrame por la columna F1_Tst de mayor a menor\\ncuadro2_df = cuadro2_df.sort_values(by=\\\"F1 Score\\\", ascending=False)\\n\\n# Aqu\\u00ed puedes especificar el axis=0 para columnas o axis=1 para filas\\ndisplay_side_by_side(\\n    [cuadro1_df, cuadro2_df],\\n    [\\\"Conjunto de Entrenamiento\\\", \\\"Conjunto de Pruebas\\\"],\\n    color=\\\"lightblue\\\",\\n    axis=0,\\n)\";\n",
              "                var nbb_cells = Jupyter.notebook.get_cells();\n",
              "                for (var i = 0; i < nbb_cells.length; ++i) {\n",
              "                    if (nbb_cells[i].input_prompt_number == nbb_cell_id) {\n",
              "                        if (nbb_cells[i].get_text() == nbb_unformatted_code) {\n",
              "                             nbb_cells[i].set_text(nbb_formatted_code);\n",
              "                        }\n",
              "                        break;\n",
              "                    }\n",
              "                }\n",
              "            }, 500);\n",
              "            "
            ],
            "text/plain": [
              "<IPython.core.display.Javascript object>"
            ]
          },
          "metadata": {},
          "output_type": "display_data"
        }
      ],
      "source": [
        "# Definir los modelos\n",
        "start_time = time.time()\n",
        "ensamble1 = LogisticRegression(random_state=0, solver=\"liblinear\")\n",
        "\n",
        "param_grid = {\n",
        "    \"class_weight\": [None, \"balanced\"],\n",
        "    \"penalty\": [\"l1\", \"l2\"],\n",
        "    \"tol\": [1e-4, 1e-3, 1e-2, 1e-1],\n",
        "    \"max_iter\": [30, 50, 100, 200, 300],\n",
        "}\n",
        "\n",
        "grid_search = GridSearchCV(\n",
        "    estimator=ensamble1,\n",
        "    param_grid=param_grid,\n",
        "    cv=5,\n",
        "    scoring=\"recall\",\n",
        "    n_jobs=-1,\n",
        "    verbose=1,\n",
        ")\n",
        "\n",
        "grid_search.fit(stacked_tv, ytv1)\n",
        "\n",
        "best_params = grid_search.best_params_\n",
        "best_score = grid_search.best_score_\n",
        "\n",
        "print(f\"Mejores hiperparámetros: {best_params}\")\n",
        "print(f\"Mejor F1 Score: {best_score}\")\n",
        "\n",
        "# Ajustar el solver para que coincida con los mejores parámetros si es necesario\n",
        "if best_params[\"penalty\"] == \"l1\":\n",
        "    solver = \"liblinear\"\n",
        "else:\n",
        "    solver = \"lbfgs\"\n",
        "\n",
        "# Medir el tiempo de ajuste del ensamble con los mejores hiperparametros\n",
        "ensamble1_best = LogisticRegression(**best_params)\n",
        "ensamble1_best.fit(stacked_tv, ytv1)\n",
        "tiempo_fit_ensamble1_best = time.time() - start_time\n",
        "\n",
        "# Evaluamos el rendimiento de los modelos con el conjunto de entrenamiento\n",
        "\n",
        "ytv1_pred_dum = cross_val_predict(dummy_clf, Xtv1, ytv1, cv=5)\n",
        "recall_tv_dum = (\n",
        "    0  # No se calcula ya que recall evalua la tasa de verdaderos positivos y\n",
        ")\n",
        "# nuestro Dummy genera un 100% de positivos.\n",
        "recall_tv_macro_dum = 0\n",
        "f1_tv_dum = f1_score(ytv1, ytv1_pred_dum, average=\"binary\")\n",
        "\n",
        "\n",
        "ytv1_pred_reg = cross_val_predict(reg, Xtv1, ytv1, cv=5)\n",
        "recall_tv_reg = recall_score(ytv1, ytv1_pred_reg, average=\"binary\")\n",
        "recall_tv_macro_reg = recall_score(ytv1, ytv1_pred_reg, average=\"macro\")\n",
        "f1_tv_reg = f1_score(ytv1, ytv1_pred_reg, average=\"binary\")\n",
        "\n",
        "\n",
        "ytv1_pred_svm = cross_val_predict(svm, Xtv1, ytv1, cv=5)\n",
        "recall_tv_svm = recall_score(ytv1, ytv1_pred_svm, average=\"binary\")\n",
        "recall_tv_macro_svm = recall_score(ytv1, ytv1_pred_svm, average=\"macro\")\n",
        "f1_tv_svm = f1_score(ytv1, ytv1_pred_svm, average=\"binary\")\n",
        "\n",
        "\n",
        "ytv1_pred_ensamble1_best = ensamble1_best.predict(stacked_tv)\n",
        "recall_tv_ensamble1_best = recall_score(\n",
        "    ytv1, ytv1_pred_ensamble1_best, average=\"binary\"\n",
        ")\n",
        "recall_tv_macro_ensamble1_best = recall_score(\n",
        "    ytv1, ytv1_pred_ensamble1_best, average=\"macro\"\n",
        ")\n",
        "f1_tv_ensamble1_best = f1_score(ytv1, ytv1_pred_ensamble1_best, average=\"binary\")\n",
        "\n",
        "cuadro1 = {\n",
        "    \"Modelo\": [\"Dummy\", \"Regression Logística\", \"SVM\", \"Ensemble\"],\n",
        "    \"Recall\": [recall_tv_dum, recall_tv_reg, recall_tv_svm, recall_tv_ensamble1_best],\n",
        "    \"Recall Macro\": [\n",
        "        recall_tv_macro_dum,\n",
        "        recall_tv_macro_reg,\n",
        "        recall_tv_macro_svm,\n",
        "        recall_tv_macro_ensamble1_best,\n",
        "    ],\n",
        "    \"F1 Score\": [f1_tv_dum, f1_tv_reg, f1_tv_svm, f1_tv_ensamble1_best],\n",
        "    \"Fit_Time\": [\n",
        "        tiempo_fit_dummy,\n",
        "        tiempo_fit_reg,\n",
        "        tiempo_fit_svm,\n",
        "        tiempo_fit_ensamble1_best,\n",
        "    ],\n",
        "}\n",
        "\n",
        "# Crear un DataFrame para almacenar los resultados\n",
        "cuadro1_df = pd.DataFrame(cuadro1, index=cuadro1[\"Modelo\"])\n",
        "cuadro1_df.drop(columns=[\"Modelo\"], inplace=True)\n",
        "\n",
        "# Ordenar el DataFrame por la columna F1_Tst de mayor a menor\n",
        "cuadro1_df = cuadro1_df.sort_values(by=\"F1 Score\", ascending=False)\n",
        "\n",
        "\n",
        "# Evaluamos el rendimiento de los modelos con el conjunto de pruebas\n",
        "ytest1_pred_dum = cross_val_predict(dummy_clf, Xtest1, ytest1, cv=5)\n",
        "recall_test_dum = 0\n",
        "recall_test_macro_dum = 0\n",
        "f1_test_dum = f1_score(ytest1, ytest1_pred_dum, average=\"binary\")\n",
        "\n",
        "\n",
        "ytest1_pred_reg = cross_val_predict(reg, Xtest1, ytest1, cv=5)\n",
        "recall_test_reg = recall_score(ytest1, ytest1_pred_reg, average=\"binary\")\n",
        "recall_test_macro_reg = recall_score(ytest1, ytest1_pred_reg, average=\"macro\")\n",
        "f1_test_reg = f1_score(ytest1, ytest1_pred_reg, average=\"binary\")\n",
        "\n",
        "\n",
        "ytest1_pred_svm = cross_val_predict(svm, Xtest1, ytest1, cv=5)\n",
        "recall_test_svm = recall_score(ytest1, ytest1_pred_svm, average=\"binary\")\n",
        "recall_test_macro_svm = recall_score(ytest1, ytest1_pred_svm, average=\"macro\")\n",
        "f1_test_svm = f1_score(ytest1, ytest1_pred_svm, average=\"binary\")\n",
        "\n",
        "\n",
        "ytest1_pred_ensamble1_best = ensamble1_best.predict(stacked_test)\n",
        "recall_test_ensamble1_best = recall_score(\n",
        "    ytest1, ytest1_pred_ensamble1_best, average=\"binary\"\n",
        ")\n",
        "recall_test_macro_ensamble1_best = recall_score(\n",
        "    ytest1, ytest1_pred_ensamble1_best, average=\"macro\"\n",
        ")\n",
        "f1_test_ensamble1_best = f1_score(ytest1, ytest1_pred_ensamble1_best, average=\"binary\")\n",
        "\n",
        "cuadro2 = {\n",
        "    \"Modelo\": [\"Dummy\", \"Regression Logística\", \"SVM\", \"Ensemble\"],\n",
        "    \"Recall\": [\n",
        "        recall_test_dum,\n",
        "        recall_test_reg,\n",
        "        recall_test_svm,\n",
        "        recall_test_ensamble1_best,\n",
        "    ],\n",
        "    \"Recall Macro\": [\n",
        "        recall_test_macro_dum,\n",
        "        recall_test_macro_reg,\n",
        "        recall_test_macro_svm,\n",
        "        recall_test_macro_ensamble1_best,\n",
        "    ],\n",
        "    \"F1 Score\": [f1_test_dum, f1_test_reg, f1_test_svm, f1_test_ensamble1_best],\n",
        "    \"Fit_Time\": [\n",
        "        tiempo_fit_dummy,\n",
        "        tiempo_fit_reg,\n",
        "        tiempo_fit_svm,\n",
        "        tiempo_fit_ensamble1_best,\n",
        "    ],\n",
        "}\n",
        "\n",
        "cuadro2_df = pd.DataFrame(cuadro2)\n",
        "\n",
        "# Crear un DataFrame para almacenar los resultados\n",
        "cuadro2_df = pd.DataFrame(cuadro2, index=cuadro2[\"Modelo\"])\n",
        "cuadro2_df.drop(columns=[\"Modelo\"], inplace=True)\n",
        "\n",
        "# Ordenar el DataFrame por la columna F1_Tst de mayor a menor\n",
        "cuadro2_df = cuadro2_df.sort_values(by=\"F1 Score\", ascending=False)\n",
        "\n",
        "# Aquí puedes especificar el axis=0 para columnas o axis=1 para filas\n",
        "display_side_by_side(\n",
        "    [cuadro1_df, cuadro2_df],\n",
        "    [\"Conjunto de Entrenamiento\", \"Conjunto de Pruebas\"],\n",
        "    color=\"lightblue\",\n",
        "    axis=0,\n",
        ")"
      ]
    },
    {
      "cell_type": "code",
      "execution_count": null,
      "id": "kHdRIzsjwCUf",
      "metadata": {
        "colab": {
          "base_uri": "https://localhost:8080/",
          "height": 607
        },
        "id": "kHdRIzsjwCUf",
        "outputId": "b9ed279d-2758-4210-b09a-0514f468d5b2"
      },
      "outputs": [
        {
          "data": {
            "image/png": "[encoded data removed]",
            "text/plain": [
              "<Figure size 1008x432 with 2 Axes>"
            ]
          },
          "metadata": {
            "needs_background": "light"
          },
          "output_type": "display_data"
        },
        {
          "data": {
            "application/javascript": [
              "\n",
              "            setTimeout(function() {\n",
              "                var nbb_cell_id = 44;\n",
              "                var nbb_unformatted_code = \"# Generar las matrices de confusi\\u00f3n\\ncm_tv = confusion_matrix(ytv1, ytv1_pred_ensamble1_best)\\ncm_test = confusion_matrix(ytest1, ytest1_pred_ensamble1_best)\\n\\n# Crear DataFrames de las matrices de confusi\\u00f3n\\ncm_tv_df = pd.DataFrame(cm_tv, index=[0, 1], columns=[0, 1])\\ncm_test_df = pd.DataFrame(cm_test, index=[0, 1], columns=[0, 1])\\n\\n# Crear el heatmap usando seaborn\\nplt.figure(figsize=(14, 6))\\n\\n# Heatmap de la matriz de confusi\\u00f3n de entrenamiento\\nplt.subplot(1, 2, 1)\\nsns.heatmap(cm_tv_df, annot=True, fmt='d', cmap='Blues', cbar=False)\\nplt.title('Matriz de Confusi\\u00f3n - Entrenamiento')\\nplt.xlabel('Predicted')\\nplt.ylabel('Actual')\\n\\n# Heatmap de la matriz de confusi\\u00f3n de prueba\\nplt.subplot(1, 2, 2)\\nsns.heatmap(cm_test_df, annot=True, fmt='d', cmap='Blues', cbar=False)\\nplt.title('Matriz de Confusi\\u00f3n - Prueba')\\nplt.xlabel('Predicted')\\nplt.ylabel('Actual')\\n\\n# Mostrar las gr\\u00e1ficas\\nplt.tight_layout()\\nplt.show()\";\n",
              "                var nbb_formatted_code = \"# Generar las matrices de confusi\\u00f3n\\ncm_tv = confusion_matrix(ytv1, ytv1_pred_ensamble1_best)\\ncm_test = confusion_matrix(ytest1, ytest1_pred_ensamble1_best)\\n\\n# Crear DataFrames de las matrices de confusi\\u00f3n\\ncm_tv_df = pd.DataFrame(cm_tv, index=[0, 1], columns=[0, 1])\\ncm_test_df = pd.DataFrame(cm_test, index=[0, 1], columns=[0, 1])\\n\\n# Crear el heatmap usando seaborn\\nplt.figure(figsize=(14, 6))\\n\\n# Heatmap de la matriz de confusi\\u00f3n de entrenamiento\\nplt.subplot(1, 2, 1)\\nsns.heatmap(cm_tv_df, annot=True, fmt=\\\"d\\\", cmap=\\\"Blues\\\", cbar=False)\\nplt.title(\\\"Matriz de Confusi\\u00f3n - Entrenamiento\\\")\\nplt.xlabel(\\\"Predicted\\\")\\nplt.ylabel(\\\"Actual\\\")\\n\\n# Heatmap de la matriz de confusi\\u00f3n de prueba\\nplt.subplot(1, 2, 2)\\nsns.heatmap(cm_test_df, annot=True, fmt=\\\"d\\\", cmap=\\\"Blues\\\", cbar=False)\\nplt.title(\\\"Matriz de Confusi\\u00f3n - Prueba\\\")\\nplt.xlabel(\\\"Predicted\\\")\\nplt.ylabel(\\\"Actual\\\")\\n\\n# Mostrar las gr\\u00e1ficas\\nplt.tight_layout()\\nplt.show()\";\n",
              "                var nbb_cells = Jupyter.notebook.get_cells();\n",
              "                for (var i = 0; i < nbb_cells.length; ++i) {\n",
              "                    if (nbb_cells[i].input_prompt_number == nbb_cell_id) {\n",
              "                        if (nbb_cells[i].get_text() == nbb_unformatted_code) {\n",
              "                             nbb_cells[i].set_text(nbb_formatted_code);\n",
              "                        }\n",
              "                        break;\n",
              "                    }\n",
              "                }\n",
              "            }, 500);\n",
              "            "
            ],
            "text/plain": [
              "<IPython.core.display.Javascript object>"
            ]
          },
          "metadata": {},
          "output_type": "display_data"
        }
      ],
      "source": [
        "# Generar las matrices de confusión\n",
        "cm_tv = confusion_matrix(ytv1, ytv1_pred_ensamble1_best)\n",
        "cm_test = confusion_matrix(ytest1, ytest1_pred_ensamble1_best)\n",
        "\n",
        "# Crear DataFrames de las matrices de confusión\n",
        "cm_tv_df = pd.DataFrame(cm_tv, index=[0, 1], columns=[0, 1])\n",
        "cm_test_df = pd.DataFrame(cm_test, index=[0, 1], columns=[0, 1])\n",
        "\n",
        "# Crear el heatmap usando seaborn\n",
        "plt.figure(figsize=(14, 6))\n",
        "\n",
        "# Heatmap de la matriz de confusión de entrenamiento\n",
        "plt.subplot(1, 2, 1)\n",
        "sns.heatmap(cm_tv_df, annot=True, fmt=\"d\", cmap=\"Blues\", cbar=False)\n",
        "plt.title(\"Matriz de Confusión - Entrenamiento\")\n",
        "plt.xlabel(\"Predicted\")\n",
        "plt.ylabel(\"Actual\")\n",
        "\n",
        "# Heatmap de la matriz de confusión de prueba\n",
        "plt.subplot(1, 2, 2)\n",
        "sns.heatmap(cm_test_df, annot=True, fmt=\"d\", cmap=\"Blues\", cbar=False)\n",
        "plt.title(\"Matriz de Confusión - Prueba\")\n",
        "plt.xlabel(\"Predicted\")\n",
        "plt.ylabel(\"Actual\")\n",
        "\n",
        "# Mostrar las gráficas\n",
        "plt.tight_layout()\n",
        "plt.show()"
      ]
    },
    {
      "cell_type": "markdown",
      "id": "7v_azwrfxibt",
      "metadata": {
        "id": "7v_azwrfxibt"
      },
      "source": [
        "#### 2.3.2 Bagging con Regresión Logística"
      ]
    },
    {
      "cell_type": "code",
      "execution_count": null,
      "id": "0N3swl6WxlM7",
      "metadata": {
        "colab": {
          "base_uri": "https://localhost:8080/",
          "height": 217
        },
        "id": "0N3swl6WxlM7",
        "outputId": "7482b719-2db9-46b9-f228-a0b093ec015a"
      },
      "outputs": [
        {
          "name": "stdout",
          "output_type": "stream",
          "text": [
            "Fitting 5 folds for each of 108 candidates, totalling 540 fits\n",
            "Mejores hiperparámetros: {'bootstrap': True, 'bootstrap_features': False, 'max_features': 0.5, 'max_samples': 0.5, 'n_estimators': 100}\n",
            "Mejor Recall Score: 0.6790909090909091\n"
          ]
        },
        {
          "data": {
            "text/html": [
              "<div style=\"display: inline-block; padding: 10px;\"><h3>Conjunto de Entrenamiento</h3><style type=\"text/css\">\n",
              "#T_0c94c_row0_col2, #T_0c94c_row1_col0, #T_0c94c_row1_col1, #T_0c94c_row1_col3 {\n",
              "  background-color: lightblue;\n",
              "}\n",
              "</style>\n",
              "<table id=\"T_0c94c\">\n",
              "  <thead>\n",
              "    <tr>\n",
              "      <th class=\"blank level0\" >&nbsp;</th>\n",
              "      <th id=\"T_0c94c_level0_col0\" class=\"col_heading level0 col0\" >Recall</th>\n",
              "      <th id=\"T_0c94c_level0_col1\" class=\"col_heading level0 col1\" >Recall Macro</th>\n",
              "      <th id=\"T_0c94c_level0_col2\" class=\"col_heading level0 col2\" >F1 Score</th>\n",
              "      <th id=\"T_0c94c_level0_col3\" class=\"col_heading level0 col3\" >Fit_Time</th>\n",
              "    </tr>\n",
              "  </thead>\n",
              "  <tbody>\n",
              "    <tr>\n",
              "      <th id=\"T_0c94c_level0_row0\" class=\"row_heading level0 row0\" >Dummy</th>\n",
              "      <td id=\"T_0c94c_row0_col0\" class=\"data row0 col0\" >0.000000</td>\n",
              "      <td id=\"T_0c94c_row0_col1\" class=\"data row0 col1\" >0.000000</td>\n",
              "      <td id=\"T_0c94c_row0_col2\" class=\"data row0 col2\" >0.774194</td>\n",
              "      <td id=\"T_0c94c_row0_col3\" class=\"data row0 col3\" >0.000509</td>\n",
              "    </tr>\n",
              "    <tr>\n",
              "      <th id=\"T_0c94c_level0_row1\" class=\"row_heading level0 row1\" >Ensemble</th>\n",
              "      <td id=\"T_0c94c_row1_col0\" class=\"data row1 col0\" >0.687783</td>\n",
              "      <td id=\"T_0c94c_row1_col1\" class=\"data row1 col1\" >0.662073</td>\n",
              "      <td id=\"T_0c94c_row1_col2\" class=\"data row1 col2\" >0.729017</td>\n",
              "      <td id=\"T_0c94c_row1_col3\" class=\"data row1 col3\" >38.933858</td>\n",
              "    </tr>\n",
              "    <tr>\n",
              "      <th id=\"T_0c94c_level0_row2\" class=\"row_heading level0 row2\" >Regresión logística</th>\n",
              "      <td id=\"T_0c94c_row2_col0\" class=\"data row2 col0\" >0.588235</td>\n",
              "      <td id=\"T_0c94c_row2_col1\" class=\"data row2 col1\" >0.554448</td>\n",
              "      <td id=\"T_0c94c_row2_col2\" class=\"data row2 col2\" >0.635697</td>\n",
              "      <td id=\"T_0c94c_row2_col3\" class=\"data row2 col3\" >0.007083</td>\n",
              "    </tr>\n",
              "  </tbody>\n",
              "</table>\n",
              "</div><div style=\"display: inline-block; padding: 10px;\"><h3>Conjunto de Pruebas</h3><style type=\"text/css\">\n",
              "#T_2e891_row0_col2, #T_2e891_row1_col0, #T_2e891_row1_col1, #T_2e891_row2_col3 {\n",
              "  background-color: lightblue;\n",
              "}\n",
              "</style>\n",
              "<table id=\"T_2e891\">\n",
              "  <thead>\n",
              "    <tr>\n",
              "      <th class=\"blank level0\" >&nbsp;</th>\n",
              "      <th id=\"T_2e891_level0_col0\" class=\"col_heading level0 col0\" >Recall</th>\n",
              "      <th id=\"T_2e891_level0_col1\" class=\"col_heading level0 col1\" >Recall Macro</th>\n",
              "      <th id=\"T_2e891_level0_col2\" class=\"col_heading level0 col2\" >F1 Score</th>\n",
              "      <th id=\"T_2e891_level0_col3\" class=\"col_heading level0 col3\" >Fit_Time</th>\n",
              "    </tr>\n",
              "  </thead>\n",
              "  <tbody>\n",
              "    <tr>\n",
              "      <th id=\"T_2e891_level0_row0\" class=\"row_heading level0 row0\" >Dummy</th>\n",
              "      <td id=\"T_2e891_row0_col0\" class=\"data row0 col0\" >0.000000</td>\n",
              "      <td id=\"T_2e891_row0_col1\" class=\"data row0 col1\" >0.000000</td>\n",
              "      <td id=\"T_2e891_row0_col2\" class=\"data row0 col2\" >0.774194</td>\n",
              "      <td id=\"T_2e891_row0_col3\" class=\"data row0 col3\" >0.000509</td>\n",
              "    </tr>\n",
              "    <tr>\n",
              "      <th id=\"T_2e891_level0_row1\" class=\"row_heading level0 row1\" >Regresión logística</th>\n",
              "      <td id=\"T_2e891_row1_col0\" class=\"data row1 col0\" >0.666667</td>\n",
              "      <td id=\"T_2e891_row1_col1\" class=\"data row1 col1\" >0.547619</td>\n",
              "      <td id=\"T_2e891_row1_col2\" class=\"data row1 col2\" >0.666667</td>\n",
              "      <td id=\"T_2e891_row1_col3\" class=\"data row1 col3\" >0.007083</td>\n",
              "    </tr>\n",
              "    <tr>\n",
              "      <th id=\"T_2e891_level0_row2\" class=\"row_heading level0 row2\" >Ensemble</th>\n",
              "      <td id=\"T_2e891_row2_col0\" class=\"data row2 col0\" >0.458333</td>\n",
              "      <td id=\"T_2e891_row2_col1\" class=\"data row2 col1\" >0.407738</td>\n",
              "      <td id=\"T_2e891_row2_col2\" class=\"data row2 col2\" >0.500000</td>\n",
              "      <td id=\"T_2e891_row2_col3\" class=\"data row2 col3\" >38.933858</td>\n",
              "    </tr>\n",
              "  </tbody>\n",
              "</table>\n",
              "</div>"
            ]
          },
          "metadata": {},
          "output_type": "display_data"
        },
        {
          "data": {
            "application/javascript": [
              "\n",
              "            setTimeout(function() {\n",
              "                var nbb_cell_id = 45;\n",
              "                var nbb_unformatted_code = \"# Definimos el modelo\\nstart_time = time.time()\\nreg = LogisticRegression(solver='liblinear', class_weight= \\\"balanced\\\",\\n                         max_iter= 100, penalty = 'l2', tol = 0.0001, random_state=0)\\n\\n# se ajusta el modelo\\nreg.fit(Xtv1, ytv1)\\ntiempo_fit_reg = time.time() - start_time\\n\\n# generamos el ensamble usando bagging\\nstart_time = time.time()\\nensamble4 = BaggingClassifier(base_estimator=reg, n_estimators=200, random_state=42)\\n\\nparam_grid = {\\n    'n_estimators': [50, 100, 200],\\n    'max_samples': [0.5, 0.7, 1.0],\\n    'max_features': [0.5, 0.7, 1.0],\\n    'bootstrap': [True, False],\\n    'bootstrap_features': [True, False]\\n}\\n\\ngrid_search = GridSearchCV(estimator=ensamble4, param_grid=param_grid, cv=5, scoring='recall', n_jobs=-1, verbose=1)\\n\\ngrid_search.fit(Xtv1, ytv1)\\n\\nbest_params = grid_search.best_params_\\nbest_score = grid_search.best_score_\\n\\nprint(f\\\"Mejores hiperpar\\u00e1metros: {best_params}\\\")\\nprint(f\\\"Mejor Recall Score: {best_score}\\\")\\n\\n# Entrenamos el ensamble\\n\\nbest_bagging_params = {key: value for key, value in best_params.items() if 'base_estimator__' not in key}\\n\\nensamble4_best = BaggingClassifier(base_estimator=reg, **best_bagging_params, random_state=0)\\n\\nensamble4_best.fit(Xtv1, ytv1)\\n\\ntiempo_fit_ensamble4_best = time.time() - start_time\\n\\n# Evaluamos el rendimiento de los modelos con el conjunto de entrenamiento\\n\\nytv_pred = cross_val_predict(reg, Xtv1, ytv1, cv=5)\\nrecall_tv = recall_score(ytv1, ytv_pred, average='binary')\\nrecall_tv_macro = recall_score(ytv1, ytv_pred, average='macro')\\nf1_tv = f1_score(ytv1, ytv_pred, average='binary')\\n\\nytv_pred_ensamble4_best = ensamble4_best.predict(Xtv1)\\nrecall_tv_ensamble4_best = recall_score(ytv1, ytv_pred_ensamble4_best, average='binary')\\nrecall_tv_macro_ensamble4_best = recall_score(ytv1, ytv_pred_ensamble4_best, average='macro')\\nf1_tv_ensamble4_best = f1_score(ytv1, ytv_pred_ensamble4_best, average='binary')\\n\\ncuadro1 = {\\n    'Modelo': ['Dummy', 'Regresi\\u00f3n log\\u00edstica', 'Ensemble'],\\n    'Recall': [recall_test_dum, recall_tv,  recall_tv_ensamble4_best],\\n    'Recall Macro': [recall_test_macro_dum, recall_tv_macro, recall_tv_macro_ensamble4_best],\\n    'F1 Score': [f1_test_dum, f1_tv, f1_tv_ensamble4_best],\\n    'Fit_Time': [tiempo_fit_dummy, tiempo_fit_reg, tiempo_fit_ensamble4_best]\\n}\\n\\n# Crear un DataFrame para almacenar los resultados\\ncuadro1_df = pd.DataFrame(cuadro1,index=cuadro1[\\\"Modelo\\\"])\\ncuadro1_df.drop(columns=['Modelo'], inplace=True)\\n\\n# Ordenar el DataFrame por la columna F1_Tst de mayor a menor\\ncuadro1_df = cuadro1_df.sort_values(by='F1 Score', ascending=False)\\n\\n\\n# Evaluamos el rendimiento de los modelos con el conjunto de pruebas\\n\\nytest_pred = cross_val_predict(reg, Xtest1, ytest1, cv=5)\\nrecall_test = recall_score(ytest1, ytest_pred, average='binary')\\nrecall_test_macro = recall_score(ytest1, ytest_pred, average='macro')\\nf1_test = f1_score(ytest1, ytest_pred, average='binary')\\n\\nytest_pred_ensamble4_best = ensamble4_best.predict(Xtest1)\\nrecall_test_ensamble4_best = recall_score(ytest1, ytest_pred_ensamble4_best, average='binary')\\nrecall_test_macro_ensamble4_best = recall_score(ytest1, ytest_pred_ensamble4_best, average='macro')\\nf1_test_ensamble4_best = f1_score(ytest1, ytest_pred_ensamble4_best, average='binary')\\n\\ncuadro2 = {\\n    'Modelo': ['Dummy', 'Regresi\\u00f3n log\\u00edstica', 'Ensemble'],\\n    'Recall': [recall_test_dum, recall_test, recall_test_ensamble4_best],\\n    'Recall Macro': [recall_test_macro_dum, recall_test_macro, recall_test_macro_ensamble4_best],\\n    'F1 Score': [f1_test_dum, f1_test, f1_test_ensamble4_best],\\n    'Fit_Time': [tiempo_fit_dummy, tiempo_fit_reg, tiempo_fit_ensamble4_best]\\n}\\n\\n# Crear un DataFrame para almacenar los resultados\\ncuadro2_df = pd.DataFrame(cuadro2,index=cuadro2[\\\"Modelo\\\"])\\ncuadro2_df.drop(columns=['Modelo'], inplace=True)\\n\\n# Ordenar el DataFrame por la columna F1_Tst de mayor a menor\\ncuadro2_df = cuadro2_df.sort_values(by='F1 Score', ascending=False)\\n\\n# Aqu\\u00ed puedes especificar el axis=0 para columnas o axis=1 para filas\\ndisplay_side_by_side([cuadro1_df, cuadro2_df], ['Conjunto de Entrenamiento', 'Conjunto de Pruebas'],\\n                     color='lightblue', axis=0)\";\n",
              "                var nbb_formatted_code = \"# Definimos el modelo\\nstart_time = time.time()\\nreg = LogisticRegression(\\n    solver=\\\"liblinear\\\",\\n    class_weight=\\\"balanced\\\",\\n    max_iter=100,\\n    penalty=\\\"l2\\\",\\n    tol=0.0001,\\n    random_state=0,\\n)\\n\\n# se ajusta el modelo\\nreg.fit(Xtv1, ytv1)\\ntiempo_fit_reg = time.time() - start_time\\n\\n# generamos el ensamble usando bagging\\nstart_time = time.time()\\nensamble4 = BaggingClassifier(base_estimator=reg, n_estimators=200, random_state=42)\\n\\nparam_grid = {\\n    \\\"n_estimators\\\": [50, 100, 200],\\n    \\\"max_samples\\\": [0.5, 0.7, 1.0],\\n    \\\"max_features\\\": [0.5, 0.7, 1.0],\\n    \\\"bootstrap\\\": [True, False],\\n    \\\"bootstrap_features\\\": [True, False],\\n}\\n\\ngrid_search = GridSearchCV(\\n    estimator=ensamble4,\\n    param_grid=param_grid,\\n    cv=5,\\n    scoring=\\\"recall\\\",\\n    n_jobs=-1,\\n    verbose=1,\\n)\\n\\ngrid_search.fit(Xtv1, ytv1)\\n\\nbest_params = grid_search.best_params_\\nbest_score = grid_search.best_score_\\n\\nprint(f\\\"Mejores hiperpar\\u00e1metros: {best_params}\\\")\\nprint(f\\\"Mejor Recall Score: {best_score}\\\")\\n\\n# Entrenamos el ensamble\\n\\nbest_bagging_params = {\\n    key: value for key, value in best_params.items() if \\\"base_estimator__\\\" not in key\\n}\\n\\nensamble4_best = BaggingClassifier(\\n    base_estimator=reg, **best_bagging_params, random_state=0\\n)\\n\\nensamble4_best.fit(Xtv1, ytv1)\\n\\ntiempo_fit_ensamble4_best = time.time() - start_time\\n\\n# Evaluamos el rendimiento de los modelos con el conjunto de entrenamiento\\n\\nytv_pred = cross_val_predict(reg, Xtv1, ytv1, cv=5)\\nrecall_tv = recall_score(ytv1, ytv_pred, average=\\\"binary\\\")\\nrecall_tv_macro = recall_score(ytv1, ytv_pred, average=\\\"macro\\\")\\nf1_tv = f1_score(ytv1, ytv_pred, average=\\\"binary\\\")\\n\\nytv_pred_ensamble4_best = ensamble4_best.predict(Xtv1)\\nrecall_tv_ensamble4_best = recall_score(ytv1, ytv_pred_ensamble4_best, average=\\\"binary\\\")\\nrecall_tv_macro_ensamble4_best = recall_score(\\n    ytv1, ytv_pred_ensamble4_best, average=\\\"macro\\\"\\n)\\nf1_tv_ensamble4_best = f1_score(ytv1, ytv_pred_ensamble4_best, average=\\\"binary\\\")\\n\\ncuadro1 = {\\n    \\\"Modelo\\\": [\\\"Dummy\\\", \\\"Regresi\\u00f3n log\\u00edstica\\\", \\\"Ensemble\\\"],\\n    \\\"Recall\\\": [recall_test_dum, recall_tv, recall_tv_ensamble4_best],\\n    \\\"Recall Macro\\\": [\\n        recall_test_macro_dum,\\n        recall_tv_macro,\\n        recall_tv_macro_ensamble4_best,\\n    ],\\n    \\\"F1 Score\\\": [f1_test_dum, f1_tv, f1_tv_ensamble4_best],\\n    \\\"Fit_Time\\\": [tiempo_fit_dummy, tiempo_fit_reg, tiempo_fit_ensamble4_best],\\n}\\n\\n# Crear un DataFrame para almacenar los resultados\\ncuadro1_df = pd.DataFrame(cuadro1, index=cuadro1[\\\"Modelo\\\"])\\ncuadro1_df.drop(columns=[\\\"Modelo\\\"], inplace=True)\\n\\n# Ordenar el DataFrame por la columna F1_Tst de mayor a menor\\ncuadro1_df = cuadro1_df.sort_values(by=\\\"F1 Score\\\", ascending=False)\\n\\n\\n# Evaluamos el rendimiento de los modelos con el conjunto de pruebas\\n\\nytest_pred = cross_val_predict(reg, Xtest1, ytest1, cv=5)\\nrecall_test = recall_score(ytest1, ytest_pred, average=\\\"binary\\\")\\nrecall_test_macro = recall_score(ytest1, ytest_pred, average=\\\"macro\\\")\\nf1_test = f1_score(ytest1, ytest_pred, average=\\\"binary\\\")\\n\\nytest_pred_ensamble4_best = ensamble4_best.predict(Xtest1)\\nrecall_test_ensamble4_best = recall_score(\\n    ytest1, ytest_pred_ensamble4_best, average=\\\"binary\\\"\\n)\\nrecall_test_macro_ensamble4_best = recall_score(\\n    ytest1, ytest_pred_ensamble4_best, average=\\\"macro\\\"\\n)\\nf1_test_ensamble4_best = f1_score(ytest1, ytest_pred_ensamble4_best, average=\\\"binary\\\")\\n\\ncuadro2 = {\\n    \\\"Modelo\\\": [\\\"Dummy\\\", \\\"Regresi\\u00f3n log\\u00edstica\\\", \\\"Ensemble\\\"],\\n    \\\"Recall\\\": [recall_test_dum, recall_test, recall_test_ensamble4_best],\\n    \\\"Recall Macro\\\": [\\n        recall_test_macro_dum,\\n        recall_test_macro,\\n        recall_test_macro_ensamble4_best,\\n    ],\\n    \\\"F1 Score\\\": [f1_test_dum, f1_test, f1_test_ensamble4_best],\\n    \\\"Fit_Time\\\": [tiempo_fit_dummy, tiempo_fit_reg, tiempo_fit_ensamble4_best],\\n}\\n\\n# Crear un DataFrame para almacenar los resultados\\ncuadro2_df = pd.DataFrame(cuadro2, index=cuadro2[\\\"Modelo\\\"])\\ncuadro2_df.drop(columns=[\\\"Modelo\\\"], inplace=True)\\n\\n# Ordenar el DataFrame por la columna F1_Tst de mayor a menor\\ncuadro2_df = cuadro2_df.sort_values(by=\\\"F1 Score\\\", ascending=False)\\n\\n# Aqu\\u00ed puedes especificar el axis=0 para columnas o axis=1 para filas\\ndisplay_side_by_side(\\n    [cuadro1_df, cuadro2_df],\\n    [\\\"Conjunto de Entrenamiento\\\", \\\"Conjunto de Pruebas\\\"],\\n    color=\\\"lightblue\\\",\\n    axis=0,\\n)\";\n",
              "                var nbb_cells = Jupyter.notebook.get_cells();\n",
              "                for (var i = 0; i < nbb_cells.length; ++i) {\n",
              "                    if (nbb_cells[i].input_prompt_number == nbb_cell_id) {\n",
              "                        if (nbb_cells[i].get_text() == nbb_unformatted_code) {\n",
              "                             nbb_cells[i].set_text(nbb_formatted_code);\n",
              "                        }\n",
              "                        break;\n",
              "                    }\n",
              "                }\n",
              "            }, 500);\n",
              "            "
            ],
            "text/plain": [
              "<IPython.core.display.Javascript object>"
            ]
          },
          "metadata": {},
          "output_type": "display_data"
        }
      ],
      "source": [
        "# Definimos el modelo\n",
        "start_time = time.time()\n",
        "reg = LogisticRegression(\n",
        "    solver=\"liblinear\",\n",
        "    class_weight=\"balanced\",\n",
        "    max_iter=100,\n",
        "    penalty=\"l2\",\n",
        "    tol=0.0001,\n",
        "    random_state=0,\n",
        ")\n",
        "\n",
        "# se ajusta el modelo\n",
        "reg.fit(Xtv1, ytv1)\n",
        "tiempo_fit_reg = time.time() - start_time\n",
        "\n",
        "# generamos el ensamble usando bagging\n",
        "start_time = time.time()\n",
        "ensamble4 = BaggingClassifier(base_estimator=reg, n_estimators=200, random_state=42)\n",
        "\n",
        "param_grid = {\n",
        "    \"n_estimators\": [50, 100, 200],\n",
        "    \"max_samples\": [0.5, 0.7, 1.0],\n",
        "    \"max_features\": [0.5, 0.7, 1.0],\n",
        "    \"bootstrap\": [True, False],\n",
        "    \"bootstrap_features\": [True, False],\n",
        "}\n",
        "\n",
        "grid_search = GridSearchCV(\n",
        "    estimator=ensamble4,\n",
        "    param_grid=param_grid,\n",
        "    cv=5,\n",
        "    scoring=\"recall\",\n",
        "    n_jobs=-1,\n",
        "    verbose=1,\n",
        ")\n",
        "\n",
        "grid_search.fit(Xtv1, ytv1)\n",
        "\n",
        "best_params = grid_search.best_params_\n",
        "best_score = grid_search.best_score_\n",
        "\n",
        "print(f\"Mejores hiperparámetros: {best_params}\")\n",
        "print(f\"Mejor Recall Score: {best_score}\")\n",
        "\n",
        "# Entrenamos el ensamble\n",
        "\n",
        "best_bagging_params = {\n",
        "    key: value for key, value in best_params.items() if \"base_estimator__\" not in key\n",
        "}\n",
        "\n",
        "ensamble4_best = BaggingClassifier(\n",
        "    base_estimator=reg, **best_bagging_params, random_state=0\n",
        ")\n",
        "\n",
        "ensamble4_best.fit(Xtv1, ytv1)\n",
        "\n",
        "tiempo_fit_ensamble4_best = time.time() - start_time\n",
        "\n",
        "# Evaluamos el rendimiento de los modelos con el conjunto de entrenamiento\n",
        "\n",
        "ytv_pred = cross_val_predict(reg, Xtv1, ytv1, cv=5)\n",
        "recall_tv = recall_score(ytv1, ytv_pred, average=\"binary\")\n",
        "recall_tv_macro = recall_score(ytv1, ytv_pred, average=\"macro\")\n",
        "f1_tv = f1_score(ytv1, ytv_pred, average=\"binary\")\n",
        "\n",
        "ytv_pred_ensamble4_best = ensamble4_best.predict(Xtv1)\n",
        "recall_tv_ensamble4_best = recall_score(ytv1, ytv_pred_ensamble4_best, average=\"binary\")\n",
        "recall_tv_macro_ensamble4_best = recall_score(\n",
        "    ytv1, ytv_pred_ensamble4_best, average=\"macro\"\n",
        ")\n",
        "f1_tv_ensamble4_best = f1_score(ytv1, ytv_pred_ensamble4_best, average=\"binary\")\n",
        "\n",
        "cuadro1 = {\n",
        "    \"Modelo\": [\"Dummy\", \"Regresión logística\", \"Ensemble\"],\n",
        "    \"Recall\": [recall_test_dum, recall_tv, recall_tv_ensamble4_best],\n",
        "    \"Recall Macro\": [\n",
        "        recall_test_macro_dum,\n",
        "        recall_tv_macro,\n",
        "        recall_tv_macro_ensamble4_best,\n",
        "    ],\n",
        "    \"F1 Score\": [f1_test_dum, f1_tv, f1_tv_ensamble4_best],\n",
        "    \"Fit_Time\": [tiempo_fit_dummy, tiempo_fit_reg, tiempo_fit_ensamble4_best],\n",
        "}\n",
        "\n",
        "# Crear un DataFrame para almacenar los resultados\n",
        "cuadro1_df = pd.DataFrame(cuadro1, index=cuadro1[\"Modelo\"])\n",
        "cuadro1_df.drop(columns=[\"Modelo\"], inplace=True)\n",
        "\n",
        "# Ordenar el DataFrame por la columna F1_Tst de mayor a menor\n",
        "cuadro1_df = cuadro1_df.sort_values(by=\"F1 Score\", ascending=False)\n",
        "\n",
        "\n",
        "# Evaluamos el rendimiento de los modelos con el conjunto de pruebas\n",
        "\n",
        "ytest_pred = cross_val_predict(reg, Xtest1, ytest1, cv=5)\n",
        "recall_test = recall_score(ytest1, ytest_pred, average=\"binary\")\n",
        "recall_test_macro = recall_score(ytest1, ytest_pred, average=\"macro\")\n",
        "f1_test = f1_score(ytest1, ytest_pred, average=\"binary\")\n",
        "\n",
        "ytest_pred_ensamble4_best = ensamble4_best.predict(Xtest1)\n",
        "recall_test_ensamble4_best = recall_score(\n",
        "    ytest1, ytest_pred_ensamble4_best, average=\"binary\"\n",
        ")\n",
        "recall_test_macro_ensamble4_best = recall_score(\n",
        "    ytest1, ytest_pred_ensamble4_best, average=\"macro\"\n",
        ")\n",
        "f1_test_ensamble4_best = f1_score(ytest1, ytest_pred_ensamble4_best, average=\"binary\")\n",
        "\n",
        "cuadro2 = {\n",
        "    \"Modelo\": [\"Dummy\", \"Regresión logística\", \"Ensemble\"],\n",
        "    \"Recall\": [recall_test_dum, recall_test, recall_test_ensamble4_best],\n",
        "    \"Recall Macro\": [\n",
        "        recall_test_macro_dum,\n",
        "        recall_test_macro,\n",
        "        recall_test_macro_ensamble4_best,\n",
        "    ],\n",
        "    \"F1 Score\": [f1_test_dum, f1_test, f1_test_ensamble4_best],\n",
        "    \"Fit_Time\": [tiempo_fit_dummy, tiempo_fit_reg, tiempo_fit_ensamble4_best],\n",
        "}\n",
        "\n",
        "# Crear un DataFrame para almacenar los resultados\n",
        "cuadro2_df = pd.DataFrame(cuadro2, index=cuadro2[\"Modelo\"])\n",
        "cuadro2_df.drop(columns=[\"Modelo\"], inplace=True)\n",
        "\n",
        "# Ordenar el DataFrame por la columna F1_Tst de mayor a menor\n",
        "cuadro2_df = cuadro2_df.sort_values(by=\"F1 Score\", ascending=False)\n",
        "\n",
        "# Aquí puedes especificar el axis=0 para columnas o axis=1 para filas\n",
        "display_side_by_side(\n",
        "    [cuadro1_df, cuadro2_df],\n",
        "    [\"Conjunto de Entrenamiento\", \"Conjunto de Pruebas\"],\n",
        "    color=\"lightblue\",\n",
        "    axis=0,\n",
        ")"
      ]
    },
    {
      "cell_type": "code",
      "execution_count": null,
      "id": "uFpltUuCz8A6",
      "metadata": {
        "colab": {
          "base_uri": "https://localhost:8080/",
          "height": 607
        },
        "id": "uFpltUuCz8A6",
        "outputId": "baa723bc-b87a-46de-9e48-e3dd7783b85d"
      },
      "outputs": [
        {
          "data": {
            "image/png": "[encoded data removed]",
            "text/plain": [
              "<Figure size 1008x432 with 2 Axes>"
            ]
          },
          "metadata": {
            "needs_background": "light"
          },
          "output_type": "display_data"
        },
        {
          "data": {
            "application/javascript": [
              "\n",
              "            setTimeout(function() {\n",
              "                var nbb_cell_id = 46;\n",
              "                var nbb_unformatted_code = \"# Generar las matrices de confusi\\u00f3n\\ncm_tv = confusion_matrix(ytv1, ytv_pred_ensamble4_best)\\ncm_test = confusion_matrix(ytest1, ytest_pred_ensamble4_best)\\n\\n# Crear DataFrames de las matrices de confusi\\u00f3n\\ncm_tv_df = pd.DataFrame(cm_tv, index=[0, 1], columns=[0, 1])\\ncm_test_df = pd.DataFrame(cm_test, index=[0, 1], columns=[0, 1])\\n\\n# Crear el heatmap usando seaborn\\nplt.figure(figsize=(14, 6))\\n\\n# Heatmap de la matriz de confusi\\u00f3n de entrenamiento\\nplt.subplot(1, 2, 1)\\nsns.heatmap(cm_tv_df, annot=True, fmt='d', cmap='Blues', cbar=False)\\nplt.title('Matriz de Confusi\\u00f3n - Entrenamiento')\\nplt.xlabel('Predicted')\\nplt.ylabel('Actual')\\n\\n# Heatmap de la matriz de confusi\\u00f3n de prueba\\nplt.subplot(1, 2, 2)\\nsns.heatmap(cm_test_df, annot=True, fmt='d', cmap='Blues', cbar=False)\\nplt.title('Matriz de Confusi\\u00f3n - Prueba')\\nplt.xlabel('Predicted')\\nplt.ylabel('Actual')\\n\\n# Mostrar las gr\\u00e1ficas\\nplt.tight_layout()\\nplt.show()\";\n",
              "                var nbb_formatted_code = \"# Generar las matrices de confusi\\u00f3n\\ncm_tv = confusion_matrix(ytv1, ytv_pred_ensamble4_best)\\ncm_test = confusion_matrix(ytest1, ytest_pred_ensamble4_best)\\n\\n# Crear DataFrames de las matrices de confusi\\u00f3n\\ncm_tv_df = pd.DataFrame(cm_tv, index=[0, 1], columns=[0, 1])\\ncm_test_df = pd.DataFrame(cm_test, index=[0, 1], columns=[0, 1])\\n\\n# Crear el heatmap usando seaborn\\nplt.figure(figsize=(14, 6))\\n\\n# Heatmap de la matriz de confusi\\u00f3n de entrenamiento\\nplt.subplot(1, 2, 1)\\nsns.heatmap(cm_tv_df, annot=True, fmt=\\\"d\\\", cmap=\\\"Blues\\\", cbar=False)\\nplt.title(\\\"Matriz de Confusi\\u00f3n - Entrenamiento\\\")\\nplt.xlabel(\\\"Predicted\\\")\\nplt.ylabel(\\\"Actual\\\")\\n\\n# Heatmap de la matriz de confusi\\u00f3n de prueba\\nplt.subplot(1, 2, 2)\\nsns.heatmap(cm_test_df, annot=True, fmt=\\\"d\\\", cmap=\\\"Blues\\\", cbar=False)\\nplt.title(\\\"Matriz de Confusi\\u00f3n - Prueba\\\")\\nplt.xlabel(\\\"Predicted\\\")\\nplt.ylabel(\\\"Actual\\\")\\n\\n# Mostrar las gr\\u00e1ficas\\nplt.tight_layout()\\nplt.show()\";\n",
              "                var nbb_cells = Jupyter.notebook.get_cells();\n",
              "                for (var i = 0; i < nbb_cells.length; ++i) {\n",
              "                    if (nbb_cells[i].input_prompt_number == nbb_cell_id) {\n",
              "                        if (nbb_cells[i].get_text() == nbb_unformatted_code) {\n",
              "                             nbb_cells[i].set_text(nbb_formatted_code);\n",
              "                        }\n",
              "                        break;\n",
              "                    }\n",
              "                }\n",
              "            }, 500);\n",
              "            "
            ],
            "text/plain": [
              "<IPython.core.display.Javascript object>"
            ]
          },
          "metadata": {},
          "output_type": "display_data"
        }
      ],
      "source": [
        "# Generar las matrices de confusión\n",
        "cm_tv = confusion_matrix(ytv1, ytv_pred_ensamble4_best)\n",
        "cm_test = confusion_matrix(ytest1, ytest_pred_ensamble4_best)\n",
        "\n",
        "# Crear DataFrames de las matrices de confusión\n",
        "cm_tv_df = pd.DataFrame(cm_tv, index=[0, 1], columns=[0, 1])\n",
        "cm_test_df = pd.DataFrame(cm_test, index=[0, 1], columns=[0, 1])\n",
        "\n",
        "# Crear el heatmap usando seaborn\n",
        "plt.figure(figsize=(14, 6))\n",
        "\n",
        "# Heatmap de la matriz de confusión de entrenamiento\n",
        "plt.subplot(1, 2, 1)\n",
        "sns.heatmap(cm_tv_df, annot=True, fmt=\"d\", cmap=\"Blues\", cbar=False)\n",
        "plt.title(\"Matriz de Confusión - Entrenamiento\")\n",
        "plt.xlabel(\"Predicted\")\n",
        "plt.ylabel(\"Actual\")\n",
        "\n",
        "# Heatmap de la matriz de confusión de prueba\n",
        "plt.subplot(1, 2, 2)\n",
        "sns.heatmap(cm_test_df, annot=True, fmt=\"d\", cmap=\"Blues\", cbar=False)\n",
        "plt.title(\"Matriz de Confusión - Prueba\")\n",
        "plt.xlabel(\"Predicted\")\n",
        "plt.ylabel(\"Actual\")\n",
        "\n",
        "# Mostrar las gráficas\n",
        "plt.tight_layout()\n",
        "plt.show()"
      ]
    },
    {
      "cell_type": "markdown",
      "id": "y51V-6xp1UY4",
      "metadata": {
        "id": "y51V-6xp1UY4"
      },
      "source": [
        "#### 2.3.3 Bagging con red Neuronal"
      ]
    },
    {
      "cell_type": "code",
      "execution_count": null,
      "id": "HQOfCXBq1Z6Z",
      "metadata": {
        "colab": {
          "base_uri": "https://localhost:8080/",
          "height": 217
        },
        "id": "HQOfCXBq1Z6Z",
        "outputId": "fca5892d-2652-44d6-dd0c-b0ff9514fe0d"
      },
      "outputs": [
        {
          "name": "stdout",
          "output_type": "stream",
          "text": [
            "Fitting 5 folds for each of 108 candidates, totalling 540 fits\n",
            "Mejores hiperparámetros: {'bootstrap': True, 'bootstrap_features': True, 'max_features': 0.5, 'max_samples': 0.5, 'n_estimators': 200}\n",
            "Mejor Recall Score: 0.9008080808080807\n"
          ]
        },
        {
          "data": {
            "text/html": [
              "<div style=\"display: inline-block; padding: 10px;\"><h3>Conjunto de Entrenamiento</h3><style type=\"text/css\">\n",
              "#T_fcee4_row0_col0, #T_fcee4_row0_col1, #T_fcee4_row0_col2, #T_fcee4_row0_col3 {\n",
              "  background-color: lightblue;\n",
              "}\n",
              "</style>\n",
              "<table id=\"T_fcee4\">\n",
              "  <thead>\n",
              "    <tr>\n",
              "      <th class=\"blank level0\" >&nbsp;</th>\n",
              "      <th id=\"T_fcee4_level0_col0\" class=\"col_heading level0 col0\" >Recall</th>\n",
              "      <th id=\"T_fcee4_level0_col1\" class=\"col_heading level0 col1\" >Recall Macro</th>\n",
              "      <th id=\"T_fcee4_level0_col2\" class=\"col_heading level0 col2\" >F1 Score</th>\n",
              "      <th id=\"T_fcee4_level0_col3\" class=\"col_heading level0 col3\" >Fit_Time</th>\n",
              "    </tr>\n",
              "  </thead>\n",
              "  <tbody>\n",
              "    <tr>\n",
              "      <th id=\"T_fcee4_level0_row0\" class=\"row_heading level0 row0\" >Ensemble</th>\n",
              "      <td id=\"T_fcee4_row0_col0\" class=\"data row0 col0\" >1.000000</td>\n",
              "      <td id=\"T_fcee4_row0_col1\" class=\"data row0 col1\" >0.896694</td>\n",
              "      <td id=\"T_fcee4_row0_col2\" class=\"data row0 col2\" >0.946467</td>\n",
              "      <td id=\"T_fcee4_row0_col3\" class=\"data row0 col3\" >1744.882712</td>\n",
              "    </tr>\n",
              "    <tr>\n",
              "      <th id=\"T_fcee4_level0_row1\" class=\"row_heading level0 row1\" >Dummy</th>\n",
              "      <td id=\"T_fcee4_row1_col0\" class=\"data row1 col0\" >0.000000</td>\n",
              "      <td id=\"T_fcee4_row1_col1\" class=\"data row1 col1\" >0.000000</td>\n",
              "      <td id=\"T_fcee4_row1_col2\" class=\"data row1 col2\" >0.774194</td>\n",
              "      <td id=\"T_fcee4_row1_col3\" class=\"data row1 col3\" >0.000509</td>\n",
              "    </tr>\n",
              "    <tr>\n",
              "      <th id=\"T_fcee4_level0_row2\" class=\"row_heading level0 row2\" >red neuronal</th>\n",
              "      <td id=\"T_fcee4_row2_col0\" class=\"data row2 col0\" >0.692308</td>\n",
              "      <td id=\"T_fcee4_row2_col1\" class=\"data row2 col1\" >0.523840</td>\n",
              "      <td id=\"T_fcee4_row2_col2\" class=\"data row2 col2\" >0.676991</td>\n",
              "      <td id=\"T_fcee4_row2_col3\" class=\"data row2 col3\" >0.250306</td>\n",
              "    </tr>\n",
              "  </tbody>\n",
              "</table>\n",
              "</div><div style=\"display: inline-block; padding: 10px;\"><h3>Conjunto de Pruebas</h3><style type=\"text/css\">\n",
              "#T_d9d95_row0_col2, #T_d9d95_row1_col0, #T_d9d95_row1_col1, #T_d9d95_row1_col3 {\n",
              "  background-color: lightblue;\n",
              "}\n",
              "</style>\n",
              "<table id=\"T_d9d95\">\n",
              "  <thead>\n",
              "    <tr>\n",
              "      <th class=\"blank level0\" >&nbsp;</th>\n",
              "      <th id=\"T_d9d95_level0_col0\" class=\"col_heading level0 col0\" >Recall</th>\n",
              "      <th id=\"T_d9d95_level0_col1\" class=\"col_heading level0 col1\" >Recall Macro</th>\n",
              "      <th id=\"T_d9d95_level0_col2\" class=\"col_heading level0 col2\" >F1 Score</th>\n",
              "      <th id=\"T_d9d95_level0_col3\" class=\"col_heading level0 col3\" >Fit_Time</th>\n",
              "    </tr>\n",
              "  </thead>\n",
              "  <tbody>\n",
              "    <tr>\n",
              "      <th id=\"T_d9d95_level0_row0\" class=\"row_heading level0 row0\" >Dummy</th>\n",
              "      <td id=\"T_d9d95_row0_col0\" class=\"data row0 col0\" >0.000000</td>\n",
              "      <td id=\"T_d9d95_row0_col1\" class=\"data row0 col1\" >0.000000</td>\n",
              "      <td id=\"T_d9d95_row0_col2\" class=\"data row0 col2\" >0.774194</td>\n",
              "      <td id=\"T_d9d95_row0_col3\" class=\"data row0 col3\" >0.000509</td>\n",
              "    </tr>\n",
              "    <tr>\n",
              "      <th id=\"T_d9d95_level0_row1\" class=\"row_heading level0 row1\" >Ensemble</th>\n",
              "      <td id=\"T_d9d95_row1_col0\" class=\"data row1 col0\" >0.833333</td>\n",
              "      <td id=\"T_d9d95_row1_col1\" class=\"data row1 col1\" >0.488095</td>\n",
              "      <td id=\"T_d9d95_row1_col2\" class=\"data row1 col2\" >0.714286</td>\n",
              "      <td id=\"T_d9d95_row1_col3\" class=\"data row1 col3\" >1744.882712</td>\n",
              "    </tr>\n",
              "    <tr>\n",
              "      <th id=\"T_d9d95_level0_row2\" class=\"row_heading level0 row2\" >red neuronal</th>\n",
              "      <td id=\"T_d9d95_row2_col0\" class=\"data row2 col0\" >0.625000</td>\n",
              "      <td id=\"T_d9d95_row2_col1\" class=\"data row2 col1\" >0.455357</td>\n",
              "      <td id=\"T_d9d95_row2_col2\" class=\"data row2 col2\" >0.612245</td>\n",
              "      <td id=\"T_d9d95_row2_col3\" class=\"data row2 col3\" >0.250306</td>\n",
              "    </tr>\n",
              "  </tbody>\n",
              "</table>\n",
              "</div>"
            ]
          },
          "metadata": {},
          "output_type": "display_data"
        },
        {
          "data": {
            "application/javascript": [
              "\n",
              "            setTimeout(function() {\n",
              "                var nbb_cell_id = 47;\n",
              "                var nbb_unformatted_code = \"# Definimos el modelo\\nstart_time = time.time()\\nred = MLPClassifier(solver=\\\"adam\\\",  activation = 'logistic', alpha = 0.1, hidden_layer_sizes = (50,),\\n                    learning_rate_init = 0.01, max_iter = 10000, random_state=42)\\n\\n# se ajusta el modelo\\nred.fit(Xtv2, ytv2)\\ntiempo_fit_red = time.time() - start_time\\n\\n# generamos el ensamble usando bagging\\nstart_time = time.time()\\nensamble6 = BaggingClassifier(base_estimator=red, n_estimators=200, random_state=42)\\n\\nparam_grid = {\\n    'n_estimators': [50, 100, 200],\\n    'max_samples': [0.5, 0.7, 1.0],\\n    'max_features': [0.5, 0.7, 1.0],\\n    'bootstrap': [True, False],\\n    'bootstrap_features': [True, False]\\n}\\n\\n\\ngrid_search = GridSearchCV(estimator=ensamble6, param_grid=param_grid, cv=5, scoring='recall', n_jobs=-1, verbose=1)\\n\\ngrid_search.fit(Xtv2, ytv2)\\n\\nbest_params = grid_search.best_params_\\nbest_score = grid_search.best_score_\\n\\nprint(f\\\"Mejores hiperpar\\u00e1metros: {best_params}\\\")\\nprint(f\\\"Mejor Recall Score: {best_score}\\\")\\n\\n# Entrenamos el ensamble\\n\\nbest_bagging_params = {key: value for key, value in best_params.items() if 'base_estimator__' not in key}\\n\\nensamble6_best = BaggingClassifier(base_estimator=red, **best_bagging_params, random_state=0)\\n\\nensamble6_best.fit(Xtv2, ytv2)\\n\\ntiempo_fit_ensamble6_best = time.time() - start_time\\n\\n\\n# Evaluamos el rendimiento de los modelos con el conjunto de entrenamiento\\n\\nytv_pred = cross_val_predict(red, Xtv2, ytv2, cv=5)\\nrecall_tv = recall_score(ytv2, ytv_pred, average='binary')\\nrecall_tv_macro = recall_score(ytv2, ytv_pred, average='macro')\\nf1_tv = f1_score(ytv2, ytv_pred, average='binary')\\n\\nytv_pred_ensamble6_best = ensamble6_best.predict(Xtv2)\\nrecall_tv_ensamble6_best = recall_score(ytv2, ytv_pred_ensamble6_best, average='binary')\\nrecall_tv_macro_ensamble6_best = recall_score(ytv2, ytv_pred_ensamble6_best, average='macro')\\nf1_tv_ensamble6_best = f1_score(ytv2, ytv_pred_ensamble6_best, average='binary')\\n\\ncuadro1 = {\\n    'Modelo': ['Dummy', 'red neuronal', 'Ensemble'],\\n    'Recall': [recall_test_dum, recall_tv,  recall_tv_ensamble6_best],\\n    'Recall Macro': [recall_test_macro_dum, recall_tv_macro, recall_tv_macro_ensamble6_best],\\n    'F1 Score': [f1_test_dum, f1_tv, f1_tv_ensamble6_best],\\n    'Fit_Time': [tiempo_fit_dummy, tiempo_fit_red,tiempo_fit_ensamble6_best]\\n}\\n\\n# Crear un DataFrame para almacenar los resultados\\ncuadro1_df = pd.DataFrame(cuadro1,index=cuadro1[\\\"Modelo\\\"])\\ncuadro1_df.drop(columns=['Modelo'], inplace=True)\\n\\n# Ordenar el DataFrame por la columna F1_Tst de mayor a menor\\ncuadro1_df = cuadro1_df.sort_values(by='F1 Score', ascending=False)\\n\\n\\n# Evaluamos el rendimiento de los modelos con el conjunto de pruebas\\n\\nytest_pred = cross_val_predict(red, Xtest2, ytest2, cv=5)\\nrecall_test = recall_score(ytest2, ytest_pred, average='binary')\\nrecall_test_macro = recall_score(ytest2, ytest_pred, average='macro')\\nf1_test = f1_score(ytest2, ytest_pred, average='binary')\\n\\nytest_pred_ensamble6_best = ensamble6_best.predict(Xtest2)\\nrecall_test_ensamble6_best = recall_score(ytest2, ytest_pred_ensamble6_best, average='binary')\\nrecall_test_macro_ensamble6_best = recall_score(ytest2, ytest_pred_ensamble6_best, average='macro')\\nf1_test_ensamble6_best = f1_score(ytest2, ytest_pred_ensamble6_best, average='binary')\\n\\ncuadro2 = {\\n    'Modelo': ['Dummy', 'red neuronal', 'Ensemble'],\\n    'Recall': [recall_test_dum, recall_test, recall_test_ensamble6_best],\\n    'Recall Macro': [recall_test_macro_dum, recall_test_macro, recall_test_macro_ensamble6_best],\\n    'F1 Score': [f1_test_dum, f1_test, f1_test_ensamble6_best],\\n    'Fit_Time': [tiempo_fit_dummy, tiempo_fit_red,tiempo_fit_ensamble6_best]\\n}\\n\\n# Crear un DataFrame para almacenar los resultados\\ncuadro2_df = pd.DataFrame(cuadro2,index=cuadro2[\\\"Modelo\\\"])\\ncuadro2_df.drop(columns=['Modelo'], inplace=True)\\n\\n# Ordenar el DataFrame por la columna F1_Tst de mayor a menor\\ncuadro2_df = cuadro2_df.sort_values(by='F1 Score', ascending=False)\\n\\n# Aqu\\u00ed puedes especificar el axis=0 para columnas o axis=1 para filas\\ndisplay_side_by_side([cuadro1_df, cuadro2_df], ['Conjunto de Entrenamiento', 'Conjunto de Pruebas'],\\n                     color='lightblue', axis=0)\";\n",
              "                var nbb_formatted_code = \"# Definimos el modelo\\nstart_time = time.time()\\nred = MLPClassifier(\\n    solver=\\\"adam\\\",\\n    activation=\\\"logistic\\\",\\n    alpha=0.1,\\n    hidden_layer_sizes=(50,),\\n    learning_rate_init=0.01,\\n    max_iter=10000,\\n    random_state=42,\\n)\\n\\n# se ajusta el modelo\\nred.fit(Xtv2, ytv2)\\ntiempo_fit_red = time.time() - start_time\\n\\n# generamos el ensamble usando bagging\\nstart_time = time.time()\\nensamble6 = BaggingClassifier(base_estimator=red, n_estimators=200, random_state=42)\\n\\nparam_grid = {\\n    \\\"n_estimators\\\": [50, 100, 200],\\n    \\\"max_samples\\\": [0.5, 0.7, 1.0],\\n    \\\"max_features\\\": [0.5, 0.7, 1.0],\\n    \\\"bootstrap\\\": [True, False],\\n    \\\"bootstrap_features\\\": [True, False],\\n}\\n\\n\\ngrid_search = GridSearchCV(\\n    estimator=ensamble6,\\n    param_grid=param_grid,\\n    cv=5,\\n    scoring=\\\"recall\\\",\\n    n_jobs=-1,\\n    verbose=1,\\n)\\n\\ngrid_search.fit(Xtv2, ytv2)\\n\\nbest_params = grid_search.best_params_\\nbest_score = grid_search.best_score_\\n\\nprint(f\\\"Mejores hiperpar\\u00e1metros: {best_params}\\\")\\nprint(f\\\"Mejor Recall Score: {best_score}\\\")\\n\\n# Entrenamos el ensamble\\n\\nbest_bagging_params = {\\n    key: value for key, value in best_params.items() if \\\"base_estimator__\\\" not in key\\n}\\n\\nensamble6_best = BaggingClassifier(\\n    base_estimator=red, **best_bagging_params, random_state=0\\n)\\n\\nensamble6_best.fit(Xtv2, ytv2)\\n\\ntiempo_fit_ensamble6_best = time.time() - start_time\\n\\n\\n# Evaluamos el rendimiento de los modelos con el conjunto de entrenamiento\\n\\nytv_pred = cross_val_predict(red, Xtv2, ytv2, cv=5)\\nrecall_tv = recall_score(ytv2, ytv_pred, average=\\\"binary\\\")\\nrecall_tv_macro = recall_score(ytv2, ytv_pred, average=\\\"macro\\\")\\nf1_tv = f1_score(ytv2, ytv_pred, average=\\\"binary\\\")\\n\\nytv_pred_ensamble6_best = ensamble6_best.predict(Xtv2)\\nrecall_tv_ensamble6_best = recall_score(ytv2, ytv_pred_ensamble6_best, average=\\\"binary\\\")\\nrecall_tv_macro_ensamble6_best = recall_score(\\n    ytv2, ytv_pred_ensamble6_best, average=\\\"macro\\\"\\n)\\nf1_tv_ensamble6_best = f1_score(ytv2, ytv_pred_ensamble6_best, average=\\\"binary\\\")\\n\\ncuadro1 = {\\n    \\\"Modelo\\\": [\\\"Dummy\\\", \\\"red neuronal\\\", \\\"Ensemble\\\"],\\n    \\\"Recall\\\": [recall_test_dum, recall_tv, recall_tv_ensamble6_best],\\n    \\\"Recall Macro\\\": [\\n        recall_test_macro_dum,\\n        recall_tv_macro,\\n        recall_tv_macro_ensamble6_best,\\n    ],\\n    \\\"F1 Score\\\": [f1_test_dum, f1_tv, f1_tv_ensamble6_best],\\n    \\\"Fit_Time\\\": [tiempo_fit_dummy, tiempo_fit_red, tiempo_fit_ensamble6_best],\\n}\\n\\n# Crear un DataFrame para almacenar los resultados\\ncuadro1_df = pd.DataFrame(cuadro1, index=cuadro1[\\\"Modelo\\\"])\\ncuadro1_df.drop(columns=[\\\"Modelo\\\"], inplace=True)\\n\\n# Ordenar el DataFrame por la columna F1_Tst de mayor a menor\\ncuadro1_df = cuadro1_df.sort_values(by=\\\"F1 Score\\\", ascending=False)\\n\\n\\n# Evaluamos el rendimiento de los modelos con el conjunto de pruebas\\n\\nytest_pred = cross_val_predict(red, Xtest2, ytest2, cv=5)\\nrecall_test = recall_score(ytest2, ytest_pred, average=\\\"binary\\\")\\nrecall_test_macro = recall_score(ytest2, ytest_pred, average=\\\"macro\\\")\\nf1_test = f1_score(ytest2, ytest_pred, average=\\\"binary\\\")\\n\\nytest_pred_ensamble6_best = ensamble6_best.predict(Xtest2)\\nrecall_test_ensamble6_best = recall_score(\\n    ytest2, ytest_pred_ensamble6_best, average=\\\"binary\\\"\\n)\\nrecall_test_macro_ensamble6_best = recall_score(\\n    ytest2, ytest_pred_ensamble6_best, average=\\\"macro\\\"\\n)\\nf1_test_ensamble6_best = f1_score(ytest2, ytest_pred_ensamble6_best, average=\\\"binary\\\")\\n\\ncuadro2 = {\\n    \\\"Modelo\\\": [\\\"Dummy\\\", \\\"red neuronal\\\", \\\"Ensemble\\\"],\\n    \\\"Recall\\\": [recall_test_dum, recall_test, recall_test_ensamble6_best],\\n    \\\"Recall Macro\\\": [\\n        recall_test_macro_dum,\\n        recall_test_macro,\\n        recall_test_macro_ensamble6_best,\\n    ],\\n    \\\"F1 Score\\\": [f1_test_dum, f1_test, f1_test_ensamble6_best],\\n    \\\"Fit_Time\\\": [tiempo_fit_dummy, tiempo_fit_red, tiempo_fit_ensamble6_best],\\n}\\n\\n# Crear un DataFrame para almacenar los resultados\\ncuadro2_df = pd.DataFrame(cuadro2, index=cuadro2[\\\"Modelo\\\"])\\ncuadro2_df.drop(columns=[\\\"Modelo\\\"], inplace=True)\\n\\n# Ordenar el DataFrame por la columna F1_Tst de mayor a menor\\ncuadro2_df = cuadro2_df.sort_values(by=\\\"F1 Score\\\", ascending=False)\\n\\n# Aqu\\u00ed puedes especificar el axis=0 para columnas o axis=1 para filas\\ndisplay_side_by_side(\\n    [cuadro1_df, cuadro2_df],\\n    [\\\"Conjunto de Entrenamiento\\\", \\\"Conjunto de Pruebas\\\"],\\n    color=\\\"lightblue\\\",\\n    axis=0,\\n)\";\n",
              "                var nbb_cells = Jupyter.notebook.get_cells();\n",
              "                for (var i = 0; i < nbb_cells.length; ++i) {\n",
              "                    if (nbb_cells[i].input_prompt_number == nbb_cell_id) {\n",
              "                        if (nbb_cells[i].get_text() == nbb_unformatted_code) {\n",
              "                             nbb_cells[i].set_text(nbb_formatted_code);\n",
              "                        }\n",
              "                        break;\n",
              "                    }\n",
              "                }\n",
              "            }, 500);\n",
              "            "
            ],
            "text/plain": [
              "<IPython.core.display.Javascript object>"
            ]
          },
          "metadata": {},
          "output_type": "display_data"
        }
      ],
      "source": [
        "# Definimos el modelo\n",
        "start_time = time.time()\n",
        "red = MLPClassifier(\n",
        "    solver=\"adam\",\n",
        "    activation=\"logistic\",\n",
        "    alpha=0.1,\n",
        "    hidden_layer_sizes=(50,),\n",
        "    learning_rate_init=0.01,\n",
        "    max_iter=10000,\n",
        "    random_state=42,\n",
        ")\n",
        "\n",
        "# se ajusta el modelo\n",
        "red.fit(Xtv2, ytv2)\n",
        "tiempo_fit_red = time.time() - start_time\n",
        "\n",
        "# generamos el ensamble usando bagging\n",
        "start_time = time.time()\n",
        "ensamble6 = BaggingClassifier(base_estimator=red, n_estimators=200, random_state=42)\n",
        "\n",
        "param_grid = {\n",
        "    \"n_estimators\": [50, 100, 200],\n",
        "    \"max_samples\": [0.5, 0.7, 1.0],\n",
        "    \"max_features\": [0.5, 0.7, 1.0],\n",
        "    \"bootstrap\": [True, False],\n",
        "    \"bootstrap_features\": [True, False],\n",
        "}\n",
        "\n",
        "\n",
        "grid_search = GridSearchCV(\n",
        "    estimator=ensamble6,\n",
        "    param_grid=param_grid,\n",
        "    cv=5,\n",
        "    scoring=\"recall\",\n",
        "    n_jobs=-1,\n",
        "    verbose=1,\n",
        ")\n",
        "\n",
        "grid_search.fit(Xtv2, ytv2)\n",
        "\n",
        "best_params = grid_search.best_params_\n",
        "best_score = grid_search.best_score_\n",
        "\n",
        "print(f\"Mejores hiperparámetros: {best_params}\")\n",
        "print(f\"Mejor Recall Score: {best_score}\")\n",
        "\n",
        "# Entrenamos el ensamble\n",
        "\n",
        "best_bagging_params = {\n",
        "    key: value for key, value in best_params.items() if \"base_estimator__\" not in key\n",
        "}\n",
        "\n",
        "ensamble6_best = BaggingClassifier(\n",
        "    base_estimator=red, **best_bagging_params, random_state=0\n",
        ")\n",
        "\n",
        "ensamble6_best.fit(Xtv2, ytv2)\n",
        "\n",
        "tiempo_fit_ensamble6_best = time.time() - start_time\n",
        "\n",
        "\n",
        "# Evaluamos el rendimiento de los modelos con el conjunto de entrenamiento\n",
        "\n",
        "ytv_pred = cross_val_predict(red, Xtv2, ytv2, cv=5)\n",
        "recall_tv = recall_score(ytv2, ytv_pred, average=\"binary\")\n",
        "recall_tv_macro = recall_score(ytv2, ytv_pred, average=\"macro\")\n",
        "f1_tv = f1_score(ytv2, ytv_pred, average=\"binary\")\n",
        "\n",
        "ytv_pred_ensamble6_best = ensamble6_best.predict(Xtv2)\n",
        "recall_tv_ensamble6_best = recall_score(ytv2, ytv_pred_ensamble6_best, average=\"binary\")\n",
        "recall_tv_macro_ensamble6_best = recall_score(\n",
        "    ytv2, ytv_pred_ensamble6_best, average=\"macro\"\n",
        ")\n",
        "f1_tv_ensamble6_best = f1_score(ytv2, ytv_pred_ensamble6_best, average=\"binary\")\n",
        "\n",
        "cuadro1 = {\n",
        "    \"Modelo\": [\"Dummy\", \"red neuronal\", \"Ensemble\"],\n",
        "    \"Recall\": [recall_test_dum, recall_tv, recall_tv_ensamble6_best],\n",
        "    \"Recall Macro\": [\n",
        "        recall_test_macro_dum,\n",
        "        recall_tv_macro,\n",
        "        recall_tv_macro_ensamble6_best,\n",
        "    ],\n",
        "    \"F1 Score\": [f1_test_dum, f1_tv, f1_tv_ensamble6_best],\n",
        "    \"Fit_Time\": [tiempo_fit_dummy, tiempo_fit_red, tiempo_fit_ensamble6_best],\n",
        "}\n",
        "\n",
        "# Crear un DataFrame para almacenar los resultados\n",
        "cuadro1_df = pd.DataFrame(cuadro1, index=cuadro1[\"Modelo\"])\n",
        "cuadro1_df.drop(columns=[\"Modelo\"], inplace=True)\n",
        "\n",
        "# Ordenar el DataFrame por la columna F1_Tst de mayor a menor\n",
        "cuadro1_df = cuadro1_df.sort_values(by=\"F1 Score\", ascending=False)\n",
        "\n",
        "\n",
        "# Evaluamos el rendimiento de los modelos con el conjunto de pruebas\n",
        "\n",
        "ytest_pred = cross_val_predict(red, Xtest2, ytest2, cv=5)\n",
        "recall_test = recall_score(ytest2, ytest_pred, average=\"binary\")\n",
        "recall_test_macro = recall_score(ytest2, ytest_pred, average=\"macro\")\n",
        "f1_test = f1_score(ytest2, ytest_pred, average=\"binary\")\n",
        "\n",
        "ytest_pred_ensamble6_best = ensamble6_best.predict(Xtest2)\n",
        "recall_test_ensamble6_best = recall_score(\n",
        "    ytest2, ytest_pred_ensamble6_best, average=\"binary\"\n",
        ")\n",
        "recall_test_macro_ensamble6_best = recall_score(\n",
        "    ytest2, ytest_pred_ensamble6_best, average=\"macro\"\n",
        ")\n",
        "f1_test_ensamble6_best = f1_score(ytest2, ytest_pred_ensamble6_best, average=\"binary\")\n",
        "\n",
        "cuadro2 = {\n",
        "    \"Modelo\": [\"Dummy\", \"red neuronal\", \"Ensemble\"],\n",
        "    \"Recall\": [recall_test_dum, recall_test, recall_test_ensamble6_best],\n",
        "    \"Recall Macro\": [\n",
        "        recall_test_macro_dum,\n",
        "        recall_test_macro,\n",
        "        recall_test_macro_ensamble6_best,\n",
        "    ],\n",
        "    \"F1 Score\": [f1_test_dum, f1_test, f1_test_ensamble6_best],\n",
        "    \"Fit_Time\": [tiempo_fit_dummy, tiempo_fit_red, tiempo_fit_ensamble6_best],\n",
        "}\n",
        "\n",
        "# Crear un DataFrame para almacenar los resultados\n",
        "cuadro2_df = pd.DataFrame(cuadro2, index=cuadro2[\"Modelo\"])\n",
        "cuadro2_df.drop(columns=[\"Modelo\"], inplace=True)\n",
        "\n",
        "# Ordenar el DataFrame por la columna F1_Tst de mayor a menor\n",
        "cuadro2_df = cuadro2_df.sort_values(by=\"F1 Score\", ascending=False)\n",
        "\n",
        "# Aquí puedes especificar el axis=0 para columnas o axis=1 para filas\n",
        "display_side_by_side(\n",
        "    [cuadro1_df, cuadro2_df],\n",
        "    [\"Conjunto de Entrenamiento\", \"Conjunto de Pruebas\"],\n",
        "    color=\"lightblue\",\n",
        "    axis=0,\n",
        ")"
      ]
    },
    {
      "cell_type": "code",
      "execution_count": null,
      "id": "jIypt5Nc2NUf",
      "metadata": {
        "colab": {
          "base_uri": "https://localhost:8080/",
          "height": 607
        },
        "id": "jIypt5Nc2NUf",
        "outputId": "0f6f328b-cd78-4789-dbfe-8d5a9d2da351"
      },
      "outputs": [
        {
          "data": {
            "image/png": "[encoded data removed]",
            "text/plain": [
              "<Figure size 1008x432 with 2 Axes>"
            ]
          },
          "metadata": {
            "needs_background": "light"
          },
          "output_type": "display_data"
        },
        {
          "data": {
            "application/javascript": [
              "\n",
              "            setTimeout(function() {\n",
              "                var nbb_cell_id = 48;\n",
              "                var nbb_unformatted_code = \"# Generar las matrices de confusi\\u00f3n\\ncm_tv = confusion_matrix(ytv2, ytv_pred_ensamble6_best)\\ncm_test = confusion_matrix(ytest2, ytest_pred_ensamble6_best)\\n\\n# Crear DataFrames de las matrices de confusi\\u00f3n\\ncm_tv_df = pd.DataFrame(cm_tv, index=[0, 1], columns=[0, 1])\\ncm_test_df = pd.DataFrame(cm_test, index=[0, 1], columns=[0, 1])\\n\\n# Crear el heatmap usando seaborn\\nplt.figure(figsize=(14, 6))\\n\\n# Heatmap de la matriz de confusi\\u00f3n de entrenamiento\\nplt.subplot(1, 2, 1)\\nsns.heatmap(cm_tv_df, annot=True, fmt='d', cmap='Blues', cbar=False)\\nplt.title('Matriz de Confusi\\u00f3n - Entrenamiento')\\nplt.xlabel('Predicted')\\nplt.ylabel('Actual')\\n\\n# Heatmap de la matriz de confusi\\u00f3n de prueba\\nplt.subplot(1, 2, 2)\\nsns.heatmap(cm_test_df, annot=True, fmt='d', cmap='Blues', cbar=False)\\nplt.title('Matriz de Confusi\\u00f3n - Prueba')\\nplt.xlabel('Predicted')\\nplt.ylabel('Actual')\\n\\n# Mostrar las gr\\u00e1ficas\\nplt.tight_layout()\\nplt.show()\";\n",
              "                var nbb_formatted_code = \"# Generar las matrices de confusi\\u00f3n\\ncm_tv = confusion_matrix(ytv2, ytv_pred_ensamble6_best)\\ncm_test = confusion_matrix(ytest2, ytest_pred_ensamble6_best)\\n\\n# Crear DataFrames de las matrices de confusi\\u00f3n\\ncm_tv_df = pd.DataFrame(cm_tv, index=[0, 1], columns=[0, 1])\\ncm_test_df = pd.DataFrame(cm_test, index=[0, 1], columns=[0, 1])\\n\\n# Crear el heatmap usando seaborn\\nplt.figure(figsize=(14, 6))\\n\\n# Heatmap de la matriz de confusi\\u00f3n de entrenamiento\\nplt.subplot(1, 2, 1)\\nsns.heatmap(cm_tv_df, annot=True, fmt=\\\"d\\\", cmap=\\\"Blues\\\", cbar=False)\\nplt.title(\\\"Matriz de Confusi\\u00f3n - Entrenamiento\\\")\\nplt.xlabel(\\\"Predicted\\\")\\nplt.ylabel(\\\"Actual\\\")\\n\\n# Heatmap de la matriz de confusi\\u00f3n de prueba\\nplt.subplot(1, 2, 2)\\nsns.heatmap(cm_test_df, annot=True, fmt=\\\"d\\\", cmap=\\\"Blues\\\", cbar=False)\\nplt.title(\\\"Matriz de Confusi\\u00f3n - Prueba\\\")\\nplt.xlabel(\\\"Predicted\\\")\\nplt.ylabel(\\\"Actual\\\")\\n\\n# Mostrar las gr\\u00e1ficas\\nplt.tight_layout()\\nplt.show()\";\n",
              "                var nbb_cells = Jupyter.notebook.get_cells();\n",
              "                for (var i = 0; i < nbb_cells.length; ++i) {\n",
              "                    if (nbb_cells[i].input_prompt_number == nbb_cell_id) {\n",
              "                        if (nbb_cells[i].get_text() == nbb_unformatted_code) {\n",
              "                             nbb_cells[i].set_text(nbb_formatted_code);\n",
              "                        }\n",
              "                        break;\n",
              "                    }\n",
              "                }\n",
              "            }, 500);\n",
              "            "
            ],
            "text/plain": [
              "<IPython.core.display.Javascript object>"
            ]
          },
          "metadata": {},
          "output_type": "display_data"
        }
      ],
      "source": [
        "# Generar las matrices de confusión\n",
        "cm_tv = confusion_matrix(ytv2, ytv_pred_ensamble6_best)\n",
        "cm_test = confusion_matrix(ytest2, ytest_pred_ensamble6_best)\n",
        "\n",
        "# Crear DataFrames de las matrices de confusión\n",
        "cm_tv_df = pd.DataFrame(cm_tv, index=[0, 1], columns=[0, 1])\n",
        "cm_test_df = pd.DataFrame(cm_test, index=[0, 1], columns=[0, 1])\n",
        "\n",
        "# Crear el heatmap usando seaborn\n",
        "plt.figure(figsize=(14, 6))\n",
        "\n",
        "# Heatmap de la matriz de confusión de entrenamiento\n",
        "plt.subplot(1, 2, 1)\n",
        "sns.heatmap(cm_tv_df, annot=True, fmt=\"d\", cmap=\"Blues\", cbar=False)\n",
        "plt.title(\"Matriz de Confusión - Entrenamiento\")\n",
        "plt.xlabel(\"Predicted\")\n",
        "plt.ylabel(\"Actual\")\n",
        "\n",
        "# Heatmap de la matriz de confusión de prueba\n",
        "plt.subplot(1, 2, 2)\n",
        "sns.heatmap(cm_test_df, annot=True, fmt=\"d\", cmap=\"Blues\", cbar=False)\n",
        "plt.title(\"Matriz de Confusión - Prueba\")\n",
        "plt.xlabel(\"Predicted\")\n",
        "plt.ylabel(\"Actual\")\n",
        "\n",
        "# Mostrar las gráficas\n",
        "plt.tight_layout()\n",
        "plt.show()"
      ]
    },
    {
      "cell_type": "markdown",
      "id": "QkQBeX4hXPbN",
      "metadata": {
        "id": "QkQBeX4hXPbN"
      },
      "source": [
        "### **2.4 Refinamiento de hiperparámetros de los mejores modelos semana 5 con datos menos desbalanceados**"
      ]
    },
    {
      "cell_type": "markdown",
      "id": "oD_f3CYhYkBs",
      "metadata": {
        "id": "oD_f3CYhYkBs"
      },
      "source": [
        "Como ya explicamos, usaremos solo el submuestreo que fue la técnica que arrojó Los mejores resultados en la semana 4. También, al tener una base de datos tan pequeña, eliminar elementos de la clase mayoritaria puede resultar muy costoso, por lo que utilizaremos un desbalance del 60-40 (que además corroboramos que era la combinación que daba mejores resultados). Así, para el parámetro sampling_strategy utilizaremos la fórmula 40/60 que es apróximadamente 0.6667.\n"
      ]
    },
    {
      "cell_type": "code",
      "execution_count": null,
      "id": "0-qjlhk_XUus",
      "metadata": {
        "id": "0-qjlhk_XUus",
        "outputId": "5b903064-cca4-4a84-dc2b-14529bf2bb9b"
      },
      "outputs": [
        {
          "data": {
            "application/javascript": [
              "\n",
              "            setTimeout(function() {\n",
              "                var nbb_cell_id = 49;\n",
              "                var nbb_unformatted_code = \"from imblearn.under_sampling import RandomUnderSampler\\n\\nundersampler = RandomUnderSampler(sampling_strategy=0.6667, random_state=0) #balanceando al 40-60\\n\\nXtv1_res, Ytv1_res = undersampler.fit_resample(Xtv1, ytv1)\";\n",
              "                var nbb_formatted_code = \"from imblearn.under_sampling import RandomUnderSampler\\n\\nundersampler = RandomUnderSampler(\\n    sampling_strategy=0.6667, random_state=0\\n)  # balanceando al 40-60\\n\\nXtv1_res, Ytv1_res = undersampler.fit_resample(Xtv1, ytv1)\";\n",
              "                var nbb_cells = Jupyter.notebook.get_cells();\n",
              "                for (var i = 0; i < nbb_cells.length; ++i) {\n",
              "                    if (nbb_cells[i].input_prompt_number == nbb_cell_id) {\n",
              "                        if (nbb_cells[i].get_text() == nbb_unformatted_code) {\n",
              "                             nbb_cells[i].set_text(nbb_formatted_code);\n",
              "                        }\n",
              "                        break;\n",
              "                    }\n",
              "                }\n",
              "            }, 500);\n",
              "            "
            ],
            "text/plain": [
              "<IPython.core.display.Javascript object>"
            ]
          },
          "metadata": {},
          "output_type": "display_data"
        }
      ],
      "source": [
        "from imblearn.under_sampling import RandomUnderSampler\n",
        "\n",
        "undersampler = RandomUnderSampler(\n",
        "    sampling_strategy=0.6667, random_state=0\n",
        ")  # balanceando al 40-60\n",
        "\n",
        "Xtv1_res, Ytv1_res = undersampler.fit_resample(Xtv1, ytv1)"
      ]
    },
    {
      "cell_type": "code",
      "execution_count": null,
      "id": "aXHXLIhCsjZD",
      "metadata": {
        "id": "aXHXLIhCsjZD",
        "outputId": "1811be8d-599c-4d60-b776-d7cdb9bc58c7"
      },
      "outputs": [
        {
          "data": {
            "application/javascript": [
              "\n",
              "            setTimeout(function() {\n",
              "                var nbb_cell_id = 50;\n",
              "                var nbb_unformatted_code = \"# Creamos un modelo\\nstart_time = time.time()\\ndummy_clf = DummyClassifier(strategy='most_frequent', random_state= 0)\\n\\n# Se ajusta el modelo a los datos de entrenamiento\\ndummy_clf.fit(Xtv1_res, Ytv1_res)\\ntiempo_fit_dummy_res = time.time() - start_time\\n\\npreds_dum_res_tv = dummy_clf.predict_proba(Xtv1_res)\";\n",
              "                var nbb_formatted_code = \"# Creamos un modelo\\nstart_time = time.time()\\ndummy_clf = DummyClassifier(strategy=\\\"most_frequent\\\", random_state=0)\\n\\n# Se ajusta el modelo a los datos de entrenamiento\\ndummy_clf.fit(Xtv1_res, Ytv1_res)\\ntiempo_fit_dummy_res = time.time() - start_time\\n\\npreds_dum_res_tv = dummy_clf.predict_proba(Xtv1_res)\";\n",
              "                var nbb_cells = Jupyter.notebook.get_cells();\n",
              "                for (var i = 0; i < nbb_cells.length; ++i) {\n",
              "                    if (nbb_cells[i].input_prompt_number == nbb_cell_id) {\n",
              "                        if (nbb_cells[i].get_text() == nbb_unformatted_code) {\n",
              "                             nbb_cells[i].set_text(nbb_formatted_code);\n",
              "                        }\n",
              "                        break;\n",
              "                    }\n",
              "                }\n",
              "            }, 500);\n",
              "            "
            ],
            "text/plain": [
              "<IPython.core.display.Javascript object>"
            ]
          },
          "metadata": {},
          "output_type": "display_data"
        }
      ],
      "source": [
        "# Creamos un modelo\n",
        "start_time = time.time()\n",
        "dummy_clf = DummyClassifier(strategy=\"most_frequent\", random_state=0)\n",
        "\n",
        "# Se ajusta el modelo a los datos de entrenamiento\n",
        "dummy_clf.fit(Xtv1_res, Ytv1_res)\n",
        "tiempo_fit_dummy_res = time.time() - start_time\n",
        "\n",
        "preds_dum_res_tv = dummy_clf.predict_proba(Xtv1_res)"
      ]
    },
    {
      "cell_type": "markdown",
      "id": "VRrWOIbM9JDW",
      "metadata": {
        "id": "VRrWOIbM9JDW"
      },
      "source": [
        "#### 2.4.1 Stacking con Regresión logística y SVM"
      ]
    },
    {
      "cell_type": "code",
      "execution_count": null,
      "id": "GLiv42j0jq7x",
      "metadata": {
        "id": "GLiv42j0jq7x",
        "outputId": "71e7024f-8f88-4ef2-b3d4-73a773606614"
      },
      "outputs": [
        {
          "data": {
            "application/javascript": [
              "\n",
              "            setTimeout(function() {\n",
              "                var nbb_cell_id = 51;\n",
              "                var nbb_unformatted_code = \"# Definimos el modelo\\nstart_time_fit = time.time()\\nreg_res = LogisticRegression(solver='liblinear', class_weight= \\\"balanced\\\",\\n                         max_iter= 100, penalty = 'l2', tol = 0.0001, random_state=0)\\n\\n# Se ajusta el modelo\\nreg_res.fit(Xtv1_res, Ytv1_res)\\nend_time_fit = time.time()\\ntiempo_fit_reg_res = end_time_fit - start_time_fit\\n\\npreds_reg_res_tv = reg_res.predict_proba(Xtv1_res)[:, 1]\\npreds_reg_res_test = reg_res.predict_proba(Xtest1)[:, 1]\";\n",
              "                var nbb_formatted_code = \"# Definimos el modelo\\nstart_time_fit = time.time()\\nreg_res = LogisticRegression(\\n    solver=\\\"liblinear\\\",\\n    class_weight=\\\"balanced\\\",\\n    max_iter=100,\\n    penalty=\\\"l2\\\",\\n    tol=0.0001,\\n    random_state=0,\\n)\\n\\n# Se ajusta el modelo\\nreg_res.fit(Xtv1_res, Ytv1_res)\\nend_time_fit = time.time()\\ntiempo_fit_reg_res = end_time_fit - start_time_fit\\n\\npreds_reg_res_tv = reg_res.predict_proba(Xtv1_res)[:, 1]\\npreds_reg_res_test = reg_res.predict_proba(Xtest1)[:, 1]\";\n",
              "                var nbb_cells = Jupyter.notebook.get_cells();\n",
              "                for (var i = 0; i < nbb_cells.length; ++i) {\n",
              "                    if (nbb_cells[i].input_prompt_number == nbb_cell_id) {\n",
              "                        if (nbb_cells[i].get_text() == nbb_unformatted_code) {\n",
              "                             nbb_cells[i].set_text(nbb_formatted_code);\n",
              "                        }\n",
              "                        break;\n",
              "                    }\n",
              "                }\n",
              "            }, 500);\n",
              "            "
            ],
            "text/plain": [
              "<IPython.core.display.Javascript object>"
            ]
          },
          "metadata": {},
          "output_type": "display_data"
        }
      ],
      "source": [
        "# Definimos el modelo\n",
        "start_time_fit = time.time()\n",
        "reg_res = LogisticRegression(\n",
        "    solver=\"liblinear\",\n",
        "    class_weight=\"balanced\",\n",
        "    max_iter=100,\n",
        "    penalty=\"l2\",\n",
        "    tol=0.0001,\n",
        "    random_state=0,\n",
        ")\n",
        "\n",
        "# Se ajusta el modelo\n",
        "reg_res.fit(Xtv1_res, Ytv1_res)\n",
        "end_time_fit = time.time()\n",
        "tiempo_fit_reg_res = end_time_fit - start_time_fit\n",
        "\n",
        "preds_reg_res_tv = reg_res.predict_proba(Xtv1_res)[:, 1]\n",
        "preds_reg_res_test = reg_res.predict_proba(Xtest1)[:, 1]"
      ]
    },
    {
      "cell_type": "code",
      "execution_count": null,
      "id": "pGd4urwNjq-f",
      "metadata": {
        "id": "pGd4urwNjq-f",
        "outputId": "002f2a47-334b-481d-da08-0957355a281e"
      },
      "outputs": [
        {
          "data": {
            "application/javascript": [
              "\n",
              "            setTimeout(function() {\n",
              "                var nbb_cell_id = 52;\n",
              "                var nbb_unformatted_code = \"# Definimos el modelo\\nstart_time_fit = time.time()\\nsvm_res = SVC(class_weight='balanced', probability=True, C = 0.01, gamma = 0.001, kernel = 'linear', random_state=0)\\n\\n# Se ajusta el modelo\\nsvm_res.fit(Xtv1_res, Ytv1_res)\\nend_time_fit = time.time()\\ntiempo_fit_svm_res = end_time_fit - start_time_fit\\n\\npreds_svm_res_tv = svm_res.predict_proba(Xtv1_res)[:, 1]\\npreds_svm_res_test = svm_res.predict_proba(Xtest1)[:, 1]\";\n",
              "                var nbb_formatted_code = \"# Definimos el modelo\\nstart_time_fit = time.time()\\nsvm_res = SVC(\\n    class_weight=\\\"balanced\\\",\\n    probability=True,\\n    C=0.01,\\n    gamma=0.001,\\n    kernel=\\\"linear\\\",\\n    random_state=0,\\n)\\n\\n# Se ajusta el modelo\\nsvm_res.fit(Xtv1_res, Ytv1_res)\\nend_time_fit = time.time()\\ntiempo_fit_svm_res = end_time_fit - start_time_fit\\n\\npreds_svm_res_tv = svm_res.predict_proba(Xtv1_res)[:, 1]\\npreds_svm_res_test = svm_res.predict_proba(Xtest1)[:, 1]\";\n",
              "                var nbb_cells = Jupyter.notebook.get_cells();\n",
              "                for (var i = 0; i < nbb_cells.length; ++i) {\n",
              "                    if (nbb_cells[i].input_prompt_number == nbb_cell_id) {\n",
              "                        if (nbb_cells[i].get_text() == nbb_unformatted_code) {\n",
              "                             nbb_cells[i].set_text(nbb_formatted_code);\n",
              "                        }\n",
              "                        break;\n",
              "                    }\n",
              "                }\n",
              "            }, 500);\n",
              "            "
            ],
            "text/plain": [
              "<IPython.core.display.Javascript object>"
            ]
          },
          "metadata": {},
          "output_type": "display_data"
        }
      ],
      "source": [
        "# Definimos el modelo\n",
        "start_time_fit = time.time()\n",
        "svm_res = SVC(class_weight='balanced', probability=True, C = 0.01, gamma = 0.001, kernel = 'linear', random_state=0)\n",
        "\n",
        "# Se ajusta el modelo\n",
        "svm_res.fit(Xtv1_res, Ytv1_res)\n",
        "end_time_fit = time.time()\n",
        "tiempo_fit_svm_res = end_time_fit - start_time_fit\n",
        "\n",
        "preds_svm_res_tv = svm_res.predict_proba(Xtv1_res)[:, 1]\n",
        "preds_svm_res_test = svm_res.predict_proba(Xtest1)[:, 1]\n"
      ]
    },
    {
      "cell_type": "code",
      "execution_count": null,
      "id": "WSxFTJD3jrBQ",
      "metadata": {
        "id": "WSxFTJD3jrBQ",
        "outputId": "90c87c2a-5e3f-4c01-81cd-e50ef959a423"
      },
      "outputs": [
        {
          "data": {
            "application/javascript": [
              "\n",
              "            setTimeout(function() {\n",
              "                var nbb_cell_id = 53;\n",
              "                var nbb_unformatted_code = \"# Creamos el conjunto de datos para el ensamble\\nstacked_res_tv = np.column_stack((preds_reg_res_tv, preds_svm_res_tv))\";\n",
              "                var nbb_formatted_code = \"# Creamos el conjunto de datos para el ensamble\\nstacked_res_tv = np.column_stack((preds_reg_res_tv, preds_svm_res_tv))\";\n",
              "                var nbb_cells = Jupyter.notebook.get_cells();\n",
              "                for (var i = 0; i < nbb_cells.length; ++i) {\n",
              "                    if (nbb_cells[i].input_prompt_number == nbb_cell_id) {\n",
              "                        if (nbb_cells[i].get_text() == nbb_unformatted_code) {\n",
              "                             nbb_cells[i].set_text(nbb_formatted_code);\n",
              "                        }\n",
              "                        break;\n",
              "                    }\n",
              "                }\n",
              "            }, 500);\n",
              "            "
            ],
            "text/plain": [
              "<IPython.core.display.Javascript object>"
            ]
          },
          "metadata": {},
          "output_type": "display_data"
        }
      ],
      "source": [
        "# Creamos el conjunto de datos para el ensamble\n",
        "stacked_res_tv = np.column_stack((preds_reg_res_tv, preds_svm_res_tv))"
      ]
    },
    {
      "cell_type": "code",
      "execution_count": null,
      "id": "yWv95C8GcSAW",
      "metadata": {
        "colab": {
          "base_uri": "https://localhost:8080/",
          "height": 239
        },
        "id": "yWv95C8GcSAW",
        "outputId": "1160c3ec-61c9-49c3-fa39-ffae73aa88b9"
      },
      "outputs": [
        {
          "name": "stdout",
          "output_type": "stream",
          "text": [
            "Fitting 5 folds for each of 80 candidates, totalling 400 fits\n",
            "Mejores hiperparámetros: {'class_weight': None, 'max_iter': 30, 'penalty': 'l2', 'tol': 0.0001}\n",
            "Mejor F1 Score: 0.8394894894894895\n"
          ]
        },
        {
          "data": {
            "text/html": [
              "<div style=\"display: inline-block; padding: 10px;\"><h3>Conjunto de Entrenamiento</h3><style type=\"text/css\">\n",
              "#T_ea266_row0_col0, #T_ea266_row0_col1, #T_ea266_row0_col2, #T_ea266_row0_col3 {\n",
              "  background-color: lightblue;\n",
              "}\n",
              "</style>\n",
              "<table id=\"T_ea266\">\n",
              "  <thead>\n",
              "    <tr>\n",
              "      <th class=\"blank level0\" >&nbsp;</th>\n",
              "      <th id=\"T_ea266_level0_col0\" class=\"col_heading level0 col0\" >Recall</th>\n",
              "      <th id=\"T_ea266_level0_col1\" class=\"col_heading level0 col1\" >Recall Macro</th>\n",
              "      <th id=\"T_ea266_level0_col2\" class=\"col_heading level0 col2\" >F1 Score</th>\n",
              "      <th id=\"T_ea266_level0_col3\" class=\"col_heading level0 col3\" >Fit_Time</th>\n",
              "    </tr>\n",
              "  </thead>\n",
              "  <tbody>\n",
              "    <tr>\n",
              "      <th id=\"T_ea266_level0_row0\" class=\"row_heading level0 row0\" >Ensemble</th>\n",
              "      <td id=\"T_ea266_row0_col0\" class=\"data row0 col0\" >0.828729</td>\n",
              "      <td id=\"T_ea266_row0_col1\" class=\"data row0 col1\" >0.654034</td>\n",
              "      <td id=\"T_ea266_row0_col2\" class=\"data row0 col2\" >0.761421</td>\n",
              "      <td id=\"T_ea266_row0_col3\" class=\"data row0 col3\" >0.149847</td>\n",
              "    </tr>\n",
              "    <tr>\n",
              "      <th id=\"T_ea266_level0_row1\" class=\"row_heading level0 row1\" >Dummy</th>\n",
              "      <td id=\"T_ea266_row1_col0\" class=\"data row1 col0\" >0.000000</td>\n",
              "      <td id=\"T_ea266_row1_col1\" class=\"data row1 col1\" >0.000000</td>\n",
              "      <td id=\"T_ea266_row1_col2\" class=\"data row1 col2\" >0.749482</td>\n",
              "      <td id=\"T_ea266_row1_col3\" class=\"data row1 col3\" >0.000323</td>\n",
              "    </tr>\n",
              "    <tr>\n",
              "      <th id=\"T_ea266_level0_row2\" class=\"row_heading level0 row2\" >SVM</th>\n",
              "      <td id=\"T_ea266_row2_col0\" class=\"data row2 col0\" >0.574586</td>\n",
              "      <td id=\"T_ea266_row2_col1\" class=\"data row2 col1\" >0.601342</td>\n",
              "      <td id=\"T_ea266_row2_col2\" class=\"data row2 col2\" >0.630303</td>\n",
              "      <td id=\"T_ea266_row2_col3\" class=\"data row2 col3\" >0.021905</td>\n",
              "    </tr>\n",
              "    <tr>\n",
              "      <th id=\"T_ea266_level0_row3\" class=\"row_heading level0 row3\" >Regression Logística</th>\n",
              "      <td id=\"T_ea266_row3_col0\" class=\"data row3 col0\" >0.530387</td>\n",
              "      <td id=\"T_ea266_row3_col1\" class=\"data row3 col1\" >0.546185</td>\n",
              "      <td id=\"T_ea266_row3_col2\" class=\"data row3 col2\" >0.581818</td>\n",
              "      <td id=\"T_ea266_row3_col3\" class=\"data row3 col3\" >0.006360</td>\n",
              "    </tr>\n",
              "  </tbody>\n",
              "</table>\n",
              "</div><div style=\"display: inline-block; padding: 10px;\"><h3>Conjunto de Pruebas</h3><style type=\"text/css\">\n",
              "#T_180be_row0_col2, #T_180be_row1_col0, #T_180be_row1_col3, #T_180be_row2_col1 {\n",
              "  background-color: lightblue;\n",
              "}\n",
              "</style>\n",
              "<table id=\"T_180be\">\n",
              "  <thead>\n",
              "    <tr>\n",
              "      <th class=\"blank level0\" >&nbsp;</th>\n",
              "      <th id=\"T_180be_level0_col0\" class=\"col_heading level0 col0\" >Recall</th>\n",
              "      <th id=\"T_180be_level0_col1\" class=\"col_heading level0 col1\" >Recall Macro</th>\n",
              "      <th id=\"T_180be_level0_col2\" class=\"col_heading level0 col2\" >F1 Score</th>\n",
              "      <th id=\"T_180be_level0_col3\" class=\"col_heading level0 col3\" >Fit_Time</th>\n",
              "    </tr>\n",
              "  </thead>\n",
              "  <tbody>\n",
              "    <tr>\n",
              "      <th id=\"T_180be_level0_row0\" class=\"row_heading level0 row0\" >Dummy</th>\n",
              "      <td id=\"T_180be_row0_col0\" class=\"data row0 col0\" >0.000000</td>\n",
              "      <td id=\"T_180be_row0_col1\" class=\"data row0 col1\" >0.000000</td>\n",
              "      <td id=\"T_180be_row0_col2\" class=\"data row0 col2\" >0.774194</td>\n",
              "      <td id=\"T_180be_row0_col3\" class=\"data row0 col3\" >0.000323</td>\n",
              "    </tr>\n",
              "    <tr>\n",
              "      <th id=\"T_180be_level0_row1\" class=\"row_heading level0 row1\" >Ensemble</th>\n",
              "      <td id=\"T_180be_row1_col0\" class=\"data row1 col0\" >0.708333</td>\n",
              "      <td id=\"T_180be_row1_col1\" class=\"data row1 col1\" >0.532738</td>\n",
              "      <td id=\"T_180be_row1_col2\" class=\"data row1 col2\" >0.680000</td>\n",
              "      <td id=\"T_180be_row1_col3\" class=\"data row1 col3\" >0.149847</td>\n",
              "    </tr>\n",
              "    <tr>\n",
              "      <th id=\"T_180be_level0_row2\" class=\"row_heading level0 row2\" >Regression Logística</th>\n",
              "      <td id=\"T_180be_row2_col0\" class=\"data row2 col0\" >0.666667</td>\n",
              "      <td id=\"T_180be_row2_col1\" class=\"data row2 col1\" >0.547619</td>\n",
              "      <td id=\"T_180be_row2_col2\" class=\"data row2 col2\" >0.666667</td>\n",
              "      <td id=\"T_180be_row2_col3\" class=\"data row2 col3\" >0.006360</td>\n",
              "    </tr>\n",
              "    <tr>\n",
              "      <th id=\"T_180be_level0_row3\" class=\"row_heading level0 row3\" >SVM</th>\n",
              "      <td id=\"T_180be_row3_col0\" class=\"data row3 col0\" >0.666667</td>\n",
              "      <td id=\"T_180be_row3_col1\" class=\"data row3 col1\" >0.511905</td>\n",
              "      <td id=\"T_180be_row3_col2\" class=\"data row3 col2\" >0.653061</td>\n",
              "      <td id=\"T_180be_row3_col3\" class=\"data row3 col3\" >0.021905</td>\n",
              "    </tr>\n",
              "  </tbody>\n",
              "</table>\n",
              "</div>"
            ]
          },
          "metadata": {},
          "output_type": "display_data"
        },
        {
          "data": {
            "application/javascript": [
              "\n",
              "            setTimeout(function() {\n",
              "                var nbb_cell_id = 54;\n",
              "                var nbb_unformatted_code = \"# Definir los modelos\\nstart_time = time.time()\\nensamble1 = LogisticRegression( random_state=0, solver=\\\"liblinear\\\")\\n\\nparam_grid = {\\n    'class_weight': [None, 'balanced'],\\n    'penalty': ['l1', 'l2'],\\n    'tol': [1e-4, 1e-3, 1e-2, 1e-1],\\n    'max_iter': [30, 50, 100, 200, 300]\\n}\\n\\ngrid_search = GridSearchCV(estimator=ensamble1, param_grid=param_grid,\\n                           cv=5, scoring='recall', n_jobs=-1, verbose=1)\\n\\ngrid_search.fit(stacked_res_tv, Ytv1_res)\\n\\nbest_params = grid_search.best_params_\\nbest_score = grid_search.best_score_\\n\\nprint(f\\\"Mejores hiperpar\\u00e1metros: {best_params}\\\")\\nprint(f\\\"Mejor F1 Score: {best_score}\\\")\\n\\n\\n# Ajustar el solver para que coincida con los mejores par\\u00e1metros si es necesario\\nif best_params['penalty'] == 'l1':\\n    solver = 'liblinear'\\nelse:\\n    solver = 'lbfgs'\\n\\n\\n# Medir el tiempo de ajuste del ensamble con los mejores hiperparametros\\nensamble1_res_best = LogisticRegression(**best_params)\\nensamble1_res_best.fit(stacked_res_tv, Ytv1_res)\\ntiempo_fit_ensamble1_res_best = time.time() - start_time\\n\\n# Evaluamos el rendimiento de los modelos con el conjunto de entrenamiento\\n\\nytv1_pred_dum = cross_val_predict(dummy_clf, Xtv1_res, Ytv1_res, cv=5)\\nrecall_tv_dum_res = 0 # No se calcula ya que recall evalua la tasa de verdaderos positivos y\\n                    #nuestro Dummy genera un 100% de positivos.\\nrecall_tv_macro_dum_res = 0\\nf1_tv_dum_res = f1_score(Ytv1_res, ytv1_pred_dum, average='binary')\\n\\n\\nytv1_pred_reg = cross_val_predict(reg_res, Xtv1_res, Ytv1_res, cv=5)\\nrecall_tv_reg_res = recall_score(Ytv1_res, ytv1_pred_reg, average='binary')\\nrecall_tv_macro_reg_res = recall_score(Ytv1_res, ytv1_pred_reg, average='macro')\\nf1_tv_reg_res = f1_score(Ytv1_res, ytv1_pred_reg, average='binary')\\n\\n\\nytv1_pred_svm = cross_val_predict(svm_res, Xtv1_res, Ytv1_res, cv=5)\\nrecall_tv_svm_res = recall_score(Ytv1_res, ytv1_pred_svm, average='binary')\\nrecall_tv_macro_svm_res = recall_score(Ytv1_res, ytv1_pred_svm, average='macro')\\nf1_tv_svm_res = f1_score(Ytv1_res, ytv1_pred_svm, average='binary')\\n\\n\\nytv1_pred_ensamble1_best = ensamble1_res_best.predict(stacked_res_tv)\\nrecall_tv_ensamble1_res_best = recall_score(Ytv1_res, ytv1_pred_ensamble1_best, average='binary')\\nrecall_tv_macro_ensamble1_res_best = recall_score(Ytv1_res, ytv1_pred_ensamble1_best, average='macro')\\nf1_tv_ensamble1_res_best = f1_score(Ytv1_res, ytv1_pred_ensamble1_best, average='binary')\\n\\ncuadro1 = {\\n    'Modelo': ['Dummy', 'Regression Log\\u00edstica', 'SVM', 'Ensemble'],\\n    'Recall': [recall_tv_dum_res, recall_tv_reg_res, recall_tv_svm_res, recall_tv_ensamble1_res_best],\\n    'Recall Macro': [recall_tv_macro_dum_res, recall_tv_macro_reg_res, recall_tv_macro_svm_res, \\n                     recall_tv_macro_ensamble1_res_best],\\n    'F1 Score': [f1_tv_dum_res, f1_tv_reg_res, f1_tv_svm_res, f1_tv_ensamble1_res_best],\\n    'Fit_Time': [tiempo_fit_dummy_res, tiempo_fit_reg_res, tiempo_fit_svm_res, tiempo_fit_ensamble1_res_best]\\n}\\n\\n# Crear un DataFrame para almacenar los resultados\\ncuadro1_df = pd.DataFrame(cuadro1,index=cuadro1[\\\"Modelo\\\"])\\ncuadro1_df.drop(columns=['Modelo'], inplace=True)\\n\\n# Ordenar el DataFrame por la columna F1_Tst de mayor a menor\\ncuadro1_df = cuadro1_df.sort_values(by='F1 Score', ascending=False)\\n\\n\\n# Evaluamos el rendimiento de los modelos con el conjunto de pruebas\\nytest1_pred_dum = cross_val_predict(dummy_clf, Xtest1, ytest1, cv=5)\\nrecall_test_dum = 0\\nrecall_test_macro_dum = 0\\nf1_test_dum = f1_score(ytest1, ytest1_pred_dum, average='binary')\\n\\n\\nytest1_pred_reg = cross_val_predict(reg_res, Xtest1, ytest1, cv=5)\\nrecall_test_reg_res = recall_score(ytest1, ytest1_pred_reg, average='binary')\\nrecall_test_macro_reg_res = recall_score(ytest1, ytest1_pred_reg, average='macro')\\nf1_test_reg_res = f1_score(ytest1, ytest1_pred_reg, average='binary')\\n\\n\\nytest1_pred_svm_res = cross_val_predict(svm_res, Xtest1, ytest1, cv=5)\\nrecall_test_svm_res = recall_score(ytest1, ytest1_pred_svm, average='binary')\\nrecall_test_macro_svm_res = recall_score(ytest1, ytest1_pred_svm, average='macro')\\nf1_test_svm_res = f1_score(ytest1, ytest1_pred_svm, average='binary')\\n\\n\\nytest1_pred_ensamble1_best = ensamble1_res_best.predict(stacked_test)\\nrecall_test_ensamble1_res_best = recall_score(ytest1, ytest1_pred_ensamble1_best, average='binary')\\nrecall_test_macro_ensamble1_res_best = recall_score(ytest1, ytest1_pred_ensamble1_best, average='macro')\\nf1_test_ensamble1_res_best = f1_score(ytest1, ytest1_pred_ensamble1_best, average='binary')\\n\\ncuadro2 = {\\n    'Modelo': ['Dummy', 'Regression Log\\u00edstica', 'SVM', 'Ensemble'],\\n    'Recall': [recall_test_dum, recall_test_reg_res, recall_test_svm_res, recall_test_ensamble1_res_best],\\n    'Recall Macro': [recall_test_macro_dum, recall_test_macro_reg_res, recall_test_macro_svm_res, \\n                     recall_test_macro_ensamble1_res_best],\\n    'F1 Score': [f1_test_dum, f1_test_reg_res, f1_test_svm_res, f1_test_ensamble1_res_best],\\n    'Fit_Time': [tiempo_fit_dummy_res, tiempo_fit_reg_res, tiempo_fit_svm_res, tiempo_fit_ensamble1_res_best]\\n}\\n\\ncuadro2_df = pd.DataFrame(cuadro2)\\n\\n# Crear un DataFrame para almacenar los resultados\\ncuadro2_df = pd.DataFrame(cuadro2,index=cuadro2[\\\"Modelo\\\"])\\ncuadro2_df.drop(columns=['Modelo'], inplace=True)\\n\\n# Ordenar el DataFrame por la columna F1_Tst de mayor a menor\\ncuadro2_df = cuadro2_df.sort_values(by='F1 Score', ascending=False)\\n\\n# Aqu\\u00ed puedes especificar el axis=0 para columnas o axis=1 para filas\\ndisplay_side_by_side([cuadro1_df, cuadro2_df], ['Conjunto de Entrenamiento', 'Conjunto de Pruebas'],\\n                     color='lightblue', axis=0)\";\n",
              "                var nbb_formatted_code = \"# Definir los modelos\\nstart_time = time.time()\\nensamble1 = LogisticRegression(random_state=0, solver=\\\"liblinear\\\")\\n\\nparam_grid = {\\n    \\\"class_weight\\\": [None, \\\"balanced\\\"],\\n    \\\"penalty\\\": [\\\"l1\\\", \\\"l2\\\"],\\n    \\\"tol\\\": [1e-4, 1e-3, 1e-2, 1e-1],\\n    \\\"max_iter\\\": [30, 50, 100, 200, 300],\\n}\\n\\ngrid_search = GridSearchCV(\\n    estimator=ensamble1,\\n    param_grid=param_grid,\\n    cv=5,\\n    scoring=\\\"recall\\\",\\n    n_jobs=-1,\\n    verbose=1,\\n)\\n\\ngrid_search.fit(stacked_res_tv, Ytv1_res)\\n\\nbest_params = grid_search.best_params_\\nbest_score = grid_search.best_score_\\n\\nprint(f\\\"Mejores hiperpar\\u00e1metros: {best_params}\\\")\\nprint(f\\\"Mejor F1 Score: {best_score}\\\")\\n\\n\\n# Ajustar el solver para que coincida con los mejores par\\u00e1metros si es necesario\\nif best_params[\\\"penalty\\\"] == \\\"l1\\\":\\n    solver = \\\"liblinear\\\"\\nelse:\\n    solver = \\\"lbfgs\\\"\\n\\n\\n# Medir el tiempo de ajuste del ensamble con los mejores hiperparametros\\nensamble1_res_best = LogisticRegression(**best_params)\\nensamble1_res_best.fit(stacked_res_tv, Ytv1_res)\\ntiempo_fit_ensamble1_res_best = time.time() - start_time\\n\\n# Evaluamos el rendimiento de los modelos con el conjunto de entrenamiento\\n\\nytv1_pred_dum = cross_val_predict(dummy_clf, Xtv1_res, Ytv1_res, cv=5)\\nrecall_tv_dum_res = (\\n    0  # No se calcula ya que recall evalua la tasa de verdaderos positivos y\\n)\\n# nuestro Dummy genera un 100% de positivos.\\nrecall_tv_macro_dum_res = 0\\nf1_tv_dum_res = f1_score(Ytv1_res, ytv1_pred_dum, average=\\\"binary\\\")\\n\\n\\nytv1_pred_reg = cross_val_predict(reg_res, Xtv1_res, Ytv1_res, cv=5)\\nrecall_tv_reg_res = recall_score(Ytv1_res, ytv1_pred_reg, average=\\\"binary\\\")\\nrecall_tv_macro_reg_res = recall_score(Ytv1_res, ytv1_pred_reg, average=\\\"macro\\\")\\nf1_tv_reg_res = f1_score(Ytv1_res, ytv1_pred_reg, average=\\\"binary\\\")\\n\\n\\nytv1_pred_svm = cross_val_predict(svm_res, Xtv1_res, Ytv1_res, cv=5)\\nrecall_tv_svm_res = recall_score(Ytv1_res, ytv1_pred_svm, average=\\\"binary\\\")\\nrecall_tv_macro_svm_res = recall_score(Ytv1_res, ytv1_pred_svm, average=\\\"macro\\\")\\nf1_tv_svm_res = f1_score(Ytv1_res, ytv1_pred_svm, average=\\\"binary\\\")\\n\\n\\nytv1_pred_ensamble1_best = ensamble1_res_best.predict(stacked_res_tv)\\nrecall_tv_ensamble1_res_best = recall_score(\\n    Ytv1_res, ytv1_pred_ensamble1_best, average=\\\"binary\\\"\\n)\\nrecall_tv_macro_ensamble1_res_best = recall_score(\\n    Ytv1_res, ytv1_pred_ensamble1_best, average=\\\"macro\\\"\\n)\\nf1_tv_ensamble1_res_best = f1_score(\\n    Ytv1_res, ytv1_pred_ensamble1_best, average=\\\"binary\\\"\\n)\\n\\ncuadro1 = {\\n    \\\"Modelo\\\": [\\\"Dummy\\\", \\\"Regression Log\\u00edstica\\\", \\\"SVM\\\", \\\"Ensemble\\\"],\\n    \\\"Recall\\\": [\\n        recall_tv_dum_res,\\n        recall_tv_reg_res,\\n        recall_tv_svm_res,\\n        recall_tv_ensamble1_res_best,\\n    ],\\n    \\\"Recall Macro\\\": [\\n        recall_tv_macro_dum_res,\\n        recall_tv_macro_reg_res,\\n        recall_tv_macro_svm_res,\\n        recall_tv_macro_ensamble1_res_best,\\n    ],\\n    \\\"F1 Score\\\": [f1_tv_dum_res, f1_tv_reg_res, f1_tv_svm_res, f1_tv_ensamble1_res_best],\\n    \\\"Fit_Time\\\": [\\n        tiempo_fit_dummy_res,\\n        tiempo_fit_reg_res,\\n        tiempo_fit_svm_res,\\n        tiempo_fit_ensamble1_res_best,\\n    ],\\n}\\n\\n# Crear un DataFrame para almacenar los resultados\\ncuadro1_df = pd.DataFrame(cuadro1, index=cuadro1[\\\"Modelo\\\"])\\ncuadro1_df.drop(columns=[\\\"Modelo\\\"], inplace=True)\\n\\n# Ordenar el DataFrame por la columna F1_Tst de mayor a menor\\ncuadro1_df = cuadro1_df.sort_values(by=\\\"F1 Score\\\", ascending=False)\\n\\n\\n# Evaluamos el rendimiento de los modelos con el conjunto de pruebas\\nytest1_pred_dum = cross_val_predict(dummy_clf, Xtest1, ytest1, cv=5)\\nrecall_test_dum = 0\\nrecall_test_macro_dum = 0\\nf1_test_dum = f1_score(ytest1, ytest1_pred_dum, average=\\\"binary\\\")\\n\\n\\nytest1_pred_reg = cross_val_predict(reg_res, Xtest1, ytest1, cv=5)\\nrecall_test_reg_res = recall_score(ytest1, ytest1_pred_reg, average=\\\"binary\\\")\\nrecall_test_macro_reg_res = recall_score(ytest1, ytest1_pred_reg, average=\\\"macro\\\")\\nf1_test_reg_res = f1_score(ytest1, ytest1_pred_reg, average=\\\"binary\\\")\\n\\n\\nytest1_pred_svm_res = cross_val_predict(svm_res, Xtest1, ytest1, cv=5)\\nrecall_test_svm_res = recall_score(ytest1, ytest1_pred_svm, average=\\\"binary\\\")\\nrecall_test_macro_svm_res = recall_score(ytest1, ytest1_pred_svm, average=\\\"macro\\\")\\nf1_test_svm_res = f1_score(ytest1, ytest1_pred_svm, average=\\\"binary\\\")\\n\\n\\nytest1_pred_ensamble1_best = ensamble1_res_best.predict(stacked_test)\\nrecall_test_ensamble1_res_best = recall_score(\\n    ytest1, ytest1_pred_ensamble1_best, average=\\\"binary\\\"\\n)\\nrecall_test_macro_ensamble1_res_best = recall_score(\\n    ytest1, ytest1_pred_ensamble1_best, average=\\\"macro\\\"\\n)\\nf1_test_ensamble1_res_best = f1_score(\\n    ytest1, ytest1_pred_ensamble1_best, average=\\\"binary\\\"\\n)\\n\\ncuadro2 = {\\n    \\\"Modelo\\\": [\\\"Dummy\\\", \\\"Regression Log\\u00edstica\\\", \\\"SVM\\\", \\\"Ensemble\\\"],\\n    \\\"Recall\\\": [\\n        recall_test_dum,\\n        recall_test_reg_res,\\n        recall_test_svm_res,\\n        recall_test_ensamble1_res_best,\\n    ],\\n    \\\"Recall Macro\\\": [\\n        recall_test_macro_dum,\\n        recall_test_macro_reg_res,\\n        recall_test_macro_svm_res,\\n        recall_test_macro_ensamble1_res_best,\\n    ],\\n    \\\"F1 Score\\\": [\\n        f1_test_dum,\\n        f1_test_reg_res,\\n        f1_test_svm_res,\\n        f1_test_ensamble1_res_best,\\n    ],\\n    \\\"Fit_Time\\\": [\\n        tiempo_fit_dummy_res,\\n        tiempo_fit_reg_res,\\n        tiempo_fit_svm_res,\\n        tiempo_fit_ensamble1_res_best,\\n    ],\\n}\\n\\ncuadro2_df = pd.DataFrame(cuadro2)\\n\\n# Crear un DataFrame para almacenar los resultados\\ncuadro2_df = pd.DataFrame(cuadro2, index=cuadro2[\\\"Modelo\\\"])\\ncuadro2_df.drop(columns=[\\\"Modelo\\\"], inplace=True)\\n\\n# Ordenar el DataFrame por la columna F1_Tst de mayor a menor\\ncuadro2_df = cuadro2_df.sort_values(by=\\\"F1 Score\\\", ascending=False)\\n\\n# Aqu\\u00ed puedes especificar el axis=0 para columnas o axis=1 para filas\\ndisplay_side_by_side(\\n    [cuadro1_df, cuadro2_df],\\n    [\\\"Conjunto de Entrenamiento\\\", \\\"Conjunto de Pruebas\\\"],\\n    color=\\\"lightblue\\\",\\n    axis=0,\\n)\";\n",
              "                var nbb_cells = Jupyter.notebook.get_cells();\n",
              "                for (var i = 0; i < nbb_cells.length; ++i) {\n",
              "                    if (nbb_cells[i].input_prompt_number == nbb_cell_id) {\n",
              "                        if (nbb_cells[i].get_text() == nbb_unformatted_code) {\n",
              "                             nbb_cells[i].set_text(nbb_formatted_code);\n",
              "                        }\n",
              "                        break;\n",
              "                    }\n",
              "                }\n",
              "            }, 500);\n",
              "            "
            ],
            "text/plain": [
              "<IPython.core.display.Javascript object>"
            ]
          },
          "metadata": {},
          "output_type": "display_data"
        }
      ],
      "source": [
        "# Definir los modelos\n",
        "start_time = time.time()\n",
        "ensamble1 = LogisticRegression(random_state=0, solver=\"liblinear\")\n",
        "\n",
        "param_grid = {\n",
        "    \"class_weight\": [None, \"balanced\"],\n",
        "    \"penalty\": [\"l1\", \"l2\"],\n",
        "    \"tol\": [1e-4, 1e-3, 1e-2, 1e-1],\n",
        "    \"max_iter\": [30, 50, 100, 200, 300],\n",
        "}\n",
        "\n",
        "grid_search = GridSearchCV(\n",
        "    estimator=ensamble1,\n",
        "    param_grid=param_grid,\n",
        "    cv=5,\n",
        "    scoring=\"recall\",\n",
        "    n_jobs=-1,\n",
        "    verbose=1,\n",
        ")\n",
        "\n",
        "grid_search.fit(stacked_res_tv, Ytv1_res)\n",
        "\n",
        "best_params = grid_search.best_params_\n",
        "best_score = grid_search.best_score_\n",
        "\n",
        "print(f\"Mejores hiperparámetros: {best_params}\")\n",
        "print(f\"Mejor F1 Score: {best_score}\")\n",
        "\n",
        "\n",
        "# Ajustar el solver para que coincida con los mejores parámetros si es necesario\n",
        "if best_params[\"penalty\"] == \"l1\":\n",
        "    solver = \"liblinear\"\n",
        "else:\n",
        "    solver = \"lbfgs\"\n",
        "\n",
        "\n",
        "# Medir el tiempo de ajuste del ensamble con los mejores hiperparametros\n",
        "ensamble1_res_best = LogisticRegression(**best_params)\n",
        "ensamble1_res_best.fit(stacked_res_tv, Ytv1_res)\n",
        "tiempo_fit_ensamble1_res_best = time.time() - start_time\n",
        "\n",
        "# Evaluamos el rendimiento de los modelos con el conjunto de entrenamiento\n",
        "\n",
        "ytv1_pred_dum = cross_val_predict(dummy_clf, Xtv1_res, Ytv1_res, cv=5)\n",
        "recall_tv_dum_res = (\n",
        "    0  # No se calcula ya que recall evalua la tasa de verdaderos positivos y\n",
        ")\n",
        "# nuestro Dummy genera un 100% de positivos.\n",
        "recall_tv_macro_dum_res = 0\n",
        "f1_tv_dum_res = f1_score(Ytv1_res, ytv1_pred_dum, average=\"binary\")\n",
        "\n",
        "\n",
        "ytv1_pred_reg = cross_val_predict(reg_res, Xtv1_res, Ytv1_res, cv=5)\n",
        "recall_tv_reg_res = recall_score(Ytv1_res, ytv1_pred_reg, average=\"binary\")\n",
        "recall_tv_macro_reg_res = recall_score(Ytv1_res, ytv1_pred_reg, average=\"macro\")\n",
        "f1_tv_reg_res = f1_score(Ytv1_res, ytv1_pred_reg, average=\"binary\")\n",
        "\n",
        "\n",
        "ytv1_pred_svm = cross_val_predict(svm_res, Xtv1_res, Ytv1_res, cv=5)\n",
        "recall_tv_svm_res = recall_score(Ytv1_res, ytv1_pred_svm, average=\"binary\")\n",
        "recall_tv_macro_svm_res = recall_score(Ytv1_res, ytv1_pred_svm, average=\"macro\")\n",
        "f1_tv_svm_res = f1_score(Ytv1_res, ytv1_pred_svm, average=\"binary\")\n",
        "\n",
        "\n",
        "ytv1_pred_ensamble1_best = ensamble1_res_best.predict(stacked_res_tv)\n",
        "recall_tv_ensamble1_res_best = recall_score(\n",
        "    Ytv1_res, ytv1_pred_ensamble1_best, average=\"binary\"\n",
        ")\n",
        "recall_tv_macro_ensamble1_res_best = recall_score(\n",
        "    Ytv1_res, ytv1_pred_ensamble1_best, average=\"macro\"\n",
        ")\n",
        "f1_tv_ensamble1_res_best = f1_score(\n",
        "    Ytv1_res, ytv1_pred_ensamble1_best, average=\"binary\"\n",
        ")\n",
        "\n",
        "cuadro1 = {\n",
        "    \"Modelo\": [\"Dummy\", \"Regression Logística\", \"SVM\", \"Ensemble\"],\n",
        "    \"Recall\": [\n",
        "        recall_tv_dum_res,\n",
        "        recall_tv_reg_res,\n",
        "        recall_tv_svm_res,\n",
        "        recall_tv_ensamble1_res_best,\n",
        "    ],\n",
        "    \"Recall Macro\": [\n",
        "        recall_tv_macro_dum_res,\n",
        "        recall_tv_macro_reg_res,\n",
        "        recall_tv_macro_svm_res,\n",
        "        recall_tv_macro_ensamble1_res_best,\n",
        "    ],\n",
        "    \"F1 Score\": [f1_tv_dum_res, f1_tv_reg_res, f1_tv_svm_res, f1_tv_ensamble1_res_best],\n",
        "    \"Fit_Time\": [\n",
        "        tiempo_fit_dummy_res,\n",
        "        tiempo_fit_reg_res,\n",
        "        tiempo_fit_svm_res,\n",
        "        tiempo_fit_ensamble1_res_best,\n",
        "    ],\n",
        "}\n",
        "\n",
        "# Crear un DataFrame para almacenar los resultados\n",
        "cuadro1_df = pd.DataFrame(cuadro1, index=cuadro1[\"Modelo\"])\n",
        "cuadro1_df.drop(columns=[\"Modelo\"], inplace=True)\n",
        "\n",
        "# Ordenar el DataFrame por la columna F1_Tst de mayor a menor\n",
        "cuadro1_df = cuadro1_df.sort_values(by=\"F1 Score\", ascending=False)\n",
        "\n",
        "\n",
        "# Evaluamos el rendimiento de los modelos con el conjunto de pruebas\n",
        "ytest1_pred_dum = cross_val_predict(dummy_clf, Xtest1, ytest1, cv=5)\n",
        "recall_test_dum = 0\n",
        "recall_test_macro_dum = 0\n",
        "f1_test_dum = f1_score(ytest1, ytest1_pred_dum, average=\"binary\")\n",
        "\n",
        "\n",
        "ytest1_pred_reg = cross_val_predict(reg_res, Xtest1, ytest1, cv=5)\n",
        "recall_test_reg_res = recall_score(ytest1, ytest1_pred_reg, average=\"binary\")\n",
        "recall_test_macro_reg_res = recall_score(ytest1, ytest1_pred_reg, average=\"macro\")\n",
        "f1_test_reg_res = f1_score(ytest1, ytest1_pred_reg, average=\"binary\")\n",
        "\n",
        "\n",
        "ytest1_pred_svm_res = cross_val_predict(svm_res, Xtest1, ytest1, cv=5)\n",
        "recall_test_svm_res = recall_score(ytest1, ytest1_pred_svm, average=\"binary\")\n",
        "recall_test_macro_svm_res = recall_score(ytest1, ytest1_pred_svm, average=\"macro\")\n",
        "f1_test_svm_res = f1_score(ytest1, ytest1_pred_svm, average=\"binary\")\n",
        "\n",
        "\n",
        "ytest1_pred_ensamble1_best = ensamble1_res_best.predict(stacked_test)\n",
        "recall_test_ensamble1_res_best = recall_score(\n",
        "    ytest1, ytest1_pred_ensamble1_best, average=\"binary\"\n",
        ")\n",
        "recall_test_macro_ensamble1_res_best = recall_score(\n",
        "    ytest1, ytest1_pred_ensamble1_best, average=\"macro\"\n",
        ")\n",
        "f1_test_ensamble1_res_best = f1_score(\n",
        "    ytest1, ytest1_pred_ensamble1_best, average=\"binary\"\n",
        ")\n",
        "\n",
        "cuadro2 = {\n",
        "    \"Modelo\": [\"Dummy\", \"Regression Logística\", \"SVM\", \"Ensemble\"],\n",
        "    \"Recall\": [\n",
        "        recall_test_dum,\n",
        "        recall_test_reg_res,\n",
        "        recall_test_svm_res,\n",
        "        recall_test_ensamble1_res_best,\n",
        "    ],\n",
        "    \"Recall Macro\": [\n",
        "        recall_test_macro_dum,\n",
        "        recall_test_macro_reg_res,\n",
        "        recall_test_macro_svm_res,\n",
        "        recall_test_macro_ensamble1_res_best,\n",
        "    ],\n",
        "    \"F1 Score\": [\n",
        "        f1_test_dum,\n",
        "        f1_test_reg_res,\n",
        "        f1_test_svm_res,\n",
        "        f1_test_ensamble1_res_best,\n",
        "    ],\n",
        "    \"Fit_Time\": [\n",
        "        tiempo_fit_dummy_res,\n",
        "        tiempo_fit_reg_res,\n",
        "        tiempo_fit_svm_res,\n",
        "        tiempo_fit_ensamble1_res_best,\n",
        "    ],\n",
        "}\n",
        "\n",
        "cuadro2_df = pd.DataFrame(cuadro2)\n",
        "\n",
        "# Crear un DataFrame para almacenar los resultados\n",
        "cuadro2_df = pd.DataFrame(cuadro2, index=cuadro2[\"Modelo\"])\n",
        "cuadro2_df.drop(columns=[\"Modelo\"], inplace=True)\n",
        "\n",
        "# Ordenar el DataFrame por la columna F1_Tst de mayor a menor\n",
        "cuadro2_df = cuadro2_df.sort_values(by=\"F1 Score\", ascending=False)\n",
        "\n",
        "# Aquí puedes especificar el axis=0 para columnas o axis=1 para filas\n",
        "display_side_by_side(\n",
        "    [cuadro1_df, cuadro2_df],\n",
        "    [\"Conjunto de Entrenamiento\", \"Conjunto de Pruebas\"],\n",
        "    color=\"lightblue\",\n",
        "    axis=0,\n",
        ")"
      ]
    },
    {
      "cell_type": "code",
      "execution_count": null,
      "id": "eCynFR9K8WYA",
      "metadata": {
        "colab": {
          "base_uri": "https://localhost:8080/",
          "height": 607
        },
        "id": "eCynFR9K8WYA",
        "outputId": "ee8eba5d-18da-47a6-e935-86aebf1d19b9"
      },
      "outputs": [
        {
          "data": {
            "image/png": "[encoded data removed]",
            "text/plain": [
              "<Figure size 1008x432 with 2 Axes>"
            ]
          },
          "metadata": {
            "needs_background": "light"
          },
          "output_type": "display_data"
        },
        {
          "data": {
            "application/javascript": [
              "\n",
              "            setTimeout(function() {\n",
              "                var nbb_cell_id = 55;\n",
              "                var nbb_unformatted_code = \"# Generar las matrices de confusi\\u00f3n\\ncm_tv = confusion_matrix(Ytv1_res, ytv1_pred_ensamble1_best)\\ncm_test = confusion_matrix(ytest1, ytest1_pred_ensamble1_best)\\n\\n# Crear DataFrames de las matrices de confusi\\u00f3n\\ncm_tv_df = pd.DataFrame(cm_tv, index=[0, 1], columns=[0, 1])\\ncm_test_df = pd.DataFrame(cm_test, index=[0, 1], columns=[0, 1])\\n\\n# Crear el heatmap usando seaborn\\nplt.figure(figsize=(14, 6))\\n\\n# Heatmap de la matriz de confusi\\u00f3n de entrenamiento\\nplt.subplot(1, 2, 1)\\nsns.heatmap(cm_tv_df, annot=True, fmt='d', cmap='Blues', cbar=False)\\nplt.title('Matriz de Confusi\\u00f3n - Entrenamiento')\\nplt.xlabel('Predicted')\\nplt.ylabel('Actual')\\n\\n# Heatmap de la matriz de confusi\\u00f3n de prueba\\nplt.subplot(1, 2, 2)\\nsns.heatmap(cm_test_df, annot=True, fmt='d', cmap='Blues', cbar=False)\\nplt.title('Matriz de Confusi\\u00f3n - Prueba')\\nplt.xlabel('Predicted')\\nplt.ylabel('Actual')\\n\\n# Mostrar las gr\\u00e1ficas\\nplt.tight_layout()\\nplt.show()\";\n",
              "                var nbb_formatted_code = \"# Generar las matrices de confusi\\u00f3n\\ncm_tv = confusion_matrix(Ytv1_res, ytv1_pred_ensamble1_best)\\ncm_test = confusion_matrix(ytest1, ytest1_pred_ensamble1_best)\\n\\n# Crear DataFrames de las matrices de confusi\\u00f3n\\ncm_tv_df = pd.DataFrame(cm_tv, index=[0, 1], columns=[0, 1])\\ncm_test_df = pd.DataFrame(cm_test, index=[0, 1], columns=[0, 1])\\n\\n# Crear el heatmap usando seaborn\\nplt.figure(figsize=(14, 6))\\n\\n# Heatmap de la matriz de confusi\\u00f3n de entrenamiento\\nplt.subplot(1, 2, 1)\\nsns.heatmap(cm_tv_df, annot=True, fmt=\\\"d\\\", cmap=\\\"Blues\\\", cbar=False)\\nplt.title(\\\"Matriz de Confusi\\u00f3n - Entrenamiento\\\")\\nplt.xlabel(\\\"Predicted\\\")\\nplt.ylabel(\\\"Actual\\\")\\n\\n# Heatmap de la matriz de confusi\\u00f3n de prueba\\nplt.subplot(1, 2, 2)\\nsns.heatmap(cm_test_df, annot=True, fmt=\\\"d\\\", cmap=\\\"Blues\\\", cbar=False)\\nplt.title(\\\"Matriz de Confusi\\u00f3n - Prueba\\\")\\nplt.xlabel(\\\"Predicted\\\")\\nplt.ylabel(\\\"Actual\\\")\\n\\n# Mostrar las gr\\u00e1ficas\\nplt.tight_layout()\\nplt.show()\";\n",
              "                var nbb_cells = Jupyter.notebook.get_cells();\n",
              "                for (var i = 0; i < nbb_cells.length; ++i) {\n",
              "                    if (nbb_cells[i].input_prompt_number == nbb_cell_id) {\n",
              "                        if (nbb_cells[i].get_text() == nbb_unformatted_code) {\n",
              "                             nbb_cells[i].set_text(nbb_formatted_code);\n",
              "                        }\n",
              "                        break;\n",
              "                    }\n",
              "                }\n",
              "            }, 500);\n",
              "            "
            ],
            "text/plain": [
              "<IPython.core.display.Javascript object>"
            ]
          },
          "metadata": {},
          "output_type": "display_data"
        }
      ],
      "source": [
        "# Generar las matrices de confusión\n",
        "cm_tv = confusion_matrix(Ytv1_res, ytv1_pred_ensamble1_best)\n",
        "cm_test = confusion_matrix(ytest1, ytest1_pred_ensamble1_best)\n",
        "\n",
        "# Crear DataFrames de las matrices de confusión\n",
        "cm_tv_df = pd.DataFrame(cm_tv, index=[0, 1], columns=[0, 1])\n",
        "cm_test_df = pd.DataFrame(cm_test, index=[0, 1], columns=[0, 1])\n",
        "\n",
        "# Crear el heatmap usando seaborn\n",
        "plt.figure(figsize=(14, 6))\n",
        "\n",
        "# Heatmap de la matriz de confusión de entrenamiento\n",
        "plt.subplot(1, 2, 1)\n",
        "sns.heatmap(cm_tv_df, annot=True, fmt=\"d\", cmap=\"Blues\", cbar=False)\n",
        "plt.title(\"Matriz de Confusión - Entrenamiento\")\n",
        "plt.xlabel(\"Predicted\")\n",
        "plt.ylabel(\"Actual\")\n",
        "\n",
        "# Heatmap de la matriz de confusión de prueba\n",
        "plt.subplot(1, 2, 2)\n",
        "sns.heatmap(cm_test_df, annot=True, fmt=\"d\", cmap=\"Blues\", cbar=False)\n",
        "plt.title(\"Matriz de Confusión - Prueba\")\n",
        "plt.xlabel(\"Predicted\")\n",
        "plt.ylabel(\"Actual\")\n",
        "\n",
        "# Mostrar las gráficas\n",
        "plt.tight_layout()\n",
        "plt.show()"
      ]
    },
    {
      "cell_type": "markdown",
      "id": "Gnm-UbrL8V_v",
      "metadata": {
        "id": "Gnm-UbrL8V_v"
      },
      "source": [
        "#### 2.4.2 Bagging con Regresión Logística"
      ]
    },
    {
      "cell_type": "code",
      "execution_count": null,
      "id": "MtX0sQtB9W-e",
      "metadata": {
        "colab": {
          "base_uri": "https://localhost:8080/",
          "height": 217
        },
        "id": "MtX0sQtB9W-e",
        "outputId": "4392e9a0-5417-486f-e72a-270628a906d6"
      },
      "outputs": [
        {
          "name": "stdout",
          "output_type": "stream",
          "text": [
            "Fitting 5 folds for each of 108 candidates, totalling 540 fits\n",
            "Mejores hiperparámetros: {'bootstrap': True, 'bootstrap_features': True, 'max_features': 0.7, 'max_samples': 0.5, 'n_estimators': 100}\n",
            "Mejor Recall Score: 0.651951951951952\n"
          ]
        },
        {
          "data": {
            "text/html": [
              "<div style=\"display: inline-block; padding: 10px;\"><h3>Conjunto de Entrenamiento</h3><style type=\"text/css\">\n",
              "#T_d4c64_row0_col2, #T_d4c64_row1_col0, #T_d4c64_row1_col1, #T_d4c64_row1_col3 {\n",
              "  background-color: lightblue;\n",
              "}\n",
              "</style>\n",
              "<table id=\"T_d4c64\">\n",
              "  <thead>\n",
              "    <tr>\n",
              "      <th class=\"blank level0\" >&nbsp;</th>\n",
              "      <th id=\"T_d4c64_level0_col0\" class=\"col_heading level0 col0\" >Recall</th>\n",
              "      <th id=\"T_d4c64_level0_col1\" class=\"col_heading level0 col1\" >Recall Macro</th>\n",
              "      <th id=\"T_d4c64_level0_col2\" class=\"col_heading level0 col2\" >F1 Score</th>\n",
              "      <th id=\"T_d4c64_level0_col3\" class=\"col_heading level0 col3\" >Fit_Time</th>\n",
              "    </tr>\n",
              "  </thead>\n",
              "  <tbody>\n",
              "    <tr>\n",
              "      <th id=\"T_d4c64_level0_row0\" class=\"row_heading level0 row0\" >Dummy</th>\n",
              "      <td id=\"T_d4c64_row0_col0\" class=\"data row0 col0\" >0.000000</td>\n",
              "      <td id=\"T_d4c64_row0_col1\" class=\"data row0 col1\" >0.000000</td>\n",
              "      <td id=\"T_d4c64_row0_col2\" class=\"data row0 col2\" >0.749482</td>\n",
              "      <td id=\"T_d4c64_row0_col3\" class=\"data row0 col3\" >0.000323</td>\n",
              "    </tr>\n",
              "    <tr>\n",
              "      <th id=\"T_d4c64_level0_row1\" class=\"row_heading level0 row1\" >Ensemble</th>\n",
              "      <td id=\"T_d4c64_row1_col0\" class=\"data row1 col0\" >0.685083</td>\n",
              "      <td id=\"T_d4c64_row1_col1\" class=\"data row1 col1\" >0.677252</td>\n",
              "      <td id=\"T_d4c64_row1_col2\" class=\"data row1 col2\" >0.718841</td>\n",
              "      <td id=\"T_d4c64_row1_col3\" class=\"data row1 col3\" >35.203517</td>\n",
              "    </tr>\n",
              "    <tr>\n",
              "      <th id=\"T_d4c64_level0_row2\" class=\"row_heading level0 row2\" >Regresión logística</th>\n",
              "      <td id=\"T_d4c64_row2_col0\" class=\"data row2 col0\" >0.530387</td>\n",
              "      <td id=\"T_d4c64_row2_col1\" class=\"data row2 col1\" >0.546185</td>\n",
              "      <td id=\"T_d4c64_row2_col2\" class=\"data row2 col2\" >0.581818</td>\n",
              "      <td id=\"T_d4c64_row2_col3\" class=\"data row2 col3\" >0.005609</td>\n",
              "    </tr>\n",
              "  </tbody>\n",
              "</table>\n",
              "</div><div style=\"display: inline-block; padding: 10px;\"><h3>Conjunto de Pruebas</h3><style type=\"text/css\">\n",
              "#T_b4514_row0_col2, #T_b4514_row1_col0, #T_b4514_row1_col1, #T_b4514_row2_col3 {\n",
              "  background-color: lightblue;\n",
              "}\n",
              "</style>\n",
              "<table id=\"T_b4514\">\n",
              "  <thead>\n",
              "    <tr>\n",
              "      <th class=\"blank level0\" >&nbsp;</th>\n",
              "      <th id=\"T_b4514_level0_col0\" class=\"col_heading level0 col0\" >Recall</th>\n",
              "      <th id=\"T_b4514_level0_col1\" class=\"col_heading level0 col1\" >Recall Macro</th>\n",
              "      <th id=\"T_b4514_level0_col2\" class=\"col_heading level0 col2\" >F1 Score</th>\n",
              "      <th id=\"T_b4514_level0_col3\" class=\"col_heading level0 col3\" >Fit_Time</th>\n",
              "    </tr>\n",
              "  </thead>\n",
              "  <tbody>\n",
              "    <tr>\n",
              "      <th id=\"T_b4514_level0_row0\" class=\"row_heading level0 row0\" >Dummy</th>\n",
              "      <td id=\"T_b4514_row0_col0\" class=\"data row0 col0\" >0.000000</td>\n",
              "      <td id=\"T_b4514_row0_col1\" class=\"data row0 col1\" >0.000000</td>\n",
              "      <td id=\"T_b4514_row0_col2\" class=\"data row0 col2\" >0.774194</td>\n",
              "      <td id=\"T_b4514_row0_col3\" class=\"data row0 col3\" >0.000323</td>\n",
              "    </tr>\n",
              "    <tr>\n",
              "      <th id=\"T_b4514_level0_row1\" class=\"row_heading level0 row1\" >Regresión logística</th>\n",
              "      <td id=\"T_b4514_row1_col0\" class=\"data row1 col0\" >0.666667</td>\n",
              "      <td id=\"T_b4514_row1_col1\" class=\"data row1 col1\" >0.547619</td>\n",
              "      <td id=\"T_b4514_row1_col2\" class=\"data row1 col2\" >0.666667</td>\n",
              "      <td id=\"T_b4514_row1_col3\" class=\"data row1 col3\" >0.005609</td>\n",
              "    </tr>\n",
              "    <tr>\n",
              "      <th id=\"T_b4514_level0_row2\" class=\"row_heading level0 row2\" >Ensemble</th>\n",
              "      <td id=\"T_b4514_row2_col0\" class=\"data row2 col0\" >0.500000</td>\n",
              "      <td id=\"T_b4514_row2_col1\" class=\"data row2 col1\" >0.464286</td>\n",
              "      <td id=\"T_b4514_row2_col2\" class=\"data row2 col2\" >0.545455</td>\n",
              "      <td id=\"T_b4514_row2_col3\" class=\"data row2 col3\" >35.203517</td>\n",
              "    </tr>\n",
              "  </tbody>\n",
              "</table>\n",
              "</div>"
            ]
          },
          "metadata": {},
          "output_type": "display_data"
        },
        {
          "data": {
            "application/javascript": [
              "\n",
              "            setTimeout(function() {\n",
              "                var nbb_cell_id = 56;\n",
              "                var nbb_unformatted_code = \"# Definimos el modelo\\nstart_time = time.time()\\nreg_res = LogisticRegression(solver='liblinear', class_weight= \\\"balanced\\\",\\n                         max_iter= 100, penalty = 'l2', tol = 0.0001, random_state=0)\\n\\n# se ajusta el modelo\\nreg_res.fit(Xtv1_res, Ytv1_res)\\ntiempo_fit_reg_res = time.time() - start_time\\n\\n# generamos el ensamble usando bagging\\nstart_time = time.time()\\nensamble4_res = BaggingClassifier(base_estimator=reg_res, n_estimators=200, random_state=42)\\n\\nparam_grid = {\\n    'n_estimators': [50, 100, 200],\\n    'max_samples': [0.5, 0.7, 1.0],\\n    'max_features': [0.5, 0.7, 1.0],\\n    'bootstrap': [True, False],\\n    'bootstrap_features': [True, False]\\n}\\n\\ngrid_search = GridSearchCV(estimator=ensamble4_res, param_grid=param_grid, cv=5, scoring='recall', n_jobs=-1, verbose=1)\\n\\ngrid_search.fit(Xtv1_res, Ytv1_res)\\n\\nbest_params = grid_search.best_params_\\nbest_score = grid_search.best_score_\\n\\nprint(f\\\"Mejores hiperpar\\u00e1metros: {best_params}\\\")\\nprint(f\\\"Mejor Recall Score: {best_score}\\\")\\n\\n# Entrenamos el ensamble\\n\\nbest_bagging_params = {key: value for key, value in best_params.items() if 'base_estimator__' not in key}\\n\\nensamble4_res_best = BaggingClassifier(base_estimator=reg_res, **best_bagging_params, random_state=0)\\n\\nensamble4_res_best.fit(Xtv1_res, Ytv1_res)\\n\\ntiempo_fit_ensamble4_res_best = time.time() - start_time\\n\\n# Evaluamos el rendimiento de los modelos con el conjunto de entrenamiento\\n\\nytv_pred = cross_val_predict(reg_res, Xtv1_res, Ytv1_res, cv=5)\\nrecall_tv_reg_res = recall_score(Ytv1_res, ytv_pred, average='binary')\\nrecall_tv_macro_reg_res = recall_score(Ytv1_res, ytv_pred, average='macro')\\nf1_tv_reg_res = f1_score(Ytv1_res, ytv_pred, average='binary')\\n\\nytv_pred_ensamble4_best = ensamble4_res_best.predict(Xtv1_res)\\nrecall_tv_ensamble4_res_best = recall_score(Ytv1_res, ytv_pred_ensamble4_best, average='binary')\\nrecall_tv_macro_ensamble4_res_best = recall_score(Ytv1_res, ytv_pred_ensamble4_best, average='macro')\\nf1_tv_ensamble4_res_best = f1_score(Ytv1_res, ytv_pred_ensamble4_best, average='binary')\\n\\ncuadro1 = {\\n    'Modelo': ['Dummy', 'Regresi\\u00f3n log\\u00edstica', 'Ensemble'],\\n    'Recall': [recall_tv_dum_res, recall_tv_reg_res,  recall_tv_ensamble4_res_best],\\n    'Recall Macro': [recall_tv_macro_dum_res, recall_tv_macro_reg_res, recall_tv_macro_ensamble4_res_best],\\n    'F1 Score': [f1_tv_dum_res, f1_tv_reg_res, f1_tv_ensamble4_res_best],\\n    'Fit_Time': [tiempo_fit_dummy_res, tiempo_fit_reg_res, tiempo_fit_ensamble4_res_best]\\n}\\n\\n# Crear un DataFrame para almacenar los resultados\\ncuadro1_df = pd.DataFrame(cuadro1,index=cuadro1[\\\"Modelo\\\"])\\ncuadro1_df.drop(columns=['Modelo'], inplace=True)\\n\\n# Ordenar el DataFrame por la columna F1_Tst de mayor a menor\\ncuadro1_df = cuadro1_df.sort_values(by='F1 Score', ascending=False)\\n\\n\\n# Evaluamos el rendimiento de los modelos con el conjunto de pruebas\\n\\nytest_pred = cross_val_predict(reg, Xtest1, ytest1, cv=5)\\nrecall_test_reg_res = recall_score(ytest1, ytest_pred, average='binary')\\nrecall_test_macro_reg_res = recall_score(ytest1, ytest_pred, average='macro')\\nf1_test_reg_res = f1_score(ytest1, ytest_pred, average='binary')\\n\\nytest_pred_ensamble4_best = ensamble4_res_best.predict(Xtest1)\\nrecall_test_ensamble4_res_best = recall_score(ytest1, ytest_pred_ensamble4_best, average='binary')\\nrecall_test_macro_ensamble4_res_best = recall_score(ytest1, ytest_pred_ensamble4_best, average='macro')\\nf1_test_ensamble4_res_best = f1_score(ytest1, ytest_pred_ensamble4_best, average='binary')\\n\\ncuadro2 = {\\n    'Modelo': ['Dummy', 'Regresi\\u00f3n log\\u00edstica', 'Ensemble'],\\n    'Recall': [recall_test_dum, recall_test_reg_res, recall_test_ensamble4_res_best],\\n    'Recall Macro': [recall_test_macro_dum, recall_test_macro_reg_res, recall_test_macro_ensamble4_res_best],\\n    'F1 Score': [f1_test_dum, f1_test_reg_res, f1_test_ensamble4_res_best],\\n    'Fit_Time': [tiempo_fit_dummy_res, tiempo_fit_reg_res, tiempo_fit_ensamble4_res_best]\\n}\\n\\n# Crear un DataFrame para almacenar los resultados\\ncuadro2_df = pd.DataFrame(cuadro2,index=cuadro2[\\\"Modelo\\\"])\\ncuadro2_df.drop(columns=['Modelo'], inplace=True)\\n\\n# Ordenar el DataFrame por la columna F1_Tst de mayor a menor\\ncuadro2_df = cuadro2_df.sort_values(by='F1 Score', ascending=False)\\n\\n# Aqu\\u00ed puedes especificar el axis=0 para columnas o axis=1 para filas\\ndisplay_side_by_side([cuadro1_df, cuadro2_df], ['Conjunto de Entrenamiento', 'Conjunto de Pruebas'],\\n                     color='lightblue', axis=0)\";\n",
              "                var nbb_formatted_code = \"# Definimos el modelo\\nstart_time = time.time()\\nreg_res = LogisticRegression(\\n    solver=\\\"liblinear\\\",\\n    class_weight=\\\"balanced\\\",\\n    max_iter=100,\\n    penalty=\\\"l2\\\",\\n    tol=0.0001,\\n    random_state=0,\\n)\\n\\n# se ajusta el modelo\\nreg_res.fit(Xtv1_res, Ytv1_res)\\ntiempo_fit_reg_res = time.time() - start_time\\n\\n# generamos el ensamble usando bagging\\nstart_time = time.time()\\nensamble4_res = BaggingClassifier(\\n    base_estimator=reg_res, n_estimators=200, random_state=42\\n)\\n\\nparam_grid = {\\n    \\\"n_estimators\\\": [50, 100, 200],\\n    \\\"max_samples\\\": [0.5, 0.7, 1.0],\\n    \\\"max_features\\\": [0.5, 0.7, 1.0],\\n    \\\"bootstrap\\\": [True, False],\\n    \\\"bootstrap_features\\\": [True, False],\\n}\\n\\ngrid_search = GridSearchCV(\\n    estimator=ensamble4_res,\\n    param_grid=param_grid,\\n    cv=5,\\n    scoring=\\\"recall\\\",\\n    n_jobs=-1,\\n    verbose=1,\\n)\\n\\ngrid_search.fit(Xtv1_res, Ytv1_res)\\n\\nbest_params = grid_search.best_params_\\nbest_score = grid_search.best_score_\\n\\nprint(f\\\"Mejores hiperpar\\u00e1metros: {best_params}\\\")\\nprint(f\\\"Mejor Recall Score: {best_score}\\\")\\n\\n# Entrenamos el ensamble\\n\\nbest_bagging_params = {\\n    key: value for key, value in best_params.items() if \\\"base_estimator__\\\" not in key\\n}\\n\\nensamble4_res_best = BaggingClassifier(\\n    base_estimator=reg_res, **best_bagging_params, random_state=0\\n)\\n\\nensamble4_res_best.fit(Xtv1_res, Ytv1_res)\\n\\ntiempo_fit_ensamble4_res_best = time.time() - start_time\\n\\n# Evaluamos el rendimiento de los modelos con el conjunto de entrenamiento\\n\\nytv_pred = cross_val_predict(reg_res, Xtv1_res, Ytv1_res, cv=5)\\nrecall_tv_reg_res = recall_score(Ytv1_res, ytv_pred, average=\\\"binary\\\")\\nrecall_tv_macro_reg_res = recall_score(Ytv1_res, ytv_pred, average=\\\"macro\\\")\\nf1_tv_reg_res = f1_score(Ytv1_res, ytv_pred, average=\\\"binary\\\")\\n\\nytv_pred_ensamble4_best = ensamble4_res_best.predict(Xtv1_res)\\nrecall_tv_ensamble4_res_best = recall_score(\\n    Ytv1_res, ytv_pred_ensamble4_best, average=\\\"binary\\\"\\n)\\nrecall_tv_macro_ensamble4_res_best = recall_score(\\n    Ytv1_res, ytv_pred_ensamble4_best, average=\\\"macro\\\"\\n)\\nf1_tv_ensamble4_res_best = f1_score(Ytv1_res, ytv_pred_ensamble4_best, average=\\\"binary\\\")\\n\\ncuadro1 = {\\n    \\\"Modelo\\\": [\\\"Dummy\\\", \\\"Regresi\\u00f3n log\\u00edstica\\\", \\\"Ensemble\\\"],\\n    \\\"Recall\\\": [recall_tv_dum_res, recall_tv_reg_res, recall_tv_ensamble4_res_best],\\n    \\\"Recall Macro\\\": [\\n        recall_tv_macro_dum_res,\\n        recall_tv_macro_reg_res,\\n        recall_tv_macro_ensamble4_res_best,\\n    ],\\n    \\\"F1 Score\\\": [f1_tv_dum_res, f1_tv_reg_res, f1_tv_ensamble4_res_best],\\n    \\\"Fit_Time\\\": [\\n        tiempo_fit_dummy_res,\\n        tiempo_fit_reg_res,\\n        tiempo_fit_ensamble4_res_best,\\n    ],\\n}\\n\\n# Crear un DataFrame para almacenar los resultados\\ncuadro1_df = pd.DataFrame(cuadro1, index=cuadro1[\\\"Modelo\\\"])\\ncuadro1_df.drop(columns=[\\\"Modelo\\\"], inplace=True)\\n\\n# Ordenar el DataFrame por la columna F1_Tst de mayor a menor\\ncuadro1_df = cuadro1_df.sort_values(by=\\\"F1 Score\\\", ascending=False)\\n\\n\\n# Evaluamos el rendimiento de los modelos con el conjunto de pruebas\\n\\nytest_pred = cross_val_predict(reg, Xtest1, ytest1, cv=5)\\nrecall_test_reg_res = recall_score(ytest1, ytest_pred, average=\\\"binary\\\")\\nrecall_test_macro_reg_res = recall_score(ytest1, ytest_pred, average=\\\"macro\\\")\\nf1_test_reg_res = f1_score(ytest1, ytest_pred, average=\\\"binary\\\")\\n\\nytest_pred_ensamble4_best = ensamble4_res_best.predict(Xtest1)\\nrecall_test_ensamble4_res_best = recall_score(\\n    ytest1, ytest_pred_ensamble4_best, average=\\\"binary\\\"\\n)\\nrecall_test_macro_ensamble4_res_best = recall_score(\\n    ytest1, ytest_pred_ensamble4_best, average=\\\"macro\\\"\\n)\\nf1_test_ensamble4_res_best = f1_score(\\n    ytest1, ytest_pred_ensamble4_best, average=\\\"binary\\\"\\n)\\n\\ncuadro2 = {\\n    \\\"Modelo\\\": [\\\"Dummy\\\", \\\"Regresi\\u00f3n log\\u00edstica\\\", \\\"Ensemble\\\"],\\n    \\\"Recall\\\": [recall_test_dum, recall_test_reg_res, recall_test_ensamble4_res_best],\\n    \\\"Recall Macro\\\": [\\n        recall_test_macro_dum,\\n        recall_test_macro_reg_res,\\n        recall_test_macro_ensamble4_res_best,\\n    ],\\n    \\\"F1 Score\\\": [f1_test_dum, f1_test_reg_res, f1_test_ensamble4_res_best],\\n    \\\"Fit_Time\\\": [\\n        tiempo_fit_dummy_res,\\n        tiempo_fit_reg_res,\\n        tiempo_fit_ensamble4_res_best,\\n    ],\\n}\\n\\n# Crear un DataFrame para almacenar los resultados\\ncuadro2_df = pd.DataFrame(cuadro2, index=cuadro2[\\\"Modelo\\\"])\\ncuadro2_df.drop(columns=[\\\"Modelo\\\"], inplace=True)\\n\\n# Ordenar el DataFrame por la columna F1_Tst de mayor a menor\\ncuadro2_df = cuadro2_df.sort_values(by=\\\"F1 Score\\\", ascending=False)\\n\\n# Aqu\\u00ed puedes especificar el axis=0 para columnas o axis=1 para filas\\ndisplay_side_by_side(\\n    [cuadro1_df, cuadro2_df],\\n    [\\\"Conjunto de Entrenamiento\\\", \\\"Conjunto de Pruebas\\\"],\\n    color=\\\"lightblue\\\",\\n    axis=0,\\n)\";\n",
              "                var nbb_cells = Jupyter.notebook.get_cells();\n",
              "                for (var i = 0; i < nbb_cells.length; ++i) {\n",
              "                    if (nbb_cells[i].input_prompt_number == nbb_cell_id) {\n",
              "                        if (nbb_cells[i].get_text() == nbb_unformatted_code) {\n",
              "                             nbb_cells[i].set_text(nbb_formatted_code);\n",
              "                        }\n",
              "                        break;\n",
              "                    }\n",
              "                }\n",
              "            }, 500);\n",
              "            "
            ],
            "text/plain": [
              "<IPython.core.display.Javascript object>"
            ]
          },
          "metadata": {},
          "output_type": "display_data"
        }
      ],
      "source": [
        "# Definimos el modelo\n",
        "start_time = time.time()\n",
        "reg_res = LogisticRegression(\n",
        "    solver=\"liblinear\",\n",
        "    class_weight=\"balanced\",\n",
        "    max_iter=100,\n",
        "    penalty=\"l2\",\n",
        "    tol=0.0001,\n",
        "    random_state=0,\n",
        ")\n",
        "\n",
        "# se ajusta el modelo\n",
        "reg_res.fit(Xtv1_res, Ytv1_res)\n",
        "tiempo_fit_reg_res = time.time() - start_time\n",
        "\n",
        "# generamos el ensamble usando bagging\n",
        "start_time = time.time()\n",
        "ensamble4_res = BaggingClassifier(\n",
        "    base_estimator=reg_res, n_estimators=200, random_state=42\n",
        ")\n",
        "\n",
        "param_grid = {\n",
        "    \"n_estimators\": [50, 100, 200],\n",
        "    \"max_samples\": [0.5, 0.7, 1.0],\n",
        "    \"max_features\": [0.5, 0.7, 1.0],\n",
        "    \"bootstrap\": [True, False],\n",
        "    \"bootstrap_features\": [True, False],\n",
        "}\n",
        "\n",
        "grid_search = GridSearchCV(\n",
        "    estimator=ensamble4_res,\n",
        "    param_grid=param_grid,\n",
        "    cv=5,\n",
        "    scoring=\"recall\",\n",
        "    n_jobs=-1,\n",
        "    verbose=1,\n",
        ")\n",
        "\n",
        "grid_search.fit(Xtv1_res, Ytv1_res)\n",
        "\n",
        "best_params = grid_search.best_params_\n",
        "best_score = grid_search.best_score_\n",
        "\n",
        "print(f\"Mejores hiperparámetros: {best_params}\")\n",
        "print(f\"Mejor Recall Score: {best_score}\")\n",
        "\n",
        "# Entrenamos el ensamble\n",
        "\n",
        "best_bagging_params = {\n",
        "    key: value for key, value in best_params.items() if \"base_estimator__\" not in key\n",
        "}\n",
        "\n",
        "ensamble4_res_best = BaggingClassifier(\n",
        "    base_estimator=reg_res, **best_bagging_params, random_state=0\n",
        ")\n",
        "\n",
        "ensamble4_res_best.fit(Xtv1_res, Ytv1_res)\n",
        "\n",
        "tiempo_fit_ensamble4_res_best = time.time() - start_time\n",
        "\n",
        "# Evaluamos el rendimiento de los modelos con el conjunto de entrenamiento\n",
        "\n",
        "ytv_pred = cross_val_predict(reg_res, Xtv1_res, Ytv1_res, cv=5)\n",
        "recall_tv_reg_res = recall_score(Ytv1_res, ytv_pred, average=\"binary\")\n",
        "recall_tv_macro_reg_res = recall_score(Ytv1_res, ytv_pred, average=\"macro\")\n",
        "f1_tv_reg_res = f1_score(Ytv1_res, ytv_pred, average=\"binary\")\n",
        "\n",
        "ytv_pred_ensamble4_best = ensamble4_res_best.predict(Xtv1_res)\n",
        "recall_tv_ensamble4_res_best = recall_score(\n",
        "    Ytv1_res, ytv_pred_ensamble4_best, average=\"binary\"\n",
        ")\n",
        "recall_tv_macro_ensamble4_res_best = recall_score(\n",
        "    Ytv1_res, ytv_pred_ensamble4_best, average=\"macro\"\n",
        ")\n",
        "f1_tv_ensamble4_res_best = f1_score(Ytv1_res, ytv_pred_ensamble4_best, average=\"binary\")\n",
        "\n",
        "cuadro1 = {\n",
        "    \"Modelo\": [\"Dummy\", \"Regresión logística\", \"Ensemble\"],\n",
        "    \"Recall\": [recall_tv_dum_res, recall_tv_reg_res, recall_tv_ensamble4_res_best],\n",
        "    \"Recall Macro\": [\n",
        "        recall_tv_macro_dum_res,\n",
        "        recall_tv_macro_reg_res,\n",
        "        recall_tv_macro_ensamble4_res_best,\n",
        "    ],\n",
        "    \"F1 Score\": [f1_tv_dum_res, f1_tv_reg_res, f1_tv_ensamble4_res_best],\n",
        "    \"Fit_Time\": [\n",
        "        tiempo_fit_dummy_res,\n",
        "        tiempo_fit_reg_res,\n",
        "        tiempo_fit_ensamble4_res_best,\n",
        "    ],\n",
        "}\n",
        "\n",
        "# Crear un DataFrame para almacenar los resultados\n",
        "cuadro1_df = pd.DataFrame(cuadro1, index=cuadro1[\"Modelo\"])\n",
        "cuadro1_df.drop(columns=[\"Modelo\"], inplace=True)\n",
        "\n",
        "# Ordenar el DataFrame por la columna F1_Tst de mayor a menor\n",
        "cuadro1_df = cuadro1_df.sort_values(by=\"F1 Score\", ascending=False)\n",
        "\n",
        "\n",
        "# Evaluamos el rendimiento de los modelos con el conjunto de pruebas\n",
        "\n",
        "ytest_pred = cross_val_predict(reg, Xtest1, ytest1, cv=5)\n",
        "recall_test_reg_res = recall_score(ytest1, ytest_pred, average=\"binary\")\n",
        "recall_test_macro_reg_res = recall_score(ytest1, ytest_pred, average=\"macro\")\n",
        "f1_test_reg_res = f1_score(ytest1, ytest_pred, average=\"binary\")\n",
        "\n",
        "ytest_pred_ensamble4_best = ensamble4_res_best.predict(Xtest1)\n",
        "recall_test_ensamble4_res_best = recall_score(\n",
        "    ytest1, ytest_pred_ensamble4_best, average=\"binary\"\n",
        ")\n",
        "recall_test_macro_ensamble4_res_best = recall_score(\n",
        "    ytest1, ytest_pred_ensamble4_best, average=\"macro\"\n",
        ")\n",
        "f1_test_ensamble4_res_best = f1_score(\n",
        "    ytest1, ytest_pred_ensamble4_best, average=\"binary\"\n",
        ")\n",
        "\n",
        "cuadro2 = {\n",
        "    \"Modelo\": [\"Dummy\", \"Regresión logística\", \"Ensemble\"],\n",
        "    \"Recall\": [recall_test_dum, recall_test_reg_res, recall_test_ensamble4_res_best],\n",
        "    \"Recall Macro\": [\n",
        "        recall_test_macro_dum,\n",
        "        recall_test_macro_reg_res,\n",
        "        recall_test_macro_ensamble4_res_best,\n",
        "    ],\n",
        "    \"F1 Score\": [f1_test_dum, f1_test_reg_res, f1_test_ensamble4_res_best],\n",
        "    \"Fit_Time\": [\n",
        "        tiempo_fit_dummy_res,\n",
        "        tiempo_fit_reg_res,\n",
        "        tiempo_fit_ensamble4_res_best,\n",
        "    ],\n",
        "}\n",
        "\n",
        "# Crear un DataFrame para almacenar los resultados\n",
        "cuadro2_df = pd.DataFrame(cuadro2, index=cuadro2[\"Modelo\"])\n",
        "cuadro2_df.drop(columns=[\"Modelo\"], inplace=True)\n",
        "\n",
        "# Ordenar el DataFrame por la columna F1_Tst de mayor a menor\n",
        "cuadro2_df = cuadro2_df.sort_values(by=\"F1 Score\", ascending=False)\n",
        "\n",
        "# Aquí puedes especificar el axis=0 para columnas o axis=1 para filas\n",
        "display_side_by_side(\n",
        "    [cuadro1_df, cuadro2_df],\n",
        "    [\"Conjunto de Entrenamiento\", \"Conjunto de Pruebas\"],\n",
        "    color=\"lightblue\",\n",
        "    axis=0,\n",
        ")"
      ]
    },
    {
      "cell_type": "code",
      "execution_count": null,
      "id": "cUORTq7i9zLg",
      "metadata": {
        "colab": {
          "base_uri": "https://localhost:8080/",
          "height": 607
        },
        "id": "cUORTq7i9zLg",
        "outputId": "d1de0b51-b1bb-46c2-e061-68be99dd7f28"
      },
      "outputs": [
        {
          "data": {
            "image/png": "[encoded data removed]",
            "text/plain": [
              "<Figure size 1008x432 with 2 Axes>"
            ]
          },
          "metadata": {
            "needs_background": "light"
          },
          "output_type": "display_data"
        },
        {
          "data": {
            "application/javascript": [
              "\n",
              "            setTimeout(function() {\n",
              "                var nbb_cell_id = 57;\n",
              "                var nbb_unformatted_code = \"# Generar las matrices de confusi\\u00f3n\\ncm_tv = confusion_matrix(Ytv1_res, ytv_pred_ensamble4_best)\\ncm_test = confusion_matrix(ytest1, ytest_pred_ensamble4_best)\\n\\n# Crear DataFrames de las matrices de confusi\\u00f3n\\ncm_tv_df = pd.DataFrame(cm_tv, index=[0, 1], columns=[0, 1])\\ncm_test_df = pd.DataFrame(cm_test, index=[0, 1], columns=[0, 1])\\n\\n# Crear el heatmap usando seaborn\\nplt.figure(figsize=(14, 6))\\n\\n# Heatmap de la matriz de confusi\\u00f3n de entrenamiento\\nplt.subplot(1, 2, 1)\\nsns.heatmap(cm_tv_df, annot=True, fmt='d', cmap='Blues', cbar=False)\\nplt.title('Matriz de Confusi\\u00f3n - Entrenamiento')\\nplt.xlabel('Predicted')\\nplt.ylabel('Actual')\\n\\n# Heatmap de la matriz de confusi\\u00f3n de prueba\\nplt.subplot(1, 2, 2)\\nsns.heatmap(cm_test_df, annot=True, fmt='d', cmap='Blues', cbar=False)\\nplt.title('Matriz de Confusi\\u00f3n - Prueba')\\nplt.xlabel('Predicted')\\nplt.ylabel('Actual')\\n\\n# Mostrar las gr\\u00e1ficas\\nplt.tight_layout()\\nplt.show()\";\n",
              "                var nbb_formatted_code = \"# Generar las matrices de confusi\\u00f3n\\ncm_tv = confusion_matrix(Ytv1_res, ytv_pred_ensamble4_best)\\ncm_test = confusion_matrix(ytest1, ytest_pred_ensamble4_best)\\n\\n# Crear DataFrames de las matrices de confusi\\u00f3n\\ncm_tv_df = pd.DataFrame(cm_tv, index=[0, 1], columns=[0, 1])\\ncm_test_df = pd.DataFrame(cm_test, index=[0, 1], columns=[0, 1])\\n\\n# Crear el heatmap usando seaborn\\nplt.figure(figsize=(14, 6))\\n\\n# Heatmap de la matriz de confusi\\u00f3n de entrenamiento\\nplt.subplot(1, 2, 1)\\nsns.heatmap(cm_tv_df, annot=True, fmt=\\\"d\\\", cmap=\\\"Blues\\\", cbar=False)\\nplt.title(\\\"Matriz de Confusi\\u00f3n - Entrenamiento\\\")\\nplt.xlabel(\\\"Predicted\\\")\\nplt.ylabel(\\\"Actual\\\")\\n\\n# Heatmap de la matriz de confusi\\u00f3n de prueba\\nplt.subplot(1, 2, 2)\\nsns.heatmap(cm_test_df, annot=True, fmt=\\\"d\\\", cmap=\\\"Blues\\\", cbar=False)\\nplt.title(\\\"Matriz de Confusi\\u00f3n - Prueba\\\")\\nplt.xlabel(\\\"Predicted\\\")\\nplt.ylabel(\\\"Actual\\\")\\n\\n# Mostrar las gr\\u00e1ficas\\nplt.tight_layout()\\nplt.show()\";\n",
              "                var nbb_cells = Jupyter.notebook.get_cells();\n",
              "                for (var i = 0; i < nbb_cells.length; ++i) {\n",
              "                    if (nbb_cells[i].input_prompt_number == nbb_cell_id) {\n",
              "                        if (nbb_cells[i].get_text() == nbb_unformatted_code) {\n",
              "                             nbb_cells[i].set_text(nbb_formatted_code);\n",
              "                        }\n",
              "                        break;\n",
              "                    }\n",
              "                }\n",
              "            }, 500);\n",
              "            "
            ],
            "text/plain": [
              "<IPython.core.display.Javascript object>"
            ]
          },
          "metadata": {},
          "output_type": "display_data"
        }
      ],
      "source": [
        "# Generar las matrices de confusión\n",
        "cm_tv = confusion_matrix(Ytv1_res, ytv_pred_ensamble4_best)\n",
        "cm_test = confusion_matrix(ytest1, ytest_pred_ensamble4_best)\n",
        "\n",
        "# Crear DataFrames de las matrices de confusión\n",
        "cm_tv_df = pd.DataFrame(cm_tv, index=[0, 1], columns=[0, 1])\n",
        "cm_test_df = pd.DataFrame(cm_test, index=[0, 1], columns=[0, 1])\n",
        "\n",
        "# Crear el heatmap usando seaborn\n",
        "plt.figure(figsize=(14, 6))\n",
        "\n",
        "# Heatmap de la matriz de confusión de entrenamiento\n",
        "plt.subplot(1, 2, 1)\n",
        "sns.heatmap(cm_tv_df, annot=True, fmt=\"d\", cmap=\"Blues\", cbar=False)\n",
        "plt.title(\"Matriz de Confusión - Entrenamiento\")\n",
        "plt.xlabel(\"Predicted\")\n",
        "plt.ylabel(\"Actual\")\n",
        "\n",
        "# Heatmap de la matriz de confusión de prueba\n",
        "plt.subplot(1, 2, 2)\n",
        "sns.heatmap(cm_test_df, annot=True, fmt=\"d\", cmap=\"Blues\", cbar=False)\n",
        "plt.title(\"Matriz de Confusión - Prueba\")\n",
        "plt.xlabel(\"Predicted\")\n",
        "plt.ylabel(\"Actual\")\n",
        "\n",
        "# Mostrar las gráficas\n",
        "plt.tight_layout()\n",
        "plt.show()"
      ]
    },
    {
      "cell_type": "markdown",
      "id": "Nc-QD9A39NP2",
      "metadata": {
        "id": "Nc-QD9A39NP2"
      },
      "source": [
        "#### 2.4.3 Bagging con Red Neuronal"
      ]
    },
    {
      "cell_type": "code",
      "execution_count": null,
      "id": "yfG0luv5FEa0",
      "metadata": {
        "id": "yfG0luv5FEa0",
        "outputId": "2b902176-c78b-4118-d555-b9e8314fb8c0"
      },
      "outputs": [
        {
          "name": "stdout",
          "output_type": "stream",
          "text": [
            "Fitting 5 folds for each of 108 candidates, totalling 540 fits\n",
            "Mejores hiperparámetros: {'bootstrap': False, 'bootstrap_features': True, 'max_features': 0.5, 'max_samples': 1.0, 'n_estimators': 100}\n",
            "Mejor Recall Score: 0.8896396396396395\n"
          ]
        },
        {
          "data": {
            "application/javascript": [
              "\n",
              "            setTimeout(function() {\n",
              "                var nbb_cell_id = 58;\n",
              "                var nbb_unformatted_code = \"Xtv2_res, Ytv2_res = undersampler.fit_resample(Xtv2, ytv2)\\n\\n# Definimos el modelo\\nstart_time = time.time()\\nred_res = MLPClassifier(solver=\\\"adam\\\",  activation = 'logistic', alpha = 0.1, hidden_layer_sizes = (50,),\\n                    learning_rate_init = 0.01, max_iter = 5000, random_state=42)\\n\\n# se ajusta el modelo\\nred_res.fit(Xtv2_res, Ytv2_res)\\ntiempo_fit_red_res = time.time() - start_time\\n\\n# generamos el ensamble usando bagging\\nstart_time = time.time()\\nensamble6_res = BaggingClassifier(base_estimator=red_res, n_estimators=200, random_state=42)\\n\\nparam_grid = {\\n    'n_estimators': [50, 100, 200],\\n    'max_samples': [0.5, 0.7, 1.0],\\n    'max_features': [0.5, 0.7, 1.0],\\n    'bootstrap': [True, False],\\n    'bootstrap_features': [True, False]\\n}\\n\\n\\ngrid_search = GridSearchCV(estimator=ensamble6_res, param_grid=param_grid, cv=5, scoring='recall', n_jobs=-1, verbose=1)\\n\\ngrid_search.fit(Xtv2_res, Ytv2_res)\\n\\nbest_params = grid_search.best_params_\\nbest_score = grid_search.best_score_\\n\\nprint(f\\\"Mejores hiperpar\\u00e1metros: {best_params}\\\")\\nprint(f\\\"Mejor Recall Score: {best_score}\\\")\\n\\n# Entrenamos el ensamble\\n\\nbest_bagging_params = {key: value for key, value in best_params.items() if 'base_estimator__' not in key}\\n\\nensamble6_res_best = BaggingClassifier(base_estimator=red_res, **best_bagging_params, random_state=0)\\n\\nensamble6_res_best.fit(Xtv2_res, Ytv2_res)\\n\\ntiempo_fit_ensamble6_res_best = time.time() - start_time\\n\\n\\n# Evaluamos el rendimiento de los modelos con el conjunto de entrenamiento\\n\\nytv_pred = cross_val_predict(red_res, Xtv2_res, Ytv2_res, cv=5)\\nrecall_tv_red_res = recall_score(Ytv2_res, ytv_pred, average='binary')\\nrecall_tv_macro_red_res = recall_score(Ytv2_res, ytv_pred, average='macro')\\nf1_tv_red_res = f1_score(Ytv2_res, ytv_pred, average='binary')\\n\\nytv_pred_ensamble6_best = ensamble6_res_best.predict(Xtv2_res)\\nrecall_tv_ensamble6_res_best = recall_score(Ytv2_res, ytv_pred_ensamble6_best, average='binary')\\nrecall_tv_macro_ensamble6_res_best = recall_score(Ytv2_res, ytv_pred_ensamble6_best, average='macro')\\nf1_tv_ensamble6_res_best = f1_score(Ytv2_res, ytv_pred_ensamble6_best, average='binary')\";\n",
              "                var nbb_formatted_code = \"Xtv2_res, Ytv2_res = undersampler.fit_resample(Xtv2, ytv2)\\n\\n# Definimos el modelo\\nstart_time = time.time()\\nred_res = MLPClassifier(\\n    solver=\\\"adam\\\",\\n    activation=\\\"logistic\\\",\\n    alpha=0.1,\\n    hidden_layer_sizes=(50,),\\n    learning_rate_init=0.01,\\n    max_iter=5000,\\n    random_state=42,\\n)\\n\\n# se ajusta el modelo\\nred_res.fit(Xtv2_res, Ytv2_res)\\ntiempo_fit_red_res = time.time() - start_time\\n\\n# generamos el ensamble usando bagging\\nstart_time = time.time()\\nensamble6_res = BaggingClassifier(\\n    base_estimator=red_res, n_estimators=200, random_state=42\\n)\\n\\nparam_grid = {\\n    \\\"n_estimators\\\": [50, 100, 200],\\n    \\\"max_samples\\\": [0.5, 0.7, 1.0],\\n    \\\"max_features\\\": [0.5, 0.7, 1.0],\\n    \\\"bootstrap\\\": [True, False],\\n    \\\"bootstrap_features\\\": [True, False],\\n}\\n\\n\\ngrid_search = GridSearchCV(\\n    estimator=ensamble6_res,\\n    param_grid=param_grid,\\n    cv=5,\\n    scoring=\\\"recall\\\",\\n    n_jobs=-1,\\n    verbose=1,\\n)\\n\\ngrid_search.fit(Xtv2_res, Ytv2_res)\\n\\nbest_params = grid_search.best_params_\\nbest_score = grid_search.best_score_\\n\\nprint(f\\\"Mejores hiperpar\\u00e1metros: {best_params}\\\")\\nprint(f\\\"Mejor Recall Score: {best_score}\\\")\\n\\n# Entrenamos el ensamble\\n\\nbest_bagging_params = {\\n    key: value for key, value in best_params.items() if \\\"base_estimator__\\\" not in key\\n}\\n\\nensamble6_res_best = BaggingClassifier(\\n    base_estimator=red_res, **best_bagging_params, random_state=0\\n)\\n\\nensamble6_res_best.fit(Xtv2_res, Ytv2_res)\\n\\ntiempo_fit_ensamble6_res_best = time.time() - start_time\\n\\n\\n# Evaluamos el rendimiento de los modelos con el conjunto de entrenamiento\\n\\nytv_pred = cross_val_predict(red_res, Xtv2_res, Ytv2_res, cv=5)\\nrecall_tv_red_res = recall_score(Ytv2_res, ytv_pred, average=\\\"binary\\\")\\nrecall_tv_macro_red_res = recall_score(Ytv2_res, ytv_pred, average=\\\"macro\\\")\\nf1_tv_red_res = f1_score(Ytv2_res, ytv_pred, average=\\\"binary\\\")\\n\\nytv_pred_ensamble6_best = ensamble6_res_best.predict(Xtv2_res)\\nrecall_tv_ensamble6_res_best = recall_score(\\n    Ytv2_res, ytv_pred_ensamble6_best, average=\\\"binary\\\"\\n)\\nrecall_tv_macro_ensamble6_res_best = recall_score(\\n    Ytv2_res, ytv_pred_ensamble6_best, average=\\\"macro\\\"\\n)\\nf1_tv_ensamble6_res_best = f1_score(Ytv2_res, ytv_pred_ensamble6_best, average=\\\"binary\\\")\";\n",
              "                var nbb_cells = Jupyter.notebook.get_cells();\n",
              "                for (var i = 0; i < nbb_cells.length; ++i) {\n",
              "                    if (nbb_cells[i].input_prompt_number == nbb_cell_id) {\n",
              "                        if (nbb_cells[i].get_text() == nbb_unformatted_code) {\n",
              "                             nbb_cells[i].set_text(nbb_formatted_code);\n",
              "                        }\n",
              "                        break;\n",
              "                    }\n",
              "                }\n",
              "            }, 500);\n",
              "            "
            ],
            "text/plain": [
              "<IPython.core.display.Javascript object>"
            ]
          },
          "metadata": {},
          "output_type": "display_data"
        }
      ],
      "source": [
        "Xtv2_res, Ytv2_res = undersampler.fit_resample(Xtv2, ytv2)\n",
        "\n",
        "# Definimos el modelo\n",
        "start_time = time.time()\n",
        "red_res = MLPClassifier(solver=\"adam\",  activation = 'logistic', alpha = 0.1, hidden_layer_sizes = (50,),\n",
        "                    learning_rate_init = 0.01, max_iter = 5000, random_state=42)\n",
        "\n",
        "# se ajusta el modelo\n",
        "red_res.fit(Xtv2_res, Ytv2_res)\n",
        "tiempo_fit_red_res = time.time() - start_time\n",
        "\n",
        "# generamos el ensamble usando bagging\n",
        "start_time = time.time()\n",
        "ensamble6_res = BaggingClassifier(base_estimator=red_res, n_estimators=200, random_state=42)\n",
        "\n",
        "param_grid = {\n",
        "    'n_estimators': [50, 100, 200],\n",
        "    'max_samples': [0.5, 0.7, 1.0],\n",
        "    'max_features': [0.5, 0.7, 1.0],\n",
        "    'bootstrap': [True, False],\n",
        "    'bootstrap_features': [True, False]\n",
        "}\n",
        "\n",
        "\n",
        "grid_search = GridSearchCV(estimator=ensamble6_res, param_grid=param_grid, cv=5, scoring='recall', n_jobs=-1, verbose=1)\n",
        "\n",
        "grid_search.fit(Xtv2_res, Ytv2_res)\n",
        "\n",
        "best_params = grid_search.best_params_\n",
        "best_score = grid_search.best_score_\n",
        "\n",
        "print(f\"Mejores hiperparámetros: {best_params}\")\n",
        "print(f\"Mejor Recall Score: {best_score}\")\n",
        "\n",
        "# Entrenamos el ensamble\n",
        "\n",
        "best_bagging_params = {key: value for key, value in best_params.items() if 'base_estimator__' not in key}\n",
        "\n",
        "ensamble6_res_best = BaggingClassifier(base_estimator=red_res, **best_bagging_params, random_state=0)\n",
        "\n",
        "ensamble6_res_best.fit(Xtv2_res, Ytv2_res)\n",
        "\n",
        "tiempo_fit_ensamble6_res_best = time.time() - start_time\n",
        "\n",
        "\n",
        "# Evaluamos el rendimiento de los modelos con el conjunto de entrenamiento\n",
        "\n",
        "ytv_pred = cross_val_predict(red_res, Xtv2_res, Ytv2_res, cv=5)\n",
        "recall_tv_red_res = recall_score(Ytv2_res, ytv_pred, average='binary')\n",
        "recall_tv_macro_red_res = recall_score(Ytv2_res, ytv_pred, average='macro')\n",
        "f1_tv_red_res = f1_score(Ytv2_res, ytv_pred, average='binary')\n",
        "\n",
        "ytv_pred_ensamble6_best = ensamble6_res_best.predict(Xtv2_res)\n",
        "recall_tv_ensamble6_res_best = recall_score(Ytv2_res, ytv_pred_ensamble6_best, average='binary')\n",
        "recall_tv_macro_ensamble6_res_best = recall_score(Ytv2_res, ytv_pred_ensamble6_best, average='macro')\n",
        "f1_tv_ensamble6_res_best = f1_score(Ytv2_res, ytv_pred_ensamble6_best, average='binary')\n"
      ]
    },
    {
      "cell_type": "code",
      "execution_count": null,
      "id": "WQ1FOC4cymk-",
      "metadata": {
        "colab": {
          "base_uri": "https://localhost:8080/",
          "height": 164
        },
        "id": "WQ1FOC4cymk-",
        "outputId": "40cb5ab2-124f-45a8-b625-ac7a94302f51"
      },
      "outputs": [
        {
          "data": {
            "text/html": [
              "<div style=\"display: inline-block; padding: 10px;\"><h3>Conjunto de Entrenamiento</h3><style type=\"text/css\">\n",
              "#T_a9eac_row0_col0, #T_a9eac_row0_col1, #T_a9eac_row0_col2, #T_a9eac_row0_col3 {\n",
              "  background-color: lightblue;\n",
              "}\n",
              "</style>\n",
              "<table id=\"T_a9eac\">\n",
              "  <thead>\n",
              "    <tr>\n",
              "      <th class=\"blank level0\" >&nbsp;</th>\n",
              "      <th id=\"T_a9eac_level0_col0\" class=\"col_heading level0 col0\" >Recall</th>\n",
              "      <th id=\"T_a9eac_level0_col1\" class=\"col_heading level0 col1\" >Recall Macro</th>\n",
              "      <th id=\"T_a9eac_level0_col2\" class=\"col_heading level0 col2\" >F1 Score</th>\n",
              "      <th id=\"T_a9eac_level0_col3\" class=\"col_heading level0 col3\" >Fit_Time</th>\n",
              "    </tr>\n",
              "  </thead>\n",
              "  <tbody>\n",
              "    <tr>\n",
              "      <th id=\"T_a9eac_level0_row0\" class=\"row_heading level0 row0\" >Ensemble</th>\n",
              "      <td id=\"T_a9eac_row0_col0\" class=\"data row0 col0\" >0.988950</td>\n",
              "      <td id=\"T_a9eac_row0_col1\" class=\"data row0 col1\" >0.907698</td>\n",
              "      <td id=\"T_a9eac_row0_col2\" class=\"data row0 col2\" >0.939633</td>\n",
              "      <td id=\"T_a9eac_row0_col3\" class=\"data row0 col3\" >1373.450654</td>\n",
              "    </tr>\n",
              "    <tr>\n",
              "      <th id=\"T_a9eac_level0_row1\" class=\"row_heading level0 row1\" >Dummy</th>\n",
              "      <td id=\"T_a9eac_row1_col0\" class=\"data row1 col0\" >0.000000</td>\n",
              "      <td id=\"T_a9eac_row1_col1\" class=\"data row1 col1\" >0.000000</td>\n",
              "      <td id=\"T_a9eac_row1_col2\" class=\"data row1 col2\" >0.749482</td>\n",
              "      <td id=\"T_a9eac_row1_col3\" class=\"data row1 col3\" >0.000323</td>\n",
              "    </tr>\n",
              "    <tr>\n",
              "      <th id=\"T_a9eac_level0_row2\" class=\"row_heading level0 row2\" >red neuronal</th>\n",
              "      <td id=\"T_a9eac_row2_col0\" class=\"data row2 col0\" >0.745856</td>\n",
              "      <td id=\"T_a9eac_row2_col1\" class=\"data row2 col1\" >0.546482</td>\n",
              "      <td id=\"T_a9eac_row2_col2\" class=\"data row2 col2\" >0.683544</td>\n",
              "      <td id=\"T_a9eac_row2_col3\" class=\"data row2 col3\" >0.250978</td>\n",
              "    </tr>\n",
              "  </tbody>\n",
              "</table>\n",
              "</div><div style=\"display: inline-block; padding: 10px;\"><h3>Conjunto de Pruebas</h3><style type=\"text/css\">\n",
              "#T_65099_row0_col2, #T_65099_row1_col0, #T_65099_row1_col1, #T_65099_row1_col3 {\n",
              "  background-color: lightblue;\n",
              "}\n",
              "</style>\n",
              "<table id=\"T_65099\">\n",
              "  <thead>\n",
              "    <tr>\n",
              "      <th class=\"blank level0\" >&nbsp;</th>\n",
              "      <th id=\"T_65099_level0_col0\" class=\"col_heading level0 col0\" >Recall</th>\n",
              "      <th id=\"T_65099_level0_col1\" class=\"col_heading level0 col1\" >Recall Macro</th>\n",
              "      <th id=\"T_65099_level0_col2\" class=\"col_heading level0 col2\" >F1 Score</th>\n",
              "      <th id=\"T_65099_level0_col3\" class=\"col_heading level0 col3\" >Fit_Time</th>\n",
              "    </tr>\n",
              "  </thead>\n",
              "  <tbody>\n",
              "    <tr>\n",
              "      <th id=\"T_65099_level0_row0\" class=\"row_heading level0 row0\" >Dummy</th>\n",
              "      <td id=\"T_65099_row0_col0\" class=\"data row0 col0\" >0.000000</td>\n",
              "      <td id=\"T_65099_row0_col1\" class=\"data row0 col1\" >0.000000</td>\n",
              "      <td id=\"T_65099_row0_col2\" class=\"data row0 col2\" >0.774194</td>\n",
              "      <td id=\"T_65099_row0_col3\" class=\"data row0 col3\" >0.000509</td>\n",
              "    </tr>\n",
              "    <tr>\n",
              "      <th id=\"T_65099_level0_row1\" class=\"row_heading level0 row1\" >Ensemble</th>\n",
              "      <td id=\"T_65099_row1_col0\" class=\"data row1 col0\" >0.750000</td>\n",
              "      <td id=\"T_65099_row1_col1\" class=\"data row1 col1\" >0.482143</td>\n",
              "      <td id=\"T_65099_row1_col2\" class=\"data row1 col2\" >0.679245</td>\n",
              "      <td id=\"T_65099_row1_col3\" class=\"data row1 col3\" >1373.450654</td>\n",
              "    </tr>\n",
              "    <tr>\n",
              "      <th id=\"T_65099_level0_row2\" class=\"row_heading level0 row2\" >red neuronal</th>\n",
              "      <td id=\"T_65099_row2_col0\" class=\"data row2 col0\" >0.625000</td>\n",
              "      <td id=\"T_65099_row2_col1\" class=\"data row2 col1\" >0.455357</td>\n",
              "      <td id=\"T_65099_row2_col2\" class=\"data row2 col2\" >0.612245</td>\n",
              "      <td id=\"T_65099_row2_col3\" class=\"data row2 col3\" >0.250978</td>\n",
              "    </tr>\n",
              "  </tbody>\n",
              "</table>\n",
              "</div>"
            ]
          },
          "metadata": {},
          "output_type": "display_data"
        },
        {
          "data": {
            "application/javascript": [
              "\n",
              "            setTimeout(function() {\n",
              "                var nbb_cell_id = 59;\n",
              "                var nbb_unformatted_code = \"cuadro1 = {\\n    'Modelo': ['Dummy', 'red neuronal', 'Ensemble'],\\n    'Recall': [recall_tv_dum_res, recall_tv_red_res,  recall_tv_ensamble6_res_best],\\n    'Recall Macro': [recall_tv_macro_dum_res, recall_tv_macro_red_res, recall_tv_macro_ensamble6_res_best],\\n    'F1 Score': [f1_tv_dum_res, f1_tv_red_res, f1_tv_ensamble6_res_best],\\n    'Fit_Time': [tiempo_fit_dummy_res, tiempo_fit_red_res,tiempo_fit_ensamble6_res_best]\\n}\\n\\n# Crear un DataFrame para almacenar los resultados\\ncuadro1_df = pd.DataFrame(cuadro1,index=cuadro1[\\\"Modelo\\\"])\\ncuadro1_df.drop(columns=['Modelo'], inplace=True)\\n\\n# Ordenar el DataFrame por la columna F1_Tst de mayor a menor\\ncuadro1_df = cuadro1_df.sort_values(by='F1 Score', ascending=False)\\n\\n\\n# Evaluamos el rendimiento de los modelos con el conjunto de pruebas\\n\\nytest_pred = cross_val_predict(red_res, Xtest2, ytest2, cv=5)\\nrecall_test = recall_score(ytest2, ytest_pred, average='binary')\\nrecall_test_macro = recall_score(ytest2, ytest_pred, average='macro')\\nf1_test = f1_score(ytest2, ytest_pred, average='binary')\\n\\nytest_pred_ensamble6_best = ensamble6_res_best.predict(Xtest2)\\nrecall_test_ensamble6_res_best = recall_score(ytest2, ytest_pred_ensamble6_best, average='binary')\\nrecall_test_macro_ensamble6_res_best = recall_score(ytest2, ytest_pred_ensamble6_best, average='macro')\\nf1_test_ensamble6_res_best = f1_score(ytest2, ytest_pred_ensamble6_best, average='binary')\\n\\ncuadro2 = {\\n    'Modelo': ['Dummy', 'red neuronal', 'Ensemble'],\\n    'Recall': [recall_test_dum, recall_test, recall_test_ensamble6_res_best],\\n    'Recall Macro': [recall_test_macro_dum, recall_test_macro, recall_test_macro_ensamble6_res_best],\\n    'F1 Score': [f1_test_dum, f1_test, f1_test_ensamble6_res_best],\\n    'Fit_Time': [tiempo_fit_dummy, tiempo_fit_red_res,tiempo_fit_ensamble6_res_best]\\n}\\n\\n# Crear un DataFrame para almacenar los resultados\\ncuadro2_df = pd.DataFrame(cuadro2,index=cuadro2[\\\"Modelo\\\"])\\ncuadro2_df.drop(columns=['Modelo'], inplace=True)\\n\\n# Ordenar el DataFrame por la columna F1_Tst de mayor a menor\\ncuadro2_df = cuadro2_df.sort_values(by='F1 Score', ascending=False)\\n\\n# Aqu\\u00ed puedes especificar el axis=0 para columnas o axis=1 para filas\\ndisplay_side_by_side([cuadro1_df, cuadro2_df], ['Conjunto de Entrenamiento', 'Conjunto de Pruebas'],\\n                     color='lightblue', axis=0)\";\n",
              "                var nbb_formatted_code = \"cuadro1 = {\\n    \\\"Modelo\\\": [\\\"Dummy\\\", \\\"red neuronal\\\", \\\"Ensemble\\\"],\\n    \\\"Recall\\\": [recall_tv_dum_res, recall_tv_red_res, recall_tv_ensamble6_res_best],\\n    \\\"Recall Macro\\\": [\\n        recall_tv_macro_dum_res,\\n        recall_tv_macro_red_res,\\n        recall_tv_macro_ensamble6_res_best,\\n    ],\\n    \\\"F1 Score\\\": [f1_tv_dum_res, f1_tv_red_res, f1_tv_ensamble6_res_best],\\n    \\\"Fit_Time\\\": [\\n        tiempo_fit_dummy_res,\\n        tiempo_fit_red_res,\\n        tiempo_fit_ensamble6_res_best,\\n    ],\\n}\\n\\n# Crear un DataFrame para almacenar los resultados\\ncuadro1_df = pd.DataFrame(cuadro1, index=cuadro1[\\\"Modelo\\\"])\\ncuadro1_df.drop(columns=[\\\"Modelo\\\"], inplace=True)\\n\\n# Ordenar el DataFrame por la columna F1_Tst de mayor a menor\\ncuadro1_df = cuadro1_df.sort_values(by=\\\"F1 Score\\\", ascending=False)\\n\\n\\n# Evaluamos el rendimiento de los modelos con el conjunto de pruebas\\n\\nytest_pred = cross_val_predict(red_res, Xtest2, ytest2, cv=5)\\nrecall_test = recall_score(ytest2, ytest_pred, average=\\\"binary\\\")\\nrecall_test_macro = recall_score(ytest2, ytest_pred, average=\\\"macro\\\")\\nf1_test = f1_score(ytest2, ytest_pred, average=\\\"binary\\\")\\n\\nytest_pred_ensamble6_best = ensamble6_res_best.predict(Xtest2)\\nrecall_test_ensamble6_res_best = recall_score(\\n    ytest2, ytest_pred_ensamble6_best, average=\\\"binary\\\"\\n)\\nrecall_test_macro_ensamble6_res_best = recall_score(\\n    ytest2, ytest_pred_ensamble6_best, average=\\\"macro\\\"\\n)\\nf1_test_ensamble6_res_best = f1_score(\\n    ytest2, ytest_pred_ensamble6_best, average=\\\"binary\\\"\\n)\\n\\ncuadro2 = {\\n    \\\"Modelo\\\": [\\\"Dummy\\\", \\\"red neuronal\\\", \\\"Ensemble\\\"],\\n    \\\"Recall\\\": [recall_test_dum, recall_test, recall_test_ensamble6_res_best],\\n    \\\"Recall Macro\\\": [\\n        recall_test_macro_dum,\\n        recall_test_macro,\\n        recall_test_macro_ensamble6_res_best,\\n    ],\\n    \\\"F1 Score\\\": [f1_test_dum, f1_test, f1_test_ensamble6_res_best],\\n    \\\"Fit_Time\\\": [tiempo_fit_dummy, tiempo_fit_red_res, tiempo_fit_ensamble6_res_best],\\n}\\n\\n# Crear un DataFrame para almacenar los resultados\\ncuadro2_df = pd.DataFrame(cuadro2, index=cuadro2[\\\"Modelo\\\"])\\ncuadro2_df.drop(columns=[\\\"Modelo\\\"], inplace=True)\\n\\n# Ordenar el DataFrame por la columna F1_Tst de mayor a menor\\ncuadro2_df = cuadro2_df.sort_values(by=\\\"F1 Score\\\", ascending=False)\\n\\n# Aqu\\u00ed puedes especificar el axis=0 para columnas o axis=1 para filas\\ndisplay_side_by_side(\\n    [cuadro1_df, cuadro2_df],\\n    [\\\"Conjunto de Entrenamiento\\\", \\\"Conjunto de Pruebas\\\"],\\n    color=\\\"lightblue\\\",\\n    axis=0,\\n)\";\n",
              "                var nbb_cells = Jupyter.notebook.get_cells();\n",
              "                for (var i = 0; i < nbb_cells.length; ++i) {\n",
              "                    if (nbb_cells[i].input_prompt_number == nbb_cell_id) {\n",
              "                        if (nbb_cells[i].get_text() == nbb_unformatted_code) {\n",
              "                             nbb_cells[i].set_text(nbb_formatted_code);\n",
              "                        }\n",
              "                        break;\n",
              "                    }\n",
              "                }\n",
              "            }, 500);\n",
              "            "
            ],
            "text/plain": [
              "<IPython.core.display.Javascript object>"
            ]
          },
          "metadata": {},
          "output_type": "display_data"
        }
      ],
      "source": [
        "cuadro1 = {\n",
        "    \"Modelo\": [\"Dummy\", \"red neuronal\", \"Ensemble\"],\n",
        "    \"Recall\": [recall_tv_dum_res, recall_tv_red_res, recall_tv_ensamble6_res_best],\n",
        "    \"Recall Macro\": [\n",
        "        recall_tv_macro_dum_res,\n",
        "        recall_tv_macro_red_res,\n",
        "        recall_tv_macro_ensamble6_res_best,\n",
        "    ],\n",
        "    \"F1 Score\": [f1_tv_dum_res, f1_tv_red_res, f1_tv_ensamble6_res_best],\n",
        "    \"Fit_Time\": [\n",
        "        tiempo_fit_dummy_res,\n",
        "        tiempo_fit_red_res,\n",
        "        tiempo_fit_ensamble6_res_best,\n",
        "    ],\n",
        "}\n",
        "\n",
        "# Crear un DataFrame para almacenar los resultados\n",
        "cuadro1_df = pd.DataFrame(cuadro1, index=cuadro1[\"Modelo\"])\n",
        "cuadro1_df.drop(columns=[\"Modelo\"], inplace=True)\n",
        "\n",
        "# Ordenar el DataFrame por la columna F1_Tst de mayor a menor\n",
        "cuadro1_df = cuadro1_df.sort_values(by=\"F1 Score\", ascending=False)\n",
        "\n",
        "\n",
        "# Evaluamos el rendimiento de los modelos con el conjunto de pruebas\n",
        "\n",
        "ytest_pred = cross_val_predict(red_res, Xtest2, ytest2, cv=5)\n",
        "recall_test = recall_score(ytest2, ytest_pred, average=\"binary\")\n",
        "recall_test_macro = recall_score(ytest2, ytest_pred, average=\"macro\")\n",
        "f1_test = f1_score(ytest2, ytest_pred, average=\"binary\")\n",
        "\n",
        "ytest_pred_ensamble6_best = ensamble6_res_best.predict(Xtest2)\n",
        "recall_test_ensamble6_res_best = recall_score(\n",
        "    ytest2, ytest_pred_ensamble6_best, average=\"binary\"\n",
        ")\n",
        "recall_test_macro_ensamble6_res_best = recall_score(\n",
        "    ytest2, ytest_pred_ensamble6_best, average=\"macro\"\n",
        ")\n",
        "f1_test_ensamble6_res_best = f1_score(\n",
        "    ytest2, ytest_pred_ensamble6_best, average=\"binary\"\n",
        ")\n",
        "\n",
        "cuadro2 = {\n",
        "    \"Modelo\": [\"Dummy\", \"red neuronal\", \"Ensemble\"],\n",
        "    \"Recall\": [recall_test_dum, recall_test, recall_test_ensamble6_res_best],\n",
        "    \"Recall Macro\": [\n",
        "        recall_test_macro_dum,\n",
        "        recall_test_macro,\n",
        "        recall_test_macro_ensamble6_res_best,\n",
        "    ],\n",
        "    \"F1 Score\": [f1_test_dum, f1_test, f1_test_ensamble6_res_best],\n",
        "    \"Fit_Time\": [tiempo_fit_dummy, tiempo_fit_red_res, tiempo_fit_ensamble6_res_best],\n",
        "}\n",
        "\n",
        "# Crear un DataFrame para almacenar los resultados\n",
        "cuadro2_df = pd.DataFrame(cuadro2, index=cuadro2[\"Modelo\"])\n",
        "cuadro2_df.drop(columns=[\"Modelo\"], inplace=True)\n",
        "\n",
        "# Ordenar el DataFrame por la columna F1_Tst de mayor a menor\n",
        "cuadro2_df = cuadro2_df.sort_values(by=\"F1 Score\", ascending=False)\n",
        "\n",
        "# Aquí puedes especificar el axis=0 para columnas o axis=1 para filas\n",
        "display_side_by_side(\n",
        "    [cuadro1_df, cuadro2_df],\n",
        "    [\"Conjunto de Entrenamiento\", \"Conjunto de Pruebas\"],\n",
        "    color=\"lightblue\",\n",
        "    axis=0,\n",
        ")"
      ]
    },
    {
      "cell_type": "code",
      "execution_count": null,
      "id": "8kd18I1YFFCz",
      "metadata": {
        "colab": {
          "base_uri": "https://localhost:8080/",
          "height": 607
        },
        "id": "8kd18I1YFFCz",
        "outputId": "ca293fd4-cdf2-470b-e7bb-e5573e5aa288"
      },
      "outputs": [
        {
          "data": {
            "image/png": "[encoded data removed]",
            "text/plain": [
              "<Figure size 1008x432 with 2 Axes>"
            ]
          },
          "metadata": {
            "needs_background": "light"
          },
          "output_type": "display_data"
        },
        {
          "data": {
            "application/javascript": [
              "\n",
              "            setTimeout(function() {\n",
              "                var nbb_cell_id = 60;\n",
              "                var nbb_unformatted_code = \"# Generar las matrices de confusi\\u00f3n\\ncm_tv = confusion_matrix(Ytv2_res, ytv_pred_ensamble6_best)\\ncm_test = confusion_matrix(ytest2, ytest_pred_ensamble6_best)\\n\\n# Crear DataFrames de las matrices de confusi\\u00f3n\\ncm_tv_df = pd.DataFrame(cm_tv, index=[0, 1], columns=[0, 1])\\ncm_test_df = pd.DataFrame(cm_test, index=[0, 1], columns=[0, 1])\\n\\n# Crear el heatmap usando seaborn\\nplt.figure(figsize=(14, 6))\\n\\n# Heatmap de la matriz de confusi\\u00f3n de entrenamiento\\nplt.subplot(1, 2, 1)\\nsns.heatmap(cm_tv_df, annot=True, fmt='d', cmap='Blues', cbar=False)\\nplt.title('Matriz de Confusi\\u00f3n - Entrenamiento')\\nplt.xlabel('Predicted')\\nplt.ylabel('Actual')\\n\\n# Heatmap de la matriz de confusi\\u00f3n de prueba\\nplt.subplot(1, 2, 2)\\nsns.heatmap(cm_test_df, annot=True, fmt='d', cmap='Blues', cbar=False)\\nplt.title('Matriz de Confusi\\u00f3n - Prueba')\\nplt.xlabel('Predicted')\\nplt.ylabel('Actual')\\n\\n# Mostrar las gr\\u00e1ficas\\nplt.tight_layout()\\nplt.show()\";\n",
              "                var nbb_formatted_code = \"# Generar las matrices de confusi\\u00f3n\\ncm_tv = confusion_matrix(Ytv2_res, ytv_pred_ensamble6_best)\\ncm_test = confusion_matrix(ytest2, ytest_pred_ensamble6_best)\\n\\n# Crear DataFrames de las matrices de confusi\\u00f3n\\ncm_tv_df = pd.DataFrame(cm_tv, index=[0, 1], columns=[0, 1])\\ncm_test_df = pd.DataFrame(cm_test, index=[0, 1], columns=[0, 1])\\n\\n# Crear el heatmap usando seaborn\\nplt.figure(figsize=(14, 6))\\n\\n# Heatmap de la matriz de confusi\\u00f3n de entrenamiento\\nplt.subplot(1, 2, 1)\\nsns.heatmap(cm_tv_df, annot=True, fmt=\\\"d\\\", cmap=\\\"Blues\\\", cbar=False)\\nplt.title(\\\"Matriz de Confusi\\u00f3n - Entrenamiento\\\")\\nplt.xlabel(\\\"Predicted\\\")\\nplt.ylabel(\\\"Actual\\\")\\n\\n# Heatmap de la matriz de confusi\\u00f3n de prueba\\nplt.subplot(1, 2, 2)\\nsns.heatmap(cm_test_df, annot=True, fmt=\\\"d\\\", cmap=\\\"Blues\\\", cbar=False)\\nplt.title(\\\"Matriz de Confusi\\u00f3n - Prueba\\\")\\nplt.xlabel(\\\"Predicted\\\")\\nplt.ylabel(\\\"Actual\\\")\\n\\n# Mostrar las gr\\u00e1ficas\\nplt.tight_layout()\\nplt.show()\";\n",
              "                var nbb_cells = Jupyter.notebook.get_cells();\n",
              "                for (var i = 0; i < nbb_cells.length; ++i) {\n",
              "                    if (nbb_cells[i].input_prompt_number == nbb_cell_id) {\n",
              "                        if (nbb_cells[i].get_text() == nbb_unformatted_code) {\n",
              "                             nbb_cells[i].set_text(nbb_formatted_code);\n",
              "                        }\n",
              "                        break;\n",
              "                    }\n",
              "                }\n",
              "            }, 500);\n",
              "            "
            ],
            "text/plain": [
              "<IPython.core.display.Javascript object>"
            ]
          },
          "metadata": {},
          "output_type": "display_data"
        }
      ],
      "source": [
        "# Generar las matrices de confusión\n",
        "cm_tv = confusion_matrix(Ytv2_res, ytv_pred_ensamble6_best)\n",
        "cm_test = confusion_matrix(ytest2, ytest_pred_ensamble6_best)\n",
        "\n",
        "# Crear DataFrames de las matrices de confusión\n",
        "cm_tv_df = pd.DataFrame(cm_tv, index=[0, 1], columns=[0, 1])\n",
        "cm_test_df = pd.DataFrame(cm_test, index=[0, 1], columns=[0, 1])\n",
        "\n",
        "# Crear el heatmap usando seaborn\n",
        "plt.figure(figsize=(14, 6))\n",
        "\n",
        "# Heatmap de la matriz de confusión de entrenamiento\n",
        "plt.subplot(1, 2, 1)\n",
        "sns.heatmap(cm_tv_df, annot=True, fmt=\"d\", cmap=\"Blues\", cbar=False)\n",
        "plt.title(\"Matriz de Confusión - Entrenamiento\")\n",
        "plt.xlabel(\"Predicted\")\n",
        "plt.ylabel(\"Actual\")\n",
        "\n",
        "# Heatmap de la matriz de confusión de prueba\n",
        "plt.subplot(1, 2, 2)\n",
        "sns.heatmap(cm_test_df, annot=True, fmt=\"d\", cmap=\"Blues\", cbar=False)\n",
        "plt.title(\"Matriz de Confusión - Prueba\")\n",
        "plt.xlabel(\"Predicted\")\n",
        "plt.ylabel(\"Actual\")\n",
        "\n",
        "# Mostrar las gráficas\n",
        "plt.tight_layout()\n",
        "plt.show()"
      ]
    },
    {
      "cell_type": "markdown",
      "id": "a0d79b23",
      "metadata": {
        "id": "a0d79b23"
      },
      "source": [
        "### **Conclusiones**"
      ]
    },
    {
      "cell_type": "code",
      "execution_count": null,
      "id": "6bf673c9",
      "metadata": {
        "id": "6bf673c9",
        "outputId": "1a372a9f-23b0-417b-9d7c-0f57b28a62cb"
      },
      "outputs": [
        {
          "name": "stdout",
          "output_type": "stream",
          "text": [
            "Resumen mejores modelos semana 5\n"
          ]
        },
        {
          "data": {
            "text/html": [
              "<div style=\"display: inline-block; padding: 10px;\"><h3>Conjunto de Entrenamiento</h3><style type=\"text/css\">\n",
              "#T_dbc96_row0_col0, #T_dbc96_row0_col1, #T_dbc96_row0_col2, #T_dbc96_row0_col3 {\n",
              "  background-color: lightblue;\n",
              "}\n",
              "</style>\n",
              "<table id=\"T_dbc96\">\n",
              "  <thead>\n",
              "    <tr>\n",
              "      <th class=\"blank level0\" >&nbsp;</th>\n",
              "      <th id=\"T_dbc96_level0_col0\" class=\"col_heading level0 col0\" >Recall</th>\n",
              "      <th id=\"T_dbc96_level0_col1\" class=\"col_heading level0 col1\" >Recall Macro</th>\n",
              "      <th id=\"T_dbc96_level0_col2\" class=\"col_heading level0 col2\" >F1 Score</th>\n",
              "      <th id=\"T_dbc96_level0_col3\" class=\"col_heading level0 col3\" >Fit_Time</th>\n",
              "    </tr>\n",
              "  </thead>\n",
              "  <tbody>\n",
              "    <tr>\n",
              "      <th id=\"T_dbc96_level0_row0\" class=\"row_heading level0 row0\" >Bagging - RedNeuronal</th>\n",
              "      <td id=\"T_dbc96_row0_col0\" class=\"data row0 col0\" >1.000000</td>\n",
              "      <td id=\"T_dbc96_row0_col1\" class=\"data row0 col1\" >0.995868</td>\n",
              "      <td id=\"T_dbc96_row0_col2\" class=\"data row0 col2\" >0.997743</td>\n",
              "      <td id=\"T_dbc96_row0_col3\" class=\"data row0 col3\" >47.840726</td>\n",
              "    </tr>\n",
              "    <tr>\n",
              "      <th id=\"T_dbc96_level0_row1\" class=\"row_heading level0 row1\" >Stacking - RegLog&SVM</th>\n",
              "      <td id=\"T_dbc96_row1_col0\" class=\"data row1 col0\" >0.877828</td>\n",
              "      <td id=\"T_dbc96_row1_col1\" class=\"data row1 col1\" >0.641393</td>\n",
              "      <td id=\"T_dbc96_row1_col2\" class=\"data row1 col2\" >0.796715</td>\n",
              "      <td id=\"T_dbc96_row1_col3\" class=\"data row1 col3\" >0.002521</td>\n",
              "    </tr>\n",
              "    <tr>\n",
              "      <th id=\"T_dbc96_level0_row2\" class=\"row_heading level0 row2\" >Dummy</th>\n",
              "      <td id=\"T_dbc96_row2_col0\" class=\"data row2 col0\" >0.000000</td>\n",
              "      <td id=\"T_dbc96_row2_col1\" class=\"data row2 col1\" >0.000000</td>\n",
              "      <td id=\"T_dbc96_row2_col2\" class=\"data row2 col2\" >0.785080</td>\n",
              "      <td id=\"T_dbc96_row2_col3\" class=\"data row2 col3\" >0.000509</td>\n",
              "    </tr>\n",
              "    <tr>\n",
              "      <th id=\"T_dbc96_level0_row3\" class=\"row_heading level0 row3\" >Bagging – Reg Log</th>\n",
              "      <td id=\"T_dbc96_row3_col0\" class=\"data row3 col0\" >0.733032</td>\n",
              "      <td id=\"T_dbc96_row3_col1\" class=\"data row3 col1\" >0.688830</td>\n",
              "      <td id=\"T_dbc96_row3_col2\" class=\"data row3 col2\" >0.760563</td>\n",
              "      <td id=\"T_dbc96_row3_col3\" class=\"data row3 col3\" >1.042058</td>\n",
              "    </tr>\n",
              "  </tbody>\n",
              "</table>\n",
              "</div><div style=\"display: inline-block; padding: 10px;\"><h3>Conjunto de Pruebas</h3><style type=\"text/css\">\n",
              "#T_524e8_row0_col2, #T_524e8_row1_col0, #T_524e8_row1_col1, #T_524e8_row1_col3, #T_524e8_row2_col0 {\n",
              "  background-color: lightblue;\n",
              "}\n",
              "</style>\n",
              "<table id=\"T_524e8\">\n",
              "  <thead>\n",
              "    <tr>\n",
              "      <th class=\"blank level0\" >&nbsp;</th>\n",
              "      <th id=\"T_524e8_level0_col0\" class=\"col_heading level0 col0\" >Recall</th>\n",
              "      <th id=\"T_524e8_level0_col1\" class=\"col_heading level0 col1\" >Recall Macro</th>\n",
              "      <th id=\"T_524e8_level0_col2\" class=\"col_heading level0 col2\" >F1 Score</th>\n",
              "      <th id=\"T_524e8_level0_col3\" class=\"col_heading level0 col3\" >Fit_Time</th>\n",
              "    </tr>\n",
              "  </thead>\n",
              "  <tbody>\n",
              "    <tr>\n",
              "      <th id=\"T_524e8_level0_row0\" class=\"row_heading level0 row0\" >Dummy</th>\n",
              "      <td id=\"T_524e8_row0_col0\" class=\"data row0 col0\" >0.000000</td>\n",
              "      <td id=\"T_524e8_row0_col1\" class=\"data row0 col1\" >0.000000</td>\n",
              "      <td id=\"T_524e8_row0_col2\" class=\"data row0 col2\" >0.774194</td>\n",
              "      <td id=\"T_524e8_row0_col3\" class=\"data row0 col3\" >0.000509</td>\n",
              "    </tr>\n",
              "    <tr>\n",
              "      <th id=\"T_524e8_level0_row1\" class=\"row_heading level0 row1\" >Bagging - RedNeuronal</th>\n",
              "      <td id=\"T_524e8_row1_col0\" class=\"data row1 col0\" >0.791667</td>\n",
              "      <td id=\"T_524e8_row1_col1\" class=\"data row1 col1\" >0.610119</td>\n",
              "      <td id=\"T_524e8_row1_col2\" class=\"data row1 col2\" >0.745098</td>\n",
              "      <td id=\"T_524e8_row1_col3\" class=\"data row1 col3\" >47.840726</td>\n",
              "    </tr>\n",
              "    <tr>\n",
              "      <th id=\"T_524e8_level0_row2\" class=\"row_heading level0 row2\" >Stacking - RegLog&SVM</th>\n",
              "      <td id=\"T_524e8_row2_col0\" class=\"data row2 col0\" >0.791667</td>\n",
              "      <td id=\"T_524e8_row2_col1\" class=\"data row2 col1\" >0.538690</td>\n",
              "      <td id=\"T_524e8_row2_col2\" class=\"data row2 col2\" >0.716981</td>\n",
              "      <td id=\"T_524e8_row2_col3\" class=\"data row2 col3\" >0.002521</td>\n",
              "    </tr>\n",
              "    <tr>\n",
              "      <th id=\"T_524e8_level0_row3\" class=\"row_heading level0 row3\" >Bagging – Reg Log</th>\n",
              "      <td id=\"T_524e8_row3_col0\" class=\"data row3 col0\" >0.666667</td>\n",
              "      <td id=\"T_524e8_row3_col1\" class=\"data row3 col1\" >0.547619</td>\n",
              "      <td id=\"T_524e8_row3_col2\" class=\"data row3 col2\" >0.666667</td>\n",
              "      <td id=\"T_524e8_row3_col3\" class=\"data row3 col3\" >1.042058</td>\n",
              "    </tr>\n",
              "  </tbody>\n",
              "</table>\n",
              "</div>"
            ]
          },
          "metadata": {},
          "output_type": "display_data"
        },
        {
          "data": {
            "application/javascript": [
              "\n",
              "            setTimeout(function() {\n",
              "                var nbb_cell_id = 61;\n",
              "                var nbb_unformatted_code = \"# Resumen mejores modelos semana 5\\n\\ncuadro1 = {\\n    'Modelo': ['Dummy', 'Stacking - RegLog&SVM', 'Bagging \\u2013 Reg Log', 'Bagging - RedNeuronal'],\\n    'Recall': [recall_tv_dum, recall_tv_ensamble1, recall_tv_ensamble4, recall_tv_ensamble6],\\n    'Recall Macro': [recall_tv_macro_dum, recall_tv_macro_ensamble1, recall_tv_macro_ensamble4, recall_tv_macro_ensamble6],\\n    'F1 Score': [f1_tv_dum, f1_tv_ensamble1, f1_tv_ensamble4, f1_tv_ensamble6],\\n    'Fit_Time': [tiempo_fit_dummy, tiempo_fit_ensamble1, tiempo_fit_ensamble4, tiempo_fit_ensamble6]\\n}\\n\\n# Crear un DataFrame para almacenar los resultados\\ncuadro1_df = pd.DataFrame(cuadro1,index=cuadro1[\\\"Modelo\\\"])\\ncuadro1_df.drop(columns=['Modelo'], inplace=True)\\n\\n# Ordenar el DataFrame por la columna F1_Tst de mayor a menor\\ncuadro1_df = cuadro1_df.sort_values(by='F1 Score', ascending=False)\\n\\n\\ncuadro2 = {\\n    'Modelo': ['Dummy', 'Stacking - RegLog&SVM', 'Bagging \\u2013 Reg Log', 'Bagging - RedNeuronal'],\\n    'Recall': [recall_test_dum, recall_test_ensamble1, recall_test_ensamble4, recall_test_ensamble6],\\n    'Recall Macro': [recall_test_macro_dum, recall_test_macro_ensamble1, recall_test_macro_ensamble4, recall_test_macro_ensamble6],\\n    'F1 Score': [f1_test_dum, f1_test_ensamble1, f1_test_ensamble4, f1_test_ensamble6],\\n    'Fit_Time': [tiempo_fit_dummy, tiempo_fit_ensamble1, tiempo_fit_ensamble4, tiempo_fit_ensamble6]\\n}\\n\\n# Crear un DataFrame para almacenar los resultados\\ncuadro2_df = pd.DataFrame(cuadro2,index=cuadro2[\\\"Modelo\\\"])\\ncuadro2_df.drop(columns=['Modelo'], inplace=True)\\n\\n# Ordenar el DataFrame por la columna F1_Tst de mayor a menor\\ncuadro2_df = cuadro2_df.sort_values(by='F1 Score', ascending=False)\\n\\nprint('Resumen mejores modelos semana 5')\\n\\n# Aqu\\u00ed puedes especificar el axis=0 para columnas o axis=1 para filas\\ndisplay_side_by_side([cuadro1_df, cuadro2_df], ['Conjunto de Entrenamiento', 'Conjunto de Pruebas'],\\n                     color='lightblue', axis=0)\";\n",
              "                var nbb_formatted_code = \"# Resumen mejores modelos semana 5\\n\\ncuadro1 = {\\n    \\\"Modelo\\\": [\\n        \\\"Dummy\\\",\\n        \\\"Stacking - RegLog&SVM\\\",\\n        \\\"Bagging \\u2013 Reg Log\\\",\\n        \\\"Bagging - RedNeuronal\\\",\\n    ],\\n    \\\"Recall\\\": [\\n        recall_tv_dum,\\n        recall_tv_ensamble1,\\n        recall_tv_ensamble4,\\n        recall_tv_ensamble6,\\n    ],\\n    \\\"Recall Macro\\\": [\\n        recall_tv_macro_dum,\\n        recall_tv_macro_ensamble1,\\n        recall_tv_macro_ensamble4,\\n        recall_tv_macro_ensamble6,\\n    ],\\n    \\\"F1 Score\\\": [f1_tv_dum, f1_tv_ensamble1, f1_tv_ensamble4, f1_tv_ensamble6],\\n    \\\"Fit_Time\\\": [\\n        tiempo_fit_dummy,\\n        tiempo_fit_ensamble1,\\n        tiempo_fit_ensamble4,\\n        tiempo_fit_ensamble6,\\n    ],\\n}\\n\\n# Crear un DataFrame para almacenar los resultados\\ncuadro1_df = pd.DataFrame(cuadro1, index=cuadro1[\\\"Modelo\\\"])\\ncuadro1_df.drop(columns=[\\\"Modelo\\\"], inplace=True)\\n\\n# Ordenar el DataFrame por la columna F1_Tst de mayor a menor\\ncuadro1_df = cuadro1_df.sort_values(by=\\\"F1 Score\\\", ascending=False)\\n\\n\\ncuadro2 = {\\n    \\\"Modelo\\\": [\\n        \\\"Dummy\\\",\\n        \\\"Stacking - RegLog&SVM\\\",\\n        \\\"Bagging \\u2013 Reg Log\\\",\\n        \\\"Bagging - RedNeuronal\\\",\\n    ],\\n    \\\"Recall\\\": [\\n        recall_test_dum,\\n        recall_test_ensamble1,\\n        recall_test_ensamble4,\\n        recall_test_ensamble6,\\n    ],\\n    \\\"Recall Macro\\\": [\\n        recall_test_macro_dum,\\n        recall_test_macro_ensamble1,\\n        recall_test_macro_ensamble4,\\n        recall_test_macro_ensamble6,\\n    ],\\n    \\\"F1 Score\\\": [f1_test_dum, f1_test_ensamble1, f1_test_ensamble4, f1_test_ensamble6],\\n    \\\"Fit_Time\\\": [\\n        tiempo_fit_dummy,\\n        tiempo_fit_ensamble1,\\n        tiempo_fit_ensamble4,\\n        tiempo_fit_ensamble6,\\n    ],\\n}\\n\\n# Crear un DataFrame para almacenar los resultados\\ncuadro2_df = pd.DataFrame(cuadro2, index=cuadro2[\\\"Modelo\\\"])\\ncuadro2_df.drop(columns=[\\\"Modelo\\\"], inplace=True)\\n\\n# Ordenar el DataFrame por la columna F1_Tst de mayor a menor\\ncuadro2_df = cuadro2_df.sort_values(by=\\\"F1 Score\\\", ascending=False)\\n\\nprint(\\\"Resumen mejores modelos semana 5\\\")\\n\\n# Aqu\\u00ed puedes especificar el axis=0 para columnas o axis=1 para filas\\ndisplay_side_by_side(\\n    [cuadro1_df, cuadro2_df],\\n    [\\\"Conjunto de Entrenamiento\\\", \\\"Conjunto de Pruebas\\\"],\\n    color=\\\"lightblue\\\",\\n    axis=0,\\n)\";\n",
              "                var nbb_cells = Jupyter.notebook.get_cells();\n",
              "                for (var i = 0; i < nbb_cells.length; ++i) {\n",
              "                    if (nbb_cells[i].input_prompt_number == nbb_cell_id) {\n",
              "                        if (nbb_cells[i].get_text() == nbb_unformatted_code) {\n",
              "                             nbb_cells[i].set_text(nbb_formatted_code);\n",
              "                        }\n",
              "                        break;\n",
              "                    }\n",
              "                }\n",
              "            }, 500);\n",
              "            "
            ],
            "text/plain": [
              "<IPython.core.display.Javascript object>"
            ]
          },
          "metadata": {},
          "output_type": "display_data"
        }
      ],
      "source": [
        "# Resumen mejores modelos semana 5\n",
        "\n",
        "cuadro1 = {\n",
        "    \"Modelo\": [\n",
        "        \"Dummy\",\n",
        "        \"Stacking - RegLog&SVM\",\n",
        "        \"Bagging – Reg Log\",\n",
        "        \"Bagging - RedNeuronal\",\n",
        "    ],\n",
        "    \"Recall\": [\n",
        "        recall_tv_dum,\n",
        "        recall_tv_ensamble1,\n",
        "        recall_tv_ensamble4,\n",
        "        recall_tv_ensamble6,\n",
        "    ],\n",
        "    \"Recall Macro\": [\n",
        "        recall_tv_macro_dum,\n",
        "        recall_tv_macro_ensamble1,\n",
        "        recall_tv_macro_ensamble4,\n",
        "        recall_tv_macro_ensamble6,\n",
        "    ],\n",
        "    \"F1 Score\": [f1_tv_dum, f1_tv_ensamble1, f1_tv_ensamble4, f1_tv_ensamble6],\n",
        "    \"Fit_Time\": [\n",
        "        tiempo_fit_dummy,\n",
        "        tiempo_fit_ensamble1,\n",
        "        tiempo_fit_ensamble4,\n",
        "        tiempo_fit_ensamble6,\n",
        "    ],\n",
        "}\n",
        "\n",
        "# Crear un DataFrame para almacenar los resultados\n",
        "cuadro1_df = pd.DataFrame(cuadro1, index=cuadro1[\"Modelo\"])\n",
        "cuadro1_df.drop(columns=[\"Modelo\"], inplace=True)\n",
        "\n",
        "# Ordenar el DataFrame por la columna F1_Tst de mayor a menor\n",
        "cuadro1_df = cuadro1_df.sort_values(by=\"F1 Score\", ascending=False)\n",
        "\n",
        "\n",
        "cuadro2 = {\n",
        "    \"Modelo\": [\n",
        "        \"Dummy\",\n",
        "        \"Stacking - RegLog&SVM\",\n",
        "        \"Bagging – Reg Log\",\n",
        "        \"Bagging - RedNeuronal\",\n",
        "    ],\n",
        "    \"Recall\": [\n",
        "        recall_test_dum,\n",
        "        recall_test_ensamble1,\n",
        "        recall_test_ensamble4,\n",
        "        recall_test_ensamble6,\n",
        "    ],\n",
        "    \"Recall Macro\": [\n",
        "        recall_test_macro_dum,\n",
        "        recall_test_macro_ensamble1,\n",
        "        recall_test_macro_ensamble4,\n",
        "        recall_test_macro_ensamble6,\n",
        "    ],\n",
        "    \"F1 Score\": [f1_test_dum, f1_test_ensamble1, f1_test_ensamble4, f1_test_ensamble6],\n",
        "    \"Fit_Time\": [\n",
        "        tiempo_fit_dummy,\n",
        "        tiempo_fit_ensamble1,\n",
        "        tiempo_fit_ensamble4,\n",
        "        tiempo_fit_ensamble6,\n",
        "    ],\n",
        "}\n",
        "\n",
        "# Crear un DataFrame para almacenar los resultados\n",
        "cuadro2_df = pd.DataFrame(cuadro2, index=cuadro2[\"Modelo\"])\n",
        "cuadro2_df.drop(columns=[\"Modelo\"], inplace=True)\n",
        "\n",
        "# Ordenar el DataFrame por la columna F1_Tst de mayor a menor\n",
        "cuadro2_df = cuadro2_df.sort_values(by=\"F1 Score\", ascending=False)\n",
        "\n",
        "print(\"Resumen mejores modelos semana 5\")\n",
        "\n",
        "# Aquí puedes especificar el axis=0 para columnas o axis=1 para filas\n",
        "display_side_by_side(\n",
        "    [cuadro1_df, cuadro2_df],\n",
        "    [\"Conjunto de Entrenamiento\", \"Conjunto de Pruebas\"],\n",
        "    color=\"lightblue\",\n",
        "    axis=0,\n",
        ")"
      ]
    },
    {
      "cell_type": "markdown",
      "id": "865550f4",
      "metadata": {
        "id": "865550f4"
      },
      "source": [
        "Del grupo de mejores modelos de la semana 5 podemos observar que:\n",
        "- El modelo de Bagging - Red Neuronal presenta sobreajuste por lo que se descarta como un mejor modelo final.\n",
        "- El modelo Stacking - RegLog&SVM se ve como la mejor alternativa entre los 3, aunque para el conjunto de pruebas el F1 Score de este modelo no supera el del modelo Dummy.\n",
        "- El modelo Bagging – Reg Log solo obtiene un 67% de Recall en el conjunto de pruebas por lo que podríamos decir que esta subajustado."
      ]
    },
    {
      "cell_type": "code",
      "execution_count": null,
      "id": "cb024f83",
      "metadata": {
        "id": "cb024f83",
        "outputId": "cdad4acc-f07a-43cf-cf1a-5212bb706f91"
      },
      "outputs": [
        {
          "name": "stdout",
          "output_type": "stream",
          "text": [
            "Resumen modelos con mejores hiperpaámetros de los mejores modelos semana 5\n"
          ]
        },
        {
          "data": {
            "text/html": [
              "<div style=\"display: inline-block; padding: 10px;\"><h3>Conjunto de Entrenamiento</h3><style type=\"text/css\">\n",
              "#T_82bb5_row0_col0, #T_82bb5_row0_col1, #T_82bb5_row0_col2, #T_82bb5_row0_col3 {\n",
              "  background-color: lightblue;\n",
              "}\n",
              "</style>\n",
              "<table id=\"T_82bb5\">\n",
              "  <thead>\n",
              "    <tr>\n",
              "      <th class=\"blank level0\" >&nbsp;</th>\n",
              "      <th id=\"T_82bb5_level0_col0\" class=\"col_heading level0 col0\" >Recall</th>\n",
              "      <th id=\"T_82bb5_level0_col1\" class=\"col_heading level0 col1\" >Recall Macro</th>\n",
              "      <th id=\"T_82bb5_level0_col2\" class=\"col_heading level0 col2\" >F1 Score</th>\n",
              "      <th id=\"T_82bb5_level0_col3\" class=\"col_heading level0 col3\" >Fit_Time</th>\n",
              "    </tr>\n",
              "  </thead>\n",
              "  <tbody>\n",
              "    <tr>\n",
              "      <th id=\"T_82bb5_level0_row0\" class=\"row_heading level0 row0\" >Bagging – RedNeuronal - Hip</th>\n",
              "      <td id=\"T_82bb5_row0_col0\" class=\"data row0 col0\" >1.000000</td>\n",
              "      <td id=\"T_82bb5_row0_col1\" class=\"data row0 col1\" >0.896694</td>\n",
              "      <td id=\"T_82bb5_row0_col2\" class=\"data row0 col2\" >0.946467</td>\n",
              "      <td id=\"T_82bb5_row0_col3\" class=\"data row0 col3\" >1744.882712</td>\n",
              "    </tr>\n",
              "    <tr>\n",
              "      <th id=\"T_82bb5_level0_row1\" class=\"row_heading level0 row1\" >Stacking - RegLog&SVM - Hip</th>\n",
              "      <td id=\"T_82bb5_row1_col0\" class=\"data row1 col0\" >0.877828</td>\n",
              "      <td id=\"T_82bb5_row1_col1\" class=\"data row1 col1\" >0.641393</td>\n",
              "      <td id=\"T_82bb5_row1_col2\" class=\"data row1 col2\" >0.796715</td>\n",
              "      <td id=\"T_82bb5_row1_col3\" class=\"data row1 col3\" >1.519844</td>\n",
              "    </tr>\n",
              "    <tr>\n",
              "      <th id=\"T_82bb5_level0_row2\" class=\"row_heading level0 row2\" >Dummy</th>\n",
              "      <td id=\"T_82bb5_row2_col0\" class=\"data row2 col0\" >0.000000</td>\n",
              "      <td id=\"T_82bb5_row2_col1\" class=\"data row2 col1\" >0.000000</td>\n",
              "      <td id=\"T_82bb5_row2_col2\" class=\"data row2 col2\" >0.785080</td>\n",
              "      <td id=\"T_82bb5_row2_col3\" class=\"data row2 col3\" >0.000509</td>\n",
              "    </tr>\n",
              "    <tr>\n",
              "      <th id=\"T_82bb5_level0_row3\" class=\"row_heading level0 row3\" >Bagging – Reg Log - Hip</th>\n",
              "      <td id=\"T_82bb5_row3_col0\" class=\"data row3 col0\" >0.687783</td>\n",
              "      <td id=\"T_82bb5_row3_col1\" class=\"data row3 col1\" >0.662073</td>\n",
              "      <td id=\"T_82bb5_row3_col2\" class=\"data row3 col2\" >0.729017</td>\n",
              "      <td id=\"T_82bb5_row3_col3\" class=\"data row3 col3\" >38.933858</td>\n",
              "    </tr>\n",
              "  </tbody>\n",
              "</table>\n",
              "</div><div style=\"display: inline-block; padding: 10px;\"><h3>Conjunto de Pruebas</h3><style type=\"text/css\">\n",
              "#T_97b99_row0_col2, #T_97b99_row1_col1, #T_97b99_row2_col0, #T_97b99_row2_col3 {\n",
              "  background-color: lightblue;\n",
              "}\n",
              "</style>\n",
              "<table id=\"T_97b99\">\n",
              "  <thead>\n",
              "    <tr>\n",
              "      <th class=\"blank level0\" >&nbsp;</th>\n",
              "      <th id=\"T_97b99_level0_col0\" class=\"col_heading level0 col0\" >Recall</th>\n",
              "      <th id=\"T_97b99_level0_col1\" class=\"col_heading level0 col1\" >Recall Macro</th>\n",
              "      <th id=\"T_97b99_level0_col2\" class=\"col_heading level0 col2\" >F1 Score</th>\n",
              "      <th id=\"T_97b99_level0_col3\" class=\"col_heading level0 col3\" >Fit_Time</th>\n",
              "    </tr>\n",
              "  </thead>\n",
              "  <tbody>\n",
              "    <tr>\n",
              "      <th id=\"T_97b99_level0_row0\" class=\"row_heading level0 row0\" >Dummy</th>\n",
              "      <td id=\"T_97b99_row0_col0\" class=\"data row0 col0\" >0.000000</td>\n",
              "      <td id=\"T_97b99_row0_col1\" class=\"data row0 col1\" >0.000000</td>\n",
              "      <td id=\"T_97b99_row0_col2\" class=\"data row0 col2\" >0.774194</td>\n",
              "      <td id=\"T_97b99_row0_col3\" class=\"data row0 col3\" >0.000509</td>\n",
              "    </tr>\n",
              "    <tr>\n",
              "      <th id=\"T_97b99_level0_row1\" class=\"row_heading level0 row1\" >Stacking - RegLog&SVM - Hip</th>\n",
              "      <td id=\"T_97b99_row1_col0\" class=\"data row1 col0\" >0.791667</td>\n",
              "      <td id=\"T_97b99_row1_col1\" class=\"data row1 col1\" >0.538690</td>\n",
              "      <td id=\"T_97b99_row1_col2\" class=\"data row1 col2\" >0.716981</td>\n",
              "      <td id=\"T_97b99_row1_col3\" class=\"data row1 col3\" >1.519844</td>\n",
              "    </tr>\n",
              "    <tr>\n",
              "      <th id=\"T_97b99_level0_row2\" class=\"row_heading level0 row2\" >Bagging – RedNeuronal -  Hip</th>\n",
              "      <td id=\"T_97b99_row2_col0\" class=\"data row2 col0\" >0.833333</td>\n",
              "      <td id=\"T_97b99_row2_col1\" class=\"data row2 col1\" >0.488095</td>\n",
              "      <td id=\"T_97b99_row2_col2\" class=\"data row2 col2\" >0.714286</td>\n",
              "      <td id=\"T_97b99_row2_col3\" class=\"data row2 col3\" >1744.882712</td>\n",
              "    </tr>\n",
              "    <tr>\n",
              "      <th id=\"T_97b99_level0_row3\" class=\"row_heading level0 row3\" >Bagging – Reg Log - Hip</th>\n",
              "      <td id=\"T_97b99_row3_col0\" class=\"data row3 col0\" >0.458333</td>\n",
              "      <td id=\"T_97b99_row3_col1\" class=\"data row3 col1\" >0.407738</td>\n",
              "      <td id=\"T_97b99_row3_col2\" class=\"data row3 col2\" >0.500000</td>\n",
              "      <td id=\"T_97b99_row3_col3\" class=\"data row3 col3\" >38.933858</td>\n",
              "    </tr>\n",
              "  </tbody>\n",
              "</table>\n",
              "</div>"
            ]
          },
          "metadata": {},
          "output_type": "display_data"
        },
        {
          "data": {
            "application/javascript": [
              "\n",
              "            setTimeout(function() {\n",
              "                var nbb_cell_id = 62;\n",
              "                var nbb_unformatted_code = \"# Resumen modelos con mejores hiperpa\\u00e1metros de los mejores modelos semana 5\\n\\ncuadro1 = {\\n    'Modelo': ['Dummy', 'Stacking - RegLog&SVM - Hip', 'Bagging \\u2013 Reg Log - Hip', 'Bagging \\u2013 RedNeuronal - Hip'],\\n    'Recall': [recall_tv_dum, recall_tv_ensamble1_best, recall_tv_ensamble4_best, recall_tv_ensamble6_best],\\n    'Recall Macro': [recall_tv_macro_dum, recall_tv_macro_ensamble1_best, recall_tv_macro_ensamble4_best, recall_tv_macro_ensamble6_best],\\n    'F1 Score': [f1_tv_dum, f1_tv_ensamble1_best, f1_tv_ensamble4_best, f1_tv_ensamble6_best],\\n    'Fit_Time': [tiempo_fit_dummy, tiempo_fit_ensamble1_best, tiempo_fit_ensamble4_best, tiempo_fit_ensamble6_best]\\n}\\n\\n# Crear un DataFrame para almacenar los resultados\\ncuadro1_df = pd.DataFrame(cuadro1,index=cuadro1[\\\"Modelo\\\"])\\ncuadro1_df.drop(columns=['Modelo'], inplace=True)\\n\\n# Ordenar el DataFrame por la columna F1_Tst de mayor a menor\\ncuadro1_df = cuadro1_df.sort_values(by='F1 Score', ascending=False)\\n\\n\\ncuadro2 = {\\n    'Modelo': ['Dummy', 'Stacking - RegLog&SVM - Hip', 'Bagging \\u2013 Reg Log - Hip', 'Bagging \\u2013 RedNeuronal -  Hip'],\\n    'Recall': [recall_test_dum, recall_test_ensamble1_best, recall_test_ensamble4_best, recall_test_ensamble6_best],\\n    'Recall Macro': [recall_test_macro_dum, recall_test_macro_ensamble1_best, recall_test_macro_ensamble4_best, recall_test_macro_ensamble6_best],\\n    'F1 Score': [f1_test_dum, f1_test_ensamble1_best, f1_test_ensamble4_best, f1_test_ensamble6_best],\\n    'Fit_Time': [tiempo_fit_dummy, tiempo_fit_ensamble1_best, tiempo_fit_ensamble4_best, tiempo_fit_ensamble6_best]\\n}\\n\\n# Crear un DataFrame para almacenar los resultados\\ncuadro2_df = pd.DataFrame(cuadro2,index=cuadro2[\\\"Modelo\\\"])\\ncuadro2_df.drop(columns=['Modelo'], inplace=True)\\n\\n# Ordenar el DataFrame por la columna F1_Tst de mayor a menor\\ncuadro2_df = cuadro2_df.sort_values(by='F1 Score', ascending=False)\\n\\nprint('Resumen modelos con mejores hiperpa\\u00e1metros de los mejores modelos semana 5')\\n\\n# Aqu\\u00ed puedes especificar el axis=0 para columnas o axis=1 para filas\\ndisplay_side_by_side([cuadro1_df, cuadro2_df], ['Conjunto de Entrenamiento', 'Conjunto de Pruebas'],\\n                     color='lightblue', axis=0)\";\n",
              "                var nbb_formatted_code = \"# Resumen modelos con mejores hiperpa\\u00e1metros de los mejores modelos semana 5\\n\\ncuadro1 = {\\n    \\\"Modelo\\\": [\\n        \\\"Dummy\\\",\\n        \\\"Stacking - RegLog&SVM - Hip\\\",\\n        \\\"Bagging \\u2013 Reg Log - Hip\\\",\\n        \\\"Bagging \\u2013 RedNeuronal - Hip\\\",\\n    ],\\n    \\\"Recall\\\": [\\n        recall_tv_dum,\\n        recall_tv_ensamble1_best,\\n        recall_tv_ensamble4_best,\\n        recall_tv_ensamble6_best,\\n    ],\\n    \\\"Recall Macro\\\": [\\n        recall_tv_macro_dum,\\n        recall_tv_macro_ensamble1_best,\\n        recall_tv_macro_ensamble4_best,\\n        recall_tv_macro_ensamble6_best,\\n    ],\\n    \\\"F1 Score\\\": [\\n        f1_tv_dum,\\n        f1_tv_ensamble1_best,\\n        f1_tv_ensamble4_best,\\n        f1_tv_ensamble6_best,\\n    ],\\n    \\\"Fit_Time\\\": [\\n        tiempo_fit_dummy,\\n        tiempo_fit_ensamble1_best,\\n        tiempo_fit_ensamble4_best,\\n        tiempo_fit_ensamble6_best,\\n    ],\\n}\\n\\n# Crear un DataFrame para almacenar los resultados\\ncuadro1_df = pd.DataFrame(cuadro1, index=cuadro1[\\\"Modelo\\\"])\\ncuadro1_df.drop(columns=[\\\"Modelo\\\"], inplace=True)\\n\\n# Ordenar el DataFrame por la columna F1_Tst de mayor a menor\\ncuadro1_df = cuadro1_df.sort_values(by=\\\"F1 Score\\\", ascending=False)\\n\\n\\ncuadro2 = {\\n    \\\"Modelo\\\": [\\n        \\\"Dummy\\\",\\n        \\\"Stacking - RegLog&SVM - Hip\\\",\\n        \\\"Bagging \\u2013 Reg Log - Hip\\\",\\n        \\\"Bagging \\u2013 RedNeuronal -  Hip\\\",\\n    ],\\n    \\\"Recall\\\": [\\n        recall_test_dum,\\n        recall_test_ensamble1_best,\\n        recall_test_ensamble4_best,\\n        recall_test_ensamble6_best,\\n    ],\\n    \\\"Recall Macro\\\": [\\n        recall_test_macro_dum,\\n        recall_test_macro_ensamble1_best,\\n        recall_test_macro_ensamble4_best,\\n        recall_test_macro_ensamble6_best,\\n    ],\\n    \\\"F1 Score\\\": [\\n        f1_test_dum,\\n        f1_test_ensamble1_best,\\n        f1_test_ensamble4_best,\\n        f1_test_ensamble6_best,\\n    ],\\n    \\\"Fit_Time\\\": [\\n        tiempo_fit_dummy,\\n        tiempo_fit_ensamble1_best,\\n        tiempo_fit_ensamble4_best,\\n        tiempo_fit_ensamble6_best,\\n    ],\\n}\\n\\n# Crear un DataFrame para almacenar los resultados\\ncuadro2_df = pd.DataFrame(cuadro2, index=cuadro2[\\\"Modelo\\\"])\\ncuadro2_df.drop(columns=[\\\"Modelo\\\"], inplace=True)\\n\\n# Ordenar el DataFrame por la columna F1_Tst de mayor a menor\\ncuadro2_df = cuadro2_df.sort_values(by=\\\"F1 Score\\\", ascending=False)\\n\\nprint(\\\"Resumen modelos con mejores hiperpa\\u00e1metros de los mejores modelos semana 5\\\")\\n\\n# Aqu\\u00ed puedes especificar el axis=0 para columnas o axis=1 para filas\\ndisplay_side_by_side(\\n    [cuadro1_df, cuadro2_df],\\n    [\\\"Conjunto de Entrenamiento\\\", \\\"Conjunto de Pruebas\\\"],\\n    color=\\\"lightblue\\\",\\n    axis=0,\\n)\";\n",
              "                var nbb_cells = Jupyter.notebook.get_cells();\n",
              "                for (var i = 0; i < nbb_cells.length; ++i) {\n",
              "                    if (nbb_cells[i].input_prompt_number == nbb_cell_id) {\n",
              "                        if (nbb_cells[i].get_text() == nbb_unformatted_code) {\n",
              "                             nbb_cells[i].set_text(nbb_formatted_code);\n",
              "                        }\n",
              "                        break;\n",
              "                    }\n",
              "                }\n",
              "            }, 500);\n",
              "            "
            ],
            "text/plain": [
              "<IPython.core.display.Javascript object>"
            ]
          },
          "metadata": {},
          "output_type": "display_data"
        }
      ],
      "source": [
        "# Resumen modelos con mejores hiperpaámetros de los mejores modelos semana 5\n",
        "\n",
        "cuadro1 = {\n",
        "    \"Modelo\": [\n",
        "        \"Dummy\",\n",
        "        \"Stacking - RegLog&SVM - Hip\",\n",
        "        \"Bagging – Reg Log - Hip\",\n",
        "        \"Bagging – RedNeuronal - Hip\",\n",
        "    ],\n",
        "    \"Recall\": [\n",
        "        recall_tv_dum,\n",
        "        recall_tv_ensamble1_best,\n",
        "        recall_tv_ensamble4_best,\n",
        "        recall_tv_ensamble6_best,\n",
        "    ],\n",
        "    \"Recall Macro\": [\n",
        "        recall_tv_macro_dum,\n",
        "        recall_tv_macro_ensamble1_best,\n",
        "        recall_tv_macro_ensamble4_best,\n",
        "        recall_tv_macro_ensamble6_best,\n",
        "    ],\n",
        "    \"F1 Score\": [\n",
        "        f1_tv_dum,\n",
        "        f1_tv_ensamble1_best,\n",
        "        f1_tv_ensamble4_best,\n",
        "        f1_tv_ensamble6_best,\n",
        "    ],\n",
        "    \"Fit_Time\": [\n",
        "        tiempo_fit_dummy,\n",
        "        tiempo_fit_ensamble1_best,\n",
        "        tiempo_fit_ensamble4_best,\n",
        "        tiempo_fit_ensamble6_best,\n",
        "    ],\n",
        "}\n",
        "\n",
        "# Crear un DataFrame para almacenar los resultados\n",
        "cuadro1_df = pd.DataFrame(cuadro1, index=cuadro1[\"Modelo\"])\n",
        "cuadro1_df.drop(columns=[\"Modelo\"], inplace=True)\n",
        "\n",
        "# Ordenar el DataFrame por la columna F1_Tst de mayor a menor\n",
        "cuadro1_df = cuadro1_df.sort_values(by=\"F1 Score\", ascending=False)\n",
        "\n",
        "\n",
        "cuadro2 = {\n",
        "    \"Modelo\": [\n",
        "        \"Dummy\",\n",
        "        \"Stacking - RegLog&SVM - Hip\",\n",
        "        \"Bagging – Reg Log - Hip\",\n",
        "        \"Bagging – RedNeuronal -  Hip\",\n",
        "    ],\n",
        "    \"Recall\": [\n",
        "        recall_test_dum,\n",
        "        recall_test_ensamble1_best,\n",
        "        recall_test_ensamble4_best,\n",
        "        recall_test_ensamble6_best,\n",
        "    ],\n",
        "    \"Recall Macro\": [\n",
        "        recall_test_macro_dum,\n",
        "        recall_test_macro_ensamble1_best,\n",
        "        recall_test_macro_ensamble4_best,\n",
        "        recall_test_macro_ensamble6_best,\n",
        "    ],\n",
        "    \"F1 Score\": [\n",
        "        f1_test_dum,\n",
        "        f1_test_ensamble1_best,\n",
        "        f1_test_ensamble4_best,\n",
        "        f1_test_ensamble6_best,\n",
        "    ],\n",
        "    \"Fit_Time\": [\n",
        "        tiempo_fit_dummy,\n",
        "        tiempo_fit_ensamble1_best,\n",
        "        tiempo_fit_ensamble4_best,\n",
        "        tiempo_fit_ensamble6_best,\n",
        "    ],\n",
        "}\n",
        "\n",
        "# Crear un DataFrame para almacenar los resultados\n",
        "cuadro2_df = pd.DataFrame(cuadro2, index=cuadro2[\"Modelo\"])\n",
        "cuadro2_df.drop(columns=[\"Modelo\"], inplace=True)\n",
        "\n",
        "# Ordenar el DataFrame por la columna F1_Tst de mayor a menor\n",
        "cuadro2_df = cuadro2_df.sort_values(by=\"F1 Score\", ascending=False)\n",
        "\n",
        "print(\"Resumen modelos con mejores hiperpaámetros de los mejores modelos semana 5\")\n",
        "\n",
        "# Aquí puedes especificar el axis=0 para columnas o axis=1 para filas\n",
        "display_side_by_side(\n",
        "    [cuadro1_df, cuadro2_df],\n",
        "    [\"Conjunto de Entrenamiento\", \"Conjunto de Pruebas\"],\n",
        "    color=\"lightblue\",\n",
        "    axis=0,\n",
        ")"
      ]
    },
    {
      "cell_type": "markdown",
      "id": "d67c6458",
      "metadata": {
        "id": "d67c6458"
      },
      "source": [
        "Del grupo de mejores modelos de la semana 5 con sus mejores hiperparámetros podemos observar que:\n",
        "- El modelo de Bagging - Red Neuronal sigue presentando un sobreajuste.\n",
        "- El modelo Stacking - RegLog&SVM no tiene sobreajuste, sin embargo, observamos que su Recall bajo de 79% a 71% para el conjunto de preuba después de buscar los mejores hiperparámetros.\n",
        "- El modelo Bagging – Reg Log solo obtiene un 46% de Recall en el conjunto de pruebas, lo cual es incluso menor al Recall antes de buscar los mejores hiperparámetros, por lo que podríamos decir que esta subajustado."
      ]
    },
    {
      "cell_type": "code",
      "execution_count": null,
      "id": "179414d6",
      "metadata": {
        "id": "179414d6",
        "outputId": "8a2c4348-5787-43ab-e0f7-7947a893bc45"
      },
      "outputs": [
        {
          "name": "stdout",
          "output_type": "stream",
          "text": [
            "Resumen modelos con mejores hiperpaámetros de los mejores modelos semana 5 con datos menos desbalanceados\n"
          ]
        },
        {
          "data": {
            "text/html": [
              "<div style=\"display: inline-block; padding: 10px;\"><h3>Conjunto de Entrenamiento</h3><style type=\"text/css\">\n",
              "#T_2da81_row0_col0, #T_2da81_row0_col1, #T_2da81_row0_col2, #T_2da81_row0_col3 {\n",
              "  background-color: lightblue;\n",
              "}\n",
              "</style>\n",
              "<table id=\"T_2da81\">\n",
              "  <thead>\n",
              "    <tr>\n",
              "      <th class=\"blank level0\" >&nbsp;</th>\n",
              "      <th id=\"T_2da81_level0_col0\" class=\"col_heading level0 col0\" >Recall</th>\n",
              "      <th id=\"T_2da81_level0_col1\" class=\"col_heading level0 col1\" >Recall Macro</th>\n",
              "      <th id=\"T_2da81_level0_col2\" class=\"col_heading level0 col2\" >F1 Score</th>\n",
              "      <th id=\"T_2da81_level0_col3\" class=\"col_heading level0 col3\" >Fit_Time</th>\n",
              "    </tr>\n",
              "  </thead>\n",
              "  <tbody>\n",
              "    <tr>\n",
              "      <th id=\"T_2da81_level0_row0\" class=\"row_heading level0 row0\" >Bagging – RedNeuronal -  Hip&Under</th>\n",
              "      <td id=\"T_2da81_row0_col0\" class=\"data row0 col0\" >0.988950</td>\n",
              "      <td id=\"T_2da81_row0_col1\" class=\"data row0 col1\" >0.907698</td>\n",
              "      <td id=\"T_2da81_row0_col2\" class=\"data row0 col2\" >0.939633</td>\n",
              "      <td id=\"T_2da81_row0_col3\" class=\"data row0 col3\" >1373.450654</td>\n",
              "    </tr>\n",
              "    <tr>\n",
              "      <th id=\"T_2da81_level0_row1\" class=\"row_heading level0 row1\" >Dummy</th>\n",
              "      <td id=\"T_2da81_row1_col0\" class=\"data row1 col0\" >0.000000</td>\n",
              "      <td id=\"T_2da81_row1_col1\" class=\"data row1 col1\" >0.000000</td>\n",
              "      <td id=\"T_2da81_row1_col2\" class=\"data row1 col2\" >0.785080</td>\n",
              "      <td id=\"T_2da81_row1_col3\" class=\"data row1 col3\" >0.000509</td>\n",
              "    </tr>\n",
              "    <tr>\n",
              "      <th id=\"T_2da81_level0_row2\" class=\"row_heading level0 row2\" >Stacking - RegLog&SVM - Hip&Under</th>\n",
              "      <td id=\"T_2da81_row2_col0\" class=\"data row2 col0\" >0.828729</td>\n",
              "      <td id=\"T_2da81_row2_col1\" class=\"data row2 col1\" >0.654034</td>\n",
              "      <td id=\"T_2da81_row2_col2\" class=\"data row2 col2\" >0.761421</td>\n",
              "      <td id=\"T_2da81_row2_col3\" class=\"data row2 col3\" >0.149847</td>\n",
              "    </tr>\n",
              "    <tr>\n",
              "      <th id=\"T_2da81_level0_row3\" class=\"row_heading level0 row3\" >Bagging – Reg Log - Hip&Under</th>\n",
              "      <td id=\"T_2da81_row3_col0\" class=\"data row3 col0\" >0.685083</td>\n",
              "      <td id=\"T_2da81_row3_col1\" class=\"data row3 col1\" >0.677252</td>\n",
              "      <td id=\"T_2da81_row3_col2\" class=\"data row3 col2\" >0.718841</td>\n",
              "      <td id=\"T_2da81_row3_col3\" class=\"data row3 col3\" >35.203517</td>\n",
              "    </tr>\n",
              "  </tbody>\n",
              "</table>\n",
              "</div><div style=\"display: inline-block; padding: 10px;\"><h3>Conjunto de Pruebas</h3><style type=\"text/css\">\n",
              "#T_fba21_row0_col2, #T_fba21_row1_col1, #T_fba21_row2_col0, #T_fba21_row2_col3 {\n",
              "  background-color: lightblue;\n",
              "}\n",
              "</style>\n",
              "<table id=\"T_fba21\">\n",
              "  <thead>\n",
              "    <tr>\n",
              "      <th class=\"blank level0\" >&nbsp;</th>\n",
              "      <th id=\"T_fba21_level0_col0\" class=\"col_heading level0 col0\" >Recall</th>\n",
              "      <th id=\"T_fba21_level0_col1\" class=\"col_heading level0 col1\" >Recall Macro</th>\n",
              "      <th id=\"T_fba21_level0_col2\" class=\"col_heading level0 col2\" >F1 Score</th>\n",
              "      <th id=\"T_fba21_level0_col3\" class=\"col_heading level0 col3\" >Fit_Time</th>\n",
              "    </tr>\n",
              "  </thead>\n",
              "  <tbody>\n",
              "    <tr>\n",
              "      <th id=\"T_fba21_level0_row0\" class=\"row_heading level0 row0\" >Dummy</th>\n",
              "      <td id=\"T_fba21_row0_col0\" class=\"data row0 col0\" >0.000000</td>\n",
              "      <td id=\"T_fba21_row0_col1\" class=\"data row0 col1\" >0.000000</td>\n",
              "      <td id=\"T_fba21_row0_col2\" class=\"data row0 col2\" >0.774194</td>\n",
              "      <td id=\"T_fba21_row0_col3\" class=\"data row0 col3\" >0.000509</td>\n",
              "    </tr>\n",
              "    <tr>\n",
              "      <th id=\"T_fba21_level0_row1\" class=\"row_heading level0 row1\" >Stacking - RegLog&SVM - Hip&Under</th>\n",
              "      <td id=\"T_fba21_row1_col0\" class=\"data row1 col0\" >0.708333</td>\n",
              "      <td id=\"T_fba21_row1_col1\" class=\"data row1 col1\" >0.532738</td>\n",
              "      <td id=\"T_fba21_row1_col2\" class=\"data row1 col2\" >0.680000</td>\n",
              "      <td id=\"T_fba21_row1_col3\" class=\"data row1 col3\" >0.149847</td>\n",
              "    </tr>\n",
              "    <tr>\n",
              "      <th id=\"T_fba21_level0_row2\" class=\"row_heading level0 row2\" >Bagging – RedNeuronal -  Hip&Under</th>\n",
              "      <td id=\"T_fba21_row2_col0\" class=\"data row2 col0\" >0.750000</td>\n",
              "      <td id=\"T_fba21_row2_col1\" class=\"data row2 col1\" >0.482143</td>\n",
              "      <td id=\"T_fba21_row2_col2\" class=\"data row2 col2\" >0.679245</td>\n",
              "      <td id=\"T_fba21_row2_col3\" class=\"data row2 col3\" >1373.450654</td>\n",
              "    </tr>\n",
              "    <tr>\n",
              "      <th id=\"T_fba21_level0_row3\" class=\"row_heading level0 row3\" >Bagging – Reg Log - Hip&Under</th>\n",
              "      <td id=\"T_fba21_row3_col0\" class=\"data row3 col0\" >0.500000</td>\n",
              "      <td id=\"T_fba21_row3_col1\" class=\"data row3 col1\" >0.464286</td>\n",
              "      <td id=\"T_fba21_row3_col2\" class=\"data row3 col2\" >0.545455</td>\n",
              "      <td id=\"T_fba21_row3_col3\" class=\"data row3 col3\" >35.203517</td>\n",
              "    </tr>\n",
              "  </tbody>\n",
              "</table>\n",
              "</div>"
            ]
          },
          "metadata": {},
          "output_type": "display_data"
        },
        {
          "data": {
            "application/javascript": [
              "\n",
              "            setTimeout(function() {\n",
              "                var nbb_cell_id = 63;\n",
              "                var nbb_unformatted_code = \"# Resumen modelos con mejores hiperpa\\u00e1metros de los mejores modelos semana 5 con datos menos desbalanceados\\n\\ncuadro1 = {\\n    'Modelo': ['Dummy', 'Stacking - RegLog&SVM - Hip&Under', 'Bagging \\u2013 Reg Log - Hip&Under', 'Bagging \\u2013 RedNeuronal -  Hip&Under'],\\n    'Recall': [recall_tv_dum, recall_tv_ensamble1_res_best, recall_tv_ensamble4_res_best, recall_tv_ensamble6_res_best],\\n    'Recall Macro': [recall_tv_macro_dum, recall_tv_macro_ensamble1_res_best, recall_tv_macro_ensamble4_res_best, recall_tv_macro_ensamble6_res_best],\\n    'F1 Score': [f1_tv_dum, f1_tv_ensamble1_res_best, f1_tv_ensamble4_res_best, f1_tv_ensamble6_res_best],\\n    'Fit_Time': [tiempo_fit_dummy, tiempo_fit_ensamble1_res_best, tiempo_fit_ensamble4_res_best, tiempo_fit_ensamble6_res_best]\\n}\\n\\n# Crear un DataFrame para almacenar los resultados\\ncuadro1_df = pd.DataFrame(cuadro1,index=cuadro1[\\\"Modelo\\\"])\\ncuadro1_df.drop(columns=['Modelo'], inplace=True)\\n\\n# Ordenar el DataFrame por la columna F1_Tst de mayor a menor\\ncuadro1_df = cuadro1_df.sort_values(by='F1 Score', ascending=False)\\n\\n\\ncuadro2 = {\\n    'Modelo': ['Dummy', 'Stacking - RegLog&SVM - Hip&Under', 'Bagging \\u2013 Reg Log - Hip&Under', 'Bagging \\u2013 RedNeuronal -  Hip&Under'],\\n    'Recall': [recall_test_dum, recall_test_ensamble1_res_best, recall_test_ensamble4_res_best, recall_test_ensamble6_res_best],\\n    'Recall Macro': [recall_test_macro_dum, recall_test_macro_ensamble1_res_best, recall_test_macro_ensamble4_res_best, recall_test_macro_ensamble6_res_best],\\n    'F1 Score': [f1_test_dum, f1_test_ensamble1_res_best, f1_test_ensamble4_res_best, f1_test_ensamble6_res_best],\\n    'Fit_Time': [tiempo_fit_dummy, tiempo_fit_ensamble1_res_best, tiempo_fit_ensamble4_res_best, tiempo_fit_ensamble6_res_best]\\n}\\n\\n# Crear un DataFrame para almacenar los resultados\\ncuadro2_df = pd.DataFrame(cuadro2,index=cuadro2[\\\"Modelo\\\"])\\ncuadro2_df.drop(columns=['Modelo'], inplace=True)\\n\\n# Ordenar el DataFrame por la columna F1_Tst de mayor a menor\\ncuadro2_df = cuadro2_df.sort_values(by='F1 Score', ascending=False)\\n\\nprint('Resumen modelos con mejores hiperpa\\u00e1metros de los mejores modelos semana 5 con datos menos desbalanceados')\\n\\n# Aqu\\u00ed puedes especificar el axis=0 para columnas o axis=1 para filas\\ndisplay_side_by_side([cuadro1_df, cuadro2_df], ['Conjunto de Entrenamiento', 'Conjunto de Pruebas'],\\n                     color='lightblue', axis=0)\";\n",
              "                var nbb_formatted_code = \"# Resumen modelos con mejores hiperpa\\u00e1metros de los mejores modelos semana 5 con datos menos desbalanceados\\n\\ncuadro1 = {\\n    \\\"Modelo\\\": [\\n        \\\"Dummy\\\",\\n        \\\"Stacking - RegLog&SVM - Hip&Under\\\",\\n        \\\"Bagging \\u2013 Reg Log - Hip&Under\\\",\\n        \\\"Bagging \\u2013 RedNeuronal -  Hip&Under\\\",\\n    ],\\n    \\\"Recall\\\": [\\n        recall_tv_dum,\\n        recall_tv_ensamble1_res_best,\\n        recall_tv_ensamble4_res_best,\\n        recall_tv_ensamble6_res_best,\\n    ],\\n    \\\"Recall Macro\\\": [\\n        recall_tv_macro_dum,\\n        recall_tv_macro_ensamble1_res_best,\\n        recall_tv_macro_ensamble4_res_best,\\n        recall_tv_macro_ensamble6_res_best,\\n    ],\\n    \\\"F1 Score\\\": [\\n        f1_tv_dum,\\n        f1_tv_ensamble1_res_best,\\n        f1_tv_ensamble4_res_best,\\n        f1_tv_ensamble6_res_best,\\n    ],\\n    \\\"Fit_Time\\\": [\\n        tiempo_fit_dummy,\\n        tiempo_fit_ensamble1_res_best,\\n        tiempo_fit_ensamble4_res_best,\\n        tiempo_fit_ensamble6_res_best,\\n    ],\\n}\\n\\n# Crear un DataFrame para almacenar los resultados\\ncuadro1_df = pd.DataFrame(cuadro1, index=cuadro1[\\\"Modelo\\\"])\\ncuadro1_df.drop(columns=[\\\"Modelo\\\"], inplace=True)\\n\\n# Ordenar el DataFrame por la columna F1_Tst de mayor a menor\\ncuadro1_df = cuadro1_df.sort_values(by=\\\"F1 Score\\\", ascending=False)\\n\\n\\ncuadro2 = {\\n    \\\"Modelo\\\": [\\n        \\\"Dummy\\\",\\n        \\\"Stacking - RegLog&SVM - Hip&Under\\\",\\n        \\\"Bagging \\u2013 Reg Log - Hip&Under\\\",\\n        \\\"Bagging \\u2013 RedNeuronal -  Hip&Under\\\",\\n    ],\\n    \\\"Recall\\\": [\\n        recall_test_dum,\\n        recall_test_ensamble1_res_best,\\n        recall_test_ensamble4_res_best,\\n        recall_test_ensamble6_res_best,\\n    ],\\n    \\\"Recall Macro\\\": [\\n        recall_test_macro_dum,\\n        recall_test_macro_ensamble1_res_best,\\n        recall_test_macro_ensamble4_res_best,\\n        recall_test_macro_ensamble6_res_best,\\n    ],\\n    \\\"F1 Score\\\": [\\n        f1_test_dum,\\n        f1_test_ensamble1_res_best,\\n        f1_test_ensamble4_res_best,\\n        f1_test_ensamble6_res_best,\\n    ],\\n    \\\"Fit_Time\\\": [\\n        tiempo_fit_dummy,\\n        tiempo_fit_ensamble1_res_best,\\n        tiempo_fit_ensamble4_res_best,\\n        tiempo_fit_ensamble6_res_best,\\n    ],\\n}\\n\\n# Crear un DataFrame para almacenar los resultados\\ncuadro2_df = pd.DataFrame(cuadro2, index=cuadro2[\\\"Modelo\\\"])\\ncuadro2_df.drop(columns=[\\\"Modelo\\\"], inplace=True)\\n\\n# Ordenar el DataFrame por la columna F1_Tst de mayor a menor\\ncuadro2_df = cuadro2_df.sort_values(by=\\\"F1 Score\\\", ascending=False)\\n\\nprint(\\n    \\\"Resumen modelos con mejores hiperpa\\u00e1metros de los mejores modelos semana 5 con datos menos desbalanceados\\\"\\n)\\n\\n# Aqu\\u00ed puedes especificar el axis=0 para columnas o axis=1 para filas\\ndisplay_side_by_side(\\n    [cuadro1_df, cuadro2_df],\\n    [\\\"Conjunto de Entrenamiento\\\", \\\"Conjunto de Pruebas\\\"],\\n    color=\\\"lightblue\\\",\\n    axis=0,\\n)\";\n",
              "                var nbb_cells = Jupyter.notebook.get_cells();\n",
              "                for (var i = 0; i < nbb_cells.length; ++i) {\n",
              "                    if (nbb_cells[i].input_prompt_number == nbb_cell_id) {\n",
              "                        if (nbb_cells[i].get_text() == nbb_unformatted_code) {\n",
              "                             nbb_cells[i].set_text(nbb_formatted_code);\n",
              "                        }\n",
              "                        break;\n",
              "                    }\n",
              "                }\n",
              "            }, 500);\n",
              "            "
            ],
            "text/plain": [
              "<IPython.core.display.Javascript object>"
            ]
          },
          "metadata": {},
          "output_type": "display_data"
        }
      ],
      "source": [
        "# Resumen modelos con mejores hiperpaámetros de los mejores modelos semana 5 con datos menos desbalanceados\n",
        "\n",
        "cuadro1 = {\n",
        "    \"Modelo\": [\n",
        "        \"Dummy\",\n",
        "        \"Stacking - RegLog&SVM - Hip&Under\",\n",
        "        \"Bagging – Reg Log - Hip&Under\",\n",
        "        \"Bagging – RedNeuronal -  Hip&Under\",\n",
        "    ],\n",
        "    \"Recall\": [\n",
        "        recall_tv_dum,\n",
        "        recall_tv_ensamble1_res_best,\n",
        "        recall_tv_ensamble4_res_best,\n",
        "        recall_tv_ensamble6_res_best,\n",
        "    ],\n",
        "    \"Recall Macro\": [\n",
        "        recall_tv_macro_dum,\n",
        "        recall_tv_macro_ensamble1_res_best,\n",
        "        recall_tv_macro_ensamble4_res_best,\n",
        "        recall_tv_macro_ensamble6_res_best,\n",
        "    ],\n",
        "    \"F1 Score\": [\n",
        "        f1_tv_dum,\n",
        "        f1_tv_ensamble1_res_best,\n",
        "        f1_tv_ensamble4_res_best,\n",
        "        f1_tv_ensamble6_res_best,\n",
        "    ],\n",
        "    \"Fit_Time\": [\n",
        "        tiempo_fit_dummy,\n",
        "        tiempo_fit_ensamble1_res_best,\n",
        "        tiempo_fit_ensamble4_res_best,\n",
        "        tiempo_fit_ensamble6_res_best,\n",
        "    ],\n",
        "}\n",
        "\n",
        "# Crear un DataFrame para almacenar los resultados\n",
        "cuadro1_df = pd.DataFrame(cuadro1, index=cuadro1[\"Modelo\"])\n",
        "cuadro1_df.drop(columns=[\"Modelo\"], inplace=True)\n",
        "\n",
        "# Ordenar el DataFrame por la columna F1_Tst de mayor a menor\n",
        "cuadro1_df = cuadro1_df.sort_values(by=\"F1 Score\", ascending=False)\n",
        "\n",
        "\n",
        "cuadro2 = {\n",
        "    \"Modelo\": [\n",
        "        \"Dummy\",\n",
        "        \"Stacking - RegLog&SVM - Hip&Under\",\n",
        "        \"Bagging – Reg Log - Hip&Under\",\n",
        "        \"Bagging – RedNeuronal -  Hip&Under\",\n",
        "    ],\n",
        "    \"Recall\": [\n",
        "        recall_test_dum,\n",
        "        recall_test_ensamble1_res_best,\n",
        "        recall_test_ensamble4_res_best,\n",
        "        recall_test_ensamble6_res_best,\n",
        "    ],\n",
        "    \"Recall Macro\": [\n",
        "        recall_test_macro_dum,\n",
        "        recall_test_macro_ensamble1_res_best,\n",
        "        recall_test_macro_ensamble4_res_best,\n",
        "        recall_test_macro_ensamble6_res_best,\n",
        "    ],\n",
        "    \"F1 Score\": [\n",
        "        f1_test_dum,\n",
        "        f1_test_ensamble1_res_best,\n",
        "        f1_test_ensamble4_res_best,\n",
        "        f1_test_ensamble6_res_best,\n",
        "    ],\n",
        "    \"Fit_Time\": [\n",
        "        tiempo_fit_dummy,\n",
        "        tiempo_fit_ensamble1_res_best,\n",
        "        tiempo_fit_ensamble4_res_best,\n",
        "        tiempo_fit_ensamble6_res_best,\n",
        "    ],\n",
        "}\n",
        "\n",
        "# Crear un DataFrame para almacenar los resultados\n",
        "cuadro2_df = pd.DataFrame(cuadro2, index=cuadro2[\"Modelo\"])\n",
        "cuadro2_df.drop(columns=[\"Modelo\"], inplace=True)\n",
        "\n",
        "# Ordenar el DataFrame por la columna F1_Tst de mayor a menor\n",
        "cuadro2_df = cuadro2_df.sort_values(by=\"F1 Score\", ascending=False)\n",
        "\n",
        "print(\n",
        "    \"Resumen modelos con mejores hiperpaámetros de los mejores modelos semana 5 con datos menos desbalanceados\"\n",
        ")\n",
        "\n",
        "# Aquí puedes especificar el axis=0 para columnas o axis=1 para filas\n",
        "display_side_by_side(\n",
        "    [cuadro1_df, cuadro2_df],\n",
        "    [\"Conjunto de Entrenamiento\", \"Conjunto de Pruebas\"],\n",
        "    color=\"lightblue\",\n",
        "    axis=0,\n",
        ")"
      ]
    },
    {
      "cell_type": "markdown",
      "id": "bd81d54c",
      "metadata": {
        "id": "bd81d54c"
      },
      "source": [
        "Del grupo de mejores modelos con mejores hiperpaámetros de los mejores modelos semana 5 con datos menos desbalanceados podemos observar que:\n",
        "- El modelo de Bagging - Red Neuronal sigue presentando un sobreajuste.\n",
        "- El modelo Stacking - RegLog&SVM no tiene sobreajuste, sin embargo, observamos que su se mantiene en 71% para el conjunto de preuba después de buscar los mejores hiperparámetros con un submuestreo.\n",
        "- El modelo Bagging – Reg Log solo obtiene un 50% de Recall en el conjunto de pruebas, por lo que podríamos decir que esta subajustado."
      ]
    },
    {
      "cell_type": "code",
      "execution_count": null,
      "id": "ad5ca8ce",
      "metadata": {
        "id": "ad5ca8ce",
        "outputId": "4c9d5301-0b61-445b-b0a9-272e87294134"
      },
      "outputs": [
        {
          "name": "stdout",
          "output_type": "stream",
          "text": [
            "Resumen mejores modelos de los tres grupos\n"
          ]
        },
        {
          "data": {
            "text/html": [
              "<div style=\"display: inline-block; padding: 10px;\"><h3>Conjunto de Entrenamiento</h3><style type=\"text/css\">\n",
              "#T_530e1_row0_col0, #T_530e1_row0_col2, #T_530e1_row1_col0, #T_530e1_row1_col2, #T_530e1_row1_col3, #T_530e1_row3_col1 {\n",
              "  background-color: lightblue;\n",
              "}\n",
              "</style>\n",
              "<table id=\"T_530e1\">\n",
              "  <thead>\n",
              "    <tr>\n",
              "      <th class=\"blank level0\" >&nbsp;</th>\n",
              "      <th id=\"T_530e1_level0_col0\" class=\"col_heading level0 col0\" >Recall</th>\n",
              "      <th id=\"T_530e1_level0_col1\" class=\"col_heading level0 col1\" >Recall Macro</th>\n",
              "      <th id=\"T_530e1_level0_col2\" class=\"col_heading level0 col2\" >F1 Score</th>\n",
              "      <th id=\"T_530e1_level0_col3\" class=\"col_heading level0 col3\" >Fit_Time</th>\n",
              "    </tr>\n",
              "  </thead>\n",
              "  <tbody>\n",
              "    <tr>\n",
              "      <th id=\"T_530e1_level0_row0\" class=\"row_heading level0 row0\" >Stacking - RegLog&SVM</th>\n",
              "      <td id=\"T_530e1_row0_col0\" class=\"data row0 col0\" >0.877828</td>\n",
              "      <td id=\"T_530e1_row0_col1\" class=\"data row0 col1\" >0.641393</td>\n",
              "      <td id=\"T_530e1_row0_col2\" class=\"data row0 col2\" >0.796715</td>\n",
              "      <td id=\"T_530e1_row0_col3\" class=\"data row0 col3\" >0.002521</td>\n",
              "    </tr>\n",
              "    <tr>\n",
              "      <th id=\"T_530e1_level0_row1\" class=\"row_heading level0 row1\" >Stacking - RegLog&SVM - Hip</th>\n",
              "      <td id=\"T_530e1_row1_col0\" class=\"data row1 col0\" >0.877828</td>\n",
              "      <td id=\"T_530e1_row1_col1\" class=\"data row1 col1\" >0.641393</td>\n",
              "      <td id=\"T_530e1_row1_col2\" class=\"data row1 col2\" >0.796715</td>\n",
              "      <td id=\"T_530e1_row1_col3\" class=\"data row1 col3\" >1.519844</td>\n",
              "    </tr>\n",
              "    <tr>\n",
              "      <th id=\"T_530e1_level0_row2\" class=\"row_heading level0 row2\" >Dummy</th>\n",
              "      <td id=\"T_530e1_row2_col0\" class=\"data row2 col0\" >0.000000</td>\n",
              "      <td id=\"T_530e1_row2_col1\" class=\"data row2 col1\" >0.000000</td>\n",
              "      <td id=\"T_530e1_row2_col2\" class=\"data row2 col2\" >0.785080</td>\n",
              "      <td id=\"T_530e1_row2_col3\" class=\"data row2 col3\" >0.000509</td>\n",
              "    </tr>\n",
              "    <tr>\n",
              "      <th id=\"T_530e1_level0_row3\" class=\"row_heading level0 row3\" >Stacking - RegLog&SVM - Hip&Under</th>\n",
              "      <td id=\"T_530e1_row3_col0\" class=\"data row3 col0\" >0.828729</td>\n",
              "      <td id=\"T_530e1_row3_col1\" class=\"data row3 col1\" >0.654034</td>\n",
              "      <td id=\"T_530e1_row3_col2\" class=\"data row3 col2\" >0.761421</td>\n",
              "      <td id=\"T_530e1_row3_col3\" class=\"data row3 col3\" >0.149847</td>\n",
              "    </tr>\n",
              "  </tbody>\n",
              "</table>\n",
              "</div><div style=\"display: inline-block; padding: 10px;\"><h3>Conjunto de Pruebas</h3><style type=\"text/css\">\n",
              "#T_24708_row0_col2, #T_24708_row1_col0, #T_24708_row1_col1, #T_24708_row2_col0, #T_24708_row2_col1, #T_24708_row2_col3 {\n",
              "  background-color: lightblue;\n",
              "}\n",
              "</style>\n",
              "<table id=\"T_24708\">\n",
              "  <thead>\n",
              "    <tr>\n",
              "      <th class=\"blank level0\" >&nbsp;</th>\n",
              "      <th id=\"T_24708_level0_col0\" class=\"col_heading level0 col0\" >Recall</th>\n",
              "      <th id=\"T_24708_level0_col1\" class=\"col_heading level0 col1\" >Recall Macro</th>\n",
              "      <th id=\"T_24708_level0_col2\" class=\"col_heading level0 col2\" >F1 Score</th>\n",
              "      <th id=\"T_24708_level0_col3\" class=\"col_heading level0 col3\" >Fit_Time</th>\n",
              "    </tr>\n",
              "  </thead>\n",
              "  <tbody>\n",
              "    <tr>\n",
              "      <th id=\"T_24708_level0_row0\" class=\"row_heading level0 row0\" >Dummy</th>\n",
              "      <td id=\"T_24708_row0_col0\" class=\"data row0 col0\" >0.000000</td>\n",
              "      <td id=\"T_24708_row0_col1\" class=\"data row0 col1\" >0.000000</td>\n",
              "      <td id=\"T_24708_row0_col2\" class=\"data row0 col2\" >0.774194</td>\n",
              "      <td id=\"T_24708_row0_col3\" class=\"data row0 col3\" >0.000509</td>\n",
              "    </tr>\n",
              "    <tr>\n",
              "      <th id=\"T_24708_level0_row1\" class=\"row_heading level0 row1\" >Stacking - RegLog&SVM</th>\n",
              "      <td id=\"T_24708_row1_col0\" class=\"data row1 col0\" >0.791667</td>\n",
              "      <td id=\"T_24708_row1_col1\" class=\"data row1 col1\" >0.538690</td>\n",
              "      <td id=\"T_24708_row1_col2\" class=\"data row1 col2\" >0.716981</td>\n",
              "      <td id=\"T_24708_row1_col3\" class=\"data row1 col3\" >0.002521</td>\n",
              "    </tr>\n",
              "    <tr>\n",
              "      <th id=\"T_24708_level0_row2\" class=\"row_heading level0 row2\" >Stacking - RegLog&SVM - Hip</th>\n",
              "      <td id=\"T_24708_row2_col0\" class=\"data row2 col0\" >0.791667</td>\n",
              "      <td id=\"T_24708_row2_col1\" class=\"data row2 col1\" >0.538690</td>\n",
              "      <td id=\"T_24708_row2_col2\" class=\"data row2 col2\" >0.716981</td>\n",
              "      <td id=\"T_24708_row2_col3\" class=\"data row2 col3\" >1.519844</td>\n",
              "    </tr>\n",
              "    <tr>\n",
              "      <th id=\"T_24708_level0_row3\" class=\"row_heading level0 row3\" >Stacking - RegLog&SVM - Hip&Under</th>\n",
              "      <td id=\"T_24708_row3_col0\" class=\"data row3 col0\" >0.708333</td>\n",
              "      <td id=\"T_24708_row3_col1\" class=\"data row3 col1\" >0.532738</td>\n",
              "      <td id=\"T_24708_row3_col2\" class=\"data row3 col2\" >0.680000</td>\n",
              "      <td id=\"T_24708_row3_col3\" class=\"data row3 col3\" >0.149847</td>\n",
              "    </tr>\n",
              "  </tbody>\n",
              "</table>\n",
              "</div>"
            ]
          },
          "metadata": {},
          "output_type": "display_data"
        },
        {
          "data": {
            "application/javascript": [
              "\n",
              "            setTimeout(function() {\n",
              "                var nbb_cell_id = 64;\n",
              "                var nbb_unformatted_code = \"# Resumen mejores modelos 3 grupos.\\n\\ncuadro1 = {\\n    'Modelo': ['Dummy', 'Stacking - RegLog&SVM','Stacking - RegLog&SVM - Hip','Stacking - RegLog&SVM - Hip&Under'],\\n    'Recall': [recall_tv_dum, recall_tv_ensamble1,recall_tv_ensamble1_best,recall_tv_ensamble1_res_best],\\n    'Recall Macro': [recall_tv_macro_dum, recall_tv_macro_ensamble1, recall_tv_macro_ensamble1_best, \\n                     recall_tv_macro_ensamble1_res_best],\\n    'F1 Score': [f1_tv_dum, f1_tv_ensamble1, f1_tv_ensamble1_best,f1_tv_ensamble1_res_best],\\n    'Fit_Time': [tiempo_fit_dummy, tiempo_fit_ensamble1,tiempo_fit_ensamble1_best,tiempo_fit_ensamble1_res_best]\\n}\\n\\n# Crear un DataFrame para almacenar los resultados\\ncuadro1_df = pd.DataFrame(cuadro1,index=cuadro1[\\\"Modelo\\\"])\\ncuadro1_df.drop(columns=['Modelo'], inplace=True)\\n\\n# Ordenar el DataFrame por la columna F1_Tst de mayor a menor\\ncuadro1_df = cuadro1_df.sort_values(by='F1 Score', ascending=False)\\n\\n\\ncuadro2 = {\\n    'Modelo': ['Dummy', 'Stacking - RegLog&SVM','Stacking - RegLog&SVM - Hip','Stacking - RegLog&SVM - Hip&Under'],\\n    'Recall': [recall_test_dum, recall_test_ensamble1,recall_test_ensamble1_best,recall_test_ensamble1_res_best],\\n    'Recall Macro': [recall_test_macro_dum, recall_test_macro_ensamble1,recall_test_macro_ensamble1_best,\\n                     recall_test_macro_ensamble1_res_best],\\n    'F1 Score': [f1_test_dum, f1_test_ensamble1, f1_test_ensamble1_best, f1_test_ensamble1_res_best],\\n    'Fit_Time': [tiempo_fit_dummy, tiempo_fit_ensamble1,tiempo_fit_ensamble1_best,tiempo_fit_ensamble1_res_best]\\n}\\n\\n# Crear un DataFrame para almacenar los resultados\\ncuadro2_df = pd.DataFrame(cuadro2,index=cuadro2[\\\"Modelo\\\"])\\ncuadro2_df.drop(columns=['Modelo'], inplace=True)\\n\\n# Ordenar el DataFrame por la columna F1_Tst de mayor a menor\\ncuadro2_df = cuadro2_df.sort_values(by='F1 Score', ascending=False)\\n\\nprint('Resumen mejores modelos de los tres grupos')\\n\\n# Aqu\\u00ed puedes especificar el axis=0 para columnas o axis=1 para filas\\ndisplay_side_by_side([cuadro1_df, cuadro2_df], ['Conjunto de Entrenamiento', 'Conjunto de Pruebas'],\\n                     color='lightblue', axis=0)\";\n",
              "                var nbb_formatted_code = \"# Resumen mejores modelos 3 grupos.\\n\\ncuadro1 = {\\n    \\\"Modelo\\\": [\\n        \\\"Dummy\\\",\\n        \\\"Stacking - RegLog&SVM\\\",\\n        \\\"Stacking - RegLog&SVM - Hip\\\",\\n        \\\"Stacking - RegLog&SVM - Hip&Under\\\",\\n    ],\\n    \\\"Recall\\\": [\\n        recall_tv_dum,\\n        recall_tv_ensamble1,\\n        recall_tv_ensamble1_best,\\n        recall_tv_ensamble1_res_best,\\n    ],\\n    \\\"Recall Macro\\\": [\\n        recall_tv_macro_dum,\\n        recall_tv_macro_ensamble1,\\n        recall_tv_macro_ensamble1_best,\\n        recall_tv_macro_ensamble1_res_best,\\n    ],\\n    \\\"F1 Score\\\": [\\n        f1_tv_dum,\\n        f1_tv_ensamble1,\\n        f1_tv_ensamble1_best,\\n        f1_tv_ensamble1_res_best,\\n    ],\\n    \\\"Fit_Time\\\": [\\n        tiempo_fit_dummy,\\n        tiempo_fit_ensamble1,\\n        tiempo_fit_ensamble1_best,\\n        tiempo_fit_ensamble1_res_best,\\n    ],\\n}\\n\\n# Crear un DataFrame para almacenar los resultados\\ncuadro1_df = pd.DataFrame(cuadro1, index=cuadro1[\\\"Modelo\\\"])\\ncuadro1_df.drop(columns=[\\\"Modelo\\\"], inplace=True)\\n\\n# Ordenar el DataFrame por la columna F1_Tst de mayor a menor\\ncuadro1_df = cuadro1_df.sort_values(by=\\\"F1 Score\\\", ascending=False)\\n\\n\\ncuadro2 = {\\n    \\\"Modelo\\\": [\\n        \\\"Dummy\\\",\\n        \\\"Stacking - RegLog&SVM\\\",\\n        \\\"Stacking - RegLog&SVM - Hip\\\",\\n        \\\"Stacking - RegLog&SVM - Hip&Under\\\",\\n    ],\\n    \\\"Recall\\\": [\\n        recall_test_dum,\\n        recall_test_ensamble1,\\n        recall_test_ensamble1_best,\\n        recall_test_ensamble1_res_best,\\n    ],\\n    \\\"Recall Macro\\\": [\\n        recall_test_macro_dum,\\n        recall_test_macro_ensamble1,\\n        recall_test_macro_ensamble1_best,\\n        recall_test_macro_ensamble1_res_best,\\n    ],\\n    \\\"F1 Score\\\": [\\n        f1_test_dum,\\n        f1_test_ensamble1,\\n        f1_test_ensamble1_best,\\n        f1_test_ensamble1_res_best,\\n    ],\\n    \\\"Fit_Time\\\": [\\n        tiempo_fit_dummy,\\n        tiempo_fit_ensamble1,\\n        tiempo_fit_ensamble1_best,\\n        tiempo_fit_ensamble1_res_best,\\n    ],\\n}\\n\\n# Crear un DataFrame para almacenar los resultados\\ncuadro2_df = pd.DataFrame(cuadro2, index=cuadro2[\\\"Modelo\\\"])\\ncuadro2_df.drop(columns=[\\\"Modelo\\\"], inplace=True)\\n\\n# Ordenar el DataFrame por la columna F1_Tst de mayor a menor\\ncuadro2_df = cuadro2_df.sort_values(by=\\\"F1 Score\\\", ascending=False)\\n\\nprint(\\\"Resumen mejores modelos de los tres grupos\\\")\\n\\n# Aqu\\u00ed puedes especificar el axis=0 para columnas o axis=1 para filas\\ndisplay_side_by_side(\\n    [cuadro1_df, cuadro2_df],\\n    [\\\"Conjunto de Entrenamiento\\\", \\\"Conjunto de Pruebas\\\"],\\n    color=\\\"lightblue\\\",\\n    axis=0,\\n)\";\n",
              "                var nbb_cells = Jupyter.notebook.get_cells();\n",
              "                for (var i = 0; i < nbb_cells.length; ++i) {\n",
              "                    if (nbb_cells[i].input_prompt_number == nbb_cell_id) {\n",
              "                        if (nbb_cells[i].get_text() == nbb_unformatted_code) {\n",
              "                             nbb_cells[i].set_text(nbb_formatted_code);\n",
              "                        }\n",
              "                        break;\n",
              "                    }\n",
              "                }\n",
              "            }, 500);\n",
              "            "
            ],
            "text/plain": [
              "<IPython.core.display.Javascript object>"
            ]
          },
          "metadata": {},
          "output_type": "display_data"
        }
      ],
      "source": [
        "# Resumen mejores modelos 3 grupos.\n",
        "\n",
        "cuadro1 = {\n",
        "    \"Modelo\": [\n",
        "        \"Dummy\",\n",
        "        \"Stacking - RegLog&SVM\",\n",
        "        \"Stacking - RegLog&SVM - Hip\",\n",
        "        \"Stacking - RegLog&SVM - Hip&Under\",\n",
        "    ],\n",
        "    \"Recall\": [\n",
        "        recall_tv_dum,\n",
        "        recall_tv_ensamble1,\n",
        "        recall_tv_ensamble1_best,\n",
        "        recall_tv_ensamble1_res_best,\n",
        "    ],\n",
        "    \"Recall Macro\": [\n",
        "        recall_tv_macro_dum,\n",
        "        recall_tv_macro_ensamble1,\n",
        "        recall_tv_macro_ensamble1_best,\n",
        "        recall_tv_macro_ensamble1_res_best,\n",
        "    ],\n",
        "    \"F1 Score\": [\n",
        "        f1_tv_dum,\n",
        "        f1_tv_ensamble1,\n",
        "        f1_tv_ensamble1_best,\n",
        "        f1_tv_ensamble1_res_best,\n",
        "    ],\n",
        "    \"Fit_Time\": [\n",
        "        tiempo_fit_dummy,\n",
        "        tiempo_fit_ensamble1,\n",
        "        tiempo_fit_ensamble1_best,\n",
        "        tiempo_fit_ensamble1_res_best,\n",
        "    ],\n",
        "}\n",
        "\n",
        "# Crear un DataFrame para almacenar los resultados\n",
        "cuadro1_df = pd.DataFrame(cuadro1, index=cuadro1[\"Modelo\"])\n",
        "cuadro1_df.drop(columns=[\"Modelo\"], inplace=True)\n",
        "\n",
        "# Ordenar el DataFrame por la columna F1_Tst de mayor a menor\n",
        "cuadro1_df = cuadro1_df.sort_values(by=\"F1 Score\", ascending=False)\n",
        "\n",
        "\n",
        "cuadro2 = {\n",
        "    \"Modelo\": [\n",
        "        \"Dummy\",\n",
        "        \"Stacking - RegLog&SVM\",\n",
        "        \"Stacking - RegLog&SVM - Hip\",\n",
        "        \"Stacking - RegLog&SVM - Hip&Under\",\n",
        "    ],\n",
        "    \"Recall\": [\n",
        "        recall_test_dum,\n",
        "        recall_test_ensamble1,\n",
        "        recall_test_ensamble1_best,\n",
        "        recall_test_ensamble1_res_best,\n",
        "    ],\n",
        "    \"Recall Macro\": [\n",
        "        recall_test_macro_dum,\n",
        "        recall_test_macro_ensamble1,\n",
        "        recall_test_macro_ensamble1_best,\n",
        "        recall_test_macro_ensamble1_res_best,\n",
        "    ],\n",
        "    \"F1 Score\": [\n",
        "        f1_test_dum,\n",
        "        f1_test_ensamble1,\n",
        "        f1_test_ensamble1_best,\n",
        "        f1_test_ensamble1_res_best,\n",
        "    ],\n",
        "    \"Fit_Time\": [\n",
        "        tiempo_fit_dummy,\n",
        "        tiempo_fit_ensamble1,\n",
        "        tiempo_fit_ensamble1_best,\n",
        "        tiempo_fit_ensamble1_res_best,\n",
        "    ],\n",
        "}\n",
        "\n",
        "# Crear un DataFrame para almacenar los resultados\n",
        "cuadro2_df = pd.DataFrame(cuadro2, index=cuadro2[\"Modelo\"])\n",
        "cuadro2_df.drop(columns=[\"Modelo\"], inplace=True)\n",
        "\n",
        "# Ordenar el DataFrame por la columna F1_Tst de mayor a menor\n",
        "cuadro2_df = cuadro2_df.sort_values(by=\"F1 Score\", ascending=False)\n",
        "\n",
        "print(\"Resumen mejores modelos de los tres grupos\")\n",
        "\n",
        "# Aquí puedes especificar el axis=0 para columnas o axis=1 para filas\n",
        "display_side_by_side(\n",
        "    [cuadro1_df, cuadro2_df],\n",
        "    [\"Conjunto de Entrenamiento\", \"Conjunto de Pruebas\"],\n",
        "    color=\"lightblue\",\n",
        "    axis=0,\n",
        ")"
      ]
    },
    {
      "cell_type": "markdown",
      "id": "5bcfa1fe",
      "metadata": {
        "id": "5bcfa1fe"
      },
      "source": [
        "De los modelos anteriores observamos al buscar los mejores hiperparámetros con o sin submuestreo el modelo funciona peor para el conjunto de prueba. Por lo tanto, y tomando en consideración el principio de parsimonia, nos quedamos con el modelo de Stacking de Regresión Logísitiva y SVM usando el conjunto de datos original."
      ]
    }
  ],
  "metadata": {
    "colab": {
      "collapsed_sections": [
        "yrLd5hs1LZMY",
        "4oIRZ5ycHAh0",
        "Lj0MLJO1sCdU",
        "UKP_AyyFWBOs",
        "CKuG3Msfk3jV",
        "bMVRgOsywk-N",
        "EwrQRdy8qEMS",
        "7v_azwrfxibt",
        "y51V-6xp1UY4",
        "VRrWOIbM9JDW",
        "Gnm-UbrL8V_v",
        "Nc-QD9A39NP2"
      ],
      "provenance": [],
      "include_colab_link": true
    },
    "kernelspec": {
      "display_name": "Python 3 (ipykernel)",
      "language": "python",
      "name": "python3"
    },
    "language_info": {
      "codemirror_mode": {
        "name": "ipython",
        "version": 3
      },
      "file_extension": ".py",
      "mimetype": "text/x-python",
      "name": "python",
      "nbconvert_exporter": "python",
      "pygments_lexer": "ipython3",
      "version": "3.9.19"
    }
  },
  "nbformat": 4,
  "nbformat_minor": 5
}